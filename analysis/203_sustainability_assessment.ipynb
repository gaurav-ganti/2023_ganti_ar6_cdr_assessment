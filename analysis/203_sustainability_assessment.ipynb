{
 "cells": [
  {
   "cell_type": "code",
   "execution_count": 1,
   "metadata": {},
   "outputs": [
    {
     "data": {
      "application/javascript": "if (typeof IPython !== 'undefined') { IPython.OutputArea.prototype._should_scroll = function(lines){ return false; }}",
      "text/plain": [
       "<IPython.core.display.Javascript object>"
      ]
     },
     "metadata": {},
     "output_type": "display_data"
    }
   ],
   "source": [
    "import pyam\n",
    "import pandas as pd\n",
    "import numpy as np\n",
    "\n",
    "import matplotlib.pyplot as plt\n",
    "import seaborn as sns\n",
    "import matplotlib.transforms as mtransforms\n",
    "\n",
    "from pathlib import Path"
   ]
  },
  {
   "cell_type": "markdown",
   "metadata": {},
   "source": [
    "Step 1: Read in the compiled CDR dataset."
   ]
  },
  {
   "cell_type": "code",
   "execution_count": 2,
   "metadata": {},
   "outputs": [
    {
     "name": "stderr",
     "output_type": "stream",
     "text": [
      "pyam - INFO: Running in a notebook, setting up a basic logging at level INFO\n",
      "pyam.core - INFO: Reading file ../data/101_data.xlsx\n",
      "pyam.core - INFO: Reading meta indicators\n"
     ]
    }
   ],
   "source": [
    "df = pyam.IamDataFrame(\n",
    "    Path(\n",
    "        '../data/101_data.xlsx'\n",
    "    )\n",
    ")"
   ]
  },
  {
   "cell_type": "markdown",
   "metadata": {},
   "source": [
    "Step 2: Read in the filter sets for bioenergy (PE)"
   ]
  },
  {
   "cell_type": "code",
   "execution_count": 3,
   "metadata": {},
   "outputs": [],
   "source": [
    "filter_set = pd.read_csv(\n",
    "    Path(\n",
    "        '../data/103_filter_set_bio.csv'\n",
    "    ),\n",
    "    index_col=[0,1]\n",
    ")"
   ]
  },
  {
   "cell_type": "code",
   "execution_count": 4,
   "metadata": {},
   "outputs": [],
   "source": [
    "filter_set_small = (\n",
    "    filter_set\n",
    "    .loc[df.meta.index.intersection(filter_set.index)]\n",
    ")"
   ]
  },
  {
   "cell_type": "code",
   "execution_count": 5,
   "metadata": {},
   "outputs": [],
   "source": [
    "df.set_meta(\n",
    "    meta=False,\n",
    "    name='bio_sustainable'\n",
    ")"
   ]
  },
  {
   "cell_type": "code",
   "execution_count": 6,
   "metadata": {},
   "outputs": [],
   "source": [
    "df.set_meta(\n",
    "    meta=True,\n",
    "    name='bio_sustainable',\n",
    "    index=filter_set_small[filter_set_small['bio_sustainable']==True].index\n",
    ")"
   ]
  },
  {
   "cell_type": "code",
   "execution_count": 7,
   "metadata": {},
   "outputs": [],
   "source": [
    "df.set_meta(\n",
    "    meta=filter_set_small['pe_bio_max'],\n",
    "    name='pe_bio_max'\n",
    ")"
   ]
  },
  {
   "cell_type": "markdown",
   "metadata": {},
   "source": [
    "Step 3: For each world region, calculate the cumulative land and novel CDR over two time periods:\n",
    "* 2020 to global net zero CO2\n",
    "* Global net zero CO2 to 2100"
   ]
  },
  {
   "cell_type": "code",
   "execution_count": 8,
   "metadata": {},
   "outputs": [],
   "source": [
    "netzero_year = df.meta.loc[:, 'Year of netzero CO2 emissions (Harm-Infilled) table']"
   ]
  },
  {
   "cell_type": "code",
   "execution_count": 9,
   "metadata": {},
   "outputs": [],
   "source": [
    "netzero_year.fillna(2100, inplace=True)"
   ]
  },
  {
   "cell_type": "code",
   "execution_count": 10,
   "metadata": {},
   "outputs": [],
   "source": [
    "novel_cdr = 'AR6 Reanalysis|OSCARv3.2|Carbon Removal|Non-Land'\n",
    "conventional_cdr = 'AR6 Reanalysis|OSCARv3.2|Carbon Removal|Land'"
   ]
  },
  {
   "cell_type": "code",
   "execution_count": 11,
   "metadata": {},
   "outputs": [],
   "source": [
    "for reg in df.region:\n",
    "    if reg == 'World':\n",
    "        continue\n",
    "    for var in [novel_cdr, conventional_cdr]:\n",
    "        if var == novel_cdr:\n",
    "            meta_prefix = 'novel_cdr'\n",
    "        else:\n",
    "            meta_prefix = 'conventional_cdr'\n",
    "        ts_data = (\n",
    "            df\n",
    "            .filter(\n",
    "                region=reg,\n",
    "                variable=var\n",
    "            )\n",
    "            .timeseries()\n",
    "        )\n",
    "        # The cumulative estimate to net zero\n",
    "        df.set_meta(\n",
    "            meta=ts_data.apply(\n",
    "               lambda x: pyam.cumulative(\n",
    "                   x,\n",
    "                   first_year=2020,\n",
    "                   last_year=netzero_year[x.name[0:2]]\n",
    "               ),\n",
    "               axis=1\n",
    "            ),\n",
    "            name=f'{meta_prefix}_{reg}_2020_netzero'\n",
    "        )\n",
    "        # The cumulative estimate to 2100\n",
    "        df.set_meta(\n",
    "            meta=ts_data.apply(\n",
    "                lambda x: pyam.cumulative(\n",
    "                    x,\n",
    "                    first_year=netzero_year[x.name[0:2]],\n",
    "                    last_year=2100\n",
    "                ),\n",
    "                axis=1\n",
    "            ),\n",
    "            name=f'{meta_prefix}_{reg}_netzero_2100'\n",
    "        )"
   ]
  },
  {
   "cell_type": "markdown",
   "metadata": {},
   "source": [
    "Step 4: Now, let us cut the bioenergy pe into a couple of bins."
   ]
  },
  {
   "cell_type": "code",
   "execution_count": 12,
   "metadata": {},
   "outputs": [],
   "source": [
    "region_to_assess = 'R5ASIA'"
   ]
  },
  {
   "cell_type": "code",
   "execution_count": 13,
   "metadata": {},
   "outputs": [],
   "source": [
    "bins_for_pe = (\n",
    "    pd\n",
    "    .IntervalIndex\n",
    "    .from_tuples(\n",
    "        [\n",
    "            (0, 100),\n",
    "            (100, 300),\n",
    "            (300, 500)\n",
    "        ]\n",
    "    )\n",
    ")\n",
    "bin_maps = dict(\n",
    "    zip(\n",
    "        bins_for_pe,\n",
    "        [\n",
    "            '0-100',\n",
    "            '100-300',\n",
    "            '300-500'\n",
    "        ]\n",
    "    )\n",
    ")"
   ]
  },
  {
   "cell_type": "code",
   "execution_count": 14,
   "metadata": {},
   "outputs": [],
   "source": [
    "df.meta.loc[:, 'category_pe'] = (\n",
    "    pd.cut(\n",
    "        df.meta.loc[:, 'pe_bio_max'],\n",
    "        bins=bins_for_pe\n",
    "    )\n",
    "    .map(bin_maps)\n",
    ")"
   ]
  },
  {
   "cell_type": "markdown",
   "metadata": {},
   "source": [
    "Further format the data so that we can make quick plots to compare stuff."
   ]
  },
  {
   "cell_type": "code",
   "execution_count": 15,
   "metadata": {},
   "outputs": [],
   "source": [
    "cols_to_melt = [\n",
    "    x for x in df.meta.columns if 'novel_cdr' in x or 'conventional_cdr' in x\n",
    "]"
   ]
  },
  {
   "cell_type": "code",
   "execution_count": 16,
   "metadata": {},
   "outputs": [],
   "source": [
    "melted_data = (\n",
    "    pd.melt(\n",
    "        frame=df.meta.reset_index(),\n",
    "        id_vars=['model', 'scenario', 'Category', 'category_pe'],\n",
    "        value_vars=cols_to_melt\n",
    "    )\n",
    ")"
   ]
  },
  {
   "cell_type": "code",
   "execution_count": 17,
   "metadata": {},
   "outputs": [],
   "source": [
    "melted_data['variable'] = melted_data['variable'].apply(\n",
    "    lambda x: x.replace('cdr', 'cdr_World') if 'R5' not in x else x\n",
    ")"
   ]
  },
  {
   "cell_type": "code",
   "execution_count": 18,
   "metadata": {},
   "outputs": [],
   "source": [
    "melted_data.loc[:, 'cdr_type'] = melted_data['variable'].apply(\n",
    "    lambda x: x.split('_')[0] + '_' + x.split('_')[1]\n",
    ")\n",
    "melted_data.loc[:, 'region'] = melted_data['variable'].apply(\n",
    "    lambda x: x.split('_')[2]\n",
    ")\n",
    "melted_data.loc[:, 'timeframe'] = melted_data['variable'].apply(\n",
    "    lambda x: x.split('_')[3] + '_' + x.split('_')[4]\n",
    ")"
   ]
  },
  {
   "cell_type": "code",
   "execution_count": 19,
   "metadata": {},
   "outputs": [],
   "source": [
    "melted_data = melted_data[melted_data['region']!='World']"
   ]
  },
  {
   "cell_type": "code",
   "execution_count": 20,
   "metadata": {},
   "outputs": [
    {
     "data": {
      "text/html": [
       "<div>\n",
       "<style scoped>\n",
       "    .dataframe tbody tr th:only-of-type {\n",
       "        vertical-align: middle;\n",
       "    }\n",
       "\n",
       "    .dataframe tbody tr th {\n",
       "        vertical-align: top;\n",
       "    }\n",
       "\n",
       "    .dataframe thead th {\n",
       "        text-align: right;\n",
       "    }\n",
       "</style>\n",
       "<table border=\"1\" class=\"dataframe\">\n",
       "  <thead>\n",
       "    <tr style=\"text-align: right;\">\n",
       "      <th></th>\n",
       "      <th>model</th>\n",
       "      <th>scenario</th>\n",
       "      <th>Category</th>\n",
       "      <th>category_pe</th>\n",
       "      <th>variable</th>\n",
       "      <th>value</th>\n",
       "      <th>cdr_type</th>\n",
       "      <th>region</th>\n",
       "      <th>timeframe</th>\n",
       "    </tr>\n",
       "  </thead>\n",
       "  <tbody>\n",
       "    <tr>\n",
       "      <th>814</th>\n",
       "      <td>AIM/CGE 2.0</td>\n",
       "      <td>SSP1-26</td>\n",
       "      <td>C3</td>\n",
       "      <td>0-100</td>\n",
       "      <td>novel_cdr_R5ASIA_2020_netzero</td>\n",
       "      <td>24.417455</td>\n",
       "      <td>novel_cdr</td>\n",
       "      <td>R5ASIA</td>\n",
       "      <td>2020_netzero</td>\n",
       "    </tr>\n",
       "    <tr>\n",
       "      <th>815</th>\n",
       "      <td>AIM/CGE 2.0</td>\n",
       "      <td>SSP4-26</td>\n",
       "      <td>C3</td>\n",
       "      <td>100-300</td>\n",
       "      <td>novel_cdr_R5ASIA_2020_netzero</td>\n",
       "      <td>43.587851</td>\n",
       "      <td>novel_cdr</td>\n",
       "      <td>R5ASIA</td>\n",
       "      <td>2020_netzero</td>\n",
       "    </tr>\n",
       "    <tr>\n",
       "      <th>816</th>\n",
       "      <td>AIM/CGE 2.1</td>\n",
       "      <td>CD-LINKS_NPi2020_1000</td>\n",
       "      <td>C3</td>\n",
       "      <td>100-300</td>\n",
       "      <td>novel_cdr_R5ASIA_2020_netzero</td>\n",
       "      <td>22.878625</td>\n",
       "      <td>novel_cdr</td>\n",
       "      <td>R5ASIA</td>\n",
       "      <td>2020_netzero</td>\n",
       "    </tr>\n",
       "    <tr>\n",
       "      <th>817</th>\n",
       "      <td>AIM/CGE 2.1</td>\n",
       "      <td>CD-LINKS_NPi2020_400</td>\n",
       "      <td>C1</td>\n",
       "      <td>100-300</td>\n",
       "      <td>novel_cdr_R5ASIA_2020_netzero</td>\n",
       "      <td>5.437380</td>\n",
       "      <td>novel_cdr</td>\n",
       "      <td>R5ASIA</td>\n",
       "      <td>2020_netzero</td>\n",
       "    </tr>\n",
       "    <tr>\n",
       "      <th>818</th>\n",
       "      <td>AIM/CGE 2.1</td>\n",
       "      <td>CO_Bridge</td>\n",
       "      <td>C3</td>\n",
       "      <td>100-300</td>\n",
       "      <td>novel_cdr_R5ASIA_2020_netzero</td>\n",
       "      <td>82.251699</td>\n",
       "      <td>novel_cdr</td>\n",
       "      <td>R5ASIA</td>\n",
       "      <td>2020_netzero</td>\n",
       "    </tr>\n",
       "    <tr>\n",
       "      <th>...</th>\n",
       "      <td>...</td>\n",
       "      <td>...</td>\n",
       "      <td>...</td>\n",
       "      <td>...</td>\n",
       "      <td>...</td>\n",
       "      <td>...</td>\n",
       "      <td>...</td>\n",
       "      <td>...</td>\n",
       "      <td>...</td>\n",
       "    </tr>\n",
       "    <tr>\n",
       "      <th>8949</th>\n",
       "      <td>WITCH-GLOBIOM 4.4</td>\n",
       "      <td>CD-LINKS_INDC2030i_1600</td>\n",
       "      <td>C3</td>\n",
       "      <td>100-300</td>\n",
       "      <td>conventional_cdr_R5REF_netzero_2100</td>\n",
       "      <td>8.557753</td>\n",
       "      <td>conventional_cdr</td>\n",
       "      <td>R5REF</td>\n",
       "      <td>netzero_2100</td>\n",
       "    </tr>\n",
       "    <tr>\n",
       "      <th>8950</th>\n",
       "      <td>WITCH-GLOBIOM 4.4</td>\n",
       "      <td>CD-LINKS_NDC2030i_1000</td>\n",
       "      <td>C2</td>\n",
       "      <td>100-300</td>\n",
       "      <td>conventional_cdr_R5REF_netzero_2100</td>\n",
       "      <td>20.604691</td>\n",
       "      <td>conventional_cdr</td>\n",
       "      <td>R5REF</td>\n",
       "      <td>netzero_2100</td>\n",
       "    </tr>\n",
       "    <tr>\n",
       "      <th>8951</th>\n",
       "      <td>WITCH-GLOBIOM 4.4</td>\n",
       "      <td>CD-LINKS_NPi2020_1000</td>\n",
       "      <td>C1</td>\n",
       "      <td>100-300</td>\n",
       "      <td>conventional_cdr_R5REF_netzero_2100</td>\n",
       "      <td>14.679515</td>\n",
       "      <td>conventional_cdr</td>\n",
       "      <td>R5REF</td>\n",
       "      <td>netzero_2100</td>\n",
       "    </tr>\n",
       "    <tr>\n",
       "      <th>8952</th>\n",
       "      <td>WITCH-GLOBIOM 4.4</td>\n",
       "      <td>CD-LINKS_NPi2020_1600</td>\n",
       "      <td>C3</td>\n",
       "      <td>100-300</td>\n",
       "      <td>conventional_cdr_R5REF_netzero_2100</td>\n",
       "      <td>4.220197</td>\n",
       "      <td>conventional_cdr</td>\n",
       "      <td>R5REF</td>\n",
       "      <td>netzero_2100</td>\n",
       "    </tr>\n",
       "    <tr>\n",
       "      <th>8953</th>\n",
       "      <td>WITCH-GLOBIOM 4.4</td>\n",
       "      <td>CD-LINKS_NPi2020_400</td>\n",
       "      <td>C1</td>\n",
       "      <td>100-300</td>\n",
       "      <td>conventional_cdr_R5REF_netzero_2100</td>\n",
       "      <td>21.498529</td>\n",
       "      <td>conventional_cdr</td>\n",
       "      <td>R5REF</td>\n",
       "      <td>netzero_2100</td>\n",
       "    </tr>\n",
       "  </tbody>\n",
       "</table>\n",
       "<p>8140 rows × 9 columns</p>\n",
       "</div>"
      ],
      "text/plain": [
       "                  model                 scenario Category category_pe  \\\n",
       "814         AIM/CGE 2.0                  SSP1-26       C3       0-100   \n",
       "815         AIM/CGE 2.0                  SSP4-26       C3     100-300   \n",
       "816         AIM/CGE 2.1    CD-LINKS_NPi2020_1000       C3     100-300   \n",
       "817         AIM/CGE 2.1     CD-LINKS_NPi2020_400       C1     100-300   \n",
       "818         AIM/CGE 2.1                CO_Bridge       C3     100-300   \n",
       "...                 ...                      ...      ...         ...   \n",
       "8949  WITCH-GLOBIOM 4.4  CD-LINKS_INDC2030i_1600       C3     100-300   \n",
       "8950  WITCH-GLOBIOM 4.4   CD-LINKS_NDC2030i_1000       C2     100-300   \n",
       "8951  WITCH-GLOBIOM 4.4    CD-LINKS_NPi2020_1000       C1     100-300   \n",
       "8952  WITCH-GLOBIOM 4.4    CD-LINKS_NPi2020_1600       C3     100-300   \n",
       "8953  WITCH-GLOBIOM 4.4     CD-LINKS_NPi2020_400       C1     100-300   \n",
       "\n",
       "                                 variable      value          cdr_type  \\\n",
       "814         novel_cdr_R5ASIA_2020_netzero  24.417455         novel_cdr   \n",
       "815         novel_cdr_R5ASIA_2020_netzero  43.587851         novel_cdr   \n",
       "816         novel_cdr_R5ASIA_2020_netzero  22.878625         novel_cdr   \n",
       "817         novel_cdr_R5ASIA_2020_netzero   5.437380         novel_cdr   \n",
       "818         novel_cdr_R5ASIA_2020_netzero  82.251699         novel_cdr   \n",
       "...                                   ...        ...               ...   \n",
       "8949  conventional_cdr_R5REF_netzero_2100   8.557753  conventional_cdr   \n",
       "8950  conventional_cdr_R5REF_netzero_2100  20.604691  conventional_cdr   \n",
       "8951  conventional_cdr_R5REF_netzero_2100  14.679515  conventional_cdr   \n",
       "8952  conventional_cdr_R5REF_netzero_2100   4.220197  conventional_cdr   \n",
       "8953  conventional_cdr_R5REF_netzero_2100  21.498529  conventional_cdr   \n",
       "\n",
       "      region     timeframe  \n",
       "814   R5ASIA  2020_netzero  \n",
       "815   R5ASIA  2020_netzero  \n",
       "816   R5ASIA  2020_netzero  \n",
       "817   R5ASIA  2020_netzero  \n",
       "818   R5ASIA  2020_netzero  \n",
       "...      ...           ...  \n",
       "8949   R5REF  netzero_2100  \n",
       "8950   R5REF  netzero_2100  \n",
       "8951   R5REF  netzero_2100  \n",
       "8952   R5REF  netzero_2100  \n",
       "8953   R5REF  netzero_2100  \n",
       "\n",
       "[8140 rows x 9 columns]"
      ]
     },
     "execution_count": 20,
     "metadata": {},
     "output_type": "execute_result"
    }
   ],
   "source": [
    "melted_data"
   ]
  },
  {
   "cell_type": "markdown",
   "metadata": {},
   "source": [
    "# Figure 2"
   ]
  },
  {
   "cell_type": "code",
   "execution_count": 21,
   "metadata": {},
   "outputs": [],
   "source": [
    "data_fig2 = melted_data[melted_data['timeframe']=='2020_netzero']"
   ]
  },
  {
   "cell_type": "code",
   "execution_count": 22,
   "metadata": {},
   "outputs": [],
   "source": [
    "region_labels = {\n",
    "    'R5ASIA':'Asia',\n",
    "    'R5REF':'Reforming\\nEconomies',\n",
    "    'R5OECD90+EU':'OECD\\nand EU',\n",
    "    'R5MAF':'Middle East\\nand Africa',\n",
    "    'R5LAM':'Latin America\\nand Caribbean'\n",
    "}"
   ]
  },
  {
   "cell_type": "code",
   "execution_count": 23,
   "metadata": {},
   "outputs": [
    {
     "name": "stderr",
     "output_type": "stream",
     "text": [
      "/var/folders/nz/kr7bwztj0_d9xrfz1jd4zcdh0000gp/T/ipykernel_2735/3080856939.py:1: SettingWithCopyWarning: \n",
      "A value is trying to be set on a copy of a slice from a DataFrame.\n",
      "Try using .loc[row_indexer,col_indexer] = value instead\n",
      "\n",
      "See the caveats in the documentation: https://pandas.pydata.org/pandas-docs/stable/user_guide/indexing.html#returning-a-view-versus-a-copy\n",
      "  data_fig2.loc[:, 'region'] = data_fig2['region'].map(region_labels)\n"
     ]
    }
   ],
   "source": [
    "data_fig2.loc[:, 'region'] = data_fig2['region'].map(region_labels)"
   ]
  },
  {
   "cell_type": "code",
   "execution_count": 24,
   "metadata": {},
   "outputs": [
    {
     "data": {
      "image/png": "[encoded data removed]",
      "text/plain": [
       "<Figure size 1400x400 with 2 Axes>"
      ]
     },
     "metadata": {},
     "output_type": "display_data"
    }
   ],
   "source": [
    "fig, ax = plt.subplot_mosaic(\n",
    "    \"\"\"\n",
    "    ab\n",
    "    \"\"\",\n",
    "    sharey=True,\n",
    "    figsize=(14,4)\n",
    ")\n",
    "\n",
    "for cdr_type in ['novel_cdr', 'conventional_cdr']:\n",
    "    plot_data = data_fig2[data_fig2['cdr_type']==cdr_type]\n",
    "    p = sns.boxplot(\n",
    "        x='region',\n",
    "        y='value',\n",
    "        hue='category_pe',\n",
    "        data=plot_data,\n",
    "        ax=ax['a'] if cdr_type == 'novel_cdr' else ax['b'],\n",
    "        showfliers=False,\n",
    "        legend=True if cdr_type == 'novel_cdr' else False,\n",
    "        width=0.6,\n",
    "        palette=[\n",
    "            '#4dbdab',\n",
    "            '#7688ab',\n",
    "            '#ee8172'\n",
    "        ]\n",
    "    )\n",
    "    # Set the legend title\n",
    "    if cdr_type=='novel_cdr':\n",
    "        p.legend(title='Maximum global\\nbioenergy demand [EJ/yr]', framealpha=0)\n",
    "        p.set_title('Novel carbon removal', loc='left', weight='bold')\n",
    "    else:\n",
    "        p.set_title('Conventional carbon removal on land', loc='left', weight='bold')\n",
    "    p.set_xlabel('')\n",
    "    p.xaxis.set_tick_params(rotation=0)\n",
    "    p.set_ylabel('Cumulative carbon removal between\\n2020 and global net zero CO$_2$ [GtCO$_2$]')\n",
    "    \n",
    "ax['b'].yaxis.set_tick_params(labelbottom=True)\n",
    "# Handle grids and annotations for subplots\n",
    "for lab,a in ax.items():\n",
    "    a.grid(alpha=0.2)\n",
    "    trans = mtransforms.ScaledTranslation(-20/72, 7/72, fig.dpi_scale_trans)\n",
    "    a.text(0.0, 1.0, lab, transform=a.transAxes + trans,\n",
    "             va='bottom', weight='bold')\n",
    "    a.axhline(0, color='black', linewidth=0.5)\n"
   ]
  },
  {
   "cell_type": "code",
   "execution_count": 25,
   "metadata": {},
   "outputs": [],
   "source": [
    "fig.savefig(\n",
    "    Path(\n",
    "        'figures/fig2_final.png'\n",
    "    ),\n",
    "    bbox_inches='tight',\n",
    "    dpi=400\n",
    ")"
   ]
  }
 ],
 "metadata": {
  "kernelspec": {
   "display_name": "ar6_cdr_assessment",
   "language": "python",
   "name": "python3"
  },
  "language_info": {
   "codemirror_mode": {
    "name": "ipython",
    "version": 3
   },
   "file_extension": ".py",
   "mimetype": "text/x-python",
   "name": "python",
   "nbconvert_exporter": "python",
   "pygments_lexer": "ipython3",
   "version": "3.10.13"
  }
 },
 "nbformat": 4,
 "nbformat_minor": 2
}
