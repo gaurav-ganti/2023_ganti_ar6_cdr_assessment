{
 "cells": [
  {
   "cell_type": "code",
   "execution_count": 1,
   "metadata": {},
   "outputs": [
    {
     "data": {
      "application/javascript": "if (typeof IPython !== 'undefined') { IPython.OutputArea.prototype._should_scroll = function(lines){ return false; }}",
      "text/plain": [
       "<IPython.core.display.Javascript object>"
      ]
     },
     "metadata": {},
     "output_type": "display_data"
    }
   ],
   "source": [
    "import pyam\n",
    "import pandas as pd\n",
    "import numpy as np\n",
    "\n",
    "from pathlib import Path"
   ]
  },
  {
   "cell_type": "markdown",
   "metadata": {},
   "source": [
    "Step 1: Read in the dataset."
   ]
  },
  {
   "cell_type": "code",
   "execution_count": 2,
   "metadata": {},
   "outputs": [
    {
     "name": "stderr",
     "output_type": "stream",
     "text": [
      "pyam - INFO: Running in a notebook, setting up a basic logging at level INFO\n",
      "pyam.core - INFO: Reading file ../data/101_data.xlsx\n",
      "pyam.core - INFO: Reading meta indicators\n"
     ]
    }
   ],
   "source": [
    "df = pyam.IamDataFrame(\n",
    "    Path(\n",
    "        '../data/101_data.xlsx'\n",
    "    )\n",
    ")"
   ]
  },
  {
   "cell_type": "markdown",
   "metadata": {},
   "source": [
    "Step 2: Downselect the necessary data."
   ]
  },
  {
   "cell_type": "code",
   "execution_count": 3,
   "metadata": {},
   "outputs": [],
   "source": [
    "df_co2 = (\n",
    "    df\n",
    "    .filter(\n",
    "        variable='*Emissions|CO2|Direct Only',\n",
    "        region='World'\n",
    "    )\n",
    ")"
   ]
  },
  {
   "cell_type": "markdown",
   "metadata": {},
   "source": [
    "Step 3: Pull out the harmonised \"original\" net zero timings."
   ]
  },
  {
   "cell_type": "code",
   "execution_count": 4,
   "metadata": {},
   "outputs": [],
   "source": [
    "netzero_timings_original = df_co2.meta.loc[:, 'Year of netzero CO2 emissions (Harm-Infilled) table']"
   ]
  },
  {
   "cell_type": "markdown",
   "metadata": {},
   "source": [
    "Step 4: Calculate the net zero timings for the reanalysed dataset."
   ]
  },
  {
   "cell_type": "code",
   "execution_count": 5,
   "metadata": {},
   "outputs": [],
   "source": [
    "df_co2_ts = (\n",
    "    df_co2\n",
    "    .timeseries()\n",
    ")"
   ]
  },
  {
   "cell_type": "code",
   "execution_count": 6,
   "metadata": {},
   "outputs": [],
   "source": [
    "def calculate_netzero(x):\n",
    "    netzero = pyam.cross_threshold(x, 0.1)\n",
    "    return netzero[0] if len(netzero) else np.nan"
   ]
  },
  {
   "cell_type": "code",
   "execution_count": 7,
   "metadata": {},
   "outputs": [],
   "source": [
    "netzero_reanalysed = df_co2_ts.apply(\n",
    "    lambda x: calculate_netzero(x),\n",
    "    axis=1\n",
    ")"
   ]
  },
  {
   "cell_type": "code",
   "execution_count": 8,
   "metadata": {},
   "outputs": [
    {
     "data": {
      "text/plain": [
       "model              scenario                 region  variable                                            unit     \n",
       "AIM/CGE 2.0        SSP1-26                  World   AR6 Reanalysis|OSCARv3.2|Emissions|CO2|Direct Only  Gt CO2/yr    2075.0\n",
       "                   SSP4-26                  World   AR6 Reanalysis|OSCARv3.2|Emissions|CO2|Direct Only  Gt CO2/yr    2078.0\n",
       "AIM/CGE 2.1        CD-LINKS_NPi2020_1000    World   AR6 Reanalysis|OSCARv3.2|Emissions|CO2|Direct Only  Gt CO2/yr    2062.0\n",
       "                   CD-LINKS_NPi2020_400     World   AR6 Reanalysis|OSCARv3.2|Emissions|CO2|Direct Only  Gt CO2/yr    2040.0\n",
       "                   CO_Bridge                World   AR6 Reanalysis|OSCARv3.2|Emissions|CO2|Direct Only  Gt CO2/yr       NaN\n",
       "                                                                                                                      ...  \n",
       "WITCH-GLOBIOM 4.4  CD-LINKS_INDC2030i_1600  World   AR6 Reanalysis|OSCARv3.2|Emissions|CO2|Direct Only  Gt CO2/yr    2090.0\n",
       "                   CD-LINKS_NDC2030i_1000   World   AR6 Reanalysis|OSCARv3.2|Emissions|CO2|Direct Only  Gt CO2/yr    2062.0\n",
       "                   CD-LINKS_NPi2020_1000    World   AR6 Reanalysis|OSCARv3.2|Emissions|CO2|Direct Only  Gt CO2/yr    2074.0\n",
       "                   CD-LINKS_NPi2020_1600    World   AR6 Reanalysis|OSCARv3.2|Emissions|CO2|Direct Only  Gt CO2/yr    2098.0\n",
       "                   CD-LINKS_NPi2020_400     World   AR6 Reanalysis|OSCARv3.2|Emissions|CO2|Direct Only  Gt CO2/yr    2050.0\n",
       "Length: 407, dtype: float64"
      ]
     },
     "execution_count": 8,
     "metadata": {},
     "output_type": "execute_result"
    }
   ],
   "source": [
    "netzero_reanalysed"
   ]
  },
  {
   "cell_type": "code",
   "execution_count": 9,
   "metadata": {},
   "outputs": [
    {
     "data": {
      "text/plain": [
       "count    370.000000\n",
       "mean       1.859459\n",
       "std        6.665181\n",
       "min      -29.000000\n",
       "25%       -1.000000\n",
       "50%        1.000000\n",
       "75%        5.000000\n",
       "max       35.000000\n",
       "dtype: float64"
      ]
     },
     "execution_count": 9,
     "metadata": {},
     "output_type": "execute_result"
    }
   ],
   "source": [
    "(netzero_timings_original - netzero_reanalysed).describe()"
   ]
  }
 ],
 "metadata": {
  "kernelspec": {
   "display_name": "ar6_cdr_assessment",
   "language": "python",
   "name": "python3"
  },
  "language_info": {
   "codemirror_mode": {
    "name": "ipython",
    "version": 3
   },
   "file_extension": ".py",
   "mimetype": "text/x-python",
   "name": "python",
   "nbconvert_exporter": "python",
   "pygments_lexer": "ipython3",
   "version": "3.10.13"
  }
 },
 "nbformat": 4,
 "nbformat_minor": 2
}
