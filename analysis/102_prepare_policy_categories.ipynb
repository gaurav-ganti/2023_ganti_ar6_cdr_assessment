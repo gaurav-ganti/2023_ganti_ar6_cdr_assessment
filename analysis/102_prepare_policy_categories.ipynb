{
 "cells": [
  {
   "cell_type": "code",
   "execution_count": 1,
   "metadata": {},
   "outputs": [
    {
     "data": {
      "application/javascript": "if (typeof IPython !== 'undefined') { IPython.OutputArea.prototype._should_scroll = function(lines){ return false; }}",
      "text/plain": [
       "<IPython.core.display.Javascript object>"
      ]
     },
     "metadata": {},
     "output_type": "display_data"
    }
   ],
   "source": [
    "import pyam\n",
    "import pandas as pd\n",
    "import numpy as np\n",
    "\n",
    "import matplotlib.pyplot as plt\n",
    "\n",
    "from pathlib import Path"
   ]
  },
  {
   "cell_type": "markdown",
   "metadata": {},
   "source": [
    "Step 1: Read in the necessary data."
   ]
  },
  {
   "cell_type": "code",
   "execution_count": 2,
   "metadata": {},
   "outputs": [
    {
     "name": "stderr",
     "output_type": "stream",
     "text": [
      "pyam - INFO: Running in a notebook, setting up a basic logging at level INFO\n",
      "pyam.core - INFO: Reading file ../data/101_data.xlsx\n",
      "pyam.core - INFO: Reading meta indicators\n"
     ]
    }
   ],
   "source": [
    "df = pyam.IamDataFrame(\n",
    "    Path(\n",
    "        '../data/101_data.xlsx'\n",
    "    )\n",
    ")"
   ]
  },
  {
   "cell_type": "markdown",
   "metadata": {},
   "source": [
    "Step 2: Pull out the net emissions estimates from the scenarios and calculate the offset from the year 2020."
   ]
  },
  {
   "cell_type": "code",
   "execution_count": 3,
   "metadata": {},
   "outputs": [],
   "source": [
    "net_emissions_world = (\n",
    "    df\n",
    "    .filter(\n",
    "        variable='AR6 Reanalysis|OSCARv3.2|Emissions|CO2|Direct Only',\n",
    "        year=range(2020, 2101),\n",
    "        region='World'\n",
    "    )\n",
    "    .offset(year=2020)\n",
    "    .timeseries()\n",
    ")"
   ]
  },
  {
   "cell_type": "markdown",
   "metadata": {},
   "source": [
    "Step 3: We now want to have the corresponding 2020 values. We can use this to divide the offset estimates."
   ]
  },
  {
   "cell_type": "code",
   "execution_count": 4,
   "metadata": {},
   "outputs": [],
   "source": [
    "net_emissions_world_2020 = (\n",
    "    df\n",
    "    .filter(\n",
    "        variable='AR6 Reanalysis|OSCARv3.2|Emissions|CO2|Direct Only',\n",
    "        year=2020,\n",
    "        region='World'\n",
    "    )\n",
    "    .timeseries()\n",
    ")"
   ]
  },
  {
   "cell_type": "code",
   "execution_count": 5,
   "metadata": {},
   "outputs": [],
   "source": [
    "percentage_below = (\n",
    "    net_emissions_world.apply(\n",
    "        lambda x: x * 100 / net_emissions_world_2020.loc[x.name, 2020],\n",
    "        axis=1\n",
    "    )\n",
    ")"
   ]
  },
  {
   "cell_type": "markdown",
   "metadata": {},
   "source": [
    "Step 4: Per scenario, we now want the first year when we achieve the 50% below threshold."
   ]
  },
  {
   "cell_type": "code",
   "execution_count": 6,
   "metadata": {},
   "outputs": [],
   "source": [
    "first_year_below_50 = pd.DataFrame(\n",
    "    percentage_below\n",
    "    .apply(\n",
    "        lambda x: x[x<=-50].index.min(),\n",
    "        axis=1\n",
    "    )\n",
    ")"
   ]
  },
  {
   "cell_type": "code",
   "execution_count": 7,
   "metadata": {},
   "outputs": [],
   "source": [
    "first_year_below_50.rename(\n",
    "    columns={\n",
    "        0:'first_year_50_perc'\n",
    "    },\n",
    "    inplace=True\n",
    ")"
   ]
  },
  {
   "cell_type": "code",
   "execution_count": 8,
   "metadata": {},
   "outputs": [],
   "source": [
    "first_year_below_50.loc[:,'first_year_50_perc_from_2020'] = first_year_below_50.loc[:,'first_year_50_perc'] - 2020"
   ]
  },
  {
   "cell_type": "markdown",
   "metadata": {},
   "source": [
    "Step 5: Let us look at the data and then bin them into different categories based on the years until 50% reductions are achieved."
   ]
  },
  {
   "cell_type": "code",
   "execution_count": 9,
   "metadata": {},
   "outputs": [
    {
     "data": {
      "text/plain": [
       "Text(0.5, 0, 'First year when 50% net emission reductions are achieved')"
      ]
     },
     "execution_count": 9,
     "metadata": {},
     "output_type": "execute_result"
    },
    {
     "data": {
      "image/png": "[encoded data removed]",
      "text/plain": [
       "<Figure size 640x480 with 1 Axes>"
      ]
     },
     "metadata": {},
     "output_type": "display_data"
    }
   ],
   "source": [
    "fig, ax = plt.subplots()\n",
    "\n",
    "first_year_below_50['first_year_50_perc'].plot(kind='hist', ax=ax)\n",
    "\n",
    "ax.set_xlabel('First year when 50% net emission reductions are achieved')"
   ]
  },
  {
   "cell_type": "code",
   "execution_count": 10,
   "metadata": {},
   "outputs": [],
   "source": [
    "bins_for_reductions = pd.IntervalIndex.from_tuples(\n",
    "    [\n",
    "        (0,10),\n",
    "        (10, 20),\n",
    "        (20, 30)\n",
    "    ]\n",
    ")"
   ]
  },
  {
   "cell_type": "code",
   "execution_count": 11,
   "metadata": {},
   "outputs": [],
   "source": [
    "bin_maps = dict(\n",
    "    zip(\n",
    "        bins_for_reductions,\n",
    "        #['0-10','10-20','20-30'],\n",
    "        ['2020-2030', '2030-2040', '2040-2050']\n",
    "    )\n",
    ")"
   ]
  },
  {
   "cell_type": "code",
   "execution_count": 12,
   "metadata": {},
   "outputs": [],
   "source": [
    "first_year_below_50.loc[:, 'category_reductions'] = (\n",
    "    pd.cut(\n",
    "        first_year_below_50['first_year_50_perc_from_2020'],\n",
    "        bins=bins_for_reductions, \n",
    "    )\n",
    "    .map(bin_maps)\n",
    ")"
   ]
  },
  {
   "cell_type": "markdown",
   "metadata": {},
   "source": [
    "Step 6: Drop the additional columns so that we can use this as a somewhat generalised metadata frame"
   ]
  },
  {
   "cell_type": "code",
   "execution_count": 13,
   "metadata": {},
   "outputs": [],
   "source": [
    "category_meta = first_year_below_50.droplevel(\n",
    "    [\n",
    "        'region',\n",
    "        'variable',\n",
    "        'unit'\n",
    "    ]\n",
    ")"
   ]
  },
  {
   "cell_type": "markdown",
   "metadata": {},
   "source": [
    "Step 7: Now, we want to do something similar for the global year of net zero (harmonised)."
   ]
  },
  {
   "cell_type": "code",
   "execution_count": 14,
   "metadata": {},
   "outputs": [],
   "source": [
    "bins_net_zero = pd.IntervalIndex.from_tuples(\n",
    "    [\n",
    "        (0,30),\n",
    "        (30, 55),\n",
    "        (55,80)\n",
    "    ]\n",
    ")"
   ]
  },
  {
   "cell_type": "code",
   "execution_count": 15,
   "metadata": {},
   "outputs": [],
   "source": [
    "category_meta.loc[:,'time_until_netzero'] = (\n",
    "    df.meta.loc[:,'Year of netzero CO2 emissions (Harm-Infilled) table']\n",
    "    -\n",
    "    2020\n",
    ")"
   ]
  },
  {
   "cell_type": "markdown",
   "metadata": {},
   "source": [
    "Step 8: There are some NaN. How many, and should we fill this in with 2100?"
   ]
  },
  {
   "cell_type": "code",
   "execution_count": 16,
   "metadata": {},
   "outputs": [
    {
     "data": {
      "text/plain": [
       "first_year_50_perc              1\n",
       "first_year_50_perc_from_2020    1\n",
       "category_reductions             1\n",
       "time_until_netzero              2\n",
       "dtype: int64"
      ]
     },
     "execution_count": 16,
     "metadata": {},
     "output_type": "execute_result"
    }
   ],
   "source": [
    "category_meta.isna().nunique()"
   ]
  },
  {
   "cell_type": "code",
   "execution_count": 17,
   "metadata": {},
   "outputs": [],
   "source": [
    "category_meta.fillna(80, inplace=True)"
   ]
  },
  {
   "cell_type": "markdown",
   "metadata": {},
   "source": [
    "Step 9: Create a similar set of bin maps."
   ]
  },
  {
   "cell_type": "code",
   "execution_count": 18,
   "metadata": {},
   "outputs": [],
   "source": [
    "bin_maps = dict(\n",
    "    zip(\n",
    "        bins_net_zero,\n",
    "        #['0-30', '30-55', '55-80']\n",
    "        ['2020-2050', '2050-2075', '2075-2100']\n",
    "    )\n",
    ")"
   ]
  },
  {
   "cell_type": "markdown",
   "metadata": {},
   "source": [
    "Step 10: Construct the new bins."
   ]
  },
  {
   "cell_type": "code",
   "execution_count": 19,
   "metadata": {},
   "outputs": [],
   "source": [
    "category_meta.loc[:,'category_netzero']=(\n",
    "    pd\n",
    "    .cut(\n",
    "        category_meta['time_until_netzero'],\n",
    "        bins=bins_net_zero\n",
    "    )\n",
    "    .map(bin_maps)\n",
    ")"
   ]
  },
  {
   "cell_type": "code",
   "execution_count": 20,
   "metadata": {},
   "outputs": [
    {
     "data": {
      "text/html": [
       "<div>\n",
       "<style scoped>\n",
       "    .dataframe tbody tr th:only-of-type {\n",
       "        vertical-align: middle;\n",
       "    }\n",
       "\n",
       "    .dataframe tbody tr th {\n",
       "        vertical-align: top;\n",
       "    }\n",
       "\n",
       "    .dataframe thead th {\n",
       "        text-align: right;\n",
       "    }\n",
       "</style>\n",
       "<table border=\"1\" class=\"dataframe\">\n",
       "  <thead>\n",
       "    <tr style=\"text-align: right;\">\n",
       "      <th>category_reductions</th>\n",
       "      <th>2020-2030</th>\n",
       "      <th>2030-2040</th>\n",
       "      <th>2040-2050</th>\n",
       "    </tr>\n",
       "    <tr>\n",
       "      <th>category_netzero</th>\n",
       "      <th></th>\n",
       "      <th></th>\n",
       "      <th></th>\n",
       "    </tr>\n",
       "  </thead>\n",
       "  <tbody>\n",
       "    <tr>\n",
       "      <th>2020-2050</th>\n",
       "      <td>17</td>\n",
       "      <td>33</td>\n",
       "      <td>0</td>\n",
       "    </tr>\n",
       "    <tr>\n",
       "      <th>2050-2075</th>\n",
       "      <td>35</td>\n",
       "      <td>166</td>\n",
       "      <td>72</td>\n",
       "    </tr>\n",
       "    <tr>\n",
       "      <th>2075-2100</th>\n",
       "      <td>4</td>\n",
       "      <td>55</td>\n",
       "      <td>25</td>\n",
       "    </tr>\n",
       "  </tbody>\n",
       "</table>\n",
       "</div>"
      ],
      "text/plain": [
       "category_reductions  2020-2030  2030-2040  2040-2050\n",
       "category_netzero                                    \n",
       "2020-2050                   17         33          0\n",
       "2050-2075                   35        166         72\n",
       "2075-2100                    4         55         25"
      ]
     },
     "execution_count": 20,
     "metadata": {},
     "output_type": "execute_result"
    }
   ],
   "source": [
    "(\n",
    "    category_meta\n",
    "    .groupby(['category_netzero', 'category_reductions'])['first_year_50_perc']\n",
    "    .count()\n",
    "    .unstack()\n",
    ")"
   ]
  },
  {
   "cell_type": "markdown",
   "metadata": {},
   "source": [
    "Step 11: Save out this data for use in the figure 1 analysis."
   ]
  },
  {
   "cell_type": "code",
   "execution_count": 21,
   "metadata": {},
   "outputs": [],
   "source": [
    "category_meta.to_excel(\n",
    "    Path(\n",
    "        '../data/102_delay_categories.xlsx'\n",
    "    ),\n",
    "    merge_cells=False\n",
    ")"
   ]
  }
 ],
 "metadata": {
  "kernelspec": {
   "display_name": "ar6_cdr_assessment",
   "language": "python",
   "name": "python3"
  },
  "language_info": {
   "codemirror_mode": {
    "name": "ipython",
    "version": 3
   },
   "file_extension": ".py",
   "mimetype": "text/x-python",
   "name": "python",
   "nbconvert_exporter": "python",
   "pygments_lexer": "ipython3",
   "version": "3.10.13"
  }
 },
 "nbformat": 4,
 "nbformat_minor": 2
}
