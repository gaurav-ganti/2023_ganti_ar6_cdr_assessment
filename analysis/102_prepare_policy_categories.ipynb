{
 "cells": [
  {
   "cell_type": "code",
   "execution_count": 1,
   "metadata": {},
   "outputs": [
    {
     "data": {
      "application/javascript": "if (typeof IPython !== 'undefined') { IPython.OutputArea.prototype._should_scroll = function(lines){ return false; }}",
      "text/plain": [
       "<IPython.core.display.Javascript object>"
      ]
     },
     "metadata": {},
     "output_type": "display_data"
    }
   ],
   "source": [
    "import pyam\n",
    "import pandas as pd\n",
    "import numpy as np\n",
    "\n",
    "import matplotlib.pyplot as plt\n",
    "\n",
    "from pathlib import Path"
   ]
  },
  {
   "cell_type": "code",
   "execution_count": 2,
   "metadata": {},
   "outputs": [
    {
     "data": {
      "application/javascript": "\n            setTimeout(function() {\n                var nbb_cell_id = 2;\n                var nbb_unformatted_code = \"%load_ext nb_black\";\n                var nbb_formatted_code = \"%load_ext nb_black\";\n                var nbb_cells = Jupyter.notebook.get_cells();\n                for (var i = 0; i < nbb_cells.length; ++i) {\n                    if (nbb_cells[i].input_prompt_number == nbb_cell_id) {\n                        if (nbb_cells[i].get_text() == nbb_unformatted_code) {\n                             nbb_cells[i].set_text(nbb_formatted_code);\n                        }\n                        break;\n                    }\n                }\n            }, 500);\n            ",
      "text/plain": [
       "<IPython.core.display.Javascript object>"
      ]
     },
     "metadata": {},
     "output_type": "display_data"
    }
   ],
   "source": [
    "%load_ext nb_black"
   ]
  },
  {
   "cell_type": "markdown",
   "metadata": {},
   "source": [
    "Step 1: Read in the necessary data. This is prepared in the notebook `101_prepare_input_data.ipynb`"
   ]
  },
  {
   "cell_type": "code",
   "execution_count": 3,
   "metadata": {},
   "outputs": [
    {
     "name": "stderr",
     "output_type": "stream",
     "text": [
      "pyam - INFO: Running in a notebook, setting up a basic logging at level INFO\n",
      "pyam.core - INFO: Reading file ../data/101_data.xlsx\n",
      "pyam.core - INFO: Reading meta indicators\n"
     ]
    },
    {
     "data": {
      "application/javascript": "\n            setTimeout(function() {\n                var nbb_cell_id = 3;\n                var nbb_unformatted_code = \"df = pyam.IamDataFrame(\\n    Path(\\n        '../data/101_data.xlsx'\\n    )\\n)\";\n                var nbb_formatted_code = \"df = pyam.IamDataFrame(Path(\\\"../data/101_data.xlsx\\\"))\";\n                var nbb_cells = Jupyter.notebook.get_cells();\n                for (var i = 0; i < nbb_cells.length; ++i) {\n                    if (nbb_cells[i].input_prompt_number == nbb_cell_id) {\n                        if (nbb_cells[i].get_text() == nbb_unformatted_code) {\n                             nbb_cells[i].set_text(nbb_formatted_code);\n                        }\n                        break;\n                    }\n                }\n            }, 500);\n            ",
      "text/plain": [
       "<IPython.core.display.Javascript object>"
      ]
     },
     "metadata": {},
     "output_type": "display_data"
    }
   ],
   "source": [
    "df = pyam.IamDataFrame(\n",
    "    Path(\n",
    "        '../data/101_data.xlsx'\n",
    "    )\n",
    ")"
   ]
  },
  {
   "cell_type": "markdown",
   "metadata": {},
   "source": [
    "Step 2: Pull out the net CO2 emission (direct) estimates from the scenarios and calculate the offset from the year 2020."
   ]
  },
  {
   "cell_type": "code",
   "execution_count": 4,
   "metadata": {},
   "outputs": [
    {
     "data": {
      "application/javascript": "\n            setTimeout(function() {\n                var nbb_cell_id = 4;\n                var nbb_unformatted_code = \"net_emissions_world = (\\n    df\\n    .filter(\\n        variable='AR6 Reanalysis|OSCARv3.2|Emissions|CO2|Direct Only',\\n        year=range(2020, 2101),\\n        region='World'\\n    )\\n    .offset(year=2020)\\n    .timeseries()\\n)\";\n                var nbb_formatted_code = \"net_emissions_world = (\\n    df.filter(\\n        variable=\\\"AR6 Reanalysis|OSCARv3.2|Emissions|CO2|Direct Only\\\",\\n        year=range(2020, 2101),\\n        region=\\\"World\\\",\\n    )\\n    .offset(year=2020)\\n    .timeseries()\\n)\";\n                var nbb_cells = Jupyter.notebook.get_cells();\n                for (var i = 0; i < nbb_cells.length; ++i) {\n                    if (nbb_cells[i].input_prompt_number == nbb_cell_id) {\n                        if (nbb_cells[i].get_text() == nbb_unformatted_code) {\n                             nbb_cells[i].set_text(nbb_formatted_code);\n                        }\n                        break;\n                    }\n                }\n            }, 500);\n            ",
      "text/plain": [
       "<IPython.core.display.Javascript object>"
      ]
     },
     "metadata": {},
     "output_type": "display_data"
    }
   ],
   "source": [
    "net_emissions_world = (\n",
    "    df\n",
    "    .filter(\n",
    "        variable='AR6 Reanalysis|OSCARv3.2|Emissions|CO2|Direct Only',\n",
    "        year=range(2020, 2101),\n",
    "        region='World'\n",
    "    )\n",
    "    .offset(year=2020)\n",
    "    .timeseries()\n",
    ")"
   ]
  },
  {
   "cell_type": "markdown",
   "metadata": {},
   "source": [
    "Step 3: We now want to have the corresponding 2020 values. We can divide the offset estimates with this 2020 value to get the % reduction."
   ]
  },
  {
   "cell_type": "code",
   "execution_count": 5,
   "metadata": {},
   "outputs": [
    {
     "data": {
      "application/javascript": "\n            setTimeout(function() {\n                var nbb_cell_id = 5;\n                var nbb_unformatted_code = \"net_emissions_world_2020 = (\\n    df\\n    .filter(\\n        variable='AR6 Reanalysis|OSCARv3.2|Emissions|CO2|Direct Only',\\n        year=2020,\\n        region='World'\\n    )\\n    .timeseries()\\n)\";\n                var nbb_formatted_code = \"net_emissions_world_2020 = df.filter(\\n    variable=\\\"AR6 Reanalysis|OSCARv3.2|Emissions|CO2|Direct Only\\\",\\n    year=2020,\\n    region=\\\"World\\\",\\n).timeseries()\";\n                var nbb_cells = Jupyter.notebook.get_cells();\n                for (var i = 0; i < nbb_cells.length; ++i) {\n                    if (nbb_cells[i].input_prompt_number == nbb_cell_id) {\n                        if (nbb_cells[i].get_text() == nbb_unformatted_code) {\n                             nbb_cells[i].set_text(nbb_formatted_code);\n                        }\n                        break;\n                    }\n                }\n            }, 500);\n            ",
      "text/plain": [
       "<IPython.core.display.Javascript object>"
      ]
     },
     "metadata": {},
     "output_type": "display_data"
    }
   ],
   "source": [
    "net_emissions_world_2020 = (\n",
    "    df\n",
    "    .filter(\n",
    "        variable='AR6 Reanalysis|OSCARv3.2|Emissions|CO2|Direct Only',\n",
    "        year=2020,\n",
    "        region='World'\n",
    "    )\n",
    "    .timeseries()\n",
    ")"
   ]
  },
  {
   "cell_type": "code",
   "execution_count": 6,
   "metadata": {},
   "outputs": [
    {
     "data": {
      "application/javascript": "\n            setTimeout(function() {\n                var nbb_cell_id = 6;\n                var nbb_unformatted_code = \"percentage_below = (\\n    net_emissions_world.apply(\\n        lambda x: x * 100 / net_emissions_world_2020.loc[x.name, 2020],\\n        axis=1\\n    )\\n)\";\n                var nbb_formatted_code = \"percentage_below = net_emissions_world.apply(\\n    lambda x: x * 100 / net_emissions_world_2020.loc[x.name, 2020], axis=1\\n)\";\n                var nbb_cells = Jupyter.notebook.get_cells();\n                for (var i = 0; i < nbb_cells.length; ++i) {\n                    if (nbb_cells[i].input_prompt_number == nbb_cell_id) {\n                        if (nbb_cells[i].get_text() == nbb_unformatted_code) {\n                             nbb_cells[i].set_text(nbb_formatted_code);\n                        }\n                        break;\n                    }\n                }\n            }, 500);\n            ",
      "text/plain": [
       "<IPython.core.display.Javascript object>"
      ]
     },
     "metadata": {},
     "output_type": "display_data"
    }
   ],
   "source": [
    "percentage_below = (\n",
    "    net_emissions_world.apply(\n",
    "        lambda x: x * 100 / net_emissions_world_2020.loc[x.name, 2020],\n",
    "        axis=1\n",
    "    )\n",
    ")"
   ]
  },
  {
   "cell_type": "markdown",
   "metadata": {},
   "source": [
    "Step 4: Per scenario, we now want to identify the first year when we achieve the 50% below threshold."
   ]
  },
  {
   "cell_type": "code",
   "execution_count": 7,
   "metadata": {},
   "outputs": [
    {
     "data": {
      "application/javascript": "\n            setTimeout(function() {\n                var nbb_cell_id = 7;\n                var nbb_unformatted_code = \"first_year_below_50 = pd.DataFrame(\\n    percentage_below\\n    .apply(\\n        lambda x: x[x<=-50].index.min(),\\n        axis=1\\n    )\\n)\";\n                var nbb_formatted_code = \"first_year_below_50 = pd.DataFrame(\\n    percentage_below.apply(lambda x: x[x <= -50].index.min(), axis=1)\\n)\";\n                var nbb_cells = Jupyter.notebook.get_cells();\n                for (var i = 0; i < nbb_cells.length; ++i) {\n                    if (nbb_cells[i].input_prompt_number == nbb_cell_id) {\n                        if (nbb_cells[i].get_text() == nbb_unformatted_code) {\n                             nbb_cells[i].set_text(nbb_formatted_code);\n                        }\n                        break;\n                    }\n                }\n            }, 500);\n            ",
      "text/plain": [
       "<IPython.core.display.Javascript object>"
      ]
     },
     "metadata": {},
     "output_type": "display_data"
    }
   ],
   "source": [
    "first_year_below_50 = pd.DataFrame(\n",
    "    percentage_below\n",
    "    .apply(\n",
    "        lambda x: x[x<=-50].index.min(),\n",
    "        axis=1\n",
    "    )\n",
    ")"
   ]
  },
  {
   "cell_type": "code",
   "execution_count": 8,
   "metadata": {},
   "outputs": [
    {
     "data": {
      "application/javascript": "\n            setTimeout(function() {\n                var nbb_cell_id = 8;\n                var nbb_unformatted_code = \"first_year_below_50.rename(\\n    columns={\\n        0:'first_year_50_perc'\\n    },\\n    inplace=True\\n)\";\n                var nbb_formatted_code = \"first_year_below_50.rename(columns={0: \\\"first_year_50_perc\\\"}, inplace=True)\";\n                var nbb_cells = Jupyter.notebook.get_cells();\n                for (var i = 0; i < nbb_cells.length; ++i) {\n                    if (nbb_cells[i].input_prompt_number == nbb_cell_id) {\n                        if (nbb_cells[i].get_text() == nbb_unformatted_code) {\n                             nbb_cells[i].set_text(nbb_formatted_code);\n                        }\n                        break;\n                    }\n                }\n            }, 500);\n            ",
      "text/plain": [
       "<IPython.core.display.Javascript object>"
      ]
     },
     "metadata": {},
     "output_type": "display_data"
    }
   ],
   "source": [
    "first_year_below_50.rename(\n",
    "    columns={\n",
    "        0:'first_year_50_perc'\n",
    "    },\n",
    "    inplace=True\n",
    ")"
   ]
  },
  {
   "cell_type": "code",
   "execution_count": 9,
   "metadata": {},
   "outputs": [
    {
     "data": {
      "application/javascript": "\n            setTimeout(function() {\n                var nbb_cell_id = 9;\n                var nbb_unformatted_code = \"first_year_below_50.loc[:,'first_year_50_perc_from_2020'] = first_year_below_50.loc[:,'first_year_50_perc'] - 2020\";\n                var nbb_formatted_code = \"first_year_below_50.loc[:, \\\"first_year_50_perc_from_2020\\\"] = (\\n    first_year_below_50.loc[:, \\\"first_year_50_perc\\\"] - 2020\\n)\";\n                var nbb_cells = Jupyter.notebook.get_cells();\n                for (var i = 0; i < nbb_cells.length; ++i) {\n                    if (nbb_cells[i].input_prompt_number == nbb_cell_id) {\n                        if (nbb_cells[i].get_text() == nbb_unformatted_code) {\n                             nbb_cells[i].set_text(nbb_formatted_code);\n                        }\n                        break;\n                    }\n                }\n            }, 500);\n            ",
      "text/plain": [
       "<IPython.core.display.Javascript object>"
      ]
     },
     "metadata": {},
     "output_type": "display_data"
    }
   ],
   "source": [
    "first_year_below_50.loc[:,'first_year_50_perc_from_2020'] = first_year_below_50.loc[:,'first_year_50_perc'] - 2020"
   ]
  },
  {
   "cell_type": "markdown",
   "metadata": {},
   "source": [
    "Step 5: Let us look at the data and then bin them into different categories based on the years until 50% reductions are achieved."
   ]
  },
  {
   "cell_type": "code",
   "execution_count": 10,
   "metadata": {},
   "outputs": [
    {
     "data": {
      "text/plain": [
       "Text(0.5, 0, 'First year when 50% net emission reductions are achieved')"
      ]
     },
     "execution_count": 10,
     "metadata": {},
     "output_type": "execute_result"
    },
    {
     "data": {
      "image/png": "[encoded data removed]",
      "text/plain": [
       "<Figure size 640x480 with 1 Axes>"
      ]
     },
     "metadata": {},
     "output_type": "display_data"
    },
    {
     "data": {
      "application/javascript": "\n            setTimeout(function() {\n                var nbb_cell_id = 10;\n                var nbb_unformatted_code = \"fig, ax = plt.subplots()\\n\\nfirst_year_below_50['first_year_50_perc'].plot(kind='hist', ax=ax)\\n\\nax.set_xlabel('First year when 50% net emission reductions are achieved')\";\n                var nbb_formatted_code = \"fig, ax = plt.subplots()\\n\\nfirst_year_below_50[\\\"first_year_50_perc\\\"].plot(kind=\\\"hist\\\", ax=ax)\\n\\nax.set_xlabel(\\\"First year when 50% net emission reductions are achieved\\\")\";\n                var nbb_cells = Jupyter.notebook.get_cells();\n                for (var i = 0; i < nbb_cells.length; ++i) {\n                    if (nbb_cells[i].input_prompt_number == nbb_cell_id) {\n                        if (nbb_cells[i].get_text() == nbb_unformatted_code) {\n                             nbb_cells[i].set_text(nbb_formatted_code);\n                        }\n                        break;\n                    }\n                }\n            }, 500);\n            ",
      "text/plain": [
       "<IPython.core.display.Javascript object>"
      ]
     },
     "metadata": {},
     "output_type": "display_data"
    }
   ],
   "source": [
    "fig, ax = plt.subplots()\n",
    "\n",
    "first_year_below_50['first_year_50_perc'].plot(kind='hist', ax=ax)\n",
    "\n",
    "ax.set_xlabel('First year when 50% net emission reductions are achieved')"
   ]
  },
  {
   "cell_type": "code",
   "execution_count": 11,
   "metadata": {},
   "outputs": [
    {
     "data": {
      "application/javascript": "\n            setTimeout(function() {\n                var nbb_cell_id = 11;\n                var nbb_unformatted_code = \"bins_for_reductions = pd.IntervalIndex.from_tuples(\\n    [\\n        (0,10),\\n        (10, 20),\\n        (20, 30)\\n    ]\\n)\";\n                var nbb_formatted_code = \"bins_for_reductions = pd.IntervalIndex.from_tuples([(0, 10), (10, 20), (20, 30)])\";\n                var nbb_cells = Jupyter.notebook.get_cells();\n                for (var i = 0; i < nbb_cells.length; ++i) {\n                    if (nbb_cells[i].input_prompt_number == nbb_cell_id) {\n                        if (nbb_cells[i].get_text() == nbb_unformatted_code) {\n                             nbb_cells[i].set_text(nbb_formatted_code);\n                        }\n                        break;\n                    }\n                }\n            }, 500);\n            ",
      "text/plain": [
       "<IPython.core.display.Javascript object>"
      ]
     },
     "metadata": {},
     "output_type": "display_data"
    }
   ],
   "source": [
    "bins_for_reductions = pd.IntervalIndex.from_tuples(\n",
    "    [\n",
    "        (0,10),\n",
    "        (10, 20),\n",
    "        (20, 30)\n",
    "    ]\n",
    ")"
   ]
  },
  {
   "cell_type": "code",
   "execution_count": 12,
   "metadata": {},
   "outputs": [
    {
     "data": {
      "application/javascript": "\n            setTimeout(function() {\n                var nbb_cell_id = 12;\n                var nbb_unformatted_code = \"bin_maps = dict(\\n    zip(\\n        bins_for_reductions,\\n        #['0-10','10-20','20-30'],\\n        ['2020-2030', '2030-2040', '2040-2050']\\n    )\\n)\";\n                var nbb_formatted_code = \"bin_maps = dict(\\n    zip(\\n        bins_for_reductions,\\n        # ['0-10','10-20','20-30'],\\n        [\\\"2020-2030\\\", \\\"2030-2040\\\", \\\"2040-2050\\\"],\\n    )\\n)\";\n                var nbb_cells = Jupyter.notebook.get_cells();\n                for (var i = 0; i < nbb_cells.length; ++i) {\n                    if (nbb_cells[i].input_prompt_number == nbb_cell_id) {\n                        if (nbb_cells[i].get_text() == nbb_unformatted_code) {\n                             nbb_cells[i].set_text(nbb_formatted_code);\n                        }\n                        break;\n                    }\n                }\n            }, 500);\n            ",
      "text/plain": [
       "<IPython.core.display.Javascript object>"
      ]
     },
     "metadata": {},
     "output_type": "display_data"
    }
   ],
   "source": [
    "bin_maps = dict(\n",
    "    zip(\n",
    "        bins_for_reductions,\n",
    "        #['0-10','10-20','20-30'],\n",
    "        ['2020-2030', '2030-2040', '2040-2050']\n",
    "    )\n",
    ")"
   ]
  },
  {
   "cell_type": "code",
   "execution_count": 13,
   "metadata": {},
   "outputs": [
    {
     "data": {
      "application/javascript": "\n            setTimeout(function() {\n                var nbb_cell_id = 13;\n                var nbb_unformatted_code = \"first_year_below_50.loc[:, 'category_reductions'] = (\\n    pd.cut(\\n        first_year_below_50['first_year_50_perc_from_2020'],\\n        bins=bins_for_reductions, \\n    )\\n    .map(bin_maps)\\n)\";\n                var nbb_formatted_code = \"first_year_below_50.loc[:, \\\"category_reductions\\\"] = pd.cut(\\n    first_year_below_50[\\\"first_year_50_perc_from_2020\\\"],\\n    bins=bins_for_reductions,\\n).map(bin_maps)\";\n                var nbb_cells = Jupyter.notebook.get_cells();\n                for (var i = 0; i < nbb_cells.length; ++i) {\n                    if (nbb_cells[i].input_prompt_number == nbb_cell_id) {\n                        if (nbb_cells[i].get_text() == nbb_unformatted_code) {\n                             nbb_cells[i].set_text(nbb_formatted_code);\n                        }\n                        break;\n                    }\n                }\n            }, 500);\n            ",
      "text/plain": [
       "<IPython.core.display.Javascript object>"
      ]
     },
     "metadata": {},
     "output_type": "display_data"
    }
   ],
   "source": [
    "first_year_below_50.loc[:, 'category_reductions'] = (\n",
    "    pd.cut(\n",
    "        first_year_below_50['first_year_50_perc_from_2020'],\n",
    "        bins=bins_for_reductions, \n",
    "    )\n",
    "    .map(bin_maps)\n",
    ")"
   ]
  },
  {
   "cell_type": "markdown",
   "metadata": {},
   "source": [
    "Step 6: Drop the additional columns so that we can use this as a somewhat generalised metadata frame"
   ]
  },
  {
   "cell_type": "code",
   "execution_count": 14,
   "metadata": {},
   "outputs": [
    {
     "data": {
      "application/javascript": "\n            setTimeout(function() {\n                var nbb_cell_id = 14;\n                var nbb_unformatted_code = \"category_meta = first_year_below_50.droplevel(\\n    [\\n        'region',\\n        'variable',\\n        'unit'\\n    ]\\n)\";\n                var nbb_formatted_code = \"category_meta = first_year_below_50.droplevel([\\\"region\\\", \\\"variable\\\", \\\"unit\\\"])\";\n                var nbb_cells = Jupyter.notebook.get_cells();\n                for (var i = 0; i < nbb_cells.length; ++i) {\n                    if (nbb_cells[i].input_prompt_number == nbb_cell_id) {\n                        if (nbb_cells[i].get_text() == nbb_unformatted_code) {\n                             nbb_cells[i].set_text(nbb_formatted_code);\n                        }\n                        break;\n                    }\n                }\n            }, 500);\n            ",
      "text/plain": [
       "<IPython.core.display.Javascript object>"
      ]
     },
     "metadata": {},
     "output_type": "display_data"
    }
   ],
   "source": [
    "category_meta = first_year_below_50.droplevel(\n",
    "    [\n",
    "        'region',\n",
    "        'variable',\n",
    "        'unit'\n",
    "    ]\n",
    ")"
   ]
  },
  {
   "cell_type": "markdown",
   "metadata": {},
   "source": [
    "Step 7: Now, we want to do something similar for the global year of net zero (harmonised)."
   ]
  },
  {
   "cell_type": "code",
   "execution_count": 15,
   "metadata": {},
   "outputs": [
    {
     "data": {
      "application/javascript": "\n            setTimeout(function() {\n                var nbb_cell_id = 15;\n                var nbb_unformatted_code = \"bins_net_zero = pd.IntervalIndex.from_tuples(\\n    [\\n        (0,30),\\n        (30, 55),\\n        (55,80)\\n    ]\\n)\";\n                var nbb_formatted_code = \"bins_net_zero = pd.IntervalIndex.from_tuples([(0, 30), (30, 55), (55, 80)])\";\n                var nbb_cells = Jupyter.notebook.get_cells();\n                for (var i = 0; i < nbb_cells.length; ++i) {\n                    if (nbb_cells[i].input_prompt_number == nbb_cell_id) {\n                        if (nbb_cells[i].get_text() == nbb_unformatted_code) {\n                             nbb_cells[i].set_text(nbb_formatted_code);\n                        }\n                        break;\n                    }\n                }\n            }, 500);\n            ",
      "text/plain": [
       "<IPython.core.display.Javascript object>"
      ]
     },
     "metadata": {},
     "output_type": "display_data"
    }
   ],
   "source": [
    "bins_net_zero = pd.IntervalIndex.from_tuples(\n",
    "    [\n",
    "        (0,30),\n",
    "        (30, 55),\n",
    "        (55,80)\n",
    "    ]\n",
    ")"
   ]
  },
  {
   "cell_type": "code",
   "execution_count": 16,
   "metadata": {},
   "outputs": [
    {
     "data": {
      "application/javascript": "\n            setTimeout(function() {\n                var nbb_cell_id = 16;\n                var nbb_unformatted_code = \"category_meta.loc[:,'time_until_netzero'] = (\\n    df.meta.loc[:,'Year of netzero CO2 emissions (Harm-Infilled) table']\\n    -\\n    2020\\n)\";\n                var nbb_formatted_code = \"category_meta.loc[:, \\\"time_until_netzero\\\"] = (\\n    df.meta.loc[:, \\\"Year of netzero CO2 emissions (Harm-Infilled) table\\\"] - 2020\\n)\";\n                var nbb_cells = Jupyter.notebook.get_cells();\n                for (var i = 0; i < nbb_cells.length; ++i) {\n                    if (nbb_cells[i].input_prompt_number == nbb_cell_id) {\n                        if (nbb_cells[i].get_text() == nbb_unformatted_code) {\n                             nbb_cells[i].set_text(nbb_formatted_code);\n                        }\n                        break;\n                    }\n                }\n            }, 500);\n            ",
      "text/plain": [
       "<IPython.core.display.Javascript object>"
      ]
     },
     "metadata": {},
     "output_type": "display_data"
    }
   ],
   "source": [
    "category_meta.loc[:,'time_until_netzero'] = (\n",
    "    df.meta.loc[:,'Year of netzero CO2 emissions (Harm-Infilled) table']\n",
    "    -\n",
    "    2020\n",
    ")"
   ]
  },
  {
   "cell_type": "markdown",
   "metadata": {},
   "source": [
    "Step 8: There are some NaN. How many, and should we fill this in with 2100?"
   ]
  },
  {
   "cell_type": "code",
   "execution_count": 17,
   "metadata": {},
   "outputs": [
    {
     "data": {
      "text/plain": [
       "first_year_50_perc              1\n",
       "first_year_50_perc_from_2020    1\n",
       "category_reductions             1\n",
       "time_until_netzero              1\n",
       "dtype: int64"
      ]
     },
     "execution_count": 17,
     "metadata": {},
     "output_type": "execute_result"
    },
    {
     "data": {
      "application/javascript": "\n            setTimeout(function() {\n                var nbb_cell_id = 17;\n                var nbb_unformatted_code = \"category_meta.isna().nunique()\";\n                var nbb_formatted_code = \"category_meta.isna().nunique()\";\n                var nbb_cells = Jupyter.notebook.get_cells();\n                for (var i = 0; i < nbb_cells.length; ++i) {\n                    if (nbb_cells[i].input_prompt_number == nbb_cell_id) {\n                        if (nbb_cells[i].get_text() == nbb_unformatted_code) {\n                             nbb_cells[i].set_text(nbb_formatted_code);\n                        }\n                        break;\n                    }\n                }\n            }, 500);\n            ",
      "text/plain": [
       "<IPython.core.display.Javascript object>"
      ]
     },
     "metadata": {},
     "output_type": "display_data"
    }
   ],
   "source": [
    "category_meta.isna().nunique()"
   ]
  },
  {
   "cell_type": "code",
   "execution_count": 18,
   "metadata": {},
   "outputs": [
    {
     "data": {
      "application/javascript": "\n            setTimeout(function() {\n                var nbb_cell_id = 18;\n                var nbb_unformatted_code = \"category_meta.fillna(80, inplace=True)\";\n                var nbb_formatted_code = \"category_meta.fillna(80, inplace=True)\";\n                var nbb_cells = Jupyter.notebook.get_cells();\n                for (var i = 0; i < nbb_cells.length; ++i) {\n                    if (nbb_cells[i].input_prompt_number == nbb_cell_id) {\n                        if (nbb_cells[i].get_text() == nbb_unformatted_code) {\n                             nbb_cells[i].set_text(nbb_formatted_code);\n                        }\n                        break;\n                    }\n                }\n            }, 500);\n            ",
      "text/plain": [
       "<IPython.core.display.Javascript object>"
      ]
     },
     "metadata": {},
     "output_type": "display_data"
    }
   ],
   "source": [
    "category_meta.fillna(80, inplace=True)"
   ]
  },
  {
   "cell_type": "markdown",
   "metadata": {},
   "source": [
    "Step 9: Create a similar set of bin maps."
   ]
  },
  {
   "cell_type": "code",
   "execution_count": 19,
   "metadata": {},
   "outputs": [
    {
     "data": {
      "application/javascript": "\n            setTimeout(function() {\n                var nbb_cell_id = 19;\n                var nbb_unformatted_code = \"bin_maps = dict(\\n    zip(\\n        bins_net_zero,\\n        #['0-30', '30-55', '55-80']\\n        ['2020-2050', '2050-2075', '2075-2100']\\n    )\\n)\";\n                var nbb_formatted_code = \"bin_maps = dict(\\n    zip(\\n        bins_net_zero,\\n        # ['0-30', '30-55', '55-80']\\n        [\\\"2020-2050\\\", \\\"2050-2075\\\", \\\"2075-2100\\\"],\\n    )\\n)\";\n                var nbb_cells = Jupyter.notebook.get_cells();\n                for (var i = 0; i < nbb_cells.length; ++i) {\n                    if (nbb_cells[i].input_prompt_number == nbb_cell_id) {\n                        if (nbb_cells[i].get_text() == nbb_unformatted_code) {\n                             nbb_cells[i].set_text(nbb_formatted_code);\n                        }\n                        break;\n                    }\n                }\n            }, 500);\n            ",
      "text/plain": [
       "<IPython.core.display.Javascript object>"
      ]
     },
     "metadata": {},
     "output_type": "display_data"
    }
   ],
   "source": [
    "bin_maps = dict(\n",
    "    zip(\n",
    "        bins_net_zero,\n",
    "        #['0-30', '30-55', '55-80']\n",
    "        ['2020-2050', '2050-2075', '2075-2100']\n",
    "    )\n",
    ")"
   ]
  },
  {
   "cell_type": "markdown",
   "metadata": {},
   "source": [
    "Step 10: Construct the new bins."
   ]
  },
  {
   "cell_type": "code",
   "execution_count": 20,
   "metadata": {},
   "outputs": [
    {
     "data": {
      "application/javascript": "\n            setTimeout(function() {\n                var nbb_cell_id = 20;\n                var nbb_unformatted_code = \"category_meta.loc[:,'category_netzero']=(\\n    pd\\n    .cut(\\n        category_meta['time_until_netzero'],\\n        bins=bins_net_zero\\n    )\\n    .map(bin_maps)\\n)\";\n                var nbb_formatted_code = \"category_meta.loc[:, \\\"category_netzero\\\"] = pd.cut(\\n    category_meta[\\\"time_until_netzero\\\"], bins=bins_net_zero\\n).map(bin_maps)\";\n                var nbb_cells = Jupyter.notebook.get_cells();\n                for (var i = 0; i < nbb_cells.length; ++i) {\n                    if (nbb_cells[i].input_prompt_number == nbb_cell_id) {\n                        if (nbb_cells[i].get_text() == nbb_unformatted_code) {\n                             nbb_cells[i].set_text(nbb_formatted_code);\n                        }\n                        break;\n                    }\n                }\n            }, 500);\n            ",
      "text/plain": [
       "<IPython.core.display.Javascript object>"
      ]
     },
     "metadata": {},
     "output_type": "display_data"
    }
   ],
   "source": [
    "category_meta.loc[:,'category_netzero']=(\n",
    "    pd\n",
    "    .cut(\n",
    "        category_meta['time_until_netzero'],\n",
    "        bins=bins_net_zero\n",
    "    )\n",
    "    .map(bin_maps)\n",
    ")"
   ]
  },
  {
   "cell_type": "code",
   "execution_count": 21,
   "metadata": {},
   "outputs": [
    {
     "data": {
      "text/html": [
       "<div>\n",
       "<style scoped>\n",
       "    .dataframe tbody tr th:only-of-type {\n",
       "        vertical-align: middle;\n",
       "    }\n",
       "\n",
       "    .dataframe tbody tr th {\n",
       "        vertical-align: top;\n",
       "    }\n",
       "\n",
       "    .dataframe thead th {\n",
       "        text-align: right;\n",
       "    }\n",
       "</style>\n",
       "<table border=\"1\" class=\"dataframe\">\n",
       "  <thead>\n",
       "    <tr style=\"text-align: right;\">\n",
       "      <th>category_reductions</th>\n",
       "      <th>2020-2030</th>\n",
       "      <th>2030-2040</th>\n",
       "      <th>2040-2050</th>\n",
       "    </tr>\n",
       "    <tr>\n",
       "      <th>category_netzero</th>\n",
       "      <th></th>\n",
       "      <th></th>\n",
       "      <th></th>\n",
       "    </tr>\n",
       "  </thead>\n",
       "  <tbody>\n",
       "    <tr>\n",
       "      <th>2020-2050</th>\n",
       "      <td>17</td>\n",
       "      <td>33</td>\n",
       "      <td>0</td>\n",
       "    </tr>\n",
       "    <tr>\n",
       "      <th>2050-2075</th>\n",
       "      <td>35</td>\n",
       "      <td>166</td>\n",
       "      <td>66</td>\n",
       "    </tr>\n",
       "    <tr>\n",
       "      <th>2075-2100</th>\n",
       "      <td>4</td>\n",
       "      <td>55</td>\n",
       "      <td>25</td>\n",
       "    </tr>\n",
       "  </tbody>\n",
       "</table>\n",
       "</div>"
      ],
      "text/plain": [
       "category_reductions  2020-2030  2030-2040  2040-2050\n",
       "category_netzero                                    \n",
       "2020-2050                   17         33          0\n",
       "2050-2075                   35        166         66\n",
       "2075-2100                    4         55         25"
      ]
     },
     "execution_count": 21,
     "metadata": {},
     "output_type": "execute_result"
    },
    {
     "data": {
      "application/javascript": "\n            setTimeout(function() {\n                var nbb_cell_id = 21;\n                var nbb_unformatted_code = \"(\\n    category_meta\\n    .groupby(['category_netzero', 'category_reductions'])['first_year_50_perc']\\n    .count()\\n    .unstack()\\n)\";\n                var nbb_formatted_code = \"(\\n    category_meta.groupby([\\\"category_netzero\\\", \\\"category_reductions\\\"])[\\n        \\\"first_year_50_perc\\\"\\n    ]\\n    .count()\\n    .unstack()\\n)\";\n                var nbb_cells = Jupyter.notebook.get_cells();\n                for (var i = 0; i < nbb_cells.length; ++i) {\n                    if (nbb_cells[i].input_prompt_number == nbb_cell_id) {\n                        if (nbb_cells[i].get_text() == nbb_unformatted_code) {\n                             nbb_cells[i].set_text(nbb_formatted_code);\n                        }\n                        break;\n                    }\n                }\n            }, 500);\n            ",
      "text/plain": [
       "<IPython.core.display.Javascript object>"
      ]
     },
     "metadata": {},
     "output_type": "display_data"
    }
   ],
   "source": [
    "(\n",
    "    category_meta\n",
    "    .groupby(['category_netzero', 'category_reductions'])['first_year_50_perc']\n",
    "    .count()\n",
    "    .unstack()\n",
    ")"
   ]
  },
  {
   "cell_type": "markdown",
   "metadata": {},
   "source": [
    "Step 11: Save out this data for use in figure 1"
   ]
  },
  {
   "cell_type": "code",
   "execution_count": 22,
   "metadata": {},
   "outputs": [
    {
     "data": {
      "application/javascript": "\n            setTimeout(function() {\n                var nbb_cell_id = 22;\n                var nbb_unformatted_code = \"category_meta.to_excel(\\n    Path(\\n        '../data/102_delay_categories.xlsx'\\n    ),\\n    merge_cells=False\\n)\";\n                var nbb_formatted_code = \"category_meta.to_excel(Path(\\\"../data/102_delay_categories.xlsx\\\"), merge_cells=False)\";\n                var nbb_cells = Jupyter.notebook.get_cells();\n                for (var i = 0; i < nbb_cells.length; ++i) {\n                    if (nbb_cells[i].input_prompt_number == nbb_cell_id) {\n                        if (nbb_cells[i].get_text() == nbb_unformatted_code) {\n                             nbb_cells[i].set_text(nbb_formatted_code);\n                        }\n                        break;\n                    }\n                }\n            }, 500);\n            ",
      "text/plain": [
       "<IPython.core.display.Javascript object>"
      ]
     },
     "metadata": {},
     "output_type": "display_data"
    }
   ],
   "source": [
    "category_meta.to_excel(\n",
    "    Path(\n",
    "        '../data/102_delay_categories.xlsx'\n",
    "    ),\n",
    "    merge_cells=False\n",
    ")"
   ]
  }
 ],
 "metadata": {
  "kernelspec": {
   "display_name": "ar6_cdr_assessment",
   "language": "python",
   "name": "python3"
  },
  "language_info": {
   "codemirror_mode": {
    "name": "ipython",
    "version": 3
   },
   "file_extension": ".py",
   "mimetype": "text/x-python",
   "name": "python",
   "nbconvert_exporter": "python",
   "pygments_lexer": "ipython3",
   "version": "3.10.14"
  }
 },
 "nbformat": 4,
 "nbformat_minor": 2
}
