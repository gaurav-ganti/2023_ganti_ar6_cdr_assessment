{
 "cells": [
  {
   "cell_type": "code",
   "execution_count": 1,
   "metadata": {},
   "outputs": [
    {
     "data": {
      "application/javascript": "if (typeof IPython !== 'undefined') { IPython.OutputArea.prototype._should_scroll = function(lines){ return false; }}",
      "text/plain": [
       "<IPython.core.display.Javascript object>"
      ]
     },
     "metadata": {},
     "output_type": "display_data"
    }
   ],
   "source": [
    "import pyam\n",
    "import pandas as pd\n",
    "\n",
    "import tradeoff.ecpc_calculator as tecpc\n",
    "\n",
    "import matplotlib.pyplot as plt\n",
    "from pathlib import Path"
   ]
  },
  {
   "cell_type": "markdown",
   "metadata": {},
   "source": [
    "Step 1: Read in the data"
   ]
  },
  {
   "cell_type": "code",
   "execution_count": 2,
   "metadata": {},
   "outputs": [
    {
     "name": "stderr",
     "output_type": "stream",
     "text": [
      "pyam - INFO: Running in a notebook, setting up a basic logging at level INFO\n",
      "pyam.core - INFO: Reading file ../data/101_data.xlsx\n",
      "pyam.core - INFO: Reading meta indicators\n"
     ]
    }
   ],
   "source": [
    "df = pyam.IamDataFrame(\n",
    "    Path(\n",
    "        '../data/101_data.xlsx'\n",
    "    )    \n",
    ")"
   ]
  },
  {
   "cell_type": "markdown",
   "metadata": {},
   "source": [
    "Step 2: Filter out the necessary variables."
   ]
  },
  {
   "cell_type": "code",
   "execution_count": 3,
   "metadata": {},
   "outputs": [],
   "source": [
    "df_for_equity = df.filter(\n",
    "    region='R5*',\n",
    "    variable=[\n",
    "        'AR6 Reanalysis|OSCARv3.2|Emissions|CO2|Direct Only',\n",
    "        'Population'\n",
    "    ]\n",
    ")"
   ]
  },
  {
   "cell_type": "code",
   "execution_count": 4,
   "metadata": {},
   "outputs": [],
   "source": [
    "df_for_equity.interpolate(\n",
    "    time=range(2005, 2101),\n",
    "    inplace=True\n",
    ")"
   ]
  },
  {
   "cell_type": "markdown",
   "metadata": {},
   "source": [
    "Step 3: Aggregate a \"World\" region."
   ]
  },
  {
   "cell_type": "code",
   "execution_count": 5,
   "metadata": {},
   "outputs": [],
   "source": [
    "df_for_equity.aggregate_region(\n",
    "    region='World',\n",
    "    variable=df_for_equity.variable,\n",
    "    subregions=df_for_equity.region,\n",
    "    append=True\n",
    ")"
   ]
  },
  {
   "cell_type": "code",
   "execution_count": 6,
   "metadata": {},
   "outputs": [
    {
     "name": "stderr",
     "output_type": "stream",
     "text": [
      "pyam.core - INFO: 19 scenarios do not include required variable `Population`, marked as `exclude: True` in `meta`\n"
     ]
    }
   ],
   "source": [
    "df_for_equity.require_variable(\n",
    "    'Population',\n",
    "    exclude_on_fail=True\n",
    ")\n",
    "df_for_equity.filter(\n",
    "    exclude=False,\n",
    "    inplace=True\n",
    ")"
   ]
  },
  {
   "cell_type": "markdown",
   "metadata": {},
   "source": [
    "Step 4: Now, calculate the fair shares from 2005."
   ]
  },
  {
   "cell_type": "code",
   "execution_count": 7,
   "metadata": {},
   "outputs": [],
   "source": [
    "results = []\n",
    "for (mod, scen) in df_for_equity.meta.index:\n",
    "    df_to_crunch = df_for_equity.filter(\n",
    "        model=mod,\n",
    "        scenario=scen\n",
    "    )\n",
    "    result = tecpc.calculate_carbon_debt(\n",
    "        in_df=df_to_crunch,\n",
    "        emission_var='AR6 Reanalysis|OSCARv3.2|Emissions|CO2|Direct Only',\n",
    "        start_year=2010,\n",
    "        end_year=2100\n",
    "    )\n",
    "    results.append(result)"
   ]
  },
  {
   "cell_type": "code",
   "execution_count": 8,
   "metadata": {},
   "outputs": [],
   "source": [
    "results_pyam = pyam.concat(results)"
   ]
  },
  {
   "cell_type": "markdown",
   "metadata": {},
   "source": [
    "Step 5: Pull out the year of global net zero CO2 from the original dataframe."
   ]
  },
  {
   "cell_type": "code",
   "execution_count": 9,
   "metadata": {},
   "outputs": [],
   "source": [
    "netzero_column = 'Year of netzero CO2 emissions (Harm-Infilled) table'"
   ]
  },
  {
   "cell_type": "code",
   "execution_count": 10,
   "metadata": {},
   "outputs": [],
   "source": [
    "netzero_values = df_for_equity.meta.loc[:, netzero_column]"
   ]
  },
  {
   "cell_type": "code",
   "execution_count": 11,
   "metadata": {},
   "outputs": [],
   "source": [
    "netzero_values = netzero_values.fillna(2100)"
   ]
  },
  {
   "cell_type": "markdown",
   "metadata": {},
   "source": [
    "Step 6: First, add the cumulative debt between 2010 and 2019."
   ]
  },
  {
   "cell_type": "code",
   "execution_count": 12,
   "metadata": {},
   "outputs": [
    {
     "data": {
      "text/plain": [
       "['AR6 Reanalysis|OSCARv3.2|Emissions|CO2|Direct Only',\n",
       " 'Emissions|Debt',\n",
       " 'Emissions|Fair',\n",
       " 'Population',\n",
       " 'Population|Share']"
      ]
     },
     "execution_count": 12,
     "metadata": {},
     "output_type": "execute_result"
    }
   ],
   "source": [
    "results_pyam.variable"
   ]
  },
  {
   "cell_type": "code",
   "execution_count": 13,
   "metadata": {},
   "outputs": [],
   "source": [
    "for reg in results_pyam.region:\n",
    "    if reg=='World':\n",
    "        continue\n",
    "    else:\n",
    "        ts = (\n",
    "            results_pyam\n",
    "            .filter(\n",
    "                variable='Emissions|Debt',\n",
    "                region=reg\n",
    "            )\n",
    "            .timeseries()\n",
    "        )\n",
    "        results_pyam.set_meta(\n",
    "            ts.apply(\n",
    "                lambda x: pyam.cumulative(\n",
    "                    x,\n",
    "                    first_year=2010,\n",
    "                    last_year=2019\n",
    "                ),\n",
    "                axis=1\n",
    "            ),\n",
    "            name=f'cumulative_debt_{reg}'\n",
    "        )"
   ]
  },
  {
   "cell_type": "markdown",
   "metadata": {},
   "source": [
    "Step 7: Now we need to add in the cumulative fair share on a per capita basis between 2020 and net zero (global)."
   ]
  },
  {
   "cell_type": "code",
   "execution_count": 14,
   "metadata": {},
   "outputs": [],
   "source": [
    "for reg in results_pyam.region:\n",
    "    if reg == 'World':\n",
    "        continue\n",
    "    else:\n",
    "        ts = (\n",
    "            results_pyam\n",
    "            .filter(\n",
    "                variable='Emissions|Fair',\n",
    "                region=reg\n",
    "            )\n",
    "            .timeseries()\n",
    "        )\n",
    "        results_pyam.set_meta(\n",
    "            ts.apply(\n",
    "                lambda x: pyam.cumulative(\n",
    "                    x,\n",
    "                    first_year=2020,\n",
    "                    last_year=results_pyam.meta.loc[x.name[0:2], netzero_column]\n",
    "                ),\n",
    "                axis=1\n",
    "            ),\n",
    "            name=f'cumulative_fair_{reg}'\n",
    "        )"
   ]
  },
  {
   "cell_type": "code",
   "execution_count": 15,
   "metadata": {},
   "outputs": [],
   "source": [
    "for reg in results_pyam.region:\n",
    "    if reg=='World':\n",
    "        continue\n",
    "    else:\n",
    "        results_pyam.meta.loc[:, f'benchmark_{reg}'] = (\n",
    "            results_pyam.meta.loc[:, f'cumulative_fair_{reg}']\n",
    "            -\n",
    "            results_pyam.meta.loc[:, f'cumulative_debt_{reg}']\n",
    "        )"
   ]
  },
  {
   "cell_type": "code",
   "execution_count": 16,
   "metadata": {},
   "outputs": [],
   "source": [
    "cols_to_summarise = [\n",
    "    x for x in results_pyam.meta.columns if 'benchmark' in x\n",
    "]"
   ]
  },
  {
   "cell_type": "markdown",
   "metadata": {},
   "source": [
    "Step 8: Pull out resulting fair shares and write this out."
   ]
  },
  {
   "cell_type": "code",
   "execution_count": 17,
   "metadata": {},
   "outputs": [],
   "source": [
    "fair_shares = (\n",
    "    results_pyam\n",
    "    .meta\n",
    "    .groupby('Category')[cols_to_summarise]\n",
    "    .describe()\n",
    "    .T\n",
    "    .round(0)\n",
    ")"
   ]
  },
  {
   "cell_type": "code",
   "execution_count": 18,
   "metadata": {},
   "outputs": [],
   "source": [
    "fair_shares.to_excel(\n",
    "    Path(\n",
    "        '../data/102_fair_share_benchmarks.xlsx'\n",
    "    )\n",
    ")"
   ]
  }
 ],
 "metadata": {
  "kernelspec": {
   "display_name": "tradeoff_scenarios",
   "language": "python",
   "name": "python3"
  },
  "language_info": {
   "codemirror_mode": {
    "name": "ipython",
    "version": 3
   },
   "file_extension": ".py",
   "mimetype": "text/x-python",
   "name": "python",
   "nbconvert_exporter": "python",
   "pygments_lexer": "ipython3",
   "version": "3.8.13"
  },
  "orig_nbformat": 4
 },
 "nbformat": 4,
 "nbformat_minor": 2
}
