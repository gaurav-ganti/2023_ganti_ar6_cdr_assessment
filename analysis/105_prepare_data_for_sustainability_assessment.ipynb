{
 "cells": [
  {
   "cell_type": "code",
   "execution_count": 1,
   "metadata": {},
   "outputs": [
    {
     "data": {
      "application/javascript": "if (typeof IPython !== 'undefined') { IPython.OutputArea.prototype._should_scroll = function(lines){ return false; }}",
      "text/plain": [
       "<IPython.core.display.Javascript object>"
      ]
     },
     "metadata": {},
     "output_type": "display_data"
    }
   ],
   "source": [
    "import pyam\n",
    "import pandas as pd\n",
    "import numpy as np\n",
    "import matplotlib.pyplot as plt\n",
    "from pathlib import Path"
   ]
  },
  {
   "cell_type": "code",
   "execution_count": 2,
   "metadata": {},
   "outputs": [
    {
     "data": {
      "application/javascript": "\n            setTimeout(function() {\n                var nbb_cell_id = 2;\n                var nbb_unformatted_code = \"%load_ext nb_black\";\n                var nbb_formatted_code = \"%load_ext nb_black\";\n                var nbb_cells = Jupyter.notebook.get_cells();\n                for (var i = 0; i < nbb_cells.length; ++i) {\n                    if (nbb_cells[i].input_prompt_number == nbb_cell_id) {\n                        if (nbb_cells[i].get_text() == nbb_unformatted_code) {\n                             nbb_cells[i].set_text(nbb_formatted_code);\n                        }\n                        break;\n                    }\n                }\n            }, 500);\n            ",
      "text/plain": [
       "<IPython.core.display.Javascript object>"
      ]
     },
     "metadata": {},
     "output_type": "display_data"
    }
   ],
   "source": [
    "%load_ext nb_black"
   ]
  },
  {
   "cell_type": "markdown",
   "metadata": {},
   "source": [
    "Step 1: Read in the compiled CDR dataset."
   ]
  },
  {
   "cell_type": "code",
   "execution_count": 3,
   "metadata": {},
   "outputs": [
    {
     "name": "stderr",
     "output_type": "stream",
     "text": [
      "pyam - INFO: Running in a notebook, setting up a basic logging at level INFO\n",
      "pyam.core - INFO: Reading file ../data/101_data.xlsx\n",
      "pyam.core - INFO: Reading meta indicators\n"
     ]
    },
    {
     "data": {
      "application/javascript": "\n            setTimeout(function() {\n                var nbb_cell_id = 3;\n                var nbb_unformatted_code = \"df = pyam.IamDataFrame(\\n    Path(\\n        '../data/101_data.xlsx'\\n    )\\n)\";\n                var nbb_formatted_code = \"df = pyam.IamDataFrame(Path(\\\"../data/101_data.xlsx\\\"))\";\n                var nbb_cells = Jupyter.notebook.get_cells();\n                for (var i = 0; i < nbb_cells.length; ++i) {\n                    if (nbb_cells[i].input_prompt_number == nbb_cell_id) {\n                        if (nbb_cells[i].get_text() == nbb_unformatted_code) {\n                             nbb_cells[i].set_text(nbb_formatted_code);\n                        }\n                        break;\n                    }\n                }\n            }, 500);\n            ",
      "text/plain": [
       "<IPython.core.display.Javascript object>"
      ]
     },
     "metadata": {},
     "output_type": "display_data"
    }
   ],
   "source": [
    "df = pyam.IamDataFrame(\n",
    "    Path(\n",
    "        '../data/101_data.xlsx'\n",
    "    )\n",
    ")"
   ]
  },
  {
   "cell_type": "markdown",
   "metadata": {},
   "source": [
    "Step 2: Read in the filter sets for land and pe bio that we prepared in the previous notebook."
   ]
  },
  {
   "cell_type": "code",
   "execution_count": 4,
   "metadata": {},
   "outputs": [
    {
     "data": {
      "application/javascript": "\n            setTimeout(function() {\n                var nbb_cell_id = 4;\n                var nbb_unformatted_code = \"filter_set_land = pd.read_csv(\\n    Path(\\n        '../data/103_filter_set_land.csv'\\n    ),\\n    index_col=[0,1]\\n)\";\n                var nbb_formatted_code = \"filter_set_land = pd.read_csv(Path(\\\"../data/103_filter_set_land.csv\\\"), index_col=[0, 1])\";\n                var nbb_cells = Jupyter.notebook.get_cells();\n                for (var i = 0; i < nbb_cells.length; ++i) {\n                    if (nbb_cells[i].input_prompt_number == nbb_cell_id) {\n                        if (nbb_cells[i].get_text() == nbb_unformatted_code) {\n                             nbb_cells[i].set_text(nbb_formatted_code);\n                        }\n                        break;\n                    }\n                }\n            }, 500);\n            ",
      "text/plain": [
       "<IPython.core.display.Javascript object>"
      ]
     },
     "metadata": {},
     "output_type": "display_data"
    }
   ],
   "source": [
    "filter_set_land = pd.read_csv(\n",
    "    Path(\n",
    "        '../data/103_filter_set_land.csv'\n",
    "    ),\n",
    "    index_col=[0,1]\n",
    ")"
   ]
  },
  {
   "cell_type": "code",
   "execution_count": 5,
   "metadata": {},
   "outputs": [
    {
     "data": {
      "application/javascript": "\n            setTimeout(function() {\n                var nbb_cell_id = 5;\n                var nbb_unformatted_code = \"filter_set_bio = pd.read_csv(\\n    Path(\\n        '../data/103_filter_set_bio.csv'\\n    ),\\n    index_col=[0,1]\\n)\";\n                var nbb_formatted_code = \"filter_set_bio = pd.read_csv(Path(\\\"../data/103_filter_set_bio.csv\\\"), index_col=[0, 1])\";\n                var nbb_cells = Jupyter.notebook.get_cells();\n                for (var i = 0; i < nbb_cells.length; ++i) {\n                    if (nbb_cells[i].input_prompt_number == nbb_cell_id) {\n                        if (nbb_cells[i].get_text() == nbb_unformatted_code) {\n                             nbb_cells[i].set_text(nbb_formatted_code);\n                        }\n                        break;\n                    }\n                }\n            }, 500);\n            ",
      "text/plain": [
       "<IPython.core.display.Javascript object>"
      ]
     },
     "metadata": {},
     "output_type": "display_data"
    }
   ],
   "source": [
    "filter_set_bio = pd.read_csv(\n",
    "    Path(\n",
    "        '../data/103_filter_set_bio.csv'\n",
    "    ),\n",
    "    index_col=[0,1]\n",
    ")"
   ]
  },
  {
   "cell_type": "markdown",
   "metadata": {},
   "source": [
    "Step 3: Concatenate the two so that we can assign this to the global CDR dataset."
   ]
  },
  {
   "cell_type": "code",
   "execution_count": 6,
   "metadata": {},
   "outputs": [
    {
     "data": {
      "application/javascript": "\n            setTimeout(function() {\n                var nbb_cell_id = 6;\n                var nbb_unformatted_code = \"filter_all = pd.concat(\\n    [\\n        filter_set_land,\\n        filter_set_bio\\n    ],\\n    axis=1\\n)\";\n                var nbb_formatted_code = \"filter_all = pd.concat([filter_set_land, filter_set_bio], axis=1)\";\n                var nbb_cells = Jupyter.notebook.get_cells();\n                for (var i = 0; i < nbb_cells.length; ++i) {\n                    if (nbb_cells[i].input_prompt_number == nbb_cell_id) {\n                        if (nbb_cells[i].get_text() == nbb_unformatted_code) {\n                             nbb_cells[i].set_text(nbb_formatted_code);\n                        }\n                        break;\n                    }\n                }\n            }, 500);\n            ",
      "text/plain": [
       "<IPython.core.display.Javascript object>"
      ]
     },
     "metadata": {},
     "output_type": "display_data"
    }
   ],
   "source": [
    "filter_all = pd.concat(\n",
    "    [\n",
    "        filter_set_land,\n",
    "        filter_set_bio\n",
    "    ],\n",
    "    axis=1\n",
    ")"
   ]
  },
  {
   "cell_type": "code",
   "execution_count": 7,
   "metadata": {},
   "outputs": [
    {
     "data": {
      "application/javascript": "\n            setTimeout(function() {\n                var nbb_cell_id = 7;\n                var nbb_unformatted_code = \"filter_all_overlap = (\\n    filter_all\\n    .loc[\\n        df.meta.index.intersection(filter_all.index)\\n    ]\\n)\";\n                var nbb_formatted_code = \"filter_all_overlap = filter_all.loc[df.meta.index.intersection(filter_all.index)]\";\n                var nbb_cells = Jupyter.notebook.get_cells();\n                for (var i = 0; i < nbb_cells.length; ++i) {\n                    if (nbb_cells[i].input_prompt_number == nbb_cell_id) {\n                        if (nbb_cells[i].get_text() == nbb_unformatted_code) {\n                             nbb_cells[i].set_text(nbb_formatted_code);\n                        }\n                        break;\n                    }\n                }\n            }, 500);\n            ",
      "text/plain": [
       "<IPython.core.display.Javascript object>"
      ]
     },
     "metadata": {},
     "output_type": "display_data"
    }
   ],
   "source": [
    "filter_all_overlap = (\n",
    "    filter_all\n",
    "    .loc[\n",
    "        df.meta.index.intersection(filter_all.index)\n",
    "    ]\n",
    ")"
   ]
  },
  {
   "cell_type": "markdown",
   "metadata": {},
   "source": [
    "Step 4: Create a new metadata column and assign the two sets of netzero values."
   ]
  },
  {
   "cell_type": "code",
   "execution_count": 8,
   "metadata": {},
   "outputs": [
    {
     "data": {
      "text/plain": [
       "Index(['exclude', 'land_cover_max', 'land_cover_netzero', 'land_sustainable',\n",
       "       'exclude', 'pe_bio_max', 'pe_bio_netzero', 'bio_sustainable'],\n",
       "      dtype='object')"
      ]
     },
     "execution_count": 8,
     "metadata": {},
     "output_type": "execute_result"
    },
    {
     "data": {
      "application/javascript": "\n            setTimeout(function() {\n                var nbb_cell_id = 8;\n                var nbb_unformatted_code = \"filter_all_overlap.columns\";\n                var nbb_formatted_code = \"filter_all_overlap.columns\";\n                var nbb_cells = Jupyter.notebook.get_cells();\n                for (var i = 0; i < nbb_cells.length; ++i) {\n                    if (nbb_cells[i].input_prompt_number == nbb_cell_id) {\n                        if (nbb_cells[i].get_text() == nbb_unformatted_code) {\n                             nbb_cells[i].set_text(nbb_formatted_code);\n                        }\n                        break;\n                    }\n                }\n            }, 500);\n            ",
      "text/plain": [
       "<IPython.core.display.Javascript object>"
      ]
     },
     "metadata": {},
     "output_type": "display_data"
    }
   ],
   "source": [
    "filter_all_overlap.columns"
   ]
  },
  {
   "cell_type": "code",
   "execution_count": 9,
   "metadata": {},
   "outputs": [
    {
     "data": {
      "application/javascript": "\n            setTimeout(function() {\n                var nbb_cell_id = 9;\n                var nbb_unformatted_code = \"cols = ['land_cover_netzero', 'pe_bio_netzero']\";\n                var nbb_formatted_code = \"cols = [\\\"land_cover_netzero\\\", \\\"pe_bio_netzero\\\"]\";\n                var nbb_cells = Jupyter.notebook.get_cells();\n                for (var i = 0; i < nbb_cells.length; ++i) {\n                    if (nbb_cells[i].input_prompt_number == nbb_cell_id) {\n                        if (nbb_cells[i].get_text() == nbb_unformatted_code) {\n                             nbb_cells[i].set_text(nbb_formatted_code);\n                        }\n                        break;\n                    }\n                }\n            }, 500);\n            ",
      "text/plain": [
       "<IPython.core.display.Javascript object>"
      ]
     },
     "metadata": {},
     "output_type": "display_data"
    }
   ],
   "source": [
    "cols = ['land_cover_netzero', 'pe_bio_netzero']"
   ]
  },
  {
   "cell_type": "code",
   "execution_count": 10,
   "metadata": {},
   "outputs": [
    {
     "data": {
      "application/javascript": "\n            setTimeout(function() {\n                var nbb_cell_id = 10;\n                var nbb_unformatted_code = \"for c in cols:\\n    df.set_meta(\\n        meta=filter_all_overlap[c],\\n        name=c\\n    )\";\n                var nbb_formatted_code = \"for c in cols:\\n    df.set_meta(meta=filter_all_overlap[c], name=c)\";\n                var nbb_cells = Jupyter.notebook.get_cells();\n                for (var i = 0; i < nbb_cells.length; ++i) {\n                    if (nbb_cells[i].input_prompt_number == nbb_cell_id) {\n                        if (nbb_cells[i].get_text() == nbb_unformatted_code) {\n                             nbb_cells[i].set_text(nbb_formatted_code);\n                        }\n                        break;\n                    }\n                }\n            }, 500);\n            ",
      "text/plain": [
       "<IPython.core.display.Javascript object>"
      ]
     },
     "metadata": {},
     "output_type": "display_data"
    }
   ],
   "source": [
    "for c in cols:\n",
    "    df.set_meta(\n",
    "        meta=filter_all_overlap[c],\n",
    "        name=c\n",
    "    )"
   ]
  },
  {
   "cell_type": "markdown",
   "metadata": {},
   "source": [
    "Step 5: For each world region, we now want to calculate the cumulative land and novel CDR over two time periods:\n",
    "* 2020 to global net zero CO2\n",
    "* Global net zero CO2 to 2100"
   ]
  },
  {
   "cell_type": "code",
   "execution_count": 11,
   "metadata": {},
   "outputs": [
    {
     "data": {
      "application/javascript": "\n            setTimeout(function() {\n                var nbb_cell_id = 11;\n                var nbb_unformatted_code = \"netzero_year = df.meta.loc[\\n    :,\\n    'Year of netzero CO2 emissions (Harm-Infilled) table'\\n]\";\n                var nbb_formatted_code = \"netzero_year = df.meta.loc[:, \\\"Year of netzero CO2 emissions (Harm-Infilled) table\\\"]\";\n                var nbb_cells = Jupyter.notebook.get_cells();\n                for (var i = 0; i < nbb_cells.length; ++i) {\n                    if (nbb_cells[i].input_prompt_number == nbb_cell_id) {\n                        if (nbb_cells[i].get_text() == nbb_unformatted_code) {\n                             nbb_cells[i].set_text(nbb_formatted_code);\n                        }\n                        break;\n                    }\n                }\n            }, 500);\n            ",
      "text/plain": [
       "<IPython.core.display.Javascript object>"
      ]
     },
     "metadata": {},
     "output_type": "display_data"
    }
   ],
   "source": [
    "netzero_year = df.meta.loc[\n",
    "    :,\n",
    "    'Year of netzero CO2 emissions (Harm-Infilled) table'\n",
    "]"
   ]
  },
  {
   "cell_type": "code",
   "execution_count": 12,
   "metadata": {},
   "outputs": [
    {
     "data": {
      "text/plain": [
       "array([2090, 2077, 2064, 2046, 2100, 2067, 2060, 2070, 2074, 2075, 2055,\n",
       "       2059, 2062, 2069, 2065, 2072, 2080, 2085, 2061, 2045, 2049, 2030,\n",
       "       2035, 2033, 2040, 2037, 2041, 2050, 2054, 2058, 2066, 2078, 2094,\n",
       "       2079, 2073, 2071, 2052, 2086, 2087, 2051, 2048, 2047, 2043, 2082,\n",
       "       2068, 2056, 2088, 2076, 2063, 2053, 2057, 2095, 2097, 2081, 2099,\n",
       "       2096, 2044, 2092, 2083, 2084, 2089])"
      ]
     },
     "execution_count": 12,
     "metadata": {},
     "output_type": "execute_result"
    },
    {
     "data": {
      "application/javascript": "\n            setTimeout(function() {\n                var nbb_cell_id = 12;\n                var nbb_unformatted_code = \"netzero_year.unique()\";\n                var nbb_formatted_code = \"netzero_year.unique()\";\n                var nbb_cells = Jupyter.notebook.get_cells();\n                for (var i = 0; i < nbb_cells.length; ++i) {\n                    if (nbb_cells[i].input_prompt_number == nbb_cell_id) {\n                        if (nbb_cells[i].get_text() == nbb_unformatted_code) {\n                             nbb_cells[i].set_text(nbb_formatted_code);\n                        }\n                        break;\n                    }\n                }\n            }, 500);\n            ",
      "text/plain": [
       "<IPython.core.display.Javascript object>"
      ]
     },
     "metadata": {},
     "output_type": "display_data"
    }
   ],
   "source": [
    "netzero_year.unique()"
   ]
  },
  {
   "cell_type": "code",
   "execution_count": 13,
   "metadata": {},
   "outputs": [
    {
     "data": {
      "application/javascript": "\n            setTimeout(function() {\n                var nbb_cell_id = 13;\n                var nbb_unformatted_code = \"novel_cdr = 'AR6 Reanalysis|OSCARv3.2|Carbon Removal|Non-Land'\\nconventional_cdr = 'AR6 Reanalysis|OSCARv3.2|Carbon Removal|Land'\";\n                var nbb_formatted_code = \"novel_cdr = \\\"AR6 Reanalysis|OSCARv3.2|Carbon Removal|Non-Land\\\"\\nconventional_cdr = \\\"AR6 Reanalysis|OSCARv3.2|Carbon Removal|Land\\\"\";\n                var nbb_cells = Jupyter.notebook.get_cells();\n                for (var i = 0; i < nbb_cells.length; ++i) {\n                    if (nbb_cells[i].input_prompt_number == nbb_cell_id) {\n                        if (nbb_cells[i].get_text() == nbb_unformatted_code) {\n                             nbb_cells[i].set_text(nbb_formatted_code);\n                        }\n                        break;\n                    }\n                }\n            }, 500);\n            ",
      "text/plain": [
       "<IPython.core.display.Javascript object>"
      ]
     },
     "metadata": {},
     "output_type": "display_data"
    }
   ],
   "source": [
    "novel_cdr = 'AR6 Reanalysis|OSCARv3.2|Carbon Removal|Non-Land'\n",
    "conventional_cdr = 'AR6 Reanalysis|OSCARv3.2|Carbon Removal|Land'"
   ]
  },
  {
   "cell_type": "code",
   "execution_count": 14,
   "metadata": {},
   "outputs": [
    {
     "data": {
      "application/javascript": "\n            setTimeout(function() {\n                var nbb_cell_id = 14;\n                var nbb_unformatted_code = \"for reg in df.region:\\n    if reg == 'World':\\n        continue\\n    for var in [novel_cdr, conventional_cdr]:\\n        if var == novel_cdr:\\n            meta_prefix = 'novel_cdr'\\n        else:\\n            meta_prefix = 'conventional_cdr'\\n        ts_data = (\\n            df\\n            .filter(\\n                region=reg,\\n                variable=var\\n            )\\n            .timeseries()\\n        )\\n        # The cumulative estimate to net zero\\n        df.set_meta(\\n            meta=ts_data.apply(\\n               lambda x: pyam.cumulative(\\n                   x,\\n                   first_year=2020,\\n                   last_year=netzero_year[x.name[0:2]]\\n               ),\\n               axis=1\\n            ),\\n            name=f'{meta_prefix}_{reg}_2020_netzero'\\n        )\\n        # The cumulative estimate to 2100\\n        df.set_meta(\\n            meta=ts_data.apply(\\n                lambda x: pyam.cumulative(\\n                    x,\\n                    first_year=netzero_year[x.name[0:2]],\\n                    last_year=2100\\n                ),\\n                axis=1\\n            ),\\n            name=f'{meta_prefix}_{reg}_netzero_2100'\\n        )\";\n                var nbb_formatted_code = \"for reg in df.region:\\n    if reg == \\\"World\\\":\\n        continue\\n    for var in [novel_cdr, conventional_cdr]:\\n        if var == novel_cdr:\\n            meta_prefix = \\\"novel_cdr\\\"\\n        else:\\n            meta_prefix = \\\"conventional_cdr\\\"\\n        ts_data = df.filter(region=reg, variable=var).timeseries()\\n        # The cumulative estimate to net zero\\n        df.set_meta(\\n            meta=ts_data.apply(\\n                lambda x: pyam.cumulative(\\n                    x, first_year=2020, last_year=netzero_year[x.name[0:2]]\\n                ),\\n                axis=1,\\n            ),\\n            name=f\\\"{meta_prefix}_{reg}_2020_netzero\\\",\\n        )\\n        # The cumulative estimate to 2100\\n        df.set_meta(\\n            meta=ts_data.apply(\\n                lambda x: pyam.cumulative(\\n                    x, first_year=netzero_year[x.name[0:2]], last_year=2100\\n                ),\\n                axis=1,\\n            ),\\n            name=f\\\"{meta_prefix}_{reg}_netzero_2100\\\",\\n        )\";\n                var nbb_cells = Jupyter.notebook.get_cells();\n                for (var i = 0; i < nbb_cells.length; ++i) {\n                    if (nbb_cells[i].input_prompt_number == nbb_cell_id) {\n                        if (nbb_cells[i].get_text() == nbb_unformatted_code) {\n                             nbb_cells[i].set_text(nbb_formatted_code);\n                        }\n                        break;\n                    }\n                }\n            }, 500);\n            ",
      "text/plain": [
       "<IPython.core.display.Javascript object>"
      ]
     },
     "metadata": {},
     "output_type": "display_data"
    }
   ],
   "source": [
    "for reg in df.region:\n",
    "    if reg == 'World':\n",
    "        continue\n",
    "    for var in [novel_cdr, conventional_cdr]:\n",
    "        if var == novel_cdr:\n",
    "            meta_prefix = 'novel_cdr'\n",
    "        else:\n",
    "            meta_prefix = 'conventional_cdr'\n",
    "        ts_data = (\n",
    "            df\n",
    "            .filter(\n",
    "                region=reg,\n",
    "                variable=var\n",
    "            )\n",
    "            .timeseries()\n",
    "        )\n",
    "        # The cumulative estimate to net zero\n",
    "        df.set_meta(\n",
    "            meta=ts_data.apply(\n",
    "               lambda x: pyam.cumulative(\n",
    "                   x,\n",
    "                   first_year=2020,\n",
    "                   last_year=netzero_year[x.name[0:2]]\n",
    "               ),\n",
    "               axis=1\n",
    "            ),\n",
    "            name=f'{meta_prefix}_{reg}_2020_netzero'\n",
    "        )\n",
    "        # The cumulative estimate to 2100\n",
    "        df.set_meta(\n",
    "            meta=ts_data.apply(\n",
    "                lambda x: pyam.cumulative(\n",
    "                    x,\n",
    "                    first_year=netzero_year[x.name[0:2]],\n",
    "                    last_year=2100\n",
    "                ),\n",
    "                axis=1\n",
    "            ),\n",
    "            name=f'{meta_prefix}_{reg}_netzero_2100'\n",
    "        )"
   ]
  },
  {
   "cell_type": "markdown",
   "metadata": {},
   "source": [
    "Step 6: Now, we want a processing function that takes the following information:\n",
    "* The column to categorise by\n",
    "* Bins\n",
    "* Bin labels\n",
    "\n",
    "And then returns a melted dataframe with the categories that are ready to plot."
   ]
  },
  {
   "cell_type": "code",
   "execution_count": 15,
   "metadata": {},
   "outputs": [
    {
     "data": {
      "application/javascript": "\n            setTimeout(function() {\n                var nbb_cell_id = 15;\n                var nbb_unformatted_code = \"def process_data(\\n        col,\\n        bins,\\n        bin_labels\\n):\\n    \\\"\\\"\\\"Helper function to process and bin data\\\"\\\"\\\"\\n    df.meta.loc[:, f'category_{col}'] = (\\n        pd.cut(\\n            df.meta.loc[:, col],\\n            bins=bins\\n        )\\n        .map(bin_labels)\\n    )\\n    # Step 6.1: Decide which columns need to be melted.\\n    cols_to_melt = [\\n        x for x in df.meta.columns if 'novel_cdr' in x or 'conventional_cdr' in x\\n    ]\\n    # Step 6.2: Melt the dataframe\\n    melted_data = (\\n        pd.melt(\\n            frame=df.meta.reset_index(),\\n            id_vars=['model', 'scenario', 'Category', f'category_{col}'],\\n            value_vars=cols_to_melt\\n        )\\n    )\\n    # Step 6.3: Split the variable column\\n    melted_data['variable'] = melted_data['variable'].apply(\\n        lambda x: x.replace('cdr', 'cdr_World') if 'R5' not in x else x\\n    )\\n    melted_data.loc[:, 'cdr_type'] = melted_data['variable'].apply(\\n        lambda x: x.split('_')[0] + '_' + x.split('_')[1]\\n    )\\n    melted_data.loc[:, 'region'] = melted_data['variable'].apply(\\n        lambda x: x.split('_')[2]\\n    )\\n    melted_data.loc[:, 'timeframe'] = melted_data['variable'].apply(\\n        lambda x: x.split('_')[3] + '_' + x.split('_')[4]\\n    )\\n    return melted_data\";\n                var nbb_formatted_code = \"def process_data(col, bins, bin_labels):\\n    \\\"\\\"\\\"Helper function to process and bin data\\\"\\\"\\\"\\n    df.meta.loc[:, f\\\"category_{col}\\\"] = pd.cut(df.meta.loc[:, col], bins=bins).map(\\n        bin_labels\\n    )\\n    # Step 6.1: Decide which columns need to be melted.\\n    cols_to_melt = [\\n        x for x in df.meta.columns if \\\"novel_cdr\\\" in x or \\\"conventional_cdr\\\" in x\\n    ]\\n    # Step 6.2: Melt the dataframe\\n    melted_data = pd.melt(\\n        frame=df.meta.reset_index(),\\n        id_vars=[\\\"model\\\", \\\"scenario\\\", \\\"Category\\\", f\\\"category_{col}\\\"],\\n        value_vars=cols_to_melt,\\n    )\\n    # Step 6.3: Split the variable column\\n    melted_data[\\\"variable\\\"] = melted_data[\\\"variable\\\"].apply(\\n        lambda x: x.replace(\\\"cdr\\\", \\\"cdr_World\\\") if \\\"R5\\\" not in x else x\\n    )\\n    melted_data.loc[:, \\\"cdr_type\\\"] = melted_data[\\\"variable\\\"].apply(\\n        lambda x: x.split(\\\"_\\\")[0] + \\\"_\\\" + x.split(\\\"_\\\")[1]\\n    )\\n    melted_data.loc[:, \\\"region\\\"] = melted_data[\\\"variable\\\"].apply(\\n        lambda x: x.split(\\\"_\\\")[2]\\n    )\\n    melted_data.loc[:, \\\"timeframe\\\"] = melted_data[\\\"variable\\\"].apply(\\n        lambda x: x.split(\\\"_\\\")[3] + \\\"_\\\" + x.split(\\\"_\\\")[4]\\n    )\\n    return melted_data\";\n                var nbb_cells = Jupyter.notebook.get_cells();\n                for (var i = 0; i < nbb_cells.length; ++i) {\n                    if (nbb_cells[i].input_prompt_number == nbb_cell_id) {\n                        if (nbb_cells[i].get_text() == nbb_unformatted_code) {\n                             nbb_cells[i].set_text(nbb_formatted_code);\n                        }\n                        break;\n                    }\n                }\n            }, 500);\n            ",
      "text/plain": [
       "<IPython.core.display.Javascript object>"
      ]
     },
     "metadata": {},
     "output_type": "display_data"
    }
   ],
   "source": [
    "def process_data(\n",
    "        col,\n",
    "        bins,\n",
    "        bin_labels\n",
    "):\n",
    "    \"\"\"Helper function to process and bin data\"\"\"\n",
    "    df.meta.loc[:, f'category_{col}'] = (\n",
    "        pd.cut(\n",
    "            df.meta.loc[:, col],\n",
    "            bins=bins\n",
    "        )\n",
    "        .map(bin_labels)\n",
    "    )\n",
    "    # Step 6.1: Decide which columns need to be melted.\n",
    "    cols_to_melt = [\n",
    "        x for x in df.meta.columns if 'novel_cdr' in x or 'conventional_cdr' in x\n",
    "    ]\n",
    "    # Step 6.2: Melt the dataframe\n",
    "    melted_data = (\n",
    "        pd.melt(\n",
    "            frame=df.meta.reset_index(),\n",
    "            id_vars=['model', 'scenario', 'Category', f'category_{col}'],\n",
    "            value_vars=cols_to_melt\n",
    "        )\n",
    "    )\n",
    "    # Step 6.3: Split the variable column\n",
    "    melted_data['variable'] = melted_data['variable'].apply(\n",
    "        lambda x: x.replace('cdr', 'cdr_World') if 'R5' not in x else x\n",
    "    )\n",
    "    melted_data.loc[:, 'cdr_type'] = melted_data['variable'].apply(\n",
    "        lambda x: x.split('_')[0] + '_' + x.split('_')[1]\n",
    "    )\n",
    "    melted_data.loc[:, 'region'] = melted_data['variable'].apply(\n",
    "        lambda x: x.split('_')[2]\n",
    "    )\n",
    "    melted_data.loc[:, 'timeframe'] = melted_data['variable'].apply(\n",
    "        lambda x: x.split('_')[3] + '_' + x.split('_')[4]\n",
    "    )\n",
    "    return melted_data"
   ]
  },
  {
   "cell_type": "markdown",
   "metadata": {},
   "source": [
    "Step 7: Let us start with the land area filters."
   ]
  },
  {
   "cell_type": "code",
   "execution_count": 16,
   "metadata": {},
   "outputs": [
    {
     "data": {
      "application/javascript": "\n            setTimeout(function() {\n                var nbb_cell_id = 16;\n                var nbb_unformatted_code = \"bins_for_land = (\\n    pd\\n    .IntervalIndex\\n    .from_tuples(\\n        [\\n            (0, 100),\\n            (100, 400),\\n            (400, 2000)\\n        ]\\n    )\\n)\\nland_labels = dict(\\n    zip(\\n        bins_for_land,\\n        [\\n            '0-100',\\n            '100-400',\\n            '400+'\\n        ]\\n    )\\n)\\nland_estimates = process_data(\\n    col='land_cover_netzero',\\n    bins=bins_for_land,\\n    bin_labels=land_labels\\n)\";\n                var nbb_formatted_code = \"bins_for_land = pd.IntervalIndex.from_tuples([(0, 100), (100, 400), (400, 2000)])\\nland_labels = dict(zip(bins_for_land, [\\\"0-100\\\", \\\"100-400\\\", \\\"400+\\\"]))\\nland_estimates = process_data(\\n    col=\\\"land_cover_netzero\\\", bins=bins_for_land, bin_labels=land_labels\\n)\";\n                var nbb_cells = Jupyter.notebook.get_cells();\n                for (var i = 0; i < nbb_cells.length; ++i) {\n                    if (nbb_cells[i].input_prompt_number == nbb_cell_id) {\n                        if (nbb_cells[i].get_text() == nbb_unformatted_code) {\n                             nbb_cells[i].set_text(nbb_formatted_code);\n                        }\n                        break;\n                    }\n                }\n            }, 500);\n            ",
      "text/plain": [
       "<IPython.core.display.Javascript object>"
      ]
     },
     "metadata": {},
     "output_type": "display_data"
    }
   ],
   "source": [
    "bins_for_land = (\n",
    "    pd\n",
    "    .IntervalIndex\n",
    "    .from_tuples(\n",
    "        [\n",
    "            (0, 100),\n",
    "            (100, 400),\n",
    "            (400, 2000)\n",
    "        ]\n",
    "    )\n",
    ")\n",
    "land_labels = dict(\n",
    "    zip(\n",
    "        bins_for_land,\n",
    "        [\n",
    "            '0-100',\n",
    "            '100-400',\n",
    "            '400+'\n",
    "        ]\n",
    "    )\n",
    ")\n",
    "land_estimates = process_data(\n",
    "    col='land_cover_netzero',\n",
    "    bins=bins_for_land,\n",
    "    bin_labels=land_labels\n",
    ")"
   ]
  },
  {
   "cell_type": "markdown",
   "metadata": {},
   "source": [
    "Step 8: Now let us move on to the bioenergy demand filters."
   ]
  },
  {
   "cell_type": "code",
   "execution_count": 17,
   "metadata": {},
   "outputs": [
    {
     "data": {
      "application/javascript": "\n            setTimeout(function() {\n                var nbb_cell_id = 17;\n                var nbb_unformatted_code = \"bins_for_pe = (\\n    pd\\n    .IntervalIndex\\n    .from_tuples(\\n        [\\n            (0, 100),\\n            (100, 200),\\n            (200, 1000)\\n        ]\\n    )\\n)\\npe_labels = dict(\\n    zip(\\n        bins_for_pe,\\n        [\\n            '0-100',\\n            '100-200',\\n            '200+'\\n        ]\\n    )\\n)\\nbio_estimates = process_data(\\n    col='pe_bio_netzero',\\n    bins=bins_for_pe,\\n    bin_labels=pe_labels\\n)\";\n                var nbb_formatted_code = \"bins_for_pe = pd.IntervalIndex.from_tuples([(0, 100), (100, 200), (200, 1000)])\\npe_labels = dict(zip(bins_for_pe, [\\\"0-100\\\", \\\"100-200\\\", \\\"200+\\\"]))\\nbio_estimates = process_data(\\n    col=\\\"pe_bio_netzero\\\", bins=bins_for_pe, bin_labels=pe_labels\\n)\";\n                var nbb_cells = Jupyter.notebook.get_cells();\n                for (var i = 0; i < nbb_cells.length; ++i) {\n                    if (nbb_cells[i].input_prompt_number == nbb_cell_id) {\n                        if (nbb_cells[i].get_text() == nbb_unformatted_code) {\n                             nbb_cells[i].set_text(nbb_formatted_code);\n                        }\n                        break;\n                    }\n                }\n            }, 500);\n            ",
      "text/plain": [
       "<IPython.core.display.Javascript object>"
      ]
     },
     "metadata": {},
     "output_type": "display_data"
    }
   ],
   "source": [
    "bins_for_pe = (\n",
    "    pd\n",
    "    .IntervalIndex\n",
    "    .from_tuples(\n",
    "        [\n",
    "            (0, 100),\n",
    "            (100, 200),\n",
    "            (200, 1000)\n",
    "        ]\n",
    "    )\n",
    ")\n",
    "pe_labels = dict(\n",
    "    zip(\n",
    "        bins_for_pe,\n",
    "        [\n",
    "            '0-100',\n",
    "            '100-200',\n",
    "            '200+'\n",
    "        ]\n",
    "    )\n",
    ")\n",
    "bio_estimates = process_data(\n",
    "    col='pe_bio_netzero',\n",
    "    bins=bins_for_pe,\n",
    "    bin_labels=pe_labels\n",
    ")"
   ]
  },
  {
   "cell_type": "markdown",
   "metadata": {},
   "source": [
    "Step 9: Write this out for further processing."
   ]
  },
  {
   "cell_type": "code",
   "execution_count": 18,
   "metadata": {},
   "outputs": [
    {
     "data": {
      "application/javascript": "\n            setTimeout(function() {\n                var nbb_cell_id = 18;\n                var nbb_unformatted_code = \"land_estimates.to_csv(\\n    Path(\\n        '../data/105_land_categories.csv'\\n    )\\n)\";\n                var nbb_formatted_code = \"land_estimates.to_csv(Path(\\\"../data/105_land_categories.csv\\\"))\";\n                var nbb_cells = Jupyter.notebook.get_cells();\n                for (var i = 0; i < nbb_cells.length; ++i) {\n                    if (nbb_cells[i].input_prompt_number == nbb_cell_id) {\n                        if (nbb_cells[i].get_text() == nbb_unformatted_code) {\n                             nbb_cells[i].set_text(nbb_formatted_code);\n                        }\n                        break;\n                    }\n                }\n            }, 500);\n            ",
      "text/plain": [
       "<IPython.core.display.Javascript object>"
      ]
     },
     "metadata": {},
     "output_type": "display_data"
    }
   ],
   "source": [
    "land_estimates.to_csv(\n",
    "    Path(\n",
    "        '../data/105_land_categories.csv'\n",
    "    )\n",
    ")"
   ]
  },
  {
   "cell_type": "code",
   "execution_count": 19,
   "metadata": {},
   "outputs": [
    {
     "data": {
      "application/javascript": "\n            setTimeout(function() {\n                var nbb_cell_id = 19;\n                var nbb_unformatted_code = \"bio_estimates.to_csv(\\n    Path(\\n        '../data/105_bio_categories.csv'\\n    )\\n)\";\n                var nbb_formatted_code = \"bio_estimates.to_csv(Path(\\\"../data/105_bio_categories.csv\\\"))\";\n                var nbb_cells = Jupyter.notebook.get_cells();\n                for (var i = 0; i < nbb_cells.length; ++i) {\n                    if (nbb_cells[i].input_prompt_number == nbb_cell_id) {\n                        if (nbb_cells[i].get_text() == nbb_unformatted_code) {\n                             nbb_cells[i].set_text(nbb_formatted_code);\n                        }\n                        break;\n                    }\n                }\n            }, 500);\n            ",
      "text/plain": [
       "<IPython.core.display.Javascript object>"
      ]
     },
     "metadata": {},
     "output_type": "display_data"
    }
   ],
   "source": [
    "bio_estimates.to_csv(\n",
    "    Path(\n",
    "        '../data/105_bio_categories.csv'\n",
    "    )\n",
    ")"
   ]
  },
  {
   "cell_type": "markdown",
   "metadata": {},
   "source": [
    "Step 10L Calculate the global cumulative removals (total) and write this out separately for assessment."
   ]
  },
  {
   "cell_type": "code",
   "execution_count": 20,
   "metadata": {},
   "outputs": [
    {
     "data": {
      "application/javascript": "\n            setTimeout(function() {\n                var nbb_cell_id = 20;\n                var nbb_unformatted_code = \"total_removals = (\\n    df\\n    .filter(\\n        variable='*Carbon Removal|Total',\\n        region='World'\\n    )\\n    .timeseries()\\n)\";\n                var nbb_formatted_code = \"total_removals = df.filter(\\n    variable=\\\"*Carbon Removal|Total\\\", region=\\\"World\\\"\\n).timeseries()\";\n                var nbb_cells = Jupyter.notebook.get_cells();\n                for (var i = 0; i < nbb_cells.length; ++i) {\n                    if (nbb_cells[i].input_prompt_number == nbb_cell_id) {\n                        if (nbb_cells[i].get_text() == nbb_unformatted_code) {\n                             nbb_cells[i].set_text(nbb_formatted_code);\n                        }\n                        break;\n                    }\n                }\n            }, 500);\n            ",
      "text/plain": [
       "<IPython.core.display.Javascript object>"
      ]
     },
     "metadata": {},
     "output_type": "display_data"
    }
   ],
   "source": [
    "total_removals = (\n",
    "    df\n",
    "    .filter(\n",
    "        variable='*Carbon Removal|Total',\n",
    "        region='World'\n",
    "    )\n",
    "    .timeseries()\n",
    ")"
   ]
  },
  {
   "cell_type": "code",
   "execution_count": 21,
   "metadata": {},
   "outputs": [
    {
     "data": {
      "application/javascript": "\n            setTimeout(function() {\n                var nbb_cell_id = 21;\n                var nbb_unformatted_code = \"df.set_meta(\\n    total_removals.apply(\\n        lambda x: pyam.cumulative(\\n            x,\\n            first_year=2020,\\n            last_year=df.meta.loc[x.name[0:2],  'Year of netzero CO2 emissions (Harm-Infilled) table']\\n        ),\\n        axis=1\\n    ),\\n    name='cumulative_removals_2020_netzero'\\n)\";\n                var nbb_formatted_code = \"df.set_meta(\\n    total_removals.apply(\\n        lambda x: pyam.cumulative(\\n            x,\\n            first_year=2020,\\n            last_year=df.meta.loc[\\n                x.name[0:2], \\\"Year of netzero CO2 emissions (Harm-Infilled) table\\\"\\n            ],\\n        ),\\n        axis=1,\\n    ),\\n    name=\\\"cumulative_removals_2020_netzero\\\",\\n)\";\n                var nbb_cells = Jupyter.notebook.get_cells();\n                for (var i = 0; i < nbb_cells.length; ++i) {\n                    if (nbb_cells[i].input_prompt_number == nbb_cell_id) {\n                        if (nbb_cells[i].get_text() == nbb_unformatted_code) {\n                             nbb_cells[i].set_text(nbb_formatted_code);\n                        }\n                        break;\n                    }\n                }\n            }, 500);\n            ",
      "text/plain": [
       "<IPython.core.display.Javascript object>"
      ]
     },
     "metadata": {},
     "output_type": "display_data"
    }
   ],
   "source": [
    "df.set_meta(\n",
    "    total_removals.apply(\n",
    "        lambda x: pyam.cumulative(\n",
    "            x,\n",
    "            first_year=2020,\n",
    "            last_year=df.meta.loc[x.name[0:2],  'Year of netzero CO2 emissions (Harm-Infilled) table']\n",
    "        ),\n",
    "        axis=1\n",
    "    ),\n",
    "    name='cumulative_removals_2020_netzero'\n",
    ")"
   ]
  },
  {
   "cell_type": "code",
   "execution_count": 22,
   "metadata": {},
   "outputs": [
    {
     "data": {
      "application/javascript": "\n            setTimeout(function() {\n                var nbb_cell_id = 22;\n                var nbb_unformatted_code = \"df_world_analysis = df.meta[\\n    [\\n        'Category',\\n        'cumulative_removals_2020_netzero',\\n        'category_pe_bio_netzero',\\n        'category_land_cover_netzero'\\n    ]\\n]\";\n                var nbb_formatted_code = \"df_world_analysis = df.meta[\\n    [\\n        \\\"Category\\\",\\n        \\\"cumulative_removals_2020_netzero\\\",\\n        \\\"category_pe_bio_netzero\\\",\\n        \\\"category_land_cover_netzero\\\",\\n    ]\\n]\";\n                var nbb_cells = Jupyter.notebook.get_cells();\n                for (var i = 0; i < nbb_cells.length; ++i) {\n                    if (nbb_cells[i].input_prompt_number == nbb_cell_id) {\n                        if (nbb_cells[i].get_text() == nbb_unformatted_code) {\n                             nbb_cells[i].set_text(nbb_formatted_code);\n                        }\n                        break;\n                    }\n                }\n            }, 500);\n            ",
      "text/plain": [
       "<IPython.core.display.Javascript object>"
      ]
     },
     "metadata": {},
     "output_type": "display_data"
    }
   ],
   "source": [
    "df_world_analysis = df.meta[\n",
    "    [\n",
    "        'Category',\n",
    "        'cumulative_removals_2020_netzero',\n",
    "        'category_pe_bio_netzero',\n",
    "        'category_land_cover_netzero'\n",
    "    ]\n",
    "]"
   ]
  },
  {
   "cell_type": "code",
   "execution_count": 23,
   "metadata": {},
   "outputs": [
    {
     "data": {
      "application/javascript": "\n            setTimeout(function() {\n                var nbb_cell_id = 23;\n                var nbb_unformatted_code = \"df_world_analysis.to_csv(\\n    Path(\\n        '../data/105_world.csv'\\n    )\\n)\";\n                var nbb_formatted_code = \"df_world_analysis.to_csv(Path(\\\"../data/105_world.csv\\\"))\";\n                var nbb_cells = Jupyter.notebook.get_cells();\n                for (var i = 0; i < nbb_cells.length; ++i) {\n                    if (nbb_cells[i].input_prompt_number == nbb_cell_id) {\n                        if (nbb_cells[i].get_text() == nbb_unformatted_code) {\n                             nbb_cells[i].set_text(nbb_formatted_code);\n                        }\n                        break;\n                    }\n                }\n            }, 500);\n            ",
      "text/plain": [
       "<IPython.core.display.Javascript object>"
      ]
     },
     "metadata": {},
     "output_type": "display_data"
    }
   ],
   "source": [
    "df_world_analysis.to_csv(\n",
    "    Path(\n",
    "        '../data/105_world.csv'\n",
    "    )\n",
    ")"
   ]
  }
 ],
 "metadata": {
  "kernelspec": {
   "display_name": "ar6_cdr_assessment",
   "language": "python",
   "name": "python3"
  },
  "language_info": {
   "codemirror_mode": {
    "name": "ipython",
    "version": 3
   },
   "file_extension": ".py",
   "mimetype": "text/x-python",
   "name": "python",
   "nbconvert_exporter": "python",
   "pygments_lexer": "ipython3",
   "version": "3.10.13"
  }
 },
 "nbformat": 4,
 "nbformat_minor": 2
}
