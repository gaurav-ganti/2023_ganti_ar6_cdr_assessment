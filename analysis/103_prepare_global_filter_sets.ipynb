{
 "cells": [
  {
   "cell_type": "code",
   "execution_count": 1,
   "metadata": {},
   "outputs": [
    {
     "data": {
      "application/javascript": "if (typeof IPython !== 'undefined') { IPython.OutputArea.prototype._should_scroll = function(lines){ return false; }}",
      "text/plain": [
       "<IPython.core.display.Javascript object>"
      ]
     },
     "metadata": {},
     "output_type": "display_data"
    }
   ],
   "source": [
    "import pyam\n",
    "import pandas as pd\n",
    "import numpy as np\n",
    "\n",
    "import dotenv\n",
    "import os\n",
    "from pathlib import Path"
   ]
  },
  {
   "cell_type": "code",
   "execution_count": 2,
   "metadata": {},
   "outputs": [
    {
     "data": {
      "application/javascript": "\n            setTimeout(function() {\n                var nbb_cell_id = 2;\n                var nbb_unformatted_code = \"%load_ext nb_black\";\n                var nbb_formatted_code = \"%load_ext nb_black\";\n                var nbb_cells = Jupyter.notebook.get_cells();\n                for (var i = 0; i < nbb_cells.length; ++i) {\n                    if (nbb_cells[i].input_prompt_number == nbb_cell_id) {\n                        if (nbb_cells[i].get_text() == nbb_unformatted_code) {\n                             nbb_cells[i].set_text(nbb_formatted_code);\n                        }\n                        break;\n                    }\n                }\n            }, 500);\n            ",
      "text/plain": [
       "<IPython.core.display.Javascript object>"
      ]
     },
     "metadata": {},
     "output_type": "display_data"
    }
   ],
   "source": [
    "%load_ext nb_black"
   ]
  },
  {
   "cell_type": "code",
   "execution_count": 3,
   "metadata": {},
   "outputs": [
    {
     "data": {
      "text/plain": [
       "True"
      ]
     },
     "execution_count": 3,
     "metadata": {},
     "output_type": "execute_result"
    },
    {
     "data": {
      "application/javascript": "\n            setTimeout(function() {\n                var nbb_cell_id = 3;\n                var nbb_unformatted_code = \"dotenv.load_dotenv()\";\n                var nbb_formatted_code = \"dotenv.load_dotenv()\";\n                var nbb_cells = Jupyter.notebook.get_cells();\n                for (var i = 0; i < nbb_cells.length; ++i) {\n                    if (nbb_cells[i].input_prompt_number == nbb_cell_id) {\n                        if (nbb_cells[i].get_text() == nbb_unformatted_code) {\n                             nbb_cells[i].set_text(nbb_formatted_code);\n                        }\n                        break;\n                    }\n                }\n            }, 500);\n            ",
      "text/plain": [
       "<IPython.core.display.Javascript object>"
      ]
     },
     "metadata": {},
     "output_type": "display_data"
    }
   ],
   "source": [
    "dotenv.load_dotenv()"
   ]
  },
  {
   "cell_type": "markdown",
   "metadata": {},
   "source": [
    "Step 1: Read in the global AR6 dataset and downselect for the following potential filters:\n",
    "* Primary Energy|Biomass\n",
    "* Land Cover|Cropland|Energy Crops"
   ]
  },
  {
   "cell_type": "code",
   "execution_count": 4,
   "metadata": {},
   "outputs": [
    {
     "data": {
      "application/javascript": "\n            setTimeout(function() {\n                var nbb_cell_id = 4;\n                var nbb_unformatted_code = \"df = pd.read_csv(\\n    os.environ['AR6_DATA'],\\n    index_col=[0,1]\\n)\";\n                var nbb_formatted_code = \"df = pd.read_csv(os.environ[\\\"AR6_DATA\\\"], index_col=[0, 1])\";\n                var nbb_cells = Jupyter.notebook.get_cells();\n                for (var i = 0; i < nbb_cells.length; ++i) {\n                    if (nbb_cells[i].input_prompt_number == nbb_cell_id) {\n                        if (nbb_cells[i].get_text() == nbb_unformatted_code) {\n                             nbb_cells[i].set_text(nbb_formatted_code);\n                        }\n                        break;\n                    }\n                }\n            }, 500);\n            ",
      "text/plain": [
       "<IPython.core.display.Javascript object>"
      ]
     },
     "metadata": {},
     "output_type": "display_data"
    }
   ],
   "source": [
    "df = pd.read_csv(\n",
    "    os.environ['AR6_DATA'],\n",
    "    index_col=[0,1]\n",
    ")"
   ]
  },
  {
   "cell_type": "code",
   "execution_count": 5,
   "metadata": {},
   "outputs": [
    {
     "data": {
      "application/javascript": "\n            setTimeout(function() {\n                var nbb_cell_id = 5;\n                var nbb_unformatted_code = \"df_bio_pe = (\\n    df[df['Variable']=='Primary Energy|Biomass']\\n)\";\n                var nbb_formatted_code = \"df_bio_pe = df[df[\\\"Variable\\\"] == \\\"Primary Energy|Biomass\\\"]\";\n                var nbb_cells = Jupyter.notebook.get_cells();\n                for (var i = 0; i < nbb_cells.length; ++i) {\n                    if (nbb_cells[i].input_prompt_number == nbb_cell_id) {\n                        if (nbb_cells[i].get_text() == nbb_unformatted_code) {\n                             nbb_cells[i].set_text(nbb_formatted_code);\n                        }\n                        break;\n                    }\n                }\n            }, 500);\n            ",
      "text/plain": [
       "<IPython.core.display.Javascript object>"
      ]
     },
     "metadata": {},
     "output_type": "display_data"
    }
   ],
   "source": [
    "df_bio_pe = (\n",
    "    df[df['Variable']=='Primary Energy|Biomass']\n",
    ")"
   ]
  },
  {
   "cell_type": "code",
   "execution_count": 6,
   "metadata": {},
   "outputs": [
    {
     "data": {
      "application/javascript": "\n            setTimeout(function() {\n                var nbb_cell_id = 6;\n                var nbb_unformatted_code = \"df_land_cover = (\\n    df[df['Variable']=='Land Cover|Cropland|Energy Crops']\\n)\";\n                var nbb_formatted_code = \"df_land_cover = df[df[\\\"Variable\\\"] == \\\"Land Cover|Cropland|Energy Crops\\\"]\";\n                var nbb_cells = Jupyter.notebook.get_cells();\n                for (var i = 0; i < nbb_cells.length; ++i) {\n                    if (nbb_cells[i].input_prompt_number == nbb_cell_id) {\n                        if (nbb_cells[i].get_text() == nbb_unformatted_code) {\n                             nbb_cells[i].set_text(nbb_formatted_code);\n                        }\n                        break;\n                    }\n                }\n            }, 500);\n            ",
      "text/plain": [
       "<IPython.core.display.Javascript object>"
      ]
     },
     "metadata": {},
     "output_type": "display_data"
    }
   ],
   "source": [
    "df_land_cover = (\n",
    "    df[df['Variable']=='Land Cover|Cropland|Energy Crops']\n",
    ")"
   ]
  },
  {
   "cell_type": "markdown",
   "metadata": {},
   "source": [
    "Step 2: Read in the scenarios that are covered by Gidden et al."
   ]
  },
  {
   "cell_type": "code",
   "execution_count": 7,
   "metadata": {},
   "outputs": [
    {
     "data": {
      "application/javascript": "\n            setTimeout(function() {\n                var nbb_cell_id = 7;\n                var nbb_unformatted_code = \"gidden_scens = pd.read_excel(\\n    os.environ['GIDDEN_DATA'],\\n    sheet_name='meta',\\n    index_col=[0,1]\\n)\";\n                var nbb_formatted_code = \"gidden_scens = pd.read_excel(\\n    os.environ[\\\"GIDDEN_DATA\\\"], sheet_name=\\\"meta\\\", index_col=[0, 1]\\n)\";\n                var nbb_cells = Jupyter.notebook.get_cells();\n                for (var i = 0; i < nbb_cells.length; ++i) {\n                    if (nbb_cells[i].input_prompt_number == nbb_cell_id) {\n                        if (nbb_cells[i].get_text() == nbb_unformatted_code) {\n                             nbb_cells[i].set_text(nbb_formatted_code);\n                        }\n                        break;\n                    }\n                }\n            }, 500);\n            ",
      "text/plain": [
       "<IPython.core.display.Javascript object>"
      ]
     },
     "metadata": {},
     "output_type": "display_data"
    }
   ],
   "source": [
    "gidden_scens = pd.read_excel(\n",
    "    os.environ['GIDDEN_DATA'],\n",
    "    sheet_name='meta',\n",
    "    index_col=[0,1]\n",
    ")"
   ]
  },
  {
   "cell_type": "markdown",
   "metadata": {},
   "source": [
    "Step 3: Pull out the intersection of the scenarios."
   ]
  },
  {
   "cell_type": "code",
   "execution_count": 8,
   "metadata": {},
   "outputs": [
    {
     "data": {
      "application/javascript": "\n            setTimeout(function() {\n                var nbb_cell_id = 8;\n                var nbb_unformatted_code = \"scens_intersection = (\\n    df_bio_pe\\n    .index\\n    .intersection(gidden_scens.index)\\n)\";\n                var nbb_formatted_code = \"scens_intersection = df_bio_pe.index.intersection(gidden_scens.index)\";\n                var nbb_cells = Jupyter.notebook.get_cells();\n                for (var i = 0; i < nbb_cells.length; ++i) {\n                    if (nbb_cells[i].input_prompt_number == nbb_cell_id) {\n                        if (nbb_cells[i].get_text() == nbb_unformatted_code) {\n                             nbb_cells[i].set_text(nbb_formatted_code);\n                        }\n                        break;\n                    }\n                }\n            }, 500);\n            ",
      "text/plain": [
       "<IPython.core.display.Javascript object>"
      ]
     },
     "metadata": {},
     "output_type": "display_data"
    }
   ],
   "source": [
    "scens_intersection = (\n",
    "    df_bio_pe\n",
    "    .index\n",
    "    .intersection(gidden_scens.index)\n",
    ")"
   ]
  },
  {
   "cell_type": "code",
   "execution_count": 9,
   "metadata": {},
   "outputs": [
    {
     "data": {
      "application/javascript": "\n            setTimeout(function() {\n                var nbb_cell_id = 9;\n                var nbb_unformatted_code = \"df_bio_pe_filtered = (\\n    df_bio_pe\\n    .loc[scens_intersection]\\n)\";\n                var nbb_formatted_code = \"df_bio_pe_filtered = df_bio_pe.loc[scens_intersection]\";\n                var nbb_cells = Jupyter.notebook.get_cells();\n                for (var i = 0; i < nbb_cells.length; ++i) {\n                    if (nbb_cells[i].input_prompt_number == nbb_cell_id) {\n                        if (nbb_cells[i].get_text() == nbb_unformatted_code) {\n                             nbb_cells[i].set_text(nbb_formatted_code);\n                        }\n                        break;\n                    }\n                }\n            }, 500);\n            ",
      "text/plain": [
       "<IPython.core.display.Javascript object>"
      ]
     },
     "metadata": {},
     "output_type": "display_data"
    }
   ],
   "source": [
    "df_bio_pe_filtered = (\n",
    "    df_bio_pe\n",
    "    .loc[scens_intersection]\n",
    ")"
   ]
  },
  {
   "cell_type": "code",
   "execution_count": 10,
   "metadata": {},
   "outputs": [
    {
     "data": {
      "application/javascript": "\n            setTimeout(function() {\n                var nbb_cell_id = 10;\n                var nbb_unformatted_code = \"df_bio_pe_filtered_pyam = pyam.IamDataFrame(\\n    df_bio_pe_filtered\\n    .reset_index()\\n)\";\n                var nbb_formatted_code = \"df_bio_pe_filtered_pyam = pyam.IamDataFrame(df_bio_pe_filtered.reset_index())\";\n                var nbb_cells = Jupyter.notebook.get_cells();\n                for (var i = 0; i < nbb_cells.length; ++i) {\n                    if (nbb_cells[i].input_prompt_number == nbb_cell_id) {\n                        if (nbb_cells[i].get_text() == nbb_unformatted_code) {\n                             nbb_cells[i].set_text(nbb_formatted_code);\n                        }\n                        break;\n                    }\n                }\n            }, 500);\n            ",
      "text/plain": [
       "<IPython.core.display.Javascript object>"
      ]
     },
     "metadata": {},
     "output_type": "display_data"
    }
   ],
   "source": [
    "df_bio_pe_filtered_pyam = pyam.IamDataFrame(\n",
    "    df_bio_pe_filtered\n",
    "    .reset_index()\n",
    ")"
   ]
  },
  {
   "cell_type": "code",
   "execution_count": 11,
   "metadata": {},
   "outputs": [
    {
     "data": {
      "application/javascript": "\n            setTimeout(function() {\n                var nbb_cell_id = 11;\n                var nbb_unformatted_code = \"scens_intersection_land = (\\n    df_land_cover\\n    .index\\n    .intersection(gidden_scens.index)\\n)\";\n                var nbb_formatted_code = \"scens_intersection_land = df_land_cover.index.intersection(gidden_scens.index)\";\n                var nbb_cells = Jupyter.notebook.get_cells();\n                for (var i = 0; i < nbb_cells.length; ++i) {\n                    if (nbb_cells[i].input_prompt_number == nbb_cell_id) {\n                        if (nbb_cells[i].get_text() == nbb_unformatted_code) {\n                             nbb_cells[i].set_text(nbb_formatted_code);\n                        }\n                        break;\n                    }\n                }\n            }, 500);\n            ",
      "text/plain": [
       "<IPython.core.display.Javascript object>"
      ]
     },
     "metadata": {},
     "output_type": "display_data"
    }
   ],
   "source": [
    "scens_intersection_land = (\n",
    "    df_land_cover\n",
    "    .index\n",
    "    .intersection(gidden_scens.index)\n",
    ")"
   ]
  },
  {
   "cell_type": "code",
   "execution_count": 12,
   "metadata": {},
   "outputs": [
    {
     "data": {
      "application/javascript": "\n            setTimeout(function() {\n                var nbb_cell_id = 12;\n                var nbb_unformatted_code = \"df_land_cover_filtered = pyam.IamDataFrame(\\n    df_land_cover\\n    .loc[scens_intersection_land]\\n    .reset_index()\\n)\";\n                var nbb_formatted_code = \"df_land_cover_filtered = pyam.IamDataFrame(\\n    df_land_cover.loc[scens_intersection_land].reset_index()\\n)\";\n                var nbb_cells = Jupyter.notebook.get_cells();\n                for (var i = 0; i < nbb_cells.length; ++i) {\n                    if (nbb_cells[i].input_prompt_number == nbb_cell_id) {\n                        if (nbb_cells[i].get_text() == nbb_unformatted_code) {\n                             nbb_cells[i].set_text(nbb_formatted_code);\n                        }\n                        break;\n                    }\n                }\n            }, 500);\n            ",
      "text/plain": [
       "<IPython.core.display.Javascript object>"
      ]
     },
     "metadata": {},
     "output_type": "display_data"
    }
   ],
   "source": [
    "df_land_cover_filtered = pyam.IamDataFrame(\n",
    "    df_land_cover\n",
    "    .loc[scens_intersection_land]\n",
    "    .reset_index()\n",
    ")"
   ]
  },
  {
   "cell_type": "markdown",
   "metadata": {},
   "source": [
    "Step 4: Identify the maximum level of PE bioenergy as well as the maximum land cover allocated to energy crops. Do the same at the global year of net zero CO2."
   ]
  },
  {
   "cell_type": "code",
   "execution_count": 13,
   "metadata": {},
   "outputs": [
    {
     "data": {
      "application/javascript": "\n            setTimeout(function() {\n                var nbb_cell_id = 13;\n                var nbb_unformatted_code = \"df_bio_pe_filtered_pyam.set_meta_from_data(\\n    name='pe_bio_max',\\n    variable='Primary Energy|Biomass',\\n    method=np.max\\n)\";\n                var nbb_formatted_code = \"df_bio_pe_filtered_pyam.set_meta_from_data(\\n    name=\\\"pe_bio_max\\\", variable=\\\"Primary Energy|Biomass\\\", method=np.max\\n)\";\n                var nbb_cells = Jupyter.notebook.get_cells();\n                for (var i = 0; i < nbb_cells.length; ++i) {\n                    if (nbb_cells[i].input_prompt_number == nbb_cell_id) {\n                        if (nbb_cells[i].get_text() == nbb_unformatted_code) {\n                             nbb_cells[i].set_text(nbb_formatted_code);\n                        }\n                        break;\n                    }\n                }\n            }, 500);\n            ",
      "text/plain": [
       "<IPython.core.display.Javascript object>"
      ]
     },
     "metadata": {},
     "output_type": "display_data"
    }
   ],
   "source": [
    "df_bio_pe_filtered_pyam.set_meta_from_data(\n",
    "    name='pe_bio_max',\n",
    "    variable='Primary Energy|Biomass',\n",
    "    method=np.max\n",
    ")"
   ]
  },
  {
   "cell_type": "code",
   "execution_count": 14,
   "metadata": {},
   "outputs": [
    {
     "data": {
      "application/javascript": "\n            setTimeout(function() {\n                var nbb_cell_id = 14;\n                var nbb_unformatted_code = \"gidden_scens.loc[:, 'Year of netzero CO2 emissions (Harm-Infilled) table'].fillna(2100, inplace=True)\";\n                var nbb_formatted_code = \"gidden_scens.loc[:, \\\"Year of netzero CO2 emissions (Harm-Infilled) table\\\"].fillna(\\n    2100, inplace=True\\n)\";\n                var nbb_cells = Jupyter.notebook.get_cells();\n                for (var i = 0; i < nbb_cells.length; ++i) {\n                    if (nbb_cells[i].input_prompt_number == nbb_cell_id) {\n                        if (nbb_cells[i].get_text() == nbb_unformatted_code) {\n                             nbb_cells[i].set_text(nbb_formatted_code);\n                        }\n                        break;\n                    }\n                }\n            }, 500);\n            ",
      "text/plain": [
       "<IPython.core.display.Javascript object>"
      ]
     },
     "metadata": {},
     "output_type": "display_data"
    }
   ],
   "source": [
    "gidden_scens.loc[:, 'Year of netzero CO2 emissions (Harm-Infilled) table'].fillna(2100, inplace=True)"
   ]
  },
  {
   "cell_type": "code",
   "execution_count": 15,
   "metadata": {},
   "outputs": [
    {
     "data": {
      "application/javascript": "\n            setTimeout(function() {\n                var nbb_cell_id = 15;\n                var nbb_unformatted_code = \"df_bio_pe_filtered_pyam.set_meta(\\n    (\\n        df_bio_pe_filtered_pyam\\n        .interpolate(\\n            time=range(2020, 2101)\\n        )\\n        .filter(\\n            variable='Primary Energy|Biomass'\\n        )\\n        .timeseries()\\n        .apply(\\n            lambda x: x[gidden_scens.loc[x.name[0:2], 'Year of netzero CO2 emissions (Harm-Infilled) table']],\\n            axis=1\\n        )\\n    ),\\n        name='pe_bio_netzero'\\n)\";\n                var nbb_formatted_code = \"df_bio_pe_filtered_pyam.set_meta(\\n    (\\n        df_bio_pe_filtered_pyam.interpolate(time=range(2020, 2101))\\n        .filter(variable=\\\"Primary Energy|Biomass\\\")\\n        .timeseries()\\n        .apply(\\n            lambda x: x[\\n                gidden_scens.loc[\\n                    x.name[0:2], \\\"Year of netzero CO2 emissions (Harm-Infilled) table\\\"\\n                ]\\n            ],\\n            axis=1,\\n        )\\n    ),\\n    name=\\\"pe_bio_netzero\\\",\\n)\";\n                var nbb_cells = Jupyter.notebook.get_cells();\n                for (var i = 0; i < nbb_cells.length; ++i) {\n                    if (nbb_cells[i].input_prompt_number == nbb_cell_id) {\n                        if (nbb_cells[i].get_text() == nbb_unformatted_code) {\n                             nbb_cells[i].set_text(nbb_formatted_code);\n                        }\n                        break;\n                    }\n                }\n            }, 500);\n            ",
      "text/plain": [
       "<IPython.core.display.Javascript object>"
      ]
     },
     "metadata": {},
     "output_type": "display_data"
    }
   ],
   "source": [
    "df_bio_pe_filtered_pyam.set_meta(\n",
    "    (\n",
    "        df_bio_pe_filtered_pyam\n",
    "        .interpolate(\n",
    "            time=range(2020, 2101)\n",
    "        )\n",
    "        .filter(\n",
    "            variable='Primary Energy|Biomass'\n",
    "        )\n",
    "        .timeseries()\n",
    "        .apply(\n",
    "            lambda x: x[gidden_scens.loc[x.name[0:2], 'Year of netzero CO2 emissions (Harm-Infilled) table']],\n",
    "            axis=1\n",
    "        )\n",
    "    ),\n",
    "        name='pe_bio_netzero'\n",
    ")"
   ]
  },
  {
   "cell_type": "code",
   "execution_count": 16,
   "metadata": {},
   "outputs": [
    {
     "data": {
      "application/javascript": "\n            setTimeout(function() {\n                var nbb_cell_id = 16;\n                var nbb_unformatted_code = \"df_land_cover_filtered.set_meta_from_data(\\n    name='land_cover_max',\\n    variable='Land Cover|Cropland|Energy Crops',\\n    method=np.max\\n)\";\n                var nbb_formatted_code = \"df_land_cover_filtered.set_meta_from_data(\\n    name=\\\"land_cover_max\\\", variable=\\\"Land Cover|Cropland|Energy Crops\\\", method=np.max\\n)\";\n                var nbb_cells = Jupyter.notebook.get_cells();\n                for (var i = 0; i < nbb_cells.length; ++i) {\n                    if (nbb_cells[i].input_prompt_number == nbb_cell_id) {\n                        if (nbb_cells[i].get_text() == nbb_unformatted_code) {\n                             nbb_cells[i].set_text(nbb_formatted_code);\n                        }\n                        break;\n                    }\n                }\n            }, 500);\n            ",
      "text/plain": [
       "<IPython.core.display.Javascript object>"
      ]
     },
     "metadata": {},
     "output_type": "display_data"
    }
   ],
   "source": [
    "df_land_cover_filtered.set_meta_from_data(\n",
    "    name='land_cover_max',\n",
    "    variable='Land Cover|Cropland|Energy Crops',\n",
    "    method=np.max\n",
    ")"
   ]
  },
  {
   "cell_type": "code",
   "execution_count": 17,
   "metadata": {},
   "outputs": [
    {
     "data": {
      "application/javascript": "\n            setTimeout(function() {\n                var nbb_cell_id = 17;\n                var nbb_unformatted_code = \"df_land_cover_filtered.set_meta(\\n    (\\n        df_land_cover_filtered\\n        .interpolate(\\n            time=range(2020, 2101)\\n        )\\n        .filter(\\n            variable='Land Cover|Cropland|Energy Crops'\\n        )\\n        .timeseries()\\n        .apply(\\n            lambda x: x[gidden_scens.loc[x.name[0:2], 'Year of netzero CO2 emissions (Harm-Infilled) table']],\\n            axis=1\\n        )\\n    ),\\n        name='land_cover_netzero'\\n)\";\n                var nbb_formatted_code = \"df_land_cover_filtered.set_meta(\\n    (\\n        df_land_cover_filtered.interpolate(time=range(2020, 2101))\\n        .filter(variable=\\\"Land Cover|Cropland|Energy Crops\\\")\\n        .timeseries()\\n        .apply(\\n            lambda x: x[\\n                gidden_scens.loc[\\n                    x.name[0:2], \\\"Year of netzero CO2 emissions (Harm-Infilled) table\\\"\\n                ]\\n            ],\\n            axis=1,\\n        )\\n    ),\\n    name=\\\"land_cover_netzero\\\",\\n)\";\n                var nbb_cells = Jupyter.notebook.get_cells();\n                for (var i = 0; i < nbb_cells.length; ++i) {\n                    if (nbb_cells[i].input_prompt_number == nbb_cell_id) {\n                        if (nbb_cells[i].get_text() == nbb_unformatted_code) {\n                             nbb_cells[i].set_text(nbb_formatted_code);\n                        }\n                        break;\n                    }\n                }\n            }, 500);\n            ",
      "text/plain": [
       "<IPython.core.display.Javascript object>"
      ]
     },
     "metadata": {},
     "output_type": "display_data"
    }
   ],
   "source": [
    "df_land_cover_filtered.set_meta(\n",
    "    (\n",
    "        df_land_cover_filtered\n",
    "        .interpolate(\n",
    "            time=range(2020, 2101)\n",
    "        )\n",
    "        .filter(\n",
    "            variable='Land Cover|Cropland|Energy Crops'\n",
    "        )\n",
    "        .timeseries()\n",
    "        .apply(\n",
    "            lambda x: x[gidden_scens.loc[x.name[0:2], 'Year of netzero CO2 emissions (Harm-Infilled) table']],\n",
    "            axis=1\n",
    "        )\n",
    "    ),\n",
    "        name='land_cover_netzero'\n",
    ")"
   ]
  },
  {
   "cell_type": "markdown",
   "metadata": {},
   "source": [
    "Step 5: Set a new exclude column to False."
   ]
  },
  {
   "cell_type": "code",
   "execution_count": 18,
   "metadata": {},
   "outputs": [
    {
     "data": {
      "application/javascript": "\n            setTimeout(function() {\n                var nbb_cell_id = 18;\n                var nbb_unformatted_code = \"df_bio_pe_filtered_pyam.set_meta(\\n    name='bio_sustainable',\\n    meta=False\\n)\";\n                var nbb_formatted_code = \"df_bio_pe_filtered_pyam.set_meta(name=\\\"bio_sustainable\\\", meta=False)\";\n                var nbb_cells = Jupyter.notebook.get_cells();\n                for (var i = 0; i < nbb_cells.length; ++i) {\n                    if (nbb_cells[i].input_prompt_number == nbb_cell_id) {\n                        if (nbb_cells[i].get_text() == nbb_unformatted_code) {\n                             nbb_cells[i].set_text(nbb_formatted_code);\n                        }\n                        break;\n                    }\n                }\n            }, 500);\n            ",
      "text/plain": [
       "<IPython.core.display.Javascript object>"
      ]
     },
     "metadata": {},
     "output_type": "display_data"
    }
   ],
   "source": [
    "df_bio_pe_filtered_pyam.set_meta(\n",
    "    name='bio_sustainable',\n",
    "    meta=False\n",
    ")"
   ]
  },
  {
   "cell_type": "code",
   "execution_count": 19,
   "metadata": {},
   "outputs": [
    {
     "data": {
      "application/javascript": "\n            setTimeout(function() {\n                var nbb_cell_id = 19;\n                var nbb_unformatted_code = \"df_land_cover_filtered.set_meta(\\n    name='land_sustainable',\\n    meta=False\\n)\";\n                var nbb_formatted_code = \"df_land_cover_filtered.set_meta(name=\\\"land_sustainable\\\", meta=False)\";\n                var nbb_cells = Jupyter.notebook.get_cells();\n                for (var i = 0; i < nbb_cells.length; ++i) {\n                    if (nbb_cells[i].input_prompt_number == nbb_cell_id) {\n                        if (nbb_cells[i].get_text() == nbb_unformatted_code) {\n                             nbb_cells[i].set_text(nbb_formatted_code);\n                        }\n                        break;\n                    }\n                }\n            }, 500);\n            ",
      "text/plain": [
       "<IPython.core.display.Javascript object>"
      ]
     },
     "metadata": {},
     "output_type": "display_data"
    }
   ],
   "source": [
    "df_land_cover_filtered.set_meta(\n",
    "    name='land_sustainable',\n",
    "    meta=False\n",
    ")"
   ]
  },
  {
   "cell_type": "code",
   "execution_count": 20,
   "metadata": {},
   "outputs": [
    {
     "data": {
      "application/javascript": "\n            setTimeout(function() {\n                var nbb_cell_id = 20;\n                var nbb_unformatted_code = \"scens_pass = (\\n    df_bio_pe_filtered_pyam.meta[df_bio_pe_filtered_pyam.meta['pe_bio_max'] <= 100].index\\n)\";\n                var nbb_formatted_code = \"scens_pass = df_bio_pe_filtered_pyam.meta[\\n    df_bio_pe_filtered_pyam.meta[\\\"pe_bio_max\\\"] <= 100\\n].index\";\n                var nbb_cells = Jupyter.notebook.get_cells();\n                for (var i = 0; i < nbb_cells.length; ++i) {\n                    if (nbb_cells[i].input_prompt_number == nbb_cell_id) {\n                        if (nbb_cells[i].get_text() == nbb_unformatted_code) {\n                             nbb_cells[i].set_text(nbb_formatted_code);\n                        }\n                        break;\n                    }\n                }\n            }, 500);\n            ",
      "text/plain": [
       "<IPython.core.display.Javascript object>"
      ]
     },
     "metadata": {},
     "output_type": "display_data"
    }
   ],
   "source": [
    "scens_pass = (\n",
    "    df_bio_pe_filtered_pyam.meta[df_bio_pe_filtered_pyam.meta['pe_bio_max'] <= 100].index\n",
    ")"
   ]
  },
  {
   "cell_type": "code",
   "execution_count": 21,
   "metadata": {},
   "outputs": [
    {
     "data": {
      "application/javascript": "\n            setTimeout(function() {\n                var nbb_cell_id = 21;\n                var nbb_unformatted_code = \"df_bio_pe_filtered_pyam.set_meta(\\n    name='bio_sustainable',\\n    meta=True,\\n    index=scens_pass\\n)\";\n                var nbb_formatted_code = \"df_bio_pe_filtered_pyam.set_meta(name=\\\"bio_sustainable\\\", meta=True, index=scens_pass)\";\n                var nbb_cells = Jupyter.notebook.get_cells();\n                for (var i = 0; i < nbb_cells.length; ++i) {\n                    if (nbb_cells[i].input_prompt_number == nbb_cell_id) {\n                        if (nbb_cells[i].get_text() == nbb_unformatted_code) {\n                             nbb_cells[i].set_text(nbb_formatted_code);\n                        }\n                        break;\n                    }\n                }\n            }, 500);\n            ",
      "text/plain": [
       "<IPython.core.display.Javascript object>"
      ]
     },
     "metadata": {},
     "output_type": "display_data"
    }
   ],
   "source": [
    "df_bio_pe_filtered_pyam.set_meta(\n",
    "    name='bio_sustainable',\n",
    "    meta=True,\n",
    "    index=scens_pass\n",
    ")"
   ]
  },
  {
   "cell_type": "code",
   "execution_count": 22,
   "metadata": {},
   "outputs": [
    {
     "data": {
      "application/javascript": "\n            setTimeout(function() {\n                var nbb_cell_id = 22;\n                var nbb_unformatted_code = \"filter_set_bio = df_bio_pe_filtered_pyam.meta\";\n                var nbb_formatted_code = \"filter_set_bio = df_bio_pe_filtered_pyam.meta\";\n                var nbb_cells = Jupyter.notebook.get_cells();\n                for (var i = 0; i < nbb_cells.length; ++i) {\n                    if (nbb_cells[i].input_prompt_number == nbb_cell_id) {\n                        if (nbb_cells[i].get_text() == nbb_unformatted_code) {\n                             nbb_cells[i].set_text(nbb_formatted_code);\n                        }\n                        break;\n                    }\n                }\n            }, 500);\n            ",
      "text/plain": [
       "<IPython.core.display.Javascript object>"
      ]
     },
     "metadata": {},
     "output_type": "display_data"
    }
   ],
   "source": [
    "filter_set_bio = df_bio_pe_filtered_pyam.meta"
   ]
  },
  {
   "cell_type": "code",
   "execution_count": 23,
   "metadata": {},
   "outputs": [
    {
     "data": {
      "application/javascript": "\n            setTimeout(function() {\n                var nbb_cell_id = 23;\n                var nbb_unformatted_code = \"filter_set_bio.to_csv(\\n    Path(\\n        '../data/103_filter_set_bio.csv'\\n    )\\n)\";\n                var nbb_formatted_code = \"filter_set_bio.to_csv(Path(\\\"../data/103_filter_set_bio.csv\\\"))\";\n                var nbb_cells = Jupyter.notebook.get_cells();\n                for (var i = 0; i < nbb_cells.length; ++i) {\n                    if (nbb_cells[i].input_prompt_number == nbb_cell_id) {\n                        if (nbb_cells[i].get_text() == nbb_unformatted_code) {\n                             nbb_cells[i].set_text(nbb_formatted_code);\n                        }\n                        break;\n                    }\n                }\n            }, 500);\n            ",
      "text/plain": [
       "<IPython.core.display.Javascript object>"
      ]
     },
     "metadata": {},
     "output_type": "display_data"
    }
   ],
   "source": [
    "filter_set_bio.to_csv(\n",
    "    Path(\n",
    "        '../data/103_filter_set_bio.csv'\n",
    "    )\n",
    ")"
   ]
  },
  {
   "cell_type": "code",
   "execution_count": 24,
   "metadata": {},
   "outputs": [
    {
     "data": {
      "application/javascript": "\n            setTimeout(function() {\n                var nbb_cell_id = 24;\n                var nbb_unformatted_code = \"df_land_cover_filtered.meta.to_csv(\\n    Path(\\n        '../data/103_filter_set_land.csv'\\n    )\\n)\";\n                var nbb_formatted_code = \"df_land_cover_filtered.meta.to_csv(Path(\\\"../data/103_filter_set_land.csv\\\"))\";\n                var nbb_cells = Jupyter.notebook.get_cells();\n                for (var i = 0; i < nbb_cells.length; ++i) {\n                    if (nbb_cells[i].input_prompt_number == nbb_cell_id) {\n                        if (nbb_cells[i].get_text() == nbb_unformatted_code) {\n                             nbb_cells[i].set_text(nbb_formatted_code);\n                        }\n                        break;\n                    }\n                }\n            }, 500);\n            ",
      "text/plain": [
       "<IPython.core.display.Javascript object>"
      ]
     },
     "metadata": {},
     "output_type": "display_data"
    }
   ],
   "source": [
    "df_land_cover_filtered.meta.to_csv(\n",
    "    Path(\n",
    "        '../data/103_filter_set_land.csv'\n",
    "    )\n",
    ")"
   ]
  },
  {
   "cell_type": "code",
   "execution_count": 25,
   "metadata": {},
   "outputs": [
    {
     "name": "stderr",
     "output_type": "stream",
     "text": [
      "/Users/gauravganti/opt/anaconda3/envs/ar6_cdr_assessment/lib/python3.10/site-packages/pyam/utils.py:411: FutureWarning: In a future version, object-dtype columns with all-bool values will not be included in reductions with bool_only=True. Explicitly cast to bool dtype instead.\n",
      "  left = pd.concat([left, right.loc[diff, :]], sort=False)\n"
     ]
    },
    {
     "data": {
      "application/javascript": "\n            setTimeout(function() {\n                var nbb_cell_id = 25;\n                var nbb_unformatted_code = \"df_combined = pyam.concat(\\n    [\\n        df_bio_pe_filtered_pyam,\\n        df_land_cover_filtered\\n    ]\\n)\";\n                var nbb_formatted_code = \"df_combined = pyam.concat([df_bio_pe_filtered_pyam, df_land_cover_filtered])\";\n                var nbb_cells = Jupyter.notebook.get_cells();\n                for (var i = 0; i < nbb_cells.length; ++i) {\n                    if (nbb_cells[i].input_prompt_number == nbb_cell_id) {\n                        if (nbb_cells[i].get_text() == nbb_unformatted_code) {\n                             nbb_cells[i].set_text(nbb_formatted_code);\n                        }\n                        break;\n                    }\n                }\n            }, 500);\n            ",
      "text/plain": [
       "<IPython.core.display.Javascript object>"
      ]
     },
     "metadata": {},
     "output_type": "display_data"
    }
   ],
   "source": [
    "df_combined = pyam.concat(\n",
    "    [\n",
    "        df_bio_pe_filtered_pyam,\n",
    "        df_land_cover_filtered\n",
    "    ]\n",
    ")"
   ]
  },
  {
   "cell_type": "code",
   "execution_count": 26,
   "metadata": {},
   "outputs": [
    {
     "data": {
      "application/javascript": "\n            setTimeout(function() {\n                var nbb_cell_id = 26;\n                var nbb_unformatted_code = \"df_combined.to_csv(\\n    Path(\\n        '../data/103_combined_data.csv'\\n    )\\n)\";\n                var nbb_formatted_code = \"df_combined.to_csv(Path(\\\"../data/103_combined_data.csv\\\"))\";\n                var nbb_cells = Jupyter.notebook.get_cells();\n                for (var i = 0; i < nbb_cells.length; ++i) {\n                    if (nbb_cells[i].input_prompt_number == nbb_cell_id) {\n                        if (nbb_cells[i].get_text() == nbb_unformatted_code) {\n                             nbb_cells[i].set_text(nbb_formatted_code);\n                        }\n                        break;\n                    }\n                }\n            }, 500);\n            ",
      "text/plain": [
       "<IPython.core.display.Javascript object>"
      ]
     },
     "metadata": {},
     "output_type": "display_data"
    }
   ],
   "source": [
    "df_combined.to_csv(\n",
    "    Path(\n",
    "        '../data/103_combined_data.csv'\n",
    "    )\n",
    ")"
   ]
  }
 ],
 "metadata": {
  "kernelspec": {
   "display_name": "ar6_cdr_assessment",
   "language": "python",
   "name": "python3"
  },
  "language_info": {
   "codemirror_mode": {
    "name": "ipython",
    "version": 3
   },
   "file_extension": ".py",
   "mimetype": "text/x-python",
   "name": "python",
   "nbconvert_exporter": "python",
   "pygments_lexer": "ipython3",
   "version": "3.10.14"
  }
 },
 "nbformat": 4,
 "nbformat_minor": 2
}
