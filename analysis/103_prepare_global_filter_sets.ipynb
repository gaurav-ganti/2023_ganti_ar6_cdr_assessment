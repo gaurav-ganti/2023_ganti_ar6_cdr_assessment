{
 "cells": [
  {
   "cell_type": "code",
   "execution_count": 1,
   "metadata": {},
   "outputs": [
    {
     "data": {
      "application/javascript": "if (typeof IPython !== 'undefined') { IPython.OutputArea.prototype._should_scroll = function(lines){ return false; }}",
      "text/plain": [
       "<IPython.core.display.Javascript object>"
      ]
     },
     "metadata": {},
     "output_type": "display_data"
    }
   ],
   "source": [
    "import pyam\n",
    "import pandas as pd\n",
    "import numpy as np\n",
    "\n",
    "import dotenv\n",
    "import os\n",
    "from pathlib import Path"
   ]
  },
  {
   "cell_type": "code",
   "execution_count": 2,
   "metadata": {},
   "outputs": [
    {
     "data": {
      "text/plain": [
       "True"
      ]
     },
     "execution_count": 2,
     "metadata": {},
     "output_type": "execute_result"
    }
   ],
   "source": [
    "dotenv.load_dotenv()"
   ]
  },
  {
   "cell_type": "markdown",
   "metadata": {},
   "source": [
    "Step 1: Read in the global AR6 dataset and downselect for the following potential filters:\n",
    "* Primary Energy|Biomass\n",
    "* Land Cover|Cropland|Energy Crops"
   ]
  },
  {
   "cell_type": "code",
   "execution_count": 3,
   "metadata": {},
   "outputs": [],
   "source": [
    "df = pd.read_csv(\n",
    "    os.environ['AR6_DATA'],\n",
    "    index_col=[0,1]\n",
    ")"
   ]
  },
  {
   "cell_type": "code",
   "execution_count": 4,
   "metadata": {},
   "outputs": [],
   "source": [
    "df_bio_pe = (\n",
    "    df[df['Variable']=='Primary Energy|Biomass']\n",
    ")"
   ]
  },
  {
   "cell_type": "code",
   "execution_count": 5,
   "metadata": {},
   "outputs": [],
   "source": [
    "df_land_cover = (\n",
    "    df[df['Variable']=='Land Cover|Cropland|Energy Crops']\n",
    ")"
   ]
  },
  {
   "cell_type": "markdown",
   "metadata": {},
   "source": [
    "Step 2: Read in the scenarios that are covered by Gidden et al."
   ]
  },
  {
   "cell_type": "code",
   "execution_count": 6,
   "metadata": {},
   "outputs": [],
   "source": [
    "gidden_scens = pd.read_csv(\n",
    "    os.environ['GIDDEN_META'],\n",
    "    index_col=[0,1]\n",
    ")"
   ]
  },
  {
   "cell_type": "markdown",
   "metadata": {},
   "source": [
    "Step 3: Pull out the intersection of the scenarios."
   ]
  },
  {
   "cell_type": "code",
   "execution_count": 7,
   "metadata": {},
   "outputs": [],
   "source": [
    "scens_intersection = (\n",
    "    df_bio_pe\n",
    "    .index\n",
    "    .intersection(gidden_scens.index)\n",
    ")"
   ]
  },
  {
   "cell_type": "code",
   "execution_count": 8,
   "metadata": {},
   "outputs": [],
   "source": [
    "df_bio_pe_filtered = (\n",
    "    df_bio_pe\n",
    "    .loc[scens_intersection]\n",
    ")"
   ]
  },
  {
   "cell_type": "code",
   "execution_count": 9,
   "metadata": {},
   "outputs": [],
   "source": [
    "df_bio_pe_filtered_pyam = pyam.IamDataFrame(\n",
    "    df_bio_pe_filtered\n",
    "    .reset_index()\n",
    ")"
   ]
  },
  {
   "cell_type": "code",
   "execution_count": 10,
   "metadata": {},
   "outputs": [],
   "source": [
    "scens_intersection_land = (\n",
    "    df_land_cover\n",
    "    .index\n",
    "    .intersection(gidden_scens.index)\n",
    ")"
   ]
  },
  {
   "cell_type": "code",
   "execution_count": 11,
   "metadata": {},
   "outputs": [],
   "source": [
    "df_land_cover_filtered = pyam.IamDataFrame(\n",
    "    df_land_cover\n",
    "    .loc[scens_intersection_land]\n",
    "    .reset_index()\n",
    ")"
   ]
  },
  {
   "cell_type": "markdown",
   "metadata": {},
   "source": [
    "Step 4: Identify the maximum level of PE bioenergy as well as the maximum land cover allocated to energy crops."
   ]
  },
  {
   "cell_type": "code",
   "execution_count": 12,
   "metadata": {},
   "outputs": [],
   "source": [
    "df_bio_pe_filtered_pyam.set_meta_from_data(\n",
    "    name='pe_bio_max',\n",
    "    variable='Primary Energy|Biomass',\n",
    "    method=np.max\n",
    ")"
   ]
  },
  {
   "cell_type": "code",
   "execution_count": 13,
   "metadata": {},
   "outputs": [],
   "source": [
    "df_land_cover_filtered.set_meta_from_data(\n",
    "    name='land_cover_max',\n",
    "    variable='Land Cover|Cropland|Energy Crops',\n",
    "    method=np.max\n",
    ")"
   ]
  },
  {
   "cell_type": "markdown",
   "metadata": {},
   "source": [
    "Step 5: Set a new exclude column to False."
   ]
  },
  {
   "cell_type": "code",
   "execution_count": 14,
   "metadata": {},
   "outputs": [],
   "source": [
    "df_bio_pe_filtered_pyam.set_meta(\n",
    "    name='bio_sustainable',\n",
    "    meta=False\n",
    ")"
   ]
  },
  {
   "cell_type": "code",
   "execution_count": 15,
   "metadata": {},
   "outputs": [],
   "source": [
    "df_land_cover_filtered.set_meta(\n",
    "    name='land_sustainable',\n",
    "    meta=False\n",
    ")"
   ]
  },
  {
   "cell_type": "code",
   "execution_count": 16,
   "metadata": {},
   "outputs": [],
   "source": [
    "scens_pass = (\n",
    "    df_bio_pe_filtered_pyam.meta[df_bio_pe_filtered_pyam.meta['pe_bio_max'] <= 100].index\n",
    ")"
   ]
  },
  {
   "cell_type": "code",
   "execution_count": 17,
   "metadata": {},
   "outputs": [],
   "source": [
    "df_bio_pe_filtered_pyam.set_meta(\n",
    "    name='bio_sustainable',\n",
    "    meta=True,\n",
    "    index=scens_pass\n",
    ")"
   ]
  },
  {
   "cell_type": "code",
   "execution_count": 18,
   "metadata": {},
   "outputs": [],
   "source": [
    "filter_set_bio = df_bio_pe_filtered_pyam.meta"
   ]
  },
  {
   "cell_type": "code",
   "execution_count": 19,
   "metadata": {},
   "outputs": [],
   "source": [
    "filter_set_bio.to_csv(\n",
    "    Path(\n",
    "        '../data/103_filter_set_bio.csv'\n",
    "    )\n",
    ")"
   ]
  },
  {
   "cell_type": "code",
   "execution_count": 20,
   "metadata": {},
   "outputs": [],
   "source": [
    "df_land_cover_filtered.meta.to_csv(\n",
    "    Path(\n",
    "        '../data/103_filter_set_land.csv'\n",
    "    )\n",
    ")"
   ]
  }
 ],
 "metadata": {
  "kernelspec": {
   "display_name": "ar6_cdr_assessment",
   "language": "python",
   "name": "python3"
  },
  "language_info": {
   "codemirror_mode": {
    "name": "ipython",
    "version": 3
   },
   "file_extension": ".py",
   "mimetype": "text/x-python",
   "name": "python",
   "nbconvert_exporter": "python",
   "pygments_lexer": "ipython3",
   "version": "3.10.13"
  }
 },
 "nbformat": 4,
 "nbformat_minor": 2
}
