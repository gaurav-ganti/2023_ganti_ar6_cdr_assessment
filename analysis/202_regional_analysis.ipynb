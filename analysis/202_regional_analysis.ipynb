{
 "cells": [
  {
   "cell_type": "code",
   "execution_count": 1,
   "metadata": {},
   "outputs": [
    {
     "data": {
      "application/javascript": "if (typeof IPython !== 'undefined') { IPython.OutputArea.prototype._should_scroll = function(lines){ return false; }}",
      "text/plain": [
       "<IPython.core.display.Javascript object>"
      ]
     },
     "metadata": {},
     "output_type": "display_data"
    }
   ],
   "source": [
    "import pyam\n",
    "import numpy as np\n",
    "import pandas as pd\n",
    "\n",
    "import matplotlib.pyplot as plt\n",
    "import seaborn as sns\n",
    "from matplotlib.lines import Line2D\n",
    "from matplotlib.patches import Patch\n",
    "import matplotlib.transforms as mtransforms\n",
    "import string\n",
    "\n",
    "from pathlib import Path"
   ]
  },
  {
   "cell_type": "markdown",
   "metadata": {},
   "source": [
    "Step 1: Read in the necessary data. We will use two datasets here:\n",
    "* 101_data.xlsx\n",
    "* 291_total_mitigation_netzero.xlsx"
   ]
  },
  {
   "cell_type": "code",
   "execution_count": 2,
   "metadata": {},
   "outputs": [
    {
     "name": "stderr",
     "output_type": "stream",
     "text": [
      "pyam - INFO: Running in a notebook, setting up a basic logging at level INFO\n",
      "pyam.core - INFO: Reading file ../data/101_data.xlsx\n",
      "pyam.core - INFO: Reading meta indicators\n"
     ]
    }
   ],
   "source": [
    "df = pyam.IamDataFrame(\n",
    "    Path(\n",
    "        '../data/101_data.xlsx'\n",
    "    )\n",
    ")"
   ]
  },
  {
   "cell_type": "code",
   "execution_count": 3,
   "metadata": {},
   "outputs": [],
   "source": [
    "netzero_effort = pd.read_excel(\n",
    "    Path(\n",
    "        '../data/201_total_mitigation_netzero.xlsx'\n",
    "    ),\n",
    "    index_col=[0,1]\n",
    ")"
   ]
  },
  {
   "cell_type": "markdown",
   "metadata": {},
   "source": [
    "Step 2: Filter for the necessary variables."
   ]
  },
  {
   "cell_type": "code",
   "execution_count": 4,
   "metadata": {},
   "outputs": [],
   "source": [
    "variables = [\n",
    "    'AR6 Reanalysis|OSCARv3.2|Emissions|CO2|Gross',\n",
    "    'AR6 Reanalysis|OSCARv3.2|Emissions|CO2|Direct Only',#new\n",
    "    'AR6 Reanalysis|OSCARv3.2|Carbon Removal|Land|Direct',\n",
    "    'AR6 Reanalysis|OSCARv3.2|Carbon Removal|Non-Land',\n",
    "]"
   ]
  },
  {
   "cell_type": "markdown",
   "metadata": {},
   "source": [
    "Step 3: Do necessary unit conversions and concatenate data."
   ]
  },
  {
   "cell_type": "code",
   "execution_count": 5,
   "metadata": {},
   "outputs": [],
   "source": [
    "panel_a_part_1 = (\n",
    "    df\n",
    "    .filter(\n",
    "        variable=variables[0:2],\n",
    "    )\n",
    ")"
   ]
  },
  {
   "cell_type": "code",
   "execution_count": 6,
   "metadata": {},
   "outputs": [],
   "source": [
    "panel_a_part_2 = (\n",
    "    df\n",
    "    .filter(\n",
    "        variable=variables[2:4]\n",
    "    )\n",
    "    .convert_unit(\n",
    "        current='Gt CO2/yr',\n",
    "        to='Gt CO2/yr',\n",
    "        factor=-1\n",
    "    )\n",
    ")"
   ]
  },
  {
   "cell_type": "code",
   "execution_count": 7,
   "metadata": {},
   "outputs": [],
   "source": [
    "panel_a = pyam.concat(\n",
    "    [\n",
    "        panel_a_part_1,\n",
    "        panel_a_part_2\n",
    "    ]\n",
    ")"
   ]
  },
  {
   "cell_type": "markdown",
   "metadata": {},
   "source": [
    "Step 4: Calculate offset from 2020."
   ]
  },
  {
   "cell_type": "code",
   "execution_count": 8,
   "metadata": {},
   "outputs": [],
   "source": [
    "panel_a_offset = (\n",
    "    panel_a\n",
    "    .filter(\n",
    "        year=range(2020, 2101)\n",
    "    )\n",
    "    .offset(year=2020)\n",
    ")"
   ]
  },
  {
   "cell_type": "code",
   "execution_count": 9,
   "metadata": {},
   "outputs": [],
   "source": [
    "panel_a_percent = pyam.IamDataFrame(\n",
    "    panel_a_offset\n",
    "    .timeseries()\n",
    "    .apply(\n",
    "        lambda x: x * 100/ netzero_effort.loc[x.name[0:2],'netzero'],\n",
    "        axis=1\n",
    "    )\n",
    ")"
   ]
  },
  {
   "cell_type": "code",
   "execution_count": 10,
   "metadata": {},
   "outputs": [],
   "source": [
    "panel_a_percent.meta = df.meta\n",
    "panel_a_offset.meta = df.meta"
   ]
  },
  {
   "cell_type": "markdown",
   "metadata": {},
   "source": [
    "Step 5: Construct a table with the estimates."
   ]
  },
  {
   "cell_type": "code",
   "execution_count": 11,
   "metadata": {},
   "outputs": [],
   "source": [
    "table = pd.DataFrame(\n",
    "    index=pd.MultiIndex.from_product(\n",
    "        [  \n",
    "            panel_a_offset.region,\n",
    "            ['C1', 'C2', 'C3']\n",
    "        ]\n",
    "    ),\n",
    "    columns=pd.MultiIndex.from_product(\n",
    "        [variables, ['max', 'year_max']]\n",
    "    )\n",
    ")"
   ]
  },
  {
   "cell_type": "code",
   "execution_count": 12,
   "metadata": {},
   "outputs": [],
   "source": [
    "for region in panel_a_percent.region:\n",
    "    for variable in variables:\n",
    "        for cat in ['C1', 'C2', 'C3']:\n",
    "            data = (\n",
    "                panel_a_percent\n",
    "                .filter(\n",
    "                    region=region,\n",
    "                    variable=variable,\n",
    "                    Category=cat\n",
    "                )\n",
    "                .timeseries()\n",
    "            )\n",
    "            m = data.max(axis=1)\n",
    "            m_y = data.apply(\n",
    "                lambda x: x[x==x.max()].index.min(),\n",
    "                axis=1\n",
    "            )\n",
    "            table.loc[(region, cat), (variable, 'max')] = f'{m.median().round(2)} [{m.quantile(q=0.25).round(2)}-{m.quantile(q=0.75).round(2)}]'\n",
    "            table.loc[(region, cat), (variable, 'year_max')] = f'{m_y.median()} [{m_y.quantile(q=0.25)}-{m_y.quantile(q=0.75)}]'"
   ]
  },
  {
   "cell_type": "code",
   "execution_count": 13,
   "metadata": {},
   "outputs": [],
   "source": [
    "table_formatted = (\n",
    "    table\n",
    "    .loc[\n",
    "        :,\n",
    "        pd.IndexSlice[\n",
    "            [\n",
    "                'AR6 Reanalysis|OSCARv3.2|Emissions|CO2|Gross',\n",
    "                'AR6 Reanalysis|OSCARv3.2|Carbon Removal|Land|Direct',\n",
    "                'AR6 Reanalysis|OSCARv3.2|Carbon Removal|Non-Land'\n",
    "            ],\n",
    "            :\n",
    "        ]\n",
    "    ]\n",
    "    .rename(\n",
    "        columns={\n",
    "            'AR6 Reanalysis|OSCARv3.2|Emissions|CO2|Gross':'Gross CO2 reductions',\n",
    "            'AR6 Reanalysis|OSCARv3.2|Carbon Removal|Land|Direct':'Land CDR',\n",
    "            'AR6 Reanalysis|OSCARv3.2|Carbon Removal|Non-Land':'Novel CDR'\n",
    "        }\n",
    "    )\n",
    "    #.unstack()\n",
    "    .swaplevel(axis=0)\n",
    "    #.swaplevel(i=-2, j=-1, axis=1)\n",
    "    .sort_index(axis=0)\n",
    ")"
   ]
  },
  {
   "cell_type": "code",
   "execution_count": 14,
   "metadata": {},
   "outputs": [
    {
     "data": {
      "text/html": [
       "<div>\n",
       "<style scoped>\n",
       "    .dataframe tbody tr th:only-of-type {\n",
       "        vertical-align: middle;\n",
       "    }\n",
       "\n",
       "    .dataframe tbody tr th {\n",
       "        vertical-align: top;\n",
       "    }\n",
       "\n",
       "    .dataframe thead tr th {\n",
       "        text-align: left;\n",
       "    }\n",
       "</style>\n",
       "<table border=\"1\" class=\"dataframe\">\n",
       "  <thead>\n",
       "    <tr>\n",
       "      <th></th>\n",
       "      <th></th>\n",
       "      <th colspan=\"2\" halign=\"left\">Gross CO2 reductions</th>\n",
       "      <th colspan=\"2\" halign=\"left\">Land CDR</th>\n",
       "      <th colspan=\"2\" halign=\"left\">Novel CDR</th>\n",
       "    </tr>\n",
       "    <tr>\n",
       "      <th></th>\n",
       "      <th></th>\n",
       "      <th>max</th>\n",
       "      <th>year_max</th>\n",
       "      <th>max</th>\n",
       "      <th>year_max</th>\n",
       "      <th>max</th>\n",
       "      <th>year_max</th>\n",
       "    </tr>\n",
       "  </thead>\n",
       "  <tbody>\n",
       "    <tr>\n",
       "      <th rowspan=\"6\" valign=\"top\">C1</th>\n",
       "      <th>R5ASIA</th>\n",
       "      <td>38.84 [37.74-43.04]</td>\n",
       "      <td>2090.0 [2060.0-2100.0]</td>\n",
       "      <td>1.85 [1.18-3.7]</td>\n",
       "      <td>2042.0 [2032.0-2049.75]</td>\n",
       "      <td>4.61 [3.67-8.38]</td>\n",
       "      <td>2100.0 [2075.0-2100.0]</td>\n",
       "    </tr>\n",
       "    <tr>\n",
       "      <th>R5LAM</th>\n",
       "      <td>8.69 [7.57-9.46]</td>\n",
       "      <td>2073.0 [2055.0-2100.0]</td>\n",
       "      <td>2.54 [0.9-3.76]</td>\n",
       "      <td>2051.0 [2033.75-2057.0]</td>\n",
       "      <td>4.67 [2.37-6.14]</td>\n",
       "      <td>2100.0 [2075.0-2100.0]</td>\n",
       "    </tr>\n",
       "    <tr>\n",
       "      <th>R5MAF</th>\n",
       "      <td>9.57 [8.79-10.26]</td>\n",
       "      <td>2060.0 [2055.0-2090.0]</td>\n",
       "      <td>2.97 [0.51-4.05]</td>\n",
       "      <td>2054.0 [2032.0-2063.0]</td>\n",
       "      <td>3.42 [3.02-4.67]</td>\n",
       "      <td>2095.0 [2080.0-2100.0]</td>\n",
       "    </tr>\n",
       "    <tr>\n",
       "      <th>R5OECD90+EU</th>\n",
       "      <td>24.88 [23.98-26.36]</td>\n",
       "      <td>2100.0 [2062.5-2100.0]</td>\n",
       "      <td>0.63 [0.01-1.79]</td>\n",
       "      <td>2050.0 [2021.0-2060.0]</td>\n",
       "      <td>5.67 [3.04-9.54]</td>\n",
       "      <td>2100.0 [2065.0-2100.0]</td>\n",
       "    </tr>\n",
       "    <tr>\n",
       "      <th>R5REF</th>\n",
       "      <td>6.54 [6.26-7.04]</td>\n",
       "      <td>2077.5 [2060.0-2100.0]</td>\n",
       "      <td>0.25 [0.0-0.38]</td>\n",
       "      <td>2050.5 [2021.0-2059.75]</td>\n",
       "      <td>1.41 [0.51-2.17]</td>\n",
       "      <td>2090.0 [2075.0-2100.0]</td>\n",
       "    </tr>\n",
       "    <tr>\n",
       "      <th>World</th>\n",
       "      <td>90.39 [86.78-95.68]</td>\n",
       "      <td>2095.0 [2060.0-2100.0]</td>\n",
       "      <td>7.78 [6.58-11.12]</td>\n",
       "      <td>2051.0 [2032.0-2056.0]</td>\n",
       "      <td>18.67 [14.35-32.91]</td>\n",
       "      <td>2100.0 [2070.0-2100.0]</td>\n",
       "    </tr>\n",
       "    <tr>\n",
       "      <th rowspan=\"6\" valign=\"top\">C2</th>\n",
       "      <th>R5ASIA</th>\n",
       "      <td>39.66 [37.82-41.07]</td>\n",
       "      <td>2100.0 [2090.0-2100.0]</td>\n",
       "      <td>1.56 [0.86-2.0]</td>\n",
       "      <td>2050.0 [2037.0-2071.0]</td>\n",
       "      <td>8.08 [5.69-10.23]</td>\n",
       "      <td>2100.0 [2100.0-2100.0]</td>\n",
       "    </tr>\n",
       "    <tr>\n",
       "      <th>R5LAM</th>\n",
       "      <td>8.76 [8.08-9.62]</td>\n",
       "      <td>2084.5 [2060.0-2100.0]</td>\n",
       "      <td>2.2 [1.12-3.67]</td>\n",
       "      <td>2051.0 [2042.0-2061.75]</td>\n",
       "      <td>6.18 [4.49-7.06]</td>\n",
       "      <td>2100.0 [2100.0-2100.0]</td>\n",
       "    </tr>\n",
       "    <tr>\n",
       "      <th>R5MAF</th>\n",
       "      <td>10.04 [8.35-11.25]</td>\n",
       "      <td>2090.0 [2066.25-2092.0]</td>\n",
       "      <td>3.05 [0.46-3.96]</td>\n",
       "      <td>2056.5 [2033.25-2072.5]</td>\n",
       "      <td>5.39 [4.54-7.24]</td>\n",
       "      <td>2100.0 [2100.0-2100.0]</td>\n",
       "    </tr>\n",
       "    <tr>\n",
       "      <th>R5OECD90+EU</th>\n",
       "      <td>26.54 [25.18-28.56]</td>\n",
       "      <td>2100.0 [2091.0-2100.0]</td>\n",
       "      <td>0.58 [0.11-0.82]</td>\n",
       "      <td>2051.0 [2036.0-2061.0]</td>\n",
       "      <td>9.21 [7.13-11.78]</td>\n",
       "      <td>2100.0 [2100.0-2100.0]</td>\n",
       "    </tr>\n",
       "    <tr>\n",
       "      <th>R5REF</th>\n",
       "      <td>6.69 [5.38-7.23]</td>\n",
       "      <td>2100.0 [2086.25-2100.0]</td>\n",
       "      <td>0.29 [0.03-0.35]</td>\n",
       "      <td>2050.5 [2026.0-2081.5]</td>\n",
       "      <td>1.56 [1.16-2.5]</td>\n",
       "      <td>2100.0 [2100.0-2100.0]</td>\n",
       "    </tr>\n",
       "    <tr>\n",
       "      <th>World</th>\n",
       "      <td>93.83 [87.95-96.7]</td>\n",
       "      <td>2100.0 [2090.0-2100.0]</td>\n",
       "      <td>7.73 [3.74-9.47]</td>\n",
       "      <td>2051.0 [2037.25-2061.0]</td>\n",
       "      <td>34.1 [25.36-41.05]</td>\n",
       "      <td>2100.0 [2100.0-2100.0]</td>\n",
       "    </tr>\n",
       "    <tr>\n",
       "      <th rowspan=\"6\" valign=\"top\">C3</th>\n",
       "      <th>R5ASIA</th>\n",
       "      <td>37.08 [33.88-39.45]</td>\n",
       "      <td>2100.0 [2080.0-2100.0]</td>\n",
       "      <td>1.55 [0.55-3.27]</td>\n",
       "      <td>2047.0 [2032.0-2068.5]</td>\n",
       "      <td>5.44 [3.6-9.86]</td>\n",
       "      <td>2100.0 [2090.0-2100.0]</td>\n",
       "    </tr>\n",
       "    <tr>\n",
       "      <th>R5LAM</th>\n",
       "      <td>8.35 [6.9-8.88]</td>\n",
       "      <td>2080.0 [2060.0-2100.0]</td>\n",
       "      <td>2.27 [0.91-3.32]</td>\n",
       "      <td>2060.0 [2035.5-2072.0]</td>\n",
       "      <td>4.24 [2.5-6.09]</td>\n",
       "      <td>2100.0 [2085.0-2100.0]</td>\n",
       "    </tr>\n",
       "    <tr>\n",
       "      <th>R5MAF</th>\n",
       "      <td>8.02 [6.73-9.61]</td>\n",
       "      <td>2080.0 [2070.0-2091.0]</td>\n",
       "      <td>1.69 [0.14-3.7]</td>\n",
       "      <td>2058.0 [2028.0-2070.0]</td>\n",
       "      <td>4.06 [3.02-4.71]</td>\n",
       "      <td>2100.0 [2100.0-2100.0]</td>\n",
       "    </tr>\n",
       "    <tr>\n",
       "      <th>R5OECD90+EU</th>\n",
       "      <td>24.64 [22.72-26.12]</td>\n",
       "      <td>2100.0 [2083.5-2100.0]</td>\n",
       "      <td>0.73 [0.06-1.12]</td>\n",
       "      <td>2060.0 [2037.0-2073.0]</td>\n",
       "      <td>6.76 [4.08-10.19]</td>\n",
       "      <td>2100.0 [2080.0-2100.0]</td>\n",
       "    </tr>\n",
       "    <tr>\n",
       "      <th>R5REF</th>\n",
       "      <td>6.39 [5.59-7.02]</td>\n",
       "      <td>2100.0 [2071.0-2100.0]</td>\n",
       "      <td>0.35 [0.01-0.41]</td>\n",
       "      <td>2051.0 [2031.0-2081.0]</td>\n",
       "      <td>1.53 [1.06-2.22]</td>\n",
       "      <td>2100.0 [2090.0-2100.0]</td>\n",
       "    </tr>\n",
       "    <tr>\n",
       "      <th>World</th>\n",
       "      <td>84.79 [77.3-90.94]</td>\n",
       "      <td>2100.0 [2075.0-2100.0]</td>\n",
       "      <td>7.62 [2.89-9.6]</td>\n",
       "      <td>2061.0 [2032.0-2070.0]</td>\n",
       "      <td>24.14 [15.8-34.14]</td>\n",
       "      <td>2100.0 [2100.0-2100.0]</td>\n",
       "    </tr>\n",
       "  </tbody>\n",
       "</table>\n",
       "</div>"
      ],
      "text/plain": [
       "               Gross CO2 reductions                           \\\n",
       "                                max                 year_max   \n",
       "C1 R5ASIA       38.84 [37.74-43.04]   2090.0 [2060.0-2100.0]   \n",
       "   R5LAM           8.69 [7.57-9.46]   2073.0 [2055.0-2100.0]   \n",
       "   R5MAF          9.57 [8.79-10.26]   2060.0 [2055.0-2090.0]   \n",
       "   R5OECD90+EU  24.88 [23.98-26.36]   2100.0 [2062.5-2100.0]   \n",
       "   R5REF           6.54 [6.26-7.04]   2077.5 [2060.0-2100.0]   \n",
       "   World        90.39 [86.78-95.68]   2095.0 [2060.0-2100.0]   \n",
       "C2 R5ASIA       39.66 [37.82-41.07]   2100.0 [2090.0-2100.0]   \n",
       "   R5LAM           8.76 [8.08-9.62]   2084.5 [2060.0-2100.0]   \n",
       "   R5MAF         10.04 [8.35-11.25]  2090.0 [2066.25-2092.0]   \n",
       "   R5OECD90+EU  26.54 [25.18-28.56]   2100.0 [2091.0-2100.0]   \n",
       "   R5REF           6.69 [5.38-7.23]  2100.0 [2086.25-2100.0]   \n",
       "   World         93.83 [87.95-96.7]   2100.0 [2090.0-2100.0]   \n",
       "C3 R5ASIA       37.08 [33.88-39.45]   2100.0 [2080.0-2100.0]   \n",
       "   R5LAM            8.35 [6.9-8.88]   2080.0 [2060.0-2100.0]   \n",
       "   R5MAF           8.02 [6.73-9.61]   2080.0 [2070.0-2091.0]   \n",
       "   R5OECD90+EU  24.64 [22.72-26.12]   2100.0 [2083.5-2100.0]   \n",
       "   R5REF           6.39 [5.59-7.02]   2100.0 [2071.0-2100.0]   \n",
       "   World         84.79 [77.3-90.94]   2100.0 [2075.0-2100.0]   \n",
       "\n",
       "                         Land CDR                           \\\n",
       "                              max                 year_max   \n",
       "C1 R5ASIA         1.85 [1.18-3.7]  2042.0 [2032.0-2049.75]   \n",
       "   R5LAM          2.54 [0.9-3.76]  2051.0 [2033.75-2057.0]   \n",
       "   R5MAF         2.97 [0.51-4.05]   2054.0 [2032.0-2063.0]   \n",
       "   R5OECD90+EU   0.63 [0.01-1.79]   2050.0 [2021.0-2060.0]   \n",
       "   R5REF          0.25 [0.0-0.38]  2050.5 [2021.0-2059.75]   \n",
       "   World        7.78 [6.58-11.12]   2051.0 [2032.0-2056.0]   \n",
       "C2 R5ASIA         1.56 [0.86-2.0]   2050.0 [2037.0-2071.0]   \n",
       "   R5LAM          2.2 [1.12-3.67]  2051.0 [2042.0-2061.75]   \n",
       "   R5MAF         3.05 [0.46-3.96]  2056.5 [2033.25-2072.5]   \n",
       "   R5OECD90+EU   0.58 [0.11-0.82]   2051.0 [2036.0-2061.0]   \n",
       "   R5REF         0.29 [0.03-0.35]   2050.5 [2026.0-2081.5]   \n",
       "   World         7.73 [3.74-9.47]  2051.0 [2037.25-2061.0]   \n",
       "C3 R5ASIA        1.55 [0.55-3.27]   2047.0 [2032.0-2068.5]   \n",
       "   R5LAM         2.27 [0.91-3.32]   2060.0 [2035.5-2072.0]   \n",
       "   R5MAF          1.69 [0.14-3.7]   2058.0 [2028.0-2070.0]   \n",
       "   R5OECD90+EU   0.73 [0.06-1.12]   2060.0 [2037.0-2073.0]   \n",
       "   R5REF         0.35 [0.01-0.41]   2051.0 [2031.0-2081.0]   \n",
       "   World          7.62 [2.89-9.6]   2061.0 [2032.0-2070.0]   \n",
       "\n",
       "                          Novel CDR                          \n",
       "                                max                year_max  \n",
       "C1 R5ASIA          4.61 [3.67-8.38]  2100.0 [2075.0-2100.0]  \n",
       "   R5LAM           4.67 [2.37-6.14]  2100.0 [2075.0-2100.0]  \n",
       "   R5MAF           3.42 [3.02-4.67]  2095.0 [2080.0-2100.0]  \n",
       "   R5OECD90+EU     5.67 [3.04-9.54]  2100.0 [2065.0-2100.0]  \n",
       "   R5REF           1.41 [0.51-2.17]  2090.0 [2075.0-2100.0]  \n",
       "   World        18.67 [14.35-32.91]  2100.0 [2070.0-2100.0]  \n",
       "C2 R5ASIA         8.08 [5.69-10.23]  2100.0 [2100.0-2100.0]  \n",
       "   R5LAM           6.18 [4.49-7.06]  2100.0 [2100.0-2100.0]  \n",
       "   R5MAF           5.39 [4.54-7.24]  2100.0 [2100.0-2100.0]  \n",
       "   R5OECD90+EU    9.21 [7.13-11.78]  2100.0 [2100.0-2100.0]  \n",
       "   R5REF            1.56 [1.16-2.5]  2100.0 [2100.0-2100.0]  \n",
       "   World         34.1 [25.36-41.05]  2100.0 [2100.0-2100.0]  \n",
       "C3 R5ASIA           5.44 [3.6-9.86]  2100.0 [2090.0-2100.0]  \n",
       "   R5LAM            4.24 [2.5-6.09]  2100.0 [2085.0-2100.0]  \n",
       "   R5MAF           4.06 [3.02-4.71]  2100.0 [2100.0-2100.0]  \n",
       "   R5OECD90+EU    6.76 [4.08-10.19]  2100.0 [2080.0-2100.0]  \n",
       "   R5REF           1.53 [1.06-2.22]  2100.0 [2090.0-2100.0]  \n",
       "   World         24.14 [15.8-34.14]  2100.0 [2100.0-2100.0]  "
      ]
     },
     "execution_count": 14,
     "metadata": {},
     "output_type": "execute_result"
    }
   ],
   "source": [
    "table_formatted"
   ]
  },
  {
   "cell_type": "code",
   "execution_count": 15,
   "metadata": {},
   "outputs": [],
   "source": [
    "table_formatted.to_excel(\n",
    "    Path(\n",
    "        '../data/202_summary_data.xlsx'\n",
    "    )\n",
    ")"
   ]
  },
  {
   "cell_type": "markdown",
   "metadata": {},
   "source": [
    "Now, we want to calculate the regional net-negative emissions (and compositions) between net zero CO2 and 2100."
   ]
  },
  {
   "cell_type": "code",
   "execution_count": 16,
   "metadata": {},
   "outputs": [],
   "source": [
    "netzero_column = 'Year of netzero CO2 emissions (Harm-Infilled) table'"
   ]
  },
  {
   "cell_type": "code",
   "execution_count": 17,
   "metadata": {},
   "outputs": [
    {
     "data": {
      "text/plain": [
       "['AR6 Reanalysis|OSCARv3.2|Carbon Removal|Land|Direct',\n",
       " 'AR6 Reanalysis|OSCARv3.2|Carbon Removal|Non-Land',\n",
       " 'AR6 Reanalysis|OSCARv3.2|Emissions|CO2|Direct Only',\n",
       " 'AR6 Reanalysis|OSCARv3.2|Emissions|CO2|Gross']"
      ]
     },
     "execution_count": 17,
     "metadata": {},
     "output_type": "execute_result"
    }
   ],
   "source": [
    "panel_a.variable"
   ]
  },
  {
   "cell_type": "code",
   "execution_count": 18,
   "metadata": {},
   "outputs": [],
   "source": [
    "panel_a_cdr_gross_only = (\n",
    "    panel_a\n",
    "    .filter(\n",
    "        variable=[\n",
    "            'AR6 Reanalysis|OSCARv3.2|Emissions|CO2|Gross',\n",
    "            'AR6 Reanalysis|OSCARv3.2|Carbon Removal|Land|Direct',\n",
    "            'AR6 Reanalysis|OSCARv3.2|Carbon Removal|Non-Land'\n",
    "        ]\n",
    "    )\n",
    ")"
   ]
  },
  {
   "cell_type": "code",
   "execution_count": 19,
   "metadata": {},
   "outputs": [],
   "source": [
    "panel_a_cdr_gross_only.aggregate(\n",
    "    variable='AR6 Reanalysis|OSCARv3.2|Carbon Removal',\n",
    "    components=[\n",
    "        'AR6 Reanalysis|OSCARv3.2|Carbon Removal|Land|Direct',\n",
    "        'AR6 Reanalysis|OSCARv3.2|Carbon Removal|Non-Land'   \n",
    "    ],\n",
    "    append=True\n",
    ")"
   ]
  },
  {
   "cell_type": "markdown",
   "metadata": {},
   "source": [
    "Now, we want to loop through each region and calculate the cumulative CDR, cumulative residual emissions, etc."
   ]
  },
  {
   "cell_type": "code",
   "execution_count": 20,
   "metadata": {},
   "outputs": [],
   "source": [
    "components_and_meta_names = [\n",
    "    ('AR6 Reanalysis|OSCARv3.2|Carbon Removal', 'cdr'),\n",
    "    ('AR6 Reanalysis|OSCARv3.2|Carbon Removal|Land|Direct', 'cdr_land'),\n",
    "    ('AR6 Reanalysis|OSCARv3.2|Carbon Removal|Non-Land', 'cdr_novel'),\n",
    "    ('AR6 Reanalysis|OSCARv3.2|Emissions|CO2|Gross', 'gross')\n",
    "]"
   ]
  },
  {
   "cell_type": "code",
   "execution_count": 21,
   "metadata": {},
   "outputs": [],
   "source": [
    "cols = ['Category']\n",
    "for var, name in components_and_meta_names:\n",
    "    for region in panel_a_cdr_gross_only.region:\n",
    "        data_ts = (\n",
    "            panel_a_cdr_gross_only\n",
    "            .filter(\n",
    "                variable=var,\n",
    "                region=region\n",
    "            )\n",
    "            .timeseries()\n",
    "        )\n",
    "        cumulative = (\n",
    "            data_ts\n",
    "            .apply(\n",
    "                lambda x: pyam.cumulative(\n",
    "                    x,\n",
    "                    first_year=panel_a_cdr_gross_only.meta.loc[x.name[0:2], netzero_column],\n",
    "                    last_year=2100\n",
    "                ),\n",
    "                axis=1\n",
    "            )\n",
    "        )\n",
    "        panel_a_cdr_gross_only.set_meta(\n",
    "            cumulative,\n",
    "            name=f'{name}_{region}'\n",
    "        )\n",
    "        cols.append(f'{name}_{region}')"
   ]
  },
  {
   "cell_type": "markdown",
   "metadata": {},
   "source": [
    "What do we need (per region)?\n",
    "* Cumulative gross emissions\n",
    "* Cumulative removals\n",
    "* Share of novel removals\n",
    "\n",
    "We already have the first two, need to compute the last one."
   ]
  },
  {
   "cell_type": "code",
   "execution_count": 22,
   "metadata": {},
   "outputs": [],
   "source": [
    "for region in panel_a_cdr_gross_only.region:\n",
    "    panel_a_cdr_gross_only.meta.loc[:, f'share_novel_{region}'] = (\n",
    "        panel_a_cdr_gross_only.meta.loc[:, f'cdr_novel_{region}'] * 100\n",
    "        /\n",
    "        (\n",
    "            panel_a_cdr_gross_only.meta.loc[:, f'cdr_novel_{region}']\n",
    "            +\n",
    "            panel_a_cdr_gross_only.meta.loc[:, f'cdr_land_{region}']   \n",
    "        )\n",
    "    )\n",
    "    cols.append(f'share_novel_{region}')"
   ]
  },
  {
   "cell_type": "markdown",
   "metadata": {},
   "source": [
    "Now, we need to know the regional shares of gross emissions and removals as a first step."
   ]
  },
  {
   "cell_type": "code",
   "execution_count": 23,
   "metadata": {},
   "outputs": [
    {
     "data": {
      "text/plain": [
       "['R5ASIA', 'R5LAM', 'R5MAF', 'R5OECD90+EU', 'R5REF', 'World']"
      ]
     },
     "execution_count": 23,
     "metadata": {},
     "output_type": "execute_result"
    }
   ],
   "source": [
    "panel_a_cdr_gross_only.region"
   ]
  },
  {
   "cell_type": "code",
   "execution_count": 24,
   "metadata": {},
   "outputs": [],
   "source": [
    "for region in panel_a_cdr_gross_only.region:\n",
    "    panel_a_cdr_gross_only.meta.loc[:, f'share_gross_{region}'] = (\n",
    "        panel_a_cdr_gross_only.meta.loc[:, f'gross_{region}'] * 100\n",
    "        /\n",
    "        panel_a_cdr_gross_only.meta.loc[:, 'gross_World']\n",
    "    )\n",
    "\n",
    "    panel_a_cdr_gross_only.meta.loc[:, f'share_cdr_{region}'] = (\n",
    "        panel_a_cdr_gross_only.meta.loc[:, f'cdr_{region}'] * 100\n",
    "        /\n",
    "        panel_a_cdr_gross_only.meta.loc[:, 'cdr_World']\n",
    "    )"
   ]
  },
  {
   "cell_type": "code",
   "execution_count": 25,
   "metadata": {},
   "outputs": [],
   "source": [
    "data = panel_a_cdr_gross_only.meta"
   ]
  },
  {
   "cell_type": "code",
   "execution_count": 26,
   "metadata": {},
   "outputs": [],
   "source": [
    "categories_and_colors = {\n",
    "    'C1':'#4dbdab',\n",
    "    'C2':'#7688ab',\n",
    "    'C3':'#e74d4d'\n",
    "}"
   ]
  },
  {
   "cell_type": "code",
   "execution_count": 27,
   "metadata": {},
   "outputs": [
    {
     "data": {
      "image/png": "[encoded data removed]",
      "text/plain": [
       "<Figure size 1200x400 with 2 Axes>"
      ]
     },
     "metadata": {},
     "output_type": "display_data"
    }
   ],
   "source": [
    "fig, ax = plt.subplots(\n",
    "    1,\n",
    "    2,\n",
    "    figsize=(12, 4)\n",
    ")\n",
    "\n",
    "# categories as rows\n",
    "# gross and cdr as columns\n",
    "# do this per region\n",
    "for i, col in enumerate(['share_gross', 'share_cdr']):\n",
    "    for category in ['C1', 'C2', 'C3']:\n",
    "        if category=='C1':\n",
    "            factor = -0.3\n",
    "        elif category=='C2':\n",
    "            factor=0\n",
    "        else:\n",
    "            factor = 0.3\n",
    "        for loc, reg in enumerate(['R5OECD90+EU','R5REF','R5ASIA', 'R5LAM', 'R5MAF']):\n",
    "            location = loc + factor\n",
    "            data_for_plot = data[data['Category']==category][f'{col}_{reg}']\n",
    "            ax[i].bar(\n",
    "                x=location,\n",
    "                bottom=0,\n",
    "                height=data_for_plot.median(),\n",
    "                color=categories_and_colors[category],\n",
    "                width=0.2\n",
    "            )\n",
    "\n",
    "            ax[i].errorbar(\n",
    "                [location, location],\n",
    "                [data_for_plot.quantile(q=0.25), data_for_plot.quantile(q=0.75)],\n",
    "                marker='_',\n",
    "                color='black'\n",
    "            )\n",
    "            ax[i].set_xticks(\n",
    "                range(5),\n",
    "                ['R5OECD90+EU','R5REF','R5ASIA', 'R5LAM', 'R5MAF']\n",
    "            )\n",
    "            ax[i].grid(alpha=0.3)\n",
    "            ax[i].set_ylim(0, 50)\n",
    "\n",
    "ax[0].set_ylabel('Share of cumulative gross CO$_2$\\nbetween net zero CO$_2$ and 2100 [%]')\n",
    "ax[1].set_ylabel('Share of cumulative CDR\\nbetween net zero CO$_2$ and 2100 [%]')\n",
    "\n",
    "# Add a legend common for the plots\n",
    "custom_legend = [\n",
    "   # Line2D([0], [0], color='w', label='Panel a'),\n",
    "    Patch(facecolor=categories_and_colors['C1'], label='C1: limit warming to 1.5°C (>50%) with no or limited overshoot'),\n",
    "    Patch(facecolor=categories_and_colors['C2'], label='C2: return warming to 1.5°C (>50%) after a high overshoot'),\n",
    "    Patch(facecolor=categories_and_colors['C3'], label='C3: limit warming to 1.5°C (>67%)'),\n",
    "]\n",
    "ax[1].legend(handles=custom_legend, bbox_to_anchor=(0.8, -0.1), ncol=2, framealpha=0.0)\n",
    "# Add the usual labels\n",
    "for n, a in enumerate(ax):\n",
    "    a.text(-0.08, 1.08, string.ascii_lowercase[n], transform=a.transAxes, \n",
    "            size=11, weight='bold')"
   ]
  },
  {
   "cell_type": "code",
   "execution_count": 28,
   "metadata": {},
   "outputs": [],
   "source": [
    "fig.savefig(\n",
    "    Path('figures/SI_fig2.png'),\n",
    "    dpi=600,\n",
    "    bbox_inches='tight'\n",
    ")"
   ]
  }
 ],
 "metadata": {
  "kernelspec": {
   "display_name": "cdr_climate_uncertainty",
   "language": "python",
   "name": "python3"
  },
  "language_info": {
   "codemirror_mode": {
    "name": "ipython",
    "version": 3
   },
   "file_extension": ".py",
   "mimetype": "text/x-python",
   "name": "python",
   "nbconvert_exporter": "python",
   "pygments_lexer": "ipython3",
   "version": "3.10.12"
  }
 },
 "nbformat": 4,
 "nbformat_minor": 2
}
