{
 "cells": [
  {
   "cell_type": "code",
   "execution_count": 1,
   "metadata": {},
   "outputs": [
    {
     "data": {
      "application/javascript": "if (typeof IPython !== 'undefined') { IPython.OutputArea.prototype._should_scroll = function(lines){ return false; }}",
      "text/plain": [
       "<IPython.core.display.Javascript object>"
      ]
     },
     "metadata": {},
     "output_type": "display_data"
    }
   ],
   "source": [
    "import pyam\n",
    "import pandas as pd\n",
    "import numpy as np\n",
    "\n",
    "import matplotlib.pyplot as plt\n",
    "\n",
    "from pathlib import Path"
   ]
  },
  {
   "cell_type": "markdown",
   "metadata": {},
   "source": [
    "Step 1: Let us read in the necessary data."
   ]
  },
  {
   "cell_type": "code",
   "execution_count": 2,
   "metadata": {},
   "outputs": [
    {
     "name": "stderr",
     "output_type": "stream",
     "text": [
      "pyam - INFO: Running in a notebook, setting up a basic logging at level INFO\n",
      "pyam.core - INFO: Reading file ../data/101_data.xlsx\n",
      "pyam.core - INFO: Reading meta indicators\n"
     ]
    }
   ],
   "source": [
    "df = pyam.IamDataFrame(\n",
    "    Path(\n",
    "        '../data/101_data.xlsx'\n",
    "    )\n",
    ")"
   ]
  },
  {
   "cell_type": "code",
   "execution_count": 3,
   "metadata": {},
   "outputs": [],
   "source": [
    "df_cdr = (\n",
    "    df\n",
    "    .filter(\n",
    "        variable='*Carbon Removal*'\n",
    "    )\n",
    "    .convert_unit(\n",
    "        current='Gt CO2/yr',\n",
    "        to='Gt CO2/yr',\n",
    "        factor=-1\n",
    "    )\n",
    ")"
   ]
  },
  {
   "cell_type": "code",
   "execution_count": 4,
   "metadata": {},
   "outputs": [],
   "source": [
    "df_compiled = pyam.concat(\n",
    "    [\n",
    "        df_cdr,\n",
    "        df.filter(\n",
    "            variable='*Carbon Removal*',\n",
    "            keep=False\n",
    "        )\n",
    "    ]\n",
    ")"
   ]
  },
  {
   "cell_type": "markdown",
   "metadata": {},
   "source": [
    "Step 2: We first want to identify the regional contributions to the total mitigation burden (i.e., net GHG emission reductions) in the following time periods:\n",
    "* 2020 - 2030\n",
    "* 2030 - 2050\n",
    "* 2050 - 2100"
   ]
  },
  {
   "cell_type": "code",
   "execution_count": 5,
   "metadata": {},
   "outputs": [],
   "source": [
    "time_periods = [\n",
    "    (2020, 2030),\n",
    "    (2030, 2050),\n",
    "    (2050, 2100)\n",
    "]"
   ]
  },
  {
   "cell_type": "code",
   "execution_count": 6,
   "metadata": {},
   "outputs": [],
   "source": [
    "variable = 'AR6 Reanalysis|OSCARv3.2|Emissions|Kyoto Gases|Direct Only'"
   ]
  },
  {
   "cell_type": "code",
   "execution_count": 7,
   "metadata": {},
   "outputs": [],
   "source": [
    "for start, end in time_periods:\n",
    "    # First filter for the necessary data\n",
    "    df_net = (\n",
    "        df_compiled\n",
    "        .filter(year=range(start, end+1))\n",
    "        .offset(year=start)\n",
    "    )\n",
    "    # Next calculate the total mitigation burden\n",
    "    df_compiled.set_meta(\n",
    "        meta=(\n",
    "            df_net\n",
    "            .filter(variable=variable, year=end, region='World')\n",
    "            .timeseries()\n",
    "            .droplevel(['region', 'variable', 'unit'])[end]\n",
    "        ),\n",
    "        name=f'total_mitigation_{start}_{end}'\n",
    "    )\n",
    "    # Per region, calculate the contribution to these reductions\n",
    "    for region in df_compiled.region:\n",
    "        ts = (\n",
    "            df_net\n",
    "            .filter(region=region, variable=variable)\n",
    "            .timeseries()\n",
    "            .apply(\n",
    "                lambda x: x * 100 / df_compiled.meta.loc[x.name[0:2], f'total_mitigation_{start}_{end}'],\n",
    "                axis=1\n",
    "            )\n",
    "            .round(0)\n",
    "        )\n",
    "        df_compiled.set_meta(\n",
    "            meta=ts.droplevel(['region', 'variable', 'unit'])[end],\n",
    "            name=f'contribution_{region}_{start}_{end}'\n",
    "        )"
   ]
  },
  {
   "cell_type": "code",
   "execution_count": 8,
   "metadata": {},
   "outputs": [],
   "source": [
    "cols = [\n",
    "    x for x in df_compiled.meta.columns if 'contribution' in x\n",
    "]\n"
   ]
  },
  {
   "cell_type": "code",
   "execution_count": 9,
   "metadata": {},
   "outputs": [],
   "source": [
    "cols.append('Category')"
   ]
  },
  {
   "cell_type": "code",
   "execution_count": 10,
   "metadata": {},
   "outputs": [],
   "source": [
    "data_net = df_compiled.meta.loc[:, cols]"
   ]
  },
  {
   "cell_type": "code",
   "execution_count": 11,
   "metadata": {},
   "outputs": [],
   "source": [
    "data_net = data_net.reset_index()"
   ]
  },
  {
   "cell_type": "code",
   "execution_count": 12,
   "metadata": {},
   "outputs": [],
   "source": [
    "def format_output_data_frame(df, cols_select,  variable_name, summarise=True):\n",
    "    \"\"\"Function to help format the output dataframe\"\"\"\n",
    "    cols_to_melt = set(cols_select) - set('Category')\n",
    "    melted_data = pd.melt(\n",
    "        frame=df,\n",
    "        id_vars=['model', 'scenario', 'Category'],\n",
    "        value_vars=cols_to_melt\n",
    "    )\n",
    "    #Now, we split the variable column\n",
    "    melted_data.loc[:, 'region'] = (\n",
    "        melted_data.loc[:,'variable'].apply(\n",
    "            lambda x: x.split('_')[1]\n",
    "        )\n",
    "    )\n",
    "    melted_data.loc[:, 'timeframe'] = (\n",
    "        melted_data.loc[:,'variable'].apply(\n",
    "            lambda x: x.split('_')[2] + '-' + x.split('_')[3]\n",
    "        )\n",
    "    )\n",
    "    melted_data.loc[:, 'variable'] = variable_name\n",
    "    if summarise:\n",
    "        summarised_data_raw = (\n",
    "            melted_data\n",
    "            .groupby(['Category', 'region', 'timeframe'])['value']\n",
    "            .describe()\n",
    "            .loc[:, ['25%', '50%', '75%']]\n",
    "        )\n",
    "        summarised_data_raw.loc[:, 'summary'] = (\n",
    "            summarised_data_raw.apply(\n",
    "                lambda x: f\"{x['50%']}% ({x['25%']}-{x['75%']})\",\n",
    "                axis=1\n",
    "            )\n",
    "            \n",
    "        )\n",
    "        summarised_data_clean = summarised_data_raw.loc[:, 'summary'].unstack(level=-1)\n",
    "        summarised_data_clean.loc[:, 'variable'] = variable_name\n",
    "    return melted_data, summarised_data_clean"
   ]
  },
  {
   "cell_type": "code",
   "execution_count": 13,
   "metadata": {},
   "outputs": [],
   "source": [
    "formatted_net_data, summary_net_data = format_output_data_frame(\n",
    "    data_net, \n",
    "    cols, \n",
    "    'contribution_net_kyoto'\n",
    ")"
   ]
  },
  {
   "cell_type": "code",
   "execution_count": 14,
   "metadata": {},
   "outputs": [
    {
     "name": "stdout",
     "output_type": "stream",
     "text": [
      "|                       | 2020-2030            | 2030-2050            | 2050-2100            | variable               |\n",
      "|:----------------------|:---------------------|:---------------------|:---------------------|:-----------------------|\n",
      "| ('C1', 'R5ASIA')      | 45.0% (40.0-48.0)    | 35.0% (32.0-39.0)    | 47.0% (26.5-85.75)   | contribution_net_kyoto |\n",
      "| ('C1', 'R5LAM')       | 11.0% (9.0-12.25)    | 12.0% (11.0-13.0)    | 7.5% (-41.0-20.25)   | contribution_net_kyoto |\n",
      "| ('C1', 'R5MAF')       | 9.5% (8.0-11.0)      | 15.0% (13.0-16.0)    | 14.5% (0.75-48.75)   | contribution_net_kyoto |\n",
      "| ('C1', 'R5OECD90+EU') | 25.0% (24.0-28.0)    | 30.0% (25.0-31.0)    | 19.5% (4.75-26.0)    | contribution_net_kyoto |\n",
      "| ('C1', 'R5REF')       | 8.0% (7.0-8.0)       | 8.0% (6.0-9.0)       | 9.0% (5.75-12.0)     | contribution_net_kyoto |\n",
      "| ('C1', 'World')       | 100.0% (100.0-100.0) | 100.0% (100.0-100.0) | 100.0% (100.0-100.0) | contribution_net_kyoto |\n",
      "| ('C2', 'R5ASIA')      | 41.5% (28.25-46.0)   | 39.0% (35.0-43.0)    | 34.0% (28.75-38.0)   | contribution_net_kyoto |\n",
      "| ('C2', 'R5LAM')       | 12.0% (11.0-17.0)    | 13.0% (11.0-14.0)    | 13.0% (11.0-17.0)    | contribution_net_kyoto |\n",
      "| ('C2', 'R5MAF')       | 7.0% (3.75-9.0)      | 14.0% (12.0-15.0)    | 18.0% (10.0-19.25)   | contribution_net_kyoto |\n",
      "| ('C2', 'R5OECD90+EU') | 27.0% (23.0-52.5)    | 27.5% (23.0-30.0)    | 25.0% (23.0-28.0)    | contribution_net_kyoto |\n",
      "| ('C2', 'R5REF')       | 9.0% (5.0-11.0)      | 7.0% (6.0-9.0)       | 6.0% (5.0-8.0)       | contribution_net_kyoto |\n",
      "| ('C2', 'World')       | 100.0% (100.0-100.0) | 100.0% (100.0-100.0) | 100.0% (100.0-100.0) | contribution_net_kyoto |\n",
      "| ('C3', 'R5ASIA')      | 35.0% (6.0-46.0)     | 43.0% (36.0-49.0)    | 36.0% (31.0-42.0)    | contribution_net_kyoto |\n",
      "| ('C3', 'R5LAM')       | 13.0% (10.0-21.0)    | 12.0% (9.0-14.0)     | 12.0% (8.0-17.0)     | contribution_net_kyoto |\n",
      "| ('C3', 'R5MAF')       | 6.0% (-1.0-9.0)      | 11.0% (9.0-14.0)     | 11.0% (4.0-19.0)     | contribution_net_kyoto |\n",
      "| ('C3', 'R5OECD90+EU') | 32.0% (24.0-74.0)    | 27.0% (22.0-30.0)    | 27.0% (21.0-33.0)    | contribution_net_kyoto |\n",
      "| ('C3', 'R5REF')       | 8.0% (4.0-10.0)      | 8.0% (7.0-10.0)      | 7.0% (5.0-9.0)       | contribution_net_kyoto |\n",
      "| ('C3', 'World')       | 100.0% (100.0-100.0) | 100.0% (100.0-100.0) | 100.0% (100.0-100.0) | contribution_net_kyoto |\n"
     ]
    }
   ],
   "source": [
    "print(summary_net_data.to_markdown())"
   ]
  },
  {
   "cell_type": "code",
   "execution_count": 15,
   "metadata": {},
   "outputs": [],
   "source": [
    "summary_net_data.to_excel(\n",
    "    Path(\n",
    "        'figures/SI_table2.xlsx'\n",
    "    )\n",
    ")"
   ]
  },
  {
   "cell_type": "markdown",
   "metadata": {},
   "source": [
    "Step 3: Now, for each region, we want to take a closer look at the role of gross reductions, non CO2 and CDR."
   ]
  },
  {
   "cell_type": "code",
   "execution_count": 16,
   "metadata": {},
   "outputs": [],
   "source": [
    "def crunch_through_and_summarise_per_region(df, region):\n",
    "    \"\"\"Helper function to crunch through the regional summaries\"\"\"\n",
    "    total_variable = 'AR6 Reanalysis|OSCARv3.2|Emissions|Kyoto Gases|Direct Only'\n",
    "    component_variables = [\n",
    "        ('AR6 Reanalysis|OSCARv3.2|Emissions|CO2|Gross', 'gross'),\n",
    "        ('AR6 Reanalysis|OSCARv3.2|Emissions|NonCO2|Direct Only', 'nonco2'),\n",
    "        ('AR6 Reanalysis|OSCARv3.2|Carbon Removal|Total', 'cdr')    \n",
    "    ]\n",
    "    # Step 1: Pull out the regional data\n",
    "    regional_data = (\n",
    "        df\n",
    "        .filter(\n",
    "            region=region\n",
    "        )\n",
    "    )\n",
    "    # Step 2\n",
    "    for start, end in time_periods:\n",
    "        # First calculate the total mitigation\n",
    "        df_net = (\n",
    "            regional_data\n",
    "            .filter(year=range(start, end+1))\n",
    "            .offset(year=start)\n",
    "        )\n",
    "        # Calculate the total mitigation burden\n",
    "        regional_data.set_meta(\n",
    "            meta=(\n",
    "                df_net\n",
    "                .filter(variable=total_variable, year=end)\n",
    "                .timeseries()\n",
    "                .droplevel(['region', 'variable', 'unit'])[end]\n",
    "            ),\n",
    "            name=f'total_mitigation_{start}_{end}'\n",
    "        )\n",
    "        # Per variable calculate the contributions to these reductions\n",
    "        for variable, label in component_variables:\n",
    "            ts = (\n",
    "                df_net\n",
    "                .filter(variable=variable)\n",
    "                .timeseries()\n",
    "                .apply(\n",
    "                    lambda x: x * 100 / regional_data.meta.loc[x.name[0:2], f'total_mitigation_{start}_{end}'],\n",
    "                    axis=1\n",
    "                )\n",
    "                .round(0)\n",
    "            )\n",
    "            regional_data.set_meta(\n",
    "                meta=ts.droplevel(['region', 'variable', 'unit'])[end],\n",
    "                name=f'{label}_{region}_{start}_{end}'\n",
    "            )\n",
    "    # Step 3\n",
    "    cols = [x[1] for x in component_variables]\n",
    "    df = []\n",
    "    df_sum = []\n",
    "    for var, label in component_variables:\n",
    "        cols = [x for x in regional_data.meta if f'{label}_{region}' in x]\n",
    "        cols.append('Category')\n",
    "        out, out_sum = (\n",
    "            format_output_data_frame(\n",
    "                regional_data.meta.reset_index(),\n",
    "                cols_select=cols,\n",
    "                variable_name=var\n",
    "            )\n",
    "        )\n",
    "        df.append(out)\n",
    "        df_sum.append(out_sum)\n",
    "    \n",
    "    compiled = pd.concat(df)\n",
    "    summary = (\n",
    "        pd.concat(df_sum)\n",
    "        .set_index('variable', append=True)\n",
    "        .sort_index(level=0)\n",
    "    )\n",
    "    return compiled, summary"
   ]
  },
  {
   "cell_type": "code",
   "execution_count": 17,
   "metadata": {},
   "outputs": [],
   "source": [
    "regs = [x for x in df_compiled.region if 'World' not in x]"
   ]
  },
  {
   "cell_type": "code",
   "execution_count": 18,
   "metadata": {},
   "outputs": [
    {
     "data": {
      "text/plain": [
       "['R5ASIA', 'R5LAM', 'R5MAF', 'R5OECD90+EU', 'R5REF']"
      ]
     },
     "execution_count": 18,
     "metadata": {},
     "output_type": "execute_result"
    }
   ],
   "source": [
    "regs"
   ]
  },
  {
   "cell_type": "code",
   "execution_count": 19,
   "metadata": {},
   "outputs": [],
   "source": [
    "final_reg_summary = []\n",
    "for r in regs:\n",
    "    _, sum = crunch_through_and_summarise_per_region(\n",
    "        df_compiled,\n",
    "        r\n",
    "    )\n",
    "    final_reg_summary.append(sum)"
   ]
  },
  {
   "cell_type": "code",
   "execution_count": 21,
   "metadata": {},
   "outputs": [],
   "source": [
    "final_reg_summary_pd = pd.concat(final_reg_summary)"
   ]
  },
  {
   "cell_type": "code",
   "execution_count": 24,
   "metadata": {},
   "outputs": [],
   "source": [
    "final_reg_summary_pd.to_excel(\n",
    "    Path(\n",
    "        'figures/SI_table3.xlsx'\n",
    "    )\n",
    ")"
   ]
  },
  {
   "cell_type": "code",
   "execution_count": null,
   "metadata": {},
   "outputs": [],
   "source": []
  }
 ],
 "metadata": {
  "kernelspec": {
   "display_name": "ar6_cdr_assessment",
   "language": "python",
   "name": "python3"
  },
  "language_info": {
   "codemirror_mode": {
    "name": "ipython",
    "version": 3
   },
   "file_extension": ".py",
   "mimetype": "text/x-python",
   "name": "python",
   "nbconvert_exporter": "python",
   "pygments_lexer": "ipython3",
   "version": "3.10.13"
  }
 },
 "nbformat": 4,
 "nbformat_minor": 2
}
