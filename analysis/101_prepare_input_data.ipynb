{
 "cells": [
  {
   "cell_type": "code",
   "execution_count": 1,
   "metadata": {},
   "outputs": [
    {
     "data": {
      "application/javascript": "if (typeof IPython !== 'undefined') { IPython.OutputArea.prototype._should_scroll = function(lines){ return false; }}",
      "text/plain": [
       "<IPython.core.display.Javascript object>"
      ]
     },
     "metadata": {},
     "output_type": "display_data"
    }
   ],
   "source": [
    "import pyam\n",
    "import pandas as pd\n",
    "\n",
    "import dotenv\n",
    "import os\n",
    "from pathlib import Path"
   ]
  },
  {
   "cell_type": "code",
   "execution_count": 2,
   "metadata": {},
   "outputs": [
    {
     "data": {
      "text/plain": [
       "True"
      ]
     },
     "execution_count": 2,
     "metadata": {},
     "output_type": "execute_result"
    }
   ],
   "source": [
    "dotenv.load_dotenv()"
   ]
  },
  {
   "cell_type": "markdown",
   "metadata": {},
   "source": [
    "Step 1: Read in the Gidden and Gasser et al. dataset"
   ]
  },
  {
   "cell_type": "code",
   "execution_count": 3,
   "metadata": {},
   "outputs": [
    {
     "name": "stderr",
     "output_type": "stream",
     "text": [
      "pyam - INFO: Running in a notebook, setting up a basic logging at level INFO\n",
      "pyam.core - INFO: Reading file /Users/gauravganti/Documents/datasets/gidden_et_al_2022_ar6_reanalysis_data.csv\n"
     ]
    }
   ],
   "source": [
    "df = pyam.IamDataFrame(\n",
    "    Path(\n",
    "        os.environ['GIDDEN_DATA']\n",
    "    )\n",
    ")"
   ]
  },
  {
   "cell_type": "markdown",
   "metadata": {},
   "source": [
    "Step 2: Load the Gidden and Gasser et al. metadata file"
   ]
  },
  {
   "cell_type": "code",
   "execution_count": 4,
   "metadata": {},
   "outputs": [
    {
     "name": "stderr",
     "output_type": "stream",
     "text": [
      "pyam.core - INFO: Reading meta indicators\n"
     ]
    }
   ],
   "source": [
    "df.load_meta(\n",
    "    Path(\n",
    "        os.environ['GIDDEN_META']\n",
    "    )    \n",
    ")"
   ]
  },
  {
   "cell_type": "markdown",
   "metadata": {},
   "source": [
    "Step 3: Filter out for the 1.5°C scenarios."
   ]
  },
  {
   "cell_type": "code",
   "execution_count": 5,
   "metadata": {},
   "outputs": [],
   "source": [
    "df_1p5 = (\n",
    "    df\n",
    "    .filter(\n",
    "        Category=['C1','C2','C3']\n",
    "    )\n",
    ")"
   ]
  },
  {
   "cell_type": "code",
   "execution_count": 6,
   "metadata": {},
   "outputs": [
    {
     "data": {
      "text/plain": [
       "['AR6 Reanalysis|OSCARv3.2|Carbon Removal',\n",
       " 'AR6 Reanalysis|OSCARv3.2|Carbon Removal|Land',\n",
       " 'AR6 Reanalysis|OSCARv3.2|Carbon Removal|Land|Direct',\n",
       " 'AR6 Reanalysis|OSCARv3.2|Carbon Removal|Land|Indirect',\n",
       " 'AR6 Reanalysis|OSCARv3.2|Carbon Removal|Non-Land',\n",
       " 'AR6 Reanalysis|OSCARv3.2|Emissions|CO2',\n",
       " 'AR6 Reanalysis|OSCARv3.2|Emissions|CO2|AFOLU',\n",
       " 'AR6 Reanalysis|OSCARv3.2|Emissions|CO2|AFOLU|Direct',\n",
       " 'AR6 Reanalysis|OSCARv3.2|Emissions|CO2|AFOLU|Indirect',\n",
       " 'AR6 Reanalysis|OSCARv3.2|Emissions|CO2|Direct Only',\n",
       " 'AR6 Reanalysis|OSCARv3.2|Emissions|Kyoto Gases',\n",
       " 'AR6 Reanalysis|OSCARv3.2|Emissions|Kyoto Gases|Direct Only']"
      ]
     },
     "execution_count": 6,
     "metadata": {},
     "output_type": "execute_result"
    }
   ],
   "source": [
    "df_1p5.variable"
   ]
  },
  {
   "cell_type": "markdown",
   "metadata": {},
   "source": [
    "Step 4: Read in the AR6 R5 scenario ddata"
   ]
  },
  {
   "cell_type": "code",
   "execution_count": 7,
   "metadata": {},
   "outputs": [],
   "source": [
    "r5_data = pd.read_csv(\n",
    "    os.environ['AR6_R5_DATA'],\n",
    "    index_col=[0,1]\n",
    ")"
   ]
  },
  {
   "cell_type": "markdown",
   "metadata": {},
   "source": [
    "Step 5: Filter out for the scenarios present in the Gidden, Gasser, et al. data."
   ]
  },
  {
   "cell_type": "code",
   "execution_count": 8,
   "metadata": {},
   "outputs": [],
   "source": [
    "r5_data_selected = r5_data.loc[\n",
    "    df_1p5.meta.index, \n",
    "    :\n",
    "]"
   ]
  },
  {
   "cell_type": "markdown",
   "metadata": {},
   "source": [
    "Step 6: Filter out for the necessary variables and then cast this to a pyam dataframe"
   ]
  },
  {
   "cell_type": "code",
   "execution_count": 9,
   "metadata": {},
   "outputs": [],
   "source": [
    "r5_data_selected_variables = r5_data_selected[\n",
    "    r5_data_selected['Variable'].isin(\n",
    "        [\n",
    "            'Carbon Sequestration|CCS|Biomass',\n",
    "            'Carbon Sequestration|Direct Air Capture',\n",
    "            'Carbon Sequestration|Enhanced Weathering',\n",
    "            'Population'\n",
    "        ]\n",
    "    ) \n",
    "].reset_index()"
   ]
  },
  {
   "cell_type": "code",
   "execution_count": 10,
   "metadata": {},
   "outputs": [],
   "source": [
    "r5_pyam = pyam.IamDataFrame(r5_data_selected_variables)"
   ]
  },
  {
   "cell_type": "code",
   "execution_count": 11,
   "metadata": {},
   "outputs": [
    {
     "data": {
      "text/plain": [
       "{'Carbon Sequestration|CCS|Biomass': 'Mt CO2/yr',\n",
       " 'Carbon Sequestration|Direct Air Capture': 'Mt CO2/yr',\n",
       " 'Carbon Sequestration|Enhanced Weathering': 'Mt CO2/yr',\n",
       " 'Population': 'million'}"
      ]
     },
     "execution_count": 11,
     "metadata": {},
     "output_type": "execute_result"
    }
   ],
   "source": [
    "r5_pyam.unit_mapping"
   ]
  },
  {
   "cell_type": "markdown",
   "metadata": {},
   "source": [
    "Step 7: Compute an aggregate novel removal variable."
   ]
  },
  {
   "cell_type": "code",
   "execution_count": 12,
   "metadata": {},
   "outputs": [],
   "source": [
    "r5_pyam_novel = r5_pyam.aggregate(\n",
    "    variable='AR6 Reanalysis|OSCARv3.2|Carbon Removal|Non-Land',\n",
    "    components=[\n",
    "        'Carbon Sequestration|CCS|Biomass',\n",
    "        'Carbon Sequestration|Direct Air Capture',\n",
    "        'Carbon Sequestration|Enhanced Weathering'   \n",
    "    ]\n",
    ")"
   ]
  },
  {
   "cell_type": "markdown",
   "metadata": {},
   "source": [
    "Step 8: Now, we also pull out the `Population` variable that will be applied later in the assessment."
   ]
  },
  {
   "cell_type": "code",
   "execution_count": 13,
   "metadata": {},
   "outputs": [],
   "source": [
    "r5_pyam_population = r5_pyam.filter(\n",
    "    variable='Population'\n",
    ")"
   ]
  },
  {
   "cell_type": "code",
   "execution_count": 14,
   "metadata": {},
   "outputs": [],
   "source": [
    "r5_pyam_population.interpolate(\n",
    "    time=range(2020, 2101),\n",
    "    inplace=True\n",
    ")"
   ]
  },
  {
   "cell_type": "code",
   "execution_count": 15,
   "metadata": {},
   "outputs": [],
   "source": [
    "r5_pyam_novel.interpolate(\n",
    "    time=range(2020, 2101),\n",
    "    inplace=True\n",
    ")"
   ]
  },
  {
   "cell_type": "markdown",
   "metadata": {},
   "source": [
    "Step 9: Concatenate with the existing 1.5°C scenario dataset."
   ]
  },
  {
   "cell_type": "code",
   "execution_count": 16,
   "metadata": {},
   "outputs": [],
   "source": [
    "df_1p5 = pyam.concat(\n",
    "    [df_1p5, r5_pyam_novel, r5_pyam_population]\n",
    ")"
   ]
  },
  {
   "cell_type": "markdown",
   "metadata": {},
   "source": [
    "Step 10: Calculate the gross emission reductions."
   ]
  },
  {
   "cell_type": "code",
   "execution_count": 17,
   "metadata": {},
   "outputs": [],
   "source": [
    "df_1p5.aggregate(\n",
    "    variable='AR6 Reanalysis|OSCARv3.2|Carbon Removal|Total',\n",
    "    components=[\n",
    "        'AR6 Reanalysis|OSCARv3.2|Carbon Removal|Land|Direct',\n",
    "        'AR6 Reanalysis|OSCARv3.2|Carbon Removal|Non-Land'\n",
    "    ],\n",
    "    append=True\n",
    ")"
   ]
  },
  {
   "cell_type": "code",
   "execution_count": 18,
   "metadata": {},
   "outputs": [],
   "source": [
    "df_1p5.aggregate(\n",
    "    variable='AR6 Reanalysis|OSCARv3.2|Emissions|CO2|Gross',\n",
    "    components=[\n",
    "        'AR6 Reanalysis|OSCARv3.2|Emissions|CO2|Direct Only',\n",
    "        'AR6 Reanalysis|OSCARv3.2|Carbon Removal|Total' # Checked with Matt\n",
    "    ],\n",
    "    append=True\n",
    ")"
   ]
  },
  {
   "cell_type": "markdown",
   "metadata": {},
   "source": [
    "Step 11: Convert all units to Gt"
   ]
  },
  {
   "cell_type": "code",
   "execution_count": 19,
   "metadata": {},
   "outputs": [
    {
     "data": {
      "text/plain": [
       "{'AR6 Reanalysis|OSCARv3.2|Carbon Removal': 'Mt CO2/yr',\n",
       " 'AR6 Reanalysis|OSCARv3.2|Carbon Removal|Land': 'Mt CO2/yr',\n",
       " 'AR6 Reanalysis|OSCARv3.2|Carbon Removal|Land|Direct': 'Mt CO2/yr',\n",
       " 'AR6 Reanalysis|OSCARv3.2|Carbon Removal|Land|Indirect': 'Mt CO2/yr',\n",
       " 'AR6 Reanalysis|OSCARv3.2|Carbon Removal|Non-Land': 'Mt CO2/yr',\n",
       " 'AR6 Reanalysis|OSCARv3.2|Carbon Removal|Total': 'Mt CO2/yr',\n",
       " 'AR6 Reanalysis|OSCARv3.2|Emissions|CO2': 'Mt CO2/yr',\n",
       " 'AR6 Reanalysis|OSCARv3.2|Emissions|CO2|AFOLU': 'Mt CO2/yr',\n",
       " 'AR6 Reanalysis|OSCARv3.2|Emissions|CO2|AFOLU|Direct': 'Mt CO2/yr',\n",
       " 'AR6 Reanalysis|OSCARv3.2|Emissions|CO2|AFOLU|Indirect': 'Mt CO2/yr',\n",
       " 'AR6 Reanalysis|OSCARv3.2|Emissions|CO2|Direct Only': 'Mt CO2/yr',\n",
       " 'AR6 Reanalysis|OSCARv3.2|Emissions|CO2|Gross': 'Mt CO2/yr',\n",
       " 'AR6 Reanalysis|OSCARv3.2|Emissions|Kyoto Gases': 'Mt CO2-equiv/yr',\n",
       " 'AR6 Reanalysis|OSCARv3.2|Emissions|Kyoto Gases|Direct Only': 'Mt CO2-equiv/yr',\n",
       " 'Population': 'million'}"
      ]
     },
     "execution_count": 19,
     "metadata": {},
     "output_type": "execute_result"
    }
   ],
   "source": [
    "df_1p5.unit_mapping"
   ]
  },
  {
   "cell_type": "code",
   "execution_count": 20,
   "metadata": {},
   "outputs": [],
   "source": [
    "df_1p5.convert_unit(\n",
    "    current='Mt CO2/yr',\n",
    "    to='Gt CO2/yr',\n",
    "    inplace=True\n",
    ")"
   ]
  },
  {
   "cell_type": "code",
   "execution_count": 21,
   "metadata": {},
   "outputs": [],
   "source": [
    "df_1p5.convert_unit(\n",
    "    current='Mt CO2-equiv/yr',\n",
    "    to='Gt CO2-equiv/yr',\n",
    "    inplace=True\n",
    ")"
   ]
  },
  {
   "cell_type": "code",
   "execution_count": 22,
   "metadata": {},
   "outputs": [
    {
     "data": {
      "text/plain": [
       "{'AR6 Reanalysis|OSCARv3.2|Carbon Removal': 'Gt CO2/yr',\n",
       " 'AR6 Reanalysis|OSCARv3.2|Carbon Removal|Land': 'Gt CO2/yr',\n",
       " 'AR6 Reanalysis|OSCARv3.2|Carbon Removal|Land|Direct': 'Gt CO2/yr',\n",
       " 'AR6 Reanalysis|OSCARv3.2|Carbon Removal|Land|Indirect': 'Gt CO2/yr',\n",
       " 'AR6 Reanalysis|OSCARv3.2|Carbon Removal|Non-Land': 'Gt CO2/yr',\n",
       " 'AR6 Reanalysis|OSCARv3.2|Carbon Removal|Total': 'Gt CO2/yr',\n",
       " 'AR6 Reanalysis|OSCARv3.2|Emissions|CO2': 'Gt CO2/yr',\n",
       " 'AR6 Reanalysis|OSCARv3.2|Emissions|CO2|AFOLU': 'Gt CO2/yr',\n",
       " 'AR6 Reanalysis|OSCARv3.2|Emissions|CO2|AFOLU|Direct': 'Gt CO2/yr',\n",
       " 'AR6 Reanalysis|OSCARv3.2|Emissions|CO2|AFOLU|Indirect': 'Gt CO2/yr',\n",
       " 'AR6 Reanalysis|OSCARv3.2|Emissions|CO2|Direct Only': 'Gt CO2/yr',\n",
       " 'AR6 Reanalysis|OSCARv3.2|Emissions|CO2|Gross': 'Gt CO2/yr',\n",
       " 'AR6 Reanalysis|OSCARv3.2|Emissions|Kyoto Gases': 'Gt CO2-equiv/yr',\n",
       " 'AR6 Reanalysis|OSCARv3.2|Emissions|Kyoto Gases|Direct Only': 'Gt CO2-equiv/yr',\n",
       " 'Population': 'million'}"
      ]
     },
     "execution_count": 22,
     "metadata": {},
     "output_type": "execute_result"
    }
   ],
   "source": [
    "df_1p5.unit_mapping"
   ]
  },
  {
   "cell_type": "markdown",
   "metadata": {},
   "source": [
    "Step 12: Pull out the year of net zero CO2 emissions from the data."
   ]
  },
  {
   "cell_type": "code",
   "execution_count": 23,
   "metadata": {},
   "outputs": [],
   "source": [
    "column_net_zero = 'Year of netzero CO2 emissions (Harm-Infilled) table'"
   ]
  },
  {
   "cell_type": "markdown",
   "metadata": {},
   "source": [
    "Step 13: We will need to calculate the cumulative removals between net zero and 2100"
   ]
  },
  {
   "cell_type": "code",
   "execution_count": 24,
   "metadata": {},
   "outputs": [],
   "source": [
    "cdr_total = (\n",
    "    df_1p5\n",
    "    .filter(\n",
    "        variable='*Total',\n",
    "        region='World'\n",
    "    )\n",
    "    .timeseries()\n",
    ")"
   ]
  },
  {
   "cell_type": "code",
   "execution_count": 25,
   "metadata": {},
   "outputs": [],
   "source": [
    "cdr_cumulative_net_zero_2100 = cdr_total.apply(\n",
    "    lambda x: pyam.cumulative(\n",
    "        x,\n",
    "        first_year=df_1p5.meta.loc[(x.name[0], x.name[1]), column_net_zero],\n",
    "        last_year=2100\n",
    "    ),\n",
    "    axis=1\n",
    ")"
   ]
  },
  {
   "cell_type": "code",
   "execution_count": 26,
   "metadata": {},
   "outputs": [],
   "source": [
    "df_1p5.set_meta(\n",
    "    meta=cdr_cumulative_net_zero_2100,\n",
    "    name='cumulative_cdr_netzero_2100'\n",
    ")"
   ]
  },
  {
   "cell_type": "markdown",
   "metadata": {},
   "source": [
    "Step 14: Set the gross emissions and total CDR at net zero across all the pathways"
   ]
  },
  {
   "cell_type": "code",
   "execution_count": 27,
   "metadata": {},
   "outputs": [],
   "source": [
    "cdr_net_zero = cdr_total.apply(\n",
    "    lambda x: pyam.cumulative(\n",
    "        x,\n",
    "        first_year=df_1p5.meta.loc[(x.name[0], x.name[1]), column_net_zero],\n",
    "        last_year=df_1p5.meta.loc[(x.name[0], x.name[1]), column_net_zero]\n",
    "    ),\n",
    "    axis=1\n",
    ")"
   ]
  },
  {
   "cell_type": "code",
   "execution_count": 28,
   "metadata": {},
   "outputs": [],
   "source": [
    "df_1p5.set_meta(\n",
    "    meta=cdr_net_zero,\n",
    "    name='cdr_net_zero'\n",
    ")"
   ]
  },
  {
   "cell_type": "code",
   "execution_count": 29,
   "metadata": {},
   "outputs": [],
   "source": [
    "gross_total = (\n",
    "    df_1p5\n",
    "    .filter(\n",
    "        variable='*Gross',\n",
    "        region='World'\n",
    "    )\n",
    "    .timeseries()\n",
    ")"
   ]
  },
  {
   "cell_type": "code",
   "execution_count": 30,
   "metadata": {},
   "outputs": [],
   "source": [
    "gross_net_zero = gross_total.apply(\n",
    "    lambda x: pyam.cumulative(\n",
    "        x,\n",
    "        first_year=df_1p5.meta.loc[(x.name[0], x.name[1]), column_net_zero],\n",
    "        last_year=df_1p5.meta.loc[(x.name[0], x.name[1]), column_net_zero]\n",
    "    ),\n",
    "    axis=1\n",
    ")"
   ]
  },
  {
   "cell_type": "code",
   "execution_count": 31,
   "metadata": {},
   "outputs": [],
   "source": [
    "df_1p5.set_meta(\n",
    "    meta=gross_net_zero,\n",
    "    name='gross_net_zero'\n",
    ")"
   ]
  },
  {
   "cell_type": "code",
   "execution_count": 32,
   "metadata": {},
   "outputs": [],
   "source": [
    "gross_cumulative = gross_total.apply(\n",
    "    lambda x: pyam.cumulative(\n",
    "        x,\n",
    "        first_year=df_1p5.meta.loc[(x.name[0], x.name[1]), column_net_zero],\n",
    "        last_year=2100\n",
    "    ),\n",
    "    axis=1\n",
    ")"
   ]
  },
  {
   "cell_type": "code",
   "execution_count": 33,
   "metadata": {},
   "outputs": [],
   "source": [
    "gross_cumulative_2020 = gross_total.apply(\n",
    "    lambda x: pyam.cumulative(\n",
    "        x,\n",
    "        first_year=2020,\n",
    "        last_year=df_1p5.meta.loc[(x.name[0], x.name[1]), column_net_zero]\n",
    "    ),\n",
    "    axis=1\n",
    ")"
   ]
  },
  {
   "cell_type": "code",
   "execution_count": 34,
   "metadata": {},
   "outputs": [],
   "source": [
    "df_1p5.set_meta(\n",
    "    meta=gross_cumulative,\n",
    "    name='cumulative_gross_netzero_2100'\n",
    ")"
   ]
  },
  {
   "cell_type": "code",
   "execution_count": 35,
   "metadata": {},
   "outputs": [],
   "source": [
    "df_1p5.set_meta(\n",
    "    meta=gross_cumulative_2020,\n",
    "    name='cumulative_gross_2020_netzero'\n",
    ")"
   ]
  },
  {
   "cell_type": "markdown",
   "metadata": {},
   "source": [
    "Step 14: For the land- and novel CDR, calculate the cumulative removal between 2020 and net zero CO2."
   ]
  },
  {
   "cell_type": "code",
   "execution_count": 36,
   "metadata": {},
   "outputs": [],
   "source": [
    "to_crunch = [\n",
    "    ('land_cdr_2020_netzero', 'AR6 Reanalysis|OSCARv3.2|Carbon Removal|Land|Direct'),\n",
    "    ('novel_cdr_2020_netzero', 'AR6 Reanalysis|OSCARv3.2|Carbon Removal|Non-Land')\n",
    "]"
   ]
  },
  {
   "cell_type": "code",
   "execution_count": 37,
   "metadata": {},
   "outputs": [],
   "source": [
    "for col, var in to_crunch:\n",
    "    data_ts = (\n",
    "        df_1p5\n",
    "        .filter(\n",
    "            variable=var,\n",
    "            region='World'\n",
    "        )\n",
    "        .timeseries()\n",
    "    )\n",
    "    df_1p5.set_meta(\n",
    "        data_ts.apply(\n",
    "            lambda x: pyam.cumulative(\n",
    "                x,\n",
    "                first_year=2020,\n",
    "                last_year=df_1p5.meta.loc[(x.name[0], x.name[1]), column_net_zero]\n",
    "            ),\n",
    "            axis=1\n",
    "        ),\n",
    "        name=col\n",
    "    )"
   ]
  },
  {
   "cell_type": "code",
   "execution_count": 38,
   "metadata": {},
   "outputs": [],
   "source": [
    "to_crunch = [\n",
    "    ('land_cdr_netzero_2100', 'AR6 Reanalysis|OSCARv3.2|Carbon Removal|Land|Direct'),\n",
    "    ('novel_cdr_netzero_2100', 'AR6 Reanalysis|OSCARv3.2|Carbon Removal|Non-Land')\n",
    "]"
   ]
  },
  {
   "cell_type": "code",
   "execution_count": 39,
   "metadata": {},
   "outputs": [],
   "source": [
    "for col, var in to_crunch:\n",
    "    data_ts = (\n",
    "        df_1p5\n",
    "        .filter(\n",
    "            variable=var,\n",
    "            region='World'\n",
    "        )\n",
    "        .timeseries()\n",
    "    )\n",
    "    df_1p5.set_meta(\n",
    "        data_ts.apply(\n",
    "            lambda x: pyam.cumulative(\n",
    "                x,\n",
    "                first_year=df_1p5.meta.loc[(x.name[0], x.name[1]), column_net_zero],\n",
    "                last_year=2100\n",
    "            ),\n",
    "            axis=1\n",
    "        ),\n",
    "        name=col\n",
    "    )"
   ]
  },
  {
   "cell_type": "markdown",
   "metadata": {},
   "source": [
    "Step 15: For a first cut, pull out the non-CO2 estimates aggregated using GWP100."
   ]
  },
  {
   "cell_type": "code",
   "execution_count": 40,
   "metadata": {},
   "outputs": [],
   "source": [
    "df_1p5.subtract(\n",
    "    a='AR6 Reanalysis|OSCARv3.2|Emissions|Kyoto Gases|Direct Only',\n",
    "    b='AR6 Reanalysis|OSCARv3.2|Emissions|CO2|Direct Only',\n",
    "    ignore_units='Gt CO2-equiv/yr',\n",
    "    name='AR6 Reanalysis|OSCARv3.2|Emissions|NonCO2|Direct Only',\n",
    "    append=True\n",
    ")"
   ]
  },
  {
   "cell_type": "code",
   "execution_count": 41,
   "metadata": {},
   "outputs": [],
   "source": [
    "final_data = df_1p5"
   ]
  },
  {
   "cell_type": "markdown",
   "metadata": {},
   "source": [
    "Step 16: Save this data out for further analysis."
   ]
  },
  {
   "cell_type": "code",
   "execution_count": 42,
   "metadata": {},
   "outputs": [],
   "source": [
    "final_data.to_excel(\n",
    "    Path(\n",
    "        '../data/101_data.xlsx'\n",
    "    )\n",
    ")"
   ]
  }
 ],
 "metadata": {
  "kernelspec": {
   "display_name": "cdr_climate_uncertainty",
   "language": "python",
   "name": "python3"
  },
  "language_info": {
   "codemirror_mode": {
    "name": "ipython",
    "version": 3
   },
   "file_extension": ".py",
   "mimetype": "text/x-python",
   "name": "python",
   "nbconvert_exporter": "python",
   "pygments_lexer": "ipython3",
   "version": "3.10.13"
  },
  "orig_nbformat": 4
 },
 "nbformat": 4,
 "nbformat_minor": 2
}
