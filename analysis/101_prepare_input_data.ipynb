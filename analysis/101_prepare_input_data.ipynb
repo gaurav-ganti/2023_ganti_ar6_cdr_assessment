{
 "cells": [
  {
   "cell_type": "code",
   "execution_count": 1,
   "metadata": {},
   "outputs": [
    {
     "data": {
      "application/javascript": "if (typeof IPython !== 'undefined') { IPython.OutputArea.prototype._should_scroll = function(lines){ return false; }}",
      "text/plain": [
       "<IPython.core.display.Javascript object>"
      ]
     },
     "metadata": {},
     "output_type": "display_data"
    }
   ],
   "source": [
    "import pyam\n",
    "import pandas as pd\n",
    "\n",
    "import dotenv\n",
    "import os\n",
    "from pathlib import Path"
   ]
  },
  {
   "cell_type": "code",
   "execution_count": 2,
   "metadata": {},
   "outputs": [
    {
     "data": {
      "text/plain": [
       "True"
      ]
     },
     "execution_count": 2,
     "metadata": {},
     "output_type": "execute_result"
    }
   ],
   "source": [
    "dotenv.load_dotenv()"
   ]
  },
  {
   "cell_type": "markdown",
   "metadata": {},
   "source": [
    "Step 1: Read in the Gidden and Gasser et al. dataset"
   ]
  },
  {
   "cell_type": "code",
   "execution_count": 3,
   "metadata": {},
   "outputs": [
    {
     "name": "stderr",
     "output_type": "stream",
     "text": [
      "pyam - INFO: Running in a notebook, setting up a basic logging at level INFO\n",
      "pyam.core - INFO: Reading file /Users/gauravganti/Documents/github_projects/2023_egr_ch7_equity/data/gidden_et_al_2022_ar6_reanalysis_data.csv\n"
     ]
    }
   ],
   "source": [
    "df = pyam.IamDataFrame(\n",
    "    Path(\n",
    "        os.environ['GIDDEN_DATA']\n",
    "    )\n",
    ")"
   ]
  },
  {
   "cell_type": "markdown",
   "metadata": {},
   "source": [
    "Step 2: Read in the Gidden and Gasser et al. metadata file"
   ]
  },
  {
   "cell_type": "code",
   "execution_count": 4,
   "metadata": {},
   "outputs": [],
   "source": [
    "reanalysis_meta = pd.read_csv(\n",
    "    Path(\n",
    "        os.environ['GIDDEN_META']\n",
    "    ),\n",
    "    index_col=[0,1]\n",
    ")"
   ]
  },
  {
   "cell_type": "markdown",
   "metadata": {},
   "source": [
    "Step 3: Read in the Schleussner et al. metadata file"
   ]
  },
  {
   "cell_type": "code",
   "execution_count": 5,
   "metadata": {},
   "outputs": [],
   "source": [
    "schleussner_meta = pd.read_excel(\n",
    "    Path(\n",
    "        os.environ['SCHLEUSSNER_META']\n",
    "    ),\n",
    "    index_col=[0,1]\n",
    ")"
   ]
  },
  {
   "cell_type": "markdown",
   "metadata": {},
   "source": [
    "Step 4: Downselect the following elements from the Schleussner et al metadata:\n",
    "* The models and scenarios that are also present in the Gidden et al. metadata\n",
    "* The column 'category_new_rolling_mean'"
   ]
  },
  {
   "cell_type": "code",
   "execution_count": 6,
   "metadata": {},
   "outputs": [],
   "source": [
    "schleussner_meta_downselected = (\n",
    "    schleussner_meta\n",
    "    .loc[reanalysis_meta.index, 'category_new_rolling_mean']\n",
    ")"
   ]
  },
  {
   "cell_type": "markdown",
   "metadata": {},
   "source": [
    "Step 5: Assign this as an additional column to the Gidden et al. metadata"
   ]
  },
  {
   "cell_type": "code",
   "execution_count": 7,
   "metadata": {},
   "outputs": [],
   "source": [
    "reanalysis_meta.loc[:, 'category_new_rolling_mean'] = schleussner_meta_downselected"
   ]
  },
  {
   "cell_type": "markdown",
   "metadata": {},
   "source": [
    "Step 6: Assign this to the metadata of the dataset we loaded in Step 1."
   ]
  },
  {
   "cell_type": "code",
   "execution_count": 8,
   "metadata": {},
   "outputs": [],
   "source": [
    "df.meta = reanalysis_meta"
   ]
  },
  {
   "cell_type": "markdown",
   "metadata": {},
   "source": [
    "Step 7: Filter out for the 1.5°C scenarios."
   ]
  },
  {
   "cell_type": "code",
   "execution_count": 9,
   "metadata": {},
   "outputs": [],
   "source": [
    "df_1p5 = (\n",
    "    df\n",
    "    .filter(\n",
    "        Category=['C1','C2']\n",
    "    )\n",
    ")"
   ]
  },
  {
   "cell_type": "markdown",
   "metadata": {},
   "source": [
    "Step 8: Calculate the gross emission reductions."
   ]
  },
  {
   "cell_type": "code",
   "execution_count": 10,
   "metadata": {},
   "outputs": [],
   "source": [
    "df_1p5.aggregate(\n",
    "    variable='AR6 Reanalysis|OSCARv3.2|Carbon Removal|Total',\n",
    "    components=[\n",
    "        'AR6 Reanalysis|OSCARv3.2|Carbon Removal|Land|Direct',\n",
    "        'AR6 Reanalysis|OSCARv3.2|Carbon Removal|Non-Land'\n",
    "    ],\n",
    "    append=True\n",
    ")"
   ]
  },
  {
   "cell_type": "code",
   "execution_count": 11,
   "metadata": {},
   "outputs": [],
   "source": [
    "df_1p5.aggregate(\n",
    "    variable='AR6 Reanalysis|OSCARv3.2|Emissions|CO2|Gross',\n",
    "    components=[\n",
    "        'AR6 Reanalysis|OSCARv3.2|Emissions|CO2|Direct Only',\n",
    "        'AR6 Reanalysis|OSCARv3.2|Carbon Removal|Total' # Checked with Matt\n",
    "    ],\n",
    "    append=True\n",
    ")"
   ]
  },
  {
   "cell_type": "markdown",
   "metadata": {},
   "source": [
    "Step 9: Convert all units to Gt"
   ]
  },
  {
   "cell_type": "code",
   "execution_count": 12,
   "metadata": {},
   "outputs": [
    {
     "data": {
      "text/plain": [
       "{'AR6 Reanalysis|OSCARv3.2|Carbon Removal': 'Mt CO2/yr',\n",
       " 'AR6 Reanalysis|OSCARv3.2|Carbon Removal|Land': 'Mt CO2/yr',\n",
       " 'AR6 Reanalysis|OSCARv3.2|Carbon Removal|Land|Direct': 'Mt CO2/yr',\n",
       " 'AR6 Reanalysis|OSCARv3.2|Carbon Removal|Land|Indirect': 'Mt CO2/yr',\n",
       " 'AR6 Reanalysis|OSCARv3.2|Carbon Removal|Non-Land': 'Mt CO2/yr',\n",
       " 'AR6 Reanalysis|OSCARv3.2|Carbon Removal|Total': 'Mt CO2/yr',\n",
       " 'AR6 Reanalysis|OSCARv3.2|Emissions|CO2': 'Mt CO2/yr',\n",
       " 'AR6 Reanalysis|OSCARv3.2|Emissions|CO2|AFOLU': 'Mt CO2/yr',\n",
       " 'AR6 Reanalysis|OSCARv3.2|Emissions|CO2|AFOLU|Direct': 'Mt CO2/yr',\n",
       " 'AR6 Reanalysis|OSCARv3.2|Emissions|CO2|AFOLU|Indirect': 'Mt CO2/yr',\n",
       " 'AR6 Reanalysis|OSCARv3.2|Emissions|CO2|Direct Only': 'Mt CO2/yr',\n",
       " 'AR6 Reanalysis|OSCARv3.2|Emissions|CO2|Gross': 'Mt CO2/yr',\n",
       " 'AR6 Reanalysis|OSCARv3.2|Emissions|Kyoto Gases': 'Mt CO2-equiv/yr',\n",
       " 'AR6 Reanalysis|OSCARv3.2|Emissions|Kyoto Gases|Direct Only': 'Mt CO2-equiv/yr'}"
      ]
     },
     "execution_count": 12,
     "metadata": {},
     "output_type": "execute_result"
    }
   ],
   "source": [
    "df_1p5.unit_mapping"
   ]
  },
  {
   "cell_type": "code",
   "execution_count": 13,
   "metadata": {},
   "outputs": [],
   "source": [
    "df_1p5.convert_unit(\n",
    "    current='Mt CO2/yr',\n",
    "    to='Gt CO2/yr',\n",
    "    inplace=True\n",
    ")"
   ]
  },
  {
   "cell_type": "code",
   "execution_count": 14,
   "metadata": {},
   "outputs": [],
   "source": [
    "df_1p5.convert_unit(\n",
    "    current='Mt CO2-equiv/yr',\n",
    "    to='Gt CO2-equiv/yr',\n",
    "    inplace=True\n",
    ")"
   ]
  },
  {
   "cell_type": "code",
   "execution_count": 15,
   "metadata": {},
   "outputs": [
    {
     "data": {
      "text/plain": [
       "{'AR6 Reanalysis|OSCARv3.2|Carbon Removal': 'Gt CO2/yr',\n",
       " 'AR6 Reanalysis|OSCARv3.2|Carbon Removal|Land': 'Gt CO2/yr',\n",
       " 'AR6 Reanalysis|OSCARv3.2|Carbon Removal|Land|Direct': 'Gt CO2/yr',\n",
       " 'AR6 Reanalysis|OSCARv3.2|Carbon Removal|Land|Indirect': 'Gt CO2/yr',\n",
       " 'AR6 Reanalysis|OSCARv3.2|Carbon Removal|Non-Land': 'Gt CO2/yr',\n",
       " 'AR6 Reanalysis|OSCARv3.2|Carbon Removal|Total': 'Gt CO2/yr',\n",
       " 'AR6 Reanalysis|OSCARv3.2|Emissions|CO2': 'Gt CO2/yr',\n",
       " 'AR6 Reanalysis|OSCARv3.2|Emissions|CO2|AFOLU': 'Gt CO2/yr',\n",
       " 'AR6 Reanalysis|OSCARv3.2|Emissions|CO2|AFOLU|Direct': 'Gt CO2/yr',\n",
       " 'AR6 Reanalysis|OSCARv3.2|Emissions|CO2|AFOLU|Indirect': 'Gt CO2/yr',\n",
       " 'AR6 Reanalysis|OSCARv3.2|Emissions|CO2|Direct Only': 'Gt CO2/yr',\n",
       " 'AR6 Reanalysis|OSCARv3.2|Emissions|CO2|Gross': 'Gt CO2/yr',\n",
       " 'AR6 Reanalysis|OSCARv3.2|Emissions|Kyoto Gases': 'Gt CO2-equiv/yr',\n",
       " 'AR6 Reanalysis|OSCARv3.2|Emissions|Kyoto Gases|Direct Only': 'Gt CO2-equiv/yr'}"
      ]
     },
     "execution_count": 15,
     "metadata": {},
     "output_type": "execute_result"
    }
   ],
   "source": [
    "df_1p5.unit_mapping"
   ]
  },
  {
   "cell_type": "markdown",
   "metadata": {},
   "source": [
    "Step 10: Read in the \"World\" AR6 data to get the values for the `Emissions|CH4` variable"
   ]
  },
  {
   "cell_type": "code",
   "execution_count": 16,
   "metadata": {},
   "outputs": [],
   "source": [
    "ar6_data = pd.read_csv(\n",
    "    Path(\n",
    "        os.environ['AR6_DATA']\n",
    "    ),\n",
    "    index_col=[0,1]\n",
    ")"
   ]
  },
  {
   "cell_type": "markdown",
   "metadata": {},
   "source": [
    "Step 11: First filter the CH4 emissions from the dataset."
   ]
  },
  {
   "cell_type": "code",
   "execution_count": 17,
   "metadata": {},
   "outputs": [],
   "source": [
    "ar6_ch4_data = ar6_data[ar6_data['Variable']=='AR6 climate diagnostics|Infilled|Emissions|CH4']"
   ]
  },
  {
   "cell_type": "markdown",
   "metadata": {},
   "source": [
    "Step 12: Now filter for the scenarios assessed by Gidden and Gasser et al. and then concatenate to the main dataframe."
   ]
  },
  {
   "cell_type": "code",
   "execution_count": 18,
   "metadata": {},
   "outputs": [],
   "source": [
    "ar6_ch4_data_selected = pyam.IamDataFrame(\n",
    "    ar6_ch4_data\n",
    "    .loc[df_1p5.meta.index, :]\n",
    "    .reset_index()\n",
    ")"
   ]
  },
  {
   "cell_type": "code",
   "execution_count": 19,
   "metadata": {},
   "outputs": [],
   "source": [
    "compiled_1p5_data = pyam.concat(\n",
    "    [\n",
    "        df_1p5,\n",
    "        ar6_ch4_data_selected\n",
    "    ]\n",
    ")"
   ]
  },
  {
   "cell_type": "markdown",
   "metadata": {},
   "source": [
    "Step 13: Now, we want to add the 20 year rate of reduction in methane emissions to the metadata."
   ]
  },
  {
   "cell_type": "code",
   "execution_count": 20,
   "metadata": {},
   "outputs": [],
   "source": [
    "data_ch4 = (\n",
    "    compiled_1p5_data\n",
    "    .filter(\n",
    "        variable='*Emissions|CH4'\n",
    "    )\n",
    "    .timeseries()\n",
    "    .reset_index()\n",
    "    .set_index(['model', 'scenario'])\n",
    ")"
   ]
  },
  {
   "cell_type": "code",
   "execution_count": 21,
   "metadata": {},
   "outputs": [],
   "source": [
    "column_net_zero = 'Year of netzero CO2 emissions (Harm-Infilled) table'"
   ]
  },
  {
   "cell_type": "code",
   "execution_count": 22,
   "metadata": {},
   "outputs": [],
   "source": [
    "custom_scens = []\n",
    "for mod, scen in compiled_1p5_data.meta.index:\n",
    "    net_zero_time = compiled_1p5_data.meta.loc[(mod, scen), column_net_zero]\n",
    "    time_minus_20 = net_zero_time - 20\n",
    "    # Now we calculate the difference for this scenario\n",
    "    try:\n",
    "        diff_ch4 = (\n",
    "            data_ch4.loc[(mod, scen), net_zero_time]\n",
    "            -\n",
    "            data_ch4.loc[(mod, scen), time_minus_20]\n",
    "        ) / 20\n",
    "    except:\n",
    "        diff_ch4 = (\n",
    "            data_ch4.loc[(mod, scen), net_zero_time]\n",
    "            -\n",
    "            data_ch4.loc[(mod, scen), net_zero_time-10]\n",
    "        ) / 10\n",
    "        custom_scens.append((mod, scen))\n",
    "    # Assign it to a metadata column\n",
    "    compiled_1p5_data.meta.loc[(mod, scen), 'ch4_reduction'] = diff_ch4"
   ]
  },
  {
   "cell_type": "markdown",
   "metadata": {},
   "source": [
    "Step 14: We will need to calculate the cumulative removals between net zero and 2100"
   ]
  },
  {
   "cell_type": "code",
   "execution_count": 23,
   "metadata": {},
   "outputs": [],
   "source": [
    "cdr_total = (\n",
    "    compiled_1p5_data\n",
    "    .filter(\n",
    "        variable='*Total',\n",
    "        region='World'\n",
    "    )\n",
    "    .timeseries()\n",
    ")"
   ]
  },
  {
   "cell_type": "code",
   "execution_count": 24,
   "metadata": {},
   "outputs": [],
   "source": [
    "cdr_cumulative_net_zero_2100 = cdr_total.apply(\n",
    "    lambda x: pyam.cumulative(\n",
    "        x,\n",
    "        first_year=compiled_1p5_data.meta.loc[(x.name[0], x.name[1]), column_net_zero],\n",
    "        last_year=2100\n",
    "    ),\n",
    "    axis=1\n",
    ")"
   ]
  },
  {
   "cell_type": "code",
   "execution_count": 25,
   "metadata": {},
   "outputs": [],
   "source": [
    "compiled_1p5_data.set_meta(\n",
    "    meta=cdr_cumulative_net_zero_2100,\n",
    "    name='cumulative_cdr_netzero_2100'\n",
    ")"
   ]
  },
  {
   "cell_type": "markdown",
   "metadata": {},
   "source": [
    "Step 15: Set the gross emissions and total CDR at net zero across all the pathways"
   ]
  },
  {
   "cell_type": "code",
   "execution_count": 26,
   "metadata": {},
   "outputs": [],
   "source": [
    "cdr_net_zero = cdr_total.apply(\n",
    "    lambda x: pyam.cumulative(\n",
    "        x,\n",
    "        first_year=compiled_1p5_data.meta.loc[(x.name[0], x.name[1]), column_net_zero],\n",
    "        last_year=compiled_1p5_data.meta.loc[(x.name[0], x.name[1]), column_net_zero]\n",
    "    ),\n",
    "    axis=1\n",
    ")"
   ]
  },
  {
   "cell_type": "code",
   "execution_count": 27,
   "metadata": {},
   "outputs": [],
   "source": [
    "compiled_1p5_data.set_meta(\n",
    "    meta=cdr_net_zero,\n",
    "    name='cdr_net_zero'\n",
    ")"
   ]
  },
  {
   "cell_type": "code",
   "execution_count": 28,
   "metadata": {},
   "outputs": [],
   "source": [
    "gross_total = (\n",
    "    compiled_1p5_data\n",
    "    .filter(\n",
    "        variable='*Gross',\n",
    "        region='World'\n",
    "    )\n",
    "    .timeseries()\n",
    ")"
   ]
  },
  {
   "cell_type": "code",
   "execution_count": 29,
   "metadata": {},
   "outputs": [],
   "source": [
    "gross_net_zero = gross_total.apply(\n",
    "    lambda x: pyam.cumulative(\n",
    "        x,\n",
    "        first_year=compiled_1p5_data.meta.loc[(x.name[0], x.name[1]), column_net_zero],\n",
    "        last_year=compiled_1p5_data.meta.loc[(x.name[0], x.name[1]), column_net_zero]\n",
    "    ),\n",
    "    axis=1\n",
    ")"
   ]
  },
  {
   "cell_type": "code",
   "execution_count": 30,
   "metadata": {},
   "outputs": [],
   "source": [
    "compiled_1p5_data.set_meta(\n",
    "    meta=gross_net_zero,\n",
    "    name='gross_net_zero'\n",
    ")"
   ]
  },
  {
   "cell_type": "code",
   "execution_count": 31,
   "metadata": {},
   "outputs": [],
   "source": [
    "gross_cumulative = gross_total.apply(\n",
    "    lambda x: pyam.cumulative(\n",
    "        x,\n",
    "        first_year=compiled_1p5_data.meta.loc[(x.name[0], x.name[1]), column_net_zero],\n",
    "        last_year=2100\n",
    "    ),\n",
    "    axis=1\n",
    ")"
   ]
  },
  {
   "cell_type": "code",
   "execution_count": 32,
   "metadata": {},
   "outputs": [],
   "source": [
    "compiled_1p5_data.set_meta(\n",
    "    meta=gross_cumulative,\n",
    "    name='cumulative_gross_netzero_2100'\n",
    ")"
   ]
  },
  {
   "cell_type": "markdown",
   "metadata": {},
   "source": [
    "Step 15: Save this data out for further analysis."
   ]
  },
  {
   "cell_type": "code",
   "execution_count": 33,
   "metadata": {},
   "outputs": [],
   "source": [
    "compiled_1p5_data.to_excel(\n",
    "    Path(\n",
    "        '../data/101_data.xlsx'\n",
    "    )\n",
    ")"
   ]
  }
 ],
 "metadata": {
  "kernelspec": {
   "display_name": "cdr_climate_uncertainty",
   "language": "python",
   "name": "python3"
  },
  "language_info": {
   "codemirror_mode": {
    "name": "ipython",
    "version": 3
   },
   "file_extension": ".py",
   "mimetype": "text/x-python",
   "name": "python",
   "nbconvert_exporter": "python",
   "pygments_lexer": "ipython3",
   "version": "3.10.12"
  },
  "orig_nbformat": 4
 },
 "nbformat": 4,
 "nbformat_minor": 2
}
