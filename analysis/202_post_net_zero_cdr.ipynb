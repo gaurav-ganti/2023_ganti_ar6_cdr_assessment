{
 "cells": [
  {
   "cell_type": "code",
   "execution_count": 1,
   "metadata": {},
   "outputs": [
    {
     "data": {
      "application/javascript": "if (typeof IPython !== 'undefined') { IPython.OutputArea.prototype._should_scroll = function(lines){ return false; }}",
      "text/plain": [
       "<IPython.core.display.Javascript object>"
      ]
     },
     "metadata": {},
     "output_type": "display_data"
    }
   ],
   "source": [
    "import pyam\n",
    "import pandas as pd\n",
    "import numpy as np\n",
    "\n",
    "import matplotlib.pyplot as plt\n",
    "import seaborn as sns\n",
    "from matplotlib.lines import Line2D\n",
    "import matplotlib.transforms as mtransforms\n",
    "\n",
    "from pathlib import Path\n",
    "import dotenv\n",
    "import os"
   ]
  },
  {
   "cell_type": "code",
   "execution_count": 2,
   "metadata": {},
   "outputs": [
    {
     "data": {
      "application/javascript": "\n            setTimeout(function() {\n                var nbb_cell_id = 2;\n                var nbb_unformatted_code = \"%load_ext nb_black\";\n                var nbb_formatted_code = \"%load_ext nb_black\";\n                var nbb_cells = Jupyter.notebook.get_cells();\n                for (var i = 0; i < nbb_cells.length; ++i) {\n                    if (nbb_cells[i].input_prompt_number == nbb_cell_id) {\n                        if (nbb_cells[i].get_text() == nbb_unformatted_code) {\n                             nbb_cells[i].set_text(nbb_formatted_code);\n                        }\n                        break;\n                    }\n                }\n            }, 500);\n            ",
      "text/plain": [
       "<IPython.core.display.Javascript object>"
      ]
     },
     "metadata": {},
     "output_type": "display_data"
    }
   ],
   "source": [
    "%load_ext nb_black"
   ]
  },
  {
   "cell_type": "code",
   "execution_count": 3,
   "metadata": {},
   "outputs": [
    {
     "data": {
      "text/plain": [
       "True"
      ]
     },
     "execution_count": 3,
     "metadata": {},
     "output_type": "execute_result"
    },
    {
     "data": {
      "application/javascript": "\n            setTimeout(function() {\n                var nbb_cell_id = 3;\n                var nbb_unformatted_code = \"dotenv.load_dotenv()\";\n                var nbb_formatted_code = \"dotenv.load_dotenv()\";\n                var nbb_cells = Jupyter.notebook.get_cells();\n                for (var i = 0; i < nbb_cells.length; ++i) {\n                    if (nbb_cells[i].input_prompt_number == nbb_cell_id) {\n                        if (nbb_cells[i].get_text() == nbb_unformatted_code) {\n                             nbb_cells[i].set_text(nbb_formatted_code);\n                        }\n                        break;\n                    }\n                }\n            }, 500);\n            ",
      "text/plain": [
       "<IPython.core.display.Javascript object>"
      ]
     },
     "metadata": {},
     "output_type": "display_data"
    }
   ],
   "source": [
    "dotenv.load_dotenv()"
   ]
  },
  {
   "cell_type": "markdown",
   "metadata": {},
   "source": [
    "Step 1: Read in the necessary data for this assessment. This is basically the metadata that is crunched in the notebook `101_prepare_input_data.ipynb`"
   ]
  },
  {
   "cell_type": "code",
   "execution_count": 4,
   "metadata": {},
   "outputs": [
    {
     "data": {
      "application/javascript": "\n            setTimeout(function() {\n                var nbb_cell_id = 4;\n                var nbb_unformatted_code = \"df = pd.read_excel(\\n    Path(\\n        '../data/101_data.xlsx'\\n    ),\\n    sheet_name='meta',\\n    index_col=[0,1]\\n)\";\n                var nbb_formatted_code = \"df = pd.read_excel(Path(\\\"../data/101_data.xlsx\\\"), sheet_name=\\\"meta\\\", index_col=[0, 1])\";\n                var nbb_cells = Jupyter.notebook.get_cells();\n                for (var i = 0; i < nbb_cells.length; ++i) {\n                    if (nbb_cells[i].input_prompt_number == nbb_cell_id) {\n                        if (nbb_cells[i].get_text() == nbb_unformatted_code) {\n                             nbb_cells[i].set_text(nbb_formatted_code);\n                        }\n                        break;\n                    }\n                }\n            }, 500);\n            ",
      "text/plain": [
       "<IPython.core.display.Javascript object>"
      ]
     },
     "metadata": {},
     "output_type": "display_data"
    }
   ],
   "source": [
    "df = pd.read_excel(\n",
    "    Path(\n",
    "        '../data/101_data.xlsx'\n",
    "    ),\n",
    "    sheet_name='meta',\n",
    "    index_col=[0,1]\n",
    ")"
   ]
  },
  {
   "cell_type": "code",
   "execution_count": 5,
   "metadata": {},
   "outputs": [
    {
     "data": {
      "application/javascript": "\n            setTimeout(function() {\n                var nbb_cell_id = 5;\n                var nbb_unformatted_code = \"delay_categories = pd.read_excel(\\n    Path(\\n        '../data/102_delay_categories.xlsx'\\n    ),\\n    index_col=[0,1]\\n)\";\n                var nbb_formatted_code = \"delay_categories = pd.read_excel(\\n    Path(\\\"../data/102_delay_categories.xlsx\\\"), index_col=[0, 1]\\n)\";\n                var nbb_cells = Jupyter.notebook.get_cells();\n                for (var i = 0; i < nbb_cells.length; ++i) {\n                    if (nbb_cells[i].input_prompt_number == nbb_cell_id) {\n                        if (nbb_cells[i].get_text() == nbb_unformatted_code) {\n                             nbb_cells[i].set_text(nbb_formatted_code);\n                        }\n                        break;\n                    }\n                }\n            }, 500);\n            ",
      "text/plain": [
       "<IPython.core.display.Javascript object>"
      ]
     },
     "metadata": {},
     "output_type": "display_data"
    }
   ],
   "source": [
    "delay_categories = pd.read_excel(\n",
    "    Path(\n",
    "        '../data/102_delay_categories.xlsx'\n",
    "    ),\n",
    "    index_col=[0,1]\n",
    ")"
   ]
  },
  {
   "cell_type": "markdown",
   "metadata": {},
   "source": [
    "Step 2: Let us pull out the necessary columns."
   ]
  },
  {
   "cell_type": "code",
   "execution_count": 6,
   "metadata": {},
   "outputs": [
    {
     "data": {
      "application/javascript": "\n            setTimeout(function() {\n                var nbb_cell_id = 6;\n                var nbb_unformatted_code = \"columns_of_interest = [\\n    'Category',\\n    'cumulative_gross_netzero_2100',\\n    'cumulative_cdr_netzero_2100',\\n]\";\n                var nbb_formatted_code = \"columns_of_interest = [\\n    \\\"Category\\\",\\n    \\\"cumulative_gross_netzero_2100\\\",\\n    \\\"cumulative_cdr_netzero_2100\\\",\\n]\";\n                var nbb_cells = Jupyter.notebook.get_cells();\n                for (var i = 0; i < nbb_cells.length; ++i) {\n                    if (nbb_cells[i].input_prompt_number == nbb_cell_id) {\n                        if (nbb_cells[i].get_text() == nbb_unformatted_code) {\n                             nbb_cells[i].set_text(nbb_formatted_code);\n                        }\n                        break;\n                    }\n                }\n            }, 500);\n            ",
      "text/plain": [
       "<IPython.core.display.Javascript object>"
      ]
     },
     "metadata": {},
     "output_type": "display_data"
    }
   ],
   "source": [
    "columns_of_interest = [\n",
    "    'Category',\n",
    "    'cumulative_gross_netzero_2100',\n",
    "    'cumulative_cdr_netzero_2100',\n",
    "]"
   ]
  },
  {
   "cell_type": "code",
   "execution_count": 7,
   "metadata": {},
   "outputs": [
    {
     "data": {
      "application/javascript": "\n            setTimeout(function() {\n                var nbb_cell_id = 7;\n                var nbb_unformatted_code = \"df_for_analysis = df[columns_of_interest].dropna()\";\n                var nbb_formatted_code = \"df_for_analysis = df[columns_of_interest].dropna()\";\n                var nbb_cells = Jupyter.notebook.get_cells();\n                for (var i = 0; i < nbb_cells.length; ++i) {\n                    if (nbb_cells[i].input_prompt_number == nbb_cell_id) {\n                        if (nbb_cells[i].get_text() == nbb_unformatted_code) {\n                             nbb_cells[i].set_text(nbb_formatted_code);\n                        }\n                        break;\n                    }\n                }\n            }, 500);\n            ",
      "text/plain": [
       "<IPython.core.display.Javascript object>"
      ]
     },
     "metadata": {},
     "output_type": "display_data"
    }
   ],
   "source": [
    "df_for_analysis = df[columns_of_interest].dropna()"
   ]
  },
  {
   "cell_type": "markdown",
   "metadata": {},
   "source": [
    "Step 3: Calculate the total amount which is used to balance ongoing gross emissions."
   ]
  },
  {
   "cell_type": "code",
   "execution_count": 8,
   "metadata": {},
   "outputs": [
    {
     "data": {
      "application/javascript": "\n            setTimeout(function() {\n                var nbb_cell_id = 8;\n                var nbb_unformatted_code = \"df_for_analysis['balance'] = (\\n    df_for_analysis[['cumulative_gross_netzero_2100', 'cumulative_cdr_netzero_2100']]\\n    .min(axis=1)\\n)\";\n                var nbb_formatted_code = \"df_for_analysis[\\\"balance\\\"] = df_for_analysis[\\n    [\\\"cumulative_gross_netzero_2100\\\", \\\"cumulative_cdr_netzero_2100\\\"]\\n].min(axis=1)\";\n                var nbb_cells = Jupyter.notebook.get_cells();\n                for (var i = 0; i < nbb_cells.length; ++i) {\n                    if (nbb_cells[i].input_prompt_number == nbb_cell_id) {\n                        if (nbb_cells[i].get_text() == nbb_unformatted_code) {\n                             nbb_cells[i].set_text(nbb_formatted_code);\n                        }\n                        break;\n                    }\n                }\n            }, 500);\n            ",
      "text/plain": [
       "<IPython.core.display.Javascript object>"
      ]
     },
     "metadata": {},
     "output_type": "display_data"
    }
   ],
   "source": [
    "df_for_analysis['balance'] = (\n",
    "    df_for_analysis[['cumulative_gross_netzero_2100', 'cumulative_cdr_netzero_2100']]\n",
    "    .min(axis=1)\n",
    ")"
   ]
  },
  {
   "cell_type": "markdown",
   "metadata": {},
   "source": [
    "Step 4: Calculate the amount used for decline."
   ]
  },
  {
   "cell_type": "code",
   "execution_count": 9,
   "metadata": {},
   "outputs": [
    {
     "data": {
      "application/javascript": "\n            setTimeout(function() {\n                var nbb_cell_id = 9;\n                var nbb_unformatted_code = \"df_for_analysis['decline'] = (\\n    df_for_analysis['cumulative_cdr_netzero_2100']\\n    -\\n    df_for_analysis['balance']\\n)\";\n                var nbb_formatted_code = \"df_for_analysis[\\\"decline\\\"] = (\\n    df_for_analysis[\\\"cumulative_cdr_netzero_2100\\\"] - df_for_analysis[\\\"balance\\\"]\\n)\";\n                var nbb_cells = Jupyter.notebook.get_cells();\n                for (var i = 0; i < nbb_cells.length; ++i) {\n                    if (nbb_cells[i].input_prompt_number == nbb_cell_id) {\n                        if (nbb_cells[i].get_text() == nbb_unformatted_code) {\n                             nbb_cells[i].set_text(nbb_formatted_code);\n                        }\n                        break;\n                    }\n                }\n            }, 500);\n            ",
      "text/plain": [
       "<IPython.core.display.Javascript object>"
      ]
     },
     "metadata": {},
     "output_type": "display_data"
    }
   ],
   "source": [
    "df_for_analysis['decline'] = (\n",
    "    df_for_analysis['cumulative_cdr_netzero_2100']\n",
    "    -\n",
    "    df_for_analysis['balance']\n",
    ")"
   ]
  },
  {
   "cell_type": "markdown",
   "metadata": {},
   "source": [
    "Step 5: Calculate the shares for balance and decline."
   ]
  },
  {
   "cell_type": "code",
   "execution_count": 10,
   "metadata": {},
   "outputs": [
    {
     "data": {
      "application/javascript": "\n            setTimeout(function() {\n                var nbb_cell_id = 10;\n                var nbb_unformatted_code = \"df_for_analysis['share_balance'] = (\\n    df_for_analysis['balance']\\n    *\\n    100\\n    /\\n    df_for_analysis['cumulative_cdr_netzero_2100']\\n)\";\n                var nbb_formatted_code = \"df_for_analysis[\\\"share_balance\\\"] = (\\n    df_for_analysis[\\\"balance\\\"] * 100 / df_for_analysis[\\\"cumulative_cdr_netzero_2100\\\"]\\n)\";\n                var nbb_cells = Jupyter.notebook.get_cells();\n                for (var i = 0; i < nbb_cells.length; ++i) {\n                    if (nbb_cells[i].input_prompt_number == nbb_cell_id) {\n                        if (nbb_cells[i].get_text() == nbb_unformatted_code) {\n                             nbb_cells[i].set_text(nbb_formatted_code);\n                        }\n                        break;\n                    }\n                }\n            }, 500);\n            ",
      "text/plain": [
       "<IPython.core.display.Javascript object>"
      ]
     },
     "metadata": {},
     "output_type": "display_data"
    }
   ],
   "source": [
    "df_for_analysis['share_balance'] = (\n",
    "    df_for_analysis['balance']\n",
    "    *\n",
    "    100\n",
    "    /\n",
    "    df_for_analysis['cumulative_cdr_netzero_2100']\n",
    ")"
   ]
  },
  {
   "cell_type": "code",
   "execution_count": 11,
   "metadata": {},
   "outputs": [
    {
     "data": {
      "application/javascript": "\n            setTimeout(function() {\n                var nbb_cell_id = 11;\n                var nbb_unformatted_code = \"df_for_analysis['share_decline'] = (\\n    100\\n    -\\n    df_for_analysis['share_balance']\\n)\";\n                var nbb_formatted_code = \"df_for_analysis[\\\"share_decline\\\"] = 100 - df_for_analysis[\\\"share_balance\\\"]\";\n                var nbb_cells = Jupyter.notebook.get_cells();\n                for (var i = 0; i < nbb_cells.length; ++i) {\n                    if (nbb_cells[i].input_prompt_number == nbb_cell_id) {\n                        if (nbb_cells[i].get_text() == nbb_unformatted_code) {\n                             nbb_cells[i].set_text(nbb_formatted_code);\n                        }\n                        break;\n                    }\n                }\n            }, 500);\n            ",
      "text/plain": [
       "<IPython.core.display.Javascript object>"
      ]
     },
     "metadata": {},
     "output_type": "display_data"
    }
   ],
   "source": [
    "df_for_analysis['share_decline'] = (\n",
    "    100\n",
    "    -\n",
    "    df_for_analysis['share_balance']\n",
    ")"
   ]
  },
  {
   "cell_type": "markdown",
   "metadata": {},
   "source": [
    "Step 6: Get the summary statistics for the shares as well as the volumes."
   ]
  },
  {
   "cell_type": "code",
   "execution_count": 12,
   "metadata": {},
   "outputs": [
    {
     "data": {
      "application/javascript": "\n            setTimeout(function() {\n                var nbb_cell_id = 12;\n                var nbb_unformatted_code = \"summary_share = (\\n    df_for_analysis\\n    .groupby('Category')\\n    [['share_balance', 'share_decline']]\\n    .describe()\\n    .round(0)\\n)\";\n                var nbb_formatted_code = \"summary_share = (\\n    df_for_analysis.groupby(\\\"Category\\\")[[\\\"share_balance\\\", \\\"share_decline\\\"]]\\n    .describe()\\n    .round(0)\\n)\";\n                var nbb_cells = Jupyter.notebook.get_cells();\n                for (var i = 0; i < nbb_cells.length; ++i) {\n                    if (nbb_cells[i].input_prompt_number == nbb_cell_id) {\n                        if (nbb_cells[i].get_text() == nbb_unformatted_code) {\n                             nbb_cells[i].set_text(nbb_formatted_code);\n                        }\n                        break;\n                    }\n                }\n            }, 500);\n            ",
      "text/plain": [
       "<IPython.core.display.Javascript object>"
      ]
     },
     "metadata": {},
     "output_type": "display_data"
    }
   ],
   "source": [
    "summary_share = (\n",
    "    df_for_analysis\n",
    "    .groupby('Category')\n",
    "    [['share_balance', 'share_decline']]\n",
    "    .describe()\n",
    "    .round(0)\n",
    ")"
   ]
  },
  {
   "cell_type": "code",
   "execution_count": 13,
   "metadata": {},
   "outputs": [
    {
     "data": {
      "application/javascript": "\n            setTimeout(function() {\n                var nbb_cell_id = 13;\n                var nbb_unformatted_code = \"summary_volume = (\\n    df_for_analysis\\n    .groupby('Category')\\n    [['balance', 'decline']]\\n    .describe()\\n    .round(0)\\n)\";\n                var nbb_formatted_code = \"summary_volume = (\\n    df_for_analysis.groupby(\\\"Category\\\")[[\\\"balance\\\", \\\"decline\\\"]].describe().round(0)\\n)\";\n                var nbb_cells = Jupyter.notebook.get_cells();\n                for (var i = 0; i < nbb_cells.length; ++i) {\n                    if (nbb_cells[i].input_prompt_number == nbb_cell_id) {\n                        if (nbb_cells[i].get_text() == nbb_unformatted_code) {\n                             nbb_cells[i].set_text(nbb_formatted_code);\n                        }\n                        break;\n                    }\n                }\n            }, 500);\n            ",
      "text/plain": [
       "<IPython.core.display.Javascript object>"
      ]
     },
     "metadata": {},
     "output_type": "display_data"
    }
   ],
   "source": [
    "summary_volume = (\n",
    "    df_for_analysis\n",
    "    .groupby('Category')\n",
    "    [['balance', 'decline']]\n",
    "    .describe()\n",
    "    .round(0)\n",
    ")"
   ]
  },
  {
   "cell_type": "code",
   "execution_count": 14,
   "metadata": {},
   "outputs": [
    {
     "name": "stdout",
     "output_type": "stream",
     "text": [
      "\n",
      "    In the assessed C1 scenarios, \n",
      "    55.0 \n",
      "    [44.0, 91.0]\n",
      "    (in volume terms \n",
      "    342.0 \n",
      "    [245.0, 426.0]) \n",
      "    of the total CDR deployed over this timeframe is to balance residual gross CO2 emissions.\n",
      "    \n"
     ]
    },
    {
     "data": {
      "application/javascript": "\n            setTimeout(function() {\n                var nbb_cell_id = 14;\n                var nbb_unformatted_code = \"print(\\n    f\\\"\\\"\\\"\\n    In the assessed C1 scenarios, \\n    {summary_share.loc['C1', pd.IndexSlice['share_balance', '50%']]} \\n    [{summary_share.loc['C1', pd.IndexSlice['share_balance', '25%']]}, {summary_share.loc['C1', pd.IndexSlice['share_balance', '75%']]}]\\n    (in volume terms \\n    {summary_volume.loc['C1', pd.IndexSlice['balance', '50%']]} \\n    [{summary_volume.loc['C1', pd.IndexSlice['balance', '25%']]}, {summary_volume.loc['C1', pd.IndexSlice['balance', '75%']]}]) \\n    of the total CDR deployed over this timeframe is to balance residual gross CO2 emissions.\\n    \\\"\\\"\\\"\\n)\";\n                var nbb_formatted_code = \"print(\\n    f\\\"\\\"\\\"\\n    In the assessed C1 scenarios, \\n    {summary_share.loc['C1', pd.IndexSlice['share_balance', '50%']]} \\n    [{summary_share.loc['C1', pd.IndexSlice['share_balance', '25%']]}, {summary_share.loc['C1', pd.IndexSlice['share_balance', '75%']]}]\\n    (in volume terms \\n    {summary_volume.loc['C1', pd.IndexSlice['balance', '50%']]} \\n    [{summary_volume.loc['C1', pd.IndexSlice['balance', '25%']]}, {summary_volume.loc['C1', pd.IndexSlice['balance', '75%']]}]) \\n    of the total CDR deployed over this timeframe is to balance residual gross CO2 emissions.\\n    \\\"\\\"\\\"\\n)\";\n                var nbb_cells = Jupyter.notebook.get_cells();\n                for (var i = 0; i < nbb_cells.length; ++i) {\n                    if (nbb_cells[i].input_prompt_number == nbb_cell_id) {\n                        if (nbb_cells[i].get_text() == nbb_unformatted_code) {\n                             nbb_cells[i].set_text(nbb_formatted_code);\n                        }\n                        break;\n                    }\n                }\n            }, 500);\n            ",
      "text/plain": [
       "<IPython.core.display.Javascript object>"
      ]
     },
     "metadata": {},
     "output_type": "display_data"
    }
   ],
   "source": [
    "print(\n",
    "    f\"\"\"\n",
    "    In the assessed C1 scenarios, \n",
    "    {summary_share.loc['C1', pd.IndexSlice['share_balance', '50%']]} \n",
    "    [{summary_share.loc['C1', pd.IndexSlice['share_balance', '25%']]}, {summary_share.loc['C1', pd.IndexSlice['share_balance', '75%']]}]\n",
    "    (in volume terms \n",
    "    {summary_volume.loc['C1', pd.IndexSlice['balance', '50%']]} \n",
    "    [{summary_volume.loc['C1', pd.IndexSlice['balance', '25%']]}, {summary_volume.loc['C1', pd.IndexSlice['balance', '75%']]}]) \n",
    "    of the total CDR deployed over this timeframe is to balance residual gross CO2 emissions.\n",
    "    \"\"\"\n",
    ")"
   ]
  },
  {
   "cell_type": "code",
   "execution_count": 15,
   "metadata": {},
   "outputs": [
    {
     "name": "stdout",
     "output_type": "stream",
     "text": [
      "\n",
      "    The corresponding values for C2 scenarios are somewhat lower at \n",
      "    50.0 \n",
      "    [40.0, 60.0]\n",
      "    (in volume terms \n",
      "    298.0 \n",
      "    [236.0, 384.0]) \n",
      "    linked to a greater demand for CDR to reverse temperature overshoot in C2 pathways when compared to C1 pathways.\n",
      "    \n"
     ]
    },
    {
     "data": {
      "application/javascript": "\n            setTimeout(function() {\n                var nbb_cell_id = 15;\n                var nbb_unformatted_code = \"print(\\n    f\\\"\\\"\\\"\\n    The corresponding values for C2 scenarios are somewhat lower at \\n    {summary_share.loc['C2', pd.IndexSlice['share_balance', '50%']]} \\n    [{summary_share.loc['C2', pd.IndexSlice['share_balance', '25%']]}, {summary_share.loc['C2', pd.IndexSlice['share_balance', '75%']]}]\\n    (in volume terms \\n    {summary_volume.loc['C2', pd.IndexSlice['balance', '50%']]} \\n    [{summary_volume.loc['C2', pd.IndexSlice['balance', '25%']]}, {summary_volume.loc['C2', pd.IndexSlice['balance', '75%']]}]) \\n    linked to a greater demand for CDR to reverse temperature overshoot in C2 pathways when compared to C1 pathways.\\n    \\\"\\\"\\\"\\n)\";\n                var nbb_formatted_code = \"print(\\n    f\\\"\\\"\\\"\\n    The corresponding values for C2 scenarios are somewhat lower at \\n    {summary_share.loc['C2', pd.IndexSlice['share_balance', '50%']]} \\n    [{summary_share.loc['C2', pd.IndexSlice['share_balance', '25%']]}, {summary_share.loc['C2', pd.IndexSlice['share_balance', '75%']]}]\\n    (in volume terms \\n    {summary_volume.loc['C2', pd.IndexSlice['balance', '50%']]} \\n    [{summary_volume.loc['C2', pd.IndexSlice['balance', '25%']]}, {summary_volume.loc['C2', pd.IndexSlice['balance', '75%']]}]) \\n    linked to a greater demand for CDR to reverse temperature overshoot in C2 pathways when compared to C1 pathways.\\n    \\\"\\\"\\\"\\n)\";\n                var nbb_cells = Jupyter.notebook.get_cells();\n                for (var i = 0; i < nbb_cells.length; ++i) {\n                    if (nbb_cells[i].input_prompt_number == nbb_cell_id) {\n                        if (nbb_cells[i].get_text() == nbb_unformatted_code) {\n                             nbb_cells[i].set_text(nbb_formatted_code);\n                        }\n                        break;\n                    }\n                }\n            }, 500);\n            ",
      "text/plain": [
       "<IPython.core.display.Javascript object>"
      ]
     },
     "metadata": {},
     "output_type": "display_data"
    }
   ],
   "source": [
    "print(\n",
    "    f\"\"\"\n",
    "    The corresponding values for C2 scenarios are somewhat lower at \n",
    "    {summary_share.loc['C2', pd.IndexSlice['share_balance', '50%']]} \n",
    "    [{summary_share.loc['C2', pd.IndexSlice['share_balance', '25%']]}, {summary_share.loc['C2', pd.IndexSlice['share_balance', '75%']]}]\n",
    "    (in volume terms \n",
    "    {summary_volume.loc['C2', pd.IndexSlice['balance', '50%']]} \n",
    "    [{summary_volume.loc['C2', pd.IndexSlice['balance', '25%']]}, {summary_volume.loc['C2', pd.IndexSlice['balance', '75%']]}]) \n",
    "    linked to a greater demand for CDR to reverse temperature overshoot in C2 pathways when compared to C1 pathways.\n",
    "    \"\"\"\n",
    ")"
   ]
  },
  {
   "cell_type": "code",
   "execution_count": 16,
   "metadata": {},
   "outputs": [
    {
     "name": "stdout",
     "output_type": "stream",
     "text": [
      "\n",
      "    higher volumes of CDR are deployed in C2 pathways to reverse warming\n",
      "    309.0 \n",
      "    [221.0, 424.0])\n",
      "    when compared to the C1 pathways\n",
      "    184.0 \n",
      "    [26.0, 418.0])\n",
      "    \n"
     ]
    },
    {
     "data": {
      "application/javascript": "\n            setTimeout(function() {\n                var nbb_cell_id = 16;\n                var nbb_unformatted_code = \"print(\\n    f\\\"\\\"\\\"\\n    higher volumes of CDR are deployed in C2 pathways to reverse warming\\n    {summary_volume.loc['C2', pd.IndexSlice['decline', '50%']]} \\n    [{summary_volume.loc['C2', pd.IndexSlice['decline', '25%']]}, {summary_volume.loc['C2', pd.IndexSlice['decline', '75%']]}])\\n    when compared to the C1 pathways\\n    {summary_volume.loc['C1', pd.IndexSlice['decline', '50%']]} \\n    [{summary_volume.loc['C1', pd.IndexSlice['decline', '25%']]}, {summary_volume.loc['C1', pd.IndexSlice['decline', '75%']]}])\\n    \\\"\\\"\\\"\\n)\";\n                var nbb_formatted_code = \"print(\\n    f\\\"\\\"\\\"\\n    higher volumes of CDR are deployed in C2 pathways to reverse warming\\n    {summary_volume.loc['C2', pd.IndexSlice['decline', '50%']]} \\n    [{summary_volume.loc['C2', pd.IndexSlice['decline', '25%']]}, {summary_volume.loc['C2', pd.IndexSlice['decline', '75%']]}])\\n    when compared to the C1 pathways\\n    {summary_volume.loc['C1', pd.IndexSlice['decline', '50%']]} \\n    [{summary_volume.loc['C1', pd.IndexSlice['decline', '25%']]}, {summary_volume.loc['C1', pd.IndexSlice['decline', '75%']]}])\\n    \\\"\\\"\\\"\\n)\";\n                var nbb_cells = Jupyter.notebook.get_cells();\n                for (var i = 0; i < nbb_cells.length; ++i) {\n                    if (nbb_cells[i].input_prompt_number == nbb_cell_id) {\n                        if (nbb_cells[i].get_text() == nbb_unformatted_code) {\n                             nbb_cells[i].set_text(nbb_formatted_code);\n                        }\n                        break;\n                    }\n                }\n            }, 500);\n            ",
      "text/plain": [
       "<IPython.core.display.Javascript object>"
      ]
     },
     "metadata": {},
     "output_type": "display_data"
    }
   ],
   "source": [
    "print(\n",
    "    f\"\"\"\n",
    "    higher volumes of CDR are deployed in C2 pathways to reverse warming\n",
    "    {summary_volume.loc['C2', pd.IndexSlice['decline', '50%']]} \n",
    "    [{summary_volume.loc['C2', pd.IndexSlice['decline', '25%']]}, {summary_volume.loc['C2', pd.IndexSlice['decline', '75%']]}])\n",
    "    when compared to the C1 pathways\n",
    "    {summary_volume.loc['C1', pd.IndexSlice['decline', '50%']]} \n",
    "    [{summary_volume.loc['C1', pd.IndexSlice['decline', '25%']]}, {summary_volume.loc['C1', pd.IndexSlice['decline', '75%']]}])\n",
    "    \"\"\"\n",
    ")"
   ]
  },
  {
   "cell_type": "markdown",
   "metadata": {},
   "source": [
    "Step 7: Calculate the shares of novel CDR after net zero CO2."
   ]
  },
  {
   "cell_type": "code",
   "execution_count": 17,
   "metadata": {},
   "outputs": [
    {
     "data": {
      "application/javascript": "\n            setTimeout(function() {\n                var nbb_cell_id = 17;\n                var nbb_unformatted_code = \"df_cdr = (\\n    df[['Category', 'cumulative_cdr_netzero_2100','novel_cdr_netzero_2100']]\\n)\";\n                var nbb_formatted_code = \"df_cdr = df[[\\\"Category\\\", \\\"cumulative_cdr_netzero_2100\\\", \\\"novel_cdr_netzero_2100\\\"]]\";\n                var nbb_cells = Jupyter.notebook.get_cells();\n                for (var i = 0; i < nbb_cells.length; ++i) {\n                    if (nbb_cells[i].input_prompt_number == nbb_cell_id) {\n                        if (nbb_cells[i].get_text() == nbb_unformatted_code) {\n                             nbb_cells[i].set_text(nbb_formatted_code);\n                        }\n                        break;\n                    }\n                }\n            }, 500);\n            ",
      "text/plain": [
       "<IPython.core.display.Javascript object>"
      ]
     },
     "metadata": {},
     "output_type": "display_data"
    }
   ],
   "source": [
    "df_cdr = (\n",
    "    df[['Category', 'cumulative_cdr_netzero_2100','novel_cdr_netzero_2100']]\n",
    ")"
   ]
  },
  {
   "cell_type": "code",
   "execution_count": 18,
   "metadata": {},
   "outputs": [
    {
     "name": "stderr",
     "output_type": "stream",
     "text": [
      "/var/folders/nz/kr7bwztj0_d9xrfz1jd4zcdh0000gp/T/ipykernel_4086/4132692584.py:1: SettingWithCopyWarning: \n",
      "A value is trying to be set on a copy of a slice from a DataFrame.\n",
      "Try using .loc[row_indexer,col_indexer] = value instead\n",
      "\n",
      "See the caveats in the documentation: https://pandas.pydata.org/pandas-docs/stable/user_guide/indexing.html#returning-a-view-versus-a-copy\n",
      "  df_cdr['share_novel'] = (\n"
     ]
    },
    {
     "data": {
      "application/javascript": "\n            setTimeout(function() {\n                var nbb_cell_id = 18;\n                var nbb_unformatted_code = \"df_cdr['share_novel'] = (\\n    df_cdr['novel_cdr_netzero_2100']\\n    *\\n    100\\n    /\\n    df_cdr['cumulative_cdr_netzero_2100']\\n)\";\n                var nbb_formatted_code = \"df_cdr[\\\"share_novel\\\"] = (\\n    df_cdr[\\\"novel_cdr_netzero_2100\\\"] * 100 / df_cdr[\\\"cumulative_cdr_netzero_2100\\\"]\\n)\";\n                var nbb_cells = Jupyter.notebook.get_cells();\n                for (var i = 0; i < nbb_cells.length; ++i) {\n                    if (nbb_cells[i].input_prompt_number == nbb_cell_id) {\n                        if (nbb_cells[i].get_text() == nbb_unformatted_code) {\n                             nbb_cells[i].set_text(nbb_formatted_code);\n                        }\n                        break;\n                    }\n                }\n            }, 500);\n            ",
      "text/plain": [
       "<IPython.core.display.Javascript object>"
      ]
     },
     "metadata": {},
     "output_type": "display_data"
    }
   ],
   "source": [
    "df_cdr['share_novel'] = (\n",
    "    df_cdr['novel_cdr_netzero_2100']\n",
    "    *\n",
    "    100\n",
    "    /\n",
    "    df_cdr['cumulative_cdr_netzero_2100']\n",
    ")"
   ]
  },
  {
   "cell_type": "code",
   "execution_count": 19,
   "metadata": {},
   "outputs": [
    {
     "name": "stderr",
     "output_type": "stream",
     "text": [
      "/var/folders/nz/kr7bwztj0_d9xrfz1jd4zcdh0000gp/T/ipykernel_4086/2032100587.py:1: SettingWithCopyWarning: \n",
      "A value is trying to be set on a copy of a slice from a DataFrame\n",
      "\n",
      "See the caveats in the documentation: https://pandas.pydata.org/pandas-docs/stable/user_guide/indexing.html#returning-a-view-versus-a-copy\n",
      "  df_cdr['share_novel'][df_cdr['share_novel'] >100] = 100\n"
     ]
    },
    {
     "data": {
      "application/javascript": "\n            setTimeout(function() {\n                var nbb_cell_id = 19;\n                var nbb_unformatted_code = \"df_cdr['share_novel'][df_cdr['share_novel'] >100] = 100\";\n                var nbb_formatted_code = \"df_cdr[\\\"share_novel\\\"][df_cdr[\\\"share_novel\\\"] > 100] = 100\";\n                var nbb_cells = Jupyter.notebook.get_cells();\n                for (var i = 0; i < nbb_cells.length; ++i) {\n                    if (nbb_cells[i].input_prompt_number == nbb_cell_id) {\n                        if (nbb_cells[i].get_text() == nbb_unformatted_code) {\n                             nbb_cells[i].set_text(nbb_formatted_code);\n                        }\n                        break;\n                    }\n                }\n            }, 500);\n            ",
      "text/plain": [
       "<IPython.core.display.Javascript object>"
      ]
     },
     "metadata": {},
     "output_type": "display_data"
    }
   ],
   "source": [
    "df_cdr['share_novel'][df_cdr['share_novel'] >100] = 100"
   ]
  },
  {
   "cell_type": "code",
   "execution_count": 20,
   "metadata": {},
   "outputs": [
    {
     "data": {
      "application/javascript": "\n            setTimeout(function() {\n                var nbb_cell_id = 20;\n                var nbb_unformatted_code = \"summary_novel_shares = (\\n    df_cdr['share_novel']\\n    .describe()\\n    .round(0)\\n)\";\n                var nbb_formatted_code = \"summary_novel_shares = df_cdr[\\\"share_novel\\\"].describe().round(0)\";\n                var nbb_cells = Jupyter.notebook.get_cells();\n                for (var i = 0; i < nbb_cells.length; ++i) {\n                    if (nbb_cells[i].input_prompt_number == nbb_cell_id) {\n                        if (nbb_cells[i].get_text() == nbb_unformatted_code) {\n                             nbb_cells[i].set_text(nbb_formatted_code);\n                        }\n                        break;\n                    }\n                }\n            }, 500);\n            ",
      "text/plain": [
       "<IPython.core.display.Javascript object>"
      ]
     },
     "metadata": {},
     "output_type": "display_data"
    }
   ],
   "source": [
    "summary_novel_shares = (\n",
    "    df_cdr['share_novel']\n",
    "    .describe()\n",
    "    .round(0)\n",
    ")"
   ]
  },
  {
   "cell_type": "code",
   "execution_count": 21,
   "metadata": {},
   "outputs": [
    {
     "data": {
      "application/javascript": "\n            setTimeout(function() {\n                var nbb_cell_id = 21;\n                var nbb_unformatted_code = \"summary_novel_shares_cat = (\\n    df_cdr\\n    .groupby('Category')['share_novel']\\n    .describe()\\n    .round(0)\\n)\";\n                var nbb_formatted_code = \"summary_novel_shares_cat = df_cdr.groupby(\\\"Category\\\")[\\\"share_novel\\\"].describe().round(0)\";\n                var nbb_cells = Jupyter.notebook.get_cells();\n                for (var i = 0; i < nbb_cells.length; ++i) {\n                    if (nbb_cells[i].input_prompt_number == nbb_cell_id) {\n                        if (nbb_cells[i].get_text() == nbb_unformatted_code) {\n                             nbb_cells[i].set_text(nbb_formatted_code);\n                        }\n                        break;\n                    }\n                }\n            }, 500);\n            ",
      "text/plain": [
       "<IPython.core.display.Javascript object>"
      ]
     },
     "metadata": {},
     "output_type": "display_data"
    }
   ],
   "source": [
    "summary_novel_shares_cat = (\n",
    "    df_cdr\n",
    "    .groupby('Category')['share_novel']\n",
    "    .describe()\n",
    "    .round(0)\n",
    ")"
   ]
  },
  {
   "cell_type": "code",
   "execution_count": 22,
   "metadata": {},
   "outputs": [
    {
     "data": {
      "text/plain": [
       "count    401.0\n",
       "mean      66.0\n",
       "std       17.0\n",
       "min        0.0\n",
       "25%       58.0\n",
       "50%       66.0\n",
       "75%       79.0\n",
       "max      100.0\n",
       "Name: share_novel, dtype: float64"
      ]
     },
     "execution_count": 22,
     "metadata": {},
     "output_type": "execute_result"
    },
    {
     "data": {
      "application/javascript": "\n            setTimeout(function() {\n                var nbb_cell_id = 22;\n                var nbb_unformatted_code = \"summary_novel_shares\";\n                var nbb_formatted_code = \"summary_novel_shares\";\n                var nbb_cells = Jupyter.notebook.get_cells();\n                for (var i = 0; i < nbb_cells.length; ++i) {\n                    if (nbb_cells[i].input_prompt_number == nbb_cell_id) {\n                        if (nbb_cells[i].get_text() == nbb_unformatted_code) {\n                             nbb_cells[i].set_text(nbb_formatted_code);\n                        }\n                        break;\n                    }\n                }\n            }, 500);\n            ",
      "text/plain": [
       "<IPython.core.display.Javascript object>"
      ]
     },
     "metadata": {},
     "output_type": "display_data"
    }
   ],
   "source": [
    "summary_novel_shares"
   ]
  },
  {
   "cell_type": "code",
   "execution_count": 23,
   "metadata": {},
   "outputs": [
    {
     "data": {
      "text/html": [
       "<div>\n",
       "<style scoped>\n",
       "    .dataframe tbody tr th:only-of-type {\n",
       "        vertical-align: middle;\n",
       "    }\n",
       "\n",
       "    .dataframe tbody tr th {\n",
       "        vertical-align: top;\n",
       "    }\n",
       "\n",
       "    .dataframe thead th {\n",
       "        text-align: right;\n",
       "    }\n",
       "</style>\n",
       "<table border=\"1\" class=\"dataframe\">\n",
       "  <thead>\n",
       "    <tr style=\"text-align: right;\">\n",
       "      <th></th>\n",
       "      <th>count</th>\n",
       "      <th>mean</th>\n",
       "      <th>std</th>\n",
       "      <th>min</th>\n",
       "      <th>25%</th>\n",
       "      <th>50%</th>\n",
       "      <th>75%</th>\n",
       "      <th>max</th>\n",
       "    </tr>\n",
       "    <tr>\n",
       "      <th>Category</th>\n",
       "      <th></th>\n",
       "      <th></th>\n",
       "      <th></th>\n",
       "      <th></th>\n",
       "      <th></th>\n",
       "      <th></th>\n",
       "      <th></th>\n",
       "      <th></th>\n",
       "    </tr>\n",
       "  </thead>\n",
       "  <tbody>\n",
       "    <tr>\n",
       "      <th>C1</th>\n",
       "      <td>70.0</td>\n",
       "      <td>59.0</td>\n",
       "      <td>19.0</td>\n",
       "      <td>0.0</td>\n",
       "      <td>48.0</td>\n",
       "      <td>62.0</td>\n",
       "      <td>72.0</td>\n",
       "      <td>90.0</td>\n",
       "    </tr>\n",
       "    <tr>\n",
       "      <th>C2</th>\n",
       "      <td>102.0</td>\n",
       "      <td>70.0</td>\n",
       "      <td>12.0</td>\n",
       "      <td>48.0</td>\n",
       "      <td>60.0</td>\n",
       "      <td>66.0</td>\n",
       "      <td>80.0</td>\n",
       "      <td>100.0</td>\n",
       "    </tr>\n",
       "    <tr>\n",
       "      <th>C3</th>\n",
       "      <td>229.0</td>\n",
       "      <td>67.0</td>\n",
       "      <td>17.0</td>\n",
       "      <td>0.0</td>\n",
       "      <td>57.0</td>\n",
       "      <td>68.0</td>\n",
       "      <td>78.0</td>\n",
       "      <td>100.0</td>\n",
       "    </tr>\n",
       "  </tbody>\n",
       "</table>\n",
       "</div>"
      ],
      "text/plain": [
       "          count  mean   std   min   25%   50%   75%    max\n",
       "Category                                                  \n",
       "C1         70.0  59.0  19.0   0.0  48.0  62.0  72.0   90.0\n",
       "C2        102.0  70.0  12.0  48.0  60.0  66.0  80.0  100.0\n",
       "C3        229.0  67.0  17.0   0.0  57.0  68.0  78.0  100.0"
      ]
     },
     "execution_count": 23,
     "metadata": {},
     "output_type": "execute_result"
    },
    {
     "data": {
      "application/javascript": "\n            setTimeout(function() {\n                var nbb_cell_id = 23;\n                var nbb_unformatted_code = \"summary_novel_shares_cat\";\n                var nbb_formatted_code = \"summary_novel_shares_cat\";\n                var nbb_cells = Jupyter.notebook.get_cells();\n                for (var i = 0; i < nbb_cells.length; ++i) {\n                    if (nbb_cells[i].input_prompt_number == nbb_cell_id) {\n                        if (nbb_cells[i].get_text() == nbb_unformatted_code) {\n                             nbb_cells[i].set_text(nbb_formatted_code);\n                        }\n                        break;\n                    }\n                }\n            }, 500);\n            ",
      "text/plain": [
       "<IPython.core.display.Javascript object>"
      ]
     },
     "metadata": {},
     "output_type": "display_data"
    }
   ],
   "source": [
    "summary_novel_shares_cat"
   ]
  }
 ],
 "metadata": {
  "kernelspec": {
   "display_name": "ar6_cdr_assessment",
   "language": "python",
   "name": "python3"
  },
  "language_info": {
   "codemirror_mode": {
    "name": "ipython",
    "version": 3
   },
   "file_extension": ".py",
   "mimetype": "text/x-python",
   "name": "python",
   "nbconvert_exporter": "python",
   "pygments_lexer": "ipython3",
   "version": "3.10.13"
  }
 },
 "nbformat": 4,
 "nbformat_minor": 2
}
