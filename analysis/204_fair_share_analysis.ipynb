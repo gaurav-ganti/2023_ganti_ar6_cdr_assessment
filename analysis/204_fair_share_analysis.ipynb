{
 "cells": [
  {
   "cell_type": "code",
   "execution_count": 1,
   "metadata": {},
   "outputs": [
    {
     "data": {
      "application/javascript": "if (typeof IPython !== 'undefined') { IPython.OutputArea.prototype._should_scroll = function(lines){ return false; }}",
      "text/plain": [
       "<IPython.core.display.Javascript object>"
      ]
     },
     "metadata": {},
     "output_type": "display_data"
    }
   ],
   "source": [
    "import pyam\n",
    "import pandas as pd\n",
    "import numpy as np\n",
    "import itertools\n",
    "\n",
    "import tradeoff.ecpc_calculator as tecpc\n",
    "\n",
    "import matplotlib.pyplot as plt\n",
    "from matplotlib.lines import Line2D\n",
    "from matplotlib.patches import Patch\n",
    "from matplotlib.container import ErrorbarContainer\n",
    "from matplotlib.collections import LineCollection\n",
    "\n",
    "from pathlib import Path\n",
    "import copy"
   ]
  },
  {
   "cell_type": "markdown",
   "metadata": {},
   "source": [
    "Step 1: Read in the necessary data."
   ]
  },
  {
   "cell_type": "code",
   "execution_count": 2,
   "metadata": {},
   "outputs": [
    {
     "name": "stderr",
     "output_type": "stream",
     "text": [
      "pyam - INFO: Running in a notebook, setting up a basic logging at level INFO\n",
      "pyam.core - INFO: Reading file ../data/101_data.xlsx\n",
      "pyam.core - INFO: Reading meta indicators\n"
     ]
    }
   ],
   "source": [
    "df = pyam.IamDataFrame(\n",
    "    Path(\n",
    "        '../data/101_data.xlsx'\n",
    "    )\n",
    ")"
   ]
  },
  {
   "cell_type": "markdown",
   "metadata": {},
   "source": [
    "Step 2: Downselect the necessary data."
   ]
  },
  {
   "cell_type": "code",
   "execution_count": 3,
   "metadata": {},
   "outputs": [],
   "source": [
    "df_for_equity_indices = (\n",
    "    df\n",
    "    .filter(\n",
    "        region='R5*',\n",
    "        variable=[\n",
    "            'AR6 Reanalysis|OSCARv3.2|Emissions|CO2|Gross',\n",
    "            'Population'\n",
    "        ],\n",
    "        year=range(2010, 2101)\n",
    "    )\n",
    "    .interpolate(\n",
    "        time=range(2010, 2101)\n",
    "    )\n",
    ")"
   ]
  },
  {
   "cell_type": "code",
   "execution_count": 4,
   "metadata": {},
   "outputs": [],
   "source": [
    "df_for_equity_indices.aggregate_region(\n",
    "    region='World',\n",
    "    variable=df_for_equity_indices.variable,\n",
    "    subregions=df_for_equity_indices.region,\n",
    "    append=True\n",
    ")"
   ]
  },
  {
   "cell_type": "markdown",
   "metadata": {},
   "source": [
    "Step 3: Calculate the fair share emissions on an equal per capita basis."
   ]
  },
  {
   "cell_type": "code",
   "execution_count": 5,
   "metadata": {},
   "outputs": [
    {
     "name": "stderr",
     "output_type": "stream",
     "text": [
      "/var/folders/nz/kr7bwztj0_d9xrfz1jd4zcdh0000gp/T/ipykernel_2476/3427996769.py:1: DeprecationWarning: This method is deprecated and will be removed in future versions. Use `df.require_data()` instead.\n",
      "  df_for_equity_indices.require_variable(\n",
      "pyam.core - INFO: 19 scenarios do not include required variable `Population`, marked as `exclude: True` in `meta`\n"
     ]
    }
   ],
   "source": [
    "df_for_equity_indices.require_variable(\n",
    "    'Population',\n",
    "    exclude_on_fail=True\n",
    ")\n",
    "df_for_equity_indices.filter(\n",
    "    exclude=False,\n",
    "    inplace=True\n",
    ")"
   ]
  },
  {
   "cell_type": "code",
   "execution_count": 6,
   "metadata": {},
   "outputs": [],
   "source": [
    "results = []\n",
    "for (mod, scen) in df_for_equity_indices.meta.index:\n",
    "    df_to_crunch = df_for_equity_indices.filter(\n",
    "        model=mod,\n",
    "        scenario=scen\n",
    "    )\n",
    "    result = tecpc.calculate_carbon_debt(\n",
    "        in_df=df_to_crunch,\n",
    "        emission_var='AR6 Reanalysis|OSCARv3.2|Emissions|CO2|Gross',\n",
    "        start_year=2010,\n",
    "        end_year=2100\n",
    "    )\n",
    "    results.append(result)"
   ]
  },
  {
   "cell_type": "code",
   "execution_count": 7,
   "metadata": {},
   "outputs": [],
   "source": [
    "results_pyam = pyam.concat(\n",
    "    results\n",
    ")"
   ]
  },
  {
   "cell_type": "markdown",
   "metadata": {},
   "source": [
    "Step 4: We need to calculate the debt (gross) between 2010 and 2020. This will serve two purposes:\n",
    "1. Use the proportions to calculate this historical CDR debt (i.e., did you deploy enough)\n",
    "2. Calculate the gross debt that will be added to the future per capita gross allocations."
   ]
  },
  {
   "cell_type": "code",
   "execution_count": 8,
   "metadata": {},
   "outputs": [],
   "source": [
    "r5_regions = [\n",
    "    x for x in results_pyam.region if 'R5' in x\n",
    "]"
   ]
  },
  {
   "cell_type": "code",
   "execution_count": 9,
   "metadata": {},
   "outputs": [],
   "source": [
    "debt = (\n",
    "    results_pyam\n",
    "    .filter(\n",
    "        variable='Emissions|Debt',\n",
    "        year=range(2010,2021),\n",
    "        region=r5_regions\n",
    "    )\n",
    ")"
   ]
  },
  {
   "cell_type": "code",
   "execution_count": 10,
   "metadata": {},
   "outputs": [],
   "source": [
    "for region in debt.region:\n",
    "    region_ts = (\n",
    "        debt\n",
    "        .filter(region=region)\n",
    "        .timeseries()\n",
    "    )\n",
    "\n",
    "    region_ts_pos_nly = copy.deepcopy(region_ts)\n",
    "    region_ts_pos_nly[region_ts_pos_nly<0] = 0\n",
    "\n",
    "    debt.set_meta(\n",
    "        region_ts.apply(\n",
    "            lambda x: pyam.cumulative(\n",
    "                x,\n",
    "                first_year=2010,\n",
    "                last_year=2020\n",
    "            ),\n",
    "            axis=1\n",
    "        ),\n",
    "        name=f'debt_2010_2020_{region}'\n",
    "    )\n",
    "\n",
    "    debt.set_meta(\n",
    "        region_ts_pos_nly.apply(\n",
    "            lambda x: pyam.cumulative(\n",
    "                x,\n",
    "                first_year=2010,\n",
    "                last_year=2020\n",
    "            ),\n",
    "            axis=1\n",
    "        ),\n",
    "        name=f'debt_2010_2020_for_shares_{region}'\n",
    "    )"
   ]
  },
  {
   "cell_type": "code",
   "execution_count": 11,
   "metadata": {},
   "outputs": [],
   "source": [
    "debt_share_columns = [\n",
    "    x for x in  debt.meta.columns if 'for_shares' in x\n",
    "]"
   ]
  },
  {
   "cell_type": "code",
   "execution_count": 12,
   "metadata": {},
   "outputs": [],
   "source": [
    "for region in r5_regions:\n",
    "    debt.meta.loc[:, f'share_debt_{region}'] = (\n",
    "        debt.meta.loc[:, f'debt_2010_2020_for_shares_{region}']\n",
    "        /\n",
    "        (debt.meta.loc[:, debt_share_columns].sum(axis=1))\n",
    "    )"
   ]
  },
  {
   "cell_type": "markdown",
   "metadata": {},
   "source": [
    "Step 5: Now, let us calculate the total (historical) CDR deployed in this period."
   ]
  },
  {
   "cell_type": "code",
   "execution_count": 13,
   "metadata": {},
   "outputs": [],
   "source": [
    "df.set_meta(\n",
    "    name='exclude',\n",
    "    meta=True,\n",
    "    index=df.meta.index.difference(debt.index)\n",
    ")"
   ]
  },
  {
   "cell_type": "code",
   "execution_count": 14,
   "metadata": {},
   "outputs": [],
   "source": [
    "df.filter(\n",
    "    exclude=False,\n",
    "    inplace=True\n",
    ")"
   ]
  },
  {
   "cell_type": "code",
   "execution_count": 15,
   "metadata": {},
   "outputs": [],
   "source": [
    "total_cdr = (\n",
    "    df\n",
    "    .filter(\n",
    "        variable='AR6 Reanalysis|OSCARv3.2|Carbon Removal|Total',\n",
    "    )\n",
    ")"
   ]
  },
  {
   "cell_type": "code",
   "execution_count": 16,
   "metadata": {},
   "outputs": [],
   "source": [
    "year_pairs = [\n",
    "    (2010, 2020),\n",
    "    (2021, 'netzero')\n",
    "]"
   ]
  },
  {
   "cell_type": "code",
   "execution_count": 17,
   "metadata": {},
   "outputs": [],
   "source": [
    "for region in total_cdr.region:\n",
    "    reg_ts = (\n",
    "        total_cdr\n",
    "        .filter(\n",
    "            region=region\n",
    "        )\n",
    "        .timeseries()\n",
    "    )\n",
    "    for start, end in year_pairs:\n",
    "        if end=='netzero':\n",
    "            debt.set_meta(\n",
    "                reg_ts.apply(\n",
    "                    lambda x: pyam.cumulative(\n",
    "                        x,\n",
    "                        first_year=start,\n",
    "                        last_year=debt.meta.loc[x.name[0:2], 'Year of netzero CO2 emissions (Harm-Infilled) table']\n",
    "                    ),\n",
    "                    axis=1\n",
    "                ),\n",
    "                name=f'cdr_{start}_{end}_{region}'\n",
    "            )\n",
    "        else:\n",
    "            debt.set_meta(\n",
    "                reg_ts.apply(\n",
    "                    lambda x: pyam.cumulative(\n",
    "                        x,\n",
    "                        first_year=start,\n",
    "                        last_year=end\n",
    "                    ),\n",
    "                    axis=1\n",
    "                ),\n",
    "                name=f'cdr_{start}_{end}_{region}'\n",
    "            )"
   ]
  },
  {
   "cell_type": "markdown",
   "metadata": {},
   "source": [
    "Step 6: Now, let us calculate the fair CDR in the historical period as well as the \"CDR debt\""
   ]
  },
  {
   "cell_type": "code",
   "execution_count": 18,
   "metadata": {},
   "outputs": [],
   "source": [
    "for region in r5_regions:\n",
    "    debt.meta.loc[:, f'cdr_fair_2010_2020_{region}'] = (\n",
    "        debt.meta.loc[:,f'share_debt_{region}'] * debt.meta.loc[:, 'cdr_2010_2020_World']\n",
    "    )\n",
    "\n",
    "    debt.meta.loc[:, f'cdr_debt_2010_2020_{region}'] = (\n",
    "        debt.meta.loc[:, f'cdr_fair_2010_2020_{region}'] - debt.meta.loc[:, f'cdr_2010_2020_{region}']\n",
    "    )\n",
    "\n",
    "    debt.meta.loc[:, f'cdr_debt_for_shares_2010_2020_{region}'] = (\n",
    "        debt.meta.loc[:, f'cdr_debt_2010_2020_{region}'].apply(\n",
    "            lambda x: x if x>=0 else 0\n",
    "        )    \n",
    "    )\n",
    "    "
   ]
  },
  {
   "cell_type": "markdown",
   "metadata": {},
   "source": [
    "Step 7: Calculate the shares of this historical CDR debt (0 share if negative)"
   ]
  },
  {
   "cell_type": "code",
   "execution_count": 19,
   "metadata": {},
   "outputs": [],
   "source": [
    "cdr_debt_share_columns = [\n",
    "    x for x in debt.meta.columns if 'cdr_debt_for_shares' in x\n",
    "]"
   ]
  },
  {
   "cell_type": "code",
   "execution_count": 20,
   "metadata": {},
   "outputs": [],
   "source": [
    "for region in r5_regions:\n",
    "    debt.meta.loc[:, f'cdr_share_2021_netzero_{region}'] = (\n",
    "        debt.meta.loc[:, f'cdr_debt_for_shares_2010_2020_{region}']\n",
    "        /\n",
    "        (debt.meta.loc[:, cdr_debt_share_columns].sum(axis=1))\n",
    "    )"
   ]
  },
  {
   "cell_type": "markdown",
   "metadata": {},
   "source": [
    "Step 8: Calculate the fair CDR benchmark"
   ]
  },
  {
   "cell_type": "code",
   "execution_count": 21,
   "metadata": {},
   "outputs": [],
   "source": [
    "for region in r5_regions:\n",
    "    debt.meta.loc[:, f'benchmark_cdr_2021_netzero_{region}'] = (\n",
    "        debt.meta.loc[:, f'cdr_share_2021_netzero_{region}'] * debt.meta.loc[:, 'cdr_2021_netzero_World']         \n",
    "    )"
   ]
  },
  {
   "cell_type": "markdown",
   "metadata": {},
   "source": [
    "Step 9: Calculate the fair gross emission benchmark."
   ]
  },
  {
   "cell_type": "code",
   "execution_count": 22,
   "metadata": {},
   "outputs": [],
   "source": [
    "fair_gross = (\n",
    "    results_pyam\n",
    "    .filter(\n",
    "        variable='Emissions|Fair',\n",
    "        year=range(2021, 2101),\n",
    "        region=r5_regions\n",
    "    )\n",
    ")"
   ]
  },
  {
   "cell_type": "code",
   "execution_count": 23,
   "metadata": {},
   "outputs": [],
   "source": [
    "for region in r5_regions:\n",
    "    reg_ts = (\n",
    "        fair_gross\n",
    "        .filter(region=region)\n",
    "        .timeseries()\n",
    "    )\n",
    "    debt.set_meta(\n",
    "        reg_ts.apply(\n",
    "            lambda x: pyam.cumulative(\n",
    "                x,\n",
    "                first_year=2021,\n",
    "                last_year=debt.meta.loc[x.name[0:2], 'Year of netzero CO2 emissions (Harm-Infilled) table']\n",
    "            ),\n",
    "            axis=1\n",
    "        ),\n",
    "        name=f'benchmark_gross_2021_netzero_wodebt_{region}'\n",
    "    )\n",
    "    debt.meta.loc[:, f'benchmark_gross_2021_netzero_wdebt_{region}'] = (\n",
    "        debt.meta.loc[:, f'benchmark_gross_2021_netzero_wodebt_{region}']\n",
    "        -\n",
    "        debt.meta.loc[:, f'debt_2010_2020_{region}']\n",
    "    )"
   ]
  },
  {
   "cell_type": "markdown",
   "metadata": {},
   "source": [
    "Step 10: Finally let us estimate the total gross emissions from 2021 to netzero"
   ]
  },
  {
   "cell_type": "code",
   "execution_count": 24,
   "metadata": {},
   "outputs": [],
   "source": [
    "gross = (\n",
    "    results_pyam\n",
    "    .filter(\n",
    "        variable='AR6 Reanalysis|OSCARv3.2|Emissions|CO2|Gross'\n",
    "    )\n",
    ")"
   ]
  },
  {
   "cell_type": "code",
   "execution_count": 25,
   "metadata": {},
   "outputs": [],
   "source": [
    "for region in r5_regions:\n",
    "    gross_reg_ts = (\n",
    "        gross\n",
    "        .filter(\n",
    "            region=region\n",
    "        )\n",
    "        .timeseries()\n",
    "    )\n",
    "    debt.set_meta(\n",
    "        gross_reg_ts\n",
    "        .apply(\n",
    "            lambda x: pyam.cumulative(\n",
    "                x,\n",
    "                first_year=2021,\n",
    "                last_year=debt.meta.loc[x.name[0:2], 'Year of netzero CO2 emissions (Harm-Infilled) table']\n",
    "            ),\n",
    "            axis=1\n",
    "        ),\n",
    "        name=f'gross_2021_netzero_{region}'\n",
    "    )"
   ]
  },
  {
   "cell_type": "markdown",
   "metadata": {},
   "source": [
    "Step 11: Assessment and statements. Does this style of analysis lead to any new insights."
   ]
  },
  {
   "cell_type": "code",
   "execution_count": 26,
   "metadata": {},
   "outputs": [],
   "source": [
    "string_types = [\n",
    "    'gross_2021_netzero_',\n",
    "    'cdr_2021_netzero_'\n",
    "]"
   ]
  },
  {
   "cell_type": "code",
   "execution_count": 27,
   "metadata": {},
   "outputs": [],
   "source": [
    "cols = [['Category']]\n",
    "for s in string_types:\n",
    "    c = [x for x in debt.meta.columns if s in x]\n",
    "    cols.append(c)"
   ]
  },
  {
   "cell_type": "code",
   "execution_count": 28,
   "metadata": {},
   "outputs": [],
   "source": [
    "cols_to_assess = list(itertools.chain(*cols))"
   ]
  },
  {
   "cell_type": "code",
   "execution_count": 29,
   "metadata": {},
   "outputs": [
    {
     "data": {
      "text/plain": [
       "['Category',\n",
       " 'benchmark_gross_2021_netzero_wodebt_R5ASIA',\n",
       " 'benchmark_gross_2021_netzero_wdebt_R5ASIA',\n",
       " 'benchmark_gross_2021_netzero_wodebt_R5LAM',\n",
       " 'benchmark_gross_2021_netzero_wdebt_R5LAM',\n",
       " 'benchmark_gross_2021_netzero_wodebt_R5MAF',\n",
       " 'benchmark_gross_2021_netzero_wdebt_R5MAF',\n",
       " 'benchmark_gross_2021_netzero_wodebt_R5OECD90+EU',\n",
       " 'benchmark_gross_2021_netzero_wdebt_R5OECD90+EU',\n",
       " 'benchmark_gross_2021_netzero_wodebt_R5REF',\n",
       " 'benchmark_gross_2021_netzero_wdebt_R5REF',\n",
       " 'gross_2021_netzero_R5ASIA',\n",
       " 'gross_2021_netzero_R5LAM',\n",
       " 'gross_2021_netzero_R5MAF',\n",
       " 'gross_2021_netzero_R5OECD90+EU',\n",
       " 'gross_2021_netzero_R5REF',\n",
       " 'cdr_2021_netzero_R5ASIA',\n",
       " 'cdr_2021_netzero_R5LAM',\n",
       " 'cdr_2021_netzero_R5MAF',\n",
       " 'cdr_2021_netzero_R5OECD90+EU',\n",
       " 'cdr_2021_netzero_R5REF',\n",
       " 'cdr_2021_netzero_World',\n",
       " 'benchmark_cdr_2021_netzero_R5ASIA',\n",
       " 'benchmark_cdr_2021_netzero_R5LAM',\n",
       " 'benchmark_cdr_2021_netzero_R5MAF',\n",
       " 'benchmark_cdr_2021_netzero_R5OECD90+EU',\n",
       " 'benchmark_cdr_2021_netzero_R5REF']"
      ]
     },
     "execution_count": 29,
     "metadata": {},
     "output_type": "execute_result"
    }
   ],
   "source": [
    "cols_to_assess"
   ]
  },
  {
   "cell_type": "code",
   "execution_count": 30,
   "metadata": {},
   "outputs": [],
   "source": [
    "fig2_data = debt.meta[cols_to_assess]"
   ]
  },
  {
   "cell_type": "code",
   "execution_count": 31,
   "metadata": {},
   "outputs": [],
   "source": [
    "fig2_data = fig2_data[fig2_data['Category']=='C1']"
   ]
  },
  {
   "cell_type": "code",
   "execution_count": 32,
   "metadata": {},
   "outputs": [
    {
     "data": {
      "text/plain": [
       "['R5ASIA', 'R5LAM', 'R5MAF', 'R5OECD90+EU', 'R5REF']"
      ]
     },
     "execution_count": 32,
     "metadata": {},
     "output_type": "execute_result"
    }
   ],
   "source": [
    "r5_regions"
   ]
  },
  {
   "cell_type": "code",
   "execution_count": 33,
   "metadata": {},
   "outputs": [],
   "source": [
    "def plot_median_iqr(ax, data, column,i, color, multiply=1, **kwargs):\n",
    "    ax.bar(\n",
    "        x=i,\n",
    "        height=data[column].median()*multiply,\n",
    "        color=color,\n",
    "        width=0.2,\n",
    "        **kwargs\n",
    "    )\n",
    "    ax.errorbar(\n",
    "        x=[i,i],\n",
    "        y=[data[column].quantile(q=0.25)*multiply, data[column].quantile(q=0.75)*multiply],\n",
    "        color='black',\n",
    "        marker='_'\n",
    "    )"
   ]
  },
  {
   "cell_type": "code",
   "execution_count": 34,
   "metadata": {},
   "outputs": [
    {
     "data": {
      "text/plain": [
       "<matplotlib.lines.Line2D at 0x16a4a0100>"
      ]
     },
     "execution_count": 34,
     "metadata": {},
     "output_type": "execute_result"
    },
    {
     "data": {
      "image/png": "[encoded data removed]",
      "text/plain": [
       "<Figure size 1000x500 with 1 Axes>"
      ]
     },
     "metadata": {},
     "output_type": "display_data"
    }
   ],
   "source": [
    "fig, ax = plt.subplots(figsize=(10, 5))\n",
    "\n",
    "for i, region in enumerate(r5_regions):\n",
    "    plot_median_iqr(\n",
    "        ax,\n",
    "        fig2_data,\n",
    "        f'gross_2021_netzero_{region}',\n",
    "        i-0.2,\n",
    "        '#e74d4d'\n",
    "    )\n",
    "\n",
    "    plot_median_iqr(\n",
    "        ax,\n",
    "        fig2_data,\n",
    "        f'cdr_2021_netzero_{region}',\n",
    "        i-0.2,\n",
    "        '#7688ab',\n",
    "        multiply=-1\n",
    "    )\n",
    "\n",
    "    plot_median_iqr(\n",
    "        ax,\n",
    "        fig2_data,\n",
    "        f'benchmark_gross_2021_netzero_wdebt_{region}',\n",
    "        i+0.2,\n",
    "        '#e74d4d',\n",
    "        hatch='///'\n",
    "    )\n",
    "\n",
    "    plot_median_iqr(\n",
    "        ax,\n",
    "        fig2_data,\n",
    "        f'benchmark_cdr_2021_netzero_{region}',\n",
    "        i+0.2,\n",
    "        '#7688ab',\n",
    "        -1,\n",
    "        hatch='///'\n",
    "    )\n",
    "\n",
    "ax.set_ylabel('Cumulative contribution until\\nglobal net zero CO$_2$ [Gt CO$_2$]')\n",
    "\n",
    "# Make a custom legend\n",
    "\n",
    "line = Line2D([],[], ls=\"none\", color='black')\n",
    "barline = LineCollection(np.empty((2,2,2)), color='black')\n",
    "custom_legend = [\n",
    "    Patch(facecolor='#e74d4d', label='Gross CO$_2$ emissions (direct)', edgecolor='#e74d4d'),\n",
    "    Patch(facecolor='#7688ab', label='CDR (direct)', edgecolor='#7688ab'),\n",
    "    Patch(label='Equity benchmark', hatch='/////', edgecolor='black',facecolor='white'),\n",
    "    ErrorbarContainer((line, [line], [barline]), has_yerr=True, label='Interquartile range')\n",
    "]\n",
    "ax.legend(handles=custom_legend, framealpha=0)\n",
    "\n",
    "ax.set_xticks(range(5), r5_regions)\n",
    "ax.grid(alpha=0.3)\n",
    "ax.axhline(0, color='black', alpha=0.6)"
   ]
  },
  {
   "cell_type": "code",
   "execution_count": 35,
   "metadata": {},
   "outputs": [],
   "source": [
    "fig.savefig(\n",
    "    Path(\n",
    "        'figures/fig2.png'\n",
    "    ),\n",
    "    dpi=600,\n",
    "    bbox_inches='tight'\n",
    ")"
   ]
  }
 ],
 "metadata": {
  "kernelspec": {
   "display_name": "ar6_cdr_assessment",
   "language": "python",
   "name": "python3"
  },
  "language_info": {
   "codemirror_mode": {
    "name": "ipython",
    "version": 3
   },
   "file_extension": ".py",
   "mimetype": "text/x-python",
   "name": "python",
   "nbconvert_exporter": "python",
   "pygments_lexer": "ipython3",
   "version": "3.10.13"
  }
 },
 "nbformat": 4,
 "nbformat_minor": 2
}
