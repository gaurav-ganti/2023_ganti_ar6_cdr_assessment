{
 "cells": [
  {
   "cell_type": "code",
   "execution_count": 1,
   "metadata": {},
   "outputs": [
    {
     "data": {
      "application/javascript": "if (typeof IPython !== 'undefined') { IPython.OutputArea.prototype._should_scroll = function(lines){ return false; }}",
      "text/plain": [
       "<IPython.core.display.Javascript object>"
      ]
     },
     "metadata": {},
     "output_type": "display_data"
    }
   ],
   "source": [
    "import pyam\n",
    "import pandas as pd\n",
    "\n",
    "from pathlib import Path"
   ]
  },
  {
   "cell_type": "code",
   "execution_count": 2,
   "metadata": {},
   "outputs": [
    {
     "data": {
      "application/javascript": "\n            setTimeout(function() {\n                var nbb_cell_id = 2;\n                var nbb_unformatted_code = \"%load_ext nb_black\";\n                var nbb_formatted_code = \"%load_ext nb_black\";\n                var nbb_cells = Jupyter.notebook.get_cells();\n                for (var i = 0; i < nbb_cells.length; ++i) {\n                    if (nbb_cells[i].input_prompt_number == nbb_cell_id) {\n                        if (nbb_cells[i].get_text() == nbb_unformatted_code) {\n                             nbb_cells[i].set_text(nbb_formatted_code);\n                        }\n                        break;\n                    }\n                }\n            }, 500);\n            ",
      "text/plain": [
       "<IPython.core.display.Javascript object>"
      ]
     },
     "metadata": {},
     "output_type": "display_data"
    }
   ],
   "source": [
    "%load_ext nb_black"
   ]
  },
  {
   "cell_type": "markdown",
   "metadata": {},
   "source": [
    "Step 1: Read in the necessary data"
   ]
  },
  {
   "cell_type": "code",
   "execution_count": 3,
   "metadata": {},
   "outputs": [
    {
     "name": "stderr",
     "output_type": "stream",
     "text": [
      "pyam - INFO: Running in a notebook, setting up a basic logging at level INFO\n",
      "pyam.core - INFO: Reading file ../data/101_data.xlsx\n",
      "pyam.core - INFO: Reading meta indicators\n"
     ]
    },
    {
     "data": {
      "application/javascript": "\n            setTimeout(function() {\n                var nbb_cell_id = 3;\n                var nbb_unformatted_code = \"df = pyam.IamDataFrame(\\n    Path(\\n        '../data/101_data.xlsx'\\n    )\\n)\";\n                var nbb_formatted_code = \"df = pyam.IamDataFrame(Path(\\\"../data/101_data.xlsx\\\"))\";\n                var nbb_cells = Jupyter.notebook.get_cells();\n                for (var i = 0; i < nbb_cells.length; ++i) {\n                    if (nbb_cells[i].input_prompt_number == nbb_cell_id) {\n                        if (nbb_cells[i].get_text() == nbb_unformatted_code) {\n                             nbb_cells[i].set_text(nbb_formatted_code);\n                        }\n                        break;\n                    }\n                }\n            }, 500);\n            ",
      "text/plain": [
       "<IPython.core.display.Javascript object>"
      ]
     },
     "metadata": {},
     "output_type": "display_data"
    }
   ],
   "source": [
    "df = pyam.IamDataFrame(\n",
    "    Path(\n",
    "        '../data/101_data.xlsx'\n",
    "    )\n",
    ")"
   ]
  },
  {
   "cell_type": "markdown",
   "metadata": {},
   "source": [
    "Step 2: Filter out for the necessary variables that we will use."
   ]
  },
  {
   "cell_type": "code",
   "execution_count": 4,
   "metadata": {},
   "outputs": [
    {
     "data": {
      "text/plain": [
       "['AR6 Reanalysis|OSCARv3.2|Carbon Removal',\n",
       " 'AR6 Reanalysis|OSCARv3.2|Carbon Removal|Land',\n",
       " 'AR6 Reanalysis|OSCARv3.2|Carbon Removal|Land|Direct',\n",
       " 'AR6 Reanalysis|OSCARv3.2|Carbon Removal|Land|Indirect',\n",
       " 'AR6 Reanalysis|OSCARv3.2|Carbon Removal|Non-Land',\n",
       " 'AR6 Reanalysis|OSCARv3.2|Carbon Removal|Total',\n",
       " 'AR6 Reanalysis|OSCARv3.2|Emissions|CO2',\n",
       " 'AR6 Reanalysis|OSCARv3.2|Emissions|CO2|AFOLU',\n",
       " 'AR6 Reanalysis|OSCARv3.2|Emissions|CO2|AFOLU|Direct',\n",
       " 'AR6 Reanalysis|OSCARv3.2|Emissions|CO2|AFOLU|Indirect',\n",
       " 'AR6 Reanalysis|OSCARv3.2|Emissions|CO2|Direct Only',\n",
       " 'AR6 Reanalysis|OSCARv3.2|Emissions|CO2|Gross',\n",
       " 'AR6 Reanalysis|OSCARv3.2|Emissions|Kyoto Gases',\n",
       " 'AR6 Reanalysis|OSCARv3.2|Emissions|Kyoto Gases|Direct Only',\n",
       " 'AR6 Reanalysis|OSCARv3.2|Emissions|NonCO2|Direct Only']"
      ]
     },
     "execution_count": 4,
     "metadata": {},
     "output_type": "execute_result"
    },
    {
     "data": {
      "application/javascript": "\n            setTimeout(function() {\n                var nbb_cell_id = 4;\n                var nbb_unformatted_code = \"df.variable\";\n                var nbb_formatted_code = \"df.variable\";\n                var nbb_cells = Jupyter.notebook.get_cells();\n                for (var i = 0; i < nbb_cells.length; ++i) {\n                    if (nbb_cells[i].input_prompt_number == nbb_cell_id) {\n                        if (nbb_cells[i].get_text() == nbb_unformatted_code) {\n                             nbb_cells[i].set_text(nbb_formatted_code);\n                        }\n                        break;\n                    }\n                }\n            }, 500);\n            ",
      "text/plain": [
       "<IPython.core.display.Javascript object>"
      ]
     },
     "metadata": {},
     "output_type": "display_data"
    }
   ],
   "source": [
    "df.variable"
   ]
  },
  {
   "cell_type": "code",
   "execution_count": 5,
   "metadata": {},
   "outputs": [
    {
     "data": {
      "application/javascript": "\n            setTimeout(function() {\n                var nbb_cell_id = 5;\n                var nbb_unformatted_code = \"df_vars = (\\n    df\\n    .filter(\\n        region='World',\\n        variable=[\\n            'AR6 Reanalysis|OSCARv3.2|Emissions|Kyoto Gases|Direct Only',\\n            'AR6 Reanalysis|OSCARv3.2|Emissions|CO2|Gross',\\n            'AR6 Reanalysis|OSCARv3.2|Emissions|NonCO2|Direct Only',\\n            'AR6 Reanalysis|OSCARv3.2|Carbon Removal|Total'\\n        ]\\n    )\\n)\";\n                var nbb_formatted_code = \"df_vars = df.filter(\\n    region=\\\"World\\\",\\n    variable=[\\n        \\\"AR6 Reanalysis|OSCARv3.2|Emissions|Kyoto Gases|Direct Only\\\",\\n        \\\"AR6 Reanalysis|OSCARv3.2|Emissions|CO2|Gross\\\",\\n        \\\"AR6 Reanalysis|OSCARv3.2|Emissions|NonCO2|Direct Only\\\",\\n        \\\"AR6 Reanalysis|OSCARv3.2|Carbon Removal|Total\\\",\\n    ],\\n)\";\n                var nbb_cells = Jupyter.notebook.get_cells();\n                for (var i = 0; i < nbb_cells.length; ++i) {\n                    if (nbb_cells[i].input_prompt_number == nbb_cell_id) {\n                        if (nbb_cells[i].get_text() == nbb_unformatted_code) {\n                             nbb_cells[i].set_text(nbb_formatted_code);\n                        }\n                        break;\n                    }\n                }\n            }, 500);\n            ",
      "text/plain": [
       "<IPython.core.display.Javascript object>"
      ]
     },
     "metadata": {},
     "output_type": "display_data"
    }
   ],
   "source": [
    "df_vars = (\n",
    "    df\n",
    "    .filter(\n",
    "        region='World',\n",
    "        variable=[\n",
    "            'AR6 Reanalysis|OSCARv3.2|Emissions|Kyoto Gases|Direct Only',\n",
    "            'AR6 Reanalysis|OSCARv3.2|Emissions|CO2|Gross',\n",
    "            'AR6 Reanalysis|OSCARv3.2|Emissions|NonCO2|Direct Only',\n",
    "            'AR6 Reanalysis|OSCARv3.2|Carbon Removal|Total'\n",
    "        ]\n",
    "    )\n",
    ")"
   ]
  },
  {
   "cell_type": "code",
   "execution_count": 6,
   "metadata": {},
   "outputs": [
    {
     "data": {
      "application/javascript": "\n            setTimeout(function() {\n                var nbb_cell_id = 6;\n                var nbb_unformatted_code = \"df_vars.convert_unit(\\n    current='Gt CO2-equiv/yr',\\n    to='Gt CO2/yr',\\n    factor=1,\\n    inplace=True\\n)\";\n                var nbb_formatted_code = \"df_vars.convert_unit(current=\\\"Gt CO2-equiv/yr\\\", to=\\\"Gt CO2/yr\\\", factor=1, inplace=True)\";\n                var nbb_cells = Jupyter.notebook.get_cells();\n                for (var i = 0; i < nbb_cells.length; ++i) {\n                    if (nbb_cells[i].input_prompt_number == nbb_cell_id) {\n                        if (nbb_cells[i].get_text() == nbb_unformatted_code) {\n                             nbb_cells[i].set_text(nbb_formatted_code);\n                        }\n                        break;\n                    }\n                }\n            }, 500);\n            ",
      "text/plain": [
       "<IPython.core.display.Javascript object>"
      ]
     },
     "metadata": {},
     "output_type": "display_data"
    }
   ],
   "source": [
    "df_vars.convert_unit(\n",
    "    current='Gt CO2-equiv/yr',\n",
    "    to='Gt CO2/yr',\n",
    "    factor=1,\n",
    "    inplace=True\n",
    ")"
   ]
  },
  {
   "cell_type": "markdown",
   "metadata": {},
   "source": [
    "Step 3: Aggregate the gross emissions"
   ]
  },
  {
   "cell_type": "code",
   "execution_count": 7,
   "metadata": {},
   "outputs": [
    {
     "data": {
      "application/javascript": "\n            setTimeout(function() {\n                var nbb_cell_id = 7;\n                var nbb_unformatted_code = \"df_vars.aggregate(\\n    variable='AR6 Reanalysis|OSCARv3.2|Emissions|Gross',\\n    components=[\\n        'AR6 Reanalysis|OSCARv3.2|Emissions|CO2|Gross',\\n        'AR6 Reanalysis|OSCARv3.2|Emissions|NonCO2|Direct Only'\\n    ],\\n    append=True\\n)\";\n                var nbb_formatted_code = \"df_vars.aggregate(\\n    variable=\\\"AR6 Reanalysis|OSCARv3.2|Emissions|Gross\\\",\\n    components=[\\n        \\\"AR6 Reanalysis|OSCARv3.2|Emissions|CO2|Gross\\\",\\n        \\\"AR6 Reanalysis|OSCARv3.2|Emissions|NonCO2|Direct Only\\\",\\n    ],\\n    append=True,\\n)\";\n                var nbb_cells = Jupyter.notebook.get_cells();\n                for (var i = 0; i < nbb_cells.length; ++i) {\n                    if (nbb_cells[i].input_prompt_number == nbb_cell_id) {\n                        if (nbb_cells[i].get_text() == nbb_unformatted_code) {\n                             nbb_cells[i].set_text(nbb_formatted_code);\n                        }\n                        break;\n                    }\n                }\n            }, 500);\n            ",
      "text/plain": [
       "<IPython.core.display.Javascript object>"
      ]
     },
     "metadata": {},
     "output_type": "display_data"
    }
   ],
   "source": [
    "df_vars.aggregate(\n",
    "    variable='AR6 Reanalysis|OSCARv3.2|Emissions|Gross',\n",
    "    components=[\n",
    "        'AR6 Reanalysis|OSCARv3.2|Emissions|CO2|Gross',\n",
    "        'AR6 Reanalysis|OSCARv3.2|Emissions|NonCO2|Direct Only'\n",
    "    ],\n",
    "    append=True\n",
    ")"
   ]
  },
  {
   "cell_type": "markdown",
   "metadata": {},
   "source": [
    "Step 4: Split the dataframe into two parts:\n",
    "* The net GHG emissions that we will use to estimate the total mitigation effort\n",
    "* The two component mitigation options we will use for proportions."
   ]
  },
  {
   "cell_type": "code",
   "execution_count": 8,
   "metadata": {},
   "outputs": [
    {
     "data": {
      "application/javascript": "\n            setTimeout(function() {\n                var nbb_cell_id = 8;\n                var nbb_unformatted_code = \"df_total_mitigation = (\\n    df_vars\\n    .filter(variable='AR6 Reanalysis|OSCARv3.2|Emissions|Kyoto Gases|Direct Only')\\n    .timeseries()\\n)\";\n                var nbb_formatted_code = \"df_total_mitigation = df_vars.filter(\\n    variable=\\\"AR6 Reanalysis|OSCARv3.2|Emissions|Kyoto Gases|Direct Only\\\"\\n).timeseries()\";\n                var nbb_cells = Jupyter.notebook.get_cells();\n                for (var i = 0; i < nbb_cells.length; ++i) {\n                    if (nbb_cells[i].input_prompt_number == nbb_cell_id) {\n                        if (nbb_cells[i].get_text() == nbb_unformatted_code) {\n                             nbb_cells[i].set_text(nbb_formatted_code);\n                        }\n                        break;\n                    }\n                }\n            }, 500);\n            ",
      "text/plain": [
       "<IPython.core.display.Javascript object>"
      ]
     },
     "metadata": {},
     "output_type": "display_data"
    }
   ],
   "source": [
    "df_total_mitigation = (\n",
    "    df_vars\n",
    "    .filter(variable='AR6 Reanalysis|OSCARv3.2|Emissions|Kyoto Gases|Direct Only')\n",
    "    .timeseries()\n",
    ")"
   ]
  },
  {
   "cell_type": "code",
   "execution_count": 9,
   "metadata": {},
   "outputs": [
    {
     "data": {
      "application/javascript": "\n            setTimeout(function() {\n                var nbb_cell_id = 9;\n                var nbb_unformatted_code = \"df_components_mitigation = (\\n    df_vars\\n    .filter(\\n        variable=[\\n            'AR6 Reanalysis|OSCARv3.2|Emissions|Gross',\\n            'AR6 Reanalysis|OSCARv3.2|Carbon Removal|Total'\\n        ]\\n    )\\n    .offset(year=2020)\\n    .timeseries()\\n)\";\n                var nbb_formatted_code = \"df_components_mitigation = (\\n    df_vars.filter(\\n        variable=[\\n            \\\"AR6 Reanalysis|OSCARv3.2|Emissions|Gross\\\",\\n            \\\"AR6 Reanalysis|OSCARv3.2|Carbon Removal|Total\\\",\\n        ]\\n    )\\n    .offset(year=2020)\\n    .timeseries()\\n)\";\n                var nbb_cells = Jupyter.notebook.get_cells();\n                for (var i = 0; i < nbb_cells.length; ++i) {\n                    if (nbb_cells[i].input_prompt_number == nbb_cell_id) {\n                        if (nbb_cells[i].get_text() == nbb_unformatted_code) {\n                             nbb_cells[i].set_text(nbb_formatted_code);\n                        }\n                        break;\n                    }\n                }\n            }, 500);\n            ",
      "text/plain": [
       "<IPython.core.display.Javascript object>"
      ]
     },
     "metadata": {},
     "output_type": "display_data"
    }
   ],
   "source": [
    "df_components_mitigation = (\n",
    "    df_vars\n",
    "    .filter(\n",
    "        variable=[\n",
    "            'AR6 Reanalysis|OSCARv3.2|Emissions|Gross',\n",
    "            'AR6 Reanalysis|OSCARv3.2|Carbon Removal|Total'\n",
    "        ]\n",
    "    )\n",
    "    .offset(year=2020)\n",
    "    .timeseries()\n",
    ")"
   ]
  },
  {
   "cell_type": "markdown",
   "metadata": {},
   "source": [
    "Step 5: Pull out the net zero CO2 years"
   ]
  },
  {
   "cell_type": "code",
   "execution_count": 10,
   "metadata": {},
   "outputs": [
    {
     "data": {
      "application/javascript": "\n            setTimeout(function() {\n                var nbb_cell_id = 10;\n                var nbb_unformatted_code = \"netzero_years = df_vars.meta.loc[:, 'Year of netzero CO2 emissions (Harm-Infilled) table']\";\n                var nbb_formatted_code = \"netzero_years = df_vars.meta.loc[\\n    :, \\\"Year of netzero CO2 emissions (Harm-Infilled) table\\\"\\n]\";\n                var nbb_cells = Jupyter.notebook.get_cells();\n                for (var i = 0; i < nbb_cells.length; ++i) {\n                    if (nbb_cells[i].input_prompt_number == nbb_cell_id) {\n                        if (nbb_cells[i].get_text() == nbb_unformatted_code) {\n                             nbb_cells[i].set_text(nbb_formatted_code);\n                        }\n                        break;\n                    }\n                }\n            }, 500);\n            ",
      "text/plain": [
       "<IPython.core.display.Javascript object>"
      ]
     },
     "metadata": {},
     "output_type": "display_data"
    }
   ],
   "source": [
    "netzero_years = df_vars.meta.loc[:, 'Year of netzero CO2 emissions (Harm-Infilled) table']"
   ]
  },
  {
   "cell_type": "code",
   "execution_count": 11,
   "metadata": {},
   "outputs": [
    {
     "data": {
      "application/javascript": "\n            setTimeout(function() {\n                var nbb_cell_id = 11;\n                var nbb_unformatted_code = \"netzero_years.fillna(2100, inplace=True)\";\n                var nbb_formatted_code = \"netzero_years.fillna(2100, inplace=True)\";\n                var nbb_cells = Jupyter.notebook.get_cells();\n                for (var i = 0; i < nbb_cells.length; ++i) {\n                    if (nbb_cells[i].input_prompt_number == nbb_cell_id) {\n                        if (nbb_cells[i].get_text() == nbb_unformatted_code) {\n                             nbb_cells[i].set_text(nbb_formatted_code);\n                        }\n                        break;\n                    }\n                }\n            }, 500);\n            ",
      "text/plain": [
       "<IPython.core.display.Javascript object>"
      ]
     },
     "metadata": {},
     "output_type": "display_data"
    }
   ],
   "source": [
    "netzero_years.fillna(2100, inplace=True)"
   ]
  },
  {
   "cell_type": "markdown",
   "metadata": {},
   "source": [
    "Step 6: First, let us get the 2020 and net zero CO2 values of the net GHG emissions."
   ]
  },
  {
   "cell_type": "code",
   "execution_count": 12,
   "metadata": {},
   "outputs": [
    {
     "data": {
      "application/javascript": "\n            setTimeout(function() {\n                var nbb_cell_id = 12;\n                var nbb_unformatted_code = \"net_ghg_2020 = (\\n    pd.DataFrame(df_total_mitigation[2020])\\n    .droplevel(['region', 'variable', 'unit'])\\n    .round(0)\\n)\";\n                var nbb_formatted_code = \"net_ghg_2020 = (\\n    pd.DataFrame(df_total_mitigation[2020])\\n    .droplevel([\\\"region\\\", \\\"variable\\\", \\\"unit\\\"])\\n    .round(0)\\n)\";\n                var nbb_cells = Jupyter.notebook.get_cells();\n                for (var i = 0; i < nbb_cells.length; ++i) {\n                    if (nbb_cells[i].input_prompt_number == nbb_cell_id) {\n                        if (nbb_cells[i].get_text() == nbb_unformatted_code) {\n                             nbb_cells[i].set_text(nbb_formatted_code);\n                        }\n                        break;\n                    }\n                }\n            }, 500);\n            ",
      "text/plain": [
       "<IPython.core.display.Javascript object>"
      ]
     },
     "metadata": {},
     "output_type": "display_data"
    }
   ],
   "source": [
    "net_ghg_2020 = (\n",
    "    pd.DataFrame(df_total_mitigation[2020])\n",
    "    .droplevel(['region', 'variable', 'unit'])\n",
    "    .round(0)\n",
    ")"
   ]
  },
  {
   "cell_type": "code",
   "execution_count": 13,
   "metadata": {},
   "outputs": [
    {
     "data": {
      "application/javascript": "\n            setTimeout(function() {\n                var nbb_cell_id = 13;\n                var nbb_unformatted_code = \"net_ghg_netzero = (\\n    pd.DataFrame(\\n        df_total_mitigation.apply(\\n            lambda x: x[netzero_years.loc[x.name[0:2]]],\\n            axis=1\\n        )\\n    )\\n    .droplevel(['region', 'variable', 'unit'])\\n    .round(0)\\n    .rename(\\n        columns={0:'netzero'}\\n    )\\n)\";\n                var nbb_formatted_code = \"net_ghg_netzero = (\\n    pd.DataFrame(\\n        df_total_mitigation.apply(lambda x: x[netzero_years.loc[x.name[0:2]]], axis=1)\\n    )\\n    .droplevel([\\\"region\\\", \\\"variable\\\", \\\"unit\\\"])\\n    .round(0)\\n    .rename(columns={0: \\\"netzero\\\"})\\n)\";\n                var nbb_cells = Jupyter.notebook.get_cells();\n                for (var i = 0; i < nbb_cells.length; ++i) {\n                    if (nbb_cells[i].input_prompt_number == nbb_cell_id) {\n                        if (nbb_cells[i].get_text() == nbb_unformatted_code) {\n                             nbb_cells[i].set_text(nbb_formatted_code);\n                        }\n                        break;\n                    }\n                }\n            }, 500);\n            ",
      "text/plain": [
       "<IPython.core.display.Javascript object>"
      ]
     },
     "metadata": {},
     "output_type": "display_data"
    }
   ],
   "source": [
    "net_ghg_netzero = (\n",
    "    pd.DataFrame(\n",
    "        df_total_mitigation.apply(\n",
    "            lambda x: x[netzero_years.loc[x.name[0:2]]],\n",
    "            axis=1\n",
    "        )\n",
    "    )\n",
    "    .droplevel(['region', 'variable', 'unit'])\n",
    "    .round(0)\n",
    "    .rename(\n",
    "        columns={0:'netzero'}\n",
    "    )\n",
    ")"
   ]
  },
  {
   "cell_type": "code",
   "execution_count": 14,
   "metadata": {},
   "outputs": [
    {
     "data": {
      "application/javascript": "\n            setTimeout(function() {\n                var nbb_cell_id = 14;\n                var nbb_unformatted_code = \"net_ghg_compiled = pd.concat([net_ghg_2020, net_ghg_netzero], axis=1)\";\n                var nbb_formatted_code = \"net_ghg_compiled = pd.concat([net_ghg_2020, net_ghg_netzero], axis=1)\";\n                var nbb_cells = Jupyter.notebook.get_cells();\n                for (var i = 0; i < nbb_cells.length; ++i) {\n                    if (nbb_cells[i].input_prompt_number == nbb_cell_id) {\n                        if (nbb_cells[i].get_text() == nbb_unformatted_code) {\n                             nbb_cells[i].set_text(nbb_formatted_code);\n                        }\n                        break;\n                    }\n                }\n            }, 500);\n            ",
      "text/plain": [
       "<IPython.core.display.Javascript object>"
      ]
     },
     "metadata": {},
     "output_type": "display_data"
    }
   ],
   "source": [
    "net_ghg_compiled = pd.concat([net_ghg_2020, net_ghg_netzero], axis=1)"
   ]
  },
  {
   "cell_type": "code",
   "execution_count": 15,
   "metadata": {},
   "outputs": [
    {
     "data": {
      "application/javascript": "\n            setTimeout(function() {\n                var nbb_cell_id = 15;\n                var nbb_unformatted_code = \"net_ghg_compiled.loc[:,'Category'] = df_vars.meta.loc[:, 'Category']\";\n                var nbb_formatted_code = \"net_ghg_compiled.loc[:, \\\"Category\\\"] = df_vars.meta.loc[:, \\\"Category\\\"]\";\n                var nbb_cells = Jupyter.notebook.get_cells();\n                for (var i = 0; i < nbb_cells.length; ++i) {\n                    if (nbb_cells[i].input_prompt_number == nbb_cell_id) {\n                        if (nbb_cells[i].get_text() == nbb_unformatted_code) {\n                             nbb_cells[i].set_text(nbb_formatted_code);\n                        }\n                        break;\n                    }\n                }\n            }, 500);\n            ",
      "text/plain": [
       "<IPython.core.display.Javascript object>"
      ]
     },
     "metadata": {},
     "output_type": "display_data"
    }
   ],
   "source": [
    "net_ghg_compiled.loc[:,'Category'] = df_vars.meta.loc[:, 'Category']"
   ]
  },
  {
   "cell_type": "code",
   "execution_count": 16,
   "metadata": {},
   "outputs": [
    {
     "data": {
      "text/html": [
       "<div>\n",
       "<style scoped>\n",
       "    .dataframe tbody tr th:only-of-type {\n",
       "        vertical-align: middle;\n",
       "    }\n",
       "\n",
       "    .dataframe tbody tr th {\n",
       "        vertical-align: top;\n",
       "    }\n",
       "\n",
       "    .dataframe thead th {\n",
       "        text-align: right;\n",
       "    }\n",
       "</style>\n",
       "<table border=\"1\" class=\"dataframe\">\n",
       "  <thead>\n",
       "    <tr style=\"text-align: right;\">\n",
       "      <th></th>\n",
       "      <th></th>\n",
       "      <th>2020</th>\n",
       "      <th>netzero</th>\n",
       "      <th>Category</th>\n",
       "    </tr>\n",
       "    <tr>\n",
       "      <th>model</th>\n",
       "      <th>scenario</th>\n",
       "      <th></th>\n",
       "      <th></th>\n",
       "      <th></th>\n",
       "    </tr>\n",
       "  </thead>\n",
       "  <tbody>\n",
       "    <tr>\n",
       "      <th rowspan=\"2\" valign=\"top\">AIM/CGE 2.0</th>\n",
       "      <th>SSP1-26</th>\n",
       "      <td>51.0</td>\n",
       "      <td>3.0</td>\n",
       "      <td>C3</td>\n",
       "    </tr>\n",
       "    <tr>\n",
       "      <th>SSP4-26</th>\n",
       "      <td>58.0</td>\n",
       "      <td>7.0</td>\n",
       "      <td>C3</td>\n",
       "    </tr>\n",
       "    <tr>\n",
       "      <th rowspan=\"3\" valign=\"top\">AIM/CGE 2.1</th>\n",
       "      <th>CD-LINKS_NPi2020_1000</th>\n",
       "      <td>53.0</td>\n",
       "      <td>6.0</td>\n",
       "      <td>C3</td>\n",
       "    </tr>\n",
       "    <tr>\n",
       "      <th>CD-LINKS_NPi2020_400</th>\n",
       "      <td>53.0</td>\n",
       "      <td>-3.0</td>\n",
       "      <td>C1</td>\n",
       "    </tr>\n",
       "    <tr>\n",
       "      <th>CO_Bridge</th>\n",
       "      <td>55.0</td>\n",
       "      <td>7.0</td>\n",
       "      <td>C3</td>\n",
       "    </tr>\n",
       "    <tr>\n",
       "      <th>...</th>\n",
       "      <th>...</th>\n",
       "      <td>...</td>\n",
       "      <td>...</td>\n",
       "      <td>...</td>\n",
       "    </tr>\n",
       "    <tr>\n",
       "      <th rowspan=\"5\" valign=\"top\">WITCH-GLOBIOM 4.4</th>\n",
       "      <th>CD-LINKS_INDC2030i_1600</th>\n",
       "      <td>54.0</td>\n",
       "      <td>5.0</td>\n",
       "      <td>C3</td>\n",
       "    </tr>\n",
       "    <tr>\n",
       "      <th>CD-LINKS_NDC2030i_1000</th>\n",
       "      <td>54.0</td>\n",
       "      <td>4.0</td>\n",
       "      <td>C2</td>\n",
       "    </tr>\n",
       "    <tr>\n",
       "      <th>CD-LINKS_NPi2020_1000</th>\n",
       "      <td>56.0</td>\n",
       "      <td>4.0</td>\n",
       "      <td>C1</td>\n",
       "    </tr>\n",
       "    <tr>\n",
       "      <th>CD-LINKS_NPi2020_1600</th>\n",
       "      <td>56.0</td>\n",
       "      <td>5.0</td>\n",
       "      <td>C3</td>\n",
       "    </tr>\n",
       "    <tr>\n",
       "      <th>CD-LINKS_NPi2020_400</th>\n",
       "      <td>56.0</td>\n",
       "      <td>4.0</td>\n",
       "      <td>C1</td>\n",
       "    </tr>\n",
       "  </tbody>\n",
       "</table>\n",
       "<p>401 rows × 3 columns</p>\n",
       "</div>"
      ],
      "text/plain": [
       "                                           2020  netzero Category\n",
       "model             scenario                                       \n",
       "AIM/CGE 2.0       SSP1-26                  51.0      3.0       C3\n",
       "                  SSP4-26                  58.0      7.0       C3\n",
       "AIM/CGE 2.1       CD-LINKS_NPi2020_1000    53.0      6.0       C3\n",
       "                  CD-LINKS_NPi2020_400     53.0     -3.0       C1\n",
       "                  CO_Bridge                55.0      7.0       C3\n",
       "...                                         ...      ...      ...\n",
       "WITCH-GLOBIOM 4.4 CD-LINKS_INDC2030i_1600  54.0      5.0       C3\n",
       "                  CD-LINKS_NDC2030i_1000   54.0      4.0       C2\n",
       "                  CD-LINKS_NPi2020_1000    56.0      4.0       C1\n",
       "                  CD-LINKS_NPi2020_1600    56.0      5.0       C3\n",
       "                  CD-LINKS_NPi2020_400     56.0      4.0       C1\n",
       "\n",
       "[401 rows x 3 columns]"
      ]
     },
     "execution_count": 16,
     "metadata": {},
     "output_type": "execute_result"
    },
    {
     "data": {
      "application/javascript": "\n            setTimeout(function() {\n                var nbb_cell_id = 16;\n                var nbb_unformatted_code = \"net_ghg_compiled\";\n                var nbb_formatted_code = \"net_ghg_compiled\";\n                var nbb_cells = Jupyter.notebook.get_cells();\n                for (var i = 0; i < nbb_cells.length; ++i) {\n                    if (nbb_cells[i].input_prompt_number == nbb_cell_id) {\n                        if (nbb_cells[i].get_text() == nbb_unformatted_code) {\n                             nbb_cells[i].set_text(nbb_formatted_code);\n                        }\n                        break;\n                    }\n                }\n            }, 500);\n            ",
      "text/plain": [
       "<IPython.core.display.Javascript object>"
      ]
     },
     "metadata": {},
     "output_type": "display_data"
    }
   ],
   "source": [
    "net_ghg_compiled"
   ]
  },
  {
   "cell_type": "markdown",
   "metadata": {},
   "source": [
    "Step 7: Compile a dataframe with the difference between 2020 and net zero for the two mitigation component variables."
   ]
  },
  {
   "cell_type": "code",
   "execution_count": 17,
   "metadata": {},
   "outputs": [
    {
     "data": {
      "application/javascript": "\n            setTimeout(function() {\n                var nbb_cell_id = 17;\n                var nbb_unformatted_code = \"components_compiled = (\\n    df_components_mitigation.apply(\\n        lambda x: x[netzero_years.loc[x.name[0:2]]],\\n        axis=1\\n    )\\n    .droplevel(['region', 'unit'])\\n    .unstack(level=-1)\\n    .rename(\\n        columns={\\n            'AR6 Reanalysis|OSCARv3.2|Emissions|Gross':'reduce',\\n            'AR6 Reanalysis|OSCARv3.2|Carbon Removal|Total':'remove'\\n        }\\n    )\\n)\";\n                var nbb_formatted_code = \"components_compiled = (\\n    df_components_mitigation.apply(lambda x: x[netzero_years.loc[x.name[0:2]]], axis=1)\\n    .droplevel([\\\"region\\\", \\\"unit\\\"])\\n    .unstack(level=-1)\\n    .rename(\\n        columns={\\n            \\\"AR6 Reanalysis|OSCARv3.2|Emissions|Gross\\\": \\\"reduce\\\",\\n            \\\"AR6 Reanalysis|OSCARv3.2|Carbon Removal|Total\\\": \\\"remove\\\",\\n        }\\n    )\\n)\";\n                var nbb_cells = Jupyter.notebook.get_cells();\n                for (var i = 0; i < nbb_cells.length; ++i) {\n                    if (nbb_cells[i].input_prompt_number == nbb_cell_id) {\n                        if (nbb_cells[i].get_text() == nbb_unformatted_code) {\n                             nbb_cells[i].set_text(nbb_formatted_code);\n                        }\n                        break;\n                    }\n                }\n            }, 500);\n            ",
      "text/plain": [
       "<IPython.core.display.Javascript object>"
      ]
     },
     "metadata": {},
     "output_type": "display_data"
    }
   ],
   "source": [
    "components_compiled = (\n",
    "    df_components_mitigation.apply(\n",
    "        lambda x: x[netzero_years.loc[x.name[0:2]]],\n",
    "        axis=1\n",
    "    )\n",
    "    .droplevel(['region', 'unit'])\n",
    "    .unstack(level=-1)\n",
    "    .rename(\n",
    "        columns={\n",
    "            'AR6 Reanalysis|OSCARv3.2|Emissions|Gross':'reduce',\n",
    "            'AR6 Reanalysis|OSCARv3.2|Carbon Removal|Total':'remove'\n",
    "        }\n",
    "    )\n",
    ")"
   ]
  },
  {
   "cell_type": "code",
   "execution_count": 18,
   "metadata": {},
   "outputs": [
    {
     "data": {
      "application/javascript": "\n            setTimeout(function() {\n                var nbb_cell_id = 18;\n                var nbb_unformatted_code = \"components_compiled.loc[:, 'remove'] *= -1\";\n                var nbb_formatted_code = \"components_compiled.loc[:, \\\"remove\\\"] *= -1\";\n                var nbb_cells = Jupyter.notebook.get_cells();\n                for (var i = 0; i < nbb_cells.length; ++i) {\n                    if (nbb_cells[i].input_prompt_number == nbb_cell_id) {\n                        if (nbb_cells[i].get_text() == nbb_unformatted_code) {\n                             nbb_cells[i].set_text(nbb_formatted_code);\n                        }\n                        break;\n                    }\n                }\n            }, 500);\n            ",
      "text/plain": [
       "<IPython.core.display.Javascript object>"
      ]
     },
     "metadata": {},
     "output_type": "display_data"
    }
   ],
   "source": [
    "components_compiled.loc[:, 'remove'] *= -1"
   ]
  },
  {
   "cell_type": "code",
   "execution_count": 19,
   "metadata": {},
   "outputs": [
    {
     "data": {
      "text/html": [
       "<div>\n",
       "<style scoped>\n",
       "    .dataframe tbody tr th:only-of-type {\n",
       "        vertical-align: middle;\n",
       "    }\n",
       "\n",
       "    .dataframe tbody tr th {\n",
       "        vertical-align: top;\n",
       "    }\n",
       "\n",
       "    .dataframe thead th {\n",
       "        text-align: right;\n",
       "    }\n",
       "</style>\n",
       "<table border=\"1\" class=\"dataframe\">\n",
       "  <thead>\n",
       "    <tr style=\"text-align: right;\">\n",
       "      <th></th>\n",
       "      <th>variable</th>\n",
       "      <th>remove</th>\n",
       "      <th>reduce</th>\n",
       "    </tr>\n",
       "    <tr>\n",
       "      <th>model</th>\n",
       "      <th>scenario</th>\n",
       "      <th></th>\n",
       "      <th></th>\n",
       "    </tr>\n",
       "  </thead>\n",
       "  <tbody>\n",
       "    <tr>\n",
       "      <th rowspan=\"2\" valign=\"top\">AIM/CGE 2.0</th>\n",
       "      <th>SSP1-26</th>\n",
       "      <td>-7.675157</td>\n",
       "      <td>-39.924308</td>\n",
       "    </tr>\n",
       "    <tr>\n",
       "      <th>SSP4-26</th>\n",
       "      <td>-7.395017</td>\n",
       "      <td>-43.153110</td>\n",
       "    </tr>\n",
       "    <tr>\n",
       "      <th rowspan=\"3\" valign=\"top\">AIM/CGE 2.1</th>\n",
       "      <th>CD-LINKS_NPi2020_1000</th>\n",
       "      <td>-12.240858</td>\n",
       "      <td>-35.431404</td>\n",
       "    </tr>\n",
       "    <tr>\n",
       "      <th>CD-LINKS_NPi2020_400</th>\n",
       "      <td>-16.143932</td>\n",
       "      <td>-40.820973</td>\n",
       "    </tr>\n",
       "    <tr>\n",
       "      <th>CO_Bridge</th>\n",
       "      <td>-7.373163</td>\n",
       "      <td>-40.490306</td>\n",
       "    </tr>\n",
       "    <tr>\n",
       "      <th>...</th>\n",
       "      <th>...</th>\n",
       "      <td>...</td>\n",
       "      <td>...</td>\n",
       "    </tr>\n",
       "    <tr>\n",
       "      <th rowspan=\"5\" valign=\"top\">WITCH-GLOBIOM 4.4</th>\n",
       "      <th>CD-LINKS_INDC2030i_1600</th>\n",
       "      <td>-12.900026</td>\n",
       "      <td>-36.657457</td>\n",
       "    </tr>\n",
       "    <tr>\n",
       "      <th>CD-LINKS_NDC2030i_1000</th>\n",
       "      <td>-9.897303</td>\n",
       "      <td>-40.806546</td>\n",
       "    </tr>\n",
       "    <tr>\n",
       "      <th>CD-LINKS_NPi2020_1000</th>\n",
       "      <td>-9.834387</td>\n",
       "      <td>-42.161808</td>\n",
       "    </tr>\n",
       "    <tr>\n",
       "      <th>CD-LINKS_NPi2020_1600</th>\n",
       "      <td>-10.857048</td>\n",
       "      <td>-39.866954</td>\n",
       "    </tr>\n",
       "    <tr>\n",
       "      <th>CD-LINKS_NPi2020_400</th>\n",
       "      <td>-8.520957</td>\n",
       "      <td>-44.066332</td>\n",
       "    </tr>\n",
       "  </tbody>\n",
       "</table>\n",
       "<p>401 rows × 2 columns</p>\n",
       "</div>"
      ],
      "text/plain": [
       "variable                                      remove     reduce\n",
       "model             scenario                                     \n",
       "AIM/CGE 2.0       SSP1-26                  -7.675157 -39.924308\n",
       "                  SSP4-26                  -7.395017 -43.153110\n",
       "AIM/CGE 2.1       CD-LINKS_NPi2020_1000   -12.240858 -35.431404\n",
       "                  CD-LINKS_NPi2020_400    -16.143932 -40.820973\n",
       "                  CO_Bridge                -7.373163 -40.490306\n",
       "...                                              ...        ...\n",
       "WITCH-GLOBIOM 4.4 CD-LINKS_INDC2030i_1600 -12.900026 -36.657457\n",
       "                  CD-LINKS_NDC2030i_1000   -9.897303 -40.806546\n",
       "                  CD-LINKS_NPi2020_1000    -9.834387 -42.161808\n",
       "                  CD-LINKS_NPi2020_1600   -10.857048 -39.866954\n",
       "                  CD-LINKS_NPi2020_400     -8.520957 -44.066332\n",
       "\n",
       "[401 rows x 2 columns]"
      ]
     },
     "execution_count": 19,
     "metadata": {},
     "output_type": "execute_result"
    },
    {
     "data": {
      "application/javascript": "\n            setTimeout(function() {\n                var nbb_cell_id = 19;\n                var nbb_unformatted_code = \"components_compiled\";\n                var nbb_formatted_code = \"components_compiled\";\n                var nbb_cells = Jupyter.notebook.get_cells();\n                for (var i = 0; i < nbb_cells.length; ++i) {\n                    if (nbb_cells[i].input_prompt_number == nbb_cell_id) {\n                        if (nbb_cells[i].get_text() == nbb_unformatted_code) {\n                             nbb_cells[i].set_text(nbb_formatted_code);\n                        }\n                        break;\n                    }\n                }\n            }, 500);\n            ",
      "text/plain": [
       "<IPython.core.display.Javascript object>"
      ]
     },
     "metadata": {},
     "output_type": "display_data"
    }
   ],
   "source": [
    "components_compiled"
   ]
  },
  {
   "cell_type": "markdown",
   "metadata": {},
   "source": [
    "Step 8: Create a composite dataframe that we will use to plot stuff. Write it out for plotting."
   ]
  },
  {
   "cell_type": "code",
   "execution_count": 20,
   "metadata": {},
   "outputs": [
    {
     "data": {
      "application/javascript": "\n            setTimeout(function() {\n                var nbb_cell_id = 20;\n                var nbb_unformatted_code = \"figure2_panelc = pd.concat(\\n    [net_ghg_compiled, components_compiled],\\n    axis=1\\n)\";\n                var nbb_formatted_code = \"figure2_panelc = pd.concat([net_ghg_compiled, components_compiled], axis=1)\";\n                var nbb_cells = Jupyter.notebook.get_cells();\n                for (var i = 0; i < nbb_cells.length; ++i) {\n                    if (nbb_cells[i].input_prompt_number == nbb_cell_id) {\n                        if (nbb_cells[i].get_text() == nbb_unformatted_code) {\n                             nbb_cells[i].set_text(nbb_formatted_code);\n                        }\n                        break;\n                    }\n                }\n            }, 500);\n            ",
      "text/plain": [
       "<IPython.core.display.Javascript object>"
      ]
     },
     "metadata": {},
     "output_type": "display_data"
    }
   ],
   "source": [
    "figure2_panelc = pd.concat(\n",
    "    [net_ghg_compiled, components_compiled],\n",
    "    axis=1\n",
    ")"
   ]
  },
  {
   "cell_type": "code",
   "execution_count": 21,
   "metadata": {},
   "outputs": [
    {
     "data": {
      "application/javascript": "\n            setTimeout(function() {\n                var nbb_cell_id = 21;\n                var nbb_unformatted_code = \"figure2_panelc.to_csv(\\n    Path(\\n        '../data/104_figure2_panelc.csv'\\n    )\\n)\";\n                var nbb_formatted_code = \"figure2_panelc.to_csv(Path(\\\"../data/104_figure2_panelc.csv\\\"))\";\n                var nbb_cells = Jupyter.notebook.get_cells();\n                for (var i = 0; i < nbb_cells.length; ++i) {\n                    if (nbb_cells[i].input_prompt_number == nbb_cell_id) {\n                        if (nbb_cells[i].get_text() == nbb_unformatted_code) {\n                             nbb_cells[i].set_text(nbb_formatted_code);\n                        }\n                        break;\n                    }\n                }\n            }, 500);\n            ",
      "text/plain": [
       "<IPython.core.display.Javascript object>"
      ]
     },
     "metadata": {},
     "output_type": "display_data"
    }
   ],
   "source": [
    "figure2_panelc.to_csv(\n",
    "    Path(\n",
    "        '../data/104_figure2_panelc.csv'\n",
    "    )\n",
    ")"
   ]
  },
  {
   "cell_type": "markdown",
   "metadata": {},
   "source": [
    "Step 9: Calculate the proportion of net GHG reductions met via reductions."
   ]
  },
  {
   "cell_type": "code",
   "execution_count": 22,
   "metadata": {},
   "outputs": [
    {
     "data": {
      "application/javascript": "\n            setTimeout(function() {\n                var nbb_cell_id = 22;\n                var nbb_unformatted_code = \"figure2_panelc.loc[:, 'total_reduction'] = (\\n    figure2_panelc.loc[:, 'netzero']\\n    -\\n    figure2_panelc.loc[:, 2020]\\n)\";\n                var nbb_formatted_code = \"figure2_panelc.loc[:, \\\"total_reduction\\\"] = (\\n    figure2_panelc.loc[:, \\\"netzero\\\"] - figure2_panelc.loc[:, 2020]\\n)\";\n                var nbb_cells = Jupyter.notebook.get_cells();\n                for (var i = 0; i < nbb_cells.length; ++i) {\n                    if (nbb_cells[i].input_prompt_number == nbb_cell_id) {\n                        if (nbb_cells[i].get_text() == nbb_unformatted_code) {\n                             nbb_cells[i].set_text(nbb_formatted_code);\n                        }\n                        break;\n                    }\n                }\n            }, 500);\n            ",
      "text/plain": [
       "<IPython.core.display.Javascript object>"
      ]
     },
     "metadata": {},
     "output_type": "display_data"
    }
   ],
   "source": [
    "figure2_panelc.loc[:, 'total_reduction'] = (\n",
    "    figure2_panelc.loc[:, 'netzero']\n",
    "    -\n",
    "    figure2_panelc.loc[:, 2020]\n",
    ")"
   ]
  },
  {
   "cell_type": "code",
   "execution_count": 23,
   "metadata": {},
   "outputs": [
    {
     "data": {
      "text/html": [
       "<div>\n",
       "<style scoped>\n",
       "    .dataframe tbody tr th:only-of-type {\n",
       "        vertical-align: middle;\n",
       "    }\n",
       "\n",
       "    .dataframe tbody tr th {\n",
       "        vertical-align: top;\n",
       "    }\n",
       "\n",
       "    .dataframe thead th {\n",
       "        text-align: right;\n",
       "    }\n",
       "</style>\n",
       "<table border=\"1\" class=\"dataframe\">\n",
       "  <thead>\n",
       "    <tr style=\"text-align: right;\">\n",
       "      <th></th>\n",
       "      <th></th>\n",
       "      <th>2020</th>\n",
       "      <th>netzero</th>\n",
       "      <th>Category</th>\n",
       "      <th>remove</th>\n",
       "      <th>reduce</th>\n",
       "      <th>total_reduction</th>\n",
       "    </tr>\n",
       "    <tr>\n",
       "      <th>model</th>\n",
       "      <th>scenario</th>\n",
       "      <th></th>\n",
       "      <th></th>\n",
       "      <th></th>\n",
       "      <th></th>\n",
       "      <th></th>\n",
       "      <th></th>\n",
       "    </tr>\n",
       "  </thead>\n",
       "  <tbody>\n",
       "    <tr>\n",
       "      <th rowspan=\"2\" valign=\"top\">AIM/CGE 2.0</th>\n",
       "      <th>SSP1-26</th>\n",
       "      <td>51.0</td>\n",
       "      <td>3.0</td>\n",
       "      <td>C3</td>\n",
       "      <td>-7.675157</td>\n",
       "      <td>-39.924308</td>\n",
       "      <td>-48.0</td>\n",
       "    </tr>\n",
       "    <tr>\n",
       "      <th>SSP4-26</th>\n",
       "      <td>58.0</td>\n",
       "      <td>7.0</td>\n",
       "      <td>C3</td>\n",
       "      <td>-7.395017</td>\n",
       "      <td>-43.153110</td>\n",
       "      <td>-51.0</td>\n",
       "    </tr>\n",
       "    <tr>\n",
       "      <th rowspan=\"3\" valign=\"top\">AIM/CGE 2.1</th>\n",
       "      <th>CD-LINKS_NPi2020_1000</th>\n",
       "      <td>53.0</td>\n",
       "      <td>6.0</td>\n",
       "      <td>C3</td>\n",
       "      <td>-12.240858</td>\n",
       "      <td>-35.431404</td>\n",
       "      <td>-47.0</td>\n",
       "    </tr>\n",
       "    <tr>\n",
       "      <th>CD-LINKS_NPi2020_400</th>\n",
       "      <td>53.0</td>\n",
       "      <td>-3.0</td>\n",
       "      <td>C1</td>\n",
       "      <td>-16.143932</td>\n",
       "      <td>-40.820973</td>\n",
       "      <td>-56.0</td>\n",
       "    </tr>\n",
       "    <tr>\n",
       "      <th>CO_Bridge</th>\n",
       "      <td>55.0</td>\n",
       "      <td>7.0</td>\n",
       "      <td>C3</td>\n",
       "      <td>-7.373163</td>\n",
       "      <td>-40.490306</td>\n",
       "      <td>-48.0</td>\n",
       "    </tr>\n",
       "    <tr>\n",
       "      <th>...</th>\n",
       "      <th>...</th>\n",
       "      <td>...</td>\n",
       "      <td>...</td>\n",
       "      <td>...</td>\n",
       "      <td>...</td>\n",
       "      <td>...</td>\n",
       "      <td>...</td>\n",
       "    </tr>\n",
       "    <tr>\n",
       "      <th rowspan=\"5\" valign=\"top\">WITCH-GLOBIOM 4.4</th>\n",
       "      <th>CD-LINKS_INDC2030i_1600</th>\n",
       "      <td>54.0</td>\n",
       "      <td>5.0</td>\n",
       "      <td>C3</td>\n",
       "      <td>-12.900026</td>\n",
       "      <td>-36.657457</td>\n",
       "      <td>-49.0</td>\n",
       "    </tr>\n",
       "    <tr>\n",
       "      <th>CD-LINKS_NDC2030i_1000</th>\n",
       "      <td>54.0</td>\n",
       "      <td>4.0</td>\n",
       "      <td>C2</td>\n",
       "      <td>-9.897303</td>\n",
       "      <td>-40.806546</td>\n",
       "      <td>-50.0</td>\n",
       "    </tr>\n",
       "    <tr>\n",
       "      <th>CD-LINKS_NPi2020_1000</th>\n",
       "      <td>56.0</td>\n",
       "      <td>4.0</td>\n",
       "      <td>C1</td>\n",
       "      <td>-9.834387</td>\n",
       "      <td>-42.161808</td>\n",
       "      <td>-52.0</td>\n",
       "    </tr>\n",
       "    <tr>\n",
       "      <th>CD-LINKS_NPi2020_1600</th>\n",
       "      <td>56.0</td>\n",
       "      <td>5.0</td>\n",
       "      <td>C3</td>\n",
       "      <td>-10.857048</td>\n",
       "      <td>-39.866954</td>\n",
       "      <td>-51.0</td>\n",
       "    </tr>\n",
       "    <tr>\n",
       "      <th>CD-LINKS_NPi2020_400</th>\n",
       "      <td>56.0</td>\n",
       "      <td>4.0</td>\n",
       "      <td>C1</td>\n",
       "      <td>-8.520957</td>\n",
       "      <td>-44.066332</td>\n",
       "      <td>-52.0</td>\n",
       "    </tr>\n",
       "  </tbody>\n",
       "</table>\n",
       "<p>401 rows × 6 columns</p>\n",
       "</div>"
      ],
      "text/plain": [
       "                                           2020  netzero Category     remove  \\\n",
       "model             scenario                                                     \n",
       "AIM/CGE 2.0       SSP1-26                  51.0      3.0       C3  -7.675157   \n",
       "                  SSP4-26                  58.0      7.0       C3  -7.395017   \n",
       "AIM/CGE 2.1       CD-LINKS_NPi2020_1000    53.0      6.0       C3 -12.240858   \n",
       "                  CD-LINKS_NPi2020_400     53.0     -3.0       C1 -16.143932   \n",
       "                  CO_Bridge                55.0      7.0       C3  -7.373163   \n",
       "...                                         ...      ...      ...        ...   \n",
       "WITCH-GLOBIOM 4.4 CD-LINKS_INDC2030i_1600  54.0      5.0       C3 -12.900026   \n",
       "                  CD-LINKS_NDC2030i_1000   54.0      4.0       C2  -9.897303   \n",
       "                  CD-LINKS_NPi2020_1000    56.0      4.0       C1  -9.834387   \n",
       "                  CD-LINKS_NPi2020_1600    56.0      5.0       C3 -10.857048   \n",
       "                  CD-LINKS_NPi2020_400     56.0      4.0       C1  -8.520957   \n",
       "\n",
       "                                              reduce  total_reduction  \n",
       "model             scenario                                             \n",
       "AIM/CGE 2.0       SSP1-26                 -39.924308            -48.0  \n",
       "                  SSP4-26                 -43.153110            -51.0  \n",
       "AIM/CGE 2.1       CD-LINKS_NPi2020_1000   -35.431404            -47.0  \n",
       "                  CD-LINKS_NPi2020_400    -40.820973            -56.0  \n",
       "                  CO_Bridge               -40.490306            -48.0  \n",
       "...                                              ...              ...  \n",
       "WITCH-GLOBIOM 4.4 CD-LINKS_INDC2030i_1600 -36.657457            -49.0  \n",
       "                  CD-LINKS_NDC2030i_1000  -40.806546            -50.0  \n",
       "                  CD-LINKS_NPi2020_1000   -42.161808            -52.0  \n",
       "                  CD-LINKS_NPi2020_1600   -39.866954            -51.0  \n",
       "                  CD-LINKS_NPi2020_400    -44.066332            -52.0  \n",
       "\n",
       "[401 rows x 6 columns]"
      ]
     },
     "execution_count": 23,
     "metadata": {},
     "output_type": "execute_result"
    },
    {
     "data": {
      "application/javascript": "\n            setTimeout(function() {\n                var nbb_cell_id = 23;\n                var nbb_unformatted_code = \"figure2_panelc\";\n                var nbb_formatted_code = \"figure2_panelc\";\n                var nbb_cells = Jupyter.notebook.get_cells();\n                for (var i = 0; i < nbb_cells.length; ++i) {\n                    if (nbb_cells[i].input_prompt_number == nbb_cell_id) {\n                        if (nbb_cells[i].get_text() == nbb_unformatted_code) {\n                             nbb_cells[i].set_text(nbb_formatted_code);\n                        }\n                        break;\n                    }\n                }\n            }, 500);\n            ",
      "text/plain": [
       "<IPython.core.display.Javascript object>"
      ]
     },
     "metadata": {},
     "output_type": "display_data"
    }
   ],
   "source": [
    "figure2_panelc"
   ]
  },
  {
   "cell_type": "code",
   "execution_count": 24,
   "metadata": {},
   "outputs": [
    {
     "data": {
      "application/javascript": "\n            setTimeout(function() {\n                var nbb_cell_id = 24;\n                var nbb_unformatted_code = \"figure2_panelc.loc[:, 'prop_reduce'] = (\\n    figure2_panelc.loc[:, 'reduce'] * 100\\n    /\\n    figure2_panelc.loc[:, 'total_reduction']\\n).round(0)\";\n                var nbb_formatted_code = \"figure2_panelc.loc[:, \\\"prop_reduce\\\"] = (\\n    figure2_panelc.loc[:, \\\"reduce\\\"] * 100 / figure2_panelc.loc[:, \\\"total_reduction\\\"]\\n).round(0)\";\n                var nbb_cells = Jupyter.notebook.get_cells();\n                for (var i = 0; i < nbb_cells.length; ++i) {\n                    if (nbb_cells[i].input_prompt_number == nbb_cell_id) {\n                        if (nbb_cells[i].get_text() == nbb_unformatted_code) {\n                             nbb_cells[i].set_text(nbb_formatted_code);\n                        }\n                        break;\n                    }\n                }\n            }, 500);\n            ",
      "text/plain": [
       "<IPython.core.display.Javascript object>"
      ]
     },
     "metadata": {},
     "output_type": "display_data"
    }
   ],
   "source": [
    "figure2_panelc.loc[:, 'prop_reduce'] = (\n",
    "    figure2_panelc.loc[:, 'reduce'] * 100\n",
    "    /\n",
    "    figure2_panelc.loc[:, 'total_reduction']\n",
    ").round(0)"
   ]
  },
  {
   "cell_type": "code",
   "execution_count": 25,
   "metadata": {},
   "outputs": [
    {
     "data": {
      "application/javascript": "\n            setTimeout(function() {\n                var nbb_cell_id = 25;\n                var nbb_unformatted_code = \"summary_stats = (\\n    figure2_panelc\\n    .groupby('Category')['prop_reduce']\\n    .describe()\\n)\";\n                var nbb_formatted_code = \"summary_stats = figure2_panelc.groupby(\\\"Category\\\")[\\\"prop_reduce\\\"].describe()\";\n                var nbb_cells = Jupyter.notebook.get_cells();\n                for (var i = 0; i < nbb_cells.length; ++i) {\n                    if (nbb_cells[i].input_prompt_number == nbb_cell_id) {\n                        if (nbb_cells[i].get_text() == nbb_unformatted_code) {\n                             nbb_cells[i].set_text(nbb_formatted_code);\n                        }\n                        break;\n                    }\n                }\n            }, 500);\n            ",
      "text/plain": [
       "<IPython.core.display.Javascript object>"
      ]
     },
     "metadata": {},
     "output_type": "display_data"
    }
   ],
   "source": [
    "summary_stats = (\n",
    "    figure2_panelc\n",
    "    .groupby('Category')['prop_reduce']\n",
    "    .describe()\n",
    ")"
   ]
  },
  {
   "cell_type": "markdown",
   "metadata": {},
   "source": [
    "Step 10: This backs up the sentence we use in the assessment:\n",
    "\n",
    "However, across all the categories of pathways, over 80% of the net GHG reductions between 2020 and global net zero CO2 are achieved by cuts in gross CO2 and non-CO2 emissions (Figure 1c)."
   ]
  },
  {
   "cell_type": "code",
   "execution_count": 26,
   "metadata": {},
   "outputs": [
    {
     "data": {
      "text/html": [
       "<div>\n",
       "<style scoped>\n",
       "    .dataframe tbody tr th:only-of-type {\n",
       "        vertical-align: middle;\n",
       "    }\n",
       "\n",
       "    .dataframe tbody tr th {\n",
       "        vertical-align: top;\n",
       "    }\n",
       "\n",
       "    .dataframe thead th {\n",
       "        text-align: right;\n",
       "    }\n",
       "</style>\n",
       "<table border=\"1\" class=\"dataframe\">\n",
       "  <thead>\n",
       "    <tr style=\"text-align: right;\">\n",
       "      <th></th>\n",
       "      <th>count</th>\n",
       "      <th>mean</th>\n",
       "      <th>std</th>\n",
       "      <th>min</th>\n",
       "      <th>25%</th>\n",
       "      <th>50%</th>\n",
       "      <th>75%</th>\n",
       "      <th>max</th>\n",
       "    </tr>\n",
       "    <tr>\n",
       "      <th>Category</th>\n",
       "      <th></th>\n",
       "      <th></th>\n",
       "      <th></th>\n",
       "      <th></th>\n",
       "      <th></th>\n",
       "      <th></th>\n",
       "      <th></th>\n",
       "      <th></th>\n",
       "    </tr>\n",
       "  </thead>\n",
       "  <tbody>\n",
       "    <tr>\n",
       "      <th>C1</th>\n",
       "      <td>70.0</td>\n",
       "      <td>84.142857</td>\n",
       "      <td>6.649149</td>\n",
       "      <td>72.0</td>\n",
       "      <td>79.25</td>\n",
       "      <td>85.0</td>\n",
       "      <td>88.0</td>\n",
       "      <td>102.0</td>\n",
       "    </tr>\n",
       "    <tr>\n",
       "      <th>C2</th>\n",
       "      <td>102.0</td>\n",
       "      <td>81.852941</td>\n",
       "      <td>7.035127</td>\n",
       "      <td>53.0</td>\n",
       "      <td>77.00</td>\n",
       "      <td>83.0</td>\n",
       "      <td>87.0</td>\n",
       "      <td>93.0</td>\n",
       "    </tr>\n",
       "    <tr>\n",
       "      <th>C3</th>\n",
       "      <td>229.0</td>\n",
       "      <td>81.502183</td>\n",
       "      <td>7.337494</td>\n",
       "      <td>52.0</td>\n",
       "      <td>75.00</td>\n",
       "      <td>83.0</td>\n",
       "      <td>87.0</td>\n",
       "      <td>101.0</td>\n",
       "    </tr>\n",
       "  </tbody>\n",
       "</table>\n",
       "</div>"
      ],
      "text/plain": [
       "          count       mean       std   min    25%   50%   75%    max\n",
       "Category                                                            \n",
       "C1         70.0  84.142857  6.649149  72.0  79.25  85.0  88.0  102.0\n",
       "C2        102.0  81.852941  7.035127  53.0  77.00  83.0  87.0   93.0\n",
       "C3        229.0  81.502183  7.337494  52.0  75.00  83.0  87.0  101.0"
      ]
     },
     "execution_count": 26,
     "metadata": {},
     "output_type": "execute_result"
    },
    {
     "data": {
      "application/javascript": "\n            setTimeout(function() {\n                var nbb_cell_id = 26;\n                var nbb_unformatted_code = \"summary_stats\";\n                var nbb_formatted_code = \"summary_stats\";\n                var nbb_cells = Jupyter.notebook.get_cells();\n                for (var i = 0; i < nbb_cells.length; ++i) {\n                    if (nbb_cells[i].input_prompt_number == nbb_cell_id) {\n                        if (nbb_cells[i].get_text() == nbb_unformatted_code) {\n                             nbb_cells[i].set_text(nbb_formatted_code);\n                        }\n                        break;\n                    }\n                }\n            }, 500);\n            ",
      "text/plain": [
       "<IPython.core.display.Javascript object>"
      ]
     },
     "metadata": {},
     "output_type": "display_data"
    }
   ],
   "source": [
    "summary_stats"
   ]
  }
 ],
 "metadata": {
  "kernelspec": {
   "display_name": "ar6_cdr_assessment",
   "language": "python",
   "name": "python3"
  },
  "language_info": {
   "codemirror_mode": {
    "name": "ipython",
    "version": 3
   },
   "file_extension": ".py",
   "mimetype": "text/x-python",
   "name": "python",
   "nbconvert_exporter": "python",
   "pygments_lexer": "ipython3",
   "version": "3.10.13"
  }
 },
 "nbformat": 4,
 "nbformat_minor": 2
}
