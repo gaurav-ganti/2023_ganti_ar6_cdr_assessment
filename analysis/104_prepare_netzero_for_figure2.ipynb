{
 "cells": [
  {
   "cell_type": "code",
   "execution_count": 1,
   "metadata": {},
   "outputs": [
    {
     "data": {
      "application/javascript": "if (typeof IPython !== 'undefined') { IPython.OutputArea.prototype._should_scroll = function(lines){ return false; }}",
      "text/plain": [
       "<IPython.core.display.Javascript object>"
      ]
     },
     "metadata": {},
     "output_type": "display_data"
    }
   ],
   "source": [
    "import pyam\n",
    "import pandas as pd\n",
    "\n",
    "from pathlib import Path"
   ]
  },
  {
   "cell_type": "markdown",
   "metadata": {},
   "source": [
    "Step 1: Read in the necessary data"
   ]
  },
  {
   "cell_type": "code",
   "execution_count": 2,
   "metadata": {},
   "outputs": [
    {
     "name": "stderr",
     "output_type": "stream",
     "text": [
      "pyam - INFO: Running in a notebook, setting up a basic logging at level INFO\n",
      "pyam.core - INFO: Reading file ../data/101_data.xlsx\n",
      "pyam.core - INFO: Reading meta indicators\n"
     ]
    }
   ],
   "source": [
    "df = pyam.IamDataFrame(\n",
    "    Path(\n",
    "        '../data/101_data.xlsx'\n",
    "    )\n",
    ")"
   ]
  },
  {
   "cell_type": "markdown",
   "metadata": {},
   "source": [
    "Step 2: Filter out for the necessary variables that we will use."
   ]
  },
  {
   "cell_type": "code",
   "execution_count": 3,
   "metadata": {},
   "outputs": [
    {
     "data": {
      "text/plain": [
       "['AR6 Reanalysis|OSCARv3.2|Carbon Removal',\n",
       " 'AR6 Reanalysis|OSCARv3.2|Carbon Removal|Land',\n",
       " 'AR6 Reanalysis|OSCARv3.2|Carbon Removal|Land|Direct',\n",
       " 'AR6 Reanalysis|OSCARv3.2|Carbon Removal|Land|Indirect',\n",
       " 'AR6 Reanalysis|OSCARv3.2|Carbon Removal|Non-Land',\n",
       " 'AR6 Reanalysis|OSCARv3.2|Carbon Removal|Total',\n",
       " 'AR6 Reanalysis|OSCARv3.2|Emissions|CO2',\n",
       " 'AR6 Reanalysis|OSCARv3.2|Emissions|CO2|AFOLU',\n",
       " 'AR6 Reanalysis|OSCARv3.2|Emissions|CO2|AFOLU|Direct',\n",
       " 'AR6 Reanalysis|OSCARv3.2|Emissions|CO2|AFOLU|Indirect',\n",
       " 'AR6 Reanalysis|OSCARv3.2|Emissions|CO2|Direct Only',\n",
       " 'AR6 Reanalysis|OSCARv3.2|Emissions|CO2|Gross',\n",
       " 'AR6 Reanalysis|OSCARv3.2|Emissions|Kyoto Gases',\n",
       " 'AR6 Reanalysis|OSCARv3.2|Emissions|Kyoto Gases|Direct Only',\n",
       " 'AR6 Reanalysis|OSCARv3.2|Emissions|NonCO2|Direct Only',\n",
       " 'Population']"
      ]
     },
     "execution_count": 3,
     "metadata": {},
     "output_type": "execute_result"
    }
   ],
   "source": [
    "df.variable"
   ]
  },
  {
   "cell_type": "code",
   "execution_count": 4,
   "metadata": {},
   "outputs": [],
   "source": [
    "df_vars = (\n",
    "    df\n",
    "    .filter(\n",
    "        region='World',\n",
    "        variable=[\n",
    "            'AR6 Reanalysis|OSCARv3.2|Emissions|Kyoto Gases|Direct Only',\n",
    "            'AR6 Reanalysis|OSCARv3.2|Emissions|CO2|Gross',\n",
    "            'AR6 Reanalysis|OSCARv3.2|Emissions|NonCO2|Direct Only',\n",
    "            'AR6 Reanalysis|OSCARv3.2|Carbon Removal|Total'\n",
    "        ]\n",
    "    )\n",
    ")"
   ]
  },
  {
   "cell_type": "code",
   "execution_count": 5,
   "metadata": {},
   "outputs": [],
   "source": [
    "df_vars.convert_unit(\n",
    "    current='Gt CO2-equiv/yr',\n",
    "    to='Gt CO2/yr',\n",
    "    factor=1,\n",
    "    inplace=True\n",
    ")"
   ]
  },
  {
   "cell_type": "markdown",
   "metadata": {},
   "source": [
    "Step 3: Aggregate the gross emissions"
   ]
  },
  {
   "cell_type": "code",
   "execution_count": 6,
   "metadata": {},
   "outputs": [],
   "source": [
    "df_vars.aggregate(\n",
    "    variable='AR6 Reanalysis|OSCARv3.2|Emissions|Gross',\n",
    "    components=[\n",
    "        'AR6 Reanalysis|OSCARv3.2|Emissions|CO2|Gross',\n",
    "        'AR6 Reanalysis|OSCARv3.2|Emissions|NonCO2|Direct Only'\n",
    "    ],\n",
    "    append=True\n",
    ")"
   ]
  },
  {
   "cell_type": "markdown",
   "metadata": {},
   "source": [
    "Step 4: Split the dataframe into two parts:\n",
    "* The net GHG emissions that we will use to estimate the total mitigation effort\n",
    "* The two component mitigation options we will use for proportions."
   ]
  },
  {
   "cell_type": "code",
   "execution_count": 7,
   "metadata": {},
   "outputs": [],
   "source": [
    "df_total_mitigation = (\n",
    "    df_vars\n",
    "    .filter(variable='AR6 Reanalysis|OSCARv3.2|Emissions|Kyoto Gases|Direct Only')\n",
    "    .timeseries()\n",
    ")"
   ]
  },
  {
   "cell_type": "code",
   "execution_count": 8,
   "metadata": {},
   "outputs": [],
   "source": [
    "df_components_mitigation = (\n",
    "    df_vars\n",
    "    .filter(\n",
    "        variable=[\n",
    "            'AR6 Reanalysis|OSCARv3.2|Emissions|Gross',\n",
    "            'AR6 Reanalysis|OSCARv3.2|Carbon Removal|Total'\n",
    "        ]\n",
    "    )\n",
    "    .offset(year=2020)\n",
    "    .timeseries()\n",
    ")"
   ]
  },
  {
   "cell_type": "markdown",
   "metadata": {},
   "source": [
    "Step 5: Pull out the net zero CO2 years"
   ]
  },
  {
   "cell_type": "code",
   "execution_count": 9,
   "metadata": {},
   "outputs": [],
   "source": [
    "netzero_years = df_vars.meta.loc[:, 'Year of netzero CO2 emissions (Harm-Infilled) table']"
   ]
  },
  {
   "cell_type": "code",
   "execution_count": 10,
   "metadata": {},
   "outputs": [],
   "source": [
    "netzero_years.fillna(2100, inplace=True)"
   ]
  },
  {
   "cell_type": "markdown",
   "metadata": {},
   "source": [
    "Step 6: First, let us get the 2020 and net zero CO2 values of the net GHG emissions."
   ]
  },
  {
   "cell_type": "code",
   "execution_count": 11,
   "metadata": {},
   "outputs": [],
   "source": [
    "net_ghg_2020 = (\n",
    "    pd.DataFrame(df_total_mitigation[2020])\n",
    "    .droplevel(['region', 'variable', 'unit'])\n",
    "    .round(0)\n",
    ")"
   ]
  },
  {
   "cell_type": "code",
   "execution_count": 12,
   "metadata": {},
   "outputs": [],
   "source": [
    "net_ghg_netzero = (\n",
    "    pd.DataFrame(\n",
    "        df_total_mitigation.apply(\n",
    "            lambda x: x[netzero_years.loc[x.name[0:2]]],\n",
    "            axis=1\n",
    "        )\n",
    "    )\n",
    "    .droplevel(['region', 'variable', 'unit'])\n",
    "    .round(0)\n",
    "    .rename(\n",
    "        columns={0:'netzero'}\n",
    "    )\n",
    ")"
   ]
  },
  {
   "cell_type": "code",
   "execution_count": 13,
   "metadata": {},
   "outputs": [],
   "source": [
    "net_ghg_compiled = pd.concat([net_ghg_2020, net_ghg_netzero], axis=1)"
   ]
  },
  {
   "cell_type": "code",
   "execution_count": 14,
   "metadata": {},
   "outputs": [],
   "source": [
    "net_ghg_compiled.loc[:,'Category'] = df_vars.meta.loc[:, 'Category']"
   ]
  },
  {
   "cell_type": "markdown",
   "metadata": {},
   "source": [
    "Step 7: Compile a dataframe with the difference between 2020 and net zero for the two mitigation component variables."
   ]
  },
  {
   "cell_type": "code",
   "execution_count": 15,
   "metadata": {},
   "outputs": [],
   "source": [
    "components_compiled = (\n",
    "    df_components_mitigation.apply(\n",
    "        lambda x: x[netzero_years.loc[x.name[0:2]]],\n",
    "        axis=1\n",
    "    )\n",
    "    .droplevel(['region', 'unit'])\n",
    "    .unstack(level=-1)\n",
    "    .rename(\n",
    "        columns={\n",
    "            'AR6 Reanalysis|OSCARv3.2|Emissions|Gross':'reduce',\n",
    "            'AR6 Reanalysis|OSCARv3.2|Carbon Removal|Total':'remove'\n",
    "        }\n",
    "    )\n",
    ")"
   ]
  },
  {
   "cell_type": "code",
   "execution_count": 16,
   "metadata": {},
   "outputs": [],
   "source": [
    "components_compiled.loc[:, 'remove'] *= -1"
   ]
  },
  {
   "cell_type": "code",
   "execution_count": 17,
   "metadata": {},
   "outputs": [
    {
     "data": {
      "text/html": [
       "<div>\n",
       "<style scoped>\n",
       "    .dataframe tbody tr th:only-of-type {\n",
       "        vertical-align: middle;\n",
       "    }\n",
       "\n",
       "    .dataframe tbody tr th {\n",
       "        vertical-align: top;\n",
       "    }\n",
       "\n",
       "    .dataframe thead th {\n",
       "        text-align: right;\n",
       "    }\n",
       "</style>\n",
       "<table border=\"1\" class=\"dataframe\">\n",
       "  <thead>\n",
       "    <tr style=\"text-align: right;\">\n",
       "      <th></th>\n",
       "      <th>variable</th>\n",
       "      <th>remove</th>\n",
       "      <th>reduce</th>\n",
       "    </tr>\n",
       "    <tr>\n",
       "      <th>model</th>\n",
       "      <th>scenario</th>\n",
       "      <th></th>\n",
       "      <th></th>\n",
       "    </tr>\n",
       "  </thead>\n",
       "  <tbody>\n",
       "    <tr>\n",
       "      <th rowspan=\"2\" valign=\"top\">AIM/CGE 2.0</th>\n",
       "      <th>SSP1-26</th>\n",
       "      <td>-7.675157</td>\n",
       "      <td>-39.924308</td>\n",
       "    </tr>\n",
       "    <tr>\n",
       "      <th>SSP4-26</th>\n",
       "      <td>-7.395017</td>\n",
       "      <td>-43.153110</td>\n",
       "    </tr>\n",
       "    <tr>\n",
       "      <th rowspan=\"3\" valign=\"top\">AIM/CGE 2.1</th>\n",
       "      <th>CD-LINKS_NPi2020_1000</th>\n",
       "      <td>-12.240858</td>\n",
       "      <td>-35.431404</td>\n",
       "    </tr>\n",
       "    <tr>\n",
       "      <th>CD-LINKS_NPi2020_400</th>\n",
       "      <td>-16.143932</td>\n",
       "      <td>-40.820973</td>\n",
       "    </tr>\n",
       "    <tr>\n",
       "      <th>CO_Bridge</th>\n",
       "      <td>-7.373163</td>\n",
       "      <td>-40.490306</td>\n",
       "    </tr>\n",
       "    <tr>\n",
       "      <th>...</th>\n",
       "      <th>...</th>\n",
       "      <td>...</td>\n",
       "      <td>...</td>\n",
       "    </tr>\n",
       "    <tr>\n",
       "      <th rowspan=\"5\" valign=\"top\">WITCH-GLOBIOM 4.4</th>\n",
       "      <th>CD-LINKS_INDC2030i_1600</th>\n",
       "      <td>-12.900026</td>\n",
       "      <td>-36.657457</td>\n",
       "    </tr>\n",
       "    <tr>\n",
       "      <th>CD-LINKS_NDC2030i_1000</th>\n",
       "      <td>-9.897303</td>\n",
       "      <td>-40.806546</td>\n",
       "    </tr>\n",
       "    <tr>\n",
       "      <th>CD-LINKS_NPi2020_1000</th>\n",
       "      <td>-9.834387</td>\n",
       "      <td>-42.161808</td>\n",
       "    </tr>\n",
       "    <tr>\n",
       "      <th>CD-LINKS_NPi2020_1600</th>\n",
       "      <td>-10.857048</td>\n",
       "      <td>-39.866954</td>\n",
       "    </tr>\n",
       "    <tr>\n",
       "      <th>CD-LINKS_NPi2020_400</th>\n",
       "      <td>-8.520957</td>\n",
       "      <td>-44.066332</td>\n",
       "    </tr>\n",
       "  </tbody>\n",
       "</table>\n",
       "<p>407 rows × 2 columns</p>\n",
       "</div>"
      ],
      "text/plain": [
       "variable                                      remove     reduce\n",
       "model             scenario                                     \n",
       "AIM/CGE 2.0       SSP1-26                  -7.675157 -39.924308\n",
       "                  SSP4-26                  -7.395017 -43.153110\n",
       "AIM/CGE 2.1       CD-LINKS_NPi2020_1000   -12.240858 -35.431404\n",
       "                  CD-LINKS_NPi2020_400    -16.143932 -40.820973\n",
       "                  CO_Bridge                -7.373163 -40.490306\n",
       "...                                              ...        ...\n",
       "WITCH-GLOBIOM 4.4 CD-LINKS_INDC2030i_1600 -12.900026 -36.657457\n",
       "                  CD-LINKS_NDC2030i_1000   -9.897303 -40.806546\n",
       "                  CD-LINKS_NPi2020_1000    -9.834387 -42.161808\n",
       "                  CD-LINKS_NPi2020_1600   -10.857048 -39.866954\n",
       "                  CD-LINKS_NPi2020_400     -8.520957 -44.066332\n",
       "\n",
       "[407 rows x 2 columns]"
      ]
     },
     "execution_count": 17,
     "metadata": {},
     "output_type": "execute_result"
    }
   ],
   "source": [
    "components_compiled"
   ]
  },
  {
   "cell_type": "markdown",
   "metadata": {},
   "source": [
    "Step 8: Create a composite dataframe that we will use to plot stuff. Write it out for plotting."
   ]
  },
  {
   "cell_type": "code",
   "execution_count": 18,
   "metadata": {},
   "outputs": [],
   "source": [
    "figure2_panelc = pd.concat(\n",
    "    [net_ghg_compiled, components_compiled],\n",
    "    axis=1\n",
    ")"
   ]
  },
  {
   "cell_type": "code",
   "execution_count": 19,
   "metadata": {},
   "outputs": [],
   "source": [
    "figure2_panelc.to_csv(\n",
    "    Path(\n",
    "        '../data/104_figure2_panelc.csv'\n",
    "    )\n",
    ")"
   ]
  },
  {
   "cell_type": "markdown",
   "metadata": {},
   "source": [
    "Step 9: Calculate the proportion of net GHG reductions met via reductions."
   ]
  },
  {
   "cell_type": "code",
   "execution_count": 20,
   "metadata": {},
   "outputs": [],
   "source": [
    "figure2_panelc.loc[:, 'total_reduction'] = (\n",
    "    figure2_panelc.loc[:, 'netzero']\n",
    "    -\n",
    "    figure2_panelc.loc[:, 2020]\n",
    ")"
   ]
  },
  {
   "cell_type": "code",
   "execution_count": 21,
   "metadata": {},
   "outputs": [],
   "source": [
    "figure2_panelc.loc[:, 'prop_reduce'] = (\n",
    "    figure2_panelc.loc[:, 'reduce'] * 100\n",
    "    /\n",
    "    figure2_panelc.loc[:, 'total_reduction']\n",
    ").round(0)"
   ]
  },
  {
   "cell_type": "code",
   "execution_count": 22,
   "metadata": {},
   "outputs": [
    {
     "data": {
      "text/html": [
       "<div>\n",
       "<style scoped>\n",
       "    .dataframe tbody tr th:only-of-type {\n",
       "        vertical-align: middle;\n",
       "    }\n",
       "\n",
       "    .dataframe tbody tr th {\n",
       "        vertical-align: top;\n",
       "    }\n",
       "\n",
       "    .dataframe thead th {\n",
       "        text-align: right;\n",
       "    }\n",
       "</style>\n",
       "<table border=\"1\" class=\"dataframe\">\n",
       "  <thead>\n",
       "    <tr style=\"text-align: right;\">\n",
       "      <th></th>\n",
       "      <th>count</th>\n",
       "      <th>mean</th>\n",
       "      <th>std</th>\n",
       "      <th>min</th>\n",
       "      <th>25%</th>\n",
       "      <th>50%</th>\n",
       "      <th>75%</th>\n",
       "      <th>max</th>\n",
       "    </tr>\n",
       "    <tr>\n",
       "      <th>Category</th>\n",
       "      <th></th>\n",
       "      <th></th>\n",
       "      <th></th>\n",
       "      <th></th>\n",
       "      <th></th>\n",
       "      <th></th>\n",
       "      <th></th>\n",
       "      <th></th>\n",
       "    </tr>\n",
       "  </thead>\n",
       "  <tbody>\n",
       "    <tr>\n",
       "      <th>C1</th>\n",
       "      <td>70.0</td>\n",
       "      <td>84.142857</td>\n",
       "      <td>6.649149</td>\n",
       "      <td>72.0</td>\n",
       "      <td>79.25</td>\n",
       "      <td>85.0</td>\n",
       "      <td>88.0</td>\n",
       "      <td>102.0</td>\n",
       "    </tr>\n",
       "    <tr>\n",
       "      <th>C2</th>\n",
       "      <td>106.0</td>\n",
       "      <td>81.830189</td>\n",
       "      <td>6.901307</td>\n",
       "      <td>53.0</td>\n",
       "      <td>77.00</td>\n",
       "      <td>82.5</td>\n",
       "      <td>87.0</td>\n",
       "      <td>93.0</td>\n",
       "    </tr>\n",
       "    <tr>\n",
       "      <th>C3</th>\n",
       "      <td>231.0</td>\n",
       "      <td>81.532468</td>\n",
       "      <td>7.312737</td>\n",
       "      <td>52.0</td>\n",
       "      <td>75.00</td>\n",
       "      <td>83.0</td>\n",
       "      <td>87.0</td>\n",
       "      <td>101.0</td>\n",
       "    </tr>\n",
       "  </tbody>\n",
       "</table>\n",
       "</div>"
      ],
      "text/plain": [
       "          count       mean       std   min    25%   50%   75%    max\n",
       "Category                                                            \n",
       "C1         70.0  84.142857  6.649149  72.0  79.25  85.0  88.0  102.0\n",
       "C2        106.0  81.830189  6.901307  53.0  77.00  82.5  87.0   93.0\n",
       "C3        231.0  81.532468  7.312737  52.0  75.00  83.0  87.0  101.0"
      ]
     },
     "execution_count": 22,
     "metadata": {},
     "output_type": "execute_result"
    }
   ],
   "source": [
    "figure2_panelc.groupby('Category')['prop_reduce'].describe()"
   ]
  }
 ],
 "metadata": {
  "kernelspec": {
   "display_name": "ar6_cdr_assessment",
   "language": "python",
   "name": "python3"
  },
  "language_info": {
   "codemirror_mode": {
    "name": "ipython",
    "version": 3
   },
   "file_extension": ".py",
   "mimetype": "text/x-python",
   "name": "python",
   "nbconvert_exporter": "python",
   "pygments_lexer": "ipython3",
   "version": "3.10.13"
  }
 },
 "nbformat": 4,
 "nbformat_minor": 2
}
