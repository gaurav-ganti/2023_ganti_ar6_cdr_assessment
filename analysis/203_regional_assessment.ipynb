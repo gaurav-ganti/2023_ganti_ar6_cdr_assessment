{
 "cells": [
  {
   "cell_type": "code",
   "execution_count": 1,
   "metadata": {},
   "outputs": [
    {
     "data": {
      "application/javascript": "if (typeof IPython !== 'undefined') { IPython.OutputArea.prototype._should_scroll = function(lines){ return false; }}",
      "text/plain": [
       "<IPython.core.display.Javascript object>"
      ]
     },
     "metadata": {},
     "output_type": "display_data"
    }
   ],
   "source": [
    "import pyam\n",
    "import pandas as pd\n",
    "import numpy as np\n",
    "import copy\n",
    "\n",
    "import string\n",
    "import os\n",
    "import dotenv\n",
    "\n",
    "import matplotlib.pyplot as plt\n",
    "from matplotlib.lines import Line2D\n",
    "\n",
    "from pathlib import Path"
   ]
  },
  {
   "cell_type": "code",
   "execution_count": 2,
   "metadata": {},
   "outputs": [
    {
     "data": {
      "text/plain": [
       "True"
      ]
     },
     "execution_count": 2,
     "metadata": {},
     "output_type": "execute_result"
    }
   ],
   "source": [
    "dotenv.load_dotenv()"
   ]
  },
  {
   "cell_type": "code",
   "execution_count": 3,
   "metadata": {},
   "outputs": [
    {
     "data": {
      "application/javascript": "\n            setTimeout(function() {\n                var nbb_cell_id = 3;\n                var nbb_unformatted_code = \"%load_ext nb_black\";\n                var nbb_formatted_code = \"%load_ext nb_black\";\n                var nbb_cells = Jupyter.notebook.get_cells();\n                for (var i = 0; i < nbb_cells.length; ++i) {\n                    if (nbb_cells[i].input_prompt_number == nbb_cell_id) {\n                        if (nbb_cells[i].get_text() == nbb_unformatted_code) {\n                             nbb_cells[i].set_text(nbb_formatted_code);\n                        }\n                        break;\n                    }\n                }\n            }, 500);\n            ",
      "text/plain": [
       "<IPython.core.display.Javascript object>"
      ]
     },
     "metadata": {},
     "output_type": "display_data"
    }
   ],
   "source": [
    "%load_ext nb_black"
   ]
  },
  {
   "cell_type": "markdown",
   "metadata": {},
   "source": [
    "Step 1: Let us read in the necessary data."
   ]
  },
  {
   "cell_type": "code",
   "execution_count": 4,
   "metadata": {},
   "outputs": [
    {
     "name": "stderr",
     "output_type": "stream",
     "text": [
      "pyam - INFO: Running in a notebook, setting up a basic logging at level INFO\n",
      "pyam.core - INFO: Reading file ../data/101_data.xlsx\n",
      "pyam.core - INFO: Reading meta indicators\n"
     ]
    },
    {
     "data": {
      "application/javascript": "\n            setTimeout(function() {\n                var nbb_cell_id = 4;\n                var nbb_unformatted_code = \"df = pyam.IamDataFrame(\\n    Path(\\n        '../data/101_data.xlsx'\\n    )\\n)\";\n                var nbb_formatted_code = \"df = pyam.IamDataFrame(Path(\\\"../data/101_data.xlsx\\\"))\";\n                var nbb_cells = Jupyter.notebook.get_cells();\n                for (var i = 0; i < nbb_cells.length; ++i) {\n                    if (nbb_cells[i].input_prompt_number == nbb_cell_id) {\n                        if (nbb_cells[i].get_text() == nbb_unformatted_code) {\n                             nbb_cells[i].set_text(nbb_formatted_code);\n                        }\n                        break;\n                    }\n                }\n            }, 500);\n            ",
      "text/plain": [
       "<IPython.core.display.Javascript object>"
      ]
     },
     "metadata": {},
     "output_type": "display_data"
    }
   ],
   "source": [
    "df = pyam.IamDataFrame(\n",
    "    Path(\n",
    "        '../data/101_data.xlsx'\n",
    "    )\n",
    ")"
   ]
  },
  {
   "cell_type": "code",
   "execution_count": 5,
   "metadata": {},
   "outputs": [
    {
     "data": {
      "application/javascript": "\n            setTimeout(function() {\n                var nbb_cell_id = 5;\n                var nbb_unformatted_code = \"df_cdr = (\\n    df\\n    .filter(\\n        variable='*Carbon Removal*'\\n    )\\n    .convert_unit(\\n        current='Gt CO2/yr',\\n        to='Gt CO2/yr',\\n        factor=-1\\n    )\\n)\";\n                var nbb_formatted_code = \"df_cdr = df.filter(variable=\\\"*Carbon Removal*\\\").convert_unit(\\n    current=\\\"Gt CO2/yr\\\", to=\\\"Gt CO2/yr\\\", factor=-1\\n)\";\n                var nbb_cells = Jupyter.notebook.get_cells();\n                for (var i = 0; i < nbb_cells.length; ++i) {\n                    if (nbb_cells[i].input_prompt_number == nbb_cell_id) {\n                        if (nbb_cells[i].get_text() == nbb_unformatted_code) {\n                             nbb_cells[i].set_text(nbb_formatted_code);\n                        }\n                        break;\n                    }\n                }\n            }, 500);\n            ",
      "text/plain": [
       "<IPython.core.display.Javascript object>"
      ]
     },
     "metadata": {},
     "output_type": "display_data"
    }
   ],
   "source": [
    "df_cdr = (\n",
    "    df\n",
    "    .filter(\n",
    "        variable='*Carbon Removal*'\n",
    "    )\n",
    "    .convert_unit(\n",
    "        current='Gt CO2/yr',\n",
    "        to='Gt CO2/yr',\n",
    "        factor=-1\n",
    "    )\n",
    ")"
   ]
  },
  {
   "cell_type": "code",
   "execution_count": 6,
   "metadata": {},
   "outputs": [
    {
     "data": {
      "application/javascript": "\n            setTimeout(function() {\n                var nbb_cell_id = 6;\n                var nbb_unformatted_code = \"df_compiled = pyam.concat(\\n    [\\n        df_cdr,\\n        df.filter(\\n            variable='*Carbon Removal*',\\n            keep=False\\n        )\\n    ]\\n)\";\n                var nbb_formatted_code = \"df_compiled = pyam.concat([df_cdr, df.filter(variable=\\\"*Carbon Removal*\\\", keep=False)])\";\n                var nbb_cells = Jupyter.notebook.get_cells();\n                for (var i = 0; i < nbb_cells.length; ++i) {\n                    if (nbb_cells[i].input_prompt_number == nbb_cell_id) {\n                        if (nbb_cells[i].get_text() == nbb_unformatted_code) {\n                             nbb_cells[i].set_text(nbb_formatted_code);\n                        }\n                        break;\n                    }\n                }\n            }, 500);\n            ",
      "text/plain": [
       "<IPython.core.display.Javascript object>"
      ]
     },
     "metadata": {},
     "output_type": "display_data"
    }
   ],
   "source": [
    "df_compiled = pyam.concat(\n",
    "    [\n",
    "        df_cdr,\n",
    "        df.filter(\n",
    "            variable='*Carbon Removal*',\n",
    "            keep=False\n",
    "        )\n",
    "    ]\n",
    ")"
   ]
  },
  {
   "cell_type": "markdown",
   "metadata": {},
   "source": [
    "Step 2: Now we want to assess the following elements for all the regions (including the World region):\n",
    "* Cumulative gross CO2 emissions between 2020 - netzero and netzero - 2100\n",
    "* Cumulative CDR between 2020 - netzero and netzero - 2100\n",
    "We want to assess this for each pathway category separately."
   ]
  },
  {
   "cell_type": "code",
   "execution_count": 7,
   "metadata": {},
   "outputs": [
    {
     "data": {
      "application/javascript": "\n            setTimeout(function() {\n                var nbb_cell_id = 7;\n                var nbb_unformatted_code = \"plot_data_panel_a = dict()\";\n                var nbb_formatted_code = \"plot_data_panel_a = dict()\";\n                var nbb_cells = Jupyter.notebook.get_cells();\n                for (var i = 0; i < nbb_cells.length; ++i) {\n                    if (nbb_cells[i].input_prompt_number == nbb_cell_id) {\n                        if (nbb_cells[i].get_text() == nbb_unformatted_code) {\n                             nbb_cells[i].set_text(nbb_formatted_code);\n                        }\n                        break;\n                    }\n                }\n            }, 500);\n            ",
      "text/plain": [
       "<IPython.core.display.Javascript object>"
      ]
     },
     "metadata": {},
     "output_type": "display_data"
    }
   ],
   "source": [
    "plot_data_panel_a = dict()"
   ]
  },
  {
   "cell_type": "code",
   "execution_count": 8,
   "metadata": {},
   "outputs": [
    {
     "data": {
      "text/plain": [
       "['R5ASIA', 'R5LAM', 'R5MAF', 'R5OECD90+EU', 'R5REF', 'World']"
      ]
     },
     "execution_count": 8,
     "metadata": {},
     "output_type": "execute_result"
    },
    {
     "data": {
      "application/javascript": "\n            setTimeout(function() {\n                var nbb_cell_id = 8;\n                var nbb_unformatted_code = \"df_compiled.region\";\n                var nbb_formatted_code = \"df_compiled.region\";\n                var nbb_cells = Jupyter.notebook.get_cells();\n                for (var i = 0; i < nbb_cells.length; ++i) {\n                    if (nbb_cells[i].input_prompt_number == nbb_cell_id) {\n                        if (nbb_cells[i].get_text() == nbb_unformatted_code) {\n                             nbb_cells[i].set_text(nbb_formatted_code);\n                        }\n                        break;\n                    }\n                }\n            }, 500);\n            ",
      "text/plain": [
       "<IPython.core.display.Javascript object>"
      ]
     },
     "metadata": {},
     "output_type": "display_data"
    }
   ],
   "source": [
    "df_compiled.region"
   ]
  },
  {
   "cell_type": "code",
   "execution_count": 9,
   "metadata": {},
   "outputs": [
    {
     "data": {
      "application/javascript": "\n            setTimeout(function() {\n                var nbb_cell_id = 9;\n                var nbb_unformatted_code = \"variable_name_maps = [\\n    ('AR6 Reanalysis|OSCARv3.2|Emissions|CO2|Gross', 'gross'),\\n    ('AR6 Reanalysis|OSCARv3.2|Emissions|NonCO2|Direct Only', 'nonco2'),\\n    ('AR6 Reanalysis|OSCARv3.2|Carbon Removal|Total', 'cdr'),\\n    ('AR6 Reanalysis|OSCARv3.2|Carbon Removal|Land|Direct', 'cdr-land')\\n]\";\n                var nbb_formatted_code = \"variable_name_maps = [\\n    (\\\"AR6 Reanalysis|OSCARv3.2|Emissions|CO2|Gross\\\", \\\"gross\\\"),\\n    (\\\"AR6 Reanalysis|OSCARv3.2|Emissions|NonCO2|Direct Only\\\", \\\"nonco2\\\"),\\n    (\\\"AR6 Reanalysis|OSCARv3.2|Carbon Removal|Total\\\", \\\"cdr\\\"),\\n    (\\\"AR6 Reanalysis|OSCARv3.2|Carbon Removal|Land|Direct\\\", \\\"cdr-land\\\"),\\n]\";\n                var nbb_cells = Jupyter.notebook.get_cells();\n                for (var i = 0; i < nbb_cells.length; ++i) {\n                    if (nbb_cells[i].input_prompt_number == nbb_cell_id) {\n                        if (nbb_cells[i].get_text() == nbb_unformatted_code) {\n                             nbb_cells[i].set_text(nbb_formatted_code);\n                        }\n                        break;\n                    }\n                }\n            }, 500);\n            ",
      "text/plain": [
       "<IPython.core.display.Javascript object>"
      ]
     },
     "metadata": {},
     "output_type": "display_data"
    }
   ],
   "source": [
    "variable_name_maps = [\n",
    "    ('AR6 Reanalysis|OSCARv3.2|Emissions|CO2|Gross', 'gross'),\n",
    "    ('AR6 Reanalysis|OSCARv3.2|Emissions|NonCO2|Direct Only', 'nonco2'),\n",
    "    ('AR6 Reanalysis|OSCARv3.2|Carbon Removal|Total', 'cdr'),\n",
    "    ('AR6 Reanalysis|OSCARv3.2|Carbon Removal|Land|Direct', 'cdr-land')\n",
    "]"
   ]
  },
  {
   "cell_type": "code",
   "execution_count": 10,
   "metadata": {},
   "outputs": [
    {
     "data": {
      "text/plain": [
       "array([2090, 2077, 2064, 2046, 2100, 2067, 2060, 2070, 2074, 2075, 2055,\n",
       "       2059, 2062, 2069, 2065, 2072, 2080, 2085, 2061, 2045, 2049, 2030,\n",
       "       2035, 2033, 2040, 2037, 2041, 2050, 2054, 2058, 2066, 2078, 2094,\n",
       "       2079, 2073, 2071, 2052, 2086, 2087, 2051, 2048, 2047, 2043, 2082,\n",
       "       2068, 2056, 2088, 2076, 2063, 2053, 2057, 2095, 2097, 2081, 2099,\n",
       "       2096, 2044, 2092, 2083, 2084, 2089])"
      ]
     },
     "execution_count": 10,
     "metadata": {},
     "output_type": "execute_result"
    },
    {
     "data": {
      "application/javascript": "\n            setTimeout(function() {\n                var nbb_cell_id = 10;\n                var nbb_unformatted_code = \"df_compiled.meta['Year of netzero CO2 emissions (Harm-Infilled) table'].unique()\";\n                var nbb_formatted_code = \"df_compiled.meta[\\\"Year of netzero CO2 emissions (Harm-Infilled) table\\\"].unique()\";\n                var nbb_cells = Jupyter.notebook.get_cells();\n                for (var i = 0; i < nbb_cells.length; ++i) {\n                    if (nbb_cells[i].input_prompt_number == nbb_cell_id) {\n                        if (nbb_cells[i].get_text() == nbb_unformatted_code) {\n                             nbb_cells[i].set_text(nbb_formatted_code);\n                        }\n                        break;\n                    }\n                }\n            }, 500);\n            ",
      "text/plain": [
       "<IPython.core.display.Javascript object>"
      ]
     },
     "metadata": {},
     "output_type": "display_data"
    }
   ],
   "source": [
    "df_compiled.meta['Year of netzero CO2 emissions (Harm-Infilled) table'].unique()"
   ]
  },
  {
   "cell_type": "code",
   "execution_count": 11,
   "metadata": {},
   "outputs": [
    {
     "data": {
      "application/javascript": "\n            setTimeout(function() {\n                var nbb_cell_id = 11;\n                var nbb_unformatted_code = \"df_compiled_alt = copy.deepcopy(df_compiled)\";\n                var nbb_formatted_code = \"df_compiled_alt = copy.deepcopy(df_compiled)\";\n                var nbb_cells = Jupyter.notebook.get_cells();\n                for (var i = 0; i < nbb_cells.length; ++i) {\n                    if (nbb_cells[i].input_prompt_number == nbb_cell_id) {\n                        if (nbb_cells[i].get_text() == nbb_unformatted_code) {\n                             nbb_cells[i].set_text(nbb_formatted_code);\n                        }\n                        break;\n                    }\n                }\n            }, 500);\n            ",
      "text/plain": [
       "<IPython.core.display.Javascript object>"
      ]
     },
     "metadata": {},
     "output_type": "display_data"
    }
   ],
   "source": [
    "df_compiled_alt = copy.deepcopy(df_compiled)"
   ]
  },
  {
   "cell_type": "code",
   "execution_count": 12,
   "metadata": {},
   "outputs": [
    {
     "data": {
      "application/javascript": "\n            setTimeout(function() {\n                var nbb_cell_id = 12;\n                var nbb_unformatted_code = \"cols_panel_a = ['Category']\\nfor reg in df_compiled.region:\\n    for var, name in variable_name_maps:\\n        df_to_assess = (\\n            df_compiled\\n            .filter(\\n                region=reg,\\n                variable=var\\n            )\\n            .timeseries()\\n        )\\n        # First set the cumulative value between 2020 and net zero\\n        cum_2020_netzero = (\\n            df_to_assess.apply(\\n                lambda x: pyam.timeseries.cumulative(\\n                    x,\\n                    first_year=2020,\\n                    last_year=df_compiled.meta.loc[x.name[0:2], 'Year of netzero CO2 emissions (Harm-Infilled) table']\\n                ),\\n                axis=1\\n            )\\n            .round(2)\\n        )\\n        # Then set the cumulative value between net zero and 2100\\n        cum_netzero_2100 = (\\n            df_to_assess.apply(\\n                lambda x: pyam.timeseries.cumulative(\\n                    x,\\n                    first_year=df_compiled.meta.loc[x.name[0:2], 'Year of netzero CO2 emissions (Harm-Infilled) table'],\\n                    last_year=2100\\n                ),\\n                axis=1\\n            )\\n            .round(2)\\n        )\\n        # Now assign both of these to the metadata\\n        df_compiled_alt.set_meta(\\n            meta=cum_2020_netzero,\\n            name=f'{name}_{reg}_2020-netzero'\\n        )\\n        df_compiled_alt.set_meta(\\n            meta=cum_netzero_2100,\\n            name=f'{name}_{reg}_netzero-2100'\\n        )\\n        cols_panel_a.append(f'{name}_{reg}_2020-netzero')\\n        cols_panel_a.append(f'{name}_{reg}_netzero-2100')\";\n                var nbb_formatted_code = \"cols_panel_a = [\\\"Category\\\"]\\nfor reg in df_compiled.region:\\n    for var, name in variable_name_maps:\\n        df_to_assess = df_compiled.filter(region=reg, variable=var).timeseries()\\n        # First set the cumulative value between 2020 and net zero\\n        cum_2020_netzero = df_to_assess.apply(\\n            lambda x: pyam.timeseries.cumulative(\\n                x,\\n                first_year=2020,\\n                last_year=df_compiled.meta.loc[\\n                    x.name[0:2], \\\"Year of netzero CO2 emissions (Harm-Infilled) table\\\"\\n                ],\\n            ),\\n            axis=1,\\n        ).round(2)\\n        # Then set the cumulative value between net zero and 2100\\n        cum_netzero_2100 = df_to_assess.apply(\\n            lambda x: pyam.timeseries.cumulative(\\n                x,\\n                first_year=df_compiled.meta.loc[\\n                    x.name[0:2], \\\"Year of netzero CO2 emissions (Harm-Infilled) table\\\"\\n                ],\\n                last_year=2100,\\n            ),\\n            axis=1,\\n        ).round(2)\\n        # Now assign both of these to the metadata\\n        df_compiled_alt.set_meta(\\n            meta=cum_2020_netzero, name=f\\\"{name}_{reg}_2020-netzero\\\"\\n        )\\n        df_compiled_alt.set_meta(\\n            meta=cum_netzero_2100, name=f\\\"{name}_{reg}_netzero-2100\\\"\\n        )\\n        cols_panel_a.append(f\\\"{name}_{reg}_2020-netzero\\\")\\n        cols_panel_a.append(f\\\"{name}_{reg}_netzero-2100\\\")\";\n                var nbb_cells = Jupyter.notebook.get_cells();\n                for (var i = 0; i < nbb_cells.length; ++i) {\n                    if (nbb_cells[i].input_prompt_number == nbb_cell_id) {\n                        if (nbb_cells[i].get_text() == nbb_unformatted_code) {\n                             nbb_cells[i].set_text(nbb_formatted_code);\n                        }\n                        break;\n                    }\n                }\n            }, 500);\n            ",
      "text/plain": [
       "<IPython.core.display.Javascript object>"
      ]
     },
     "metadata": {},
     "output_type": "display_data"
    }
   ],
   "source": [
    "cols_panel_a = ['Category']\n",
    "for reg in df_compiled.region:\n",
    "    for var, name in variable_name_maps:\n",
    "        df_to_assess = (\n",
    "            df_compiled\n",
    "            .filter(\n",
    "                region=reg,\n",
    "                variable=var\n",
    "            )\n",
    "            .timeseries()\n",
    "        )\n",
    "        # First set the cumulative value between 2020 and net zero\n",
    "        cum_2020_netzero = (\n",
    "            df_to_assess.apply(\n",
    "                lambda x: pyam.timeseries.cumulative(\n",
    "                    x,\n",
    "                    first_year=2020,\n",
    "                    last_year=df_compiled.meta.loc[x.name[0:2], 'Year of netzero CO2 emissions (Harm-Infilled) table']\n",
    "                ),\n",
    "                axis=1\n",
    "            )\n",
    "            .round(2)\n",
    "        )\n",
    "        # Then set the cumulative value between net zero and 2100\n",
    "        cum_netzero_2100 = (\n",
    "            df_to_assess.apply(\n",
    "                lambda x: pyam.timeseries.cumulative(\n",
    "                    x,\n",
    "                    first_year=df_compiled.meta.loc[x.name[0:2], 'Year of netzero CO2 emissions (Harm-Infilled) table'],\n",
    "                    last_year=2100\n",
    "                ),\n",
    "                axis=1\n",
    "            )\n",
    "            .round(2)\n",
    "        )\n",
    "        # Now assign both of these to the metadata\n",
    "        df_compiled_alt.set_meta(\n",
    "            meta=cum_2020_netzero,\n",
    "            name=f'{name}_{reg}_2020-netzero'\n",
    "        )\n",
    "        df_compiled_alt.set_meta(\n",
    "            meta=cum_netzero_2100,\n",
    "            name=f'{name}_{reg}_netzero-2100'\n",
    "        )\n",
    "        cols_panel_a.append(f'{name}_{reg}_2020-netzero')\n",
    "        cols_panel_a.append(f'{name}_{reg}_netzero-2100')"
   ]
  },
  {
   "cell_type": "code",
   "execution_count": 13,
   "metadata": {},
   "outputs": [
    {
     "data": {
      "application/javascript": "\n            setTimeout(function() {\n                var nbb_cell_id = 13;\n                var nbb_unformatted_code = \"plot_data_panel_a = df_compiled_alt.meta[cols_panel_a]\";\n                var nbb_formatted_code = \"plot_data_panel_a = df_compiled_alt.meta[cols_panel_a]\";\n                var nbb_cells = Jupyter.notebook.get_cells();\n                for (var i = 0; i < nbb_cells.length; ++i) {\n                    if (nbb_cells[i].input_prompt_number == nbb_cell_id) {\n                        if (nbb_cells[i].get_text() == nbb_unformatted_code) {\n                             nbb_cells[i].set_text(nbb_formatted_code);\n                        }\n                        break;\n                    }\n                }\n            }, 500);\n            ",
      "text/plain": [
       "<IPython.core.display.Javascript object>"
      ]
     },
     "metadata": {},
     "output_type": "display_data"
    }
   ],
   "source": [
    "plot_data_panel_a = df_compiled_alt.meta[cols_panel_a]"
   ]
  },
  {
   "cell_type": "markdown",
   "metadata": {},
   "source": [
    "Now, we want to add the two gross components to get the total gross emissions.\n",
    "\n",
    "After this, we want to find the proportion of CO2 versus non-CO2 emissions."
   ]
  },
  {
   "cell_type": "code",
   "execution_count": 14,
   "metadata": {},
   "outputs": [
    {
     "name": "stderr",
     "output_type": "stream",
     "text": [
      "/var/folders/yw/qzffs_jd1l3b0w2tk4cdqxj00000gn/T/ipykernel_7675/3897689062.py:3: SettingWithCopyWarning: \n",
      "A value is trying to be set on a copy of a slice from a DataFrame.\n",
      "Try using .loc[row_indexer,col_indexer] = value instead\n",
      "\n",
      "See the caveats in the documentation: https://pandas.pydata.org/pandas-docs/stable/user_guide/indexing.html#returning-a-view-versus-a-copy\n",
      "  plot_data_panel_a.loc[:, f'total-gross_{reg}_{year}'] = (\n",
      "/var/folders/yw/qzffs_jd1l3b0w2tk4cdqxj00000gn/T/ipykernel_7675/3897689062.py:8: SettingWithCopyWarning: \n",
      "A value is trying to be set on a copy of a slice from a DataFrame.\n",
      "Try using .loc[row_indexer,col_indexer] = value instead\n",
      "\n",
      "See the caveats in the documentation: https://pandas.pydata.org/pandas-docs/stable/user_guide/indexing.html#returning-a-view-versus-a-copy\n",
      "  plot_data_panel_a.loc[:, f'net_{reg}_{year}'] = (\n",
      "/var/folders/yw/qzffs_jd1l3b0w2tk4cdqxj00000gn/T/ipykernel_7675/3897689062.py:13: SettingWithCopyWarning: \n",
      "A value is trying to be set on a copy of a slice from a DataFrame.\n",
      "Try using .loc[row_indexer,col_indexer] = value instead\n",
      "\n",
      "See the caveats in the documentation: https://pandas.pydata.org/pandas-docs/stable/user_guide/indexing.html#returning-a-view-versus-a-copy\n",
      "  plot_data_panel_a.loc[:, f'share-grossco2_{reg}_{year}'] = (\n",
      "/var/folders/yw/qzffs_jd1l3b0w2tk4cdqxj00000gn/T/ipykernel_7675/3897689062.py:18: SettingWithCopyWarning: \n",
      "A value is trying to be set on a copy of a slice from a DataFrame.\n",
      "Try using .loc[row_indexer,col_indexer] = value instead\n",
      "\n",
      "See the caveats in the documentation: https://pandas.pydata.org/pandas-docs/stable/user_guide/indexing.html#returning-a-view-versus-a-copy\n",
      "  plot_data_panel_a.loc[:, f'share-nonco2_{reg}_{year}'] = (\n",
      "/var/folders/yw/qzffs_jd1l3b0w2tk4cdqxj00000gn/T/ipykernel_7675/3897689062.py:23: SettingWithCopyWarning: \n",
      "A value is trying to be set on a copy of a slice from a DataFrame.\n",
      "Try using .loc[row_indexer,col_indexer] = value instead\n",
      "\n",
      "See the caveats in the documentation: https://pandas.pydata.org/pandas-docs/stable/user_guide/indexing.html#returning-a-view-versus-a-copy\n",
      "  plot_data_panel_a.loc[:, f'share-land-cdr_{reg}_{year}'] = (\n",
      "/var/folders/yw/qzffs_jd1l3b0w2tk4cdqxj00000gn/T/ipykernel_7675/3897689062.py:3: SettingWithCopyWarning: \n",
      "A value is trying to be set on a copy of a slice from a DataFrame.\n",
      "Try using .loc[row_indexer,col_indexer] = value instead\n",
      "\n",
      "See the caveats in the documentation: https://pandas.pydata.org/pandas-docs/stable/user_guide/indexing.html#returning-a-view-versus-a-copy\n",
      "  plot_data_panel_a.loc[:, f'total-gross_{reg}_{year}'] = (\n",
      "/var/folders/yw/qzffs_jd1l3b0w2tk4cdqxj00000gn/T/ipykernel_7675/3897689062.py:8: SettingWithCopyWarning: \n",
      "A value is trying to be set on a copy of a slice from a DataFrame.\n",
      "Try using .loc[row_indexer,col_indexer] = value instead\n",
      "\n",
      "See the caveats in the documentation: https://pandas.pydata.org/pandas-docs/stable/user_guide/indexing.html#returning-a-view-versus-a-copy\n",
      "  plot_data_panel_a.loc[:, f'net_{reg}_{year}'] = (\n",
      "/var/folders/yw/qzffs_jd1l3b0w2tk4cdqxj00000gn/T/ipykernel_7675/3897689062.py:13: SettingWithCopyWarning: \n",
      "A value is trying to be set on a copy of a slice from a DataFrame.\n",
      "Try using .loc[row_indexer,col_indexer] = value instead\n",
      "\n",
      "See the caveats in the documentation: https://pandas.pydata.org/pandas-docs/stable/user_guide/indexing.html#returning-a-view-versus-a-copy\n",
      "  plot_data_panel_a.loc[:, f'share-grossco2_{reg}_{year}'] = (\n",
      "/var/folders/yw/qzffs_jd1l3b0w2tk4cdqxj00000gn/T/ipykernel_7675/3897689062.py:18: SettingWithCopyWarning: \n",
      "A value is trying to be set on a copy of a slice from a DataFrame.\n",
      "Try using .loc[row_indexer,col_indexer] = value instead\n",
      "\n",
      "See the caveats in the documentation: https://pandas.pydata.org/pandas-docs/stable/user_guide/indexing.html#returning-a-view-versus-a-copy\n",
      "  plot_data_panel_a.loc[:, f'share-nonco2_{reg}_{year}'] = (\n",
      "/var/folders/yw/qzffs_jd1l3b0w2tk4cdqxj00000gn/T/ipykernel_7675/3897689062.py:23: SettingWithCopyWarning: \n",
      "A value is trying to be set on a copy of a slice from a DataFrame.\n",
      "Try using .loc[row_indexer,col_indexer] = value instead\n",
      "\n",
      "See the caveats in the documentation: https://pandas.pydata.org/pandas-docs/stable/user_guide/indexing.html#returning-a-view-versus-a-copy\n",
      "  plot_data_panel_a.loc[:, f'share-land-cdr_{reg}_{year}'] = (\n",
      "/var/folders/yw/qzffs_jd1l3b0w2tk4cdqxj00000gn/T/ipykernel_7675/3897689062.py:3: SettingWithCopyWarning: \n",
      "A value is trying to be set on a copy of a slice from a DataFrame.\n",
      "Try using .loc[row_indexer,col_indexer] = value instead\n",
      "\n",
      "See the caveats in the documentation: https://pandas.pydata.org/pandas-docs/stable/user_guide/indexing.html#returning-a-view-versus-a-copy\n",
      "  plot_data_panel_a.loc[:, f'total-gross_{reg}_{year}'] = (\n",
      "/var/folders/yw/qzffs_jd1l3b0w2tk4cdqxj00000gn/T/ipykernel_7675/3897689062.py:8: SettingWithCopyWarning: \n",
      "A value is trying to be set on a copy of a slice from a DataFrame.\n",
      "Try using .loc[row_indexer,col_indexer] = value instead\n",
      "\n",
      "See the caveats in the documentation: https://pandas.pydata.org/pandas-docs/stable/user_guide/indexing.html#returning-a-view-versus-a-copy\n",
      "  plot_data_panel_a.loc[:, f'net_{reg}_{year}'] = (\n",
      "/var/folders/yw/qzffs_jd1l3b0w2tk4cdqxj00000gn/T/ipykernel_7675/3897689062.py:13: SettingWithCopyWarning: \n",
      "A value is trying to be set on a copy of a slice from a DataFrame.\n",
      "Try using .loc[row_indexer,col_indexer] = value instead\n",
      "\n",
      "See the caveats in the documentation: https://pandas.pydata.org/pandas-docs/stable/user_guide/indexing.html#returning-a-view-versus-a-copy\n",
      "  plot_data_panel_a.loc[:, f'share-grossco2_{reg}_{year}'] = (\n",
      "/var/folders/yw/qzffs_jd1l3b0w2tk4cdqxj00000gn/T/ipykernel_7675/3897689062.py:18: SettingWithCopyWarning: \n",
      "A value is trying to be set on a copy of a slice from a DataFrame.\n",
      "Try using .loc[row_indexer,col_indexer] = value instead\n",
      "\n",
      "See the caveats in the documentation: https://pandas.pydata.org/pandas-docs/stable/user_guide/indexing.html#returning-a-view-versus-a-copy\n",
      "  plot_data_panel_a.loc[:, f'share-nonco2_{reg}_{year}'] = (\n",
      "/var/folders/yw/qzffs_jd1l3b0w2tk4cdqxj00000gn/T/ipykernel_7675/3897689062.py:23: SettingWithCopyWarning: \n",
      "A value is trying to be set on a copy of a slice from a DataFrame.\n",
      "Try using .loc[row_indexer,col_indexer] = value instead\n",
      "\n",
      "See the caveats in the documentation: https://pandas.pydata.org/pandas-docs/stable/user_guide/indexing.html#returning-a-view-versus-a-copy\n",
      "  plot_data_panel_a.loc[:, f'share-land-cdr_{reg}_{year}'] = (\n",
      "/var/folders/yw/qzffs_jd1l3b0w2tk4cdqxj00000gn/T/ipykernel_7675/3897689062.py:3: SettingWithCopyWarning: \n",
      "A value is trying to be set on a copy of a slice from a DataFrame.\n",
      "Try using .loc[row_indexer,col_indexer] = value instead\n",
      "\n",
      "See the caveats in the documentation: https://pandas.pydata.org/pandas-docs/stable/user_guide/indexing.html#returning-a-view-versus-a-copy\n",
      "  plot_data_panel_a.loc[:, f'total-gross_{reg}_{year}'] = (\n",
      "/var/folders/yw/qzffs_jd1l3b0w2tk4cdqxj00000gn/T/ipykernel_7675/3897689062.py:8: SettingWithCopyWarning: \n",
      "A value is trying to be set on a copy of a slice from a DataFrame.\n",
      "Try using .loc[row_indexer,col_indexer] = value instead\n",
      "\n",
      "See the caveats in the documentation: https://pandas.pydata.org/pandas-docs/stable/user_guide/indexing.html#returning-a-view-versus-a-copy\n",
      "  plot_data_panel_a.loc[:, f'net_{reg}_{year}'] = (\n",
      "/var/folders/yw/qzffs_jd1l3b0w2tk4cdqxj00000gn/T/ipykernel_7675/3897689062.py:13: SettingWithCopyWarning: \n",
      "A value is trying to be set on a copy of a slice from a DataFrame.\n",
      "Try using .loc[row_indexer,col_indexer] = value instead\n",
      "\n",
      "See the caveats in the documentation: https://pandas.pydata.org/pandas-docs/stable/user_guide/indexing.html#returning-a-view-versus-a-copy\n",
      "  plot_data_panel_a.loc[:, f'share-grossco2_{reg}_{year}'] = (\n",
      "/var/folders/yw/qzffs_jd1l3b0w2tk4cdqxj00000gn/T/ipykernel_7675/3897689062.py:18: SettingWithCopyWarning: \n",
      "A value is trying to be set on a copy of a slice from a DataFrame.\n",
      "Try using .loc[row_indexer,col_indexer] = value instead\n",
      "\n",
      "See the caveats in the documentation: https://pandas.pydata.org/pandas-docs/stable/user_guide/indexing.html#returning-a-view-versus-a-copy\n",
      "  plot_data_panel_a.loc[:, f'share-nonco2_{reg}_{year}'] = (\n",
      "/var/folders/yw/qzffs_jd1l3b0w2tk4cdqxj00000gn/T/ipykernel_7675/3897689062.py:23: SettingWithCopyWarning: \n",
      "A value is trying to be set on a copy of a slice from a DataFrame.\n",
      "Try using .loc[row_indexer,col_indexer] = value instead\n",
      "\n",
      "See the caveats in the documentation: https://pandas.pydata.org/pandas-docs/stable/user_guide/indexing.html#returning-a-view-versus-a-copy\n",
      "  plot_data_panel_a.loc[:, f'share-land-cdr_{reg}_{year}'] = (\n",
      "/var/folders/yw/qzffs_jd1l3b0w2tk4cdqxj00000gn/T/ipykernel_7675/3897689062.py:3: SettingWithCopyWarning: \n",
      "A value is trying to be set on a copy of a slice from a DataFrame.\n",
      "Try using .loc[row_indexer,col_indexer] = value instead\n",
      "\n",
      "See the caveats in the documentation: https://pandas.pydata.org/pandas-docs/stable/user_guide/indexing.html#returning-a-view-versus-a-copy\n",
      "  plot_data_panel_a.loc[:, f'total-gross_{reg}_{year}'] = (\n",
      "/var/folders/yw/qzffs_jd1l3b0w2tk4cdqxj00000gn/T/ipykernel_7675/3897689062.py:8: SettingWithCopyWarning: \n",
      "A value is trying to be set on a copy of a slice from a DataFrame.\n",
      "Try using .loc[row_indexer,col_indexer] = value instead\n",
      "\n",
      "See the caveats in the documentation: https://pandas.pydata.org/pandas-docs/stable/user_guide/indexing.html#returning-a-view-versus-a-copy\n",
      "  plot_data_panel_a.loc[:, f'net_{reg}_{year}'] = (\n",
      "/var/folders/yw/qzffs_jd1l3b0w2tk4cdqxj00000gn/T/ipykernel_7675/3897689062.py:13: SettingWithCopyWarning: \n",
      "A value is trying to be set on a copy of a slice from a DataFrame.\n",
      "Try using .loc[row_indexer,col_indexer] = value instead\n",
      "\n",
      "See the caveats in the documentation: https://pandas.pydata.org/pandas-docs/stable/user_guide/indexing.html#returning-a-view-versus-a-copy\n",
      "  plot_data_panel_a.loc[:, f'share-grossco2_{reg}_{year}'] = (\n",
      "/var/folders/yw/qzffs_jd1l3b0w2tk4cdqxj00000gn/T/ipykernel_7675/3897689062.py:18: SettingWithCopyWarning: \n",
      "A value is trying to be set on a copy of a slice from a DataFrame.\n",
      "Try using .loc[row_indexer,col_indexer] = value instead\n",
      "\n",
      "See the caveats in the documentation: https://pandas.pydata.org/pandas-docs/stable/user_guide/indexing.html#returning-a-view-versus-a-copy\n",
      "  plot_data_panel_a.loc[:, f'share-nonco2_{reg}_{year}'] = (\n",
      "/var/folders/yw/qzffs_jd1l3b0w2tk4cdqxj00000gn/T/ipykernel_7675/3897689062.py:23: SettingWithCopyWarning: \n",
      "A value is trying to be set on a copy of a slice from a DataFrame.\n",
      "Try using .loc[row_indexer,col_indexer] = value instead\n",
      "\n",
      "See the caveats in the documentation: https://pandas.pydata.org/pandas-docs/stable/user_guide/indexing.html#returning-a-view-versus-a-copy\n",
      "  plot_data_panel_a.loc[:, f'share-land-cdr_{reg}_{year}'] = (\n",
      "/var/folders/yw/qzffs_jd1l3b0w2tk4cdqxj00000gn/T/ipykernel_7675/3897689062.py:3: SettingWithCopyWarning: \n",
      "A value is trying to be set on a copy of a slice from a DataFrame.\n",
      "Try using .loc[row_indexer,col_indexer] = value instead\n",
      "\n",
      "See the caveats in the documentation: https://pandas.pydata.org/pandas-docs/stable/user_guide/indexing.html#returning-a-view-versus-a-copy\n",
      "  plot_data_panel_a.loc[:, f'total-gross_{reg}_{year}'] = (\n",
      "/var/folders/yw/qzffs_jd1l3b0w2tk4cdqxj00000gn/T/ipykernel_7675/3897689062.py:8: SettingWithCopyWarning: \n",
      "A value is trying to be set on a copy of a slice from a DataFrame.\n",
      "Try using .loc[row_indexer,col_indexer] = value instead\n",
      "\n",
      "See the caveats in the documentation: https://pandas.pydata.org/pandas-docs/stable/user_guide/indexing.html#returning-a-view-versus-a-copy\n",
      "  plot_data_panel_a.loc[:, f'net_{reg}_{year}'] = (\n",
      "/var/folders/yw/qzffs_jd1l3b0w2tk4cdqxj00000gn/T/ipykernel_7675/3897689062.py:13: SettingWithCopyWarning: \n",
      "A value is trying to be set on a copy of a slice from a DataFrame.\n",
      "Try using .loc[row_indexer,col_indexer] = value instead\n",
      "\n",
      "See the caveats in the documentation: https://pandas.pydata.org/pandas-docs/stable/user_guide/indexing.html#returning-a-view-versus-a-copy\n",
      "  plot_data_panel_a.loc[:, f'share-grossco2_{reg}_{year}'] = (\n",
      "/var/folders/yw/qzffs_jd1l3b0w2tk4cdqxj00000gn/T/ipykernel_7675/3897689062.py:18: SettingWithCopyWarning: \n",
      "A value is trying to be set on a copy of a slice from a DataFrame.\n",
      "Try using .loc[row_indexer,col_indexer] = value instead\n",
      "\n",
      "See the caveats in the documentation: https://pandas.pydata.org/pandas-docs/stable/user_guide/indexing.html#returning-a-view-versus-a-copy\n",
      "  plot_data_panel_a.loc[:, f'share-nonco2_{reg}_{year}'] = (\n",
      "/var/folders/yw/qzffs_jd1l3b0w2tk4cdqxj00000gn/T/ipykernel_7675/3897689062.py:23: SettingWithCopyWarning: \n",
      "A value is trying to be set on a copy of a slice from a DataFrame.\n",
      "Try using .loc[row_indexer,col_indexer] = value instead\n",
      "\n",
      "See the caveats in the documentation: https://pandas.pydata.org/pandas-docs/stable/user_guide/indexing.html#returning-a-view-versus-a-copy\n",
      "  plot_data_panel_a.loc[:, f'share-land-cdr_{reg}_{year}'] = (\n",
      "/var/folders/yw/qzffs_jd1l3b0w2tk4cdqxj00000gn/T/ipykernel_7675/3897689062.py:3: SettingWithCopyWarning: \n",
      "A value is trying to be set on a copy of a slice from a DataFrame.\n",
      "Try using .loc[row_indexer,col_indexer] = value instead\n",
      "\n",
      "See the caveats in the documentation: https://pandas.pydata.org/pandas-docs/stable/user_guide/indexing.html#returning-a-view-versus-a-copy\n",
      "  plot_data_panel_a.loc[:, f'total-gross_{reg}_{year}'] = (\n",
      "/var/folders/yw/qzffs_jd1l3b0w2tk4cdqxj00000gn/T/ipykernel_7675/3897689062.py:8: SettingWithCopyWarning: \n",
      "A value is trying to be set on a copy of a slice from a DataFrame.\n",
      "Try using .loc[row_indexer,col_indexer] = value instead\n",
      "\n",
      "See the caveats in the documentation: https://pandas.pydata.org/pandas-docs/stable/user_guide/indexing.html#returning-a-view-versus-a-copy\n",
      "  plot_data_panel_a.loc[:, f'net_{reg}_{year}'] = (\n",
      "/var/folders/yw/qzffs_jd1l3b0w2tk4cdqxj00000gn/T/ipykernel_7675/3897689062.py:13: SettingWithCopyWarning: \n",
      "A value is trying to be set on a copy of a slice from a DataFrame.\n",
      "Try using .loc[row_indexer,col_indexer] = value instead\n",
      "\n",
      "See the caveats in the documentation: https://pandas.pydata.org/pandas-docs/stable/user_guide/indexing.html#returning-a-view-versus-a-copy\n",
      "  plot_data_panel_a.loc[:, f'share-grossco2_{reg}_{year}'] = (\n",
      "/var/folders/yw/qzffs_jd1l3b0w2tk4cdqxj00000gn/T/ipykernel_7675/3897689062.py:18: SettingWithCopyWarning: \n",
      "A value is trying to be set on a copy of a slice from a DataFrame.\n",
      "Try using .loc[row_indexer,col_indexer] = value instead\n",
      "\n",
      "See the caveats in the documentation: https://pandas.pydata.org/pandas-docs/stable/user_guide/indexing.html#returning-a-view-versus-a-copy\n",
      "  plot_data_panel_a.loc[:, f'share-nonco2_{reg}_{year}'] = (\n",
      "/var/folders/yw/qzffs_jd1l3b0w2tk4cdqxj00000gn/T/ipykernel_7675/3897689062.py:23: SettingWithCopyWarning: \n",
      "A value is trying to be set on a copy of a slice from a DataFrame.\n",
      "Try using .loc[row_indexer,col_indexer] = value instead\n",
      "\n",
      "See the caveats in the documentation: https://pandas.pydata.org/pandas-docs/stable/user_guide/indexing.html#returning-a-view-versus-a-copy\n",
      "  plot_data_panel_a.loc[:, f'share-land-cdr_{reg}_{year}'] = (\n",
      "/var/folders/yw/qzffs_jd1l3b0w2tk4cdqxj00000gn/T/ipykernel_7675/3897689062.py:3: SettingWithCopyWarning: \n",
      "A value is trying to be set on a copy of a slice from a DataFrame.\n",
      "Try using .loc[row_indexer,col_indexer] = value instead\n",
      "\n",
      "See the caveats in the documentation: https://pandas.pydata.org/pandas-docs/stable/user_guide/indexing.html#returning-a-view-versus-a-copy\n",
      "  plot_data_panel_a.loc[:, f'total-gross_{reg}_{year}'] = (\n",
      "/var/folders/yw/qzffs_jd1l3b0w2tk4cdqxj00000gn/T/ipykernel_7675/3897689062.py:8: SettingWithCopyWarning: \n",
      "A value is trying to be set on a copy of a slice from a DataFrame.\n",
      "Try using .loc[row_indexer,col_indexer] = value instead\n",
      "\n",
      "See the caveats in the documentation: https://pandas.pydata.org/pandas-docs/stable/user_guide/indexing.html#returning-a-view-versus-a-copy\n",
      "  plot_data_panel_a.loc[:, f'net_{reg}_{year}'] = (\n",
      "/var/folders/yw/qzffs_jd1l3b0w2tk4cdqxj00000gn/T/ipykernel_7675/3897689062.py:13: SettingWithCopyWarning: \n",
      "A value is trying to be set on a copy of a slice from a DataFrame.\n",
      "Try using .loc[row_indexer,col_indexer] = value instead\n",
      "\n",
      "See the caveats in the documentation: https://pandas.pydata.org/pandas-docs/stable/user_guide/indexing.html#returning-a-view-versus-a-copy\n",
      "  plot_data_panel_a.loc[:, f'share-grossco2_{reg}_{year}'] = (\n",
      "/var/folders/yw/qzffs_jd1l3b0w2tk4cdqxj00000gn/T/ipykernel_7675/3897689062.py:18: SettingWithCopyWarning: \n",
      "A value is trying to be set on a copy of a slice from a DataFrame.\n",
      "Try using .loc[row_indexer,col_indexer] = value instead\n",
      "\n",
      "See the caveats in the documentation: https://pandas.pydata.org/pandas-docs/stable/user_guide/indexing.html#returning-a-view-versus-a-copy\n",
      "  plot_data_panel_a.loc[:, f'share-nonco2_{reg}_{year}'] = (\n",
      "/var/folders/yw/qzffs_jd1l3b0w2tk4cdqxj00000gn/T/ipykernel_7675/3897689062.py:23: SettingWithCopyWarning: \n",
      "A value is trying to be set on a copy of a slice from a DataFrame.\n",
      "Try using .loc[row_indexer,col_indexer] = value instead\n",
      "\n",
      "See the caveats in the documentation: https://pandas.pydata.org/pandas-docs/stable/user_guide/indexing.html#returning-a-view-versus-a-copy\n",
      "  plot_data_panel_a.loc[:, f'share-land-cdr_{reg}_{year}'] = (\n",
      "/var/folders/yw/qzffs_jd1l3b0w2tk4cdqxj00000gn/T/ipykernel_7675/3897689062.py:3: SettingWithCopyWarning: \n",
      "A value is trying to be set on a copy of a slice from a DataFrame.\n",
      "Try using .loc[row_indexer,col_indexer] = value instead\n",
      "\n",
      "See the caveats in the documentation: https://pandas.pydata.org/pandas-docs/stable/user_guide/indexing.html#returning-a-view-versus-a-copy\n",
      "  plot_data_panel_a.loc[:, f'total-gross_{reg}_{year}'] = (\n",
      "/var/folders/yw/qzffs_jd1l3b0w2tk4cdqxj00000gn/T/ipykernel_7675/3897689062.py:8: SettingWithCopyWarning: \n",
      "A value is trying to be set on a copy of a slice from a DataFrame.\n",
      "Try using .loc[row_indexer,col_indexer] = value instead\n",
      "\n",
      "See the caveats in the documentation: https://pandas.pydata.org/pandas-docs/stable/user_guide/indexing.html#returning-a-view-versus-a-copy\n",
      "  plot_data_panel_a.loc[:, f'net_{reg}_{year}'] = (\n",
      "/var/folders/yw/qzffs_jd1l3b0w2tk4cdqxj00000gn/T/ipykernel_7675/3897689062.py:13: SettingWithCopyWarning: \n",
      "A value is trying to be set on a copy of a slice from a DataFrame.\n",
      "Try using .loc[row_indexer,col_indexer] = value instead\n",
      "\n",
      "See the caveats in the documentation: https://pandas.pydata.org/pandas-docs/stable/user_guide/indexing.html#returning-a-view-versus-a-copy\n",
      "  plot_data_panel_a.loc[:, f'share-grossco2_{reg}_{year}'] = (\n",
      "/var/folders/yw/qzffs_jd1l3b0w2tk4cdqxj00000gn/T/ipykernel_7675/3897689062.py:18: SettingWithCopyWarning: \n",
      "A value is trying to be set on a copy of a slice from a DataFrame.\n",
      "Try using .loc[row_indexer,col_indexer] = value instead\n",
      "\n",
      "See the caveats in the documentation: https://pandas.pydata.org/pandas-docs/stable/user_guide/indexing.html#returning-a-view-versus-a-copy\n",
      "  plot_data_panel_a.loc[:, f'share-nonco2_{reg}_{year}'] = (\n",
      "/var/folders/yw/qzffs_jd1l3b0w2tk4cdqxj00000gn/T/ipykernel_7675/3897689062.py:23: SettingWithCopyWarning: \n",
      "A value is trying to be set on a copy of a slice from a DataFrame.\n",
      "Try using .loc[row_indexer,col_indexer] = value instead\n",
      "\n",
      "See the caveats in the documentation: https://pandas.pydata.org/pandas-docs/stable/user_guide/indexing.html#returning-a-view-versus-a-copy\n",
      "  plot_data_panel_a.loc[:, f'share-land-cdr_{reg}_{year}'] = (\n",
      "/var/folders/yw/qzffs_jd1l3b0w2tk4cdqxj00000gn/T/ipykernel_7675/3897689062.py:3: SettingWithCopyWarning: \n",
      "A value is trying to be set on a copy of a slice from a DataFrame.\n",
      "Try using .loc[row_indexer,col_indexer] = value instead\n",
      "\n",
      "See the caveats in the documentation: https://pandas.pydata.org/pandas-docs/stable/user_guide/indexing.html#returning-a-view-versus-a-copy\n",
      "  plot_data_panel_a.loc[:, f'total-gross_{reg}_{year}'] = (\n",
      "/var/folders/yw/qzffs_jd1l3b0w2tk4cdqxj00000gn/T/ipykernel_7675/3897689062.py:8: SettingWithCopyWarning: \n",
      "A value is trying to be set on a copy of a slice from a DataFrame.\n",
      "Try using .loc[row_indexer,col_indexer] = value instead\n",
      "\n",
      "See the caveats in the documentation: https://pandas.pydata.org/pandas-docs/stable/user_guide/indexing.html#returning-a-view-versus-a-copy\n",
      "  plot_data_panel_a.loc[:, f'net_{reg}_{year}'] = (\n",
      "/var/folders/yw/qzffs_jd1l3b0w2tk4cdqxj00000gn/T/ipykernel_7675/3897689062.py:13: SettingWithCopyWarning: \n",
      "A value is trying to be set on a copy of a slice from a DataFrame.\n",
      "Try using .loc[row_indexer,col_indexer] = value instead\n",
      "\n",
      "See the caveats in the documentation: https://pandas.pydata.org/pandas-docs/stable/user_guide/indexing.html#returning-a-view-versus-a-copy\n",
      "  plot_data_panel_a.loc[:, f'share-grossco2_{reg}_{year}'] = (\n",
      "/var/folders/yw/qzffs_jd1l3b0w2tk4cdqxj00000gn/T/ipykernel_7675/3897689062.py:18: SettingWithCopyWarning: \n",
      "A value is trying to be set on a copy of a slice from a DataFrame.\n",
      "Try using .loc[row_indexer,col_indexer] = value instead\n",
      "\n",
      "See the caveats in the documentation: https://pandas.pydata.org/pandas-docs/stable/user_guide/indexing.html#returning-a-view-versus-a-copy\n",
      "  plot_data_panel_a.loc[:, f'share-nonco2_{reg}_{year}'] = (\n",
      "/var/folders/yw/qzffs_jd1l3b0w2tk4cdqxj00000gn/T/ipykernel_7675/3897689062.py:23: SettingWithCopyWarning: \n",
      "A value is trying to be set on a copy of a slice from a DataFrame.\n",
      "Try using .loc[row_indexer,col_indexer] = value instead\n",
      "\n",
      "See the caveats in the documentation: https://pandas.pydata.org/pandas-docs/stable/user_guide/indexing.html#returning-a-view-versus-a-copy\n",
      "  plot_data_panel_a.loc[:, f'share-land-cdr_{reg}_{year}'] = (\n",
      "/var/folders/yw/qzffs_jd1l3b0w2tk4cdqxj00000gn/T/ipykernel_7675/3897689062.py:3: SettingWithCopyWarning: \n",
      "A value is trying to be set on a copy of a slice from a DataFrame.\n",
      "Try using .loc[row_indexer,col_indexer] = value instead\n",
      "\n",
      "See the caveats in the documentation: https://pandas.pydata.org/pandas-docs/stable/user_guide/indexing.html#returning-a-view-versus-a-copy\n",
      "  plot_data_panel_a.loc[:, f'total-gross_{reg}_{year}'] = (\n",
      "/var/folders/yw/qzffs_jd1l3b0w2tk4cdqxj00000gn/T/ipykernel_7675/3897689062.py:8: SettingWithCopyWarning: \n",
      "A value is trying to be set on a copy of a slice from a DataFrame.\n",
      "Try using .loc[row_indexer,col_indexer] = value instead\n",
      "\n",
      "See the caveats in the documentation: https://pandas.pydata.org/pandas-docs/stable/user_guide/indexing.html#returning-a-view-versus-a-copy\n",
      "  plot_data_panel_a.loc[:, f'net_{reg}_{year}'] = (\n",
      "/var/folders/yw/qzffs_jd1l3b0w2tk4cdqxj00000gn/T/ipykernel_7675/3897689062.py:13: SettingWithCopyWarning: \n",
      "A value is trying to be set on a copy of a slice from a DataFrame.\n",
      "Try using .loc[row_indexer,col_indexer] = value instead\n",
      "\n",
      "See the caveats in the documentation: https://pandas.pydata.org/pandas-docs/stable/user_guide/indexing.html#returning-a-view-versus-a-copy\n",
      "  plot_data_panel_a.loc[:, f'share-grossco2_{reg}_{year}'] = (\n",
      "/var/folders/yw/qzffs_jd1l3b0w2tk4cdqxj00000gn/T/ipykernel_7675/3897689062.py:18: SettingWithCopyWarning: \n",
      "A value is trying to be set on a copy of a slice from a DataFrame.\n",
      "Try using .loc[row_indexer,col_indexer] = value instead\n",
      "\n",
      "See the caveats in the documentation: https://pandas.pydata.org/pandas-docs/stable/user_guide/indexing.html#returning-a-view-versus-a-copy\n",
      "  plot_data_panel_a.loc[:, f'share-nonco2_{reg}_{year}'] = (\n",
      "/var/folders/yw/qzffs_jd1l3b0w2tk4cdqxj00000gn/T/ipykernel_7675/3897689062.py:23: SettingWithCopyWarning: \n",
      "A value is trying to be set on a copy of a slice from a DataFrame.\n",
      "Try using .loc[row_indexer,col_indexer] = value instead\n",
      "\n",
      "See the caveats in the documentation: https://pandas.pydata.org/pandas-docs/stable/user_guide/indexing.html#returning-a-view-versus-a-copy\n",
      "  plot_data_panel_a.loc[:, f'share-land-cdr_{reg}_{year}'] = (\n",
      "/var/folders/yw/qzffs_jd1l3b0w2tk4cdqxj00000gn/T/ipykernel_7675/3897689062.py:3: SettingWithCopyWarning: \n",
      "A value is trying to be set on a copy of a slice from a DataFrame.\n",
      "Try using .loc[row_indexer,col_indexer] = value instead\n",
      "\n",
      "See the caveats in the documentation: https://pandas.pydata.org/pandas-docs/stable/user_guide/indexing.html#returning-a-view-versus-a-copy\n",
      "  plot_data_panel_a.loc[:, f'total-gross_{reg}_{year}'] = (\n",
      "/var/folders/yw/qzffs_jd1l3b0w2tk4cdqxj00000gn/T/ipykernel_7675/3897689062.py:8: SettingWithCopyWarning: \n",
      "A value is trying to be set on a copy of a slice from a DataFrame.\n",
      "Try using .loc[row_indexer,col_indexer] = value instead\n",
      "\n",
      "See the caveats in the documentation: https://pandas.pydata.org/pandas-docs/stable/user_guide/indexing.html#returning-a-view-versus-a-copy\n",
      "  plot_data_panel_a.loc[:, f'net_{reg}_{year}'] = (\n",
      "/var/folders/yw/qzffs_jd1l3b0w2tk4cdqxj00000gn/T/ipykernel_7675/3897689062.py:13: SettingWithCopyWarning: \n",
      "A value is trying to be set on a copy of a slice from a DataFrame.\n",
      "Try using .loc[row_indexer,col_indexer] = value instead\n",
      "\n",
      "See the caveats in the documentation: https://pandas.pydata.org/pandas-docs/stable/user_guide/indexing.html#returning-a-view-versus-a-copy\n",
      "  plot_data_panel_a.loc[:, f'share-grossco2_{reg}_{year}'] = (\n",
      "/var/folders/yw/qzffs_jd1l3b0w2tk4cdqxj00000gn/T/ipykernel_7675/3897689062.py:18: SettingWithCopyWarning: \n",
      "A value is trying to be set on a copy of a slice from a DataFrame.\n",
      "Try using .loc[row_indexer,col_indexer] = value instead\n",
      "\n",
      "See the caveats in the documentation: https://pandas.pydata.org/pandas-docs/stable/user_guide/indexing.html#returning-a-view-versus-a-copy\n",
      "  plot_data_panel_a.loc[:, f'share-nonco2_{reg}_{year}'] = (\n",
      "/var/folders/yw/qzffs_jd1l3b0w2tk4cdqxj00000gn/T/ipykernel_7675/3897689062.py:23: SettingWithCopyWarning: \n",
      "A value is trying to be set on a copy of a slice from a DataFrame.\n",
      "Try using .loc[row_indexer,col_indexer] = value instead\n",
      "\n",
      "See the caveats in the documentation: https://pandas.pydata.org/pandas-docs/stable/user_guide/indexing.html#returning-a-view-versus-a-copy\n",
      "  plot_data_panel_a.loc[:, f'share-land-cdr_{reg}_{year}'] = (\n"
     ]
    },
    {
     "data": {
      "application/javascript": "\n            setTimeout(function() {\n                var nbb_cell_id = 14;\n                var nbb_unformatted_code = \"for reg in df_compiled.region:\\n    for year in ['2020-netzero', 'netzero-2100']:\\n        plot_data_panel_a.loc[:, f'total-gross_{reg}_{year}'] = (\\n            plot_data_panel_a.loc[:, f'gross_{reg}_{year}']\\n            + \\n            plot_data_panel_a.loc[:, f'nonco2_{reg}_{year}']\\n        )\\n        plot_data_panel_a.loc[:, f'net_{reg}_{year}'] = (\\n            plot_data_panel_a.loc[:, f'total-gross_{reg}_{year}']\\n            + \\n            plot_data_panel_a.loc[:, f'cdr_{reg}_{year}']\\n        )\\n        plot_data_panel_a.loc[:, f'share-grossco2_{reg}_{year}'] = (\\n            plot_data_panel_a.loc[:, f'gross_{reg}_{year}']\\n            / \\n            plot_data_panel_a.loc[:, f'total-gross_{reg}_{year}']\\n        )\\n        plot_data_panel_a.loc[:, f'share-nonco2_{reg}_{year}'] = (\\n            plot_data_panel_a.loc[:, f'nonco2_{reg}_{year}']\\n            / \\n            plot_data_panel_a.loc[:, f'total-gross_{reg}_{year}']\\n        )\\n        plot_data_panel_a.loc[:, f'share-land-cdr_{reg}_{year}'] = (\\n            plot_data_panel_a.loc[:, f'cdr-land_{reg}_{year}']\\n            / \\n            plot_data_panel_a.loc[:, f'cdr_{reg}_{year}']\\n        )\";\n                var nbb_formatted_code = \"for reg in df_compiled.region:\\n    for year in [\\\"2020-netzero\\\", \\\"netzero-2100\\\"]:\\n        plot_data_panel_a.loc[:, f\\\"total-gross_{reg}_{year}\\\"] = (\\n            plot_data_panel_a.loc[:, f\\\"gross_{reg}_{year}\\\"]\\n            + plot_data_panel_a.loc[:, f\\\"nonco2_{reg}_{year}\\\"]\\n        )\\n        plot_data_panel_a.loc[:, f\\\"net_{reg}_{year}\\\"] = (\\n            plot_data_panel_a.loc[:, f\\\"total-gross_{reg}_{year}\\\"]\\n            + plot_data_panel_a.loc[:, f\\\"cdr_{reg}_{year}\\\"]\\n        )\\n        plot_data_panel_a.loc[:, f\\\"share-grossco2_{reg}_{year}\\\"] = (\\n            plot_data_panel_a.loc[:, f\\\"gross_{reg}_{year}\\\"]\\n            / plot_data_panel_a.loc[:, f\\\"total-gross_{reg}_{year}\\\"]\\n        )\\n        plot_data_panel_a.loc[:, f\\\"share-nonco2_{reg}_{year}\\\"] = (\\n            plot_data_panel_a.loc[:, f\\\"nonco2_{reg}_{year}\\\"]\\n            / plot_data_panel_a.loc[:, f\\\"total-gross_{reg}_{year}\\\"]\\n        )\\n        plot_data_panel_a.loc[:, f\\\"share-land-cdr_{reg}_{year}\\\"] = (\\n            plot_data_panel_a.loc[:, f\\\"cdr-land_{reg}_{year}\\\"]\\n            / plot_data_panel_a.loc[:, f\\\"cdr_{reg}_{year}\\\"]\\n        )\";\n                var nbb_cells = Jupyter.notebook.get_cells();\n                for (var i = 0; i < nbb_cells.length; ++i) {\n                    if (nbb_cells[i].input_prompt_number == nbb_cell_id) {\n                        if (nbb_cells[i].get_text() == nbb_unformatted_code) {\n                             nbb_cells[i].set_text(nbb_formatted_code);\n                        }\n                        break;\n                    }\n                }\n            }, 500);\n            ",
      "text/plain": [
       "<IPython.core.display.Javascript object>"
      ]
     },
     "metadata": {},
     "output_type": "display_data"
    }
   ],
   "source": [
    "for reg in df_compiled.region:\n",
    "    for year in ['2020-netzero', 'netzero-2100']:\n",
    "        plot_data_panel_a.loc[:, f'total-gross_{reg}_{year}'] = (\n",
    "            plot_data_panel_a.loc[:, f'gross_{reg}_{year}']\n",
    "            + \n",
    "            plot_data_panel_a.loc[:, f'nonco2_{reg}_{year}']\n",
    "        )\n",
    "        plot_data_panel_a.loc[:, f'net_{reg}_{year}'] = (\n",
    "            plot_data_panel_a.loc[:, f'total-gross_{reg}_{year}']\n",
    "            + \n",
    "            plot_data_panel_a.loc[:, f'cdr_{reg}_{year}']\n",
    "        )\n",
    "        plot_data_panel_a.loc[:, f'share-grossco2_{reg}_{year}'] = (\n",
    "            plot_data_panel_a.loc[:, f'gross_{reg}_{year}']\n",
    "            / \n",
    "            plot_data_panel_a.loc[:, f'total-gross_{reg}_{year}']\n",
    "        )\n",
    "        plot_data_panel_a.loc[:, f'share-nonco2_{reg}_{year}'] = (\n",
    "            plot_data_panel_a.loc[:, f'nonco2_{reg}_{year}']\n",
    "            / \n",
    "            plot_data_panel_a.loc[:, f'total-gross_{reg}_{year}']\n",
    "        )\n",
    "        plot_data_panel_a.loc[:, f'share-land-cdr_{reg}_{year}'] = (\n",
    "            plot_data_panel_a.loc[:, f'cdr-land_{reg}_{year}']\n",
    "            / \n",
    "            plot_data_panel_a.loc[:, f'cdr_{reg}_{year}']\n",
    "        )"
   ]
  },
  {
   "cell_type": "markdown",
   "metadata": {},
   "source": [
    "Step 3: Now, reformat the data so we have the variable, region, and timeframe in a long dataframe."
   ]
  },
  {
   "cell_type": "code",
   "execution_count": 15,
   "metadata": {},
   "outputs": [
    {
     "data": {
      "application/javascript": "\n            setTimeout(function() {\n                var nbb_cell_id = 15;\n                var nbb_unformatted_code = \"plot_data_panel_a = (\\n    plot_data_panel_a\\n    .set_index('Category', append=True)\\n)\";\n                var nbb_formatted_code = \"plot_data_panel_a = plot_data_panel_a.set_index(\\\"Category\\\", append=True)\";\n                var nbb_cells = Jupyter.notebook.get_cells();\n                for (var i = 0; i < nbb_cells.length; ++i) {\n                    if (nbb_cells[i].input_prompt_number == nbb_cell_id) {\n                        if (nbb_cells[i].get_text() == nbb_unformatted_code) {\n                             nbb_cells[i].set_text(nbb_formatted_code);\n                        }\n                        break;\n                    }\n                }\n            }, 500);\n            ",
      "text/plain": [
       "<IPython.core.display.Javascript object>"
      ]
     },
     "metadata": {},
     "output_type": "display_data"
    }
   ],
   "source": [
    "plot_data_panel_a = (\n",
    "    plot_data_panel_a\n",
    "    .set_index('Category', append=True)\n",
    ")"
   ]
  },
  {
   "cell_type": "code",
   "execution_count": 16,
   "metadata": {},
   "outputs": [
    {
     "data": {
      "application/javascript": "\n            setTimeout(function() {\n                var nbb_cell_id = 16;\n                var nbb_unformatted_code = \"panel_a_reshaped = pd.melt(\\n    plot_data_panel_a.reset_index(), \\n    id_vars=['model', 'scenario', 'Category'], \\n    var_name='agg_variable', \\n    value_name='Value'\\n)\";\n                var nbb_formatted_code = \"panel_a_reshaped = pd.melt(\\n    plot_data_panel_a.reset_index(),\\n    id_vars=[\\\"model\\\", \\\"scenario\\\", \\\"Category\\\"],\\n    var_name=\\\"agg_variable\\\",\\n    value_name=\\\"Value\\\",\\n)\";\n                var nbb_cells = Jupyter.notebook.get_cells();\n                for (var i = 0; i < nbb_cells.length; ++i) {\n                    if (nbb_cells[i].input_prompt_number == nbb_cell_id) {\n                        if (nbb_cells[i].get_text() == nbb_unformatted_code) {\n                             nbb_cells[i].set_text(nbb_formatted_code);\n                        }\n                        break;\n                    }\n                }\n            }, 500);\n            ",
      "text/plain": [
       "<IPython.core.display.Javascript object>"
      ]
     },
     "metadata": {},
     "output_type": "display_data"
    }
   ],
   "source": [
    "panel_a_reshaped = pd.melt(\n",
    "    plot_data_panel_a.reset_index(), \n",
    "    id_vars=['model', 'scenario', 'Category'], \n",
    "    var_name='agg_variable', \n",
    "    value_name='Value'\n",
    ")"
   ]
  },
  {
   "cell_type": "code",
   "execution_count": 17,
   "metadata": {},
   "outputs": [
    {
     "data": {
      "text/plain": [
       "['gross', 'R5ASIA', '2020-netzero']"
      ]
     },
     "execution_count": 17,
     "metadata": {},
     "output_type": "execute_result"
    },
    {
     "data": {
      "application/javascript": "\n            setTimeout(function() {\n                var nbb_cell_id = 17;\n                var nbb_unformatted_code = \"panel_a_reshaped['agg_variable'].str.split('_')[0]\";\n                var nbb_formatted_code = \"panel_a_reshaped[\\\"agg_variable\\\"].str.split(\\\"_\\\")[0]\";\n                var nbb_cells = Jupyter.notebook.get_cells();\n                for (var i = 0; i < nbb_cells.length; ++i) {\n                    if (nbb_cells[i].input_prompt_number == nbb_cell_id) {\n                        if (nbb_cells[i].get_text() == nbb_unformatted_code) {\n                             nbb_cells[i].set_text(nbb_formatted_code);\n                        }\n                        break;\n                    }\n                }\n            }, 500);\n            ",
      "text/plain": [
       "<IPython.core.display.Javascript object>"
      ]
     },
     "metadata": {},
     "output_type": "display_data"
    }
   ],
   "source": [
    "panel_a_reshaped['agg_variable'].str.split('_')[0]"
   ]
  },
  {
   "cell_type": "code",
   "execution_count": 18,
   "metadata": {},
   "outputs": [
    {
     "data": {
      "application/javascript": "\n            setTimeout(function() {\n                var nbb_cell_id = 18;\n                var nbb_unformatted_code = \"panel_a_reshaped.loc[:, 'variable'] = (\\n    panel_a_reshaped['agg_variable']\\n    .apply(\\n        lambda x: x.split('_')[0]\\n    )\\n)\";\n                var nbb_formatted_code = \"panel_a_reshaped.loc[:, \\\"variable\\\"] = panel_a_reshaped[\\\"agg_variable\\\"].apply(\\n    lambda x: x.split(\\\"_\\\")[0]\\n)\";\n                var nbb_cells = Jupyter.notebook.get_cells();\n                for (var i = 0; i < nbb_cells.length; ++i) {\n                    if (nbb_cells[i].input_prompt_number == nbb_cell_id) {\n                        if (nbb_cells[i].get_text() == nbb_unformatted_code) {\n                             nbb_cells[i].set_text(nbb_formatted_code);\n                        }\n                        break;\n                    }\n                }\n            }, 500);\n            ",
      "text/plain": [
       "<IPython.core.display.Javascript object>"
      ]
     },
     "metadata": {},
     "output_type": "display_data"
    }
   ],
   "source": [
    "panel_a_reshaped.loc[:, 'variable'] = (\n",
    "    panel_a_reshaped['agg_variable']\n",
    "    .apply(\n",
    "        lambda x: x.split('_')[0]\n",
    "    )\n",
    ")"
   ]
  },
  {
   "cell_type": "code",
   "execution_count": 19,
   "metadata": {},
   "outputs": [
    {
     "data": {
      "application/javascript": "\n            setTimeout(function() {\n                var nbb_cell_id = 19;\n                var nbb_unformatted_code = \"panel_a_reshaped.loc[:, 'region'] = (\\n    panel_a_reshaped['agg_variable']\\n    .apply(\\n        lambda x: x.split('_')[1]\\n    )\\n)\";\n                var nbb_formatted_code = \"panel_a_reshaped.loc[:, \\\"region\\\"] = panel_a_reshaped[\\\"agg_variable\\\"].apply(\\n    lambda x: x.split(\\\"_\\\")[1]\\n)\";\n                var nbb_cells = Jupyter.notebook.get_cells();\n                for (var i = 0; i < nbb_cells.length; ++i) {\n                    if (nbb_cells[i].input_prompt_number == nbb_cell_id) {\n                        if (nbb_cells[i].get_text() == nbb_unformatted_code) {\n                             nbb_cells[i].set_text(nbb_formatted_code);\n                        }\n                        break;\n                    }\n                }\n            }, 500);\n            ",
      "text/plain": [
       "<IPython.core.display.Javascript object>"
      ]
     },
     "metadata": {},
     "output_type": "display_data"
    }
   ],
   "source": [
    "panel_a_reshaped.loc[:, 'region'] = (\n",
    "    panel_a_reshaped['agg_variable']\n",
    "    .apply(\n",
    "        lambda x: x.split('_')[1]\n",
    "    )\n",
    ")"
   ]
  },
  {
   "cell_type": "code",
   "execution_count": 20,
   "metadata": {},
   "outputs": [
    {
     "data": {
      "application/javascript": "\n            setTimeout(function() {\n                var nbb_cell_id = 20;\n                var nbb_unformatted_code = \"panel_a_reshaped.loc[:, 'timeframe'] = (\\n    panel_a_reshaped['agg_variable']\\n    .apply(\\n        lambda x: x.split('_')[2]\\n    )\\n)\";\n                var nbb_formatted_code = \"panel_a_reshaped.loc[:, \\\"timeframe\\\"] = panel_a_reshaped[\\\"agg_variable\\\"].apply(\\n    lambda x: x.split(\\\"_\\\")[2]\\n)\";\n                var nbb_cells = Jupyter.notebook.get_cells();\n                for (var i = 0; i < nbb_cells.length; ++i) {\n                    if (nbb_cells[i].input_prompt_number == nbb_cell_id) {\n                        if (nbb_cells[i].get_text() == nbb_unformatted_code) {\n                             nbb_cells[i].set_text(nbb_formatted_code);\n                        }\n                        break;\n                    }\n                }\n            }, 500);\n            ",
      "text/plain": [
       "<IPython.core.display.Javascript object>"
      ]
     },
     "metadata": {},
     "output_type": "display_data"
    }
   ],
   "source": [
    "panel_a_reshaped.loc[:, 'timeframe'] = (\n",
    "    panel_a_reshaped['agg_variable']\n",
    "    .apply(\n",
    "        lambda x: x.split('_')[2]\n",
    "    )\n",
    ")"
   ]
  },
  {
   "cell_type": "code",
   "execution_count": 21,
   "metadata": {},
   "outputs": [
    {
     "data": {
      "application/javascript": "\n            setTimeout(function() {\n                var nbb_cell_id = 21;\n                var nbb_unformatted_code = \"panel_a_reshaped.drop(\\n    columns='agg_variable',\\n    inplace=True\\n)\";\n                var nbb_formatted_code = \"panel_a_reshaped.drop(columns=\\\"agg_variable\\\", inplace=True)\";\n                var nbb_cells = Jupyter.notebook.get_cells();\n                for (var i = 0; i < nbb_cells.length; ++i) {\n                    if (nbb_cells[i].input_prompt_number == nbb_cell_id) {\n                        if (nbb_cells[i].get_text() == nbb_unformatted_code) {\n                             nbb_cells[i].set_text(nbb_formatted_code);\n                        }\n                        break;\n                    }\n                }\n            }, 500);\n            ",
      "text/plain": [
       "<IPython.core.display.Javascript object>"
      ]
     },
     "metadata": {},
     "output_type": "display_data"
    }
   ],
   "source": [
    "panel_a_reshaped.drop(\n",
    "    columns='agg_variable',\n",
    "    inplace=True\n",
    ")"
   ]
  },
  {
   "cell_type": "code",
   "execution_count": 22,
   "metadata": {},
   "outputs": [
    {
     "data": {
      "text/html": [
       "<div>\n",
       "<style scoped>\n",
       "    .dataframe tbody tr th:only-of-type {\n",
       "        vertical-align: middle;\n",
       "    }\n",
       "\n",
       "    .dataframe tbody tr th {\n",
       "        vertical-align: top;\n",
       "    }\n",
       "\n",
       "    .dataframe thead tr th {\n",
       "        text-align: left;\n",
       "    }\n",
       "\n",
       "    .dataframe thead tr:last-of-type th {\n",
       "        text-align: right;\n",
       "    }\n",
       "</style>\n",
       "<table border=\"1\" class=\"dataframe\">\n",
       "  <thead>\n",
       "    <tr>\n",
       "      <th></th>\n",
       "      <th></th>\n",
       "      <th></th>\n",
       "      <th></th>\n",
       "      <th colspan=\"4\" halign=\"left\">Value</th>\n",
       "    </tr>\n",
       "    <tr>\n",
       "      <th></th>\n",
       "      <th></th>\n",
       "      <th></th>\n",
       "      <th></th>\n",
       "      <th>count</th>\n",
       "      <th>25%</th>\n",
       "      <th>50%</th>\n",
       "      <th>75%</th>\n",
       "    </tr>\n",
       "    <tr>\n",
       "      <th>Category</th>\n",
       "      <th>region</th>\n",
       "      <th>variable</th>\n",
       "      <th>timeframe</th>\n",
       "      <th></th>\n",
       "      <th></th>\n",
       "      <th></th>\n",
       "      <th></th>\n",
       "    </tr>\n",
       "  </thead>\n",
       "  <tbody>\n",
       "    <tr>\n",
       "      <th rowspan=\"5\" valign=\"top\">C1</th>\n",
       "      <th rowspan=\"5\" valign=\"top\">R5ASIA</th>\n",
       "      <th rowspan=\"2\" valign=\"top\">cdr</th>\n",
       "      <th>2020-netzero</th>\n",
       "      <td>70.0</td>\n",
       "      <td>-100.33</td>\n",
       "      <td>-66.16</td>\n",
       "      <td>-52.99</td>\n",
       "    </tr>\n",
       "    <tr>\n",
       "      <th>netzero-2100</th>\n",
       "      <td>70.0</td>\n",
       "      <td>-194.53</td>\n",
       "      <td>-141.68</td>\n",
       "      <td>-123.41</td>\n",
       "    </tr>\n",
       "    <tr>\n",
       "      <th rowspan=\"2\" valign=\"top\">cdr-land</th>\n",
       "      <th>2020-netzero</th>\n",
       "      <td>70.0</td>\n",
       "      <td>-80.60</td>\n",
       "      <td>-50.41</td>\n",
       "      <td>-39.22</td>\n",
       "    </tr>\n",
       "    <tr>\n",
       "      <th>netzero-2100</th>\n",
       "      <td>70.0</td>\n",
       "      <td>-72.28</td>\n",
       "      <td>-66.42</td>\n",
       "      <td>-52.82</td>\n",
       "    </tr>\n",
       "    <tr>\n",
       "      <th>gross</th>\n",
       "      <th>2020-netzero</th>\n",
       "      <td>70.0</td>\n",
       "      <td>233.99</td>\n",
       "      <td>276.80</td>\n",
       "      <td>311.16</td>\n",
       "    </tr>\n",
       "    <tr>\n",
       "      <th>...</th>\n",
       "      <th>...</th>\n",
       "      <th>...</th>\n",
       "      <th>...</th>\n",
       "      <td>...</td>\n",
       "      <td>...</td>\n",
       "      <td>...</td>\n",
       "      <td>...</td>\n",
       "    </tr>\n",
       "    <tr>\n",
       "      <th rowspan=\"5\" valign=\"top\">C3</th>\n",
       "      <th rowspan=\"5\" valign=\"top\">World</th>\n",
       "      <th>share-land-cdr</th>\n",
       "      <th>netzero-2100</th>\n",
       "      <td>229.0</td>\n",
       "      <td>0.22</td>\n",
       "      <td>0.32</td>\n",
       "      <td>0.43</td>\n",
       "    </tr>\n",
       "    <tr>\n",
       "      <th rowspan=\"2\" valign=\"top\">share-nonco2</th>\n",
       "      <th>2020-netzero</th>\n",
       "      <td>229.0</td>\n",
       "      <td>0.27</td>\n",
       "      <td>0.30</td>\n",
       "      <td>0.33</td>\n",
       "    </tr>\n",
       "    <tr>\n",
       "      <th>netzero-2100</th>\n",
       "      <td>229.0</td>\n",
       "      <td>0.35</td>\n",
       "      <td>0.41</td>\n",
       "      <td>0.51</td>\n",
       "    </tr>\n",
       "    <tr>\n",
       "      <th rowspan=\"2\" valign=\"top\">total-gross</th>\n",
       "      <th>2020-netzero</th>\n",
       "      <td>229.0</td>\n",
       "      <td>1506.77</td>\n",
       "      <td>1674.83</td>\n",
       "      <td>1860.66</td>\n",
       "    </tr>\n",
       "    <tr>\n",
       "      <th>netzero-2100</th>\n",
       "      <td>229.0</td>\n",
       "      <td>376.92</td>\n",
       "      <td>468.40</td>\n",
       "      <td>592.74</td>\n",
       "    </tr>\n",
       "  </tbody>\n",
       "</table>\n",
       "<p>324 rows × 4 columns</p>\n",
       "</div>"
      ],
      "text/plain": [
       "                                             Value                           \n",
       "                                             count      25%      50%      75%\n",
       "Category region variable       timeframe                                     \n",
       "C1       R5ASIA cdr            2020-netzero   70.0  -100.33   -66.16   -52.99\n",
       "                               netzero-2100   70.0  -194.53  -141.68  -123.41\n",
       "                cdr-land       2020-netzero   70.0   -80.60   -50.41   -39.22\n",
       "                               netzero-2100   70.0   -72.28   -66.42   -52.82\n",
       "                gross          2020-netzero   70.0   233.99   276.80   311.16\n",
       "...                                            ...      ...      ...      ...\n",
       "C3       World  share-land-cdr netzero-2100  229.0     0.22     0.32     0.43\n",
       "                share-nonco2   2020-netzero  229.0     0.27     0.30     0.33\n",
       "                               netzero-2100  229.0     0.35     0.41     0.51\n",
       "                total-gross    2020-netzero  229.0  1506.77  1674.83  1860.66\n",
       "                               netzero-2100  229.0   376.92   468.40   592.74\n",
       "\n",
       "[324 rows x 4 columns]"
      ]
     },
     "execution_count": 22,
     "metadata": {},
     "output_type": "execute_result"
    },
    {
     "data": {
      "application/javascript": "\n            setTimeout(function() {\n                var nbb_cell_id = 22;\n                var nbb_unformatted_code = \"(\\n    panel_a_reshaped\\n    .groupby(\\n        ['Category', 'region', 'variable', 'timeframe']\\n    )\\n    .describe()\\n    .round(2)\\n    .loc[\\n        :, pd.IndexSlice[:, ['count', '25%', '50%', '75%']]\\n    ]\\n)\";\n                var nbb_formatted_code = \"(\\n    panel_a_reshaped.groupby([\\\"Category\\\", \\\"region\\\", \\\"variable\\\", \\\"timeframe\\\"])\\n    .describe()\\n    .round(2)\\n    .loc[:, pd.IndexSlice[:, [\\\"count\\\", \\\"25%\\\", \\\"50%\\\", \\\"75%\\\"]]]\\n)\";\n                var nbb_cells = Jupyter.notebook.get_cells();\n                for (var i = 0; i < nbb_cells.length; ++i) {\n                    if (nbb_cells[i].input_prompt_number == nbb_cell_id) {\n                        if (nbb_cells[i].get_text() == nbb_unformatted_code) {\n                             nbb_cells[i].set_text(nbb_formatted_code);\n                        }\n                        break;\n                    }\n                }\n            }, 500);\n            ",
      "text/plain": [
       "<IPython.core.display.Javascript object>"
      ]
     },
     "metadata": {},
     "output_type": "display_data"
    }
   ],
   "source": [
    "(\n",
    "    panel_a_reshaped\n",
    "    .groupby(\n",
    "        ['Category', 'region', 'variable', 'timeframe']\n",
    "    )\n",
    "    .describe()\n",
    "    .round(2)\n",
    "    .loc[\n",
    "        :, pd.IndexSlice[:, ['count', '25%', '50%', '75%']]\n",
    "    ]\n",
    ")"
   ]
  },
  {
   "cell_type": "code",
   "execution_count": 23,
   "metadata": {},
   "outputs": [
    {
     "data": {
      "application/javascript": "\n            setTimeout(function() {\n                var nbb_cell_id = 23;\n                var nbb_unformatted_code = \"panel_a_reshaped.to_csv(\\n    Path(\\n        '../data/203_regional_data_panel_a.csv'\\n    )\\n)\";\n                var nbb_formatted_code = \"panel_a_reshaped.to_csv(Path(\\\"../data/203_regional_data_panel_a.csv\\\"))\";\n                var nbb_cells = Jupyter.notebook.get_cells();\n                for (var i = 0; i < nbb_cells.length; ++i) {\n                    if (nbb_cells[i].input_prompt_number == nbb_cell_id) {\n                        if (nbb_cells[i].get_text() == nbb_unformatted_code) {\n                             nbb_cells[i].set_text(nbb_formatted_code);\n                        }\n                        break;\n                    }\n                }\n            }, 500);\n            ",
      "text/plain": [
       "<IPython.core.display.Javascript object>"
      ]
     },
     "metadata": {},
     "output_type": "display_data"
    }
   ],
   "source": [
    "panel_a_reshaped.to_csv(\n",
    "    Path(\n",
    "        '../data/203_regional_data_panel_a.csv'\n",
    "    )\n",
    ")"
   ]
  },
  {
   "cell_type": "markdown",
   "metadata": {},
   "source": [
    "Step 4: We want to identify the regional patterns in contributions to the regional net GHG reductions:\n",
    "* 2020 - 2030\n",
    "* 2030 - 2050\n",
    "* 2050 - 2100"
   ]
  },
  {
   "cell_type": "code",
   "execution_count": 24,
   "metadata": {},
   "outputs": [
    {
     "data": {
      "application/javascript": "\n            setTimeout(function() {\n                var nbb_cell_id = 24;\n                var nbb_unformatted_code = \"time_periods = [\\n    (2020, 2030),\\n    (2030, 2050),\\n    (2050, 2100)\\n]\";\n                var nbb_formatted_code = \"time_periods = [(2020, 2030), (2030, 2050), (2050, 2100)]\";\n                var nbb_cells = Jupyter.notebook.get_cells();\n                for (var i = 0; i < nbb_cells.length; ++i) {\n                    if (nbb_cells[i].input_prompt_number == nbb_cell_id) {\n                        if (nbb_cells[i].get_text() == nbb_unformatted_code) {\n                             nbb_cells[i].set_text(nbb_formatted_code);\n                        }\n                        break;\n                    }\n                }\n            }, 500);\n            ",
      "text/plain": [
       "<IPython.core.display.Javascript object>"
      ]
     },
     "metadata": {},
     "output_type": "display_data"
    }
   ],
   "source": [
    "time_periods = [\n",
    "    (2020, 2030),\n",
    "    (2030, 2050),\n",
    "    (2050, 2100)\n",
    "]"
   ]
  },
  {
   "cell_type": "code",
   "execution_count": 25,
   "metadata": {},
   "outputs": [
    {
     "data": {
      "application/javascript": "\n            setTimeout(function() {\n                var nbb_cell_id = 25;\n                var nbb_unformatted_code = \"def format_output_data_frame(df, cols_select,  variable_name, summarise=True):\\n    \\\"\\\"\\\"Function to help format the output dataframe\\\"\\\"\\\"\\n    cols_to_melt = set(cols_select) - set('Category')\\n    melted_data = pd.melt(\\n        frame=df,\\n        id_vars=['model', 'scenario', 'Category'],\\n        value_vars=cols_to_melt\\n    )\\n    #Now, we split the variable column\\n    melted_data.loc[:, 'region'] = (\\n        melted_data.loc[:,'variable'].apply(\\n            lambda x: x.split('_')[1]\\n        )\\n    )\\n    melted_data.loc[:, 'timeframe'] = (\\n        melted_data.loc[:,'variable'].apply(\\n            lambda x: x.split('_')[2] + '-' + x.split('_')[3]\\n        )\\n    )\\n    melted_data.loc[:, 'variable'] = variable_name\\n    if summarise:\\n        summarised_data_raw = (\\n            melted_data\\n            .groupby(['Category', 'region', 'timeframe'])['value']\\n            .describe()\\n            .loc[:, ['25%', '50%', '75%']]\\n        )\\n        summarised_data_raw.loc[:, 'summary'] = (\\n            summarised_data_raw.apply(\\n                lambda x: f\\\"{x['50%']}% ({x['25%']}-{x['75%']})\\\",\\n                axis=1\\n            )\\n            \\n        )\\n        summarised_data_clean = summarised_data_raw.loc[:, 'summary'].unstack(level=-1)\\n        summarised_data_clean.loc[:, 'variable'] = variable_name\\n    return melted_data, summarised_data_clean\";\n                var nbb_formatted_code = \"def format_output_data_frame(df, cols_select, variable_name, summarise=True):\\n    \\\"\\\"\\\"Function to help format the output dataframe\\\"\\\"\\\"\\n    cols_to_melt = set(cols_select) - set(\\\"Category\\\")\\n    melted_data = pd.melt(\\n        frame=df, id_vars=[\\\"model\\\", \\\"scenario\\\", \\\"Category\\\"], value_vars=cols_to_melt\\n    )\\n    # Now, we split the variable column\\n    melted_data.loc[:, \\\"region\\\"] = melted_data.loc[:, \\\"variable\\\"].apply(\\n        lambda x: x.split(\\\"_\\\")[1]\\n    )\\n    melted_data.loc[:, \\\"timeframe\\\"] = melted_data.loc[:, \\\"variable\\\"].apply(\\n        lambda x: x.split(\\\"_\\\")[2] + \\\"-\\\" + x.split(\\\"_\\\")[3]\\n    )\\n    melted_data.loc[:, \\\"variable\\\"] = variable_name\\n    if summarise:\\n        summarised_data_raw = (\\n            melted_data.groupby([\\\"Category\\\", \\\"region\\\", \\\"timeframe\\\"])[\\\"value\\\"]\\n            .describe()\\n            .loc[:, [\\\"25%\\\", \\\"50%\\\", \\\"75%\\\"]]\\n        )\\n        summarised_data_raw.loc[:, \\\"summary\\\"] = summarised_data_raw.apply(\\n            lambda x: f\\\"{x['50%']}% ({x['25%']}-{x['75%']})\\\", axis=1\\n        )\\n        summarised_data_clean = summarised_data_raw.loc[:, \\\"summary\\\"].unstack(level=-1)\\n        summarised_data_clean.loc[:, \\\"variable\\\"] = variable_name\\n    return melted_data, summarised_data_clean\";\n                var nbb_cells = Jupyter.notebook.get_cells();\n                for (var i = 0; i < nbb_cells.length; ++i) {\n                    if (nbb_cells[i].input_prompt_number == nbb_cell_id) {\n                        if (nbb_cells[i].get_text() == nbb_unformatted_code) {\n                             nbb_cells[i].set_text(nbb_formatted_code);\n                        }\n                        break;\n                    }\n                }\n            }, 500);\n            ",
      "text/plain": [
       "<IPython.core.display.Javascript object>"
      ]
     },
     "metadata": {},
     "output_type": "display_data"
    }
   ],
   "source": [
    "def format_output_data_frame(df, cols_select,  variable_name, summarise=True):\n",
    "    \"\"\"Function to help format the output dataframe\"\"\"\n",
    "    cols_to_melt = set(cols_select) - set('Category')\n",
    "    melted_data = pd.melt(\n",
    "        frame=df,\n",
    "        id_vars=['model', 'scenario', 'Category'],\n",
    "        value_vars=cols_to_melt\n",
    "    )\n",
    "    #Now, we split the variable column\n",
    "    melted_data.loc[:, 'region'] = (\n",
    "        melted_data.loc[:,'variable'].apply(\n",
    "            lambda x: x.split('_')[1]\n",
    "        )\n",
    "    )\n",
    "    melted_data.loc[:, 'timeframe'] = (\n",
    "        melted_data.loc[:,'variable'].apply(\n",
    "            lambda x: x.split('_')[2] + '-' + x.split('_')[3]\n",
    "        )\n",
    "    )\n",
    "    melted_data.loc[:, 'variable'] = variable_name\n",
    "    if summarise:\n",
    "        summarised_data_raw = (\n",
    "            melted_data\n",
    "            .groupby(['Category', 'region', 'timeframe'])['value']\n",
    "            .describe()\n",
    "            .loc[:, ['25%', '50%', '75%']]\n",
    "        )\n",
    "        summarised_data_raw.loc[:, 'summary'] = (\n",
    "            summarised_data_raw.apply(\n",
    "                lambda x: f\"{x['50%']}% ({x['25%']}-{x['75%']})\",\n",
    "                axis=1\n",
    "            )\n",
    "            \n",
    "        )\n",
    "        summarised_data_clean = summarised_data_raw.loc[:, 'summary'].unstack(level=-1)\n",
    "        summarised_data_clean.loc[:, 'variable'] = variable_name\n",
    "    return melted_data, summarised_data_clean"
   ]
  },
  {
   "cell_type": "markdown",
   "metadata": {},
   "source": [
    "Step 5: Now, for each region, we want to take a closer look at the role of gross reductions, non CO2 and CDR."
   ]
  },
  {
   "cell_type": "code",
   "execution_count": 26,
   "metadata": {},
   "outputs": [
    {
     "data": {
      "application/javascript": "\n            setTimeout(function() {\n                var nbb_cell_id = 26;\n                var nbb_unformatted_code = \"def crunch_through_and_summarise_per_region(df, region):\\n    \\\"\\\"\\\"Helper function to crunch through the regional summaries\\\"\\\"\\\"\\n    total_variable = 'AR6 Reanalysis|OSCARv3.2|Emissions|Kyoto Gases|Direct Only'\\n    component_variables = [\\n        ('AR6 Reanalysis|OSCARv3.2|Emissions|CO2|Gross', 'gross'),\\n        ('AR6 Reanalysis|OSCARv3.2|Emissions|NonCO2|Direct Only', 'nonco2'),\\n        ('AR6 Reanalysis|OSCARv3.2|Carbon Removal|Total', 'cdr')    \\n    ]\\n    # Step 1: Pull out the regional data\\n    regional_data = (\\n        df\\n        .filter(\\n            region=region\\n        )\\n    )\\n    # Step 2\\n    for start, end in time_periods:\\n        # First calculate the total mitigation\\n        df_net = (\\n            regional_data\\n            .filter(year=range(start, end+1))\\n            .offset(year=start)\\n        )\\n        # Calculate the total mitigation burden\\n        regional_data.set_meta(\\n            meta=(\\n                df_net\\n                .filter(variable=total_variable, year=end)\\n                .timeseries()\\n                .droplevel(['region', 'variable', 'unit'])[end]\\n            ),\\n            name=f'total_mitigation_{start}_{end}'\\n        )\\n        # Per variable calculate the contributions to these reductions\\n        for variable, label in component_variables:\\n            ts = (\\n                df_net\\n                .filter(variable=variable)\\n                .timeseries()\\n                .apply(\\n                    lambda x: x * 100 / regional_data.meta.loc[x.name[0:2], f'total_mitigation_{start}_{end}'],\\n                    axis=1\\n                )\\n                .round(0)\\n            )\\n            regional_data.set_meta(\\n                meta=ts.droplevel(['region', 'variable', 'unit'])[end],\\n                name=f'{label}_{region}_{start}_{end}'\\n            )\\n    # Step 3\\n    cols = [x[1] for x in component_variables]\\n    df = []\\n    df_sum = []\\n    for var, label in component_variables:\\n        cols = [x for x in regional_data.meta if f'{label}_{region}' in x]\\n        cols.append('Category')\\n        out, out_sum = (\\n            format_output_data_frame(\\n                regional_data.meta.reset_index(),\\n                cols_select=cols,\\n                variable_name=var\\n            )\\n        )\\n        df.append(out)\\n        df_sum.append(out_sum)\\n    \\n    compiled = pd.concat(df)\\n    summary = (\\n        pd.concat(df_sum)\\n        .set_index('variable', append=True)\\n        .sort_index(level=0)\\n    )\\n    return compiled, summary\";\n                var nbb_formatted_code = \"def crunch_through_and_summarise_per_region(df, region):\\n    \\\"\\\"\\\"Helper function to crunch through the regional summaries\\\"\\\"\\\"\\n    total_variable = \\\"AR6 Reanalysis|OSCARv3.2|Emissions|Kyoto Gases|Direct Only\\\"\\n    component_variables = [\\n        (\\\"AR6 Reanalysis|OSCARv3.2|Emissions|CO2|Gross\\\", \\\"gross\\\"),\\n        (\\\"AR6 Reanalysis|OSCARv3.2|Emissions|NonCO2|Direct Only\\\", \\\"nonco2\\\"),\\n        (\\\"AR6 Reanalysis|OSCARv3.2|Carbon Removal|Total\\\", \\\"cdr\\\"),\\n    ]\\n    # Step 1: Pull out the regional data\\n    regional_data = df.filter(region=region)\\n    # Step 2\\n    for start, end in time_periods:\\n        # First calculate the total mitigation\\n        df_net = regional_data.filter(year=range(start, end + 1)).offset(year=start)\\n        # Calculate the total mitigation burden\\n        regional_data.set_meta(\\n            meta=(\\n                df_net.filter(variable=total_variable, year=end)\\n                .timeseries()\\n                .droplevel([\\\"region\\\", \\\"variable\\\", \\\"unit\\\"])[end]\\n            ),\\n            name=f\\\"total_mitigation_{start}_{end}\\\",\\n        )\\n        # Per variable calculate the contributions to these reductions\\n        for variable, label in component_variables:\\n            ts = (\\n                df_net.filter(variable=variable)\\n                .timeseries()\\n                .apply(\\n                    lambda x: x\\n                    * 100\\n                    / regional_data.meta.loc[\\n                        x.name[0:2], f\\\"total_mitigation_{start}_{end}\\\"\\n                    ],\\n                    axis=1,\\n                )\\n                .round(0)\\n            )\\n            regional_data.set_meta(\\n                meta=ts.droplevel([\\\"region\\\", \\\"variable\\\", \\\"unit\\\"])[end],\\n                name=f\\\"{label}_{region}_{start}_{end}\\\",\\n            )\\n    # Step 3\\n    cols = [x[1] for x in component_variables]\\n    df = []\\n    df_sum = []\\n    for var, label in component_variables:\\n        cols = [x for x in regional_data.meta if f\\\"{label}_{region}\\\" in x]\\n        cols.append(\\\"Category\\\")\\n        out, out_sum = format_output_data_frame(\\n            regional_data.meta.reset_index(), cols_select=cols, variable_name=var\\n        )\\n        df.append(out)\\n        df_sum.append(out_sum)\\n\\n    compiled = pd.concat(df)\\n    summary = pd.concat(df_sum).set_index(\\\"variable\\\", append=True).sort_index(level=0)\\n    return compiled, summary\";\n                var nbb_cells = Jupyter.notebook.get_cells();\n                for (var i = 0; i < nbb_cells.length; ++i) {\n                    if (nbb_cells[i].input_prompt_number == nbb_cell_id) {\n                        if (nbb_cells[i].get_text() == nbb_unformatted_code) {\n                             nbb_cells[i].set_text(nbb_formatted_code);\n                        }\n                        break;\n                    }\n                }\n            }, 500);\n            ",
      "text/plain": [
       "<IPython.core.display.Javascript object>"
      ]
     },
     "metadata": {},
     "output_type": "display_data"
    }
   ],
   "source": [
    "def crunch_through_and_summarise_per_region(df, region):\n",
    "    \"\"\"Helper function to crunch through the regional summaries\"\"\"\n",
    "    total_variable = 'AR6 Reanalysis|OSCARv3.2|Emissions|Kyoto Gases|Direct Only'\n",
    "    component_variables = [\n",
    "        ('AR6 Reanalysis|OSCARv3.2|Emissions|CO2|Gross', 'gross'),\n",
    "        ('AR6 Reanalysis|OSCARv3.2|Emissions|NonCO2|Direct Only', 'nonco2'),\n",
    "        ('AR6 Reanalysis|OSCARv3.2|Carbon Removal|Total', 'cdr')    \n",
    "    ]\n",
    "    # Step 1: Pull out the regional data\n",
    "    regional_data = (\n",
    "        df\n",
    "        .filter(\n",
    "            region=region\n",
    "        )\n",
    "    )\n",
    "    # Step 2\n",
    "    for start, end in time_periods:\n",
    "        # First calculate the total mitigation\n",
    "        df_net = (\n",
    "            regional_data\n",
    "            .filter(year=range(start, end+1))\n",
    "            .offset(year=start)\n",
    "        )\n",
    "        # Calculate the total mitigation burden\n",
    "        regional_data.set_meta(\n",
    "            meta=(\n",
    "                df_net\n",
    "                .filter(variable=total_variable, year=end)\n",
    "                .timeseries()\n",
    "                .droplevel(['region', 'variable', 'unit'])[end]\n",
    "            ),\n",
    "            name=f'total_mitigation_{start}_{end}'\n",
    "        )\n",
    "        # Per variable calculate the contributions to these reductions\n",
    "        for variable, label in component_variables:\n",
    "            ts = (\n",
    "                df_net\n",
    "                .filter(variable=variable)\n",
    "                .timeseries()\n",
    "                .apply(\n",
    "                    lambda x: x * 100 / regional_data.meta.loc[x.name[0:2], f'total_mitigation_{start}_{end}'],\n",
    "                    axis=1\n",
    "                )\n",
    "                .round(0)\n",
    "            )\n",
    "            regional_data.set_meta(\n",
    "                meta=ts.droplevel(['region', 'variable', 'unit'])[end],\n",
    "                name=f'{label}_{region}_{start}_{end}'\n",
    "            )\n",
    "    # Step 3\n",
    "    cols = [x[1] for x in component_variables]\n",
    "    df = []\n",
    "    df_sum = []\n",
    "    for var, label in component_variables:\n",
    "        cols = [x for x in regional_data.meta if f'{label}_{region}' in x]\n",
    "        cols.append('Category')\n",
    "        out, out_sum = (\n",
    "            format_output_data_frame(\n",
    "                regional_data.meta.reset_index(),\n",
    "                cols_select=cols,\n",
    "                variable_name=var\n",
    "            )\n",
    "        )\n",
    "        df.append(out)\n",
    "        df_sum.append(out_sum)\n",
    "    \n",
    "    compiled = pd.concat(df)\n",
    "    summary = (\n",
    "        pd.concat(df_sum)\n",
    "        .set_index('variable', append=True)\n",
    "        .sort_index(level=0)\n",
    "    )\n",
    "    return compiled, summary"
   ]
  },
  {
   "cell_type": "code",
   "execution_count": 27,
   "metadata": {},
   "outputs": [
    {
     "data": {
      "application/javascript": "\n            setTimeout(function() {\n                var nbb_cell_id = 27;\n                var nbb_unformatted_code = \"regs = [x for x in df_compiled.region if 'World' not in x]\";\n                var nbb_formatted_code = \"regs = [x for x in df_compiled.region if \\\"World\\\" not in x]\";\n                var nbb_cells = Jupyter.notebook.get_cells();\n                for (var i = 0; i < nbb_cells.length; ++i) {\n                    if (nbb_cells[i].input_prompt_number == nbb_cell_id) {\n                        if (nbb_cells[i].get_text() == nbb_unformatted_code) {\n                             nbb_cells[i].set_text(nbb_formatted_code);\n                        }\n                        break;\n                    }\n                }\n            }, 500);\n            ",
      "text/plain": [
       "<IPython.core.display.Javascript object>"
      ]
     },
     "metadata": {},
     "output_type": "display_data"
    }
   ],
   "source": [
    "regs = [x for x in df_compiled.region if 'World' not in x]"
   ]
  },
  {
   "cell_type": "code",
   "execution_count": 28,
   "metadata": {},
   "outputs": [
    {
     "data": {
      "text/plain": [
       "['R5ASIA', 'R5LAM', 'R5MAF', 'R5OECD90+EU', 'R5REF']"
      ]
     },
     "execution_count": 28,
     "metadata": {},
     "output_type": "execute_result"
    },
    {
     "data": {
      "application/javascript": "\n            setTimeout(function() {\n                var nbb_cell_id = 28;\n                var nbb_unformatted_code = \"regs\";\n                var nbb_formatted_code = \"regs\";\n                var nbb_cells = Jupyter.notebook.get_cells();\n                for (var i = 0; i < nbb_cells.length; ++i) {\n                    if (nbb_cells[i].input_prompt_number == nbb_cell_id) {\n                        if (nbb_cells[i].get_text() == nbb_unformatted_code) {\n                             nbb_cells[i].set_text(nbb_formatted_code);\n                        }\n                        break;\n                    }\n                }\n            }, 500);\n            ",
      "text/plain": [
       "<IPython.core.display.Javascript object>"
      ]
     },
     "metadata": {},
     "output_type": "display_data"
    }
   ],
   "source": [
    "regs"
   ]
  },
  {
   "cell_type": "code",
   "execution_count": 29,
   "metadata": {},
   "outputs": [
    {
     "data": {
      "application/javascript": "\n            setTimeout(function() {\n                var nbb_cell_id = 29;\n                var nbb_unformatted_code = \"final_reg_summary = []\\nfinal_reg_comp = []\\nfor r in regs:\\n    comp, sum = crunch_through_and_summarise_per_region(\\n        df_compiled,\\n        r\\n    )\\n    final_reg_summary.append(sum)\\n    final_reg_comp.append(comp)\";\n                var nbb_formatted_code = \"final_reg_summary = []\\nfinal_reg_comp = []\\nfor r in regs:\\n    comp, sum = crunch_through_and_summarise_per_region(df_compiled, r)\\n    final_reg_summary.append(sum)\\n    final_reg_comp.append(comp)\";\n                var nbb_cells = Jupyter.notebook.get_cells();\n                for (var i = 0; i < nbb_cells.length; ++i) {\n                    if (nbb_cells[i].input_prompt_number == nbb_cell_id) {\n                        if (nbb_cells[i].get_text() == nbb_unformatted_code) {\n                             nbb_cells[i].set_text(nbb_formatted_code);\n                        }\n                        break;\n                    }\n                }\n            }, 500);\n            ",
      "text/plain": [
       "<IPython.core.display.Javascript object>"
      ]
     },
     "metadata": {},
     "output_type": "display_data"
    }
   ],
   "source": [
    "final_reg_summary = []\n",
    "final_reg_comp = []\n",
    "for r in regs:\n",
    "    comp, sum = crunch_through_and_summarise_per_region(\n",
    "        df_compiled,\n",
    "        r\n",
    "    )\n",
    "    final_reg_summary.append(sum)\n",
    "    final_reg_comp.append(comp)"
   ]
  },
  {
   "cell_type": "code",
   "execution_count": 30,
   "metadata": {},
   "outputs": [
    {
     "data": {
      "application/javascript": "\n            setTimeout(function() {\n                var nbb_cell_id = 30;\n                var nbb_unformatted_code = \"final_reg_summary_pd = pd.concat(final_reg_summary)\";\n                var nbb_formatted_code = \"final_reg_summary_pd = pd.concat(final_reg_summary)\";\n                var nbb_cells = Jupyter.notebook.get_cells();\n                for (var i = 0; i < nbb_cells.length; ++i) {\n                    if (nbb_cells[i].input_prompt_number == nbb_cell_id) {\n                        if (nbb_cells[i].get_text() == nbb_unformatted_code) {\n                             nbb_cells[i].set_text(nbb_formatted_code);\n                        }\n                        break;\n                    }\n                }\n            }, 500);\n            ",
      "text/plain": [
       "<IPython.core.display.Javascript object>"
      ]
     },
     "metadata": {},
     "output_type": "display_data"
    }
   ],
   "source": [
    "final_reg_summary_pd = pd.concat(final_reg_summary)"
   ]
  },
  {
   "cell_type": "code",
   "execution_count": 31,
   "metadata": {},
   "outputs": [
    {
     "data": {
      "application/javascript": "\n            setTimeout(function() {\n                var nbb_cell_id = 31;\n                var nbb_unformatted_code = \"final_reg_summary_pd.to_excel(\\n    Path(\\n        'figures/SI_table2.xlsx'\\n    )\\n)\";\n                var nbb_formatted_code = \"final_reg_summary_pd.to_excel(Path(\\\"figures/SI_table2.xlsx\\\"))\";\n                var nbb_cells = Jupyter.notebook.get_cells();\n                for (var i = 0; i < nbb_cells.length; ++i) {\n                    if (nbb_cells[i].input_prompt_number == nbb_cell_id) {\n                        if (nbb_cells[i].get_text() == nbb_unformatted_code) {\n                             nbb_cells[i].set_text(nbb_formatted_code);\n                        }\n                        break;\n                    }\n                }\n            }, 500);\n            ",
      "text/plain": [
       "<IPython.core.display.Javascript object>"
      ]
     },
     "metadata": {},
     "output_type": "display_data"
    }
   ],
   "source": [
    "final_reg_summary_pd.to_excel(\n",
    "    Path(\n",
    "        'figures/SI_table2.xlsx'\n",
    "    )\n",
    ")"
   ]
  },
  {
   "cell_type": "markdown",
   "metadata": {},
   "source": [
    "Statements: Patterns for the R5ASIA region."
   ]
  },
  {
   "cell_type": "markdown",
   "metadata": {},
   "source": [
    "For the Asia region, we note a dominant contribution (median of around 80%) from gross CO2 emission reductions across all three time periods in the C1 pathways with the balance largely coming from non-CO2 reductions followed by CDR. However, in C2 and C3 pathways where there is slower global near-term action, CDR plays a larger role beyond 2050, accounting for over 20% of the regional net GHG reductions."
   ]
  },
  {
   "cell_type": "code",
   "execution_count": 32,
   "metadata": {},
   "outputs": [
    {
     "data": {
      "text/plain": [
       "timeframe\n",
       "2020-2030    78.0% (66.75-82.0)\n",
       "2030-2050    79.0% (71.0-85.25)\n",
       "2050-2100    80.0% (60.0-123.5)\n",
       "Name: (C1, R5ASIA, AR6 Reanalysis|OSCARv3.2|Emissions|CO2|Gross), dtype: object"
      ]
     },
     "execution_count": 32,
     "metadata": {},
     "output_type": "execute_result"
    },
    {
     "data": {
      "application/javascript": "\n            setTimeout(function() {\n                var nbb_cell_id = 32;\n                var nbb_unformatted_code = \"final_reg_summary_pd.loc[\\n    pd.IndexSlice['C1', 'R5ASIA', 'AR6 Reanalysis|OSCARv3.2|Emissions|CO2|Gross'],\\n    :\\n]\";\n                var nbb_formatted_code = \"final_reg_summary_pd.loc[\\n    pd.IndexSlice[\\\"C1\\\", \\\"R5ASIA\\\", \\\"AR6 Reanalysis|OSCARv3.2|Emissions|CO2|Gross\\\"], :\\n]\";\n                var nbb_cells = Jupyter.notebook.get_cells();\n                for (var i = 0; i < nbb_cells.length; ++i) {\n                    if (nbb_cells[i].input_prompt_number == nbb_cell_id) {\n                        if (nbb_cells[i].get_text() == nbb_unformatted_code) {\n                             nbb_cells[i].set_text(nbb_formatted_code);\n                        }\n                        break;\n                    }\n                }\n            }, 500);\n            ",
      "text/plain": [
       "<IPython.core.display.Javascript object>"
      ]
     },
     "metadata": {},
     "output_type": "display_data"
    }
   ],
   "source": [
    "final_reg_summary_pd.loc[\n",
    "    pd.IndexSlice['C1', 'R5ASIA', 'AR6 Reanalysis|OSCARv3.2|Emissions|CO2|Gross'],\n",
    "    :\n",
    "]"
   ]
  },
  {
   "cell_type": "code",
   "execution_count": 33,
   "metadata": {},
   "outputs": [
    {
     "data": {
      "text/html": [
       "<div>\n",
       "<style scoped>\n",
       "    .dataframe tbody tr th:only-of-type {\n",
       "        vertical-align: middle;\n",
       "    }\n",
       "\n",
       "    .dataframe tbody tr th {\n",
       "        vertical-align: top;\n",
       "    }\n",
       "\n",
       "    .dataframe thead th {\n",
       "        text-align: right;\n",
       "    }\n",
       "</style>\n",
       "<table border=\"1\" class=\"dataframe\">\n",
       "  <thead>\n",
       "    <tr style=\"text-align: right;\">\n",
       "      <th></th>\n",
       "      <th></th>\n",
       "      <th>timeframe</th>\n",
       "      <th>2020-2030</th>\n",
       "      <th>2030-2050</th>\n",
       "      <th>2050-2100</th>\n",
       "    </tr>\n",
       "    <tr>\n",
       "      <th>Category</th>\n",
       "      <th>region</th>\n",
       "      <th>variable</th>\n",
       "      <th></th>\n",
       "      <th></th>\n",
       "      <th></th>\n",
       "    </tr>\n",
       "  </thead>\n",
       "  <tbody>\n",
       "    <tr>\n",
       "      <th>C1</th>\n",
       "      <th>R5ASIA</th>\n",
       "      <th>AR6 Reanalysis|OSCARv3.2|Carbon Removal|Total</th>\n",
       "      <td>7.0% (3.0-17.0)</td>\n",
       "      <td>12.5% (4.0-20.0)</td>\n",
       "      <td>-5.5% (-30.0-18.5)</td>\n",
       "    </tr>\n",
       "    <tr>\n",
       "      <th>C2</th>\n",
       "      <th>R5ASIA</th>\n",
       "      <th>AR6 Reanalysis|OSCARv3.2|Carbon Removal|Total</th>\n",
       "      <td>4.0% (2.0-11.0)</td>\n",
       "      <td>9.0% (4.0-18.25)</td>\n",
       "      <td>27.0% (10.75-32.0)</td>\n",
       "    </tr>\n",
       "    <tr>\n",
       "      <th>C3</th>\n",
       "      <th>R5ASIA</th>\n",
       "      <th>AR6 Reanalysis|OSCARv3.2|Carbon Removal|Total</th>\n",
       "      <td>4.0% (-0.0-15.0)</td>\n",
       "      <td>7.0% (4.0-12.0)</td>\n",
       "      <td>21.0% (11.0-42.0)</td>\n",
       "    </tr>\n",
       "  </tbody>\n",
       "</table>\n",
       "</div>"
      ],
      "text/plain": [
       "timeframe                                                             2020-2030  \\\n",
       "Category region variable                                                          \n",
       "C1       R5ASIA AR6 Reanalysis|OSCARv3.2|Carbon Removal|Total   7.0% (3.0-17.0)   \n",
       "C2       R5ASIA AR6 Reanalysis|OSCARv3.2|Carbon Removal|Total   4.0% (2.0-11.0)   \n",
       "C3       R5ASIA AR6 Reanalysis|OSCARv3.2|Carbon Removal|Total  4.0% (-0.0-15.0)   \n",
       "\n",
       "timeframe                                                             2030-2050  \\\n",
       "Category region variable                                                          \n",
       "C1       R5ASIA AR6 Reanalysis|OSCARv3.2|Carbon Removal|Total  12.5% (4.0-20.0)   \n",
       "C2       R5ASIA AR6 Reanalysis|OSCARv3.2|Carbon Removal|Total  9.0% (4.0-18.25)   \n",
       "C3       R5ASIA AR6 Reanalysis|OSCARv3.2|Carbon Removal|Total   7.0% (4.0-12.0)   \n",
       "\n",
       "timeframe                                                               2050-2100  \n",
       "Category region variable                                                           \n",
       "C1       R5ASIA AR6 Reanalysis|OSCARv3.2|Carbon Removal|Total  -5.5% (-30.0-18.5)  \n",
       "C2       R5ASIA AR6 Reanalysis|OSCARv3.2|Carbon Removal|Total  27.0% (10.75-32.0)  \n",
       "C3       R5ASIA AR6 Reanalysis|OSCARv3.2|Carbon Removal|Total   21.0% (11.0-42.0)  "
      ]
     },
     "execution_count": 33,
     "metadata": {},
     "output_type": "execute_result"
    },
    {
     "data": {
      "application/javascript": "\n            setTimeout(function() {\n                var nbb_cell_id = 33;\n                var nbb_unformatted_code = \"final_reg_summary_pd.loc[\\n    pd.IndexSlice[:, 'R5ASIA', 'AR6 Reanalysis|OSCARv3.2|Carbon Removal|Total'],\\n    :\\n]\";\n                var nbb_formatted_code = \"final_reg_summary_pd.loc[\\n    pd.IndexSlice[:, \\\"R5ASIA\\\", \\\"AR6 Reanalysis|OSCARv3.2|Carbon Removal|Total\\\"], :\\n]\";\n                var nbb_cells = Jupyter.notebook.get_cells();\n                for (var i = 0; i < nbb_cells.length; ++i) {\n                    if (nbb_cells[i].input_prompt_number == nbb_cell_id) {\n                        if (nbb_cells[i].get_text() == nbb_unformatted_code) {\n                             nbb_cells[i].set_text(nbb_formatted_code);\n                        }\n                        break;\n                    }\n                }\n            }, 500);\n            ",
      "text/plain": [
       "<IPython.core.display.Javascript object>"
      ]
     },
     "metadata": {},
     "output_type": "display_data"
    }
   ],
   "source": [
    "final_reg_summary_pd.loc[\n",
    "    pd.IndexSlice[:, 'R5ASIA', 'AR6 Reanalysis|OSCARv3.2|Carbon Removal|Total'],\n",
    "    :\n",
    "]"
   ]
  },
  {
   "cell_type": "markdown",
   "metadata": {},
   "source": [
    "Statement: Patterns for OECD+EU"
   ]
  },
  {
   "cell_type": "code",
   "execution_count": 34,
   "metadata": {},
   "outputs": [
    {
     "data": {
      "text/html": [
       "<div>\n",
       "<style scoped>\n",
       "    .dataframe tbody tr th:only-of-type {\n",
       "        vertical-align: middle;\n",
       "    }\n",
       "\n",
       "    .dataframe tbody tr th {\n",
       "        vertical-align: top;\n",
       "    }\n",
       "\n",
       "    .dataframe thead th {\n",
       "        text-align: right;\n",
       "    }\n",
       "</style>\n",
       "<table border=\"1\" class=\"dataframe\">\n",
       "  <thead>\n",
       "    <tr style=\"text-align: right;\">\n",
       "      <th></th>\n",
       "      <th></th>\n",
       "      <th>timeframe</th>\n",
       "      <th>2020-2030</th>\n",
       "      <th>2030-2050</th>\n",
       "      <th>2050-2100</th>\n",
       "    </tr>\n",
       "    <tr>\n",
       "      <th>Category</th>\n",
       "      <th>region</th>\n",
       "      <th>variable</th>\n",
       "      <th></th>\n",
       "      <th></th>\n",
       "      <th></th>\n",
       "    </tr>\n",
       "  </thead>\n",
       "  <tbody>\n",
       "    <tr>\n",
       "      <th>C1</th>\n",
       "      <th>R5OECD90+EU</th>\n",
       "      <th>AR6 Reanalysis|OSCARv3.2|Carbon Removal|Total</th>\n",
       "      <td>3.0% (2.0-6.0)</td>\n",
       "      <td>21.5% (13.0-33.0)</td>\n",
       "      <td>42.5% (-28.25-73.75)</td>\n",
       "    </tr>\n",
       "    <tr>\n",
       "      <th>C2</th>\n",
       "      <th>R5OECD90+EU</th>\n",
       "      <th>AR6 Reanalysis|OSCARv3.2|Carbon Removal|Total</th>\n",
       "      <td>2.0% (-0.0-4.0)</td>\n",
       "      <td>15.0% (8.75-25.5)</td>\n",
       "      <td>48.0% (34.0-66.0)</td>\n",
       "    </tr>\n",
       "    <tr>\n",
       "      <th>C3</th>\n",
       "      <th>R5OECD90+EU</th>\n",
       "      <th>AR6 Reanalysis|OSCARv3.2|Carbon Removal|Total</th>\n",
       "      <td>2.0% (1.0-4.0)</td>\n",
       "      <td>11.0% (7.0-24.5)</td>\n",
       "      <td>35.0% (24.0-66.0)</td>\n",
       "    </tr>\n",
       "    <tr>\n",
       "      <th>C1</th>\n",
       "      <th>R5OECD90+EU</th>\n",
       "      <th>AR6 Reanalysis|OSCARv3.2|Emissions|CO2|Gross</th>\n",
       "      <td>76.5% (73.0-82.0)</td>\n",
       "      <td>71.0% (62.75-77.0)</td>\n",
       "      <td>52.0% (22.0-105.0)</td>\n",
       "    </tr>\n",
       "    <tr>\n",
       "      <th>C2</th>\n",
       "      <th>R5OECD90+EU</th>\n",
       "      <th>AR6 Reanalysis|OSCARv3.2|Emissions|CO2|Gross</th>\n",
       "      <td>78.0% (75.0-84.0)</td>\n",
       "      <td>73.0% (67.0-79.0)</td>\n",
       "      <td>47.0% (30.75-60.0)</td>\n",
       "    </tr>\n",
       "    <tr>\n",
       "      <th>C3</th>\n",
       "      <th>R5OECD90+EU</th>\n",
       "      <th>AR6 Reanalysis|OSCARv3.2|Emissions|CO2|Gross</th>\n",
       "      <td>74.0% (68.0-78.0)</td>\n",
       "      <td>74.0% (66.0-80.0)</td>\n",
       "      <td>58.0% (29.0-69.0)</td>\n",
       "    </tr>\n",
       "    <tr>\n",
       "      <th>C1</th>\n",
       "      <th>R5OECD90+EU</th>\n",
       "      <th>AR6 Reanalysis|OSCARv3.2|Emissions|NonCO2|Direct Only</th>\n",
       "      <td>17.5% (14.0-23.0)</td>\n",
       "      <td>7.0% (5.0-14.0)</td>\n",
       "      <td>8.0% (2.0-19.25)</td>\n",
       "    </tr>\n",
       "    <tr>\n",
       "      <th>C2</th>\n",
       "      <th>R5OECD90+EU</th>\n",
       "      <th>AR6 Reanalysis|OSCARv3.2|Emissions|NonCO2|Direct Only</th>\n",
       "      <td>18.0% (15.0-21.0)</td>\n",
       "      <td>11.0% (9.0-14.0)</td>\n",
       "      <td>6.0% (2.0-8.0)</td>\n",
       "    </tr>\n",
       "    <tr>\n",
       "      <th>C3</th>\n",
       "      <th>R5OECD90+EU</th>\n",
       "      <th>AR6 Reanalysis|OSCARv3.2|Emissions|NonCO2|Direct Only</th>\n",
       "      <td>23.0% (19.0-28.5)</td>\n",
       "      <td>10.0% (7.0-15.0)</td>\n",
       "      <td>5.0% (2.0-8.0)</td>\n",
       "    </tr>\n",
       "  </tbody>\n",
       "</table>\n",
       "</div>"
      ],
      "text/plain": [
       "timeframe                                                                        2020-2030  \\\n",
       "Category region      variable                                                                \n",
       "C1       R5OECD90+EU AR6 Reanalysis|OSCARv3.2|Carbon Removal|Total          3.0% (2.0-6.0)   \n",
       "C2       R5OECD90+EU AR6 Reanalysis|OSCARv3.2|Carbon Removal|Total         2.0% (-0.0-4.0)   \n",
       "C3       R5OECD90+EU AR6 Reanalysis|OSCARv3.2|Carbon Removal|Total          2.0% (1.0-4.0)   \n",
       "C1       R5OECD90+EU AR6 Reanalysis|OSCARv3.2|Emissions|CO2|Gross        76.5% (73.0-82.0)   \n",
       "C2       R5OECD90+EU AR6 Reanalysis|OSCARv3.2|Emissions|CO2|Gross        78.0% (75.0-84.0)   \n",
       "C3       R5OECD90+EU AR6 Reanalysis|OSCARv3.2|Emissions|CO2|Gross        74.0% (68.0-78.0)   \n",
       "C1       R5OECD90+EU AR6 Reanalysis|OSCARv3.2|Emissions|NonCO2|Direc...  17.5% (14.0-23.0)   \n",
       "C2       R5OECD90+EU AR6 Reanalysis|OSCARv3.2|Emissions|NonCO2|Direc...  18.0% (15.0-21.0)   \n",
       "C3       R5OECD90+EU AR6 Reanalysis|OSCARv3.2|Emissions|NonCO2|Direc...  23.0% (19.0-28.5)   \n",
       "\n",
       "timeframe                                                                         2030-2050  \\\n",
       "Category region      variable                                                                 \n",
       "C1       R5OECD90+EU AR6 Reanalysis|OSCARv3.2|Carbon Removal|Total        21.5% (13.0-33.0)   \n",
       "C2       R5OECD90+EU AR6 Reanalysis|OSCARv3.2|Carbon Removal|Total        15.0% (8.75-25.5)   \n",
       "C3       R5OECD90+EU AR6 Reanalysis|OSCARv3.2|Carbon Removal|Total         11.0% (7.0-24.5)   \n",
       "C1       R5OECD90+EU AR6 Reanalysis|OSCARv3.2|Emissions|CO2|Gross        71.0% (62.75-77.0)   \n",
       "C2       R5OECD90+EU AR6 Reanalysis|OSCARv3.2|Emissions|CO2|Gross         73.0% (67.0-79.0)   \n",
       "C3       R5OECD90+EU AR6 Reanalysis|OSCARv3.2|Emissions|CO2|Gross         74.0% (66.0-80.0)   \n",
       "C1       R5OECD90+EU AR6 Reanalysis|OSCARv3.2|Emissions|NonCO2|Direc...     7.0% (5.0-14.0)   \n",
       "C2       R5OECD90+EU AR6 Reanalysis|OSCARv3.2|Emissions|NonCO2|Direc...    11.0% (9.0-14.0)   \n",
       "C3       R5OECD90+EU AR6 Reanalysis|OSCARv3.2|Emissions|NonCO2|Direc...    10.0% (7.0-15.0)   \n",
       "\n",
       "timeframe                                                                           2050-2100  \n",
       "Category region      variable                                                                  \n",
       "C1       R5OECD90+EU AR6 Reanalysis|OSCARv3.2|Carbon Removal|Total       42.5% (-28.25-73.75)  \n",
       "C2       R5OECD90+EU AR6 Reanalysis|OSCARv3.2|Carbon Removal|Total          48.0% (34.0-66.0)  \n",
       "C3       R5OECD90+EU AR6 Reanalysis|OSCARv3.2|Carbon Removal|Total          35.0% (24.0-66.0)  \n",
       "C1       R5OECD90+EU AR6 Reanalysis|OSCARv3.2|Emissions|CO2|Gross          52.0% (22.0-105.0)  \n",
       "C2       R5OECD90+EU AR6 Reanalysis|OSCARv3.2|Emissions|CO2|Gross          47.0% (30.75-60.0)  \n",
       "C3       R5OECD90+EU AR6 Reanalysis|OSCARv3.2|Emissions|CO2|Gross           58.0% (29.0-69.0)  \n",
       "C1       R5OECD90+EU AR6 Reanalysis|OSCARv3.2|Emissions|NonCO2|Direc...      8.0% (2.0-19.25)  \n",
       "C2       R5OECD90+EU AR6 Reanalysis|OSCARv3.2|Emissions|NonCO2|Direc...        6.0% (2.0-8.0)  \n",
       "C3       R5OECD90+EU AR6 Reanalysis|OSCARv3.2|Emissions|NonCO2|Direc...        5.0% (2.0-8.0)  "
      ]
     },
     "execution_count": 34,
     "metadata": {},
     "output_type": "execute_result"
    },
    {
     "data": {
      "application/javascript": "\n            setTimeout(function() {\n                var nbb_cell_id = 34;\n                var nbb_unformatted_code = \"final_reg_summary_pd.loc[\\n    pd.IndexSlice[:, 'R5OECD90+EU', :],\\n    :\\n].sort_index(level=-1)\";\n                var nbb_formatted_code = \"final_reg_summary_pd.loc[pd.IndexSlice[:, \\\"R5OECD90+EU\\\", :], :].sort_index(level=-1)\";\n                var nbb_cells = Jupyter.notebook.get_cells();\n                for (var i = 0; i < nbb_cells.length; ++i) {\n                    if (nbb_cells[i].input_prompt_number == nbb_cell_id) {\n                        if (nbb_cells[i].get_text() == nbb_unformatted_code) {\n                             nbb_cells[i].set_text(nbb_formatted_code);\n                        }\n                        break;\n                    }\n                }\n            }, 500);\n            ",
      "text/plain": [
       "<IPython.core.display.Javascript object>"
      ]
     },
     "metadata": {},
     "output_type": "display_data"
    }
   ],
   "source": [
    "final_reg_summary_pd.loc[\n",
    "    pd.IndexSlice[:, 'R5OECD90+EU', :],\n",
    "    :\n",
    "].sort_index(level=-1)"
   ]
  },
  {
   "cell_type": "markdown",
   "metadata": {},
   "source": [
    "Statement: Patterns for Latin America"
   ]
  },
  {
   "cell_type": "code",
   "execution_count": 35,
   "metadata": {},
   "outputs": [
    {
     "data": {
      "text/plain": [
       "timeframe\n",
       "2020-2030      18.0% (14.0-28.5)\n",
       "2030-2050      32.0% (22.0-42.0)\n",
       "2050-2100    79.5% (48.75-136.0)\n",
       "Name: (C1, R5LAM, AR6 Reanalysis|OSCARv3.2|Carbon Removal|Total), dtype: object"
      ]
     },
     "execution_count": 35,
     "metadata": {},
     "output_type": "execute_result"
    },
    {
     "data": {
      "application/javascript": "\n            setTimeout(function() {\n                var nbb_cell_id = 35;\n                var nbb_unformatted_code = \"final_reg_summary_pd.loc[\\n    pd.IndexSlice['C1', 'R5LAM', 'AR6 Reanalysis|OSCARv3.2|Carbon Removal|Total'],\\n    :\\n]\";\n                var nbb_formatted_code = \"final_reg_summary_pd.loc[\\n    pd.IndexSlice[\\\"C1\\\", \\\"R5LAM\\\", \\\"AR6 Reanalysis|OSCARv3.2|Carbon Removal|Total\\\"], :\\n]\";\n                var nbb_cells = Jupyter.notebook.get_cells();\n                for (var i = 0; i < nbb_cells.length; ++i) {\n                    if (nbb_cells[i].input_prompt_number == nbb_cell_id) {\n                        if (nbb_cells[i].get_text() == nbb_unformatted_code) {\n                             nbb_cells[i].set_text(nbb_formatted_code);\n                        }\n                        break;\n                    }\n                }\n            }, 500);\n            ",
      "text/plain": [
       "<IPython.core.display.Javascript object>"
      ]
     },
     "metadata": {},
     "output_type": "display_data"
    }
   ],
   "source": [
    "final_reg_summary_pd.loc[\n",
    "    pd.IndexSlice['C1', 'R5LAM', 'AR6 Reanalysis|OSCARv3.2|Carbon Removal|Total'],\n",
    "    :\n",
    "]"
   ]
  },
  {
   "cell_type": "markdown",
   "metadata": {},
   "source": [
    "Revision statements: Gross emissions and carbon dioxide removal across different timeframes."
   ]
  },
  {
   "cell_type": "code",
   "execution_count": 36,
   "metadata": {},
   "outputs": [
    {
     "data": {
      "text/plain": [
       "array(['gross', 'nonco2', 'cdr', 'cdr-land', 'total-gross', 'net',\n",
       "       'share-grossco2', 'share-nonco2', 'share-land-cdr'], dtype=object)"
      ]
     },
     "execution_count": 36,
     "metadata": {},
     "output_type": "execute_result"
    },
    {
     "data": {
      "application/javascript": "\n            setTimeout(function() {\n                var nbb_cell_id = 36;\n                var nbb_unformatted_code = \"panel_a_reshaped['variable'].unique()\";\n                var nbb_formatted_code = \"panel_a_reshaped[\\\"variable\\\"].unique()\";\n                var nbb_cells = Jupyter.notebook.get_cells();\n                for (var i = 0; i < nbb_cells.length; ++i) {\n                    if (nbb_cells[i].input_prompt_number == nbb_cell_id) {\n                        if (nbb_cells[i].get_text() == nbb_unformatted_code) {\n                             nbb_cells[i].set_text(nbb_formatted_code);\n                        }\n                        break;\n                    }\n                }\n            }, 500);\n            ",
      "text/plain": [
       "<IPython.core.display.Javascript object>"
      ]
     },
     "metadata": {},
     "output_type": "display_data"
    }
   ],
   "source": [
    "panel_a_reshaped['variable'].unique()"
   ]
  },
  {
   "cell_type": "code",
   "execution_count": 37,
   "metadata": {},
   "outputs": [
    {
     "data": {
      "application/javascript": "\n            setTimeout(function() {\n                var nbb_cell_id = 37;\n                var nbb_unformatted_code = \"statement1_global = panel_a_reshaped[\\n    (panel_a_reshaped['variable'].isin(['total-gross', 'cdr']))\\n].groupby(['Category', 'variable', 'region', 'timeframe'])['Value'].describe().round(0)\";\n                var nbb_formatted_code = \"statement1_global = (\\n    panel_a_reshaped[(panel_a_reshaped[\\\"variable\\\"].isin([\\\"total-gross\\\", \\\"cdr\\\"]))]\\n    .groupby([\\\"Category\\\", \\\"variable\\\", \\\"region\\\", \\\"timeframe\\\"])[\\\"Value\\\"]\\n    .describe()\\n    .round(0)\\n)\";\n                var nbb_cells = Jupyter.notebook.get_cells();\n                for (var i = 0; i < nbb_cells.length; ++i) {\n                    if (nbb_cells[i].input_prompt_number == nbb_cell_id) {\n                        if (nbb_cells[i].get_text() == nbb_unformatted_code) {\n                             nbb_cells[i].set_text(nbb_formatted_code);\n                        }\n                        break;\n                    }\n                }\n            }, 500);\n            ",
      "text/plain": [
       "<IPython.core.display.Javascript object>"
      ]
     },
     "metadata": {},
     "output_type": "display_data"
    }
   ],
   "source": [
    "statement1_global = panel_a_reshaped[\n",
    "    (panel_a_reshaped['variable'].isin(['total-gross', 'cdr']))\n",
    "].groupby(['Category', 'variable', 'region', 'timeframe'])['Value'].describe().round(0)"
   ]
  },
  {
   "cell_type": "code",
   "execution_count": 38,
   "metadata": {},
   "outputs": [
    {
     "data": {
      "text/html": [
       "<div>\n",
       "<style scoped>\n",
       "    .dataframe tbody tr th:only-of-type {\n",
       "        vertical-align: middle;\n",
       "    }\n",
       "\n",
       "    .dataframe tbody tr th {\n",
       "        vertical-align: top;\n",
       "    }\n",
       "\n",
       "    .dataframe thead th {\n",
       "        text-align: right;\n",
       "    }\n",
       "</style>\n",
       "<table border=\"1\" class=\"dataframe\">\n",
       "  <thead>\n",
       "    <tr style=\"text-align: right;\">\n",
       "      <th></th>\n",
       "      <th></th>\n",
       "      <th></th>\n",
       "      <th></th>\n",
       "      <th>count</th>\n",
       "      <th>mean</th>\n",
       "      <th>std</th>\n",
       "      <th>min</th>\n",
       "      <th>25%</th>\n",
       "      <th>50%</th>\n",
       "      <th>75%</th>\n",
       "      <th>max</th>\n",
       "    </tr>\n",
       "    <tr>\n",
       "      <th>Category</th>\n",
       "      <th>variable</th>\n",
       "      <th>region</th>\n",
       "      <th>timeframe</th>\n",
       "      <th></th>\n",
       "      <th></th>\n",
       "      <th></th>\n",
       "      <th></th>\n",
       "      <th></th>\n",
       "      <th></th>\n",
       "      <th></th>\n",
       "      <th></th>\n",
       "    </tr>\n",
       "  </thead>\n",
       "  <tbody>\n",
       "    <tr>\n",
       "      <th rowspan=\"12\" valign=\"top\">C1</th>\n",
       "      <th rowspan=\"6\" valign=\"top\">cdr</th>\n",
       "      <th>R5ASIA</th>\n",
       "      <th>2020-netzero</th>\n",
       "      <td>70.0</td>\n",
       "      <td>-77.0</td>\n",
       "      <td>30.0</td>\n",
       "      <td>-141.0</td>\n",
       "      <td>-100.0</td>\n",
       "      <td>-66.0</td>\n",
       "      <td>-53.0</td>\n",
       "      <td>-30.0</td>\n",
       "    </tr>\n",
       "    <tr>\n",
       "      <th>R5LAM</th>\n",
       "      <th>2020-netzero</th>\n",
       "      <td>70.0</td>\n",
       "      <td>-47.0</td>\n",
       "      <td>25.0</td>\n",
       "      <td>-137.0</td>\n",
       "      <td>-55.0</td>\n",
       "      <td>-39.0</td>\n",
       "      <td>-33.0</td>\n",
       "      <td>-12.0</td>\n",
       "    </tr>\n",
       "    <tr>\n",
       "      <th>R5MAF</th>\n",
       "      <th>2020-netzero</th>\n",
       "      <td>70.0</td>\n",
       "      <td>-34.0</td>\n",
       "      <td>23.0</td>\n",
       "      <td>-133.0</td>\n",
       "      <td>-40.0</td>\n",
       "      <td>-27.0</td>\n",
       "      <td>-21.0</td>\n",
       "      <td>-6.0</td>\n",
       "    </tr>\n",
       "    <tr>\n",
       "      <th>R5OECD90+EU</th>\n",
       "      <th>2020-netzero</th>\n",
       "      <td>70.0</td>\n",
       "      <td>-44.0</td>\n",
       "      <td>24.0</td>\n",
       "      <td>-133.0</td>\n",
       "      <td>-44.0</td>\n",
       "      <td>-37.0</td>\n",
       "      <td>-30.0</td>\n",
       "      <td>-18.0</td>\n",
       "    </tr>\n",
       "    <tr>\n",
       "      <th>R5REF</th>\n",
       "      <th>2020-netzero</th>\n",
       "      <td>70.0</td>\n",
       "      <td>-14.0</td>\n",
       "      <td>8.0</td>\n",
       "      <td>-59.0</td>\n",
       "      <td>-15.0</td>\n",
       "      <td>-12.0</td>\n",
       "      <td>-10.0</td>\n",
       "      <td>-5.0</td>\n",
       "    </tr>\n",
       "    <tr>\n",
       "      <th>World</th>\n",
       "      <th>2020-netzero</th>\n",
       "      <td>70.0</td>\n",
       "      <td>-214.0</td>\n",
       "      <td>88.0</td>\n",
       "      <td>-508.0</td>\n",
       "      <td>-244.0</td>\n",
       "      <td>-184.0</td>\n",
       "      <td>-155.0</td>\n",
       "      <td>-78.0</td>\n",
       "    </tr>\n",
       "    <tr>\n",
       "      <th rowspan=\"6\" valign=\"top\">total-gross</th>\n",
       "      <th>R5ASIA</th>\n",
       "      <th>2020-netzero</th>\n",
       "      <td>68.0</td>\n",
       "      <td>401.0</td>\n",
       "      <td>81.0</td>\n",
       "      <td>185.0</td>\n",
       "      <td>351.0</td>\n",
       "      <td>410.0</td>\n",
       "      <td>443.0</td>\n",
       "      <td>618.0</td>\n",
       "    </tr>\n",
       "    <tr>\n",
       "      <th>R5LAM</th>\n",
       "      <th>2020-netzero</th>\n",
       "      <td>68.0</td>\n",
       "      <td>99.0</td>\n",
       "      <td>19.0</td>\n",
       "      <td>47.0</td>\n",
       "      <td>89.0</td>\n",
       "      <td>95.0</td>\n",
       "      <td>109.0</td>\n",
       "      <td>150.0</td>\n",
       "    </tr>\n",
       "    <tr>\n",
       "      <th>R5MAF</th>\n",
       "      <th>2020-netzero</th>\n",
       "      <td>68.0</td>\n",
       "      <td>156.0</td>\n",
       "      <td>38.0</td>\n",
       "      <td>64.0</td>\n",
       "      <td>128.0</td>\n",
       "      <td>156.0</td>\n",
       "      <td>176.0</td>\n",
       "      <td>288.0</td>\n",
       "    </tr>\n",
       "    <tr>\n",
       "      <th>R5OECD90+EU</th>\n",
       "      <th>2020-netzero</th>\n",
       "      <td>68.0</td>\n",
       "      <td>231.0</td>\n",
       "      <td>47.0</td>\n",
       "      <td>107.0</td>\n",
       "      <td>205.0</td>\n",
       "      <td>225.0</td>\n",
       "      <td>253.0</td>\n",
       "      <td>369.0</td>\n",
       "    </tr>\n",
       "    <tr>\n",
       "      <th>R5REF</th>\n",
       "      <th>2020-netzero</th>\n",
       "      <td>68.0</td>\n",
       "      <td>64.0</td>\n",
       "      <td>15.0</td>\n",
       "      <td>31.0</td>\n",
       "      <td>54.0</td>\n",
       "      <td>63.0</td>\n",
       "      <td>69.0</td>\n",
       "      <td>118.0</td>\n",
       "    </tr>\n",
       "    <tr>\n",
       "      <th>World</th>\n",
       "      <th>2020-netzero</th>\n",
       "      <td>70.0</td>\n",
       "      <td>991.0</td>\n",
       "      <td>189.0</td>\n",
       "      <td>440.0</td>\n",
       "      <td>869.0</td>\n",
       "      <td>998.0</td>\n",
       "      <td>1101.0</td>\n",
       "      <td>1559.0</td>\n",
       "    </tr>\n",
       "    <tr>\n",
       "      <th rowspan=\"12\" valign=\"top\">C2</th>\n",
       "      <th rowspan=\"6\" valign=\"top\">cdr</th>\n",
       "      <th>R5ASIA</th>\n",
       "      <th>2020-netzero</th>\n",
       "      <td>102.0</td>\n",
       "      <td>-82.0</td>\n",
       "      <td>27.0</td>\n",
       "      <td>-196.0</td>\n",
       "      <td>-87.0</td>\n",
       "      <td>-76.0</td>\n",
       "      <td>-64.0</td>\n",
       "      <td>-43.0</td>\n",
       "    </tr>\n",
       "    <tr>\n",
       "      <th>R5LAM</th>\n",
       "      <th>2020-netzero</th>\n",
       "      <td>102.0</td>\n",
       "      <td>-49.0</td>\n",
       "      <td>21.0</td>\n",
       "      <td>-123.0</td>\n",
       "      <td>-56.0</td>\n",
       "      <td>-46.0</td>\n",
       "      <td>-36.0</td>\n",
       "      <td>-16.0</td>\n",
       "    </tr>\n",
       "    <tr>\n",
       "      <th>R5MAF</th>\n",
       "      <th>2020-netzero</th>\n",
       "      <td>102.0</td>\n",
       "      <td>-30.0</td>\n",
       "      <td>33.0</td>\n",
       "      <td>-82.0</td>\n",
       "      <td>-45.0</td>\n",
       "      <td>-32.0</td>\n",
       "      <td>-22.0</td>\n",
       "      <td>132.0</td>\n",
       "    </tr>\n",
       "    <tr>\n",
       "      <th>R5OECD90+EU</th>\n",
       "      <th>2020-netzero</th>\n",
       "      <td>102.0</td>\n",
       "      <td>-44.0</td>\n",
       "      <td>13.0</td>\n",
       "      <td>-81.0</td>\n",
       "      <td>-55.0</td>\n",
       "      <td>-42.0</td>\n",
       "      <td>-34.0</td>\n",
       "      <td>-19.0</td>\n",
       "    </tr>\n",
       "    <tr>\n",
       "      <th>R5REF</th>\n",
       "      <th>2020-netzero</th>\n",
       "      <td>102.0</td>\n",
       "      <td>-14.0</td>\n",
       "      <td>5.0</td>\n",
       "      <td>-32.0</td>\n",
       "      <td>-17.0</td>\n",
       "      <td>-14.0</td>\n",
       "      <td>-11.0</td>\n",
       "      <td>-7.0</td>\n",
       "    </tr>\n",
       "    <tr>\n",
       "      <th>World</th>\n",
       "      <th>2020-netzero</th>\n",
       "      <td>102.0</td>\n",
       "      <td>-219.0</td>\n",
       "      <td>64.0</td>\n",
       "      <td>-409.0</td>\n",
       "      <td>-249.0</td>\n",
       "      <td>-224.0</td>\n",
       "      <td>-185.0</td>\n",
       "      <td>-53.0</td>\n",
       "    </tr>\n",
       "    <tr>\n",
       "      <th rowspan=\"6\" valign=\"top\">total-gross</th>\n",
       "      <th>R5ASIA</th>\n",
       "      <th>2020-netzero</th>\n",
       "      <td>96.0</td>\n",
       "      <td>539.0</td>\n",
       "      <td>77.0</td>\n",
       "      <td>381.0</td>\n",
       "      <td>491.0</td>\n",
       "      <td>546.0</td>\n",
       "      <td>596.0</td>\n",
       "      <td>766.0</td>\n",
       "    </tr>\n",
       "    <tr>\n",
       "      <th>R5LAM</th>\n",
       "      <th>2020-netzero</th>\n",
       "      <td>96.0</td>\n",
       "      <td>124.0</td>\n",
       "      <td>20.0</td>\n",
       "      <td>82.0</td>\n",
       "      <td>112.0</td>\n",
       "      <td>124.0</td>\n",
       "      <td>138.0</td>\n",
       "      <td>173.0</td>\n",
       "    </tr>\n",
       "    <tr>\n",
       "      <th>R5MAF</th>\n",
       "      <th>2020-netzero</th>\n",
       "      <td>96.0</td>\n",
       "      <td>210.0</td>\n",
       "      <td>37.0</td>\n",
       "      <td>115.0</td>\n",
       "      <td>190.0</td>\n",
       "      <td>210.0</td>\n",
       "      <td>228.0</td>\n",
       "      <td>294.0</td>\n",
       "    </tr>\n",
       "    <tr>\n",
       "      <th>R5OECD90+EU</th>\n",
       "      <th>2020-netzero</th>\n",
       "      <td>96.0</td>\n",
       "      <td>302.0</td>\n",
       "      <td>46.0</td>\n",
       "      <td>196.0</td>\n",
       "      <td>273.0</td>\n",
       "      <td>296.0</td>\n",
       "      <td>334.0</td>\n",
       "      <td>421.0</td>\n",
       "    </tr>\n",
       "    <tr>\n",
       "      <th>R5REF</th>\n",
       "      <th>2020-netzero</th>\n",
       "      <td>96.0</td>\n",
       "      <td>83.0</td>\n",
       "      <td>15.0</td>\n",
       "      <td>54.0</td>\n",
       "      <td>74.0</td>\n",
       "      <td>84.0</td>\n",
       "      <td>91.0</td>\n",
       "      <td>130.0</td>\n",
       "    </tr>\n",
       "    <tr>\n",
       "      <th>World</th>\n",
       "      <th>2020-netzero</th>\n",
       "      <td>102.0</td>\n",
       "      <td>1310.0</td>\n",
       "      <td>181.0</td>\n",
       "      <td>893.0</td>\n",
       "      <td>1211.0</td>\n",
       "      <td>1314.0</td>\n",
       "      <td>1441.0</td>\n",
       "      <td>1736.0</td>\n",
       "    </tr>\n",
       "    <tr>\n",
       "      <th rowspan=\"12\" valign=\"top\">C3</th>\n",
       "      <th rowspan=\"6\" valign=\"top\">cdr</th>\n",
       "      <th>R5ASIA</th>\n",
       "      <th>2020-netzero</th>\n",
       "      <td>229.0</td>\n",
       "      <td>-126.0</td>\n",
       "      <td>51.0</td>\n",
       "      <td>-383.0</td>\n",
       "      <td>-149.0</td>\n",
       "      <td>-112.0</td>\n",
       "      <td>-92.0</td>\n",
       "      <td>-48.0</td>\n",
       "    </tr>\n",
       "    <tr>\n",
       "      <th>R5LAM</th>\n",
       "      <th>2020-netzero</th>\n",
       "      <td>229.0</td>\n",
       "      <td>-76.0</td>\n",
       "      <td>35.0</td>\n",
       "      <td>-187.0</td>\n",
       "      <td>-95.0</td>\n",
       "      <td>-71.0</td>\n",
       "      <td>-47.0</td>\n",
       "      <td>-18.0</td>\n",
       "    </tr>\n",
       "    <tr>\n",
       "      <th>R5MAF</th>\n",
       "      <th>2020-netzero</th>\n",
       "      <td>229.0</td>\n",
       "      <td>-41.0</td>\n",
       "      <td>52.0</td>\n",
       "      <td>-160.0</td>\n",
       "      <td>-69.0</td>\n",
       "      <td>-47.0</td>\n",
       "      <td>-31.0</td>\n",
       "      <td>150.0</td>\n",
       "    </tr>\n",
       "    <tr>\n",
       "      <th>R5OECD90+EU</th>\n",
       "      <th>2020-netzero</th>\n",
       "      <td>229.0</td>\n",
       "      <td>-80.0</td>\n",
       "      <td>37.0</td>\n",
       "      <td>-232.0</td>\n",
       "      <td>-96.0</td>\n",
       "      <td>-68.0</td>\n",
       "      <td>-56.0</td>\n",
       "      <td>-24.0</td>\n",
       "    </tr>\n",
       "    <tr>\n",
       "      <th>R5REF</th>\n",
       "      <th>2020-netzero</th>\n",
       "      <td>229.0</td>\n",
       "      <td>-28.0</td>\n",
       "      <td>15.0</td>\n",
       "      <td>-104.0</td>\n",
       "      <td>-32.0</td>\n",
       "      <td>-23.0</td>\n",
       "      <td>-19.0</td>\n",
       "      <td>-8.0</td>\n",
       "    </tr>\n",
       "    <tr>\n",
       "      <th>World</th>\n",
       "      <th>2020-netzero</th>\n",
       "      <td>229.0</td>\n",
       "      <td>-351.0</td>\n",
       "      <td>142.0</td>\n",
       "      <td>-758.0</td>\n",
       "      <td>-446.0</td>\n",
       "      <td>-327.0</td>\n",
       "      <td>-256.0</td>\n",
       "      <td>-53.0</td>\n",
       "    </tr>\n",
       "    <tr>\n",
       "      <th rowspan=\"6\" valign=\"top\">total-gross</th>\n",
       "      <th>R5ASIA</th>\n",
       "      <th>2020-netzero</th>\n",
       "      <td>223.0</td>\n",
       "      <td>695.0</td>\n",
       "      <td>122.0</td>\n",
       "      <td>272.0</td>\n",
       "      <td>624.0</td>\n",
       "      <td>689.0</td>\n",
       "      <td>758.0</td>\n",
       "      <td>1013.0</td>\n",
       "    </tr>\n",
       "    <tr>\n",
       "      <th>R5LAM</th>\n",
       "      <th>2020-netzero</th>\n",
       "      <td>223.0</td>\n",
       "      <td>162.0</td>\n",
       "      <td>38.0</td>\n",
       "      <td>68.0</td>\n",
       "      <td>135.0</td>\n",
       "      <td>155.0</td>\n",
       "      <td>183.0</td>\n",
       "      <td>291.0</td>\n",
       "    </tr>\n",
       "    <tr>\n",
       "      <th>R5MAF</th>\n",
       "      <th>2020-netzero</th>\n",
       "      <td>223.0</td>\n",
       "      <td>285.0</td>\n",
       "      <td>65.0</td>\n",
       "      <td>94.0</td>\n",
       "      <td>243.0</td>\n",
       "      <td>275.0</td>\n",
       "      <td>315.0</td>\n",
       "      <td>532.0</td>\n",
       "    </tr>\n",
       "    <tr>\n",
       "      <th>R5OECD90+EU</th>\n",
       "      <th>2020-netzero</th>\n",
       "      <td>223.0</td>\n",
       "      <td>384.0</td>\n",
       "      <td>71.0</td>\n",
       "      <td>157.0</td>\n",
       "      <td>337.0</td>\n",
       "      <td>382.0</td>\n",
       "      <td>427.0</td>\n",
       "      <td>563.0</td>\n",
       "    </tr>\n",
       "    <tr>\n",
       "      <th>R5REF</th>\n",
       "      <th>2020-netzero</th>\n",
       "      <td>223.0</td>\n",
       "      <td>110.0</td>\n",
       "      <td>22.0</td>\n",
       "      <td>44.0</td>\n",
       "      <td>97.0</td>\n",
       "      <td>106.0</td>\n",
       "      <td>123.0</td>\n",
       "      <td>192.0</td>\n",
       "    </tr>\n",
       "    <tr>\n",
       "      <th>World</th>\n",
       "      <th>2020-netzero</th>\n",
       "      <td>229.0</td>\n",
       "      <td>1703.0</td>\n",
       "      <td>300.0</td>\n",
       "      <td>646.0</td>\n",
       "      <td>1507.0</td>\n",
       "      <td>1675.0</td>\n",
       "      <td>1861.0</td>\n",
       "      <td>2741.0</td>\n",
       "    </tr>\n",
       "  </tbody>\n",
       "</table>\n",
       "</div>"
      ],
      "text/plain": [
       "                                               count    mean    std    min  \\\n",
       "Category variable    region      timeframe                                   \n",
       "C1       cdr         R5ASIA      2020-netzero   70.0   -77.0   30.0 -141.0   \n",
       "                     R5LAM       2020-netzero   70.0   -47.0   25.0 -137.0   \n",
       "                     R5MAF       2020-netzero   70.0   -34.0   23.0 -133.0   \n",
       "                     R5OECD90+EU 2020-netzero   70.0   -44.0   24.0 -133.0   \n",
       "                     R5REF       2020-netzero   70.0   -14.0    8.0  -59.0   \n",
       "                     World       2020-netzero   70.0  -214.0   88.0 -508.0   \n",
       "         total-gross R5ASIA      2020-netzero   68.0   401.0   81.0  185.0   \n",
       "                     R5LAM       2020-netzero   68.0    99.0   19.0   47.0   \n",
       "                     R5MAF       2020-netzero   68.0   156.0   38.0   64.0   \n",
       "                     R5OECD90+EU 2020-netzero   68.0   231.0   47.0  107.0   \n",
       "                     R5REF       2020-netzero   68.0    64.0   15.0   31.0   \n",
       "                     World       2020-netzero   70.0   991.0  189.0  440.0   \n",
       "C2       cdr         R5ASIA      2020-netzero  102.0   -82.0   27.0 -196.0   \n",
       "                     R5LAM       2020-netzero  102.0   -49.0   21.0 -123.0   \n",
       "                     R5MAF       2020-netzero  102.0   -30.0   33.0  -82.0   \n",
       "                     R5OECD90+EU 2020-netzero  102.0   -44.0   13.0  -81.0   \n",
       "                     R5REF       2020-netzero  102.0   -14.0    5.0  -32.0   \n",
       "                     World       2020-netzero  102.0  -219.0   64.0 -409.0   \n",
       "         total-gross R5ASIA      2020-netzero   96.0   539.0   77.0  381.0   \n",
       "                     R5LAM       2020-netzero   96.0   124.0   20.0   82.0   \n",
       "                     R5MAF       2020-netzero   96.0   210.0   37.0  115.0   \n",
       "                     R5OECD90+EU 2020-netzero   96.0   302.0   46.0  196.0   \n",
       "                     R5REF       2020-netzero   96.0    83.0   15.0   54.0   \n",
       "                     World       2020-netzero  102.0  1310.0  181.0  893.0   \n",
       "C3       cdr         R5ASIA      2020-netzero  229.0  -126.0   51.0 -383.0   \n",
       "                     R5LAM       2020-netzero  229.0   -76.0   35.0 -187.0   \n",
       "                     R5MAF       2020-netzero  229.0   -41.0   52.0 -160.0   \n",
       "                     R5OECD90+EU 2020-netzero  229.0   -80.0   37.0 -232.0   \n",
       "                     R5REF       2020-netzero  229.0   -28.0   15.0 -104.0   \n",
       "                     World       2020-netzero  229.0  -351.0  142.0 -758.0   \n",
       "         total-gross R5ASIA      2020-netzero  223.0   695.0  122.0  272.0   \n",
       "                     R5LAM       2020-netzero  223.0   162.0   38.0   68.0   \n",
       "                     R5MAF       2020-netzero  223.0   285.0   65.0   94.0   \n",
       "                     R5OECD90+EU 2020-netzero  223.0   384.0   71.0  157.0   \n",
       "                     R5REF       2020-netzero  223.0   110.0   22.0   44.0   \n",
       "                     World       2020-netzero  229.0  1703.0  300.0  646.0   \n",
       "\n",
       "                                                  25%     50%     75%     max  \n",
       "Category variable    region      timeframe                                     \n",
       "C1       cdr         R5ASIA      2020-netzero  -100.0   -66.0   -53.0   -30.0  \n",
       "                     R5LAM       2020-netzero   -55.0   -39.0   -33.0   -12.0  \n",
       "                     R5MAF       2020-netzero   -40.0   -27.0   -21.0    -6.0  \n",
       "                     R5OECD90+EU 2020-netzero   -44.0   -37.0   -30.0   -18.0  \n",
       "                     R5REF       2020-netzero   -15.0   -12.0   -10.0    -5.0  \n",
       "                     World       2020-netzero  -244.0  -184.0  -155.0   -78.0  \n",
       "         total-gross R5ASIA      2020-netzero   351.0   410.0   443.0   618.0  \n",
       "                     R5LAM       2020-netzero    89.0    95.0   109.0   150.0  \n",
       "                     R5MAF       2020-netzero   128.0   156.0   176.0   288.0  \n",
       "                     R5OECD90+EU 2020-netzero   205.0   225.0   253.0   369.0  \n",
       "                     R5REF       2020-netzero    54.0    63.0    69.0   118.0  \n",
       "                     World       2020-netzero   869.0   998.0  1101.0  1559.0  \n",
       "C2       cdr         R5ASIA      2020-netzero   -87.0   -76.0   -64.0   -43.0  \n",
       "                     R5LAM       2020-netzero   -56.0   -46.0   -36.0   -16.0  \n",
       "                     R5MAF       2020-netzero   -45.0   -32.0   -22.0   132.0  \n",
       "                     R5OECD90+EU 2020-netzero   -55.0   -42.0   -34.0   -19.0  \n",
       "                     R5REF       2020-netzero   -17.0   -14.0   -11.0    -7.0  \n",
       "                     World       2020-netzero  -249.0  -224.0  -185.0   -53.0  \n",
       "         total-gross R5ASIA      2020-netzero   491.0   546.0   596.0   766.0  \n",
       "                     R5LAM       2020-netzero   112.0   124.0   138.0   173.0  \n",
       "                     R5MAF       2020-netzero   190.0   210.0   228.0   294.0  \n",
       "                     R5OECD90+EU 2020-netzero   273.0   296.0   334.0   421.0  \n",
       "                     R5REF       2020-netzero    74.0    84.0    91.0   130.0  \n",
       "                     World       2020-netzero  1211.0  1314.0  1441.0  1736.0  \n",
       "C3       cdr         R5ASIA      2020-netzero  -149.0  -112.0   -92.0   -48.0  \n",
       "                     R5LAM       2020-netzero   -95.0   -71.0   -47.0   -18.0  \n",
       "                     R5MAF       2020-netzero   -69.0   -47.0   -31.0   150.0  \n",
       "                     R5OECD90+EU 2020-netzero   -96.0   -68.0   -56.0   -24.0  \n",
       "                     R5REF       2020-netzero   -32.0   -23.0   -19.0    -8.0  \n",
       "                     World       2020-netzero  -446.0  -327.0  -256.0   -53.0  \n",
       "         total-gross R5ASIA      2020-netzero   624.0   689.0   758.0  1013.0  \n",
       "                     R5LAM       2020-netzero   135.0   155.0   183.0   291.0  \n",
       "                     R5MAF       2020-netzero   243.0   275.0   315.0   532.0  \n",
       "                     R5OECD90+EU 2020-netzero   337.0   382.0   427.0   563.0  \n",
       "                     R5REF       2020-netzero    97.0   106.0   123.0   192.0  \n",
       "                     World       2020-netzero  1507.0  1675.0  1861.0  2741.0  "
      ]
     },
     "execution_count": 38,
     "metadata": {},
     "output_type": "execute_result"
    },
    {
     "data": {
      "application/javascript": "\n            setTimeout(function() {\n                var nbb_cell_id = 38;\n                var nbb_unformatted_code = \"statement1_global.loc[\\n    pd.IndexSlice[:, :,: , '2020-netzero'],\\n    :\\n]\";\n                var nbb_formatted_code = \"statement1_global.loc[pd.IndexSlice[:, :, :, \\\"2020-netzero\\\"], :]\";\n                var nbb_cells = Jupyter.notebook.get_cells();\n                for (var i = 0; i < nbb_cells.length; ++i) {\n                    if (nbb_cells[i].input_prompt_number == nbb_cell_id) {\n                        if (nbb_cells[i].get_text() == nbb_unformatted_code) {\n                             nbb_cells[i].set_text(nbb_formatted_code);\n                        }\n                        break;\n                    }\n                }\n            }, 500);\n            ",
      "text/plain": [
       "<IPython.core.display.Javascript object>"
      ]
     },
     "metadata": {},
     "output_type": "display_data"
    }
   ],
   "source": [
    "statement1_global.loc[\n",
    "    pd.IndexSlice[:, :,: , '2020-netzero'],\n",
    "    :\n",
    "]"
   ]
  },
  {
   "cell_type": "code",
   "execution_count": 39,
   "metadata": {},
   "outputs": [
    {
     "data": {
      "application/javascript": "\n            setTimeout(function() {\n                var nbb_cell_id = 39;\n                var nbb_unformatted_code = \"statement2 = panel_a_reshaped[\\n    (panel_a_reshaped['variable'].isin(['share-grossco2','share-nonco2']))\\n].groupby(['Category', 'variable', 'region', 'timeframe'])['Value'].describe().round(2)\";\n                var nbb_formatted_code = \"statement2 = (\\n    panel_a_reshaped[\\n        (panel_a_reshaped[\\\"variable\\\"].isin([\\\"share-grossco2\\\", \\\"share-nonco2\\\"]))\\n    ]\\n    .groupby([\\\"Category\\\", \\\"variable\\\", \\\"region\\\", \\\"timeframe\\\"])[\\\"Value\\\"]\\n    .describe()\\n    .round(2)\\n)\";\n                var nbb_cells = Jupyter.notebook.get_cells();\n                for (var i = 0; i < nbb_cells.length; ++i) {\n                    if (nbb_cells[i].input_prompt_number == nbb_cell_id) {\n                        if (nbb_cells[i].get_text() == nbb_unformatted_code) {\n                             nbb_cells[i].set_text(nbb_formatted_code);\n                        }\n                        break;\n                    }\n                }\n            }, 500);\n            ",
      "text/plain": [
       "<IPython.core.display.Javascript object>"
      ]
     },
     "metadata": {},
     "output_type": "display_data"
    }
   ],
   "source": [
    "statement2 = panel_a_reshaped[\n",
    "    (panel_a_reshaped['variable'].isin(['share-grossco2','share-nonco2']))\n",
    "].groupby(['Category', 'variable', 'region', 'timeframe'])['Value'].describe().round(2)"
   ]
  },
  {
   "cell_type": "code",
   "execution_count": 40,
   "metadata": {},
   "outputs": [
    {
     "data": {
      "text/html": [
       "<div>\n",
       "<style scoped>\n",
       "    .dataframe tbody tr th:only-of-type {\n",
       "        vertical-align: middle;\n",
       "    }\n",
       "\n",
       "    .dataframe tbody tr th {\n",
       "        vertical-align: top;\n",
       "    }\n",
       "\n",
       "    .dataframe thead th {\n",
       "        text-align: right;\n",
       "    }\n",
       "</style>\n",
       "<table border=\"1\" class=\"dataframe\">\n",
       "  <thead>\n",
       "    <tr style=\"text-align: right;\">\n",
       "      <th></th>\n",
       "      <th></th>\n",
       "      <th></th>\n",
       "      <th></th>\n",
       "      <th>count</th>\n",
       "      <th>mean</th>\n",
       "      <th>std</th>\n",
       "      <th>min</th>\n",
       "      <th>25%</th>\n",
       "      <th>50%</th>\n",
       "      <th>75%</th>\n",
       "      <th>max</th>\n",
       "    </tr>\n",
       "    <tr>\n",
       "      <th>Category</th>\n",
       "      <th>variable</th>\n",
       "      <th>region</th>\n",
       "      <th>timeframe</th>\n",
       "      <th></th>\n",
       "      <th></th>\n",
       "      <th></th>\n",
       "      <th></th>\n",
       "      <th></th>\n",
       "      <th></th>\n",
       "      <th></th>\n",
       "      <th></th>\n",
       "    </tr>\n",
       "  </thead>\n",
       "  <tbody>\n",
       "    <tr>\n",
       "      <th rowspan=\"12\" valign=\"top\">C1</th>\n",
       "      <th rowspan=\"6\" valign=\"top\">share-grossco2</th>\n",
       "      <th>R5ASIA</th>\n",
       "      <th>2020-netzero</th>\n",
       "      <td>68.0</td>\n",
       "      <td>0.69</td>\n",
       "      <td>0.05</td>\n",
       "      <td>0.56</td>\n",
       "      <td>0.66</td>\n",
       "      <td>0.68</td>\n",
       "      <td>0.74</td>\n",
       "      <td>0.80</td>\n",
       "    </tr>\n",
       "    <tr>\n",
       "      <th>R5LAM</th>\n",
       "      <th>2020-netzero</th>\n",
       "      <td>68.0</td>\n",
       "      <td>0.58</td>\n",
       "      <td>0.06</td>\n",
       "      <td>0.45</td>\n",
       "      <td>0.53</td>\n",
       "      <td>0.59</td>\n",
       "      <td>0.62</td>\n",
       "      <td>0.70</td>\n",
       "    </tr>\n",
       "    <tr>\n",
       "      <th>R5MAF</th>\n",
       "      <th>2020-netzero</th>\n",
       "      <td>68.0</td>\n",
       "      <td>0.64</td>\n",
       "      <td>0.08</td>\n",
       "      <td>0.44</td>\n",
       "      <td>0.58</td>\n",
       "      <td>0.63</td>\n",
       "      <td>0.70</td>\n",
       "      <td>0.77</td>\n",
       "    </tr>\n",
       "    <tr>\n",
       "      <th>R5OECD90+EU</th>\n",
       "      <th>2020-netzero</th>\n",
       "      <td>68.0</td>\n",
       "      <td>0.73</td>\n",
       "      <td>0.04</td>\n",
       "      <td>0.64</td>\n",
       "      <td>0.71</td>\n",
       "      <td>0.72</td>\n",
       "      <td>0.77</td>\n",
       "      <td>0.84</td>\n",
       "    </tr>\n",
       "    <tr>\n",
       "      <th>R5REF</th>\n",
       "      <th>2020-netzero</th>\n",
       "      <td>68.0</td>\n",
       "      <td>0.67</td>\n",
       "      <td>0.08</td>\n",
       "      <td>0.41</td>\n",
       "      <td>0.63</td>\n",
       "      <td>0.69</td>\n",
       "      <td>0.71</td>\n",
       "      <td>0.82</td>\n",
       "    </tr>\n",
       "    <tr>\n",
       "      <th>World</th>\n",
       "      <th>2020-netzero</th>\n",
       "      <td>70.0</td>\n",
       "      <td>0.68</td>\n",
       "      <td>0.04</td>\n",
       "      <td>0.56</td>\n",
       "      <td>0.66</td>\n",
       "      <td>0.68</td>\n",
       "      <td>0.70</td>\n",
       "      <td>0.77</td>\n",
       "    </tr>\n",
       "    <tr>\n",
       "      <th rowspan=\"6\" valign=\"top\">share-nonco2</th>\n",
       "      <th>R5ASIA</th>\n",
       "      <th>2020-netzero</th>\n",
       "      <td>68.0</td>\n",
       "      <td>0.31</td>\n",
       "      <td>0.05</td>\n",
       "      <td>0.20</td>\n",
       "      <td>0.26</td>\n",
       "      <td>0.32</td>\n",
       "      <td>0.34</td>\n",
       "      <td>0.44</td>\n",
       "    </tr>\n",
       "    <tr>\n",
       "      <th>R5LAM</th>\n",
       "      <th>2020-netzero</th>\n",
       "      <td>68.0</td>\n",
       "      <td>0.42</td>\n",
       "      <td>0.06</td>\n",
       "      <td>0.30</td>\n",
       "      <td>0.38</td>\n",
       "      <td>0.41</td>\n",
       "      <td>0.47</td>\n",
       "      <td>0.55</td>\n",
       "    </tr>\n",
       "    <tr>\n",
       "      <th>R5MAF</th>\n",
       "      <th>2020-netzero</th>\n",
       "      <td>68.0</td>\n",
       "      <td>0.36</td>\n",
       "      <td>0.08</td>\n",
       "      <td>0.23</td>\n",
       "      <td>0.30</td>\n",
       "      <td>0.37</td>\n",
       "      <td>0.42</td>\n",
       "      <td>0.56</td>\n",
       "    </tr>\n",
       "    <tr>\n",
       "      <th>R5OECD90+EU</th>\n",
       "      <th>2020-netzero</th>\n",
       "      <td>68.0</td>\n",
       "      <td>0.27</td>\n",
       "      <td>0.04</td>\n",
       "      <td>0.16</td>\n",
       "      <td>0.23</td>\n",
       "      <td>0.28</td>\n",
       "      <td>0.29</td>\n",
       "      <td>0.36</td>\n",
       "    </tr>\n",
       "    <tr>\n",
       "      <th>R5REF</th>\n",
       "      <th>2020-netzero</th>\n",
       "      <td>68.0</td>\n",
       "      <td>0.33</td>\n",
       "      <td>0.08</td>\n",
       "      <td>0.18</td>\n",
       "      <td>0.29</td>\n",
       "      <td>0.31</td>\n",
       "      <td>0.37</td>\n",
       "      <td>0.59</td>\n",
       "    </tr>\n",
       "    <tr>\n",
       "      <th>World</th>\n",
       "      <th>2020-netzero</th>\n",
       "      <td>70.0</td>\n",
       "      <td>0.32</td>\n",
       "      <td>0.04</td>\n",
       "      <td>0.23</td>\n",
       "      <td>0.30</td>\n",
       "      <td>0.32</td>\n",
       "      <td>0.34</td>\n",
       "      <td>0.44</td>\n",
       "    </tr>\n",
       "    <tr>\n",
       "      <th rowspan=\"12\" valign=\"top\">C2</th>\n",
       "      <th rowspan=\"6\" valign=\"top\">share-grossco2</th>\n",
       "      <th>R5ASIA</th>\n",
       "      <th>2020-netzero</th>\n",
       "      <td>96.0</td>\n",
       "      <td>0.71</td>\n",
       "      <td>0.04</td>\n",
       "      <td>0.65</td>\n",
       "      <td>0.68</td>\n",
       "      <td>0.70</td>\n",
       "      <td>0.75</td>\n",
       "      <td>0.81</td>\n",
       "    </tr>\n",
       "    <tr>\n",
       "      <th>R5LAM</th>\n",
       "      <th>2020-netzero</th>\n",
       "      <td>96.0</td>\n",
       "      <td>0.59</td>\n",
       "      <td>0.04</td>\n",
       "      <td>0.49</td>\n",
       "      <td>0.56</td>\n",
       "      <td>0.59</td>\n",
       "      <td>0.62</td>\n",
       "      <td>0.71</td>\n",
       "    </tr>\n",
       "    <tr>\n",
       "      <th>R5MAF</th>\n",
       "      <th>2020-netzero</th>\n",
       "      <td>96.0</td>\n",
       "      <td>0.67</td>\n",
       "      <td>0.07</td>\n",
       "      <td>0.53</td>\n",
       "      <td>0.62</td>\n",
       "      <td>0.68</td>\n",
       "      <td>0.72</td>\n",
       "      <td>0.81</td>\n",
       "    </tr>\n",
       "    <tr>\n",
       "      <th>R5OECD90+EU</th>\n",
       "      <th>2020-netzero</th>\n",
       "      <td>96.0</td>\n",
       "      <td>0.75</td>\n",
       "      <td>0.03</td>\n",
       "      <td>0.65</td>\n",
       "      <td>0.73</td>\n",
       "      <td>0.76</td>\n",
       "      <td>0.78</td>\n",
       "      <td>0.83</td>\n",
       "    </tr>\n",
       "    <tr>\n",
       "      <th>R5REF</th>\n",
       "      <th>2020-netzero</th>\n",
       "      <td>96.0</td>\n",
       "      <td>0.67</td>\n",
       "      <td>0.07</td>\n",
       "      <td>0.51</td>\n",
       "      <td>0.62</td>\n",
       "      <td>0.70</td>\n",
       "      <td>0.72</td>\n",
       "      <td>0.78</td>\n",
       "    </tr>\n",
       "    <tr>\n",
       "      <th>World</th>\n",
       "      <th>2020-netzero</th>\n",
       "      <td>102.0</td>\n",
       "      <td>0.70</td>\n",
       "      <td>0.03</td>\n",
       "      <td>0.63</td>\n",
       "      <td>0.68</td>\n",
       "      <td>0.70</td>\n",
       "      <td>0.72</td>\n",
       "      <td>0.79</td>\n",
       "    </tr>\n",
       "    <tr>\n",
       "      <th rowspan=\"6\" valign=\"top\">share-nonco2</th>\n",
       "      <th>R5ASIA</th>\n",
       "      <th>2020-netzero</th>\n",
       "      <td>96.0</td>\n",
       "      <td>0.29</td>\n",
       "      <td>0.04</td>\n",
       "      <td>0.19</td>\n",
       "      <td>0.25</td>\n",
       "      <td>0.30</td>\n",
       "      <td>0.32</td>\n",
       "      <td>0.35</td>\n",
       "    </tr>\n",
       "    <tr>\n",
       "      <th>R5LAM</th>\n",
       "      <th>2020-netzero</th>\n",
       "      <td>96.0</td>\n",
       "      <td>0.41</td>\n",
       "      <td>0.04</td>\n",
       "      <td>0.29</td>\n",
       "      <td>0.38</td>\n",
       "      <td>0.41</td>\n",
       "      <td>0.44</td>\n",
       "      <td>0.51</td>\n",
       "    </tr>\n",
       "    <tr>\n",
       "      <th>R5MAF</th>\n",
       "      <th>2020-netzero</th>\n",
       "      <td>96.0</td>\n",
       "      <td>0.33</td>\n",
       "      <td>0.07</td>\n",
       "      <td>0.19</td>\n",
       "      <td>0.28</td>\n",
       "      <td>0.32</td>\n",
       "      <td>0.38</td>\n",
       "      <td>0.47</td>\n",
       "    </tr>\n",
       "    <tr>\n",
       "      <th>R5OECD90+EU</th>\n",
       "      <th>2020-netzero</th>\n",
       "      <td>96.0</td>\n",
       "      <td>0.25</td>\n",
       "      <td>0.03</td>\n",
       "      <td>0.17</td>\n",
       "      <td>0.22</td>\n",
       "      <td>0.24</td>\n",
       "      <td>0.27</td>\n",
       "      <td>0.35</td>\n",
       "    </tr>\n",
       "    <tr>\n",
       "      <th>R5REF</th>\n",
       "      <th>2020-netzero</th>\n",
       "      <td>96.0</td>\n",
       "      <td>0.33</td>\n",
       "      <td>0.07</td>\n",
       "      <td>0.22</td>\n",
       "      <td>0.28</td>\n",
       "      <td>0.30</td>\n",
       "      <td>0.38</td>\n",
       "      <td>0.49</td>\n",
       "    </tr>\n",
       "    <tr>\n",
       "      <th>World</th>\n",
       "      <th>2020-netzero</th>\n",
       "      <td>102.0</td>\n",
       "      <td>0.30</td>\n",
       "      <td>0.03</td>\n",
       "      <td>0.21</td>\n",
       "      <td>0.28</td>\n",
       "      <td>0.30</td>\n",
       "      <td>0.32</td>\n",
       "      <td>0.37</td>\n",
       "    </tr>\n",
       "    <tr>\n",
       "      <th rowspan=\"12\" valign=\"top\">C3</th>\n",
       "      <th rowspan=\"6\" valign=\"top\">share-grossco2</th>\n",
       "      <th>R5ASIA</th>\n",
       "      <th>2020-netzero</th>\n",
       "      <td>223.0</td>\n",
       "      <td>0.71</td>\n",
       "      <td>0.04</td>\n",
       "      <td>0.59</td>\n",
       "      <td>0.68</td>\n",
       "      <td>0.70</td>\n",
       "      <td>0.74</td>\n",
       "      <td>0.82</td>\n",
       "    </tr>\n",
       "    <tr>\n",
       "      <th>R5LAM</th>\n",
       "      <th>2020-netzero</th>\n",
       "      <td>223.0</td>\n",
       "      <td>0.58</td>\n",
       "      <td>0.05</td>\n",
       "      <td>0.41</td>\n",
       "      <td>0.55</td>\n",
       "      <td>0.59</td>\n",
       "      <td>0.62</td>\n",
       "      <td>0.74</td>\n",
       "    </tr>\n",
       "    <tr>\n",
       "      <th>R5MAF</th>\n",
       "      <th>2020-netzero</th>\n",
       "      <td>223.0</td>\n",
       "      <td>0.66</td>\n",
       "      <td>0.09</td>\n",
       "      <td>0.42</td>\n",
       "      <td>0.58</td>\n",
       "      <td>0.68</td>\n",
       "      <td>0.73</td>\n",
       "      <td>0.82</td>\n",
       "    </tr>\n",
       "    <tr>\n",
       "      <th>R5OECD90+EU</th>\n",
       "      <th>2020-netzero</th>\n",
       "      <td>223.0</td>\n",
       "      <td>0.75</td>\n",
       "      <td>0.05</td>\n",
       "      <td>0.60</td>\n",
       "      <td>0.72</td>\n",
       "      <td>0.76</td>\n",
       "      <td>0.79</td>\n",
       "      <td>0.84</td>\n",
       "    </tr>\n",
       "    <tr>\n",
       "      <th>R5REF</th>\n",
       "      <th>2020-netzero</th>\n",
       "      <td>223.0</td>\n",
       "      <td>0.69</td>\n",
       "      <td>0.09</td>\n",
       "      <td>0.38</td>\n",
       "      <td>0.63</td>\n",
       "      <td>0.72</td>\n",
       "      <td>0.75</td>\n",
       "      <td>0.84</td>\n",
       "    </tr>\n",
       "    <tr>\n",
       "      <th>World</th>\n",
       "      <th>2020-netzero</th>\n",
       "      <td>229.0</td>\n",
       "      <td>0.69</td>\n",
       "      <td>0.04</td>\n",
       "      <td>0.52</td>\n",
       "      <td>0.67</td>\n",
       "      <td>0.70</td>\n",
       "      <td>0.73</td>\n",
       "      <td>0.80</td>\n",
       "    </tr>\n",
       "    <tr>\n",
       "      <th rowspan=\"6\" valign=\"top\">share-nonco2</th>\n",
       "      <th>R5ASIA</th>\n",
       "      <th>2020-netzero</th>\n",
       "      <td>223.0</td>\n",
       "      <td>0.29</td>\n",
       "      <td>0.04</td>\n",
       "      <td>0.18</td>\n",
       "      <td>0.26</td>\n",
       "      <td>0.30</td>\n",
       "      <td>0.32</td>\n",
       "      <td>0.41</td>\n",
       "    </tr>\n",
       "    <tr>\n",
       "      <th>R5LAM</th>\n",
       "      <th>2020-netzero</th>\n",
       "      <td>223.0</td>\n",
       "      <td>0.42</td>\n",
       "      <td>0.05</td>\n",
       "      <td>0.26</td>\n",
       "      <td>0.38</td>\n",
       "      <td>0.41</td>\n",
       "      <td>0.45</td>\n",
       "      <td>0.59</td>\n",
       "    </tr>\n",
       "    <tr>\n",
       "      <th>R5MAF</th>\n",
       "      <th>2020-netzero</th>\n",
       "      <td>223.0</td>\n",
       "      <td>0.34</td>\n",
       "      <td>0.09</td>\n",
       "      <td>0.18</td>\n",
       "      <td>0.27</td>\n",
       "      <td>0.32</td>\n",
       "      <td>0.42</td>\n",
       "      <td>0.58</td>\n",
       "    </tr>\n",
       "    <tr>\n",
       "      <th>R5OECD90+EU</th>\n",
       "      <th>2020-netzero</th>\n",
       "      <td>223.0</td>\n",
       "      <td>0.25</td>\n",
       "      <td>0.05</td>\n",
       "      <td>0.16</td>\n",
       "      <td>0.21</td>\n",
       "      <td>0.24</td>\n",
       "      <td>0.28</td>\n",
       "      <td>0.40</td>\n",
       "    </tr>\n",
       "    <tr>\n",
       "      <th>R5REF</th>\n",
       "      <th>2020-netzero</th>\n",
       "      <td>223.0</td>\n",
       "      <td>0.31</td>\n",
       "      <td>0.09</td>\n",
       "      <td>0.16</td>\n",
       "      <td>0.25</td>\n",
       "      <td>0.28</td>\n",
       "      <td>0.37</td>\n",
       "      <td>0.62</td>\n",
       "    </tr>\n",
       "    <tr>\n",
       "      <th>World</th>\n",
       "      <th>2020-netzero</th>\n",
       "      <td>229.0</td>\n",
       "      <td>0.31</td>\n",
       "      <td>0.04</td>\n",
       "      <td>0.20</td>\n",
       "      <td>0.27</td>\n",
       "      <td>0.30</td>\n",
       "      <td>0.33</td>\n",
       "      <td>0.48</td>\n",
       "    </tr>\n",
       "  </tbody>\n",
       "</table>\n",
       "</div>"
      ],
      "text/plain": [
       "                                                  count  mean   std   min  \\\n",
       "Category variable       region      timeframe                               \n",
       "C1       share-grossco2 R5ASIA      2020-netzero   68.0  0.69  0.05  0.56   \n",
       "                        R5LAM       2020-netzero   68.0  0.58  0.06  0.45   \n",
       "                        R5MAF       2020-netzero   68.0  0.64  0.08  0.44   \n",
       "                        R5OECD90+EU 2020-netzero   68.0  0.73  0.04  0.64   \n",
       "                        R5REF       2020-netzero   68.0  0.67  0.08  0.41   \n",
       "                        World       2020-netzero   70.0  0.68  0.04  0.56   \n",
       "         share-nonco2   R5ASIA      2020-netzero   68.0  0.31  0.05  0.20   \n",
       "                        R5LAM       2020-netzero   68.0  0.42  0.06  0.30   \n",
       "                        R5MAF       2020-netzero   68.0  0.36  0.08  0.23   \n",
       "                        R5OECD90+EU 2020-netzero   68.0  0.27  0.04  0.16   \n",
       "                        R5REF       2020-netzero   68.0  0.33  0.08  0.18   \n",
       "                        World       2020-netzero   70.0  0.32  0.04  0.23   \n",
       "C2       share-grossco2 R5ASIA      2020-netzero   96.0  0.71  0.04  0.65   \n",
       "                        R5LAM       2020-netzero   96.0  0.59  0.04  0.49   \n",
       "                        R5MAF       2020-netzero   96.0  0.67  0.07  0.53   \n",
       "                        R5OECD90+EU 2020-netzero   96.0  0.75  0.03  0.65   \n",
       "                        R5REF       2020-netzero   96.0  0.67  0.07  0.51   \n",
       "                        World       2020-netzero  102.0  0.70  0.03  0.63   \n",
       "         share-nonco2   R5ASIA      2020-netzero   96.0  0.29  0.04  0.19   \n",
       "                        R5LAM       2020-netzero   96.0  0.41  0.04  0.29   \n",
       "                        R5MAF       2020-netzero   96.0  0.33  0.07  0.19   \n",
       "                        R5OECD90+EU 2020-netzero   96.0  0.25  0.03  0.17   \n",
       "                        R5REF       2020-netzero   96.0  0.33  0.07  0.22   \n",
       "                        World       2020-netzero  102.0  0.30  0.03  0.21   \n",
       "C3       share-grossco2 R5ASIA      2020-netzero  223.0  0.71  0.04  0.59   \n",
       "                        R5LAM       2020-netzero  223.0  0.58  0.05  0.41   \n",
       "                        R5MAF       2020-netzero  223.0  0.66  0.09  0.42   \n",
       "                        R5OECD90+EU 2020-netzero  223.0  0.75  0.05  0.60   \n",
       "                        R5REF       2020-netzero  223.0  0.69  0.09  0.38   \n",
       "                        World       2020-netzero  229.0  0.69  0.04  0.52   \n",
       "         share-nonco2   R5ASIA      2020-netzero  223.0  0.29  0.04  0.18   \n",
       "                        R5LAM       2020-netzero  223.0  0.42  0.05  0.26   \n",
       "                        R5MAF       2020-netzero  223.0  0.34  0.09  0.18   \n",
       "                        R5OECD90+EU 2020-netzero  223.0  0.25  0.05  0.16   \n",
       "                        R5REF       2020-netzero  223.0  0.31  0.09  0.16   \n",
       "                        World       2020-netzero  229.0  0.31  0.04  0.20   \n",
       "\n",
       "                                                   25%   50%   75%   max  \n",
       "Category variable       region      timeframe                             \n",
       "C1       share-grossco2 R5ASIA      2020-netzero  0.66  0.68  0.74  0.80  \n",
       "                        R5LAM       2020-netzero  0.53  0.59  0.62  0.70  \n",
       "                        R5MAF       2020-netzero  0.58  0.63  0.70  0.77  \n",
       "                        R5OECD90+EU 2020-netzero  0.71  0.72  0.77  0.84  \n",
       "                        R5REF       2020-netzero  0.63  0.69  0.71  0.82  \n",
       "                        World       2020-netzero  0.66  0.68  0.70  0.77  \n",
       "         share-nonco2   R5ASIA      2020-netzero  0.26  0.32  0.34  0.44  \n",
       "                        R5LAM       2020-netzero  0.38  0.41  0.47  0.55  \n",
       "                        R5MAF       2020-netzero  0.30  0.37  0.42  0.56  \n",
       "                        R5OECD90+EU 2020-netzero  0.23  0.28  0.29  0.36  \n",
       "                        R5REF       2020-netzero  0.29  0.31  0.37  0.59  \n",
       "                        World       2020-netzero  0.30  0.32  0.34  0.44  \n",
       "C2       share-grossco2 R5ASIA      2020-netzero  0.68  0.70  0.75  0.81  \n",
       "                        R5LAM       2020-netzero  0.56  0.59  0.62  0.71  \n",
       "                        R5MAF       2020-netzero  0.62  0.68  0.72  0.81  \n",
       "                        R5OECD90+EU 2020-netzero  0.73  0.76  0.78  0.83  \n",
       "                        R5REF       2020-netzero  0.62  0.70  0.72  0.78  \n",
       "                        World       2020-netzero  0.68  0.70  0.72  0.79  \n",
       "         share-nonco2   R5ASIA      2020-netzero  0.25  0.30  0.32  0.35  \n",
       "                        R5LAM       2020-netzero  0.38  0.41  0.44  0.51  \n",
       "                        R5MAF       2020-netzero  0.28  0.32  0.38  0.47  \n",
       "                        R5OECD90+EU 2020-netzero  0.22  0.24  0.27  0.35  \n",
       "                        R5REF       2020-netzero  0.28  0.30  0.38  0.49  \n",
       "                        World       2020-netzero  0.28  0.30  0.32  0.37  \n",
       "C3       share-grossco2 R5ASIA      2020-netzero  0.68  0.70  0.74  0.82  \n",
       "                        R5LAM       2020-netzero  0.55  0.59  0.62  0.74  \n",
       "                        R5MAF       2020-netzero  0.58  0.68  0.73  0.82  \n",
       "                        R5OECD90+EU 2020-netzero  0.72  0.76  0.79  0.84  \n",
       "                        R5REF       2020-netzero  0.63  0.72  0.75  0.84  \n",
       "                        World       2020-netzero  0.67  0.70  0.73  0.80  \n",
       "         share-nonco2   R5ASIA      2020-netzero  0.26  0.30  0.32  0.41  \n",
       "                        R5LAM       2020-netzero  0.38  0.41  0.45  0.59  \n",
       "                        R5MAF       2020-netzero  0.27  0.32  0.42  0.58  \n",
       "                        R5OECD90+EU 2020-netzero  0.21  0.24  0.28  0.40  \n",
       "                        R5REF       2020-netzero  0.25  0.28  0.37  0.62  \n",
       "                        World       2020-netzero  0.27  0.30  0.33  0.48  "
      ]
     },
     "execution_count": 40,
     "metadata": {},
     "output_type": "execute_result"
    },
    {
     "data": {
      "application/javascript": "\n            setTimeout(function() {\n                var nbb_cell_id = 40;\n                var nbb_unformatted_code = \"statement2.loc[\\n    pd.IndexSlice[:, :,: , '2020-netzero'],\\n    :\\n]\";\n                var nbb_formatted_code = \"statement2.loc[pd.IndexSlice[:, :, :, \\\"2020-netzero\\\"], :]\";\n                var nbb_cells = Jupyter.notebook.get_cells();\n                for (var i = 0; i < nbb_cells.length; ++i) {\n                    if (nbb_cells[i].input_prompt_number == nbb_cell_id) {\n                        if (nbb_cells[i].get_text() == nbb_unformatted_code) {\n                             nbb_cells[i].set_text(nbb_formatted_code);\n                        }\n                        break;\n                    }\n                }\n            }, 500);\n            ",
      "text/plain": [
       "<IPython.core.display.Javascript object>"
      ]
     },
     "metadata": {},
     "output_type": "display_data"
    }
   ],
   "source": [
    "statement2.loc[\n",
    "    pd.IndexSlice[:, :,: , '2020-netzero'],\n",
    "    :\n",
    "]"
   ]
  },
  {
   "cell_type": "markdown",
   "metadata": {},
   "source": [
    "Why do we see this split? Probably need to take a closer look at the underlying data.."
   ]
  },
  {
   "cell_type": "code",
   "execution_count": 41,
   "metadata": {},
   "outputs": [
    {
     "data": {
      "application/javascript": "\n            setTimeout(function() {\n                var nbb_cell_id = 41;\n                var nbb_unformatted_code = \"df_r5 = pd.read_csv(\\n    os.environ['AR6_R5_DATA']\\n)\";\n                var nbb_formatted_code = \"df_r5 = pd.read_csv(os.environ[\\\"AR6_R5_DATA\\\"])\";\n                var nbb_cells = Jupyter.notebook.get_cells();\n                for (var i = 0; i < nbb_cells.length; ++i) {\n                    if (nbb_cells[i].input_prompt_number == nbb_cell_id) {\n                        if (nbb_cells[i].get_text() == nbb_unformatted_code) {\n                             nbb_cells[i].set_text(nbb_formatted_code);\n                        }\n                        break;\n                    }\n                }\n            }, 500);\n            ",
      "text/plain": [
       "<IPython.core.display.Javascript object>"
      ]
     },
     "metadata": {},
     "output_type": "display_data"
    }
   ],
   "source": [
    "df_r5 = pd.read_csv(\n",
    "    os.environ['AR6_R5_DATA']\n",
    ")"
   ]
  },
  {
   "cell_type": "code",
   "execution_count": 42,
   "metadata": {},
   "outputs": [
    {
     "data": {
      "application/javascript": "\n            setTimeout(function() {\n                var nbb_cell_id = 42;\n                var nbb_unformatted_code = \"df_r5_reg = pyam.IamDataFrame(df_r5[\\n    #(df_r5['Region'].isin(['R5LAM', 'R5MAF']))\\n    #&\\n    (\\n        (df_r5['Variable'].str.contains('Emissions|CH4'))\\n        |\\n        (df_r5['Variable'].str.contains('Emissions|N2O'))\\n    )\\n])\";\n                var nbb_formatted_code = \"df_r5_reg = pyam.IamDataFrame(\\n    df_r5[\\n        # (df_r5['Region'].isin(['R5LAM', 'R5MAF']))\\n        # &\\n        (\\n            (df_r5[\\\"Variable\\\"].str.contains(\\\"Emissions|CH4\\\"))\\n            | (df_r5[\\\"Variable\\\"].str.contains(\\\"Emissions|N2O\\\"))\\n        )\\n    ]\\n)\";\n                var nbb_cells = Jupyter.notebook.get_cells();\n                for (var i = 0; i < nbb_cells.length; ++i) {\n                    if (nbb_cells[i].input_prompt_number == nbb_cell_id) {\n                        if (nbb_cells[i].get_text() == nbb_unformatted_code) {\n                             nbb_cells[i].set_text(nbb_formatted_code);\n                        }\n                        break;\n                    }\n                }\n            }, 500);\n            ",
      "text/plain": [
       "<IPython.core.display.Javascript object>"
      ]
     },
     "metadata": {},
     "output_type": "display_data"
    }
   ],
   "source": [
    "df_r5_reg = pyam.IamDataFrame(df_r5[\n",
    "    #(df_r5['Region'].isin(['R5LAM', 'R5MAF']))\n",
    "    #&\n",
    "    (\n",
    "        (df_r5['Variable'].str.contains('Emissions|CH4'))\n",
    "        |\n",
    "        (df_r5['Variable'].str.contains('Emissions|N2O'))\n",
    "    )\n",
    "])"
   ]
  },
  {
   "cell_type": "code",
   "execution_count": 43,
   "metadata": {},
   "outputs": [
    {
     "name": "stderr",
     "output_type": "stream",
     "text": [
      "pyam.core - WARNING: Reading meta indicators for 2211 out of 2226 scenarios, ignoring 93 scenarios from file\n"
     ]
    },
    {
     "data": {
      "application/javascript": "\n            setTimeout(function() {\n                var nbb_cell_id = 43;\n                var nbb_unformatted_code = \"df_r5_reg.load_meta(\\n    os.environ['AR6_META']\\n)\";\n                var nbb_formatted_code = \"df_r5_reg.load_meta(os.environ[\\\"AR6_META\\\"])\";\n                var nbb_cells = Jupyter.notebook.get_cells();\n                for (var i = 0; i < nbb_cells.length; ++i) {\n                    if (nbb_cells[i].input_prompt_number == nbb_cell_id) {\n                        if (nbb_cells[i].get_text() == nbb_unformatted_code) {\n                             nbb_cells[i].set_text(nbb_formatted_code);\n                        }\n                        break;\n                    }\n                }\n            }, 500);\n            ",
      "text/plain": [
       "<IPython.core.display.Javascript object>"
      ]
     },
     "metadata": {},
     "output_type": "display_data"
    }
   ],
   "source": [
    "df_r5_reg.load_meta(\n",
    "    os.environ['AR6_META']\n",
    ")"
   ]
  },
  {
   "cell_type": "code",
   "execution_count": 44,
   "metadata": {},
   "outputs": [
    {
     "data": {
      "application/javascript": "\n            setTimeout(function() {\n                var nbb_cell_id = 44;\n                var nbb_unformatted_code = \"df_r5_reg_clim = (\\n    df_r5_reg\\n    .filter(\\n        Category='C1',\\n        variable=[\\n            'Emissions|Kyoto Gases',\\n            'Emissions|CH4*',\\n            'Emissions|N2O*',\\n        ]\\n    )\\n)\";\n                var nbb_formatted_code = \"df_r5_reg_clim = df_r5_reg.filter(\\n    Category=\\\"C1\\\",\\n    variable=[\\n        \\\"Emissions|Kyoto Gases\\\",\\n        \\\"Emissions|CH4*\\\",\\n        \\\"Emissions|N2O*\\\",\\n    ],\\n)\";\n                var nbb_cells = Jupyter.notebook.get_cells();\n                for (var i = 0; i < nbb_cells.length; ++i) {\n                    if (nbb_cells[i].input_prompt_number == nbb_cell_id) {\n                        if (nbb_cells[i].get_text() == nbb_unformatted_code) {\n                             nbb_cells[i].set_text(nbb_formatted_code);\n                        }\n                        break;\n                    }\n                }\n            }, 500);\n            ",
      "text/plain": [
       "<IPython.core.display.Javascript object>"
      ]
     },
     "metadata": {},
     "output_type": "display_data"
    }
   ],
   "source": [
    "df_r5_reg_clim = (\n",
    "    df_r5_reg\n",
    "    .filter(\n",
    "        Category='C1',\n",
    "        variable=[\n",
    "            'Emissions|Kyoto Gases',\n",
    "            'Emissions|CH4*',\n",
    "            'Emissions|N2O*',\n",
    "        ]\n",
    "    )\n",
    ")"
   ]
  },
  {
   "cell_type": "code",
   "execution_count": 45,
   "metadata": {},
   "outputs": [
    {
     "data": {
      "application/javascript": "\n            setTimeout(function() {\n                var nbb_cell_id = 45;\n                var nbb_unformatted_code = \"df_r5_reg_clim.convert_unit(\\n    current='Mt CH4/yr',\\n    to='Mt CO2-equiv/yr',\\n    context='AR6GWP100',\\n    inplace=True\\n)\";\n                var nbb_formatted_code = \"df_r5_reg_clim.convert_unit(\\n    current=\\\"Mt CH4/yr\\\", to=\\\"Mt CO2-equiv/yr\\\", context=\\\"AR6GWP100\\\", inplace=True\\n)\";\n                var nbb_cells = Jupyter.notebook.get_cells();\n                for (var i = 0; i < nbb_cells.length; ++i) {\n                    if (nbb_cells[i].input_prompt_number == nbb_cell_id) {\n                        if (nbb_cells[i].get_text() == nbb_unformatted_code) {\n                             nbb_cells[i].set_text(nbb_formatted_code);\n                        }\n                        break;\n                    }\n                }\n            }, 500);\n            ",
      "text/plain": [
       "<IPython.core.display.Javascript object>"
      ]
     },
     "metadata": {},
     "output_type": "display_data"
    }
   ],
   "source": [
    "df_r5_reg_clim.convert_unit(\n",
    "    current='Mt CH4/yr',\n",
    "    to='Mt CO2-equiv/yr',\n",
    "    context='AR6GWP100',\n",
    "    inplace=True\n",
    ")"
   ]
  },
  {
   "cell_type": "code",
   "execution_count": 46,
   "metadata": {},
   "outputs": [
    {
     "data": {
      "application/javascript": "\n            setTimeout(function() {\n                var nbb_cell_id = 46;\n                var nbb_unformatted_code = \"df_r5_reg_clim.convert_unit(\\n    current='kt N2O/yr',\\n    to='Mt CO2-equiv/yr',\\n    context='AR6GWP100',\\n    inplace=True\\n)\";\n                var nbb_formatted_code = \"df_r5_reg_clim.convert_unit(\\n    current=\\\"kt N2O/yr\\\", to=\\\"Mt CO2-equiv/yr\\\", context=\\\"AR6GWP100\\\", inplace=True\\n)\";\n                var nbb_cells = Jupyter.notebook.get_cells();\n                for (var i = 0; i < nbb_cells.length; ++i) {\n                    if (nbb_cells[i].input_prompt_number == nbb_cell_id) {\n                        if (nbb_cells[i].get_text() == nbb_unformatted_code) {\n                             nbb_cells[i].set_text(nbb_formatted_code);\n                        }\n                        break;\n                    }\n                }\n            }, 500);\n            ",
      "text/plain": [
       "<IPython.core.display.Javascript object>"
      ]
     },
     "metadata": {},
     "output_type": "display_data"
    }
   ],
   "source": [
    "df_r5_reg_clim.convert_unit(\n",
    "    current='kt N2O/yr',\n",
    "    to='Mt CO2-equiv/yr',\n",
    "    context='AR6GWP100',\n",
    "    inplace=True\n",
    ")"
   ]
  },
  {
   "cell_type": "code",
   "execution_count": 47,
   "metadata": {},
   "outputs": [
    {
     "data": {
      "application/javascript": "\n            setTimeout(function() {\n                var nbb_cell_id = 47;\n                var nbb_unformatted_code = \"share_ch4 = df_r5_reg_clim.divide(\\n    a='Emissions|CH4',\\n    b='Emissions|Kyoto Gases',\\n    name='share-ch4',\\n    ignore_units='Mt CO2-equiv/yr'\\n)\";\n                var nbb_formatted_code = \"share_ch4 = df_r5_reg_clim.divide(\\n    a=\\\"Emissions|CH4\\\",\\n    b=\\\"Emissions|Kyoto Gases\\\",\\n    name=\\\"share-ch4\\\",\\n    ignore_units=\\\"Mt CO2-equiv/yr\\\",\\n)\";\n                var nbb_cells = Jupyter.notebook.get_cells();\n                for (var i = 0; i < nbb_cells.length; ++i) {\n                    if (nbb_cells[i].input_prompt_number == nbb_cell_id) {\n                        if (nbb_cells[i].get_text() == nbb_unformatted_code) {\n                             nbb_cells[i].set_text(nbb_formatted_code);\n                        }\n                        break;\n                    }\n                }\n            }, 500);\n            ",
      "text/plain": [
       "<IPython.core.display.Javascript object>"
      ]
     },
     "metadata": {},
     "output_type": "display_data"
    }
   ],
   "source": [
    "share_ch4 = df_r5_reg_clim.divide(\n",
    "    a='Emissions|CH4',\n",
    "    b='Emissions|Kyoto Gases',\n",
    "    name='share-ch4',\n",
    "    ignore_units='Mt CO2-equiv/yr'\n",
    ")"
   ]
  },
  {
   "cell_type": "code",
   "execution_count": 48,
   "metadata": {},
   "outputs": [
    {
     "data": {
      "application/javascript": "\n            setTimeout(function() {\n                var nbb_cell_id = 48;\n                var nbb_unformatted_code = \"share_n2o = df_r5_reg_clim.divide(\\n    a='Emissions|N2O',\\n    b='Emissions|Kyoto Gases',\\n    name='share-n2o',\\n    ignore_units='Mt CO2-equiv/yr'\\n)\";\n                var nbb_formatted_code = \"share_n2o = df_r5_reg_clim.divide(\\n    a=\\\"Emissions|N2O\\\",\\n    b=\\\"Emissions|Kyoto Gases\\\",\\n    name=\\\"share-n2o\\\",\\n    ignore_units=\\\"Mt CO2-equiv/yr\\\",\\n)\";\n                var nbb_cells = Jupyter.notebook.get_cells();\n                for (var i = 0; i < nbb_cells.length; ++i) {\n                    if (nbb_cells[i].input_prompt_number == nbb_cell_id) {\n                        if (nbb_cells[i].get_text() == nbb_unformatted_code) {\n                             nbb_cells[i].set_text(nbb_formatted_code);\n                        }\n                        break;\n                    }\n                }\n            }, 500);\n            ",
      "text/plain": [
       "<IPython.core.display.Javascript object>"
      ]
     },
     "metadata": {},
     "output_type": "display_data"
    }
   ],
   "source": [
    "share_n2o = df_r5_reg_clim.divide(\n",
    "    a='Emissions|N2O',\n",
    "    b='Emissions|Kyoto Gases',\n",
    "    name='share-n2o',\n",
    "    ignore_units='Mt CO2-equiv/yr'\n",
    ")"
   ]
  },
  {
   "cell_type": "code",
   "execution_count": 49,
   "metadata": {},
   "outputs": [
    {
     "data": {
      "application/javascript": "\n            setTimeout(function() {\n                var nbb_cell_id = 49;\n                var nbb_unformatted_code = \"region_color_maps = {\\n    'R5ASIA': 'red',\\n    'R5MAF': 'blue',\\n    'R5OECD90+EU': 'green',\\n    'R5LAM': 'purple',\\n    'R5REF': 'orange'\\n}\";\n                var nbb_formatted_code = \"region_color_maps = {\\n    \\\"R5ASIA\\\": \\\"red\\\",\\n    \\\"R5MAF\\\": \\\"blue\\\",\\n    \\\"R5OECD90+EU\\\": \\\"green\\\",\\n    \\\"R5LAM\\\": \\\"purple\\\",\\n    \\\"R5REF\\\": \\\"orange\\\",\\n}\";\n                var nbb_cells = Jupyter.notebook.get_cells();\n                for (var i = 0; i < nbb_cells.length; ++i) {\n                    if (nbb_cells[i].input_prompt_number == nbb_cell_id) {\n                        if (nbb_cells[i].get_text() == nbb_unformatted_code) {\n                             nbb_cells[i].set_text(nbb_formatted_code);\n                        }\n                        break;\n                    }\n                }\n            }, 500);\n            ",
      "text/plain": [
       "<IPython.core.display.Javascript object>"
      ]
     },
     "metadata": {},
     "output_type": "display_data"
    }
   ],
   "source": [
    "region_color_maps = {\n",
    "    'R5ASIA': 'red',\n",
    "    'R5MAF': 'blue',\n",
    "    'R5OECD90+EU': 'green',\n",
    "    'R5LAM': 'purple',\n",
    "    'R5REF': 'orange'\n",
    "}"
   ]
  },
  {
   "cell_type": "code",
   "execution_count": 50,
   "metadata": {},
   "outputs": [
    {
     "data": {
      "application/javascript": "\n            setTimeout(function() {\n                var nbb_cell_id = 50;\n                var nbb_unformatted_code = \"component_ch4_afolu = df_r5_reg_clim.divide(\\n    a='Emissions|CH4|AFOLU',\\n    b='Emissions|CH4',\\n    name='share-ch4',\\n    ignore_units='Mt CO2-equiv/yr'\\n)\";\n                var nbb_formatted_code = \"component_ch4_afolu = df_r5_reg_clim.divide(\\n    a=\\\"Emissions|CH4|AFOLU\\\",\\n    b=\\\"Emissions|CH4\\\",\\n    name=\\\"share-ch4\\\",\\n    ignore_units=\\\"Mt CO2-equiv/yr\\\",\\n)\";\n                var nbb_cells = Jupyter.notebook.get_cells();\n                for (var i = 0; i < nbb_cells.length; ++i) {\n                    if (nbb_cells[i].input_prompt_number == nbb_cell_id) {\n                        if (nbb_cells[i].get_text() == nbb_unformatted_code) {\n                             nbb_cells[i].set_text(nbb_formatted_code);\n                        }\n                        break;\n                    }\n                }\n            }, 500);\n            ",
      "text/plain": [
       "<IPython.core.display.Javascript object>"
      ]
     },
     "metadata": {},
     "output_type": "display_data"
    }
   ],
   "source": [
    "component_ch4_afolu = df_r5_reg_clim.divide(\n",
    "    a='Emissions|CH4|AFOLU',\n",
    "    b='Emissions|CH4',\n",
    "    name='share-ch4',\n",
    "    ignore_units='Mt CO2-equiv/yr'\n",
    ")"
   ]
  },
  {
   "cell_type": "code",
   "execution_count": 51,
   "metadata": {},
   "outputs": [
    {
     "data": {
      "application/javascript": "\n            setTimeout(function() {\n                var nbb_cell_id = 51;\n                var nbb_unformatted_code = \"component_n2o_afolu = df_r5_reg_clim.divide(\\n    a='Emissions|N2O|AFOLU',\\n    b='Emissions|N2O',\\n    name='share-n2o',\\n    ignore_units='Mt CO2-equiv/yr'\\n)\";\n                var nbb_formatted_code = \"component_n2o_afolu = df_r5_reg_clim.divide(\\n    a=\\\"Emissions|N2O|AFOLU\\\",\\n    b=\\\"Emissions|N2O\\\",\\n    name=\\\"share-n2o\\\",\\n    ignore_units=\\\"Mt CO2-equiv/yr\\\",\\n)\";\n                var nbb_cells = Jupyter.notebook.get_cells();\n                for (var i = 0; i < nbb_cells.length; ++i) {\n                    if (nbb_cells[i].input_prompt_number == nbb_cell_id) {\n                        if (nbb_cells[i].get_text() == nbb_unformatted_code) {\n                             nbb_cells[i].set_text(nbb_formatted_code);\n                        }\n                        break;\n                    }\n                }\n            }, 500);\n            ",
      "text/plain": [
       "<IPython.core.display.Javascript object>"
      ]
     },
     "metadata": {},
     "output_type": "display_data"
    }
   ],
   "source": [
    "component_n2o_afolu = df_r5_reg_clim.divide(\n",
    "    a='Emissions|N2O|AFOLU',\n",
    "    b='Emissions|N2O',\n",
    "    name='share-n2o',\n",
    "    ignore_units='Mt CO2-equiv/yr'\n",
    ")"
   ]
  },
  {
   "cell_type": "code",
   "execution_count": 52,
   "metadata": {},
   "outputs": [
    {
     "data": {
      "application/javascript": "\n            setTimeout(function() {\n                var nbb_cell_id = 52;\n                var nbb_unformatted_code = \"component_ch4_energy = df_r5_reg_clim.divide(\\n    a='Emissions|CH4|Energy',\\n    b='Emissions|CH4',\\n    name='share-ch4',\\n    ignore_units='Mt CO2-equiv/yr'\\n)\";\n                var nbb_formatted_code = \"component_ch4_energy = df_r5_reg_clim.divide(\\n    a=\\\"Emissions|CH4|Energy\\\",\\n    b=\\\"Emissions|CH4\\\",\\n    name=\\\"share-ch4\\\",\\n    ignore_units=\\\"Mt CO2-equiv/yr\\\",\\n)\";\n                var nbb_cells = Jupyter.notebook.get_cells();\n                for (var i = 0; i < nbb_cells.length; ++i) {\n                    if (nbb_cells[i].input_prompt_number == nbb_cell_id) {\n                        if (nbb_cells[i].get_text() == nbb_unformatted_code) {\n                             nbb_cells[i].set_text(nbb_formatted_code);\n                        }\n                        break;\n                    }\n                }\n            }, 500);\n            ",
      "text/plain": [
       "<IPython.core.display.Javascript object>"
      ]
     },
     "metadata": {},
     "output_type": "display_data"
    }
   ],
   "source": [
    "component_ch4_energy = df_r5_reg_clim.divide(\n",
    "    a='Emissions|CH4|Energy',\n",
    "    b='Emissions|CH4',\n",
    "    name='share-ch4',\n",
    "    ignore_units='Mt CO2-equiv/yr'\n",
    ")"
   ]
  },
  {
   "cell_type": "code",
   "execution_count": 53,
   "metadata": {},
   "outputs": [
    {
     "data": {
      "text/plain": [
       "<matplotlib.legend.Legend at 0x1525209a0>"
      ]
     },
     "execution_count": 53,
     "metadata": {},
     "output_type": "execute_result"
    },
    {
     "data": {
      "image/png": "[encoded data removed]",
      "text/plain": [
       "<Figure size 640x480 with 2 Axes>"
      ]
     },
     "metadata": {},
     "output_type": "display_data"
    },
    {
     "data": {
      "application/javascript": "\n            setTimeout(function() {\n                var nbb_cell_id = 53;\n                var nbb_unformatted_code = \"fig, ax = plt.subplots(1, 2, sharey=True)\\nfor reg in region_color_maps.keys():\\n    med_ch4 = share_ch4.filter(region=reg, year=range(2020, 2055, 5)).timeseries().median()\\n    med_n2o = share_n2o.filter(region=reg, year=range(2020, 2055, 5)).timeseries().median()\\n    ax[0].plot(med_ch4.index, med_ch4.values, color=region_color_maps[reg], label=reg)\\n    ax[1].plot(med_n2o.index, med_n2o.values, color=region_color_maps[reg], label=reg)\\nax[0].set_ylim(0, 1)\\nax[1].legend()\";\n                var nbb_formatted_code = \"fig, ax = plt.subplots(1, 2, sharey=True)\\nfor reg in region_color_maps.keys():\\n    med_ch4 = (\\n        share_ch4.filter(region=reg, year=range(2020, 2055, 5)).timeseries().median()\\n    )\\n    med_n2o = (\\n        share_n2o.filter(region=reg, year=range(2020, 2055, 5)).timeseries().median()\\n    )\\n    ax[0].plot(med_ch4.index, med_ch4.values, color=region_color_maps[reg], label=reg)\\n    ax[1].plot(med_n2o.index, med_n2o.values, color=region_color_maps[reg], label=reg)\\nax[0].set_ylim(0, 1)\\nax[1].legend()\";\n                var nbb_cells = Jupyter.notebook.get_cells();\n                for (var i = 0; i < nbb_cells.length; ++i) {\n                    if (nbb_cells[i].input_prompt_number == nbb_cell_id) {\n                        if (nbb_cells[i].get_text() == nbb_unformatted_code) {\n                             nbb_cells[i].set_text(nbb_formatted_code);\n                        }\n                        break;\n                    }\n                }\n            }, 500);\n            ",
      "text/plain": [
       "<IPython.core.display.Javascript object>"
      ]
     },
     "metadata": {},
     "output_type": "display_data"
    }
   ],
   "source": [
    "fig, ax = plt.subplots(1, 2, sharey=True)\n",
    "for reg in region_color_maps.keys():\n",
    "    med_ch4 = share_ch4.filter(region=reg, year=range(2020, 2055, 5)).timeseries().median()\n",
    "    med_n2o = share_n2o.filter(region=reg, year=range(2020, 2055, 5)).timeseries().median()\n",
    "    ax[0].plot(med_ch4.index, med_ch4.values, color=region_color_maps[reg], label=reg)\n",
    "    ax[1].plot(med_n2o.index, med_n2o.values, color=region_color_maps[reg], label=reg)\n",
    "ax[0].set_ylim(0, 1)\n",
    "ax[1].legend()"
   ]
  },
  {
   "cell_type": "code",
   "execution_count": 54,
   "metadata": {},
   "outputs": [
    {
     "data": {
      "text/plain": [
       "<matplotlib.legend.Legend at 0x15e874220>"
      ]
     },
     "execution_count": 54,
     "metadata": {},
     "output_type": "execute_result"
    },
    {
     "data": {
      "image/png": "[encoded data removed]",
      "text/plain": [
       "<Figure size 640x480 with 2 Axes>"
      ]
     },
     "metadata": {},
     "output_type": "display_data"
    },
    {
     "data": {
      "application/javascript": "\n            setTimeout(function() {\n                var nbb_cell_id = 54;\n                var nbb_unformatted_code = \"fig, ax = plt.subplots(1, 2, sharey=True)\\nfor reg in region_color_maps.keys():\\n    med_ch4 = component_ch4_afolu.filter(region=reg, year=range(2020, 2055, 5)).timeseries().median()\\n    med_ch4_energy = component_ch4_energy.filter(region=reg, year=range(2020, 2055, 5)).timeseries().median()\\n    med_n2o = component_n2o_afolu.filter(region=reg, year=range(2020, 2055, 5)).timeseries().median()\\n    ax[0].plot(med_ch4.index, med_ch4.values, color=region_color_maps[reg], label=reg)\\n    ax[0].plot(med_ch4_energy.index, med_ch4_energy.values, color=region_color_maps[reg], linestyle='--')\\n    ax[1].plot(med_n2o.index, med_n2o.values, color=region_color_maps[reg], label=reg)\\nax[0].set_ylim(0, 1)\\nax[1].legend()\";\n                var nbb_formatted_code = \"fig, ax = plt.subplots(1, 2, sharey=True)\\nfor reg in region_color_maps.keys():\\n    med_ch4 = (\\n        component_ch4_afolu.filter(region=reg, year=range(2020, 2055, 5))\\n        .timeseries()\\n        .median()\\n    )\\n    med_ch4_energy = (\\n        component_ch4_energy.filter(region=reg, year=range(2020, 2055, 5))\\n        .timeseries()\\n        .median()\\n    )\\n    med_n2o = (\\n        component_n2o_afolu.filter(region=reg, year=range(2020, 2055, 5))\\n        .timeseries()\\n        .median()\\n    )\\n    ax[0].plot(med_ch4.index, med_ch4.values, color=region_color_maps[reg], label=reg)\\n    ax[0].plot(\\n        med_ch4_energy.index,\\n        med_ch4_energy.values,\\n        color=region_color_maps[reg],\\n        linestyle=\\\"--\\\",\\n    )\\n    ax[1].plot(med_n2o.index, med_n2o.values, color=region_color_maps[reg], label=reg)\\nax[0].set_ylim(0, 1)\\nax[1].legend()\";\n                var nbb_cells = Jupyter.notebook.get_cells();\n                for (var i = 0; i < nbb_cells.length; ++i) {\n                    if (nbb_cells[i].input_prompt_number == nbb_cell_id) {\n                        if (nbb_cells[i].get_text() == nbb_unformatted_code) {\n                             nbb_cells[i].set_text(nbb_formatted_code);\n                        }\n                        break;\n                    }\n                }\n            }, 500);\n            ",
      "text/plain": [
       "<IPython.core.display.Javascript object>"
      ]
     },
     "metadata": {},
     "output_type": "display_data"
    }
   ],
   "source": [
    "fig, ax = plt.subplots(1, 2, sharey=True)\n",
    "for reg in region_color_maps.keys():\n",
    "    med_ch4 = component_ch4_afolu.filter(region=reg, year=range(2020, 2055, 5)).timeseries().median()\n",
    "    med_ch4_energy = component_ch4_energy.filter(region=reg, year=range(2020, 2055, 5)).timeseries().median()\n",
    "    med_n2o = component_n2o_afolu.filter(region=reg, year=range(2020, 2055, 5)).timeseries().median()\n",
    "    ax[0].plot(med_ch4.index, med_ch4.values, color=region_color_maps[reg], label=reg)\n",
    "    ax[0].plot(med_ch4_energy.index, med_ch4_energy.values, color=region_color_maps[reg], linestyle='--')\n",
    "    ax[1].plot(med_n2o.index, med_n2o.values, color=region_color_maps[reg], label=reg)\n",
    "ax[0].set_ylim(0, 1)\n",
    "ax[1].legend()"
   ]
  },
  {
   "cell_type": "markdown",
   "metadata": {},
   "source": [
    "Supplementary figure 2."
   ]
  },
  {
   "cell_type": "code",
   "execution_count": 55,
   "metadata": {},
   "outputs": [
    {
     "data": {
      "text/plain": [
       "Text(0, 0.5, 'Composition of N$_2$O emissions')"
      ]
     },
     "execution_count": 55,
     "metadata": {},
     "output_type": "execute_result"
    },
    {
     "data": {
      "image/png": "[encoded data removed]",
      "text/plain": [
       "<Figure size 1000x1000 with 4 Axes>"
      ]
     },
     "metadata": {},
     "output_type": "display_data"
    },
    {
     "data": {
      "application/javascript": "\n            setTimeout(function() {\n                var nbb_cell_id = 55;\n                var nbb_unformatted_code = \"fig, ax = plt.subplots(2, 2, figsize=(10, 10), sharey=True, sharex=True)\\n# Start plotting the share of CH4 and N2O emissions\\nfor reg in region_color_maps.keys():\\n    med_ch4 = share_ch4.filter(region=reg, year=range(2020, 2055, 5)).timeseries().median()\\n    med_n2o = share_n2o.filter(region=reg, year=range(2020, 2055, 5)).timeseries().median()\\n    ax[0, 0].plot(med_ch4.index, med_ch4.values, color=region_color_maps[reg], label=reg)\\n    ax[0, 1].plot(med_n2o.index, med_n2o.values, color=region_color_maps[reg], label=reg)\\n# Now plot the share of AFOLU and energy\\nfor reg in region_color_maps.keys():\\n    med_ch4 = component_ch4_afolu.filter(region=reg, year=range(2020, 2055, 5)).timeseries().median()\\n    med_ch4_energy = component_ch4_energy.filter(region=reg, year=range(2020, 2055, 5)).timeseries().median()\\n    med_n2o = component_n2o_afolu.filter(region=reg, year=range(2020, 2055, 5)).timeseries().median()\\n    ax[1,0].plot(med_ch4.index, med_ch4.values, color=region_color_maps[reg], label=reg)\\n    ax[1,0].plot(med_ch4_energy.index, med_ch4_energy.values, color=region_color_maps[reg], linestyle='--')\\n    ax[1,1].plot(med_n2o.index, med_n2o.values, color=region_color_maps[reg], label=reg)\\nax[0,1].legend(frameon=False)\\nadd_legend = [\\n    Line2D([0], [0], color='black', label='AFOLU'),\\n    Line2D([0], [0], color='black', linestyle='--', label='Energy')\\n]\\nax[1,0].legend(handles=add_legend, frameon=False)\\nfor n,a in enumerate(ax[0]):\\n    a.grid(alpha=0.2)\\n    a.set_ylim(0, 1)\\n    a.xaxis.set_tick_params(labelbottom=True)\\n    a.yaxis.set_tick_params(labelleft=True)\\n    a.text(-0.1, 1.1, string.ascii_lowercase[n], transform=a.transAxes, \\n            size=12, weight='bold')\\nfor n, a in enumerate(ax[1]):\\n    a.grid(alpha=0.2)\\n    a.set_ylim(0, 1)\\n    a.xaxis.set_tick_params(labelbottom=True)\\n    a.yaxis.set_tick_params(labelleft=True)\\n    a.text(-0.1, 1.1, string.ascii_lowercase[n+2], transform=a.transAxes, \\n            size=12, weight='bold')\\nax[0,0].set_ylabel('Share of CH$_4$ in GHG emissions')\\nax[0,1].set_ylabel('Share of N$_2$O in GHG emissions')\\nax[1,0].set_ylabel('Composition of CH$_4$ emissions')\\nax[1,1].set_ylabel('Composition of N$_2$O emissions')\";\n                var nbb_formatted_code = \"fig, ax = plt.subplots(2, 2, figsize=(10, 10), sharey=True, sharex=True)\\n# Start plotting the share of CH4 and N2O emissions\\nfor reg in region_color_maps.keys():\\n    med_ch4 = (\\n        share_ch4.filter(region=reg, year=range(2020, 2055, 5)).timeseries().median()\\n    )\\n    med_n2o = (\\n        share_n2o.filter(region=reg, year=range(2020, 2055, 5)).timeseries().median()\\n    )\\n    ax[0, 0].plot(\\n        med_ch4.index, med_ch4.values, color=region_color_maps[reg], label=reg\\n    )\\n    ax[0, 1].plot(\\n        med_n2o.index, med_n2o.values, color=region_color_maps[reg], label=reg\\n    )\\n# Now plot the share of AFOLU and energy\\nfor reg in region_color_maps.keys():\\n    med_ch4 = (\\n        component_ch4_afolu.filter(region=reg, year=range(2020, 2055, 5))\\n        .timeseries()\\n        .median()\\n    )\\n    med_ch4_energy = (\\n        component_ch4_energy.filter(region=reg, year=range(2020, 2055, 5))\\n        .timeseries()\\n        .median()\\n    )\\n    med_n2o = (\\n        component_n2o_afolu.filter(region=reg, year=range(2020, 2055, 5))\\n        .timeseries()\\n        .median()\\n    )\\n    ax[1, 0].plot(\\n        med_ch4.index, med_ch4.values, color=region_color_maps[reg], label=reg\\n    )\\n    ax[1, 0].plot(\\n        med_ch4_energy.index,\\n        med_ch4_energy.values,\\n        color=region_color_maps[reg],\\n        linestyle=\\\"--\\\",\\n    )\\n    ax[1, 1].plot(\\n        med_n2o.index, med_n2o.values, color=region_color_maps[reg], label=reg\\n    )\\nax[0, 1].legend(frameon=False)\\nadd_legend = [\\n    Line2D([0], [0], color=\\\"black\\\", label=\\\"AFOLU\\\"),\\n    Line2D([0], [0], color=\\\"black\\\", linestyle=\\\"--\\\", label=\\\"Energy\\\"),\\n]\\nax[1, 0].legend(handles=add_legend, frameon=False)\\nfor n, a in enumerate(ax[0]):\\n    a.grid(alpha=0.2)\\n    a.set_ylim(0, 1)\\n    a.xaxis.set_tick_params(labelbottom=True)\\n    a.yaxis.set_tick_params(labelleft=True)\\n    a.text(\\n        -0.1,\\n        1.1,\\n        string.ascii_lowercase[n],\\n        transform=a.transAxes,\\n        size=12,\\n        weight=\\\"bold\\\",\\n    )\\nfor n, a in enumerate(ax[1]):\\n    a.grid(alpha=0.2)\\n    a.set_ylim(0, 1)\\n    a.xaxis.set_tick_params(labelbottom=True)\\n    a.yaxis.set_tick_params(labelleft=True)\\n    a.text(\\n        -0.1,\\n        1.1,\\n        string.ascii_lowercase[n + 2],\\n        transform=a.transAxes,\\n        size=12,\\n        weight=\\\"bold\\\",\\n    )\\nax[0, 0].set_ylabel(\\\"Share of CH$_4$ in GHG emissions\\\")\\nax[0, 1].set_ylabel(\\\"Share of N$_2$O in GHG emissions\\\")\\nax[1, 0].set_ylabel(\\\"Composition of CH$_4$ emissions\\\")\\nax[1, 1].set_ylabel(\\\"Composition of N$_2$O emissions\\\")\";\n                var nbb_cells = Jupyter.notebook.get_cells();\n                for (var i = 0; i < nbb_cells.length; ++i) {\n                    if (nbb_cells[i].input_prompt_number == nbb_cell_id) {\n                        if (nbb_cells[i].get_text() == nbb_unformatted_code) {\n                             nbb_cells[i].set_text(nbb_formatted_code);\n                        }\n                        break;\n                    }\n                }\n            }, 500);\n            ",
      "text/plain": [
       "<IPython.core.display.Javascript object>"
      ]
     },
     "metadata": {},
     "output_type": "display_data"
    }
   ],
   "source": [
    "fig, ax = plt.subplots(2, 2, figsize=(10, 10), sharey=True, sharex=True)\n",
    "# Start plotting the share of CH4 and N2O emissions\n",
    "for reg in region_color_maps.keys():\n",
    "    med_ch4 = share_ch4.filter(region=reg, year=range(2020, 2055, 5)).timeseries().median()\n",
    "    med_n2o = share_n2o.filter(region=reg, year=range(2020, 2055, 5)).timeseries().median()\n",
    "    ax[0, 0].plot(med_ch4.index, med_ch4.values, color=region_color_maps[reg], label=reg)\n",
    "    ax[0, 1].plot(med_n2o.index, med_n2o.values, color=region_color_maps[reg], label=reg)\n",
    "# Now plot the share of AFOLU and energy\n",
    "for reg in region_color_maps.keys():\n",
    "    med_ch4 = component_ch4_afolu.filter(region=reg, year=range(2020, 2055, 5)).timeseries().median()\n",
    "    med_ch4_energy = component_ch4_energy.filter(region=reg, year=range(2020, 2055, 5)).timeseries().median()\n",
    "    med_n2o = component_n2o_afolu.filter(region=reg, year=range(2020, 2055, 5)).timeseries().median()\n",
    "    ax[1,0].plot(med_ch4.index, med_ch4.values, color=region_color_maps[reg], label=reg)\n",
    "    ax[1,0].plot(med_ch4_energy.index, med_ch4_energy.values, color=region_color_maps[reg], linestyle='--')\n",
    "    ax[1,1].plot(med_n2o.index, med_n2o.values, color=region_color_maps[reg], label=reg)\n",
    "ax[0,1].legend(frameon=False)\n",
    "add_legend = [\n",
    "    Line2D([0], [0], color='black', label='AFOLU'),\n",
    "    Line2D([0], [0], color='black', linestyle='--', label='Energy')\n",
    "]\n",
    "ax[1,0].legend(handles=add_legend, frameon=False)\n",
    "for n,a in enumerate(ax[0]):\n",
    "    a.grid(alpha=0.2)\n",
    "    a.set_ylim(0, 1)\n",
    "    a.xaxis.set_tick_params(labelbottom=True)\n",
    "    a.yaxis.set_tick_params(labelleft=True)\n",
    "    a.text(-0.1, 1.1, string.ascii_lowercase[n], transform=a.transAxes, \n",
    "            size=12, weight='bold')\n",
    "for n, a in enumerate(ax[1]):\n",
    "    a.grid(alpha=0.2)\n",
    "    a.set_ylim(0, 1)\n",
    "    a.xaxis.set_tick_params(labelbottom=True)\n",
    "    a.yaxis.set_tick_params(labelleft=True)\n",
    "    a.text(-0.1, 1.1, string.ascii_lowercase[n+2], transform=a.transAxes, \n",
    "            size=12, weight='bold')\n",
    "ax[0,0].set_ylabel('Share of CH$_4$ in GHG emissions')\n",
    "ax[0,1].set_ylabel('Share of N$_2$O in GHG emissions')\n",
    "ax[1,0].set_ylabel('Composition of CH$_4$ emissions')\n",
    "ax[1,1].set_ylabel('Composition of N$_2$O emissions')"
   ]
  },
  {
   "cell_type": "code",
   "execution_count": 56,
   "metadata": {},
   "outputs": [
    {
     "data": {
      "application/javascript": "\n            setTimeout(function() {\n                var nbb_cell_id = 56;\n                var nbb_unformatted_code = \"fig.savefig(\\n    Path(\\n        'figures/SI_fig2.png'\\n    ),\\n    dpi=300,\\n    bbox_inches='tight'\\n)\";\n                var nbb_formatted_code = \"fig.savefig(Path(\\\"figures/SI_fig2.png\\\"), dpi=300, bbox_inches=\\\"tight\\\")\";\n                var nbb_cells = Jupyter.notebook.get_cells();\n                for (var i = 0; i < nbb_cells.length; ++i) {\n                    if (nbb_cells[i].input_prompt_number == nbb_cell_id) {\n                        if (nbb_cells[i].get_text() == nbb_unformatted_code) {\n                             nbb_cells[i].set_text(nbb_formatted_code);\n                        }\n                        break;\n                    }\n                }\n            }, 500);\n            ",
      "text/plain": [
       "<IPython.core.display.Javascript object>"
      ]
     },
     "metadata": {},
     "output_type": "display_data"
    }
   ],
   "source": [
    "fig.savefig(\n",
    "    Path(\n",
    "        'figures/SI_fig2.png'\n",
    "    ),\n",
    "    dpi=300,\n",
    "    bbox_inches='tight'\n",
    ")"
   ]
  },
  {
   "cell_type": "markdown",
   "metadata": {},
   "source": [
    "Ok, getting back to the original assessment - now going back to net zero CO2 to 2100."
   ]
  },
  {
   "cell_type": "code",
   "execution_count": 57,
   "metadata": {},
   "outputs": [
    {
     "data": {
      "text/html": [
       "<div>\n",
       "<style scoped>\n",
       "    .dataframe tbody tr th:only-of-type {\n",
       "        vertical-align: middle;\n",
       "    }\n",
       "\n",
       "    .dataframe tbody tr th {\n",
       "        vertical-align: top;\n",
       "    }\n",
       "\n",
       "    .dataframe thead th {\n",
       "        text-align: right;\n",
       "    }\n",
       "</style>\n",
       "<table border=\"1\" class=\"dataframe\">\n",
       "  <thead>\n",
       "    <tr style=\"text-align: right;\">\n",
       "      <th></th>\n",
       "      <th></th>\n",
       "      <th></th>\n",
       "      <th></th>\n",
       "      <th>count</th>\n",
       "      <th>mean</th>\n",
       "      <th>std</th>\n",
       "      <th>min</th>\n",
       "      <th>25%</th>\n",
       "      <th>50%</th>\n",
       "      <th>75%</th>\n",
       "      <th>max</th>\n",
       "    </tr>\n",
       "    <tr>\n",
       "      <th>Category</th>\n",
       "      <th>variable</th>\n",
       "      <th>region</th>\n",
       "      <th>timeframe</th>\n",
       "      <th></th>\n",
       "      <th></th>\n",
       "      <th></th>\n",
       "      <th></th>\n",
       "      <th></th>\n",
       "      <th></th>\n",
       "      <th></th>\n",
       "      <th></th>\n",
       "    </tr>\n",
       "  </thead>\n",
       "  <tbody>\n",
       "    <tr>\n",
       "      <th rowspan=\"12\" valign=\"top\">C1</th>\n",
       "      <th rowspan=\"6\" valign=\"top\">cdr</th>\n",
       "      <th>R5ASIA</th>\n",
       "      <th>netzero-2100</th>\n",
       "      <td>70.0</td>\n",
       "      <td>-169.0</td>\n",
       "      <td>87.0</td>\n",
       "      <td>-435.0</td>\n",
       "      <td>-195.0</td>\n",
       "      <td>-142.0</td>\n",
       "      <td>-123.0</td>\n",
       "      <td>-26.0</td>\n",
       "    </tr>\n",
       "    <tr>\n",
       "      <th>R5LAM</th>\n",
       "      <th>netzero-2100</th>\n",
       "      <td>70.0</td>\n",
       "      <td>-125.0</td>\n",
       "      <td>56.0</td>\n",
       "      <td>-275.0</td>\n",
       "      <td>-151.0</td>\n",
       "      <td>-121.0</td>\n",
       "      <td>-101.0</td>\n",
       "      <td>-16.0</td>\n",
       "    </tr>\n",
       "    <tr>\n",
       "      <th>R5MAF</th>\n",
       "      <th>netzero-2100</th>\n",
       "      <td>70.0</td>\n",
       "      <td>-106.0</td>\n",
       "      <td>46.0</td>\n",
       "      <td>-244.0</td>\n",
       "      <td>-118.0</td>\n",
       "      <td>-101.0</td>\n",
       "      <td>-84.0</td>\n",
       "      <td>-7.0</td>\n",
       "    </tr>\n",
       "    <tr>\n",
       "      <th>R5OECD90+EU</th>\n",
       "      <th>netzero-2100</th>\n",
       "      <td>70.0</td>\n",
       "      <td>-145.0</td>\n",
       "      <td>84.0</td>\n",
       "      <td>-330.0</td>\n",
       "      <td>-199.0</td>\n",
       "      <td>-110.0</td>\n",
       "      <td>-86.0</td>\n",
       "      <td>-13.0</td>\n",
       "    </tr>\n",
       "    <tr>\n",
       "      <th>R5REF</th>\n",
       "      <th>netzero-2100</th>\n",
       "      <td>70.0</td>\n",
       "      <td>-41.0</td>\n",
       "      <td>25.0</td>\n",
       "      <td>-147.0</td>\n",
       "      <td>-53.0</td>\n",
       "      <td>-32.0</td>\n",
       "      <td>-25.0</td>\n",
       "      <td>-6.0</td>\n",
       "    </tr>\n",
       "    <tr>\n",
       "      <th>World</th>\n",
       "      <th>netzero-2100</th>\n",
       "      <td>70.0</td>\n",
       "      <td>-585.0</td>\n",
       "      <td>231.0</td>\n",
       "      <td>-1030.0</td>\n",
       "      <td>-763.0</td>\n",
       "      <td>-532.0</td>\n",
       "      <td>-418.0</td>\n",
       "      <td>-68.0</td>\n",
       "    </tr>\n",
       "    <tr>\n",
       "      <th rowspan=\"6\" valign=\"top\">total-gross</th>\n",
       "      <th>R5ASIA</th>\n",
       "      <th>netzero-2100</th>\n",
       "      <td>68.0</td>\n",
       "      <td>270.0</td>\n",
       "      <td>100.0</td>\n",
       "      <td>70.0</td>\n",
       "      <td>203.0</td>\n",
       "      <td>255.0</td>\n",
       "      <td>328.0</td>\n",
       "      <td>666.0</td>\n",
       "    </tr>\n",
       "    <tr>\n",
       "      <th>R5LAM</th>\n",
       "      <th>netzero-2100</th>\n",
       "      <td>68.0</td>\n",
       "      <td>75.0</td>\n",
       "      <td>25.0</td>\n",
       "      <td>18.0</td>\n",
       "      <td>59.0</td>\n",
       "      <td>71.0</td>\n",
       "      <td>86.0</td>\n",
       "      <td>181.0</td>\n",
       "    </tr>\n",
       "    <tr>\n",
       "      <th>R5MAF</th>\n",
       "      <th>netzero-2100</th>\n",
       "      <td>68.0</td>\n",
       "      <td>163.0</td>\n",
       "      <td>62.0</td>\n",
       "      <td>55.0</td>\n",
       "      <td>121.0</td>\n",
       "      <td>160.0</td>\n",
       "      <td>190.0</td>\n",
       "      <td>419.0</td>\n",
       "    </tr>\n",
       "    <tr>\n",
       "      <th>R5OECD90+EU</th>\n",
       "      <th>netzero-2100</th>\n",
       "      <td>68.0</td>\n",
       "      <td>137.0</td>\n",
       "      <td>53.0</td>\n",
       "      <td>37.0</td>\n",
       "      <td>109.0</td>\n",
       "      <td>135.0</td>\n",
       "      <td>153.0</td>\n",
       "      <td>376.0</td>\n",
       "    </tr>\n",
       "    <tr>\n",
       "      <th>R5REF</th>\n",
       "      <th>netzero-2100</th>\n",
       "      <td>68.0</td>\n",
       "      <td>37.0</td>\n",
       "      <td>15.0</td>\n",
       "      <td>11.0</td>\n",
       "      <td>27.0</td>\n",
       "      <td>40.0</td>\n",
       "      <td>45.0</td>\n",
       "      <td>83.0</td>\n",
       "    </tr>\n",
       "    <tr>\n",
       "      <th>World</th>\n",
       "      <th>netzero-2100</th>\n",
       "      <td>70.0</td>\n",
       "      <td>713.0</td>\n",
       "      <td>237.0</td>\n",
       "      <td>210.0</td>\n",
       "      <td>559.0</td>\n",
       "      <td>695.0</td>\n",
       "      <td>831.0</td>\n",
       "      <td>1767.0</td>\n",
       "    </tr>\n",
       "    <tr>\n",
       "      <th rowspan=\"12\" valign=\"top\">C2</th>\n",
       "      <th rowspan=\"6\" valign=\"top\">cdr</th>\n",
       "      <th>R5ASIA</th>\n",
       "      <th>netzero-2100</th>\n",
       "      <td>102.0</td>\n",
       "      <td>-193.0</td>\n",
       "      <td>85.0</td>\n",
       "      <td>-514.0</td>\n",
       "      <td>-231.0</td>\n",
       "      <td>-163.0</td>\n",
       "      <td>-138.0</td>\n",
       "      <td>-78.0</td>\n",
       "    </tr>\n",
       "    <tr>\n",
       "      <th>R5LAM</th>\n",
       "      <th>netzero-2100</th>\n",
       "      <td>102.0</td>\n",
       "      <td>-137.0</td>\n",
       "      <td>58.0</td>\n",
       "      <td>-291.0</td>\n",
       "      <td>-191.0</td>\n",
       "      <td>-114.0</td>\n",
       "      <td>-96.0</td>\n",
       "      <td>-53.0</td>\n",
       "    </tr>\n",
       "    <tr>\n",
       "      <th>R5MAF</th>\n",
       "      <th>netzero-2100</th>\n",
       "      <td>102.0</td>\n",
       "      <td>-123.0</td>\n",
       "      <td>61.0</td>\n",
       "      <td>-337.0</td>\n",
       "      <td>-150.0</td>\n",
       "      <td>-109.0</td>\n",
       "      <td>-87.0</td>\n",
       "      <td>22.0</td>\n",
       "    </tr>\n",
       "    <tr>\n",
       "      <th>R5OECD90+EU</th>\n",
       "      <th>netzero-2100</th>\n",
       "      <td>102.0</td>\n",
       "      <td>-160.0</td>\n",
       "      <td>73.0</td>\n",
       "      <td>-390.0</td>\n",
       "      <td>-200.0</td>\n",
       "      <td>-135.0</td>\n",
       "      <td>-108.0</td>\n",
       "      <td>-67.0</td>\n",
       "    </tr>\n",
       "    <tr>\n",
       "      <th>R5REF</th>\n",
       "      <th>netzero-2100</th>\n",
       "      <td>102.0</td>\n",
       "      <td>-42.0</td>\n",
       "      <td>27.0</td>\n",
       "      <td>-158.0</td>\n",
       "      <td>-52.0</td>\n",
       "      <td>-33.0</td>\n",
       "      <td>-24.0</td>\n",
       "      <td>-15.0</td>\n",
       "    </tr>\n",
       "    <tr>\n",
       "      <th>World</th>\n",
       "      <th>netzero-2100</th>\n",
       "      <td>102.0</td>\n",
       "      <td>-655.0</td>\n",
       "      <td>215.0</td>\n",
       "      <td>-1264.0</td>\n",
       "      <td>-765.0</td>\n",
       "      <td>-632.0</td>\n",
       "      <td>-481.0</td>\n",
       "      <td>-338.0</td>\n",
       "    </tr>\n",
       "    <tr>\n",
       "      <th rowspan=\"6\" valign=\"top\">total-gross</th>\n",
       "      <th>R5ASIA</th>\n",
       "      <th>netzero-2100</th>\n",
       "      <td>96.0</td>\n",
       "      <td>243.0</td>\n",
       "      <td>54.0</td>\n",
       "      <td>145.0</td>\n",
       "      <td>202.0</td>\n",
       "      <td>233.0</td>\n",
       "      <td>264.0</td>\n",
       "      <td>386.0</td>\n",
       "    </tr>\n",
       "    <tr>\n",
       "      <th>R5LAM</th>\n",
       "      <th>netzero-2100</th>\n",
       "      <td>96.0</td>\n",
       "      <td>70.0</td>\n",
       "      <td>23.0</td>\n",
       "      <td>36.0</td>\n",
       "      <td>52.0</td>\n",
       "      <td>66.0</td>\n",
       "      <td>79.0</td>\n",
       "      <td>138.0</td>\n",
       "    </tr>\n",
       "    <tr>\n",
       "      <th>R5MAF</th>\n",
       "      <th>netzero-2100</th>\n",
       "      <td>96.0</td>\n",
       "      <td>144.0</td>\n",
       "      <td>46.0</td>\n",
       "      <td>70.0</td>\n",
       "      <td>110.0</td>\n",
       "      <td>145.0</td>\n",
       "      <td>175.0</td>\n",
       "      <td>301.0</td>\n",
       "    </tr>\n",
       "    <tr>\n",
       "      <th>R5OECD90+EU</th>\n",
       "      <th>netzero-2100</th>\n",
       "      <td>96.0</td>\n",
       "      <td>124.0</td>\n",
       "      <td>45.0</td>\n",
       "      <td>64.0</td>\n",
       "      <td>92.0</td>\n",
       "      <td>121.0</td>\n",
       "      <td>150.0</td>\n",
       "      <td>288.0</td>\n",
       "    </tr>\n",
       "    <tr>\n",
       "      <th>R5REF</th>\n",
       "      <th>netzero-2100</th>\n",
       "      <td>96.0</td>\n",
       "      <td>37.0</td>\n",
       "      <td>14.0</td>\n",
       "      <td>16.0</td>\n",
       "      <td>25.0</td>\n",
       "      <td>37.0</td>\n",
       "      <td>47.0</td>\n",
       "      <td>100.0</td>\n",
       "    </tr>\n",
       "    <tr>\n",
       "      <th>World</th>\n",
       "      <th>netzero-2100</th>\n",
       "      <td>102.0</td>\n",
       "      <td>642.0</td>\n",
       "      <td>160.0</td>\n",
       "      <td>363.0</td>\n",
       "      <td>532.0</td>\n",
       "      <td>643.0</td>\n",
       "      <td>712.0</td>\n",
       "      <td>1110.0</td>\n",
       "    </tr>\n",
       "    <tr>\n",
       "      <th rowspan=\"12\" valign=\"top\">C3</th>\n",
       "      <th rowspan=\"6\" valign=\"top\">cdr</th>\n",
       "      <th>R5ASIA</th>\n",
       "      <th>netzero-2100</th>\n",
       "      <td>229.0</td>\n",
       "      <td>-108.0</td>\n",
       "      <td>67.0</td>\n",
       "      <td>-343.0</td>\n",
       "      <td>-135.0</td>\n",
       "      <td>-100.0</td>\n",
       "      <td>-68.0</td>\n",
       "      <td>-1.0</td>\n",
       "    </tr>\n",
       "    <tr>\n",
       "      <th>R5LAM</th>\n",
       "      <th>netzero-2100</th>\n",
       "      <td>229.0</td>\n",
       "      <td>-71.0</td>\n",
       "      <td>42.0</td>\n",
       "      <td>-206.0</td>\n",
       "      <td>-99.0</td>\n",
       "      <td>-76.0</td>\n",
       "      <td>-39.0</td>\n",
       "      <td>-0.0</td>\n",
       "    </tr>\n",
       "    <tr>\n",
       "      <th>R5MAF</th>\n",
       "      <th>netzero-2100</th>\n",
       "      <td>229.0</td>\n",
       "      <td>-57.0</td>\n",
       "      <td>43.0</td>\n",
       "      <td>-271.0</td>\n",
       "      <td>-85.0</td>\n",
       "      <td>-55.0</td>\n",
       "      <td>-26.0</td>\n",
       "      <td>32.0</td>\n",
       "    </tr>\n",
       "    <tr>\n",
       "      <th>R5OECD90+EU</th>\n",
       "      <th>netzero-2100</th>\n",
       "      <td>229.0</td>\n",
       "      <td>-99.0</td>\n",
       "      <td>73.0</td>\n",
       "      <td>-338.0</td>\n",
       "      <td>-141.0</td>\n",
       "      <td>-76.0</td>\n",
       "      <td>-51.0</td>\n",
       "      <td>-0.0</td>\n",
       "    </tr>\n",
       "    <tr>\n",
       "      <th>R5REF</th>\n",
       "      <th>netzero-2100</th>\n",
       "      <td>229.0</td>\n",
       "      <td>-28.0</td>\n",
       "      <td>18.0</td>\n",
       "      <td>-112.0</td>\n",
       "      <td>-39.0</td>\n",
       "      <td>-24.0</td>\n",
       "      <td>-15.0</td>\n",
       "      <td>-0.0</td>\n",
       "    </tr>\n",
       "    <tr>\n",
       "      <th>World</th>\n",
       "      <th>netzero-2100</th>\n",
       "      <td>229.0</td>\n",
       "      <td>-364.0</td>\n",
       "      <td>196.0</td>\n",
       "      <td>-924.0</td>\n",
       "      <td>-502.0</td>\n",
       "      <td>-350.0</td>\n",
       "      <td>-253.0</td>\n",
       "      <td>-2.0</td>\n",
       "    </tr>\n",
       "    <tr>\n",
       "      <th rowspan=\"6\" valign=\"top\">total-gross</th>\n",
       "      <th>R5ASIA</th>\n",
       "      <th>netzero-2100</th>\n",
       "      <td>223.0</td>\n",
       "      <td>178.0</td>\n",
       "      <td>92.0</td>\n",
       "      <td>4.0</td>\n",
       "      <td>132.0</td>\n",
       "      <td>180.0</td>\n",
       "      <td>225.0</td>\n",
       "      <td>613.0</td>\n",
       "    </tr>\n",
       "    <tr>\n",
       "      <th>R5LAM</th>\n",
       "      <th>netzero-2100</th>\n",
       "      <td>223.0</td>\n",
       "      <td>50.0</td>\n",
       "      <td>27.0</td>\n",
       "      <td>1.0</td>\n",
       "      <td>36.0</td>\n",
       "      <td>46.0</td>\n",
       "      <td>62.0</td>\n",
       "      <td>166.0</td>\n",
       "    </tr>\n",
       "    <tr>\n",
       "      <th>R5MAF</th>\n",
       "      <th>netzero-2100</th>\n",
       "      <td>223.0</td>\n",
       "      <td>109.0</td>\n",
       "      <td>62.0</td>\n",
       "      <td>3.0</td>\n",
       "      <td>79.0</td>\n",
       "      <td>103.0</td>\n",
       "      <td>133.0</td>\n",
       "      <td>394.0</td>\n",
       "    </tr>\n",
       "    <tr>\n",
       "      <th>R5OECD90+EU</th>\n",
       "      <th>netzero-2100</th>\n",
       "      <td>223.0</td>\n",
       "      <td>95.0</td>\n",
       "      <td>55.0</td>\n",
       "      <td>2.0</td>\n",
       "      <td>66.0</td>\n",
       "      <td>87.0</td>\n",
       "      <td>119.0</td>\n",
       "      <td>344.0</td>\n",
       "    </tr>\n",
       "    <tr>\n",
       "      <th>R5REF</th>\n",
       "      <th>netzero-2100</th>\n",
       "      <td>223.0</td>\n",
       "      <td>26.0</td>\n",
       "      <td>15.0</td>\n",
       "      <td>0.0</td>\n",
       "      <td>18.0</td>\n",
       "      <td>25.0</td>\n",
       "      <td>35.0</td>\n",
       "      <td>75.0</td>\n",
       "    </tr>\n",
       "    <tr>\n",
       "      <th>World</th>\n",
       "      <th>netzero-2100</th>\n",
       "      <td>229.0</td>\n",
       "      <td>475.0</td>\n",
       "      <td>245.0</td>\n",
       "      <td>12.0</td>\n",
       "      <td>377.0</td>\n",
       "      <td>468.0</td>\n",
       "      <td>593.0</td>\n",
       "      <td>1631.0</td>\n",
       "    </tr>\n",
       "  </tbody>\n",
       "</table>\n",
       "</div>"
      ],
      "text/plain": [
       "                                               count   mean    std     min  \\\n",
       "Category variable    region      timeframe                                   \n",
       "C1       cdr         R5ASIA      netzero-2100   70.0 -169.0   87.0  -435.0   \n",
       "                     R5LAM       netzero-2100   70.0 -125.0   56.0  -275.0   \n",
       "                     R5MAF       netzero-2100   70.0 -106.0   46.0  -244.0   \n",
       "                     R5OECD90+EU netzero-2100   70.0 -145.0   84.0  -330.0   \n",
       "                     R5REF       netzero-2100   70.0  -41.0   25.0  -147.0   \n",
       "                     World       netzero-2100   70.0 -585.0  231.0 -1030.0   \n",
       "         total-gross R5ASIA      netzero-2100   68.0  270.0  100.0    70.0   \n",
       "                     R5LAM       netzero-2100   68.0   75.0   25.0    18.0   \n",
       "                     R5MAF       netzero-2100   68.0  163.0   62.0    55.0   \n",
       "                     R5OECD90+EU netzero-2100   68.0  137.0   53.0    37.0   \n",
       "                     R5REF       netzero-2100   68.0   37.0   15.0    11.0   \n",
       "                     World       netzero-2100   70.0  713.0  237.0   210.0   \n",
       "C2       cdr         R5ASIA      netzero-2100  102.0 -193.0   85.0  -514.0   \n",
       "                     R5LAM       netzero-2100  102.0 -137.0   58.0  -291.0   \n",
       "                     R5MAF       netzero-2100  102.0 -123.0   61.0  -337.0   \n",
       "                     R5OECD90+EU netzero-2100  102.0 -160.0   73.0  -390.0   \n",
       "                     R5REF       netzero-2100  102.0  -42.0   27.0  -158.0   \n",
       "                     World       netzero-2100  102.0 -655.0  215.0 -1264.0   \n",
       "         total-gross R5ASIA      netzero-2100   96.0  243.0   54.0   145.0   \n",
       "                     R5LAM       netzero-2100   96.0   70.0   23.0    36.0   \n",
       "                     R5MAF       netzero-2100   96.0  144.0   46.0    70.0   \n",
       "                     R5OECD90+EU netzero-2100   96.0  124.0   45.0    64.0   \n",
       "                     R5REF       netzero-2100   96.0   37.0   14.0    16.0   \n",
       "                     World       netzero-2100  102.0  642.0  160.0   363.0   \n",
       "C3       cdr         R5ASIA      netzero-2100  229.0 -108.0   67.0  -343.0   \n",
       "                     R5LAM       netzero-2100  229.0  -71.0   42.0  -206.0   \n",
       "                     R5MAF       netzero-2100  229.0  -57.0   43.0  -271.0   \n",
       "                     R5OECD90+EU netzero-2100  229.0  -99.0   73.0  -338.0   \n",
       "                     R5REF       netzero-2100  229.0  -28.0   18.0  -112.0   \n",
       "                     World       netzero-2100  229.0 -364.0  196.0  -924.0   \n",
       "         total-gross R5ASIA      netzero-2100  223.0  178.0   92.0     4.0   \n",
       "                     R5LAM       netzero-2100  223.0   50.0   27.0     1.0   \n",
       "                     R5MAF       netzero-2100  223.0  109.0   62.0     3.0   \n",
       "                     R5OECD90+EU netzero-2100  223.0   95.0   55.0     2.0   \n",
       "                     R5REF       netzero-2100  223.0   26.0   15.0     0.0   \n",
       "                     World       netzero-2100  229.0  475.0  245.0    12.0   \n",
       "\n",
       "                                                 25%    50%    75%     max  \n",
       "Category variable    region      timeframe                                  \n",
       "C1       cdr         R5ASIA      netzero-2100 -195.0 -142.0 -123.0   -26.0  \n",
       "                     R5LAM       netzero-2100 -151.0 -121.0 -101.0   -16.0  \n",
       "                     R5MAF       netzero-2100 -118.0 -101.0  -84.0    -7.0  \n",
       "                     R5OECD90+EU netzero-2100 -199.0 -110.0  -86.0   -13.0  \n",
       "                     R5REF       netzero-2100  -53.0  -32.0  -25.0    -6.0  \n",
       "                     World       netzero-2100 -763.0 -532.0 -418.0   -68.0  \n",
       "         total-gross R5ASIA      netzero-2100  203.0  255.0  328.0   666.0  \n",
       "                     R5LAM       netzero-2100   59.0   71.0   86.0   181.0  \n",
       "                     R5MAF       netzero-2100  121.0  160.0  190.0   419.0  \n",
       "                     R5OECD90+EU netzero-2100  109.0  135.0  153.0   376.0  \n",
       "                     R5REF       netzero-2100   27.0   40.0   45.0    83.0  \n",
       "                     World       netzero-2100  559.0  695.0  831.0  1767.0  \n",
       "C2       cdr         R5ASIA      netzero-2100 -231.0 -163.0 -138.0   -78.0  \n",
       "                     R5LAM       netzero-2100 -191.0 -114.0  -96.0   -53.0  \n",
       "                     R5MAF       netzero-2100 -150.0 -109.0  -87.0    22.0  \n",
       "                     R5OECD90+EU netzero-2100 -200.0 -135.0 -108.0   -67.0  \n",
       "                     R5REF       netzero-2100  -52.0  -33.0  -24.0   -15.0  \n",
       "                     World       netzero-2100 -765.0 -632.0 -481.0  -338.0  \n",
       "         total-gross R5ASIA      netzero-2100  202.0  233.0  264.0   386.0  \n",
       "                     R5LAM       netzero-2100   52.0   66.0   79.0   138.0  \n",
       "                     R5MAF       netzero-2100  110.0  145.0  175.0   301.0  \n",
       "                     R5OECD90+EU netzero-2100   92.0  121.0  150.0   288.0  \n",
       "                     R5REF       netzero-2100   25.0   37.0   47.0   100.0  \n",
       "                     World       netzero-2100  532.0  643.0  712.0  1110.0  \n",
       "C3       cdr         R5ASIA      netzero-2100 -135.0 -100.0  -68.0    -1.0  \n",
       "                     R5LAM       netzero-2100  -99.0  -76.0  -39.0    -0.0  \n",
       "                     R5MAF       netzero-2100  -85.0  -55.0  -26.0    32.0  \n",
       "                     R5OECD90+EU netzero-2100 -141.0  -76.0  -51.0    -0.0  \n",
       "                     R5REF       netzero-2100  -39.0  -24.0  -15.0    -0.0  \n",
       "                     World       netzero-2100 -502.0 -350.0 -253.0    -2.0  \n",
       "         total-gross R5ASIA      netzero-2100  132.0  180.0  225.0   613.0  \n",
       "                     R5LAM       netzero-2100   36.0   46.0   62.0   166.0  \n",
       "                     R5MAF       netzero-2100   79.0  103.0  133.0   394.0  \n",
       "                     R5OECD90+EU netzero-2100   66.0   87.0  119.0   344.0  \n",
       "                     R5REF       netzero-2100   18.0   25.0   35.0    75.0  \n",
       "                     World       netzero-2100  377.0  468.0  593.0  1631.0  "
      ]
     },
     "execution_count": 57,
     "metadata": {},
     "output_type": "execute_result"
    },
    {
     "data": {
      "application/javascript": "\n            setTimeout(function() {\n                var nbb_cell_id = 57;\n                var nbb_unformatted_code = \"statement1_global.loc[\\n    pd.IndexSlice[:, :,: , 'netzero-2100'],\\n    :\\n]\";\n                var nbb_formatted_code = \"statement1_global.loc[pd.IndexSlice[:, :, :, \\\"netzero-2100\\\"], :]\";\n                var nbb_cells = Jupyter.notebook.get_cells();\n                for (var i = 0; i < nbb_cells.length; ++i) {\n                    if (nbb_cells[i].input_prompt_number == nbb_cell_id) {\n                        if (nbb_cells[i].get_text() == nbb_unformatted_code) {\n                             nbb_cells[i].set_text(nbb_formatted_code);\n                        }\n                        break;\n                    }\n                }\n            }, 500);\n            ",
      "text/plain": [
       "<IPython.core.display.Javascript object>"
      ]
     },
     "metadata": {},
     "output_type": "display_data"
    }
   ],
   "source": [
    "statement1_global.loc[\n",
    "    pd.IndexSlice[:, :,: , 'netzero-2100'],\n",
    "    :\n",
    "]"
   ]
  },
  {
   "cell_type": "code",
   "execution_count": 60,
   "metadata": {},
   "outputs": [
    {
     "data": {
      "application/javascript": "\n            setTimeout(function() {\n                var nbb_cell_id = 60;\n                var nbb_unformatted_code = \"land_share = panel_a_reshaped[\\n    (panel_a_reshaped['variable'].isin(['share-land-cdr']))\\n].groupby(['Category', 'variable', 'region', 'timeframe'])['Value'].describe().round(2)\";\n                var nbb_formatted_code = \"land_share = (\\n    panel_a_reshaped[(panel_a_reshaped[\\\"variable\\\"].isin([\\\"share-land-cdr\\\"]))]\\n    .groupby([\\\"Category\\\", \\\"variable\\\", \\\"region\\\", \\\"timeframe\\\"])[\\\"Value\\\"]\\n    .describe()\\n    .round(2)\\n)\";\n                var nbb_cells = Jupyter.notebook.get_cells();\n                for (var i = 0; i < nbb_cells.length; ++i) {\n                    if (nbb_cells[i].input_prompt_number == nbb_cell_id) {\n                        if (nbb_cells[i].get_text() == nbb_unformatted_code) {\n                             nbb_cells[i].set_text(nbb_formatted_code);\n                        }\n                        break;\n                    }\n                }\n            }, 500);\n            ",
      "text/plain": [
       "<IPython.core.display.Javascript object>"
      ]
     },
     "metadata": {},
     "output_type": "display_data"
    }
   ],
   "source": [
    "land_share = panel_a_reshaped[\n",
    "    (panel_a_reshaped['variable'].isin(['share-land-cdr']))\n",
    "].groupby(['Category', 'variable', 'region', 'timeframe'])['Value'].describe().round(2)"
   ]
  },
  {
   "cell_type": "code",
   "execution_count": 62,
   "metadata": {},
   "outputs": [
    {
     "data": {
      "text/html": [
       "<div>\n",
       "<style scoped>\n",
       "    .dataframe tbody tr th:only-of-type {\n",
       "        vertical-align: middle;\n",
       "    }\n",
       "\n",
       "    .dataframe tbody tr th {\n",
       "        vertical-align: top;\n",
       "    }\n",
       "\n",
       "    .dataframe thead th {\n",
       "        text-align: right;\n",
       "    }\n",
       "</style>\n",
       "<table border=\"1\" class=\"dataframe\">\n",
       "  <thead>\n",
       "    <tr style=\"text-align: right;\">\n",
       "      <th></th>\n",
       "      <th></th>\n",
       "      <th>count</th>\n",
       "      <th>mean</th>\n",
       "      <th>std</th>\n",
       "      <th>min</th>\n",
       "      <th>25%</th>\n",
       "      <th>50%</th>\n",
       "      <th>75%</th>\n",
       "      <th>max</th>\n",
       "    </tr>\n",
       "    <tr>\n",
       "      <th>Category</th>\n",
       "      <th>variable</th>\n",
       "      <th></th>\n",
       "      <th></th>\n",
       "      <th></th>\n",
       "      <th></th>\n",
       "      <th></th>\n",
       "      <th></th>\n",
       "      <th></th>\n",
       "      <th></th>\n",
       "    </tr>\n",
       "  </thead>\n",
       "  <tbody>\n",
       "    <tr>\n",
       "      <th>C1</th>\n",
       "      <th>share-land-cdr</th>\n",
       "      <td>70.0</td>\n",
       "      <td>0.50</td>\n",
       "      <td>0.19</td>\n",
       "      <td>0.14</td>\n",
       "      <td>0.38</td>\n",
       "      <td>0.49</td>\n",
       "      <td>0.56</td>\n",
       "      <td>1.00</td>\n",
       "    </tr>\n",
       "    <tr>\n",
       "      <th>C2</th>\n",
       "      <th>share-land-cdr</th>\n",
       "      <td>102.0</td>\n",
       "      <td>0.38</td>\n",
       "      <td>0.18</td>\n",
       "      <td>0.02</td>\n",
       "      <td>0.29</td>\n",
       "      <td>0.41</td>\n",
       "      <td>0.49</td>\n",
       "      <td>0.98</td>\n",
       "    </tr>\n",
       "    <tr>\n",
       "      <th>C3</th>\n",
       "      <th>share-land-cdr</th>\n",
       "      <td>229.0</td>\n",
       "      <td>0.46</td>\n",
       "      <td>0.20</td>\n",
       "      <td>0.03</td>\n",
       "      <td>0.32</td>\n",
       "      <td>0.45</td>\n",
       "      <td>0.57</td>\n",
       "      <td>1.00</td>\n",
       "    </tr>\n",
       "  </tbody>\n",
       "</table>\n",
       "</div>"
      ],
      "text/plain": [
       "                         count  mean   std   min   25%   50%   75%   max\n",
       "Category variable                                                       \n",
       "C1       share-land-cdr   70.0  0.50  0.19  0.14  0.38  0.49  0.56  1.00\n",
       "C2       share-land-cdr  102.0  0.38  0.18  0.02  0.29  0.41  0.49  0.98\n",
       "C3       share-land-cdr  229.0  0.46  0.20  0.03  0.32  0.45  0.57  1.00"
      ]
     },
     "execution_count": 62,
     "metadata": {},
     "output_type": "execute_result"
    },
    {
     "data": {
      "application/javascript": "\n            setTimeout(function() {\n                var nbb_cell_id = 62;\n                var nbb_unformatted_code = \"land_share.loc[\\n    pd.IndexSlice[:,:,'R5LAM','netzero-2100']\\n]\";\n                var nbb_formatted_code = \"land_share.loc[pd.IndexSlice[:, :, \\\"R5LAM\\\", \\\"netzero-2100\\\"]]\";\n                var nbb_cells = Jupyter.notebook.get_cells();\n                for (var i = 0; i < nbb_cells.length; ++i) {\n                    if (nbb_cells[i].input_prompt_number == nbb_cell_id) {\n                        if (nbb_cells[i].get_text() == nbb_unformatted_code) {\n                             nbb_cells[i].set_text(nbb_formatted_code);\n                        }\n                        break;\n                    }\n                }\n            }, 500);\n            ",
      "text/plain": [
       "<IPython.core.display.Javascript object>"
      ]
     },
     "metadata": {},
     "output_type": "display_data"
    }
   ],
   "source": [
    "land_share.loc[\n",
    "    pd.IndexSlice[:,:,'R5LAM','netzero-2100']\n",
    "]"
   ]
  },
  {
   "cell_type": "code",
   "execution_count": null,
   "metadata": {},
   "outputs": [],
   "source": []
  }
 ],
 "metadata": {
  "kernelspec": {
   "display_name": "ar6_cdr_assessment",
   "language": "python",
   "name": "python3"
  },
  "language_info": {
   "codemirror_mode": {
    "name": "ipython",
    "version": 3
   },
   "file_extension": ".py",
   "mimetype": "text/x-python",
   "name": "python",
   "nbconvert_exporter": "python",
   "pygments_lexer": "ipython3",
   "version": "3.10.14"
  }
 },
 "nbformat": 4,
 "nbformat_minor": 2
}
