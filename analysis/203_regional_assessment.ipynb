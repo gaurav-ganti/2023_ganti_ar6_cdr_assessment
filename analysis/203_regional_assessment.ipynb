{
 "cells": [
  {
   "cell_type": "code",
   "execution_count": 1,
   "metadata": {},
   "outputs": [
    {
     "data": {
      "application/javascript": "if (typeof IPython !== 'undefined') { IPython.OutputArea.prototype._should_scroll = function(lines){ return false; }}",
      "text/plain": [
       "<IPython.core.display.Javascript object>"
      ]
     },
     "metadata": {},
     "output_type": "display_data"
    }
   ],
   "source": [
    "import pyam\n",
    "import pandas as pd\n",
    "import numpy as np\n",
    "import copy\n",
    "\n",
    "import matplotlib.pyplot as plt\n",
    "\n",
    "from pathlib import Path"
   ]
  },
  {
   "cell_type": "code",
   "execution_count": 2,
   "metadata": {},
   "outputs": [
    {
     "data": {
      "application/javascript": "\n            setTimeout(function() {\n                var nbb_cell_id = 2;\n                var nbb_unformatted_code = \"%load_ext nb_black\";\n                var nbb_formatted_code = \"%load_ext nb_black\";\n                var nbb_cells = Jupyter.notebook.get_cells();\n                for (var i = 0; i < nbb_cells.length; ++i) {\n                    if (nbb_cells[i].input_prompt_number == nbb_cell_id) {\n                        if (nbb_cells[i].get_text() == nbb_unformatted_code) {\n                             nbb_cells[i].set_text(nbb_formatted_code);\n                        }\n                        break;\n                    }\n                }\n            }, 500);\n            ",
      "text/plain": [
       "<IPython.core.display.Javascript object>"
      ]
     },
     "metadata": {},
     "output_type": "display_data"
    }
   ],
   "source": [
    "%load_ext nb_black"
   ]
  },
  {
   "cell_type": "markdown",
   "metadata": {},
   "source": [
    "Step 1: Let us read in the necessary data."
   ]
  },
  {
   "cell_type": "code",
   "execution_count": 3,
   "metadata": {},
   "outputs": [
    {
     "name": "stderr",
     "output_type": "stream",
     "text": [
      "pyam - INFO: Running in a notebook, setting up a basic logging at level INFO\n",
      "pyam.core - INFO: Reading file ../data/101_data.xlsx\n",
      "pyam.core - INFO: Reading meta indicators\n"
     ]
    },
    {
     "data": {
      "application/javascript": "\n            setTimeout(function() {\n                var nbb_cell_id = 3;\n                var nbb_unformatted_code = \"df = pyam.IamDataFrame(\\n    Path(\\n        '../data/101_data.xlsx'\\n    )\\n)\";\n                var nbb_formatted_code = \"df = pyam.IamDataFrame(Path(\\\"../data/101_data.xlsx\\\"))\";\n                var nbb_cells = Jupyter.notebook.get_cells();\n                for (var i = 0; i < nbb_cells.length; ++i) {\n                    if (nbb_cells[i].input_prompt_number == nbb_cell_id) {\n                        if (nbb_cells[i].get_text() == nbb_unformatted_code) {\n                             nbb_cells[i].set_text(nbb_formatted_code);\n                        }\n                        break;\n                    }\n                }\n            }, 500);\n            ",
      "text/plain": [
       "<IPython.core.display.Javascript object>"
      ]
     },
     "metadata": {},
     "output_type": "display_data"
    }
   ],
   "source": [
    "df = pyam.IamDataFrame(\n",
    "    Path(\n",
    "        '../data/101_data.xlsx'\n",
    "    )\n",
    ")"
   ]
  },
  {
   "cell_type": "code",
   "execution_count": 4,
   "metadata": {},
   "outputs": [
    {
     "data": {
      "application/javascript": "\n            setTimeout(function() {\n                var nbb_cell_id = 4;\n                var nbb_unformatted_code = \"df_cdr = (\\n    df\\n    .filter(\\n        variable='*Carbon Removal*'\\n    )\\n    .convert_unit(\\n        current='Gt CO2/yr',\\n        to='Gt CO2/yr',\\n        factor=-1\\n    )\\n)\";\n                var nbb_formatted_code = \"df_cdr = df.filter(variable=\\\"*Carbon Removal*\\\").convert_unit(\\n    current=\\\"Gt CO2/yr\\\", to=\\\"Gt CO2/yr\\\", factor=-1\\n)\";\n                var nbb_cells = Jupyter.notebook.get_cells();\n                for (var i = 0; i < nbb_cells.length; ++i) {\n                    if (nbb_cells[i].input_prompt_number == nbb_cell_id) {\n                        if (nbb_cells[i].get_text() == nbb_unformatted_code) {\n                             nbb_cells[i].set_text(nbb_formatted_code);\n                        }\n                        break;\n                    }\n                }\n            }, 500);\n            ",
      "text/plain": [
       "<IPython.core.display.Javascript object>"
      ]
     },
     "metadata": {},
     "output_type": "display_data"
    }
   ],
   "source": [
    "df_cdr = (\n",
    "    df\n",
    "    .filter(\n",
    "        variable='*Carbon Removal*'\n",
    "    )\n",
    "    .convert_unit(\n",
    "        current='Gt CO2/yr',\n",
    "        to='Gt CO2/yr',\n",
    "        factor=-1\n",
    "    )\n",
    ")"
   ]
  },
  {
   "cell_type": "code",
   "execution_count": 5,
   "metadata": {},
   "outputs": [
    {
     "data": {
      "application/javascript": "\n            setTimeout(function() {\n                var nbb_cell_id = 5;\n                var nbb_unformatted_code = \"df_compiled = pyam.concat(\\n    [\\n        df_cdr,\\n        df.filter(\\n            variable='*Carbon Removal*',\\n            keep=False\\n        )\\n    ]\\n)\";\n                var nbb_formatted_code = \"df_compiled = pyam.concat([df_cdr, df.filter(variable=\\\"*Carbon Removal*\\\", keep=False)])\";\n                var nbb_cells = Jupyter.notebook.get_cells();\n                for (var i = 0; i < nbb_cells.length; ++i) {\n                    if (nbb_cells[i].input_prompt_number == nbb_cell_id) {\n                        if (nbb_cells[i].get_text() == nbb_unformatted_code) {\n                             nbb_cells[i].set_text(nbb_formatted_code);\n                        }\n                        break;\n                    }\n                }\n            }, 500);\n            ",
      "text/plain": [
       "<IPython.core.display.Javascript object>"
      ]
     },
     "metadata": {},
     "output_type": "display_data"
    }
   ],
   "source": [
    "df_compiled = pyam.concat(\n",
    "    [\n",
    "        df_cdr,\n",
    "        df.filter(\n",
    "            variable='*Carbon Removal*',\n",
    "            keep=False\n",
    "        )\n",
    "    ]\n",
    ")"
   ]
  },
  {
   "cell_type": "markdown",
   "metadata": {},
   "source": [
    "Step 2: Now we want to assess the following elements for all the regions (including the World region):\n",
    "* Cumulative gross CO2 emissions between 2020 - netzero and netzero - 2100\n",
    "* Cumulative CDR between 2020 - netzero and netzero - 2100\n",
    "We want to assess this for each pathway category separately."
   ]
  },
  {
   "cell_type": "code",
   "execution_count": 6,
   "metadata": {},
   "outputs": [
    {
     "data": {
      "application/javascript": "\n            setTimeout(function() {\n                var nbb_cell_id = 6;\n                var nbb_unformatted_code = \"plot_data_panel_a = dict()\";\n                var nbb_formatted_code = \"plot_data_panel_a = dict()\";\n                var nbb_cells = Jupyter.notebook.get_cells();\n                for (var i = 0; i < nbb_cells.length; ++i) {\n                    if (nbb_cells[i].input_prompt_number == nbb_cell_id) {\n                        if (nbb_cells[i].get_text() == nbb_unformatted_code) {\n                             nbb_cells[i].set_text(nbb_formatted_code);\n                        }\n                        break;\n                    }\n                }\n            }, 500);\n            ",
      "text/plain": [
       "<IPython.core.display.Javascript object>"
      ]
     },
     "metadata": {},
     "output_type": "display_data"
    }
   ],
   "source": [
    "plot_data_panel_a = dict()"
   ]
  },
  {
   "cell_type": "code",
   "execution_count": 7,
   "metadata": {},
   "outputs": [
    {
     "data": {
      "text/plain": [
       "['R5ASIA', 'R5LAM', 'R5MAF', 'R5OECD90+EU', 'R5REF', 'World']"
      ]
     },
     "execution_count": 7,
     "metadata": {},
     "output_type": "execute_result"
    },
    {
     "data": {
      "application/javascript": "\n            setTimeout(function() {\n                var nbb_cell_id = 7;\n                var nbb_unformatted_code = \"df_compiled.region\";\n                var nbb_formatted_code = \"df_compiled.region\";\n                var nbb_cells = Jupyter.notebook.get_cells();\n                for (var i = 0; i < nbb_cells.length; ++i) {\n                    if (nbb_cells[i].input_prompt_number == nbb_cell_id) {\n                        if (nbb_cells[i].get_text() == nbb_unformatted_code) {\n                             nbb_cells[i].set_text(nbb_formatted_code);\n                        }\n                        break;\n                    }\n                }\n            }, 500);\n            ",
      "text/plain": [
       "<IPython.core.display.Javascript object>"
      ]
     },
     "metadata": {},
     "output_type": "display_data"
    }
   ],
   "source": [
    "df_compiled.region"
   ]
  },
  {
   "cell_type": "code",
   "execution_count": 8,
   "metadata": {},
   "outputs": [
    {
     "data": {
      "application/javascript": "\n            setTimeout(function() {\n                var nbb_cell_id = 8;\n                var nbb_unformatted_code = \"variable_name_maps = [\\n    ('AR6 Reanalysis|OSCARv3.2|Emissions|CO2|Gross', 'gross'),\\n    ('AR6 Reanalysis|OSCARv3.2|Emissions|NonCO2|Direct Only', 'nonco2'),\\n    ('AR6 Reanalysis|OSCARv3.2|Carbon Removal|Total', 'cdr')    \\n]\";\n                var nbb_formatted_code = \"variable_name_maps = [\\n    (\\\"AR6 Reanalysis|OSCARv3.2|Emissions|CO2|Gross\\\", \\\"gross\\\"),\\n    (\\\"AR6 Reanalysis|OSCARv3.2|Emissions|NonCO2|Direct Only\\\", \\\"nonco2\\\"),\\n    (\\\"AR6 Reanalysis|OSCARv3.2|Carbon Removal|Total\\\", \\\"cdr\\\"),\\n]\";\n                var nbb_cells = Jupyter.notebook.get_cells();\n                for (var i = 0; i < nbb_cells.length; ++i) {\n                    if (nbb_cells[i].input_prompt_number == nbb_cell_id) {\n                        if (nbb_cells[i].get_text() == nbb_unformatted_code) {\n                             nbb_cells[i].set_text(nbb_formatted_code);\n                        }\n                        break;\n                    }\n                }\n            }, 500);\n            ",
      "text/plain": [
       "<IPython.core.display.Javascript object>"
      ]
     },
     "metadata": {},
     "output_type": "display_data"
    }
   ],
   "source": [
    "variable_name_maps = [\n",
    "    ('AR6 Reanalysis|OSCARv3.2|Emissions|CO2|Gross', 'gross'),\n",
    "    ('AR6 Reanalysis|OSCARv3.2|Emissions|NonCO2|Direct Only', 'nonco2'),\n",
    "    ('AR6 Reanalysis|OSCARv3.2|Carbon Removal|Total', 'cdr')    \n",
    "]"
   ]
  },
  {
   "cell_type": "code",
   "execution_count": 9,
   "metadata": {},
   "outputs": [
    {
     "data": {
      "text/plain": [
       "array([2090, 2077, 2064, 2046, 2100, 2067, 2060, 2070, 2074, 2075, 2055,\n",
       "       2059, 2062, 2069, 2065, 2072, 2080, 2085, 2061, 2045, 2049, 2030,\n",
       "       2035, 2033, 2040, 2037, 2041, 2050, 2054, 2058, 2066, 2078, 2094,\n",
       "       2079, 2073, 2071, 2052, 2086, 2087, 2051, 2048, 2047, 2043, 2082,\n",
       "       2068, 2056, 2088, 2076, 2063, 2053, 2057, 2095, 2097, 2081, 2099,\n",
       "       2096, 2044, 2092, 2083, 2084, 2089])"
      ]
     },
     "execution_count": 9,
     "metadata": {},
     "output_type": "execute_result"
    },
    {
     "data": {
      "application/javascript": "\n            setTimeout(function() {\n                var nbb_cell_id = 9;\n                var nbb_unformatted_code = \"df_compiled.meta['Year of netzero CO2 emissions (Harm-Infilled) table'].unique()\";\n                var nbb_formatted_code = \"df_compiled.meta[\\\"Year of netzero CO2 emissions (Harm-Infilled) table\\\"].unique()\";\n                var nbb_cells = Jupyter.notebook.get_cells();\n                for (var i = 0; i < nbb_cells.length; ++i) {\n                    if (nbb_cells[i].input_prompt_number == nbb_cell_id) {\n                        if (nbb_cells[i].get_text() == nbb_unformatted_code) {\n                             nbb_cells[i].set_text(nbb_formatted_code);\n                        }\n                        break;\n                    }\n                }\n            }, 500);\n            ",
      "text/plain": [
       "<IPython.core.display.Javascript object>"
      ]
     },
     "metadata": {},
     "output_type": "display_data"
    }
   ],
   "source": [
    "df_compiled.meta['Year of netzero CO2 emissions (Harm-Infilled) table'].unique()"
   ]
  },
  {
   "cell_type": "code",
   "execution_count": 10,
   "metadata": {},
   "outputs": [
    {
     "data": {
      "application/javascript": "\n            setTimeout(function() {\n                var nbb_cell_id = 10;\n                var nbb_unformatted_code = \"df_compiled_alt = copy.deepcopy(df_compiled)\";\n                var nbb_formatted_code = \"df_compiled_alt = copy.deepcopy(df_compiled)\";\n                var nbb_cells = Jupyter.notebook.get_cells();\n                for (var i = 0; i < nbb_cells.length; ++i) {\n                    if (nbb_cells[i].input_prompt_number == nbb_cell_id) {\n                        if (nbb_cells[i].get_text() == nbb_unformatted_code) {\n                             nbb_cells[i].set_text(nbb_formatted_code);\n                        }\n                        break;\n                    }\n                }\n            }, 500);\n            ",
      "text/plain": [
       "<IPython.core.display.Javascript object>"
      ]
     },
     "metadata": {},
     "output_type": "display_data"
    }
   ],
   "source": [
    "df_compiled_alt = copy.deepcopy(df_compiled)"
   ]
  },
  {
   "cell_type": "code",
   "execution_count": 11,
   "metadata": {},
   "outputs": [
    {
     "data": {
      "application/javascript": "\n            setTimeout(function() {\n                var nbb_cell_id = 11;\n                var nbb_unformatted_code = \"cols_panel_a = ['Category']\\nfor reg in df_compiled.region:\\n    for var, name in variable_name_maps:\\n        df_to_assess = (\\n            df_compiled\\n            .filter(\\n                region=reg,\\n                variable=var\\n            )\\n            .timeseries()\\n        )\\n        # First set the cumulative value between 2020 and net zero\\n        cum_2020_netzero = (\\n            df_to_assess.apply(\\n                lambda x: pyam.timeseries.cumulative(\\n                    x,\\n                    first_year=2020,\\n                    last_year=df_compiled.meta.loc[x.name[0:2], 'Year of netzero CO2 emissions (Harm-Infilled) table']\\n                ),\\n                axis=1\\n            )\\n            .round(2)\\n        )\\n        # Then set the cumulative value between net zero and 2100\\n        cum_netzero_2100 = (\\n            df_to_assess.apply(\\n                lambda x: pyam.timeseries.cumulative(\\n                    x,\\n                    first_year=df_compiled.meta.loc[x.name[0:2], 'Year of netzero CO2 emissions (Harm-Infilled) table'],\\n                    last_year=2100\\n                ),\\n                axis=1\\n            )\\n            .round(2)\\n        )\\n        # Now assign both of these to the metadata\\n        df_compiled_alt.set_meta(\\n            meta=cum_2020_netzero,\\n            name=f'{name}_{reg}_2020-netzero'\\n        )\\n        df_compiled_alt.set_meta(\\n            meta=cum_netzero_2100,\\n            name=f'{name}_{reg}_netzero-2100'\\n        )\\n        cols_panel_a.append(f'{name}_{reg}_2020-netzero')\\n        cols_panel_a.append(f'{name}_{reg}_netzero-2100')\";\n                var nbb_formatted_code = \"cols_panel_a = [\\\"Category\\\"]\\nfor reg in df_compiled.region:\\n    for var, name in variable_name_maps:\\n        df_to_assess = df_compiled.filter(region=reg, variable=var).timeseries()\\n        # First set the cumulative value between 2020 and net zero\\n        cum_2020_netzero = df_to_assess.apply(\\n            lambda x: pyam.timeseries.cumulative(\\n                x,\\n                first_year=2020,\\n                last_year=df_compiled.meta.loc[\\n                    x.name[0:2], \\\"Year of netzero CO2 emissions (Harm-Infilled) table\\\"\\n                ],\\n            ),\\n            axis=1,\\n        ).round(2)\\n        # Then set the cumulative value between net zero and 2100\\n        cum_netzero_2100 = df_to_assess.apply(\\n            lambda x: pyam.timeseries.cumulative(\\n                x,\\n                first_year=df_compiled.meta.loc[\\n                    x.name[0:2], \\\"Year of netzero CO2 emissions (Harm-Infilled) table\\\"\\n                ],\\n                last_year=2100,\\n            ),\\n            axis=1,\\n        ).round(2)\\n        # Now assign both of these to the metadata\\n        df_compiled_alt.set_meta(\\n            meta=cum_2020_netzero, name=f\\\"{name}_{reg}_2020-netzero\\\"\\n        )\\n        df_compiled_alt.set_meta(\\n            meta=cum_netzero_2100, name=f\\\"{name}_{reg}_netzero-2100\\\"\\n        )\\n        cols_panel_a.append(f\\\"{name}_{reg}_2020-netzero\\\")\\n        cols_panel_a.append(f\\\"{name}_{reg}_netzero-2100\\\")\";\n                var nbb_cells = Jupyter.notebook.get_cells();\n                for (var i = 0; i < nbb_cells.length; ++i) {\n                    if (nbb_cells[i].input_prompt_number == nbb_cell_id) {\n                        if (nbb_cells[i].get_text() == nbb_unformatted_code) {\n                             nbb_cells[i].set_text(nbb_formatted_code);\n                        }\n                        break;\n                    }\n                }\n            }, 500);\n            ",
      "text/plain": [
       "<IPython.core.display.Javascript object>"
      ]
     },
     "metadata": {},
     "output_type": "display_data"
    }
   ],
   "source": [
    "cols_panel_a = ['Category']\n",
    "for reg in df_compiled.region:\n",
    "    for var, name in variable_name_maps:\n",
    "        df_to_assess = (\n",
    "            df_compiled\n",
    "            .filter(\n",
    "                region=reg,\n",
    "                variable=var\n",
    "            )\n",
    "            .timeseries()\n",
    "        )\n",
    "        # First set the cumulative value between 2020 and net zero\n",
    "        cum_2020_netzero = (\n",
    "            df_to_assess.apply(\n",
    "                lambda x: pyam.timeseries.cumulative(\n",
    "                    x,\n",
    "                    first_year=2020,\n",
    "                    last_year=df_compiled.meta.loc[x.name[0:2], 'Year of netzero CO2 emissions (Harm-Infilled) table']\n",
    "                ),\n",
    "                axis=1\n",
    "            )\n",
    "            .round(2)\n",
    "        )\n",
    "        # Then set the cumulative value between net zero and 2100\n",
    "        cum_netzero_2100 = (\n",
    "            df_to_assess.apply(\n",
    "                lambda x: pyam.timeseries.cumulative(\n",
    "                    x,\n",
    "                    first_year=df_compiled.meta.loc[x.name[0:2], 'Year of netzero CO2 emissions (Harm-Infilled) table'],\n",
    "                    last_year=2100\n",
    "                ),\n",
    "                axis=1\n",
    "            )\n",
    "            .round(2)\n",
    "        )\n",
    "        # Now assign both of these to the metadata\n",
    "        df_compiled_alt.set_meta(\n",
    "            meta=cum_2020_netzero,\n",
    "            name=f'{name}_{reg}_2020-netzero'\n",
    "        )\n",
    "        df_compiled_alt.set_meta(\n",
    "            meta=cum_netzero_2100,\n",
    "            name=f'{name}_{reg}_netzero-2100'\n",
    "        )\n",
    "        cols_panel_a.append(f'{name}_{reg}_2020-netzero')\n",
    "        cols_panel_a.append(f'{name}_{reg}_netzero-2100')"
   ]
  },
  {
   "cell_type": "code",
   "execution_count": 12,
   "metadata": {},
   "outputs": [
    {
     "data": {
      "application/javascript": "\n            setTimeout(function() {\n                var nbb_cell_id = 12;\n                var nbb_unformatted_code = \"plot_data_panel_a = df_compiled_alt.meta[cols_panel_a]\";\n                var nbb_formatted_code = \"plot_data_panel_a = df_compiled_alt.meta[cols_panel_a]\";\n                var nbb_cells = Jupyter.notebook.get_cells();\n                for (var i = 0; i < nbb_cells.length; ++i) {\n                    if (nbb_cells[i].input_prompt_number == nbb_cell_id) {\n                        if (nbb_cells[i].get_text() == nbb_unformatted_code) {\n                             nbb_cells[i].set_text(nbb_formatted_code);\n                        }\n                        break;\n                    }\n                }\n            }, 500);\n            ",
      "text/plain": [
       "<IPython.core.display.Javascript object>"
      ]
     },
     "metadata": {},
     "output_type": "display_data"
    }
   ],
   "source": [
    "plot_data_panel_a = df_compiled_alt.meta[cols_panel_a]"
   ]
  },
  {
   "cell_type": "markdown",
   "metadata": {},
   "source": [
    "Now, we want to add the two gross components to get the total gross emissions.\n",
    "\n",
    "After this, we want to find the proportion of CO2 versus non-CO2 emissions."
   ]
  },
  {
   "cell_type": "code",
   "execution_count": 13,
   "metadata": {},
   "outputs": [
    {
     "name": "stderr",
     "output_type": "stream",
     "text": [
      "/var/folders/yw/qzffs_jd1l3b0w2tk4cdqxj00000gn/T/ipykernel_4220/3871501106.py:3: SettingWithCopyWarning: \n",
      "A value is trying to be set on a copy of a slice from a DataFrame.\n",
      "Try using .loc[row_indexer,col_indexer] = value instead\n",
      "\n",
      "See the caveats in the documentation: https://pandas.pydata.org/pandas-docs/stable/user_guide/indexing.html#returning-a-view-versus-a-copy\n",
      "  plot_data_panel_a.loc[:, f'total-gross_{reg}_{year}'] = (\n",
      "/var/folders/yw/qzffs_jd1l3b0w2tk4cdqxj00000gn/T/ipykernel_4220/3871501106.py:8: SettingWithCopyWarning: \n",
      "A value is trying to be set on a copy of a slice from a DataFrame.\n",
      "Try using .loc[row_indexer,col_indexer] = value instead\n",
      "\n",
      "See the caveats in the documentation: https://pandas.pydata.org/pandas-docs/stable/user_guide/indexing.html#returning-a-view-versus-a-copy\n",
      "  plot_data_panel_a.loc[:, f'share-grossco2_{reg}_{year}'] = (\n",
      "/var/folders/yw/qzffs_jd1l3b0w2tk4cdqxj00000gn/T/ipykernel_4220/3871501106.py:13: SettingWithCopyWarning: \n",
      "A value is trying to be set on a copy of a slice from a DataFrame.\n",
      "Try using .loc[row_indexer,col_indexer] = value instead\n",
      "\n",
      "See the caveats in the documentation: https://pandas.pydata.org/pandas-docs/stable/user_guide/indexing.html#returning-a-view-versus-a-copy\n",
      "  plot_data_panel_a.loc[:, f'share-nonco2_{reg}_{year}'] = (\n",
      "/var/folders/yw/qzffs_jd1l3b0w2tk4cdqxj00000gn/T/ipykernel_4220/3871501106.py:3: SettingWithCopyWarning: \n",
      "A value is trying to be set on a copy of a slice from a DataFrame.\n",
      "Try using .loc[row_indexer,col_indexer] = value instead\n",
      "\n",
      "See the caveats in the documentation: https://pandas.pydata.org/pandas-docs/stable/user_guide/indexing.html#returning-a-view-versus-a-copy\n",
      "  plot_data_panel_a.loc[:, f'total-gross_{reg}_{year}'] = (\n",
      "/var/folders/yw/qzffs_jd1l3b0w2tk4cdqxj00000gn/T/ipykernel_4220/3871501106.py:8: SettingWithCopyWarning: \n",
      "A value is trying to be set on a copy of a slice from a DataFrame.\n",
      "Try using .loc[row_indexer,col_indexer] = value instead\n",
      "\n",
      "See the caveats in the documentation: https://pandas.pydata.org/pandas-docs/stable/user_guide/indexing.html#returning-a-view-versus-a-copy\n",
      "  plot_data_panel_a.loc[:, f'share-grossco2_{reg}_{year}'] = (\n",
      "/var/folders/yw/qzffs_jd1l3b0w2tk4cdqxj00000gn/T/ipykernel_4220/3871501106.py:13: SettingWithCopyWarning: \n",
      "A value is trying to be set on a copy of a slice from a DataFrame.\n",
      "Try using .loc[row_indexer,col_indexer] = value instead\n",
      "\n",
      "See the caveats in the documentation: https://pandas.pydata.org/pandas-docs/stable/user_guide/indexing.html#returning-a-view-versus-a-copy\n",
      "  plot_data_panel_a.loc[:, f'share-nonco2_{reg}_{year}'] = (\n",
      "/var/folders/yw/qzffs_jd1l3b0w2tk4cdqxj00000gn/T/ipykernel_4220/3871501106.py:3: SettingWithCopyWarning: \n",
      "A value is trying to be set on a copy of a slice from a DataFrame.\n",
      "Try using .loc[row_indexer,col_indexer] = value instead\n",
      "\n",
      "See the caveats in the documentation: https://pandas.pydata.org/pandas-docs/stable/user_guide/indexing.html#returning-a-view-versus-a-copy\n",
      "  plot_data_panel_a.loc[:, f'total-gross_{reg}_{year}'] = (\n",
      "/var/folders/yw/qzffs_jd1l3b0w2tk4cdqxj00000gn/T/ipykernel_4220/3871501106.py:8: SettingWithCopyWarning: \n",
      "A value is trying to be set on a copy of a slice from a DataFrame.\n",
      "Try using .loc[row_indexer,col_indexer] = value instead\n",
      "\n",
      "See the caveats in the documentation: https://pandas.pydata.org/pandas-docs/stable/user_guide/indexing.html#returning-a-view-versus-a-copy\n",
      "  plot_data_panel_a.loc[:, f'share-grossco2_{reg}_{year}'] = (\n",
      "/var/folders/yw/qzffs_jd1l3b0w2tk4cdqxj00000gn/T/ipykernel_4220/3871501106.py:13: SettingWithCopyWarning: \n",
      "A value is trying to be set on a copy of a slice from a DataFrame.\n",
      "Try using .loc[row_indexer,col_indexer] = value instead\n",
      "\n",
      "See the caveats in the documentation: https://pandas.pydata.org/pandas-docs/stable/user_guide/indexing.html#returning-a-view-versus-a-copy\n",
      "  plot_data_panel_a.loc[:, f'share-nonco2_{reg}_{year}'] = (\n",
      "/var/folders/yw/qzffs_jd1l3b0w2tk4cdqxj00000gn/T/ipykernel_4220/3871501106.py:3: SettingWithCopyWarning: \n",
      "A value is trying to be set on a copy of a slice from a DataFrame.\n",
      "Try using .loc[row_indexer,col_indexer] = value instead\n",
      "\n",
      "See the caveats in the documentation: https://pandas.pydata.org/pandas-docs/stable/user_guide/indexing.html#returning-a-view-versus-a-copy\n",
      "  plot_data_panel_a.loc[:, f'total-gross_{reg}_{year}'] = (\n",
      "/var/folders/yw/qzffs_jd1l3b0w2tk4cdqxj00000gn/T/ipykernel_4220/3871501106.py:8: SettingWithCopyWarning: \n",
      "A value is trying to be set on a copy of a slice from a DataFrame.\n",
      "Try using .loc[row_indexer,col_indexer] = value instead\n",
      "\n",
      "See the caveats in the documentation: https://pandas.pydata.org/pandas-docs/stable/user_guide/indexing.html#returning-a-view-versus-a-copy\n",
      "  plot_data_panel_a.loc[:, f'share-grossco2_{reg}_{year}'] = (\n",
      "/var/folders/yw/qzffs_jd1l3b0w2tk4cdqxj00000gn/T/ipykernel_4220/3871501106.py:13: SettingWithCopyWarning: \n",
      "A value is trying to be set on a copy of a slice from a DataFrame.\n",
      "Try using .loc[row_indexer,col_indexer] = value instead\n",
      "\n",
      "See the caveats in the documentation: https://pandas.pydata.org/pandas-docs/stable/user_guide/indexing.html#returning-a-view-versus-a-copy\n",
      "  plot_data_panel_a.loc[:, f'share-nonco2_{reg}_{year}'] = (\n",
      "/var/folders/yw/qzffs_jd1l3b0w2tk4cdqxj00000gn/T/ipykernel_4220/3871501106.py:3: SettingWithCopyWarning: \n",
      "A value is trying to be set on a copy of a slice from a DataFrame.\n",
      "Try using .loc[row_indexer,col_indexer] = value instead\n",
      "\n",
      "See the caveats in the documentation: https://pandas.pydata.org/pandas-docs/stable/user_guide/indexing.html#returning-a-view-versus-a-copy\n",
      "  plot_data_panel_a.loc[:, f'total-gross_{reg}_{year}'] = (\n",
      "/var/folders/yw/qzffs_jd1l3b0w2tk4cdqxj00000gn/T/ipykernel_4220/3871501106.py:8: SettingWithCopyWarning: \n",
      "A value is trying to be set on a copy of a slice from a DataFrame.\n",
      "Try using .loc[row_indexer,col_indexer] = value instead\n",
      "\n",
      "See the caveats in the documentation: https://pandas.pydata.org/pandas-docs/stable/user_guide/indexing.html#returning-a-view-versus-a-copy\n",
      "  plot_data_panel_a.loc[:, f'share-grossco2_{reg}_{year}'] = (\n",
      "/var/folders/yw/qzffs_jd1l3b0w2tk4cdqxj00000gn/T/ipykernel_4220/3871501106.py:13: SettingWithCopyWarning: \n",
      "A value is trying to be set on a copy of a slice from a DataFrame.\n",
      "Try using .loc[row_indexer,col_indexer] = value instead\n",
      "\n",
      "See the caveats in the documentation: https://pandas.pydata.org/pandas-docs/stable/user_guide/indexing.html#returning-a-view-versus-a-copy\n",
      "  plot_data_panel_a.loc[:, f'share-nonco2_{reg}_{year}'] = (\n",
      "/var/folders/yw/qzffs_jd1l3b0w2tk4cdqxj00000gn/T/ipykernel_4220/3871501106.py:3: SettingWithCopyWarning: \n",
      "A value is trying to be set on a copy of a slice from a DataFrame.\n",
      "Try using .loc[row_indexer,col_indexer] = value instead\n",
      "\n",
      "See the caveats in the documentation: https://pandas.pydata.org/pandas-docs/stable/user_guide/indexing.html#returning-a-view-versus-a-copy\n",
      "  plot_data_panel_a.loc[:, f'total-gross_{reg}_{year}'] = (\n",
      "/var/folders/yw/qzffs_jd1l3b0w2tk4cdqxj00000gn/T/ipykernel_4220/3871501106.py:8: SettingWithCopyWarning: \n",
      "A value is trying to be set on a copy of a slice from a DataFrame.\n",
      "Try using .loc[row_indexer,col_indexer] = value instead\n",
      "\n",
      "See the caveats in the documentation: https://pandas.pydata.org/pandas-docs/stable/user_guide/indexing.html#returning-a-view-versus-a-copy\n",
      "  plot_data_panel_a.loc[:, f'share-grossco2_{reg}_{year}'] = (\n",
      "/var/folders/yw/qzffs_jd1l3b0w2tk4cdqxj00000gn/T/ipykernel_4220/3871501106.py:13: SettingWithCopyWarning: \n",
      "A value is trying to be set on a copy of a slice from a DataFrame.\n",
      "Try using .loc[row_indexer,col_indexer] = value instead\n",
      "\n",
      "See the caveats in the documentation: https://pandas.pydata.org/pandas-docs/stable/user_guide/indexing.html#returning-a-view-versus-a-copy\n",
      "  plot_data_panel_a.loc[:, f'share-nonco2_{reg}_{year}'] = (\n",
      "/var/folders/yw/qzffs_jd1l3b0w2tk4cdqxj00000gn/T/ipykernel_4220/3871501106.py:3: SettingWithCopyWarning: \n",
      "A value is trying to be set on a copy of a slice from a DataFrame.\n",
      "Try using .loc[row_indexer,col_indexer] = value instead\n",
      "\n",
      "See the caveats in the documentation: https://pandas.pydata.org/pandas-docs/stable/user_guide/indexing.html#returning-a-view-versus-a-copy\n",
      "  plot_data_panel_a.loc[:, f'total-gross_{reg}_{year}'] = (\n",
      "/var/folders/yw/qzffs_jd1l3b0w2tk4cdqxj00000gn/T/ipykernel_4220/3871501106.py:8: SettingWithCopyWarning: \n",
      "A value is trying to be set on a copy of a slice from a DataFrame.\n",
      "Try using .loc[row_indexer,col_indexer] = value instead\n",
      "\n",
      "See the caveats in the documentation: https://pandas.pydata.org/pandas-docs/stable/user_guide/indexing.html#returning-a-view-versus-a-copy\n",
      "  plot_data_panel_a.loc[:, f'share-grossco2_{reg}_{year}'] = (\n",
      "/var/folders/yw/qzffs_jd1l3b0w2tk4cdqxj00000gn/T/ipykernel_4220/3871501106.py:13: SettingWithCopyWarning: \n",
      "A value is trying to be set on a copy of a slice from a DataFrame.\n",
      "Try using .loc[row_indexer,col_indexer] = value instead\n",
      "\n",
      "See the caveats in the documentation: https://pandas.pydata.org/pandas-docs/stable/user_guide/indexing.html#returning-a-view-versus-a-copy\n",
      "  plot_data_panel_a.loc[:, f'share-nonco2_{reg}_{year}'] = (\n",
      "/var/folders/yw/qzffs_jd1l3b0w2tk4cdqxj00000gn/T/ipykernel_4220/3871501106.py:3: SettingWithCopyWarning: \n",
      "A value is trying to be set on a copy of a slice from a DataFrame.\n",
      "Try using .loc[row_indexer,col_indexer] = value instead\n",
      "\n",
      "See the caveats in the documentation: https://pandas.pydata.org/pandas-docs/stable/user_guide/indexing.html#returning-a-view-versus-a-copy\n",
      "  plot_data_panel_a.loc[:, f'total-gross_{reg}_{year}'] = (\n",
      "/var/folders/yw/qzffs_jd1l3b0w2tk4cdqxj00000gn/T/ipykernel_4220/3871501106.py:8: SettingWithCopyWarning: \n",
      "A value is trying to be set on a copy of a slice from a DataFrame.\n",
      "Try using .loc[row_indexer,col_indexer] = value instead\n",
      "\n",
      "See the caveats in the documentation: https://pandas.pydata.org/pandas-docs/stable/user_guide/indexing.html#returning-a-view-versus-a-copy\n",
      "  plot_data_panel_a.loc[:, f'share-grossco2_{reg}_{year}'] = (\n",
      "/var/folders/yw/qzffs_jd1l3b0w2tk4cdqxj00000gn/T/ipykernel_4220/3871501106.py:13: SettingWithCopyWarning: \n",
      "A value is trying to be set on a copy of a slice from a DataFrame.\n",
      "Try using .loc[row_indexer,col_indexer] = value instead\n",
      "\n",
      "See the caveats in the documentation: https://pandas.pydata.org/pandas-docs/stable/user_guide/indexing.html#returning-a-view-versus-a-copy\n",
      "  plot_data_panel_a.loc[:, f'share-nonco2_{reg}_{year}'] = (\n",
      "/var/folders/yw/qzffs_jd1l3b0w2tk4cdqxj00000gn/T/ipykernel_4220/3871501106.py:3: SettingWithCopyWarning: \n",
      "A value is trying to be set on a copy of a slice from a DataFrame.\n",
      "Try using .loc[row_indexer,col_indexer] = value instead\n",
      "\n",
      "See the caveats in the documentation: https://pandas.pydata.org/pandas-docs/stable/user_guide/indexing.html#returning-a-view-versus-a-copy\n",
      "  plot_data_panel_a.loc[:, f'total-gross_{reg}_{year}'] = (\n",
      "/var/folders/yw/qzffs_jd1l3b0w2tk4cdqxj00000gn/T/ipykernel_4220/3871501106.py:8: SettingWithCopyWarning: \n",
      "A value is trying to be set on a copy of a slice from a DataFrame.\n",
      "Try using .loc[row_indexer,col_indexer] = value instead\n",
      "\n",
      "See the caveats in the documentation: https://pandas.pydata.org/pandas-docs/stable/user_guide/indexing.html#returning-a-view-versus-a-copy\n",
      "  plot_data_panel_a.loc[:, f'share-grossco2_{reg}_{year}'] = (\n",
      "/var/folders/yw/qzffs_jd1l3b0w2tk4cdqxj00000gn/T/ipykernel_4220/3871501106.py:13: SettingWithCopyWarning: \n",
      "A value is trying to be set on a copy of a slice from a DataFrame.\n",
      "Try using .loc[row_indexer,col_indexer] = value instead\n",
      "\n",
      "See the caveats in the documentation: https://pandas.pydata.org/pandas-docs/stable/user_guide/indexing.html#returning-a-view-versus-a-copy\n",
      "  plot_data_panel_a.loc[:, f'share-nonco2_{reg}_{year}'] = (\n",
      "/var/folders/yw/qzffs_jd1l3b0w2tk4cdqxj00000gn/T/ipykernel_4220/3871501106.py:3: SettingWithCopyWarning: \n",
      "A value is trying to be set on a copy of a slice from a DataFrame.\n",
      "Try using .loc[row_indexer,col_indexer] = value instead\n",
      "\n",
      "See the caveats in the documentation: https://pandas.pydata.org/pandas-docs/stable/user_guide/indexing.html#returning-a-view-versus-a-copy\n",
      "  plot_data_panel_a.loc[:, f'total-gross_{reg}_{year}'] = (\n",
      "/var/folders/yw/qzffs_jd1l3b0w2tk4cdqxj00000gn/T/ipykernel_4220/3871501106.py:8: SettingWithCopyWarning: \n",
      "A value is trying to be set on a copy of a slice from a DataFrame.\n",
      "Try using .loc[row_indexer,col_indexer] = value instead\n",
      "\n",
      "See the caveats in the documentation: https://pandas.pydata.org/pandas-docs/stable/user_guide/indexing.html#returning-a-view-versus-a-copy\n",
      "  plot_data_panel_a.loc[:, f'share-grossco2_{reg}_{year}'] = (\n",
      "/var/folders/yw/qzffs_jd1l3b0w2tk4cdqxj00000gn/T/ipykernel_4220/3871501106.py:13: SettingWithCopyWarning: \n",
      "A value is trying to be set on a copy of a slice from a DataFrame.\n",
      "Try using .loc[row_indexer,col_indexer] = value instead\n",
      "\n",
      "See the caveats in the documentation: https://pandas.pydata.org/pandas-docs/stable/user_guide/indexing.html#returning-a-view-versus-a-copy\n",
      "  plot_data_panel_a.loc[:, f'share-nonco2_{reg}_{year}'] = (\n",
      "/var/folders/yw/qzffs_jd1l3b0w2tk4cdqxj00000gn/T/ipykernel_4220/3871501106.py:3: SettingWithCopyWarning: \n",
      "A value is trying to be set on a copy of a slice from a DataFrame.\n",
      "Try using .loc[row_indexer,col_indexer] = value instead\n",
      "\n",
      "See the caveats in the documentation: https://pandas.pydata.org/pandas-docs/stable/user_guide/indexing.html#returning-a-view-versus-a-copy\n",
      "  plot_data_panel_a.loc[:, f'total-gross_{reg}_{year}'] = (\n",
      "/var/folders/yw/qzffs_jd1l3b0w2tk4cdqxj00000gn/T/ipykernel_4220/3871501106.py:8: SettingWithCopyWarning: \n",
      "A value is trying to be set on a copy of a slice from a DataFrame.\n",
      "Try using .loc[row_indexer,col_indexer] = value instead\n",
      "\n",
      "See the caveats in the documentation: https://pandas.pydata.org/pandas-docs/stable/user_guide/indexing.html#returning-a-view-versus-a-copy\n",
      "  plot_data_panel_a.loc[:, f'share-grossco2_{reg}_{year}'] = (\n",
      "/var/folders/yw/qzffs_jd1l3b0w2tk4cdqxj00000gn/T/ipykernel_4220/3871501106.py:13: SettingWithCopyWarning: \n",
      "A value is trying to be set on a copy of a slice from a DataFrame.\n",
      "Try using .loc[row_indexer,col_indexer] = value instead\n",
      "\n",
      "See the caveats in the documentation: https://pandas.pydata.org/pandas-docs/stable/user_guide/indexing.html#returning-a-view-versus-a-copy\n",
      "  plot_data_panel_a.loc[:, f'share-nonco2_{reg}_{year}'] = (\n",
      "/var/folders/yw/qzffs_jd1l3b0w2tk4cdqxj00000gn/T/ipykernel_4220/3871501106.py:3: SettingWithCopyWarning: \n",
      "A value is trying to be set on a copy of a slice from a DataFrame.\n",
      "Try using .loc[row_indexer,col_indexer] = value instead\n",
      "\n",
      "See the caveats in the documentation: https://pandas.pydata.org/pandas-docs/stable/user_guide/indexing.html#returning-a-view-versus-a-copy\n",
      "  plot_data_panel_a.loc[:, f'total-gross_{reg}_{year}'] = (\n",
      "/var/folders/yw/qzffs_jd1l3b0w2tk4cdqxj00000gn/T/ipykernel_4220/3871501106.py:8: SettingWithCopyWarning: \n",
      "A value is trying to be set on a copy of a slice from a DataFrame.\n",
      "Try using .loc[row_indexer,col_indexer] = value instead\n",
      "\n",
      "See the caveats in the documentation: https://pandas.pydata.org/pandas-docs/stable/user_guide/indexing.html#returning-a-view-versus-a-copy\n",
      "  plot_data_panel_a.loc[:, f'share-grossco2_{reg}_{year}'] = (\n",
      "/var/folders/yw/qzffs_jd1l3b0w2tk4cdqxj00000gn/T/ipykernel_4220/3871501106.py:13: SettingWithCopyWarning: \n",
      "A value is trying to be set on a copy of a slice from a DataFrame.\n",
      "Try using .loc[row_indexer,col_indexer] = value instead\n",
      "\n",
      "See the caveats in the documentation: https://pandas.pydata.org/pandas-docs/stable/user_guide/indexing.html#returning-a-view-versus-a-copy\n",
      "  plot_data_panel_a.loc[:, f'share-nonco2_{reg}_{year}'] = (\n"
     ]
    },
    {
     "data": {
      "application/javascript": "\n            setTimeout(function() {\n                var nbb_cell_id = 13;\n                var nbb_unformatted_code = \"for reg in df_compiled.region:\\n    for year in ['2020-netzero', 'netzero-2100']:\\n        plot_data_panel_a.loc[:, f'total-gross_{reg}_{year}'] = (\\n            plot_data_panel_a.loc[:, f'gross_{reg}_{year}']\\n            + \\n            plot_data_panel_a.loc[:, f'nonco2_{reg}_{year}']\\n        )\\n        plot_data_panel_a.loc[:, f'share-grossco2_{reg}_{year}'] = (\\n            plot_data_panel_a.loc[:, f'gross_{reg}_{year}']\\n            / \\n            plot_data_panel_a.loc[:, f'total-gross_{reg}_{year}']\\n        )\\n        plot_data_panel_a.loc[:, f'share-nonco2_{reg}_{year}'] = (\\n            plot_data_panel_a.loc[:, f'nonco2_{reg}_{year}']\\n            / \\n            plot_data_panel_a.loc[:, f'total-gross_{reg}_{year}']\\n        )\";\n                var nbb_formatted_code = \"for reg in df_compiled.region:\\n    for year in [\\\"2020-netzero\\\", \\\"netzero-2100\\\"]:\\n        plot_data_panel_a.loc[:, f\\\"total-gross_{reg}_{year}\\\"] = (\\n            plot_data_panel_a.loc[:, f\\\"gross_{reg}_{year}\\\"]\\n            + plot_data_panel_a.loc[:, f\\\"nonco2_{reg}_{year}\\\"]\\n        )\\n        plot_data_panel_a.loc[:, f\\\"share-grossco2_{reg}_{year}\\\"] = (\\n            plot_data_panel_a.loc[:, f\\\"gross_{reg}_{year}\\\"]\\n            / plot_data_panel_a.loc[:, f\\\"total-gross_{reg}_{year}\\\"]\\n        )\\n        plot_data_panel_a.loc[:, f\\\"share-nonco2_{reg}_{year}\\\"] = (\\n            plot_data_panel_a.loc[:, f\\\"nonco2_{reg}_{year}\\\"]\\n            / plot_data_panel_a.loc[:, f\\\"total-gross_{reg}_{year}\\\"]\\n        )\";\n                var nbb_cells = Jupyter.notebook.get_cells();\n                for (var i = 0; i < nbb_cells.length; ++i) {\n                    if (nbb_cells[i].input_prompt_number == nbb_cell_id) {\n                        if (nbb_cells[i].get_text() == nbb_unformatted_code) {\n                             nbb_cells[i].set_text(nbb_formatted_code);\n                        }\n                        break;\n                    }\n                }\n            }, 500);\n            ",
      "text/plain": [
       "<IPython.core.display.Javascript object>"
      ]
     },
     "metadata": {},
     "output_type": "display_data"
    }
   ],
   "source": [
    "for reg in df_compiled.region:\n",
    "    for year in ['2020-netzero', 'netzero-2100']:\n",
    "        plot_data_panel_a.loc[:, f'total-gross_{reg}_{year}'] = (\n",
    "            plot_data_panel_a.loc[:, f'gross_{reg}_{year}']\n",
    "            + \n",
    "            plot_data_panel_a.loc[:, f'nonco2_{reg}_{year}']\n",
    "        )\n",
    "        plot_data_panel_a.loc[:, f'share-grossco2_{reg}_{year}'] = (\n",
    "            plot_data_panel_a.loc[:, f'gross_{reg}_{year}']\n",
    "            / \n",
    "            plot_data_panel_a.loc[:, f'total-gross_{reg}_{year}']\n",
    "        )\n",
    "        plot_data_panel_a.loc[:, f'share-nonco2_{reg}_{year}'] = (\n",
    "            plot_data_panel_a.loc[:, f'nonco2_{reg}_{year}']\n",
    "            / \n",
    "            plot_data_panel_a.loc[:, f'total-gross_{reg}_{year}']\n",
    "        )"
   ]
  },
  {
   "cell_type": "markdown",
   "metadata": {},
   "source": [
    "Step 3: Now, reformat the data so we have the variable, region, and timeframe in a long dataframe."
   ]
  },
  {
   "cell_type": "code",
   "execution_count": 14,
   "metadata": {},
   "outputs": [
    {
     "data": {
      "application/javascript": "\n            setTimeout(function() {\n                var nbb_cell_id = 14;\n                var nbb_unformatted_code = \"plot_data_panel_a = (\\n    plot_data_panel_a\\n    .set_index('Category', append=True)\\n)\";\n                var nbb_formatted_code = \"plot_data_panel_a = plot_data_panel_a.set_index(\\\"Category\\\", append=True)\";\n                var nbb_cells = Jupyter.notebook.get_cells();\n                for (var i = 0; i < nbb_cells.length; ++i) {\n                    if (nbb_cells[i].input_prompt_number == nbb_cell_id) {\n                        if (nbb_cells[i].get_text() == nbb_unformatted_code) {\n                             nbb_cells[i].set_text(nbb_formatted_code);\n                        }\n                        break;\n                    }\n                }\n            }, 500);\n            ",
      "text/plain": [
       "<IPython.core.display.Javascript object>"
      ]
     },
     "metadata": {},
     "output_type": "display_data"
    }
   ],
   "source": [
    "plot_data_panel_a = (\n",
    "    plot_data_panel_a\n",
    "    .set_index('Category', append=True)\n",
    ")"
   ]
  },
  {
   "cell_type": "code",
   "execution_count": 15,
   "metadata": {},
   "outputs": [
    {
     "data": {
      "application/javascript": "\n            setTimeout(function() {\n                var nbb_cell_id = 15;\n                var nbb_unformatted_code = \"panel_a_reshaped = pd.melt(\\n    plot_data_panel_a.reset_index(), \\n    id_vars=['model', 'scenario', 'Category'], \\n    var_name='agg_variable', \\n    value_name='Value'\\n)\";\n                var nbb_formatted_code = \"panel_a_reshaped = pd.melt(\\n    plot_data_panel_a.reset_index(),\\n    id_vars=[\\\"model\\\", \\\"scenario\\\", \\\"Category\\\"],\\n    var_name=\\\"agg_variable\\\",\\n    value_name=\\\"Value\\\",\\n)\";\n                var nbb_cells = Jupyter.notebook.get_cells();\n                for (var i = 0; i < nbb_cells.length; ++i) {\n                    if (nbb_cells[i].input_prompt_number == nbb_cell_id) {\n                        if (nbb_cells[i].get_text() == nbb_unformatted_code) {\n                             nbb_cells[i].set_text(nbb_formatted_code);\n                        }\n                        break;\n                    }\n                }\n            }, 500);\n            ",
      "text/plain": [
       "<IPython.core.display.Javascript object>"
      ]
     },
     "metadata": {},
     "output_type": "display_data"
    }
   ],
   "source": [
    "panel_a_reshaped = pd.melt(\n",
    "    plot_data_panel_a.reset_index(), \n",
    "    id_vars=['model', 'scenario', 'Category'], \n",
    "    var_name='agg_variable', \n",
    "    value_name='Value'\n",
    ")"
   ]
  },
  {
   "cell_type": "code",
   "execution_count": 16,
   "metadata": {},
   "outputs": [
    {
     "data": {
      "text/plain": [
       "['gross', 'R5ASIA', '2020-netzero']"
      ]
     },
     "execution_count": 16,
     "metadata": {},
     "output_type": "execute_result"
    },
    {
     "data": {
      "application/javascript": "\n            setTimeout(function() {\n                var nbb_cell_id = 16;\n                var nbb_unformatted_code = \"panel_a_reshaped['agg_variable'].str.split('_')[0]\";\n                var nbb_formatted_code = \"panel_a_reshaped[\\\"agg_variable\\\"].str.split(\\\"_\\\")[0]\";\n                var nbb_cells = Jupyter.notebook.get_cells();\n                for (var i = 0; i < nbb_cells.length; ++i) {\n                    if (nbb_cells[i].input_prompt_number == nbb_cell_id) {\n                        if (nbb_cells[i].get_text() == nbb_unformatted_code) {\n                             nbb_cells[i].set_text(nbb_formatted_code);\n                        }\n                        break;\n                    }\n                }\n            }, 500);\n            ",
      "text/plain": [
       "<IPython.core.display.Javascript object>"
      ]
     },
     "metadata": {},
     "output_type": "display_data"
    }
   ],
   "source": [
    "panel_a_reshaped['agg_variable'].str.split('_')[0]"
   ]
  },
  {
   "cell_type": "code",
   "execution_count": 17,
   "metadata": {},
   "outputs": [
    {
     "data": {
      "application/javascript": "\n            setTimeout(function() {\n                var nbb_cell_id = 17;\n                var nbb_unformatted_code = \"panel_a_reshaped.loc[:, 'variable'] = (\\n    panel_a_reshaped['agg_variable']\\n    .apply(\\n        lambda x: x.split('_')[0]\\n    )\\n)\";\n                var nbb_formatted_code = \"panel_a_reshaped.loc[:, \\\"variable\\\"] = panel_a_reshaped[\\\"agg_variable\\\"].apply(\\n    lambda x: x.split(\\\"_\\\")[0]\\n)\";\n                var nbb_cells = Jupyter.notebook.get_cells();\n                for (var i = 0; i < nbb_cells.length; ++i) {\n                    if (nbb_cells[i].input_prompt_number == nbb_cell_id) {\n                        if (nbb_cells[i].get_text() == nbb_unformatted_code) {\n                             nbb_cells[i].set_text(nbb_formatted_code);\n                        }\n                        break;\n                    }\n                }\n            }, 500);\n            ",
      "text/plain": [
       "<IPython.core.display.Javascript object>"
      ]
     },
     "metadata": {},
     "output_type": "display_data"
    }
   ],
   "source": [
    "panel_a_reshaped.loc[:, 'variable'] = (\n",
    "    panel_a_reshaped['agg_variable']\n",
    "    .apply(\n",
    "        lambda x: x.split('_')[0]\n",
    "    )\n",
    ")"
   ]
  },
  {
   "cell_type": "code",
   "execution_count": 18,
   "metadata": {},
   "outputs": [
    {
     "data": {
      "application/javascript": "\n            setTimeout(function() {\n                var nbb_cell_id = 18;\n                var nbb_unformatted_code = \"panel_a_reshaped.loc[:, 'region'] = (\\n    panel_a_reshaped['agg_variable']\\n    .apply(\\n        lambda x: x.split('_')[1]\\n    )\\n)\";\n                var nbb_formatted_code = \"panel_a_reshaped.loc[:, \\\"region\\\"] = panel_a_reshaped[\\\"agg_variable\\\"].apply(\\n    lambda x: x.split(\\\"_\\\")[1]\\n)\";\n                var nbb_cells = Jupyter.notebook.get_cells();\n                for (var i = 0; i < nbb_cells.length; ++i) {\n                    if (nbb_cells[i].input_prompt_number == nbb_cell_id) {\n                        if (nbb_cells[i].get_text() == nbb_unformatted_code) {\n                             nbb_cells[i].set_text(nbb_formatted_code);\n                        }\n                        break;\n                    }\n                }\n            }, 500);\n            ",
      "text/plain": [
       "<IPython.core.display.Javascript object>"
      ]
     },
     "metadata": {},
     "output_type": "display_data"
    }
   ],
   "source": [
    "panel_a_reshaped.loc[:, 'region'] = (\n",
    "    panel_a_reshaped['agg_variable']\n",
    "    .apply(\n",
    "        lambda x: x.split('_')[1]\n",
    "    )\n",
    ")"
   ]
  },
  {
   "cell_type": "code",
   "execution_count": 19,
   "metadata": {},
   "outputs": [
    {
     "data": {
      "application/javascript": "\n            setTimeout(function() {\n                var nbb_cell_id = 19;\n                var nbb_unformatted_code = \"panel_a_reshaped.loc[:, 'timeframe'] = (\\n    panel_a_reshaped['agg_variable']\\n    .apply(\\n        lambda x: x.split('_')[2]\\n    )\\n)\";\n                var nbb_formatted_code = \"panel_a_reshaped.loc[:, \\\"timeframe\\\"] = panel_a_reshaped[\\\"agg_variable\\\"].apply(\\n    lambda x: x.split(\\\"_\\\")[2]\\n)\";\n                var nbb_cells = Jupyter.notebook.get_cells();\n                for (var i = 0; i < nbb_cells.length; ++i) {\n                    if (nbb_cells[i].input_prompt_number == nbb_cell_id) {\n                        if (nbb_cells[i].get_text() == nbb_unformatted_code) {\n                             nbb_cells[i].set_text(nbb_formatted_code);\n                        }\n                        break;\n                    }\n                }\n            }, 500);\n            ",
      "text/plain": [
       "<IPython.core.display.Javascript object>"
      ]
     },
     "metadata": {},
     "output_type": "display_data"
    }
   ],
   "source": [
    "panel_a_reshaped.loc[:, 'timeframe'] = (\n",
    "    panel_a_reshaped['agg_variable']\n",
    "    .apply(\n",
    "        lambda x: x.split('_')[2]\n",
    "    )\n",
    ")"
   ]
  },
  {
   "cell_type": "code",
   "execution_count": 20,
   "metadata": {},
   "outputs": [
    {
     "data": {
      "application/javascript": "\n            setTimeout(function() {\n                var nbb_cell_id = 20;\n                var nbb_unformatted_code = \"panel_a_reshaped.drop(\\n    columns='agg_variable',\\n    inplace=True\\n)\";\n                var nbb_formatted_code = \"panel_a_reshaped.drop(columns=\\\"agg_variable\\\", inplace=True)\";\n                var nbb_cells = Jupyter.notebook.get_cells();\n                for (var i = 0; i < nbb_cells.length; ++i) {\n                    if (nbb_cells[i].input_prompt_number == nbb_cell_id) {\n                        if (nbb_cells[i].get_text() == nbb_unformatted_code) {\n                             nbb_cells[i].set_text(nbb_formatted_code);\n                        }\n                        break;\n                    }\n                }\n            }, 500);\n            ",
      "text/plain": [
       "<IPython.core.display.Javascript object>"
      ]
     },
     "metadata": {},
     "output_type": "display_data"
    }
   ],
   "source": [
    "panel_a_reshaped.drop(\n",
    "    columns='agg_variable',\n",
    "    inplace=True\n",
    ")"
   ]
  },
  {
   "cell_type": "code",
   "execution_count": 21,
   "metadata": {},
   "outputs": [
    {
     "data": {
      "text/html": [
       "<div>\n",
       "<style scoped>\n",
       "    .dataframe tbody tr th:only-of-type {\n",
       "        vertical-align: middle;\n",
       "    }\n",
       "\n",
       "    .dataframe tbody tr th {\n",
       "        vertical-align: top;\n",
       "    }\n",
       "\n",
       "    .dataframe thead tr th {\n",
       "        text-align: left;\n",
       "    }\n",
       "\n",
       "    .dataframe thead tr:last-of-type th {\n",
       "        text-align: right;\n",
       "    }\n",
       "</style>\n",
       "<table border=\"1\" class=\"dataframe\">\n",
       "  <thead>\n",
       "    <tr>\n",
       "      <th></th>\n",
       "      <th></th>\n",
       "      <th></th>\n",
       "      <th></th>\n",
       "      <th colspan=\"4\" halign=\"left\">Value</th>\n",
       "    </tr>\n",
       "    <tr>\n",
       "      <th></th>\n",
       "      <th></th>\n",
       "      <th></th>\n",
       "      <th></th>\n",
       "      <th>count</th>\n",
       "      <th>25%</th>\n",
       "      <th>50%</th>\n",
       "      <th>75%</th>\n",
       "    </tr>\n",
       "    <tr>\n",
       "      <th>Category</th>\n",
       "      <th>region</th>\n",
       "      <th>variable</th>\n",
       "      <th>timeframe</th>\n",
       "      <th></th>\n",
       "      <th></th>\n",
       "      <th></th>\n",
       "      <th></th>\n",
       "    </tr>\n",
       "  </thead>\n",
       "  <tbody>\n",
       "    <tr>\n",
       "      <th rowspan=\"5\" valign=\"top\">C1</th>\n",
       "      <th rowspan=\"5\" valign=\"top\">R5ASIA</th>\n",
       "      <th rowspan=\"2\" valign=\"top\">cdr</th>\n",
       "      <th>2020-netzero</th>\n",
       "      <td>70.0</td>\n",
       "      <td>-100.33</td>\n",
       "      <td>-66.16</td>\n",
       "      <td>-52.99</td>\n",
       "    </tr>\n",
       "    <tr>\n",
       "      <th>netzero-2100</th>\n",
       "      <td>70.0</td>\n",
       "      <td>-194.53</td>\n",
       "      <td>-141.68</td>\n",
       "      <td>-123.41</td>\n",
       "    </tr>\n",
       "    <tr>\n",
       "      <th rowspan=\"2\" valign=\"top\">gross</th>\n",
       "      <th>2020-netzero</th>\n",
       "      <td>70.0</td>\n",
       "      <td>233.99</td>\n",
       "      <td>276.80</td>\n",
       "      <td>311.16</td>\n",
       "    </tr>\n",
       "    <tr>\n",
       "      <th>netzero-2100</th>\n",
       "      <td>70.0</td>\n",
       "      <td>84.14</td>\n",
       "      <td>121.16</td>\n",
       "      <td>190.51</td>\n",
       "    </tr>\n",
       "    <tr>\n",
       "      <th>nonco2</th>\n",
       "      <th>2020-netzero</th>\n",
       "      <td>68.0</td>\n",
       "      <td>102.67</td>\n",
       "      <td>119.64</td>\n",
       "      <td>139.50</td>\n",
       "    </tr>\n",
       "    <tr>\n",
       "      <th>...</th>\n",
       "      <th>...</th>\n",
       "      <th>...</th>\n",
       "      <th>...</th>\n",
       "      <td>...</td>\n",
       "      <td>...</td>\n",
       "      <td>...</td>\n",
       "      <td>...</td>\n",
       "    </tr>\n",
       "    <tr>\n",
       "      <th rowspan=\"5\" valign=\"top\">C3</th>\n",
       "      <th rowspan=\"5\" valign=\"top\">World</th>\n",
       "      <th>share-grossco2</th>\n",
       "      <th>netzero-2100</th>\n",
       "      <td>229.0</td>\n",
       "      <td>0.49</td>\n",
       "      <td>0.59</td>\n",
       "      <td>0.65</td>\n",
       "    </tr>\n",
       "    <tr>\n",
       "      <th rowspan=\"2\" valign=\"top\">share-nonco2</th>\n",
       "      <th>2020-netzero</th>\n",
       "      <td>229.0</td>\n",
       "      <td>0.27</td>\n",
       "      <td>0.30</td>\n",
       "      <td>0.33</td>\n",
       "    </tr>\n",
       "    <tr>\n",
       "      <th>netzero-2100</th>\n",
       "      <td>229.0</td>\n",
       "      <td>0.35</td>\n",
       "      <td>0.41</td>\n",
       "      <td>0.51</td>\n",
       "    </tr>\n",
       "    <tr>\n",
       "      <th rowspan=\"2\" valign=\"top\">total-gross</th>\n",
       "      <th>2020-netzero</th>\n",
       "      <td>229.0</td>\n",
       "      <td>1506.77</td>\n",
       "      <td>1674.83</td>\n",
       "      <td>1860.66</td>\n",
       "    </tr>\n",
       "    <tr>\n",
       "      <th>netzero-2100</th>\n",
       "      <td>229.0</td>\n",
       "      <td>376.92</td>\n",
       "      <td>468.40</td>\n",
       "      <td>592.74</td>\n",
       "    </tr>\n",
       "  </tbody>\n",
       "</table>\n",
       "<p>216 rows × 4 columns</p>\n",
       "</div>"
      ],
      "text/plain": [
       "                                             Value                           \n",
       "                                             count      25%      50%      75%\n",
       "Category region variable       timeframe                                     \n",
       "C1       R5ASIA cdr            2020-netzero   70.0  -100.33   -66.16   -52.99\n",
       "                               netzero-2100   70.0  -194.53  -141.68  -123.41\n",
       "                gross          2020-netzero   70.0   233.99   276.80   311.16\n",
       "                               netzero-2100   70.0    84.14   121.16   190.51\n",
       "                nonco2         2020-netzero   68.0   102.67   119.64   139.50\n",
       "...                                            ...      ...      ...      ...\n",
       "C3       World  share-grossco2 netzero-2100  229.0     0.49     0.59     0.65\n",
       "                share-nonco2   2020-netzero  229.0     0.27     0.30     0.33\n",
       "                               netzero-2100  229.0     0.35     0.41     0.51\n",
       "                total-gross    2020-netzero  229.0  1506.77  1674.83  1860.66\n",
       "                               netzero-2100  229.0   376.92   468.40   592.74\n",
       "\n",
       "[216 rows x 4 columns]"
      ]
     },
     "execution_count": 21,
     "metadata": {},
     "output_type": "execute_result"
    },
    {
     "data": {
      "application/javascript": "\n            setTimeout(function() {\n                var nbb_cell_id = 21;\n                var nbb_unformatted_code = \"(\\n    panel_a_reshaped\\n    .groupby(\\n        ['Category', 'region', 'variable', 'timeframe']\\n    )\\n    .describe()\\n    .round(2)\\n    .loc[\\n        :, pd.IndexSlice[:, ['count', '25%', '50%', '75%']]\\n    ]\\n)\";\n                var nbb_formatted_code = \"(\\n    panel_a_reshaped.groupby([\\\"Category\\\", \\\"region\\\", \\\"variable\\\", \\\"timeframe\\\"])\\n    .describe()\\n    .round(2)\\n    .loc[:, pd.IndexSlice[:, [\\\"count\\\", \\\"25%\\\", \\\"50%\\\", \\\"75%\\\"]]]\\n)\";\n                var nbb_cells = Jupyter.notebook.get_cells();\n                for (var i = 0; i < nbb_cells.length; ++i) {\n                    if (nbb_cells[i].input_prompt_number == nbb_cell_id) {\n                        if (nbb_cells[i].get_text() == nbb_unformatted_code) {\n                             nbb_cells[i].set_text(nbb_formatted_code);\n                        }\n                        break;\n                    }\n                }\n            }, 500);\n            ",
      "text/plain": [
       "<IPython.core.display.Javascript object>"
      ]
     },
     "metadata": {},
     "output_type": "display_data"
    }
   ],
   "source": [
    "(\n",
    "    panel_a_reshaped\n",
    "    .groupby(\n",
    "        ['Category', 'region', 'variable', 'timeframe']\n",
    "    )\n",
    "    .describe()\n",
    "    .round(2)\n",
    "    .loc[\n",
    "        :, pd.IndexSlice[:, ['count', '25%', '50%', '75%']]\n",
    "    ]\n",
    ")"
   ]
  },
  {
   "cell_type": "code",
   "execution_count": 22,
   "metadata": {},
   "outputs": [
    {
     "data": {
      "application/javascript": "\n            setTimeout(function() {\n                var nbb_cell_id = 22;\n                var nbb_unformatted_code = \"panel_a_reshaped.to_csv(\\n    Path(\\n        '../data/203_regional_data_panel_a.csv'\\n    )\\n)\";\n                var nbb_formatted_code = \"panel_a_reshaped.to_csv(Path(\\\"../data/203_regional_data_panel_a.csv\\\"))\";\n                var nbb_cells = Jupyter.notebook.get_cells();\n                for (var i = 0; i < nbb_cells.length; ++i) {\n                    if (nbb_cells[i].input_prompt_number == nbb_cell_id) {\n                        if (nbb_cells[i].get_text() == nbb_unformatted_code) {\n                             nbb_cells[i].set_text(nbb_formatted_code);\n                        }\n                        break;\n                    }\n                }\n            }, 500);\n            ",
      "text/plain": [
       "<IPython.core.display.Javascript object>"
      ]
     },
     "metadata": {},
     "output_type": "display_data"
    }
   ],
   "source": [
    "panel_a_reshaped.to_csv(\n",
    "    Path(\n",
    "        '../data/203_regional_data_panel_a.csv'\n",
    "    )\n",
    ")"
   ]
  },
  {
   "cell_type": "markdown",
   "metadata": {},
   "source": [
    "Step 4: We want to identify the regional patterns in contributions to the regional net GHG reductions:\n",
    "* 2020 - 2030\n",
    "* 2030 - 2050\n",
    "* 2050 - 2100"
   ]
  },
  {
   "cell_type": "code",
   "execution_count": 23,
   "metadata": {},
   "outputs": [
    {
     "data": {
      "application/javascript": "\n            setTimeout(function() {\n                var nbb_cell_id = 23;\n                var nbb_unformatted_code = \"time_periods = [\\n    (2020, 2030),\\n    (2030, 2050),\\n    (2050, 2100)\\n]\";\n                var nbb_formatted_code = \"time_periods = [(2020, 2030), (2030, 2050), (2050, 2100)]\";\n                var nbb_cells = Jupyter.notebook.get_cells();\n                for (var i = 0; i < nbb_cells.length; ++i) {\n                    if (nbb_cells[i].input_prompt_number == nbb_cell_id) {\n                        if (nbb_cells[i].get_text() == nbb_unformatted_code) {\n                             nbb_cells[i].set_text(nbb_formatted_code);\n                        }\n                        break;\n                    }\n                }\n            }, 500);\n            ",
      "text/plain": [
       "<IPython.core.display.Javascript object>"
      ]
     },
     "metadata": {},
     "output_type": "display_data"
    }
   ],
   "source": [
    "time_periods = [\n",
    "    (2020, 2030),\n",
    "    (2030, 2050),\n",
    "    (2050, 2100)\n",
    "]"
   ]
  },
  {
   "cell_type": "code",
   "execution_count": 24,
   "metadata": {},
   "outputs": [
    {
     "data": {
      "application/javascript": "\n            setTimeout(function() {\n                var nbb_cell_id = 24;\n                var nbb_unformatted_code = \"def format_output_data_frame(df, cols_select,  variable_name, summarise=True):\\n    \\\"\\\"\\\"Function to help format the output dataframe\\\"\\\"\\\"\\n    cols_to_melt = set(cols_select) - set('Category')\\n    melted_data = pd.melt(\\n        frame=df,\\n        id_vars=['model', 'scenario', 'Category'],\\n        value_vars=cols_to_melt\\n    )\\n    #Now, we split the variable column\\n    melted_data.loc[:, 'region'] = (\\n        melted_data.loc[:,'variable'].apply(\\n            lambda x: x.split('_')[1]\\n        )\\n    )\\n    melted_data.loc[:, 'timeframe'] = (\\n        melted_data.loc[:,'variable'].apply(\\n            lambda x: x.split('_')[2] + '-' + x.split('_')[3]\\n        )\\n    )\\n    melted_data.loc[:, 'variable'] = variable_name\\n    if summarise:\\n        summarised_data_raw = (\\n            melted_data\\n            .groupby(['Category', 'region', 'timeframe'])['value']\\n            .describe()\\n            .loc[:, ['25%', '50%', '75%']]\\n        )\\n        summarised_data_raw.loc[:, 'summary'] = (\\n            summarised_data_raw.apply(\\n                lambda x: f\\\"{x['50%']}% ({x['25%']}-{x['75%']})\\\",\\n                axis=1\\n            )\\n            \\n        )\\n        summarised_data_clean = summarised_data_raw.loc[:, 'summary'].unstack(level=-1)\\n        summarised_data_clean.loc[:, 'variable'] = variable_name\\n    return melted_data, summarised_data_clean\";\n                var nbb_formatted_code = \"def format_output_data_frame(df, cols_select, variable_name, summarise=True):\\n    \\\"\\\"\\\"Function to help format the output dataframe\\\"\\\"\\\"\\n    cols_to_melt = set(cols_select) - set(\\\"Category\\\")\\n    melted_data = pd.melt(\\n        frame=df, id_vars=[\\\"model\\\", \\\"scenario\\\", \\\"Category\\\"], value_vars=cols_to_melt\\n    )\\n    # Now, we split the variable column\\n    melted_data.loc[:, \\\"region\\\"] = melted_data.loc[:, \\\"variable\\\"].apply(\\n        lambda x: x.split(\\\"_\\\")[1]\\n    )\\n    melted_data.loc[:, \\\"timeframe\\\"] = melted_data.loc[:, \\\"variable\\\"].apply(\\n        lambda x: x.split(\\\"_\\\")[2] + \\\"-\\\" + x.split(\\\"_\\\")[3]\\n    )\\n    melted_data.loc[:, \\\"variable\\\"] = variable_name\\n    if summarise:\\n        summarised_data_raw = (\\n            melted_data.groupby([\\\"Category\\\", \\\"region\\\", \\\"timeframe\\\"])[\\\"value\\\"]\\n            .describe()\\n            .loc[:, [\\\"25%\\\", \\\"50%\\\", \\\"75%\\\"]]\\n        )\\n        summarised_data_raw.loc[:, \\\"summary\\\"] = summarised_data_raw.apply(\\n            lambda x: f\\\"{x['50%']}% ({x['25%']}-{x['75%']})\\\", axis=1\\n        )\\n        summarised_data_clean = summarised_data_raw.loc[:, \\\"summary\\\"].unstack(level=-1)\\n        summarised_data_clean.loc[:, \\\"variable\\\"] = variable_name\\n    return melted_data, summarised_data_clean\";\n                var nbb_cells = Jupyter.notebook.get_cells();\n                for (var i = 0; i < nbb_cells.length; ++i) {\n                    if (nbb_cells[i].input_prompt_number == nbb_cell_id) {\n                        if (nbb_cells[i].get_text() == nbb_unformatted_code) {\n                             nbb_cells[i].set_text(nbb_formatted_code);\n                        }\n                        break;\n                    }\n                }\n            }, 500);\n            ",
      "text/plain": [
       "<IPython.core.display.Javascript object>"
      ]
     },
     "metadata": {},
     "output_type": "display_data"
    }
   ],
   "source": [
    "def format_output_data_frame(df, cols_select,  variable_name, summarise=True):\n",
    "    \"\"\"Function to help format the output dataframe\"\"\"\n",
    "    cols_to_melt = set(cols_select) - set('Category')\n",
    "    melted_data = pd.melt(\n",
    "        frame=df,\n",
    "        id_vars=['model', 'scenario', 'Category'],\n",
    "        value_vars=cols_to_melt\n",
    "    )\n",
    "    #Now, we split the variable column\n",
    "    melted_data.loc[:, 'region'] = (\n",
    "        melted_data.loc[:,'variable'].apply(\n",
    "            lambda x: x.split('_')[1]\n",
    "        )\n",
    "    )\n",
    "    melted_data.loc[:, 'timeframe'] = (\n",
    "        melted_data.loc[:,'variable'].apply(\n",
    "            lambda x: x.split('_')[2] + '-' + x.split('_')[3]\n",
    "        )\n",
    "    )\n",
    "    melted_data.loc[:, 'variable'] = variable_name\n",
    "    if summarise:\n",
    "        summarised_data_raw = (\n",
    "            melted_data\n",
    "            .groupby(['Category', 'region', 'timeframe'])['value']\n",
    "            .describe()\n",
    "            .loc[:, ['25%', '50%', '75%']]\n",
    "        )\n",
    "        summarised_data_raw.loc[:, 'summary'] = (\n",
    "            summarised_data_raw.apply(\n",
    "                lambda x: f\"{x['50%']}% ({x['25%']}-{x['75%']})\",\n",
    "                axis=1\n",
    "            )\n",
    "            \n",
    "        )\n",
    "        summarised_data_clean = summarised_data_raw.loc[:, 'summary'].unstack(level=-1)\n",
    "        summarised_data_clean.loc[:, 'variable'] = variable_name\n",
    "    return melted_data, summarised_data_clean"
   ]
  },
  {
   "cell_type": "markdown",
   "metadata": {},
   "source": [
    "Step 5: Now, for each region, we want to take a closer look at the role of gross reductions, non CO2 and CDR."
   ]
  },
  {
   "cell_type": "code",
   "execution_count": 25,
   "metadata": {},
   "outputs": [
    {
     "data": {
      "application/javascript": "\n            setTimeout(function() {\n                var nbb_cell_id = 25;\n                var nbb_unformatted_code = \"def crunch_through_and_summarise_per_region(df, region):\\n    \\\"\\\"\\\"Helper function to crunch through the regional summaries\\\"\\\"\\\"\\n    total_variable = 'AR6 Reanalysis|OSCARv3.2|Emissions|Kyoto Gases|Direct Only'\\n    component_variables = [\\n        ('AR6 Reanalysis|OSCARv3.2|Emissions|CO2|Gross', 'gross'),\\n        ('AR6 Reanalysis|OSCARv3.2|Emissions|NonCO2|Direct Only', 'nonco2'),\\n        ('AR6 Reanalysis|OSCARv3.2|Carbon Removal|Total', 'cdr')    \\n    ]\\n    # Step 1: Pull out the regional data\\n    regional_data = (\\n        df\\n        .filter(\\n            region=region\\n        )\\n    )\\n    # Step 2\\n    for start, end in time_periods:\\n        # First calculate the total mitigation\\n        df_net = (\\n            regional_data\\n            .filter(year=range(start, end+1))\\n            .offset(year=start)\\n        )\\n        # Calculate the total mitigation burden\\n        regional_data.set_meta(\\n            meta=(\\n                df_net\\n                .filter(variable=total_variable, year=end)\\n                .timeseries()\\n                .droplevel(['region', 'variable', 'unit'])[end]\\n            ),\\n            name=f'total_mitigation_{start}_{end}'\\n        )\\n        # Per variable calculate the contributions to these reductions\\n        for variable, label in component_variables:\\n            ts = (\\n                df_net\\n                .filter(variable=variable)\\n                .timeseries()\\n                .apply(\\n                    lambda x: x * 100 / regional_data.meta.loc[x.name[0:2], f'total_mitigation_{start}_{end}'],\\n                    axis=1\\n                )\\n                .round(0)\\n            )\\n            regional_data.set_meta(\\n                meta=ts.droplevel(['region', 'variable', 'unit'])[end],\\n                name=f'{label}_{region}_{start}_{end}'\\n            )\\n    # Step 3\\n    cols = [x[1] for x in component_variables]\\n    df = []\\n    df_sum = []\\n    for var, label in component_variables:\\n        cols = [x for x in regional_data.meta if f'{label}_{region}' in x]\\n        cols.append('Category')\\n        out, out_sum = (\\n            format_output_data_frame(\\n                regional_data.meta.reset_index(),\\n                cols_select=cols,\\n                variable_name=var\\n            )\\n        )\\n        df.append(out)\\n        df_sum.append(out_sum)\\n    \\n    compiled = pd.concat(df)\\n    summary = (\\n        pd.concat(df_sum)\\n        .set_index('variable', append=True)\\n        .sort_index(level=0)\\n    )\\n    return compiled, summary\";\n                var nbb_formatted_code = \"def crunch_through_and_summarise_per_region(df, region):\\n    \\\"\\\"\\\"Helper function to crunch through the regional summaries\\\"\\\"\\\"\\n    total_variable = \\\"AR6 Reanalysis|OSCARv3.2|Emissions|Kyoto Gases|Direct Only\\\"\\n    component_variables = [\\n        (\\\"AR6 Reanalysis|OSCARv3.2|Emissions|CO2|Gross\\\", \\\"gross\\\"),\\n        (\\\"AR6 Reanalysis|OSCARv3.2|Emissions|NonCO2|Direct Only\\\", \\\"nonco2\\\"),\\n        (\\\"AR6 Reanalysis|OSCARv3.2|Carbon Removal|Total\\\", \\\"cdr\\\"),\\n    ]\\n    # Step 1: Pull out the regional data\\n    regional_data = df.filter(region=region)\\n    # Step 2\\n    for start, end in time_periods:\\n        # First calculate the total mitigation\\n        df_net = regional_data.filter(year=range(start, end + 1)).offset(year=start)\\n        # Calculate the total mitigation burden\\n        regional_data.set_meta(\\n            meta=(\\n                df_net.filter(variable=total_variable, year=end)\\n                .timeseries()\\n                .droplevel([\\\"region\\\", \\\"variable\\\", \\\"unit\\\"])[end]\\n            ),\\n            name=f\\\"total_mitigation_{start}_{end}\\\",\\n        )\\n        # Per variable calculate the contributions to these reductions\\n        for variable, label in component_variables:\\n            ts = (\\n                df_net.filter(variable=variable)\\n                .timeseries()\\n                .apply(\\n                    lambda x: x\\n                    * 100\\n                    / regional_data.meta.loc[\\n                        x.name[0:2], f\\\"total_mitigation_{start}_{end}\\\"\\n                    ],\\n                    axis=1,\\n                )\\n                .round(0)\\n            )\\n            regional_data.set_meta(\\n                meta=ts.droplevel([\\\"region\\\", \\\"variable\\\", \\\"unit\\\"])[end],\\n                name=f\\\"{label}_{region}_{start}_{end}\\\",\\n            )\\n    # Step 3\\n    cols = [x[1] for x in component_variables]\\n    df = []\\n    df_sum = []\\n    for var, label in component_variables:\\n        cols = [x for x in regional_data.meta if f\\\"{label}_{region}\\\" in x]\\n        cols.append(\\\"Category\\\")\\n        out, out_sum = format_output_data_frame(\\n            regional_data.meta.reset_index(), cols_select=cols, variable_name=var\\n        )\\n        df.append(out)\\n        df_sum.append(out_sum)\\n\\n    compiled = pd.concat(df)\\n    summary = pd.concat(df_sum).set_index(\\\"variable\\\", append=True).sort_index(level=0)\\n    return compiled, summary\";\n                var nbb_cells = Jupyter.notebook.get_cells();\n                for (var i = 0; i < nbb_cells.length; ++i) {\n                    if (nbb_cells[i].input_prompt_number == nbb_cell_id) {\n                        if (nbb_cells[i].get_text() == nbb_unformatted_code) {\n                             nbb_cells[i].set_text(nbb_formatted_code);\n                        }\n                        break;\n                    }\n                }\n            }, 500);\n            ",
      "text/plain": [
       "<IPython.core.display.Javascript object>"
      ]
     },
     "metadata": {},
     "output_type": "display_data"
    }
   ],
   "source": [
    "def crunch_through_and_summarise_per_region(df, region):\n",
    "    \"\"\"Helper function to crunch through the regional summaries\"\"\"\n",
    "    total_variable = 'AR6 Reanalysis|OSCARv3.2|Emissions|Kyoto Gases|Direct Only'\n",
    "    component_variables = [\n",
    "        ('AR6 Reanalysis|OSCARv3.2|Emissions|CO2|Gross', 'gross'),\n",
    "        ('AR6 Reanalysis|OSCARv3.2|Emissions|NonCO2|Direct Only', 'nonco2'),\n",
    "        ('AR6 Reanalysis|OSCARv3.2|Carbon Removal|Total', 'cdr')    \n",
    "    ]\n",
    "    # Step 1: Pull out the regional data\n",
    "    regional_data = (\n",
    "        df\n",
    "        .filter(\n",
    "            region=region\n",
    "        )\n",
    "    )\n",
    "    # Step 2\n",
    "    for start, end in time_periods:\n",
    "        # First calculate the total mitigation\n",
    "        df_net = (\n",
    "            regional_data\n",
    "            .filter(year=range(start, end+1))\n",
    "            .offset(year=start)\n",
    "        )\n",
    "        # Calculate the total mitigation burden\n",
    "        regional_data.set_meta(\n",
    "            meta=(\n",
    "                df_net\n",
    "                .filter(variable=total_variable, year=end)\n",
    "                .timeseries()\n",
    "                .droplevel(['region', 'variable', 'unit'])[end]\n",
    "            ),\n",
    "            name=f'total_mitigation_{start}_{end}'\n",
    "        )\n",
    "        # Per variable calculate the contributions to these reductions\n",
    "        for variable, label in component_variables:\n",
    "            ts = (\n",
    "                df_net\n",
    "                .filter(variable=variable)\n",
    "                .timeseries()\n",
    "                .apply(\n",
    "                    lambda x: x * 100 / regional_data.meta.loc[x.name[0:2], f'total_mitigation_{start}_{end}'],\n",
    "                    axis=1\n",
    "                )\n",
    "                .round(0)\n",
    "            )\n",
    "            regional_data.set_meta(\n",
    "                meta=ts.droplevel(['region', 'variable', 'unit'])[end],\n",
    "                name=f'{label}_{region}_{start}_{end}'\n",
    "            )\n",
    "    # Step 3\n",
    "    cols = [x[1] for x in component_variables]\n",
    "    df = []\n",
    "    df_sum = []\n",
    "    for var, label in component_variables:\n",
    "        cols = [x for x in regional_data.meta if f'{label}_{region}' in x]\n",
    "        cols.append('Category')\n",
    "        out, out_sum = (\n",
    "            format_output_data_frame(\n",
    "                regional_data.meta.reset_index(),\n",
    "                cols_select=cols,\n",
    "                variable_name=var\n",
    "            )\n",
    "        )\n",
    "        df.append(out)\n",
    "        df_sum.append(out_sum)\n",
    "    \n",
    "    compiled = pd.concat(df)\n",
    "    summary = (\n",
    "        pd.concat(df_sum)\n",
    "        .set_index('variable', append=True)\n",
    "        .sort_index(level=0)\n",
    "    )\n",
    "    return compiled, summary"
   ]
  },
  {
   "cell_type": "code",
   "execution_count": 26,
   "metadata": {},
   "outputs": [
    {
     "data": {
      "application/javascript": "\n            setTimeout(function() {\n                var nbb_cell_id = 26;\n                var nbb_unformatted_code = \"regs = [x for x in df_compiled.region if 'World' not in x]\";\n                var nbb_formatted_code = \"regs = [x for x in df_compiled.region if \\\"World\\\" not in x]\";\n                var nbb_cells = Jupyter.notebook.get_cells();\n                for (var i = 0; i < nbb_cells.length; ++i) {\n                    if (nbb_cells[i].input_prompt_number == nbb_cell_id) {\n                        if (nbb_cells[i].get_text() == nbb_unformatted_code) {\n                             nbb_cells[i].set_text(nbb_formatted_code);\n                        }\n                        break;\n                    }\n                }\n            }, 500);\n            ",
      "text/plain": [
       "<IPython.core.display.Javascript object>"
      ]
     },
     "metadata": {},
     "output_type": "display_data"
    }
   ],
   "source": [
    "regs = [x for x in df_compiled.region if 'World' not in x]"
   ]
  },
  {
   "cell_type": "code",
   "execution_count": 27,
   "metadata": {},
   "outputs": [
    {
     "data": {
      "text/plain": [
       "['R5ASIA', 'R5LAM', 'R5MAF', 'R5OECD90+EU', 'R5REF']"
      ]
     },
     "execution_count": 27,
     "metadata": {},
     "output_type": "execute_result"
    },
    {
     "data": {
      "application/javascript": "\n            setTimeout(function() {\n                var nbb_cell_id = 27;\n                var nbb_unformatted_code = \"regs\";\n                var nbb_formatted_code = \"regs\";\n                var nbb_cells = Jupyter.notebook.get_cells();\n                for (var i = 0; i < nbb_cells.length; ++i) {\n                    if (nbb_cells[i].input_prompt_number == nbb_cell_id) {\n                        if (nbb_cells[i].get_text() == nbb_unformatted_code) {\n                             nbb_cells[i].set_text(nbb_formatted_code);\n                        }\n                        break;\n                    }\n                }\n            }, 500);\n            ",
      "text/plain": [
       "<IPython.core.display.Javascript object>"
      ]
     },
     "metadata": {},
     "output_type": "display_data"
    }
   ],
   "source": [
    "regs"
   ]
  },
  {
   "cell_type": "code",
   "execution_count": 28,
   "metadata": {},
   "outputs": [
    {
     "data": {
      "application/javascript": "\n            setTimeout(function() {\n                var nbb_cell_id = 28;\n                var nbb_unformatted_code = \"final_reg_summary = []\\nfinal_reg_comp = []\\nfor r in regs:\\n    comp, sum = crunch_through_and_summarise_per_region(\\n        df_compiled,\\n        r\\n    )\\n    final_reg_summary.append(sum)\\n    final_reg_comp.append(comp)\";\n                var nbb_formatted_code = \"final_reg_summary = []\\nfinal_reg_comp = []\\nfor r in regs:\\n    comp, sum = crunch_through_and_summarise_per_region(df_compiled, r)\\n    final_reg_summary.append(sum)\\n    final_reg_comp.append(comp)\";\n                var nbb_cells = Jupyter.notebook.get_cells();\n                for (var i = 0; i < nbb_cells.length; ++i) {\n                    if (nbb_cells[i].input_prompt_number == nbb_cell_id) {\n                        if (nbb_cells[i].get_text() == nbb_unformatted_code) {\n                             nbb_cells[i].set_text(nbb_formatted_code);\n                        }\n                        break;\n                    }\n                }\n            }, 500);\n            ",
      "text/plain": [
       "<IPython.core.display.Javascript object>"
      ]
     },
     "metadata": {},
     "output_type": "display_data"
    }
   ],
   "source": [
    "final_reg_summary = []\n",
    "final_reg_comp = []\n",
    "for r in regs:\n",
    "    comp, sum = crunch_through_and_summarise_per_region(\n",
    "        df_compiled,\n",
    "        r\n",
    "    )\n",
    "    final_reg_summary.append(sum)\n",
    "    final_reg_comp.append(comp)"
   ]
  },
  {
   "cell_type": "code",
   "execution_count": 29,
   "metadata": {},
   "outputs": [
    {
     "data": {
      "application/javascript": "\n            setTimeout(function() {\n                var nbb_cell_id = 29;\n                var nbb_unformatted_code = \"final_reg_summary_pd = pd.concat(final_reg_summary)\";\n                var nbb_formatted_code = \"final_reg_summary_pd = pd.concat(final_reg_summary)\";\n                var nbb_cells = Jupyter.notebook.get_cells();\n                for (var i = 0; i < nbb_cells.length; ++i) {\n                    if (nbb_cells[i].input_prompt_number == nbb_cell_id) {\n                        if (nbb_cells[i].get_text() == nbb_unformatted_code) {\n                             nbb_cells[i].set_text(nbb_formatted_code);\n                        }\n                        break;\n                    }\n                }\n            }, 500);\n            ",
      "text/plain": [
       "<IPython.core.display.Javascript object>"
      ]
     },
     "metadata": {},
     "output_type": "display_data"
    }
   ],
   "source": [
    "final_reg_summary_pd = pd.concat(final_reg_summary)"
   ]
  },
  {
   "cell_type": "code",
   "execution_count": 30,
   "metadata": {},
   "outputs": [
    {
     "data": {
      "application/javascript": "\n            setTimeout(function() {\n                var nbb_cell_id = 30;\n                var nbb_unformatted_code = \"final_reg_summary_pd.to_excel(\\n    Path(\\n        'figures/SI_table2.xlsx'\\n    )\\n)\";\n                var nbb_formatted_code = \"final_reg_summary_pd.to_excel(Path(\\\"figures/SI_table2.xlsx\\\"))\";\n                var nbb_cells = Jupyter.notebook.get_cells();\n                for (var i = 0; i < nbb_cells.length; ++i) {\n                    if (nbb_cells[i].input_prompt_number == nbb_cell_id) {\n                        if (nbb_cells[i].get_text() == nbb_unformatted_code) {\n                             nbb_cells[i].set_text(nbb_formatted_code);\n                        }\n                        break;\n                    }\n                }\n            }, 500);\n            ",
      "text/plain": [
       "<IPython.core.display.Javascript object>"
      ]
     },
     "metadata": {},
     "output_type": "display_data"
    }
   ],
   "source": [
    "final_reg_summary_pd.to_excel(\n",
    "    Path(\n",
    "        'figures/SI_table2.xlsx'\n",
    "    )\n",
    ")"
   ]
  },
  {
   "cell_type": "markdown",
   "metadata": {},
   "source": [
    "Statements: Patterns for the R5ASIA region."
   ]
  },
  {
   "cell_type": "markdown",
   "metadata": {},
   "source": [
    "For the Asia region, we note a dominant contribution (median of around 80%) from gross CO2 emission reductions across all three time periods in the C1 pathways with the balance largely coming from non-CO2 reductions followed by CDR. However, in C2 and C3 pathways where there is slower global near-term action, CDR plays a larger role beyond 2050, accounting for over 20% of the regional net GHG reductions."
   ]
  },
  {
   "cell_type": "code",
   "execution_count": 31,
   "metadata": {},
   "outputs": [
    {
     "data": {
      "text/plain": [
       "timeframe\n",
       "2020-2030    78.0% (66.75-82.0)\n",
       "2030-2050    79.0% (71.0-85.25)\n",
       "2050-2100    80.0% (60.0-123.5)\n",
       "Name: (C1, R5ASIA, AR6 Reanalysis|OSCARv3.2|Emissions|CO2|Gross), dtype: object"
      ]
     },
     "execution_count": 31,
     "metadata": {},
     "output_type": "execute_result"
    },
    {
     "data": {
      "application/javascript": "\n            setTimeout(function() {\n                var nbb_cell_id = 31;\n                var nbb_unformatted_code = \"final_reg_summary_pd.loc[\\n    pd.IndexSlice['C1', 'R5ASIA', 'AR6 Reanalysis|OSCARv3.2|Emissions|CO2|Gross'],\\n    :\\n]\";\n                var nbb_formatted_code = \"final_reg_summary_pd.loc[\\n    pd.IndexSlice[\\\"C1\\\", \\\"R5ASIA\\\", \\\"AR6 Reanalysis|OSCARv3.2|Emissions|CO2|Gross\\\"], :\\n]\";\n                var nbb_cells = Jupyter.notebook.get_cells();\n                for (var i = 0; i < nbb_cells.length; ++i) {\n                    if (nbb_cells[i].input_prompt_number == nbb_cell_id) {\n                        if (nbb_cells[i].get_text() == nbb_unformatted_code) {\n                             nbb_cells[i].set_text(nbb_formatted_code);\n                        }\n                        break;\n                    }\n                }\n            }, 500);\n            ",
      "text/plain": [
       "<IPython.core.display.Javascript object>"
      ]
     },
     "metadata": {},
     "output_type": "display_data"
    }
   ],
   "source": [
    "final_reg_summary_pd.loc[\n",
    "    pd.IndexSlice['C1', 'R5ASIA', 'AR6 Reanalysis|OSCARv3.2|Emissions|CO2|Gross'],\n",
    "    :\n",
    "]"
   ]
  },
  {
   "cell_type": "code",
   "execution_count": 32,
   "metadata": {},
   "outputs": [
    {
     "data": {
      "text/html": [
       "<div>\n",
       "<style scoped>\n",
       "    .dataframe tbody tr th:only-of-type {\n",
       "        vertical-align: middle;\n",
       "    }\n",
       "\n",
       "    .dataframe tbody tr th {\n",
       "        vertical-align: top;\n",
       "    }\n",
       "\n",
       "    .dataframe thead th {\n",
       "        text-align: right;\n",
       "    }\n",
       "</style>\n",
       "<table border=\"1\" class=\"dataframe\">\n",
       "  <thead>\n",
       "    <tr style=\"text-align: right;\">\n",
       "      <th></th>\n",
       "      <th></th>\n",
       "      <th>timeframe</th>\n",
       "      <th>2020-2030</th>\n",
       "      <th>2030-2050</th>\n",
       "      <th>2050-2100</th>\n",
       "    </tr>\n",
       "    <tr>\n",
       "      <th>Category</th>\n",
       "      <th>region</th>\n",
       "      <th>variable</th>\n",
       "      <th></th>\n",
       "      <th></th>\n",
       "      <th></th>\n",
       "    </tr>\n",
       "  </thead>\n",
       "  <tbody>\n",
       "    <tr>\n",
       "      <th>C1</th>\n",
       "      <th>R5ASIA</th>\n",
       "      <th>AR6 Reanalysis|OSCARv3.2|Carbon Removal|Total</th>\n",
       "      <td>7.0% (3.0-17.0)</td>\n",
       "      <td>12.5% (4.0-20.0)</td>\n",
       "      <td>-5.5% (-30.0-18.5)</td>\n",
       "    </tr>\n",
       "    <tr>\n",
       "      <th>C2</th>\n",
       "      <th>R5ASIA</th>\n",
       "      <th>AR6 Reanalysis|OSCARv3.2|Carbon Removal|Total</th>\n",
       "      <td>4.0% (2.0-11.0)</td>\n",
       "      <td>9.0% (4.0-18.25)</td>\n",
       "      <td>27.0% (10.75-32.0)</td>\n",
       "    </tr>\n",
       "    <tr>\n",
       "      <th>C3</th>\n",
       "      <th>R5ASIA</th>\n",
       "      <th>AR6 Reanalysis|OSCARv3.2|Carbon Removal|Total</th>\n",
       "      <td>4.0% (-0.0-15.0)</td>\n",
       "      <td>7.0% (4.0-12.0)</td>\n",
       "      <td>21.0% (11.0-42.0)</td>\n",
       "    </tr>\n",
       "  </tbody>\n",
       "</table>\n",
       "</div>"
      ],
      "text/plain": [
       "timeframe                                                             2020-2030  \\\n",
       "Category region variable                                                          \n",
       "C1       R5ASIA AR6 Reanalysis|OSCARv3.2|Carbon Removal|Total   7.0% (3.0-17.0)   \n",
       "C2       R5ASIA AR6 Reanalysis|OSCARv3.2|Carbon Removal|Total   4.0% (2.0-11.0)   \n",
       "C3       R5ASIA AR6 Reanalysis|OSCARv3.2|Carbon Removal|Total  4.0% (-0.0-15.0)   \n",
       "\n",
       "timeframe                                                             2030-2050  \\\n",
       "Category region variable                                                          \n",
       "C1       R5ASIA AR6 Reanalysis|OSCARv3.2|Carbon Removal|Total  12.5% (4.0-20.0)   \n",
       "C2       R5ASIA AR6 Reanalysis|OSCARv3.2|Carbon Removal|Total  9.0% (4.0-18.25)   \n",
       "C3       R5ASIA AR6 Reanalysis|OSCARv3.2|Carbon Removal|Total   7.0% (4.0-12.0)   \n",
       "\n",
       "timeframe                                                               2050-2100  \n",
       "Category region variable                                                           \n",
       "C1       R5ASIA AR6 Reanalysis|OSCARv3.2|Carbon Removal|Total  -5.5% (-30.0-18.5)  \n",
       "C2       R5ASIA AR6 Reanalysis|OSCARv3.2|Carbon Removal|Total  27.0% (10.75-32.0)  \n",
       "C3       R5ASIA AR6 Reanalysis|OSCARv3.2|Carbon Removal|Total   21.0% (11.0-42.0)  "
      ]
     },
     "execution_count": 32,
     "metadata": {},
     "output_type": "execute_result"
    },
    {
     "data": {
      "application/javascript": "\n            setTimeout(function() {\n                var nbb_cell_id = 32;\n                var nbb_unformatted_code = \"final_reg_summary_pd.loc[\\n    pd.IndexSlice[:, 'R5ASIA', 'AR6 Reanalysis|OSCARv3.2|Carbon Removal|Total'],\\n    :\\n]\";\n                var nbb_formatted_code = \"final_reg_summary_pd.loc[\\n    pd.IndexSlice[:, \\\"R5ASIA\\\", \\\"AR6 Reanalysis|OSCARv3.2|Carbon Removal|Total\\\"], :\\n]\";\n                var nbb_cells = Jupyter.notebook.get_cells();\n                for (var i = 0; i < nbb_cells.length; ++i) {\n                    if (nbb_cells[i].input_prompt_number == nbb_cell_id) {\n                        if (nbb_cells[i].get_text() == nbb_unformatted_code) {\n                             nbb_cells[i].set_text(nbb_formatted_code);\n                        }\n                        break;\n                    }\n                }\n            }, 500);\n            ",
      "text/plain": [
       "<IPython.core.display.Javascript object>"
      ]
     },
     "metadata": {},
     "output_type": "display_data"
    }
   ],
   "source": [
    "final_reg_summary_pd.loc[\n",
    "    pd.IndexSlice[:, 'R5ASIA', 'AR6 Reanalysis|OSCARv3.2|Carbon Removal|Total'],\n",
    "    :\n",
    "]"
   ]
  },
  {
   "cell_type": "markdown",
   "metadata": {},
   "source": [
    "Statement: Patterns for OECD+EU"
   ]
  },
  {
   "cell_type": "code",
   "execution_count": 33,
   "metadata": {},
   "outputs": [
    {
     "data": {
      "text/html": [
       "<div>\n",
       "<style scoped>\n",
       "    .dataframe tbody tr th:only-of-type {\n",
       "        vertical-align: middle;\n",
       "    }\n",
       "\n",
       "    .dataframe tbody tr th {\n",
       "        vertical-align: top;\n",
       "    }\n",
       "\n",
       "    .dataframe thead th {\n",
       "        text-align: right;\n",
       "    }\n",
       "</style>\n",
       "<table border=\"1\" class=\"dataframe\">\n",
       "  <thead>\n",
       "    <tr style=\"text-align: right;\">\n",
       "      <th></th>\n",
       "      <th></th>\n",
       "      <th>timeframe</th>\n",
       "      <th>2020-2030</th>\n",
       "      <th>2030-2050</th>\n",
       "      <th>2050-2100</th>\n",
       "    </tr>\n",
       "    <tr>\n",
       "      <th>Category</th>\n",
       "      <th>region</th>\n",
       "      <th>variable</th>\n",
       "      <th></th>\n",
       "      <th></th>\n",
       "      <th></th>\n",
       "    </tr>\n",
       "  </thead>\n",
       "  <tbody>\n",
       "    <tr>\n",
       "      <th>C1</th>\n",
       "      <th>R5OECD90+EU</th>\n",
       "      <th>AR6 Reanalysis|OSCARv3.2|Carbon Removal|Total</th>\n",
       "      <td>3.0% (2.0-6.0)</td>\n",
       "      <td>21.5% (13.0-33.0)</td>\n",
       "      <td>42.5% (-28.25-73.75)</td>\n",
       "    </tr>\n",
       "    <tr>\n",
       "      <th>C2</th>\n",
       "      <th>R5OECD90+EU</th>\n",
       "      <th>AR6 Reanalysis|OSCARv3.2|Carbon Removal|Total</th>\n",
       "      <td>2.0% (-0.0-4.0)</td>\n",
       "      <td>15.0% (8.75-25.5)</td>\n",
       "      <td>48.0% (34.0-66.0)</td>\n",
       "    </tr>\n",
       "    <tr>\n",
       "      <th>C3</th>\n",
       "      <th>R5OECD90+EU</th>\n",
       "      <th>AR6 Reanalysis|OSCARv3.2|Carbon Removal|Total</th>\n",
       "      <td>2.0% (1.0-4.0)</td>\n",
       "      <td>11.0% (7.0-24.5)</td>\n",
       "      <td>35.0% (24.0-66.0)</td>\n",
       "    </tr>\n",
       "    <tr>\n",
       "      <th>C1</th>\n",
       "      <th>R5OECD90+EU</th>\n",
       "      <th>AR6 Reanalysis|OSCARv3.2|Emissions|CO2|Gross</th>\n",
       "      <td>76.5% (73.0-82.0)</td>\n",
       "      <td>71.0% (62.75-77.0)</td>\n",
       "      <td>52.0% (22.0-105.0)</td>\n",
       "    </tr>\n",
       "    <tr>\n",
       "      <th>C2</th>\n",
       "      <th>R5OECD90+EU</th>\n",
       "      <th>AR6 Reanalysis|OSCARv3.2|Emissions|CO2|Gross</th>\n",
       "      <td>78.0% (75.0-84.0)</td>\n",
       "      <td>73.0% (67.0-79.0)</td>\n",
       "      <td>47.0% (30.75-60.0)</td>\n",
       "    </tr>\n",
       "    <tr>\n",
       "      <th>C3</th>\n",
       "      <th>R5OECD90+EU</th>\n",
       "      <th>AR6 Reanalysis|OSCARv3.2|Emissions|CO2|Gross</th>\n",
       "      <td>74.0% (68.0-78.0)</td>\n",
       "      <td>74.0% (66.0-80.0)</td>\n",
       "      <td>58.0% (29.0-69.0)</td>\n",
       "    </tr>\n",
       "    <tr>\n",
       "      <th>C1</th>\n",
       "      <th>R5OECD90+EU</th>\n",
       "      <th>AR6 Reanalysis|OSCARv3.2|Emissions|NonCO2|Direct Only</th>\n",
       "      <td>17.5% (14.0-23.0)</td>\n",
       "      <td>7.0% (5.0-14.0)</td>\n",
       "      <td>8.0% (2.0-19.25)</td>\n",
       "    </tr>\n",
       "    <tr>\n",
       "      <th>C2</th>\n",
       "      <th>R5OECD90+EU</th>\n",
       "      <th>AR6 Reanalysis|OSCARv3.2|Emissions|NonCO2|Direct Only</th>\n",
       "      <td>18.0% (15.0-21.0)</td>\n",
       "      <td>11.0% (9.0-14.0)</td>\n",
       "      <td>6.0% (2.0-8.0)</td>\n",
       "    </tr>\n",
       "    <tr>\n",
       "      <th>C3</th>\n",
       "      <th>R5OECD90+EU</th>\n",
       "      <th>AR6 Reanalysis|OSCARv3.2|Emissions|NonCO2|Direct Only</th>\n",
       "      <td>23.0% (19.0-28.5)</td>\n",
       "      <td>10.0% (7.0-15.0)</td>\n",
       "      <td>5.0% (2.0-8.0)</td>\n",
       "    </tr>\n",
       "  </tbody>\n",
       "</table>\n",
       "</div>"
      ],
      "text/plain": [
       "timeframe                                                                        2020-2030  \\\n",
       "Category region      variable                                                                \n",
       "C1       R5OECD90+EU AR6 Reanalysis|OSCARv3.2|Carbon Removal|Total          3.0% (2.0-6.0)   \n",
       "C2       R5OECD90+EU AR6 Reanalysis|OSCARv3.2|Carbon Removal|Total         2.0% (-0.0-4.0)   \n",
       "C3       R5OECD90+EU AR6 Reanalysis|OSCARv3.2|Carbon Removal|Total          2.0% (1.0-4.0)   \n",
       "C1       R5OECD90+EU AR6 Reanalysis|OSCARv3.2|Emissions|CO2|Gross        76.5% (73.0-82.0)   \n",
       "C2       R5OECD90+EU AR6 Reanalysis|OSCARv3.2|Emissions|CO2|Gross        78.0% (75.0-84.0)   \n",
       "C3       R5OECD90+EU AR6 Reanalysis|OSCARv3.2|Emissions|CO2|Gross        74.0% (68.0-78.0)   \n",
       "C1       R5OECD90+EU AR6 Reanalysis|OSCARv3.2|Emissions|NonCO2|Direc...  17.5% (14.0-23.0)   \n",
       "C2       R5OECD90+EU AR6 Reanalysis|OSCARv3.2|Emissions|NonCO2|Direc...  18.0% (15.0-21.0)   \n",
       "C3       R5OECD90+EU AR6 Reanalysis|OSCARv3.2|Emissions|NonCO2|Direc...  23.0% (19.0-28.5)   \n",
       "\n",
       "timeframe                                                                         2030-2050  \\\n",
       "Category region      variable                                                                 \n",
       "C1       R5OECD90+EU AR6 Reanalysis|OSCARv3.2|Carbon Removal|Total        21.5% (13.0-33.0)   \n",
       "C2       R5OECD90+EU AR6 Reanalysis|OSCARv3.2|Carbon Removal|Total        15.0% (8.75-25.5)   \n",
       "C3       R5OECD90+EU AR6 Reanalysis|OSCARv3.2|Carbon Removal|Total         11.0% (7.0-24.5)   \n",
       "C1       R5OECD90+EU AR6 Reanalysis|OSCARv3.2|Emissions|CO2|Gross        71.0% (62.75-77.0)   \n",
       "C2       R5OECD90+EU AR6 Reanalysis|OSCARv3.2|Emissions|CO2|Gross         73.0% (67.0-79.0)   \n",
       "C3       R5OECD90+EU AR6 Reanalysis|OSCARv3.2|Emissions|CO2|Gross         74.0% (66.0-80.0)   \n",
       "C1       R5OECD90+EU AR6 Reanalysis|OSCARv3.2|Emissions|NonCO2|Direc...     7.0% (5.0-14.0)   \n",
       "C2       R5OECD90+EU AR6 Reanalysis|OSCARv3.2|Emissions|NonCO2|Direc...    11.0% (9.0-14.0)   \n",
       "C3       R5OECD90+EU AR6 Reanalysis|OSCARv3.2|Emissions|NonCO2|Direc...    10.0% (7.0-15.0)   \n",
       "\n",
       "timeframe                                                                           2050-2100  \n",
       "Category region      variable                                                                  \n",
       "C1       R5OECD90+EU AR6 Reanalysis|OSCARv3.2|Carbon Removal|Total       42.5% (-28.25-73.75)  \n",
       "C2       R5OECD90+EU AR6 Reanalysis|OSCARv3.2|Carbon Removal|Total          48.0% (34.0-66.0)  \n",
       "C3       R5OECD90+EU AR6 Reanalysis|OSCARv3.2|Carbon Removal|Total          35.0% (24.0-66.0)  \n",
       "C1       R5OECD90+EU AR6 Reanalysis|OSCARv3.2|Emissions|CO2|Gross          52.0% (22.0-105.0)  \n",
       "C2       R5OECD90+EU AR6 Reanalysis|OSCARv3.2|Emissions|CO2|Gross          47.0% (30.75-60.0)  \n",
       "C3       R5OECD90+EU AR6 Reanalysis|OSCARv3.2|Emissions|CO2|Gross           58.0% (29.0-69.0)  \n",
       "C1       R5OECD90+EU AR6 Reanalysis|OSCARv3.2|Emissions|NonCO2|Direc...      8.0% (2.0-19.25)  \n",
       "C2       R5OECD90+EU AR6 Reanalysis|OSCARv3.2|Emissions|NonCO2|Direc...        6.0% (2.0-8.0)  \n",
       "C3       R5OECD90+EU AR6 Reanalysis|OSCARv3.2|Emissions|NonCO2|Direc...        5.0% (2.0-8.0)  "
      ]
     },
     "execution_count": 33,
     "metadata": {},
     "output_type": "execute_result"
    },
    {
     "data": {
      "application/javascript": "\n            setTimeout(function() {\n                var nbb_cell_id = 33;\n                var nbb_unformatted_code = \"final_reg_summary_pd.loc[\\n    pd.IndexSlice[:, 'R5OECD90+EU', :],\\n    :\\n].sort_index(level=-1)\";\n                var nbb_formatted_code = \"final_reg_summary_pd.loc[pd.IndexSlice[:, \\\"R5OECD90+EU\\\", :], :].sort_index(level=-1)\";\n                var nbb_cells = Jupyter.notebook.get_cells();\n                for (var i = 0; i < nbb_cells.length; ++i) {\n                    if (nbb_cells[i].input_prompt_number == nbb_cell_id) {\n                        if (nbb_cells[i].get_text() == nbb_unformatted_code) {\n                             nbb_cells[i].set_text(nbb_formatted_code);\n                        }\n                        break;\n                    }\n                }\n            }, 500);\n            ",
      "text/plain": [
       "<IPython.core.display.Javascript object>"
      ]
     },
     "metadata": {},
     "output_type": "display_data"
    }
   ],
   "source": [
    "final_reg_summary_pd.loc[\n",
    "    pd.IndexSlice[:, 'R5OECD90+EU', :],\n",
    "    :\n",
    "].sort_index(level=-1)"
   ]
  },
  {
   "cell_type": "markdown",
   "metadata": {},
   "source": [
    "Statement: Patterns for Latin America"
   ]
  },
  {
   "cell_type": "code",
   "execution_count": 34,
   "metadata": {},
   "outputs": [
    {
     "data": {
      "text/plain": [
       "timeframe\n",
       "2020-2030      18.0% (14.0-28.5)\n",
       "2030-2050      32.0% (22.0-42.0)\n",
       "2050-2100    79.5% (48.75-136.0)\n",
       "Name: (C1, R5LAM, AR6 Reanalysis|OSCARv3.2|Carbon Removal|Total), dtype: object"
      ]
     },
     "execution_count": 34,
     "metadata": {},
     "output_type": "execute_result"
    },
    {
     "data": {
      "application/javascript": "\n            setTimeout(function() {\n                var nbb_cell_id = 34;\n                var nbb_unformatted_code = \"final_reg_summary_pd.loc[\\n    pd.IndexSlice['C1', 'R5LAM', 'AR6 Reanalysis|OSCARv3.2|Carbon Removal|Total'],\\n    :\\n]\";\n                var nbb_formatted_code = \"final_reg_summary_pd.loc[\\n    pd.IndexSlice[\\\"C1\\\", \\\"R5LAM\\\", \\\"AR6 Reanalysis|OSCARv3.2|Carbon Removal|Total\\\"], :\\n]\";\n                var nbb_cells = Jupyter.notebook.get_cells();\n                for (var i = 0; i < nbb_cells.length; ++i) {\n                    if (nbb_cells[i].input_prompt_number == nbb_cell_id) {\n                        if (nbb_cells[i].get_text() == nbb_unformatted_code) {\n                             nbb_cells[i].set_text(nbb_formatted_code);\n                        }\n                        break;\n                    }\n                }\n            }, 500);\n            ",
      "text/plain": [
       "<IPython.core.display.Javascript object>"
      ]
     },
     "metadata": {},
     "output_type": "display_data"
    }
   ],
   "source": [
    "final_reg_summary_pd.loc[\n",
    "    pd.IndexSlice['C1', 'R5LAM', 'AR6 Reanalysis|OSCARv3.2|Carbon Removal|Total'],\n",
    "    :\n",
    "]"
   ]
  },
  {
   "cell_type": "code",
   "execution_count": null,
   "metadata": {},
   "outputs": [],
   "source": []
  }
 ],
 "metadata": {
  "kernelspec": {
   "display_name": "ar6_cdr_assessment",
   "language": "python",
   "name": "python3"
  },
  "language_info": {
   "codemirror_mode": {
    "name": "ipython",
    "version": 3
   },
   "file_extension": ".py",
   "mimetype": "text/x-python",
   "name": "python",
   "nbconvert_exporter": "python",
   "pygments_lexer": "ipython3",
   "version": "3.10.14"
  }
 },
 "nbformat": 4,
 "nbformat_minor": 2
}
