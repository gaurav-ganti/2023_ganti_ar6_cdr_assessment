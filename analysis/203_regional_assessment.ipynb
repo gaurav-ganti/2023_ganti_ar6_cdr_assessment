{
 "cells": [
  {
   "cell_type": "code",
   "execution_count": 1,
   "metadata": {},
   "outputs": [
    {
     "data": {
      "application/javascript": "if (typeof IPython !== 'undefined') { IPython.OutputArea.prototype._should_scroll = function(lines){ return false; }}",
      "text/plain": [
       "<IPython.core.display.Javascript object>"
      ]
     },
     "metadata": {},
     "output_type": "display_data"
    }
   ],
   "source": [
    "import pyam\n",
    "import pandas as pd\n",
    "import numpy as np\n",
    "\n",
    "import matplotlib.pyplot as plt\n",
    "\n",
    "from pathlib import Path"
   ]
  },
  {
   "cell_type": "code",
   "execution_count": 2,
   "metadata": {},
   "outputs": [
    {
     "data": {
      "application/javascript": "\n            setTimeout(function() {\n                var nbb_cell_id = 2;\n                var nbb_unformatted_code = \"%load_ext nb_black\";\n                var nbb_formatted_code = \"%load_ext nb_black\";\n                var nbb_cells = Jupyter.notebook.get_cells();\n                for (var i = 0; i < nbb_cells.length; ++i) {\n                    if (nbb_cells[i].input_prompt_number == nbb_cell_id) {\n                        if (nbb_cells[i].get_text() == nbb_unformatted_code) {\n                             nbb_cells[i].set_text(nbb_formatted_code);\n                        }\n                        break;\n                    }\n                }\n            }, 500);\n            ",
      "text/plain": [
       "<IPython.core.display.Javascript object>"
      ]
     },
     "metadata": {},
     "output_type": "display_data"
    }
   ],
   "source": [
    "%load_ext nb_black"
   ]
  },
  {
   "cell_type": "markdown",
   "metadata": {},
   "source": [
    "Step 1: Let us read in the necessary data."
   ]
  },
  {
   "cell_type": "code",
   "execution_count": 3,
   "metadata": {},
   "outputs": [
    {
     "name": "stderr",
     "output_type": "stream",
     "text": [
      "pyam - INFO: Running in a notebook, setting up a basic logging at level INFO\n",
      "pyam.core - INFO: Reading file ../data/101_data.xlsx\n",
      "pyam.core - INFO: Reading meta indicators\n"
     ]
    },
    {
     "data": {
      "application/javascript": "\n            setTimeout(function() {\n                var nbb_cell_id = 3;\n                var nbb_unformatted_code = \"df = pyam.IamDataFrame(\\n    Path(\\n        '../data/101_data.xlsx'\\n    )\\n)\";\n                var nbb_formatted_code = \"df = pyam.IamDataFrame(Path(\\\"../data/101_data.xlsx\\\"))\";\n                var nbb_cells = Jupyter.notebook.get_cells();\n                for (var i = 0; i < nbb_cells.length; ++i) {\n                    if (nbb_cells[i].input_prompt_number == nbb_cell_id) {\n                        if (nbb_cells[i].get_text() == nbb_unformatted_code) {\n                             nbb_cells[i].set_text(nbb_formatted_code);\n                        }\n                        break;\n                    }\n                }\n            }, 500);\n            ",
      "text/plain": [
       "<IPython.core.display.Javascript object>"
      ]
     },
     "metadata": {},
     "output_type": "display_data"
    }
   ],
   "source": [
    "df = pyam.IamDataFrame(\n",
    "    Path(\n",
    "        '../data/101_data.xlsx'\n",
    "    )\n",
    ")"
   ]
  },
  {
   "cell_type": "code",
   "execution_count": 4,
   "metadata": {},
   "outputs": [
    {
     "data": {
      "application/javascript": "\n            setTimeout(function() {\n                var nbb_cell_id = 4;\n                var nbb_unformatted_code = \"df_cdr = (\\n    df\\n    .filter(\\n        variable='*Carbon Removal*'\\n    )\\n    .convert_unit(\\n        current='Gt CO2/yr',\\n        to='Gt CO2/yr',\\n        factor=-1\\n    )\\n)\";\n                var nbb_formatted_code = \"df_cdr = df.filter(variable=\\\"*Carbon Removal*\\\").convert_unit(\\n    current=\\\"Gt CO2/yr\\\", to=\\\"Gt CO2/yr\\\", factor=-1\\n)\";\n                var nbb_cells = Jupyter.notebook.get_cells();\n                for (var i = 0; i < nbb_cells.length; ++i) {\n                    if (nbb_cells[i].input_prompt_number == nbb_cell_id) {\n                        if (nbb_cells[i].get_text() == nbb_unformatted_code) {\n                             nbb_cells[i].set_text(nbb_formatted_code);\n                        }\n                        break;\n                    }\n                }\n            }, 500);\n            ",
      "text/plain": [
       "<IPython.core.display.Javascript object>"
      ]
     },
     "metadata": {},
     "output_type": "display_data"
    }
   ],
   "source": [
    "df_cdr = (\n",
    "    df\n",
    "    .filter(\n",
    "        variable='*Carbon Removal*'\n",
    "    )\n",
    "    .convert_unit(\n",
    "        current='Gt CO2/yr',\n",
    "        to='Gt CO2/yr',\n",
    "        factor=-1\n",
    "    )\n",
    ")"
   ]
  },
  {
   "cell_type": "code",
   "execution_count": 5,
   "metadata": {},
   "outputs": [
    {
     "data": {
      "application/javascript": "\n            setTimeout(function() {\n                var nbb_cell_id = 5;\n                var nbb_unformatted_code = \"df_compiled = pyam.concat(\\n    [\\n        df_cdr,\\n        df.filter(\\n            variable='*Carbon Removal*',\\n            keep=False\\n        )\\n    ]\\n)\";\n                var nbb_formatted_code = \"df_compiled = pyam.concat([df_cdr, df.filter(variable=\\\"*Carbon Removal*\\\", keep=False)])\";\n                var nbb_cells = Jupyter.notebook.get_cells();\n                for (var i = 0; i < nbb_cells.length; ++i) {\n                    if (nbb_cells[i].input_prompt_number == nbb_cell_id) {\n                        if (nbb_cells[i].get_text() == nbb_unformatted_code) {\n                             nbb_cells[i].set_text(nbb_formatted_code);\n                        }\n                        break;\n                    }\n                }\n            }, 500);\n            ",
      "text/plain": [
       "<IPython.core.display.Javascript object>"
      ]
     },
     "metadata": {},
     "output_type": "display_data"
    }
   ],
   "source": [
    "df_compiled = pyam.concat(\n",
    "    [\n",
    "        df_cdr,\n",
    "        df.filter(\n",
    "            variable='*Carbon Removal*',\n",
    "            keep=False\n",
    "        )\n",
    "    ]\n",
    ")"
   ]
  },
  {
   "cell_type": "markdown",
   "metadata": {},
   "source": [
    "Step 2: We want to identify the regional patterns in contributions to the regional net GHG reductions:\n",
    "* 2020 - 2030\n",
    "* 2030 - 2050\n",
    "* 2050 - 2100"
   ]
  },
  {
   "cell_type": "code",
   "execution_count": 6,
   "metadata": {},
   "outputs": [
    {
     "data": {
      "application/javascript": "\n            setTimeout(function() {\n                var nbb_cell_id = 6;\n                var nbb_unformatted_code = \"time_periods = [\\n    (2020, 2030),\\n    (2030, 2050),\\n    (2050, 2100)\\n]\";\n                var nbb_formatted_code = \"time_periods = [(2020, 2030), (2030, 2050), (2050, 2100)]\";\n                var nbb_cells = Jupyter.notebook.get_cells();\n                for (var i = 0; i < nbb_cells.length; ++i) {\n                    if (nbb_cells[i].input_prompt_number == nbb_cell_id) {\n                        if (nbb_cells[i].get_text() == nbb_unformatted_code) {\n                             nbb_cells[i].set_text(nbb_formatted_code);\n                        }\n                        break;\n                    }\n                }\n            }, 500);\n            ",
      "text/plain": [
       "<IPython.core.display.Javascript object>"
      ]
     },
     "metadata": {},
     "output_type": "display_data"
    }
   ],
   "source": [
    "time_periods = [\n",
    "    (2020, 2030),\n",
    "    (2030, 2050),\n",
    "    (2050, 2100)\n",
    "]"
   ]
  },
  {
   "cell_type": "code",
   "execution_count": 7,
   "metadata": {},
   "outputs": [
    {
     "data": {
      "application/javascript": "\n            setTimeout(function() {\n                var nbb_cell_id = 7;\n                var nbb_unformatted_code = \"def format_output_data_frame(df, cols_select,  variable_name, summarise=True):\\n    \\\"\\\"\\\"Function to help format the output dataframe\\\"\\\"\\\"\\n    cols_to_melt = set(cols_select) - set('Category')\\n    melted_data = pd.melt(\\n        frame=df,\\n        id_vars=['model', 'scenario', 'Category'],\\n        value_vars=cols_to_melt\\n    )\\n    #Now, we split the variable column\\n    melted_data.loc[:, 'region'] = (\\n        melted_data.loc[:,'variable'].apply(\\n            lambda x: x.split('_')[1]\\n        )\\n    )\\n    melted_data.loc[:, 'timeframe'] = (\\n        melted_data.loc[:,'variable'].apply(\\n            lambda x: x.split('_')[2] + '-' + x.split('_')[3]\\n        )\\n    )\\n    melted_data.loc[:, 'variable'] = variable_name\\n    if summarise:\\n        summarised_data_raw = (\\n            melted_data\\n            .groupby(['Category', 'region', 'timeframe'])['value']\\n            .describe()\\n            .loc[:, ['25%', '50%', '75%']]\\n        )\\n        summarised_data_raw.loc[:, 'summary'] = (\\n            summarised_data_raw.apply(\\n                lambda x: f\\\"{x['50%']}% ({x['25%']}-{x['75%']})\\\",\\n                axis=1\\n            )\\n            \\n        )\\n        summarised_data_clean = summarised_data_raw.loc[:, 'summary'].unstack(level=-1)\\n        summarised_data_clean.loc[:, 'variable'] = variable_name\\n    return melted_data, summarised_data_clean\";\n                var nbb_formatted_code = \"def format_output_data_frame(df, cols_select, variable_name, summarise=True):\\n    \\\"\\\"\\\"Function to help format the output dataframe\\\"\\\"\\\"\\n    cols_to_melt = set(cols_select) - set(\\\"Category\\\")\\n    melted_data = pd.melt(\\n        frame=df, id_vars=[\\\"model\\\", \\\"scenario\\\", \\\"Category\\\"], value_vars=cols_to_melt\\n    )\\n    # Now, we split the variable column\\n    melted_data.loc[:, \\\"region\\\"] = melted_data.loc[:, \\\"variable\\\"].apply(\\n        lambda x: x.split(\\\"_\\\")[1]\\n    )\\n    melted_data.loc[:, \\\"timeframe\\\"] = melted_data.loc[:, \\\"variable\\\"].apply(\\n        lambda x: x.split(\\\"_\\\")[2] + \\\"-\\\" + x.split(\\\"_\\\")[3]\\n    )\\n    melted_data.loc[:, \\\"variable\\\"] = variable_name\\n    if summarise:\\n        summarised_data_raw = (\\n            melted_data.groupby([\\\"Category\\\", \\\"region\\\", \\\"timeframe\\\"])[\\\"value\\\"]\\n            .describe()\\n            .loc[:, [\\\"25%\\\", \\\"50%\\\", \\\"75%\\\"]]\\n        )\\n        summarised_data_raw.loc[:, \\\"summary\\\"] = summarised_data_raw.apply(\\n            lambda x: f\\\"{x['50%']}% ({x['25%']}-{x['75%']})\\\", axis=1\\n        )\\n        summarised_data_clean = summarised_data_raw.loc[:, \\\"summary\\\"].unstack(level=-1)\\n        summarised_data_clean.loc[:, \\\"variable\\\"] = variable_name\\n    return melted_data, summarised_data_clean\";\n                var nbb_cells = Jupyter.notebook.get_cells();\n                for (var i = 0; i < nbb_cells.length; ++i) {\n                    if (nbb_cells[i].input_prompt_number == nbb_cell_id) {\n                        if (nbb_cells[i].get_text() == nbb_unformatted_code) {\n                             nbb_cells[i].set_text(nbb_formatted_code);\n                        }\n                        break;\n                    }\n                }\n            }, 500);\n            ",
      "text/plain": [
       "<IPython.core.display.Javascript object>"
      ]
     },
     "metadata": {},
     "output_type": "display_data"
    }
   ],
   "source": [
    "def format_output_data_frame(df, cols_select,  variable_name, summarise=True):\n",
    "    \"\"\"Function to help format the output dataframe\"\"\"\n",
    "    cols_to_melt = set(cols_select) - set('Category')\n",
    "    melted_data = pd.melt(\n",
    "        frame=df,\n",
    "        id_vars=['model', 'scenario', 'Category'],\n",
    "        value_vars=cols_to_melt\n",
    "    )\n",
    "    #Now, we split the variable column\n",
    "    melted_data.loc[:, 'region'] = (\n",
    "        melted_data.loc[:,'variable'].apply(\n",
    "            lambda x: x.split('_')[1]\n",
    "        )\n",
    "    )\n",
    "    melted_data.loc[:, 'timeframe'] = (\n",
    "        melted_data.loc[:,'variable'].apply(\n",
    "            lambda x: x.split('_')[2] + '-' + x.split('_')[3]\n",
    "        )\n",
    "    )\n",
    "    melted_data.loc[:, 'variable'] = variable_name\n",
    "    if summarise:\n",
    "        summarised_data_raw = (\n",
    "            melted_data\n",
    "            .groupby(['Category', 'region', 'timeframe'])['value']\n",
    "            .describe()\n",
    "            .loc[:, ['25%', '50%', '75%']]\n",
    "        )\n",
    "        summarised_data_raw.loc[:, 'summary'] = (\n",
    "            summarised_data_raw.apply(\n",
    "                lambda x: f\"{x['50%']}% ({x['25%']}-{x['75%']})\",\n",
    "                axis=1\n",
    "            )\n",
    "            \n",
    "        )\n",
    "        summarised_data_clean = summarised_data_raw.loc[:, 'summary'].unstack(level=-1)\n",
    "        summarised_data_clean.loc[:, 'variable'] = variable_name\n",
    "    return melted_data, summarised_data_clean"
   ]
  },
  {
   "cell_type": "markdown",
   "metadata": {},
   "source": [
    "Step 3: Now, for each region, we want to take a closer look at the role of gross reductions, non CO2 and CDR."
   ]
  },
  {
   "cell_type": "code",
   "execution_count": 8,
   "metadata": {},
   "outputs": [
    {
     "data": {
      "application/javascript": "\n            setTimeout(function() {\n                var nbb_cell_id = 8;\n                var nbb_unformatted_code = \"def crunch_through_and_summarise_per_region(df, region):\\n    \\\"\\\"\\\"Helper function to crunch through the regional summaries\\\"\\\"\\\"\\n    total_variable = 'AR6 Reanalysis|OSCARv3.2|Emissions|Kyoto Gases|Direct Only'\\n    component_variables = [\\n        ('AR6 Reanalysis|OSCARv3.2|Emissions|CO2|Gross', 'gross'),\\n        ('AR6 Reanalysis|OSCARv3.2|Emissions|NonCO2|Direct Only', 'nonco2'),\\n        ('AR6 Reanalysis|OSCARv3.2|Carbon Removal|Total', 'cdr')    \\n    ]\\n    # Step 1: Pull out the regional data\\n    regional_data = (\\n        df\\n        .filter(\\n            region=region\\n        )\\n    )\\n    # Step 2\\n    for start, end in time_periods:\\n        # First calculate the total mitigation\\n        df_net = (\\n            regional_data\\n            .filter(year=range(start, end+1))\\n            .offset(year=start)\\n        )\\n        # Calculate the total mitigation burden\\n        regional_data.set_meta(\\n            meta=(\\n                df_net\\n                .filter(variable=total_variable, year=end)\\n                .timeseries()\\n                .droplevel(['region', 'variable', 'unit'])[end]\\n            ),\\n            name=f'total_mitigation_{start}_{end}'\\n        )\\n        # Per variable calculate the contributions to these reductions\\n        for variable, label in component_variables:\\n            ts = (\\n                df_net\\n                .filter(variable=variable)\\n                .timeseries()\\n                .apply(\\n                    lambda x: x * 100 / regional_data.meta.loc[x.name[0:2], f'total_mitigation_{start}_{end}'],\\n                    axis=1\\n                )\\n                .round(0)\\n            )\\n            regional_data.set_meta(\\n                meta=ts.droplevel(['region', 'variable', 'unit'])[end],\\n                name=f'{label}_{region}_{start}_{end}'\\n            )\\n    # Step 3\\n    cols = [x[1] for x in component_variables]\\n    df = []\\n    df_sum = []\\n    for var, label in component_variables:\\n        cols = [x for x in regional_data.meta if f'{label}_{region}' in x]\\n        cols.append('Category')\\n        out, out_sum = (\\n            format_output_data_frame(\\n                regional_data.meta.reset_index(),\\n                cols_select=cols,\\n                variable_name=var\\n            )\\n        )\\n        df.append(out)\\n        df_sum.append(out_sum)\\n    \\n    compiled = pd.concat(df)\\n    summary = (\\n        pd.concat(df_sum)\\n        .set_index('variable', append=True)\\n        .sort_index(level=0)\\n    )\\n    return compiled, summary\";\n                var nbb_formatted_code = \"def crunch_through_and_summarise_per_region(df, region):\\n    \\\"\\\"\\\"Helper function to crunch through the regional summaries\\\"\\\"\\\"\\n    total_variable = \\\"AR6 Reanalysis|OSCARv3.2|Emissions|Kyoto Gases|Direct Only\\\"\\n    component_variables = [\\n        (\\\"AR6 Reanalysis|OSCARv3.2|Emissions|CO2|Gross\\\", \\\"gross\\\"),\\n        (\\\"AR6 Reanalysis|OSCARv3.2|Emissions|NonCO2|Direct Only\\\", \\\"nonco2\\\"),\\n        (\\\"AR6 Reanalysis|OSCARv3.2|Carbon Removal|Total\\\", \\\"cdr\\\"),\\n    ]\\n    # Step 1: Pull out the regional data\\n    regional_data = df.filter(region=region)\\n    # Step 2\\n    for start, end in time_periods:\\n        # First calculate the total mitigation\\n        df_net = regional_data.filter(year=range(start, end + 1)).offset(year=start)\\n        # Calculate the total mitigation burden\\n        regional_data.set_meta(\\n            meta=(\\n                df_net.filter(variable=total_variable, year=end)\\n                .timeseries()\\n                .droplevel([\\\"region\\\", \\\"variable\\\", \\\"unit\\\"])[end]\\n            ),\\n            name=f\\\"total_mitigation_{start}_{end}\\\",\\n        )\\n        # Per variable calculate the contributions to these reductions\\n        for variable, label in component_variables:\\n            ts = (\\n                df_net.filter(variable=variable)\\n                .timeseries()\\n                .apply(\\n                    lambda x: x\\n                    * 100\\n                    / regional_data.meta.loc[\\n                        x.name[0:2], f\\\"total_mitigation_{start}_{end}\\\"\\n                    ],\\n                    axis=1,\\n                )\\n                .round(0)\\n            )\\n            regional_data.set_meta(\\n                meta=ts.droplevel([\\\"region\\\", \\\"variable\\\", \\\"unit\\\"])[end],\\n                name=f\\\"{label}_{region}_{start}_{end}\\\",\\n            )\\n    # Step 3\\n    cols = [x[1] for x in component_variables]\\n    df = []\\n    df_sum = []\\n    for var, label in component_variables:\\n        cols = [x for x in regional_data.meta if f\\\"{label}_{region}\\\" in x]\\n        cols.append(\\\"Category\\\")\\n        out, out_sum = format_output_data_frame(\\n            regional_data.meta.reset_index(), cols_select=cols, variable_name=var\\n        )\\n        df.append(out)\\n        df_sum.append(out_sum)\\n\\n    compiled = pd.concat(df)\\n    summary = pd.concat(df_sum).set_index(\\\"variable\\\", append=True).sort_index(level=0)\\n    return compiled, summary\";\n                var nbb_cells = Jupyter.notebook.get_cells();\n                for (var i = 0; i < nbb_cells.length; ++i) {\n                    if (nbb_cells[i].input_prompt_number == nbb_cell_id) {\n                        if (nbb_cells[i].get_text() == nbb_unformatted_code) {\n                             nbb_cells[i].set_text(nbb_formatted_code);\n                        }\n                        break;\n                    }\n                }\n            }, 500);\n            ",
      "text/plain": [
       "<IPython.core.display.Javascript object>"
      ]
     },
     "metadata": {},
     "output_type": "display_data"
    }
   ],
   "source": [
    "def crunch_through_and_summarise_per_region(df, region):\n",
    "    \"\"\"Helper function to crunch through the regional summaries\"\"\"\n",
    "    total_variable = 'AR6 Reanalysis|OSCARv3.2|Emissions|Kyoto Gases|Direct Only'\n",
    "    component_variables = [\n",
    "        ('AR6 Reanalysis|OSCARv3.2|Emissions|CO2|Gross', 'gross'),\n",
    "        ('AR6 Reanalysis|OSCARv3.2|Emissions|NonCO2|Direct Only', 'nonco2'),\n",
    "        ('AR6 Reanalysis|OSCARv3.2|Carbon Removal|Total', 'cdr')    \n",
    "    ]\n",
    "    # Step 1: Pull out the regional data\n",
    "    regional_data = (\n",
    "        df\n",
    "        .filter(\n",
    "            region=region\n",
    "        )\n",
    "    )\n",
    "    # Step 2\n",
    "    for start, end in time_periods:\n",
    "        # First calculate the total mitigation\n",
    "        df_net = (\n",
    "            regional_data\n",
    "            .filter(year=range(start, end+1))\n",
    "            .offset(year=start)\n",
    "        )\n",
    "        # Calculate the total mitigation burden\n",
    "        regional_data.set_meta(\n",
    "            meta=(\n",
    "                df_net\n",
    "                .filter(variable=total_variable, year=end)\n",
    "                .timeseries()\n",
    "                .droplevel(['region', 'variable', 'unit'])[end]\n",
    "            ),\n",
    "            name=f'total_mitigation_{start}_{end}'\n",
    "        )\n",
    "        # Per variable calculate the contributions to these reductions\n",
    "        for variable, label in component_variables:\n",
    "            ts = (\n",
    "                df_net\n",
    "                .filter(variable=variable)\n",
    "                .timeseries()\n",
    "                .apply(\n",
    "                    lambda x: x * 100 / regional_data.meta.loc[x.name[0:2], f'total_mitigation_{start}_{end}'],\n",
    "                    axis=1\n",
    "                )\n",
    "                .round(0)\n",
    "            )\n",
    "            regional_data.set_meta(\n",
    "                meta=ts.droplevel(['region', 'variable', 'unit'])[end],\n",
    "                name=f'{label}_{region}_{start}_{end}'\n",
    "            )\n",
    "    # Step 3\n",
    "    cols = [x[1] for x in component_variables]\n",
    "    df = []\n",
    "    df_sum = []\n",
    "    for var, label in component_variables:\n",
    "        cols = [x for x in regional_data.meta if f'{label}_{region}' in x]\n",
    "        cols.append('Category')\n",
    "        out, out_sum = (\n",
    "            format_output_data_frame(\n",
    "                regional_data.meta.reset_index(),\n",
    "                cols_select=cols,\n",
    "                variable_name=var\n",
    "            )\n",
    "        )\n",
    "        df.append(out)\n",
    "        df_sum.append(out_sum)\n",
    "    \n",
    "    compiled = pd.concat(df)\n",
    "    summary = (\n",
    "        pd.concat(df_sum)\n",
    "        .set_index('variable', append=True)\n",
    "        .sort_index(level=0)\n",
    "    )\n",
    "    return compiled, summary"
   ]
  },
  {
   "cell_type": "code",
   "execution_count": 9,
   "metadata": {},
   "outputs": [
    {
     "data": {
      "application/javascript": "\n            setTimeout(function() {\n                var nbb_cell_id = 9;\n                var nbb_unformatted_code = \"regs = [x for x in df_compiled.region if 'World' not in x]\";\n                var nbb_formatted_code = \"regs = [x for x in df_compiled.region if \\\"World\\\" not in x]\";\n                var nbb_cells = Jupyter.notebook.get_cells();\n                for (var i = 0; i < nbb_cells.length; ++i) {\n                    if (nbb_cells[i].input_prompt_number == nbb_cell_id) {\n                        if (nbb_cells[i].get_text() == nbb_unformatted_code) {\n                             nbb_cells[i].set_text(nbb_formatted_code);\n                        }\n                        break;\n                    }\n                }\n            }, 500);\n            ",
      "text/plain": [
       "<IPython.core.display.Javascript object>"
      ]
     },
     "metadata": {},
     "output_type": "display_data"
    }
   ],
   "source": [
    "regs = [x for x in df_compiled.region if 'World' not in x]"
   ]
  },
  {
   "cell_type": "code",
   "execution_count": 10,
   "metadata": {},
   "outputs": [
    {
     "data": {
      "text/plain": [
       "['R5ASIA', 'R5LAM', 'R5MAF', 'R5OECD90+EU', 'R5REF']"
      ]
     },
     "execution_count": 10,
     "metadata": {},
     "output_type": "execute_result"
    },
    {
     "data": {
      "application/javascript": "\n            setTimeout(function() {\n                var nbb_cell_id = 10;\n                var nbb_unformatted_code = \"regs\";\n                var nbb_formatted_code = \"regs\";\n                var nbb_cells = Jupyter.notebook.get_cells();\n                for (var i = 0; i < nbb_cells.length; ++i) {\n                    if (nbb_cells[i].input_prompt_number == nbb_cell_id) {\n                        if (nbb_cells[i].get_text() == nbb_unformatted_code) {\n                             nbb_cells[i].set_text(nbb_formatted_code);\n                        }\n                        break;\n                    }\n                }\n            }, 500);\n            ",
      "text/plain": [
       "<IPython.core.display.Javascript object>"
      ]
     },
     "metadata": {},
     "output_type": "display_data"
    }
   ],
   "source": [
    "regs"
   ]
  },
  {
   "cell_type": "code",
   "execution_count": 11,
   "metadata": {},
   "outputs": [
    {
     "data": {
      "application/javascript": "\n            setTimeout(function() {\n                var nbb_cell_id = 11;\n                var nbb_unformatted_code = \"final_reg_summary = []\\nfor r in regs:\\n    _, sum = crunch_through_and_summarise_per_region(\\n        df_compiled,\\n        r\\n    )\\n    final_reg_summary.append(sum)\";\n                var nbb_formatted_code = \"final_reg_summary = []\\nfor r in regs:\\n    _, sum = crunch_through_and_summarise_per_region(df_compiled, r)\\n    final_reg_summary.append(sum)\";\n                var nbb_cells = Jupyter.notebook.get_cells();\n                for (var i = 0; i < nbb_cells.length; ++i) {\n                    if (nbb_cells[i].input_prompt_number == nbb_cell_id) {\n                        if (nbb_cells[i].get_text() == nbb_unformatted_code) {\n                             nbb_cells[i].set_text(nbb_formatted_code);\n                        }\n                        break;\n                    }\n                }\n            }, 500);\n            ",
      "text/plain": [
       "<IPython.core.display.Javascript object>"
      ]
     },
     "metadata": {},
     "output_type": "display_data"
    }
   ],
   "source": [
    "final_reg_summary = []\n",
    "for r in regs:\n",
    "    _, sum = crunch_through_and_summarise_per_region(\n",
    "        df_compiled,\n",
    "        r\n",
    "    )\n",
    "    final_reg_summary.append(sum)"
   ]
  },
  {
   "cell_type": "code",
   "execution_count": 12,
   "metadata": {},
   "outputs": [
    {
     "data": {
      "application/javascript": "\n            setTimeout(function() {\n                var nbb_cell_id = 12;\n                var nbb_unformatted_code = \"final_reg_summary_pd = pd.concat(final_reg_summary)\";\n                var nbb_formatted_code = \"final_reg_summary_pd = pd.concat(final_reg_summary)\";\n                var nbb_cells = Jupyter.notebook.get_cells();\n                for (var i = 0; i < nbb_cells.length; ++i) {\n                    if (nbb_cells[i].input_prompt_number == nbb_cell_id) {\n                        if (nbb_cells[i].get_text() == nbb_unformatted_code) {\n                             nbb_cells[i].set_text(nbb_formatted_code);\n                        }\n                        break;\n                    }\n                }\n            }, 500);\n            ",
      "text/plain": [
       "<IPython.core.display.Javascript object>"
      ]
     },
     "metadata": {},
     "output_type": "display_data"
    }
   ],
   "source": [
    "final_reg_summary_pd = pd.concat(final_reg_summary)"
   ]
  },
  {
   "cell_type": "code",
   "execution_count": 13,
   "metadata": {},
   "outputs": [
    {
     "data": {
      "application/javascript": "\n            setTimeout(function() {\n                var nbb_cell_id = 13;\n                var nbb_unformatted_code = \"final_reg_summary_pd.to_excel(\\n    Path(\\n        'figures/SI_table2.xlsx'\\n    )\\n)\";\n                var nbb_formatted_code = \"final_reg_summary_pd.to_excel(Path(\\\"figures/SI_table2.xlsx\\\"))\";\n                var nbb_cells = Jupyter.notebook.get_cells();\n                for (var i = 0; i < nbb_cells.length; ++i) {\n                    if (nbb_cells[i].input_prompt_number == nbb_cell_id) {\n                        if (nbb_cells[i].get_text() == nbb_unformatted_code) {\n                             nbb_cells[i].set_text(nbb_formatted_code);\n                        }\n                        break;\n                    }\n                }\n            }, 500);\n            ",
      "text/plain": [
       "<IPython.core.display.Javascript object>"
      ]
     },
     "metadata": {},
     "output_type": "display_data"
    }
   ],
   "source": [
    "final_reg_summary_pd.to_excel(\n",
    "    Path(\n",
    "        'figures/SI_table2.xlsx'\n",
    "    )\n",
    ")"
   ]
  },
  {
   "cell_type": "markdown",
   "metadata": {},
   "source": [
    "Statements: Patterns for the R5ASIA region."
   ]
  },
  {
   "cell_type": "markdown",
   "metadata": {},
   "source": [
    "For the Asia region, we note a dominant contribution (median of around 80%) from gross CO2 emission reductions across all three time periods in the C1 pathways with the balance largely coming from non-CO2 reductions followed by CDR. However, in C2 and C3 pathways where there is slower global near-term action, CDR plays a larger role beyond 2050, accounting for over 20% of the regional net GHG reductions."
   ]
  },
  {
   "cell_type": "code",
   "execution_count": 14,
   "metadata": {},
   "outputs": [
    {
     "data": {
      "text/plain": [
       "timeframe\n",
       "2020-2030    78.0% (66.75-82.0)\n",
       "2030-2050    79.0% (71.0-85.25)\n",
       "2050-2100    80.0% (60.0-123.5)\n",
       "Name: (C1, R5ASIA, AR6 Reanalysis|OSCARv3.2|Emissions|CO2|Gross), dtype: object"
      ]
     },
     "execution_count": 14,
     "metadata": {},
     "output_type": "execute_result"
    },
    {
     "data": {
      "application/javascript": "\n            setTimeout(function() {\n                var nbb_cell_id = 14;\n                var nbb_unformatted_code = \"final_reg_summary_pd.loc[\\n    pd.IndexSlice['C1', 'R5ASIA', 'AR6 Reanalysis|OSCARv3.2|Emissions|CO2|Gross'],\\n    :\\n]\";\n                var nbb_formatted_code = \"final_reg_summary_pd.loc[\\n    pd.IndexSlice[\\\"C1\\\", \\\"R5ASIA\\\", \\\"AR6 Reanalysis|OSCARv3.2|Emissions|CO2|Gross\\\"], :\\n]\";\n                var nbb_cells = Jupyter.notebook.get_cells();\n                for (var i = 0; i < nbb_cells.length; ++i) {\n                    if (nbb_cells[i].input_prompt_number == nbb_cell_id) {\n                        if (nbb_cells[i].get_text() == nbb_unformatted_code) {\n                             nbb_cells[i].set_text(nbb_formatted_code);\n                        }\n                        break;\n                    }\n                }\n            }, 500);\n            ",
      "text/plain": [
       "<IPython.core.display.Javascript object>"
      ]
     },
     "metadata": {},
     "output_type": "display_data"
    }
   ],
   "source": [
    "final_reg_summary_pd.loc[\n",
    "    pd.IndexSlice['C1', 'R5ASIA', 'AR6 Reanalysis|OSCARv3.2|Emissions|CO2|Gross'],\n",
    "    :\n",
    "]"
   ]
  },
  {
   "cell_type": "code",
   "execution_count": 15,
   "metadata": {},
   "outputs": [
    {
     "data": {
      "text/html": [
       "<div>\n",
       "<style scoped>\n",
       "    .dataframe tbody tr th:only-of-type {\n",
       "        vertical-align: middle;\n",
       "    }\n",
       "\n",
       "    .dataframe tbody tr th {\n",
       "        vertical-align: top;\n",
       "    }\n",
       "\n",
       "    .dataframe thead th {\n",
       "        text-align: right;\n",
       "    }\n",
       "</style>\n",
       "<table border=\"1\" class=\"dataframe\">\n",
       "  <thead>\n",
       "    <tr style=\"text-align: right;\">\n",
       "      <th></th>\n",
       "      <th></th>\n",
       "      <th>timeframe</th>\n",
       "      <th>2020-2030</th>\n",
       "      <th>2030-2050</th>\n",
       "      <th>2050-2100</th>\n",
       "    </tr>\n",
       "    <tr>\n",
       "      <th>Category</th>\n",
       "      <th>region</th>\n",
       "      <th>variable</th>\n",
       "      <th></th>\n",
       "      <th></th>\n",
       "      <th></th>\n",
       "    </tr>\n",
       "  </thead>\n",
       "  <tbody>\n",
       "    <tr>\n",
       "      <th>C1</th>\n",
       "      <th>R5ASIA</th>\n",
       "      <th>AR6 Reanalysis|OSCARv3.2|Carbon Removal|Total</th>\n",
       "      <td>7.0% (3.0-17.0)</td>\n",
       "      <td>12.5% (4.0-20.0)</td>\n",
       "      <td>-5.5% (-30.0-18.5)</td>\n",
       "    </tr>\n",
       "    <tr>\n",
       "      <th>C2</th>\n",
       "      <th>R5ASIA</th>\n",
       "      <th>AR6 Reanalysis|OSCARv3.2|Carbon Removal|Total</th>\n",
       "      <td>4.0% (2.0-11.0)</td>\n",
       "      <td>9.0% (4.0-18.25)</td>\n",
       "      <td>27.0% (10.75-32.0)</td>\n",
       "    </tr>\n",
       "    <tr>\n",
       "      <th>C3</th>\n",
       "      <th>R5ASIA</th>\n",
       "      <th>AR6 Reanalysis|OSCARv3.2|Carbon Removal|Total</th>\n",
       "      <td>4.0% (-0.0-15.0)</td>\n",
       "      <td>7.0% (4.0-12.0)</td>\n",
       "      <td>21.0% (11.0-42.0)</td>\n",
       "    </tr>\n",
       "  </tbody>\n",
       "</table>\n",
       "</div>"
      ],
      "text/plain": [
       "timeframe                                                             2020-2030  \\\n",
       "Category region variable                                                          \n",
       "C1       R5ASIA AR6 Reanalysis|OSCARv3.2|Carbon Removal|Total   7.0% (3.0-17.0)   \n",
       "C2       R5ASIA AR6 Reanalysis|OSCARv3.2|Carbon Removal|Total   4.0% (2.0-11.0)   \n",
       "C3       R5ASIA AR6 Reanalysis|OSCARv3.2|Carbon Removal|Total  4.0% (-0.0-15.0)   \n",
       "\n",
       "timeframe                                                             2030-2050  \\\n",
       "Category region variable                                                          \n",
       "C1       R5ASIA AR6 Reanalysis|OSCARv3.2|Carbon Removal|Total  12.5% (4.0-20.0)   \n",
       "C2       R5ASIA AR6 Reanalysis|OSCARv3.2|Carbon Removal|Total  9.0% (4.0-18.25)   \n",
       "C3       R5ASIA AR6 Reanalysis|OSCARv3.2|Carbon Removal|Total   7.0% (4.0-12.0)   \n",
       "\n",
       "timeframe                                                               2050-2100  \n",
       "Category region variable                                                           \n",
       "C1       R5ASIA AR6 Reanalysis|OSCARv3.2|Carbon Removal|Total  -5.5% (-30.0-18.5)  \n",
       "C2       R5ASIA AR6 Reanalysis|OSCARv3.2|Carbon Removal|Total  27.0% (10.75-32.0)  \n",
       "C3       R5ASIA AR6 Reanalysis|OSCARv3.2|Carbon Removal|Total   21.0% (11.0-42.0)  "
      ]
     },
     "execution_count": 15,
     "metadata": {},
     "output_type": "execute_result"
    },
    {
     "data": {
      "application/javascript": "\n            setTimeout(function() {\n                var nbb_cell_id = 15;\n                var nbb_unformatted_code = \"final_reg_summary_pd.loc[\\n    pd.IndexSlice[:, 'R5ASIA', 'AR6 Reanalysis|OSCARv3.2|Carbon Removal|Total'],\\n    :\\n]\";\n                var nbb_formatted_code = \"final_reg_summary_pd.loc[\\n    pd.IndexSlice[:, \\\"R5ASIA\\\", \\\"AR6 Reanalysis|OSCARv3.2|Carbon Removal|Total\\\"], :\\n]\";\n                var nbb_cells = Jupyter.notebook.get_cells();\n                for (var i = 0; i < nbb_cells.length; ++i) {\n                    if (nbb_cells[i].input_prompt_number == nbb_cell_id) {\n                        if (nbb_cells[i].get_text() == nbb_unformatted_code) {\n                             nbb_cells[i].set_text(nbb_formatted_code);\n                        }\n                        break;\n                    }\n                }\n            }, 500);\n            ",
      "text/plain": [
       "<IPython.core.display.Javascript object>"
      ]
     },
     "metadata": {},
     "output_type": "display_data"
    }
   ],
   "source": [
    "final_reg_summary_pd.loc[\n",
    "    pd.IndexSlice[:, 'R5ASIA', 'AR6 Reanalysis|OSCARv3.2|Carbon Removal|Total'],\n",
    "    :\n",
    "]"
   ]
  },
  {
   "cell_type": "markdown",
   "metadata": {},
   "source": [
    "Statement: Patterns for OECD+EU"
   ]
  },
  {
   "cell_type": "code",
   "execution_count": 16,
   "metadata": {},
   "outputs": [
    {
     "data": {
      "text/html": [
       "<div>\n",
       "<style scoped>\n",
       "    .dataframe tbody tr th:only-of-type {\n",
       "        vertical-align: middle;\n",
       "    }\n",
       "\n",
       "    .dataframe tbody tr th {\n",
       "        vertical-align: top;\n",
       "    }\n",
       "\n",
       "    .dataframe thead th {\n",
       "        text-align: right;\n",
       "    }\n",
       "</style>\n",
       "<table border=\"1\" class=\"dataframe\">\n",
       "  <thead>\n",
       "    <tr style=\"text-align: right;\">\n",
       "      <th></th>\n",
       "      <th></th>\n",
       "      <th>timeframe</th>\n",
       "      <th>2020-2030</th>\n",
       "      <th>2030-2050</th>\n",
       "      <th>2050-2100</th>\n",
       "    </tr>\n",
       "    <tr>\n",
       "      <th>Category</th>\n",
       "      <th>region</th>\n",
       "      <th>variable</th>\n",
       "      <th></th>\n",
       "      <th></th>\n",
       "      <th></th>\n",
       "    </tr>\n",
       "  </thead>\n",
       "  <tbody>\n",
       "    <tr>\n",
       "      <th>C1</th>\n",
       "      <th>R5OECD90+EU</th>\n",
       "      <th>AR6 Reanalysis|OSCARv3.2|Carbon Removal|Total</th>\n",
       "      <td>3.0% (2.0-6.0)</td>\n",
       "      <td>21.5% (13.0-33.0)</td>\n",
       "      <td>42.5% (-28.25-73.75)</td>\n",
       "    </tr>\n",
       "    <tr>\n",
       "      <th>C2</th>\n",
       "      <th>R5OECD90+EU</th>\n",
       "      <th>AR6 Reanalysis|OSCARv3.2|Carbon Removal|Total</th>\n",
       "      <td>2.0% (-0.0-4.0)</td>\n",
       "      <td>15.0% (8.75-25.5)</td>\n",
       "      <td>48.0% (34.0-66.0)</td>\n",
       "    </tr>\n",
       "    <tr>\n",
       "      <th>C3</th>\n",
       "      <th>R5OECD90+EU</th>\n",
       "      <th>AR6 Reanalysis|OSCARv3.2|Carbon Removal|Total</th>\n",
       "      <td>2.0% (1.0-4.0)</td>\n",
       "      <td>11.0% (7.0-24.5)</td>\n",
       "      <td>35.0% (24.0-66.0)</td>\n",
       "    </tr>\n",
       "    <tr>\n",
       "      <th>C1</th>\n",
       "      <th>R5OECD90+EU</th>\n",
       "      <th>AR6 Reanalysis|OSCARv3.2|Emissions|CO2|Gross</th>\n",
       "      <td>76.5% (73.0-82.0)</td>\n",
       "      <td>71.0% (62.75-77.0)</td>\n",
       "      <td>52.0% (22.0-105.0)</td>\n",
       "    </tr>\n",
       "    <tr>\n",
       "      <th>C2</th>\n",
       "      <th>R5OECD90+EU</th>\n",
       "      <th>AR6 Reanalysis|OSCARv3.2|Emissions|CO2|Gross</th>\n",
       "      <td>78.0% (75.0-84.0)</td>\n",
       "      <td>73.0% (67.0-79.0)</td>\n",
       "      <td>47.0% (30.75-60.0)</td>\n",
       "    </tr>\n",
       "    <tr>\n",
       "      <th>C3</th>\n",
       "      <th>R5OECD90+EU</th>\n",
       "      <th>AR6 Reanalysis|OSCARv3.2|Emissions|CO2|Gross</th>\n",
       "      <td>74.0% (68.0-78.0)</td>\n",
       "      <td>74.0% (66.0-80.0)</td>\n",
       "      <td>58.0% (29.0-69.0)</td>\n",
       "    </tr>\n",
       "    <tr>\n",
       "      <th>C1</th>\n",
       "      <th>R5OECD90+EU</th>\n",
       "      <th>AR6 Reanalysis|OSCARv3.2|Emissions|NonCO2|Direct Only</th>\n",
       "      <td>17.5% (14.0-23.0)</td>\n",
       "      <td>7.0% (5.0-14.0)</td>\n",
       "      <td>8.0% (2.0-19.25)</td>\n",
       "    </tr>\n",
       "    <tr>\n",
       "      <th>C2</th>\n",
       "      <th>R5OECD90+EU</th>\n",
       "      <th>AR6 Reanalysis|OSCARv3.2|Emissions|NonCO2|Direct Only</th>\n",
       "      <td>18.0% (15.0-21.0)</td>\n",
       "      <td>11.0% (9.0-14.0)</td>\n",
       "      <td>6.0% (2.0-8.0)</td>\n",
       "    </tr>\n",
       "    <tr>\n",
       "      <th>C3</th>\n",
       "      <th>R5OECD90+EU</th>\n",
       "      <th>AR6 Reanalysis|OSCARv3.2|Emissions|NonCO2|Direct Only</th>\n",
       "      <td>23.0% (19.0-28.5)</td>\n",
       "      <td>10.0% (7.0-15.0)</td>\n",
       "      <td>5.0% (2.0-8.0)</td>\n",
       "    </tr>\n",
       "  </tbody>\n",
       "</table>\n",
       "</div>"
      ],
      "text/plain": [
       "timeframe                                                                        2020-2030  \\\n",
       "Category region      variable                                                                \n",
       "C1       R5OECD90+EU AR6 Reanalysis|OSCARv3.2|Carbon Removal|Total          3.0% (2.0-6.0)   \n",
       "C2       R5OECD90+EU AR6 Reanalysis|OSCARv3.2|Carbon Removal|Total         2.0% (-0.0-4.0)   \n",
       "C3       R5OECD90+EU AR6 Reanalysis|OSCARv3.2|Carbon Removal|Total          2.0% (1.0-4.0)   \n",
       "C1       R5OECD90+EU AR6 Reanalysis|OSCARv3.2|Emissions|CO2|Gross        76.5% (73.0-82.0)   \n",
       "C2       R5OECD90+EU AR6 Reanalysis|OSCARv3.2|Emissions|CO2|Gross        78.0% (75.0-84.0)   \n",
       "C3       R5OECD90+EU AR6 Reanalysis|OSCARv3.2|Emissions|CO2|Gross        74.0% (68.0-78.0)   \n",
       "C1       R5OECD90+EU AR6 Reanalysis|OSCARv3.2|Emissions|NonCO2|Direc...  17.5% (14.0-23.0)   \n",
       "C2       R5OECD90+EU AR6 Reanalysis|OSCARv3.2|Emissions|NonCO2|Direc...  18.0% (15.0-21.0)   \n",
       "C3       R5OECD90+EU AR6 Reanalysis|OSCARv3.2|Emissions|NonCO2|Direc...  23.0% (19.0-28.5)   \n",
       "\n",
       "timeframe                                                                         2030-2050  \\\n",
       "Category region      variable                                                                 \n",
       "C1       R5OECD90+EU AR6 Reanalysis|OSCARv3.2|Carbon Removal|Total        21.5% (13.0-33.0)   \n",
       "C2       R5OECD90+EU AR6 Reanalysis|OSCARv3.2|Carbon Removal|Total        15.0% (8.75-25.5)   \n",
       "C3       R5OECD90+EU AR6 Reanalysis|OSCARv3.2|Carbon Removal|Total         11.0% (7.0-24.5)   \n",
       "C1       R5OECD90+EU AR6 Reanalysis|OSCARv3.2|Emissions|CO2|Gross        71.0% (62.75-77.0)   \n",
       "C2       R5OECD90+EU AR6 Reanalysis|OSCARv3.2|Emissions|CO2|Gross         73.0% (67.0-79.0)   \n",
       "C3       R5OECD90+EU AR6 Reanalysis|OSCARv3.2|Emissions|CO2|Gross         74.0% (66.0-80.0)   \n",
       "C1       R5OECD90+EU AR6 Reanalysis|OSCARv3.2|Emissions|NonCO2|Direc...     7.0% (5.0-14.0)   \n",
       "C2       R5OECD90+EU AR6 Reanalysis|OSCARv3.2|Emissions|NonCO2|Direc...    11.0% (9.0-14.0)   \n",
       "C3       R5OECD90+EU AR6 Reanalysis|OSCARv3.2|Emissions|NonCO2|Direc...    10.0% (7.0-15.0)   \n",
       "\n",
       "timeframe                                                                           2050-2100  \n",
       "Category region      variable                                                                  \n",
       "C1       R5OECD90+EU AR6 Reanalysis|OSCARv3.2|Carbon Removal|Total       42.5% (-28.25-73.75)  \n",
       "C2       R5OECD90+EU AR6 Reanalysis|OSCARv3.2|Carbon Removal|Total          48.0% (34.0-66.0)  \n",
       "C3       R5OECD90+EU AR6 Reanalysis|OSCARv3.2|Carbon Removal|Total          35.0% (24.0-66.0)  \n",
       "C1       R5OECD90+EU AR6 Reanalysis|OSCARv3.2|Emissions|CO2|Gross          52.0% (22.0-105.0)  \n",
       "C2       R5OECD90+EU AR6 Reanalysis|OSCARv3.2|Emissions|CO2|Gross          47.0% (30.75-60.0)  \n",
       "C3       R5OECD90+EU AR6 Reanalysis|OSCARv3.2|Emissions|CO2|Gross           58.0% (29.0-69.0)  \n",
       "C1       R5OECD90+EU AR6 Reanalysis|OSCARv3.2|Emissions|NonCO2|Direc...      8.0% (2.0-19.25)  \n",
       "C2       R5OECD90+EU AR6 Reanalysis|OSCARv3.2|Emissions|NonCO2|Direc...        6.0% (2.0-8.0)  \n",
       "C3       R5OECD90+EU AR6 Reanalysis|OSCARv3.2|Emissions|NonCO2|Direc...        5.0% (2.0-8.0)  "
      ]
     },
     "execution_count": 16,
     "metadata": {},
     "output_type": "execute_result"
    },
    {
     "data": {
      "application/javascript": "\n            setTimeout(function() {\n                var nbb_cell_id = 16;\n                var nbb_unformatted_code = \"final_reg_summary_pd.loc[\\n    pd.IndexSlice[:, 'R5OECD90+EU', :],\\n    :\\n].sort_index(level=-1)\";\n                var nbb_formatted_code = \"final_reg_summary_pd.loc[pd.IndexSlice[:, \\\"R5OECD90+EU\\\", :], :].sort_index(level=-1)\";\n                var nbb_cells = Jupyter.notebook.get_cells();\n                for (var i = 0; i < nbb_cells.length; ++i) {\n                    if (nbb_cells[i].input_prompt_number == nbb_cell_id) {\n                        if (nbb_cells[i].get_text() == nbb_unformatted_code) {\n                             nbb_cells[i].set_text(nbb_formatted_code);\n                        }\n                        break;\n                    }\n                }\n            }, 500);\n            ",
      "text/plain": [
       "<IPython.core.display.Javascript object>"
      ]
     },
     "metadata": {},
     "output_type": "display_data"
    }
   ],
   "source": [
    "final_reg_summary_pd.loc[\n",
    "    pd.IndexSlice[:, 'R5OECD90+EU', :],\n",
    "    :\n",
    "].sort_index(level=-1)"
   ]
  },
  {
   "cell_type": "markdown",
   "metadata": {},
   "source": [
    "Statement: Patterns for Latin America"
   ]
  },
  {
   "cell_type": "code",
   "execution_count": 17,
   "metadata": {},
   "outputs": [
    {
     "data": {
      "text/plain": [
       "timeframe\n",
       "2020-2030      18.0% (14.0-28.5)\n",
       "2030-2050      32.0% (22.0-42.0)\n",
       "2050-2100    79.5% (48.75-136.0)\n",
       "Name: (C1, R5LAM, AR6 Reanalysis|OSCARv3.2|Carbon Removal|Total), dtype: object"
      ]
     },
     "execution_count": 17,
     "metadata": {},
     "output_type": "execute_result"
    },
    {
     "data": {
      "application/javascript": "\n            setTimeout(function() {\n                var nbb_cell_id = 17;\n                var nbb_unformatted_code = \"final_reg_summary_pd.loc[\\n    pd.IndexSlice['C1', 'R5LAM', 'AR6 Reanalysis|OSCARv3.2|Carbon Removal|Total'],\\n    :\\n]\";\n                var nbb_formatted_code = \"final_reg_summary_pd.loc[\\n    pd.IndexSlice[\\\"C1\\\", \\\"R5LAM\\\", \\\"AR6 Reanalysis|OSCARv3.2|Carbon Removal|Total\\\"], :\\n]\";\n                var nbb_cells = Jupyter.notebook.get_cells();\n                for (var i = 0; i < nbb_cells.length; ++i) {\n                    if (nbb_cells[i].input_prompt_number == nbb_cell_id) {\n                        if (nbb_cells[i].get_text() == nbb_unformatted_code) {\n                             nbb_cells[i].set_text(nbb_formatted_code);\n                        }\n                        break;\n                    }\n                }\n            }, 500);\n            ",
      "text/plain": [
       "<IPython.core.display.Javascript object>"
      ]
     },
     "metadata": {},
     "output_type": "display_data"
    }
   ],
   "source": [
    "final_reg_summary_pd.loc[\n",
    "    pd.IndexSlice['C1', 'R5LAM', 'AR6 Reanalysis|OSCARv3.2|Carbon Removal|Total'],\n",
    "    :\n",
    "]"
   ]
  }
 ],
 "metadata": {
  "kernelspec": {
   "display_name": "ar6_cdr_assessment",
   "language": "python",
   "name": "python3"
  },
  "language_info": {
   "codemirror_mode": {
    "name": "ipython",
    "version": 3
   },
   "file_extension": ".py",
   "mimetype": "text/x-python",
   "name": "python",
   "nbconvert_exporter": "python",
   "pygments_lexer": "ipython3",
   "version": "3.10.13"
  }
 },
 "nbformat": 4,
 "nbformat_minor": 2
}
